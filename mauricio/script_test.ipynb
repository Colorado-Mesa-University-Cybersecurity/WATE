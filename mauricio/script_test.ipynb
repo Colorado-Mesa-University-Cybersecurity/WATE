{
 "cells": [
  {
   "cell_type": "code",
   "execution_count": 1,
   "metadata": {},
   "outputs": [],
   "source": [
    "import torch\n",
    "import torch.nn as nn\n",
    "import torch.nn.init as init\n",
    "import random\n",
    "import copy\n",
    "from sklearn.model_selection import train_test_split\n",
    "from torch.utils.data import TensorDataset, DataLoader\n",
    "import numpy as np\n",
    "import matplotlib.pyplot as plt\n",
    "import DeepTreeEnsemble\n",
    "import torch.nn.functional as F\n",
    "from importlib import reload\n",
    "import pandas as pd\n",
    "reload(DeepTreeEnsemble)\n",
    "from DeepTreeEnsemble import DeepTreeEnsemble, create_dataloaders_for_dataset \n",
    "# if this ^ doesn't work, try 'pip install -e .' in the root directory of it. Make sure you are in \n",
    "# the desired environment. "
   ]
  },
  {
   "cell_type": "code",
   "execution_count": 9,
   "metadata": {},
   "outputs": [
    {
     "name": "stdout",
     "output_type": "stream",
     "text": [
      "xtrain size 455\n",
      "xtest size 114\n",
      "y_train size 455\n",
      "y_test size 114\n"
     ]
    }
   ],
   "source": [
    "train_dataloader, test_dataloader, input_size, output_size = create_dataloaders_for_dataset(dataset_name='breast_cancer', task='classification', batch_size=32)"
   ]
  },
  {
   "cell_type": "code",
   "execution_count": 10,
   "metadata": {},
   "outputs": [],
   "source": [
    "class MLP(nn.Module):\n",
    "    def __init__(self, input_size, hidden_layers, output_size, dropout=.5):\n",
    "        super(MLP, self).__init__()\n",
    "        self.layers = nn.ModuleList()\n",
    "        self.batch_norms = nn.ModuleList()\n",
    "\n",
    "        # Create the first hidden layer\n",
    "        self.layers.append(nn.Linear(input_size, hidden_layers[0]))\n",
    "        self.batch_norms.append(nn.BatchNorm1d(hidden_layers[0]))\n",
    "\n",
    "        # Create additional hidden layers\n",
    "        for i in range(1, len(hidden_layers)):\n",
    "            self.layers.append(nn.Linear(hidden_layers[i-1], hidden_layers[i]))\n",
    "            self.batch_norms.append(nn.BatchNorm1d(hidden_layers[i]))\n",
    "\n",
    "        # Output layer\n",
    "        self.output = nn.Linear(hidden_layers[-1], output_size)\n",
    "\n",
    "        # Dropout layer\n",
    "        self.dropout = nn.Dropout(dropout)\n",
    "\n",
    "\n",
    "    def forward(self, x):\n",
    "        i = 0\n",
    "        for layer, batch_norm in zip(self.layers, self.batch_norms):\n",
    "            # x = F.relu(batch_norm(layer(x)))\n",
    "            i=i+1\n",
    "            x = self.dropout(x)\n",
    "            # print('Layer dtype: ', layer.weight.dtype)\n",
    "            x = x.to(torch.float32) # <-- area of concern\n",
    "            # print('tensor dytpe: ', x.dtype)\n",
    "            # layer.weight = layer.weight.to(torch.float32)\n",
    "            x = F.relu(batch_norm(layer(x)))\n",
    "            \n",
    "            # print(f'dtype is {x.dtype} after layer {i}')\n",
    "\n",
    "        x = self.output(x)\n",
    "        return x"
   ]
  },
  {
   "cell_type": "code",
   "execution_count": 11,
   "metadata": {},
   "outputs": [],
   "source": [
    "hidden_layers = [25, 25]\n",
    "multiLayerPerceptron = MLP(input_size=input_size, hidden_layers=hidden_layers, output_size=output_size+1, dropout=.5) #hidden size default at 100\n",
    "\n",
    "# Fill DTE params\n",
    "modelSaveDirectory = './saved_models/'\n",
    "DTEmlp4b = DeepTreeEnsemble(task_name='classification',\n",
    "                                model_arch=multiLayerPerceptron,\n",
    "                                model_dir=modelSaveDirectory, \n",
    "                                base_number=4,\n",
    "                                epochs=10,\n",
    "                                train_dataloader=train_dataloader, \n",
    "                                test_dataloader=test_dataloader,\n",
    "                                learning_rate=0.0001)"
   ]
  },
  {
   "cell_type": "code",
   "execution_count": 12,
   "metadata": {},
   "outputs": [],
   "source": [
    "def run_experiment(DTE, trails, output_directory):\n",
    "    results = pd.DataFrame()\n",
    "\n",
    "    for i in range(trails):\n",
    "        df1 = DTE.train_DTE()\n",
    "        df2 = DTE.single_model()\n",
    "        combined_df = pd.concat([df1, df2], axis=1)\n",
    "        results = pd.concat([results, combined_df], axis=0)\n",
    "\n",
    "    results.to_csv(output_directory, index=False)"
   ]
  },
  {
   "cell_type": "code",
   "execution_count": 13,
   "metadata": {},
   "outputs": [
    {
     "name": "stdout",
     "output_type": "stream",
     "text": [
      "Randomly initializing 4 models\n",
      "Training Model with id 1\n",
      "in multi\n"
     ]
    },
    {
     "name": "stderr",
     "output_type": "stream",
     "text": [
      "Training Process: 100%|██████████| 10/10 [00:00<00:00, 12.14it/s]\n"
     ]
    },
    {
     "name": "stdout",
     "output_type": "stream",
     "text": [
      "Total Epochs: 10\n",
      "Train loss start: 1.0790342092514038, Train loss end: 1.052383303642273\n",
      "Highest Mean Train Accuracy (over epoch): 0.3975892857142857\n",
      "Test loss start: 1.0830665826797485, Test loss end: 1.030713677406311\n",
      "Highest mean Test Accuracy (over epoch): 0.39262152777777776\n",
      " Test F1 score at highest accuracy: 0.3594549651297133\n",
      "./saved_models/model_1.pth \n",
      "\n",
      "Training Model with id 2\n",
      "in multi\n"
     ]
    },
    {
     "name": "stderr",
     "output_type": "stream",
     "text": [
      "Training Process: 100%|██████████| 10/10 [00:00<00:00, 20.32it/s]\n"
     ]
    },
    {
     "name": "stdout",
     "output_type": "stream",
     "text": [
      "Total Epochs: 10\n",
      "Train loss start: 1.0080317258834839, Train loss end: 0.9729445576667786\n",
      "Highest Mean Train Accuracy (over epoch): 0.5372321428571428\n",
      "Test loss start: 1.0952141284942627, Test loss end: 1.0682154893875122\n",
      "Highest mean Test Accuracy (over epoch): 0.40503472222222214\n",
      " Test F1 score at highest accuracy: 0.5276389410515813\n",
      "./saved_models/model_2.pth \n",
      "\n",
      "Training Model with id 3\n",
      "in multi\n"
     ]
    },
    {
     "name": "stderr",
     "output_type": "stream",
     "text": [
      "Training Process: 100%|██████████| 10/10 [00:00<00:00, 17.66it/s]\n"
     ]
    },
    {
     "name": "stdout",
     "output_type": "stream",
     "text": [
      "Total Epochs: 10\n",
      "Train loss start: 1.173203945159912, Train loss end: 1.157012701034546\n",
      "Highest Mean Train Accuracy (over epoch): 0.2947916666666667\n",
      "Test loss start: 1.1314364671707153, Test loss end: 1.04606294631958\n",
      "Highest mean Test Accuracy (over epoch): 0.18836805555555555\n",
      " Test F1 score at highest accuracy: 0.27757585066292195\n",
      "./saved_models/model_3.pth \n",
      "\n",
      "Training Model with id 4\n",
      "in multi\n"
     ]
    },
    {
     "name": "stderr",
     "output_type": "stream",
     "text": [
      "Training Process: 100%|██████████| 10/10 [00:00<00:00, 17.52it/s]\n"
     ]
    },
    {
     "name": "stdout",
     "output_type": "stream",
     "text": [
      "Total Epochs: 10\n",
      "Train loss start: 1.1313287019729614, Train loss end: 0.969359278678894\n",
      "Highest Mean Train Accuracy (over epoch): 0.43997023809523816\n",
      "Test loss start: 1.1013141870498657, Test loss end: 1.0705735683441162\n",
      "Highest mean Test Accuracy (over epoch): 0.36996527777777777\n",
      " Test F1 score at highest accuracy: 0.4905333712020382\n",
      "./saved_models/model_4.pth \n",
      "\n",
      "Training Model with id 7\n",
      "in multi\n"
     ]
    },
    {
     "name": "stderr",
     "output_type": "stream",
     "text": [
      "Training Process: 100%|██████████| 10/10 [00:00<00:00, 18.33it/s]\n"
     ]
    },
    {
     "name": "stdout",
     "output_type": "stream",
     "text": [
      "Total Epochs: 10\n",
      "Train loss start: 1.051910400390625, Train loss end: 1.0815922021865845\n",
      "Highest Mean Train Accuracy (over epoch): 0.5972023809523809\n",
      "Test loss start: 1.0640286207199097, Test loss end: 1.007494568824768\n",
      "Highest mean Test Accuracy (over epoch): 0.7196180555555556\n",
      " Test F1 score at highest accuracy: 0.6360544749026426\n",
      "./saved_models/model_7.pth \n",
      "\n",
      "Training Model with id 8\n",
      "in multi\n"
     ]
    },
    {
     "name": "stderr",
     "output_type": "stream",
     "text": [
      "Training Process: 100%|██████████| 10/10 [00:00<00:00, 18.95it/s]\n"
     ]
    },
    {
     "name": "stdout",
     "output_type": "stream",
     "text": [
      "Total Epochs: 10\n",
      "Train loss start: 0.9513234496116638, Train loss end: 0.9888470768928528\n",
      "Highest Mean Train Accuracy (over epoch): 0.7011011904761905\n",
      "Test loss start: 1.0128142833709717, Test loss end: 0.9413833618164062\n",
      "Highest mean Test Accuracy (over epoch): 0.8215060763888888\n",
      " Test F1 score at highest accuracy: 0.7116949892147186\n",
      "./saved_models/model_8.pth \n",
      "\n",
      "Training Model with id 6\n",
      "in multi\n"
     ]
    },
    {
     "name": "stderr",
     "output_type": "stream",
     "text": [
      "Training Process: 100%|██████████| 10/10 [00:00<00:00, 19.12it/s]\n"
     ]
    },
    {
     "name": "stdout",
     "output_type": "stream",
     "text": [
      "Total Epochs: 10\n",
      "Train loss start: 0.8995131254196167, Train loss end: 0.9964978098869324\n",
      "Highest Mean Train Accuracy (over epoch): 0.7534226190476191\n",
      "Test loss start: 0.9673677086830139, Test loss end: 0.912825882434845\n",
      "Highest mean Test Accuracy (over epoch): 0.8706597222222223\n",
      " Test F1 score at highest accuracy: 0.7446422111517457\n",
      "./saved_models/model_6.pth \n",
      "\n",
      " Maximum accuracy: 0.8706597222222223, F1: 0.7446422111517457, Test: 0.9248846143484115, Train: 0.8791351727644603\n",
      "in multi\n"
     ]
    },
    {
     "name": "stderr",
     "output_type": "stream",
     "text": [
      "Training Process: 100%|██████████| 70/70 [00:06<00:00, 10.63it/s]\n"
     ]
    },
    {
     "name": "stdout",
     "output_type": "stream",
     "text": [
      "Total Epochs: 70\n",
      "Train loss start: 1.0294195413589478, Train loss end: 0.8720016479492188\n",
      "Highest Mean Train Accuracy (over epoch): 0.7720790816326532\n",
      "Test loss start: 1.048034429550171, Test loss end: 0.7939224243164062\n",
      "Highest mean Test Accuracy (over epoch): 0.769952876984127\n",
      " Test F1 score at highest accuracy: 0.7723025220593016\n",
      "Randomly initializing 4 models\n",
      "Training Model with id 1\n",
      "in multi\n"
     ]
    },
    {
     "name": "stderr",
     "output_type": "stream",
     "text": [
      "Training Process: 100%|██████████| 10/10 [00:00<00:00, 13.73it/s]\n"
     ]
    },
    {
     "name": "stdout",
     "output_type": "stream",
     "text": [
      "Total Epochs: 10\n",
      "Train loss start: 1.0491197109222412, Train loss end: 0.9322236180305481\n",
      "Highest Mean Train Accuracy (over epoch): 0.6419940476190475\n",
      "Test loss start: 1.048538088798523, Test loss end: 0.9994593858718872\n",
      "Highest mean Test Accuracy (over epoch): 0.726736111111111\n",
      " Test F1 score at highest accuracy: 0.6381459311396793\n",
      "./saved_models/model_1.pth \n",
      "\n",
      "Training Model with id 2\n",
      "in multi\n"
     ]
    },
    {
     "name": "stderr",
     "output_type": "stream",
     "text": [
      "Training Process: 100%|██████████| 10/10 [00:00<00:00, 22.52it/s]\n"
     ]
    },
    {
     "name": "stdout",
     "output_type": "stream",
     "text": [
      "Total Epochs: 10\n",
      "Train loss start: 1.144949197769165, Train loss end: 1.04121994972229\n",
      "Highest Mean Train Accuracy (over epoch): 0.46815476190476196\n",
      "Test loss start: 1.1171669960021973, Test loss end: 1.0745948553085327\n",
      "Highest mean Test Accuracy (over epoch): 0.3310763888888889\n",
      " Test F1 score at highest accuracy: 0.5256460867771242\n",
      "./saved_models/model_2.pth \n",
      "\n",
      "Training Model with id 3\n",
      "in multi\n"
     ]
    },
    {
     "name": "stderr",
     "output_type": "stream",
     "text": [
      "Training Process: 100%|██████████| 10/10 [00:00<00:00, 20.56it/s]\n"
     ]
    },
    {
     "name": "stdout",
     "output_type": "stream",
     "text": [
      "Total Epochs: 10\n",
      "Train loss start: 1.1246201992034912, Train loss end: 1.0689738988876343\n",
      "Highest Mean Train Accuracy (over epoch): 0.43318452380952377\n",
      "Test loss start: 1.0853484869003296, Test loss end: 1.055628776550293\n",
      "Highest mean Test Accuracy (over epoch): 0.5690104166666666\n",
      " Test F1 score at highest accuracy: 0.5269533562692681\n",
      "./saved_models/model_3.pth \n",
      "\n",
      "Training Model with id 4\n",
      "in multi\n"
     ]
    },
    {
     "name": "stderr",
     "output_type": "stream",
     "text": [
      "Training Process: 100%|██████████| 10/10 [00:00<00:00, 21.63it/s]\n"
     ]
    },
    {
     "name": "stdout",
     "output_type": "stream",
     "text": [
      "Total Epochs: 10\n",
      "Train loss start: 1.0693914890289307, Train loss end: 0.9829506278038025\n",
      "Highest Mean Train Accuracy (over epoch): 0.4409226190476191\n",
      "Test loss start: 1.0814045667648315, Test loss end: 0.9486711025238037\n",
      "Highest mean Test Accuracy (over epoch): 0.6690104166666666\n",
      " Test F1 score at highest accuracy: 0.46572348590058327\n",
      "./saved_models/model_4.pth \n",
      "\n",
      "Training Model with id 7\n",
      "in multi\n"
     ]
    },
    {
     "name": "stderr",
     "output_type": "stream",
     "text": [
      "Training Process: 100%|██████████| 10/10 [00:00<00:00, 19.85it/s]\n"
     ]
    },
    {
     "name": "stdout",
     "output_type": "stream",
     "text": [
      "Total Epochs: 10\n",
      "Train loss start: 1.0243030786514282, Train loss end: 0.8712982535362244\n",
      "Highest Mean Train Accuracy (over epoch): 0.5779761904761905\n",
      "Test loss start: 1.030225157737732, Test loss end: 0.9143156409263611\n",
      "Highest mean Test Accuracy (over epoch): 0.8182508680555556\n",
      " Test F1 score at highest accuracy: 0.6013680932157001\n",
      "./saved_models/model_7.pth \n",
      "\n",
      "Training Model with id 8\n",
      "in multi\n"
     ]
    },
    {
     "name": "stderr",
     "output_type": "stream",
     "text": [
      "Training Process: 100%|██████████| 10/10 [00:00<00:00, 19.11it/s]\n"
     ]
    },
    {
     "name": "stdout",
     "output_type": "stream",
     "text": [
      "Total Epochs: 10\n",
      "Train loss start: 0.9994909763336182, Train loss end: 0.8992148041725159\n",
      "Highest Mean Train Accuracy (over epoch): 0.6882440476190476\n",
      "Test loss start: 0.9965842366218567, Test loss end: 0.881775438785553\n",
      "Highest mean Test Accuracy (over epoch): 0.8664930555555556\n",
      " Test F1 score at highest accuracy: 0.7083352229105521\n",
      "./saved_models/model_8.pth \n",
      "\n",
      "Training Model with id 6\n",
      "in multi\n"
     ]
    },
    {
     "name": "stderr",
     "output_type": "stream",
     "text": [
      "Training Process: 100%|██████████| 10/10 [00:00<00:00, 20.44it/s]\n"
     ]
    },
    {
     "name": "stdout",
     "output_type": "stream",
     "text": [
      "Total Epochs: 10\n",
      "Train loss start: 0.9805672764778137, Train loss end: 0.9199685454368591\n",
      "Highest Mean Train Accuracy (over epoch): 0.7681845238095238\n",
      "Test loss start: 0.9528789520263672, Test loss end: 0.8704659938812256\n",
      "Highest mean Test Accuracy (over epoch): 0.890625\n",
      " Test F1 score at highest accuracy: 0.7398781946538667\n",
      "./saved_models/model_6.pth \n",
      "\n",
      " Maximum accuracy: 0.890625, F1: 0.7398781946538667, Test: 0.9056707665324211, Train: 0.8852490528424581\n",
      "in multi\n"
     ]
    },
    {
     "name": "stderr",
     "output_type": "stream",
     "text": [
      "Training Process: 100%|██████████| 70/70 [00:06<00:00, 10.94it/s]\n"
     ]
    },
    {
     "name": "stdout",
     "output_type": "stream",
     "text": [
      "Total Epochs: 70\n",
      "Train loss start: 1.1129486560821533, Train loss end: 0.8044862151145935\n",
      "Highest Mean Train Accuracy (over epoch): 0.6860756802721089\n",
      "Test loss start: 1.115454077720642, Test loss end: 0.8139175772666931\n",
      "Highest mean Test Accuracy (over epoch): 0.7407614087301587\n",
      " Test F1 score at highest accuracy: 0.7381083395412111\n",
      "Randomly initializing 4 models\n",
      "Training Model with id 1\n",
      "in multi\n"
     ]
    },
    {
     "name": "stderr",
     "output_type": "stream",
     "text": [
      "Training Process: 100%|██████████| 10/10 [00:00<00:00, 14.91it/s]\n"
     ]
    },
    {
     "name": "stdout",
     "output_type": "stream",
     "text": [
      "Total Epochs: 10\n",
      "Train loss start: 1.3030167818069458, Train loss end: 1.2768497467041016\n",
      "Highest Mean Train Accuracy (over epoch): 0.08392857142857142\n",
      "Test loss start: 1.152369499206543, Test loss end: 1.1046562194824219\n",
      "Highest mean Test Accuracy (over epoch): 0.06510416666666667\n",
      " Test F1 score at highest accuracy: 0.14564149274586918\n",
      "./saved_models/model_1.pth \n",
      "\n",
      "Training Model with id 2\n",
      "in multi\n"
     ]
    },
    {
     "name": "stderr",
     "output_type": "stream",
     "text": [
      "Training Process: 100%|██████████| 10/10 [00:00<00:00, 20.25it/s]\n"
     ]
    },
    {
     "name": "stdout",
     "output_type": "stream",
     "text": [
      "Total Epochs: 10\n",
      "Train loss start: 1.180806279182434, Train loss end: 1.069429636001587\n",
      "Highest Mean Train Accuracy (over epoch): 0.3070535714285714\n",
      "Test loss start: 1.0864795446395874, Test loss end: 0.9909992218017578\n",
      "Highest mean Test Accuracy (over epoch): 0.5678819444444445\n",
      " Test F1 score at highest accuracy: 0.3824393330281188\n",
      "./saved_models/model_2.pth \n",
      "\n",
      "Training Model with id 3\n",
      "in multi\n"
     ]
    },
    {
     "name": "stderr",
     "output_type": "stream",
     "text": [
      "Training Process: 100%|██████████| 10/10 [00:00<00:00, 20.54it/s]\n"
     ]
    },
    {
     "name": "stdout",
     "output_type": "stream",
     "text": [
      "Total Epochs: 10\n",
      "Train loss start: 1.2208501100540161, Train loss end: 1.1173466444015503\n",
      "Highest Mean Train Accuracy (over epoch): 0.19773809523809524\n",
      "Test loss start: 1.149737000465393, Test loss end: 1.0686334371566772\n",
      "Highest mean Test Accuracy (over epoch): 0.21354166666666669\n",
      " Test F1 score at highest accuracy: 0.25867686634612935\n",
      "./saved_models/model_3.pth \n",
      "\n",
      "Training Model with id 4\n",
      "in multi\n"
     ]
    },
    {
     "name": "stderr",
     "output_type": "stream",
     "text": [
      "Training Process: 100%|██████████| 10/10 [00:00<00:00, 20.46it/s]\n"
     ]
    },
    {
     "name": "stdout",
     "output_type": "stream",
     "text": [
      "Total Epochs: 10\n",
      "Train loss start: 1.1511385440826416, Train loss end: 1.0353296995162964\n",
      "Highest Mean Train Accuracy (over epoch): 0.35639880952380953\n",
      "Test loss start: 1.0589749813079834, Test loss end: 0.9717357158660889\n",
      "Highest mean Test Accuracy (over epoch): 0.4285590277777779\n",
      " Test F1 score at highest accuracy: 0.3573115386291727\n",
      "./saved_models/model_4.pth \n",
      "\n",
      "Training Model with id 7\n",
      "in multi\n"
     ]
    },
    {
     "name": "stderr",
     "output_type": "stream",
     "text": [
      "Training Process: 100%|██████████| 10/10 [00:00<00:00, 20.40it/s]\n"
     ]
    },
    {
     "name": "stdout",
     "output_type": "stream",
     "text": [
      "Total Epochs: 10\n",
      "Train loss start: 1.0600157976150513, Train loss end: 0.9975809454917908\n",
      "Highest Mean Train Accuracy (over epoch): 0.4668154761904762\n",
      "Test loss start: 1.030319094657898, Test loss end: 0.9543007612228394\n",
      "Highest mean Test Accuracy (over epoch): 0.4982638888888889\n",
      " Test F1 score at highest accuracy: 0.4399744091524913\n",
      "./saved_models/model_7.pth \n",
      "\n",
      "Training Model with id 8\n",
      "in multi\n"
     ]
    },
    {
     "name": "stderr",
     "output_type": "stream",
     "text": [
      "Training Process: 100%|██████████| 10/10 [00:00<00:00, 18.88it/s]\n"
     ]
    },
    {
     "name": "stdout",
     "output_type": "stream",
     "text": [
      "Total Epochs: 10\n",
      "Train loss start: 1.0046466588974, Train loss end: 1.04029381275177\n",
      "Highest Mean Train Accuracy (over epoch): 0.5873809523809524\n",
      "Test loss start: 1.0259729623794556, Test loss end: 0.8908351063728333\n",
      "Highest mean Test Accuracy (over epoch): 0.5831597222222221\n",
      " Test F1 score at highest accuracy: 0.6176637704120075\n",
      "./saved_models/model_8.pth \n",
      "\n",
      "Training Model with id 6\n",
      "in multi\n"
     ]
    },
    {
     "name": "stderr",
     "output_type": "stream",
     "text": [
      "Training Process: 100%|██████████| 10/10 [00:00<00:00, 21.21it/s]\n"
     ]
    },
    {
     "name": "stdout",
     "output_type": "stream",
     "text": [
      "Total Epochs: 10\n",
      "Train loss start: 0.8617760539054871, Train loss end: 0.838857114315033\n",
      "Highest Mean Train Accuracy (over epoch): 0.7177380952380952\n",
      "Test loss start: 0.9617966413497925, Test loss end: 0.8689175844192505\n",
      "Highest mean Test Accuracy (over epoch): 0.6396484375\n",
      " Test F1 score at highest accuracy: 0.7352590751555074\n",
      "./saved_models/model_6.pth \n",
      "\n",
      " Maximum accuracy: 0.6396484375, F1: 0.7352590751555074, Test: 0.9353917241096497, Train: 0.9123268127441406\n",
      "in multi\n"
     ]
    },
    {
     "name": "stderr",
     "output_type": "stream",
     "text": [
      "Training Process: 100%|██████████| 70/70 [00:06<00:00, 11.30it/s]\n"
     ]
    },
    {
     "name": "stdout",
     "output_type": "stream",
     "text": [
      "Total Epochs: 70\n",
      "Train loss start: 1.1363039016723633, Train loss end: 0.8053403496742249\n",
      "Highest Mean Train Accuracy (over epoch): 0.7189498299319728\n",
      "Test loss start: 1.0743757486343384, Test loss end: 0.7766040563583374\n",
      "Highest mean Test Accuracy (over epoch): 0.9056423611111111\n",
      " Test F1 score at highest accuracy: 0.7579572878350181\n",
      "Randomly initializing 4 models\n",
      "Training Model with id 1\n",
      "in multi\n"
     ]
    },
    {
     "name": "stderr",
     "output_type": "stream",
     "text": [
      "Training Process: 100%|██████████| 10/10 [00:00<00:00, 17.24it/s]\n"
     ]
    },
    {
     "name": "stdout",
     "output_type": "stream",
     "text": [
      "Total Epochs: 10\n",
      "Train loss start: 1.1025100946426392, Train loss end: 1.2092151641845703\n",
      "Highest Mean Train Accuracy (over epoch): 0.3933333333333333\n",
      "Test loss start: 1.084046483039856, Test loss end: 1.0203250646591187\n",
      "Highest mean Test Accuracy (over epoch): 0.5555555555555556\n",
      " Test F1 score at highest accuracy: 0.48280417683732274\n",
      "./saved_models/model_1.pth \n",
      "\n",
      "Training Model with id 2\n",
      "in multi\n"
     ]
    },
    {
     "name": "stderr",
     "output_type": "stream",
     "text": [
      "Training Process: 100%|██████████| 10/10 [00:00<00:00, 20.34it/s]\n"
     ]
    },
    {
     "name": "stdout",
     "output_type": "stream",
     "text": [
      "Total Epochs: 10\n",
      "Train loss start: 1.1534591913223267, Train loss end: 0.9387965202331543\n",
      "Highest Mean Train Accuracy (over epoch): 0.36889880952380955\n",
      "Test loss start: 1.1089212894439697, Test loss end: 1.0921872854232788\n",
      "Highest mean Test Accuracy (over epoch): 0.3394965277777778\n",
      " Test F1 score at highest accuracy: 0.3312647802290189\n",
      "./saved_models/model_2.pth \n",
      "\n",
      "Training Model with id 3\n",
      "in multi\n"
     ]
    },
    {
     "name": "stderr",
     "output_type": "stream",
     "text": [
      "Training Process: 100%|██████████| 10/10 [00:00<00:00, 20.59it/s]\n"
     ]
    },
    {
     "name": "stdout",
     "output_type": "stream",
     "text": [
      "Total Epochs: 10\n",
      "Train loss start: 1.0752906799316406, Train loss end: 1.011612892150879\n",
      "Highest Mean Train Accuracy (over epoch): 0.46729166666666666\n",
      "Test loss start: 1.0875554084777832, Test loss end: 1.0662121772766113\n",
      "Highest mean Test Accuracy (over epoch): 0.5514756944444444\n",
      " Test F1 score at highest accuracy: 0.5014512063817366\n",
      "./saved_models/model_3.pth \n",
      "\n",
      "Training Model with id 4\n",
      "in multi\n"
     ]
    },
    {
     "name": "stderr",
     "output_type": "stream",
     "text": [
      "Training Process: 100%|██████████| 10/10 [00:00<00:00, 21.67it/s]\n"
     ]
    },
    {
     "name": "stdout",
     "output_type": "stream",
     "text": [
      "Total Epochs: 10\n",
      "Train loss start: 1.0488126277923584, Train loss end: 0.9123455882072449\n",
      "Highest Mean Train Accuracy (over epoch): 0.6145833333333334\n",
      "Test loss start: 1.0441269874572754, Test loss end: 1.0320210456848145\n",
      "Highest mean Test Accuracy (over epoch): 0.5998263888888891\n",
      " Test F1 score at highest accuracy: 0.5177304713436431\n",
      "./saved_models/model_4.pth \n",
      "\n",
      "Training Model with id 7\n",
      "in multi\n"
     ]
    },
    {
     "name": "stderr",
     "output_type": "stream",
     "text": [
      "Training Process: 100%|██████████| 10/10 [00:00<00:00, 21.55it/s]\n"
     ]
    },
    {
     "name": "stdout",
     "output_type": "stream",
     "text": [
      "Total Epochs: 10\n",
      "Train loss start: 0.9535239338874817, Train loss end: 0.777781069278717\n",
      "Highest Mean Train Accuracy (over epoch): 0.6514508928571429\n",
      "Test loss start: 0.9912155270576477, Test loss end: 0.9734985828399658\n",
      "Highest mean Test Accuracy (over epoch): 0.6029513888888889\n",
      " Test F1 score at highest accuracy: 0.5560380440061601\n",
      "./saved_models/model_7.pth \n",
      "\n",
      "Training Model with id 8\n",
      "in multi\n"
     ]
    },
    {
     "name": "stderr",
     "output_type": "stream",
     "text": [
      "Training Process: 100%|██████████| 10/10 [00:00<00:00, 14.30it/s]\n"
     ]
    },
    {
     "name": "stdout",
     "output_type": "stream",
     "text": [
      "Total Epochs: 10\n",
      "Train loss start: 0.8969926238059998, Train loss end: 0.9168488383293152\n",
      "Highest Mean Train Accuracy (over epoch): 0.6825595238095237\n",
      "Test loss start: 0.9530746936798096, Test loss end: 0.9216015338897705\n",
      "Highest mean Test Accuracy (over epoch): 0.6464409722222222\n",
      " Test F1 score at highest accuracy: 0.6098363769420833\n",
      "./saved_models/model_8.pth \n",
      "\n",
      "Training Model with id 6\n",
      "in multi\n"
     ]
    },
    {
     "name": "stderr",
     "output_type": "stream",
     "text": [
      "Training Process: 100%|██████████| 10/10 [00:00<00:00, 19.23it/s]\n"
     ]
    },
    {
     "name": "stdout",
     "output_type": "stream",
     "text": [
      "Total Epochs: 10\n",
      "Train loss start: 0.9364193081855774, Train loss end: 0.8858102560043335\n",
      "Highest Mean Train Accuracy (over epoch): 0.7149107142857143\n",
      "Test loss start: 0.9067928791046143, Test loss end: 0.8634353280067444\n",
      "Highest mean Test Accuracy (over epoch): 0.7730034722222222\n",
      " Test F1 score at highest accuracy: 0.6540505714438499\n",
      "./saved_models/model_6.pth \n",
      "\n",
      " Maximum accuracy: 0.7730034722222222, F1: 0.6540505714438499, Test: 0.88150345236063, Train: 0.8652856604258219\n",
      "in multi\n"
     ]
    },
    {
     "name": "stderr",
     "output_type": "stream",
     "text": [
      "Training Process: 100%|██████████| 70/70 [00:05<00:00, 12.29it/s]\n"
     ]
    },
    {
     "name": "stdout",
     "output_type": "stream",
     "text": [
      "Total Epochs: 70\n",
      "Train loss start: 1.2098385095596313, Train loss end: 0.7739476561546326\n",
      "Highest Mean Train Accuracy (over epoch): 0.5544472789115646\n",
      "Test loss start: 1.1252331733703613, Test loss end: 0.8801605105400085\n",
      "Highest mean Test Accuracy (over epoch): 0.6230530753968254\n",
      " Test F1 score at highest accuracy: 0.6129347469458692\n",
      "Randomly initializing 4 models\n",
      "Training Model with id 1\n",
      "in multi\n"
     ]
    },
    {
     "name": "stderr",
     "output_type": "stream",
     "text": [
      "Training Process: 100%|██████████| 10/10 [00:00<00:00, 15.48it/s]\n"
     ]
    },
    {
     "name": "stdout",
     "output_type": "stream",
     "text": [
      "Total Epochs: 10\n",
      "Train loss start: 1.098135232925415, Train loss end: 0.9359225034713745\n",
      "Highest Mean Train Accuracy (over epoch): 0.5215178571428573\n",
      "Test loss start: 1.0743309259414673, Test loss end: 1.0122240781784058\n",
      "Highest mean Test Accuracy (over epoch): 0.6517361111111111\n",
      " Test F1 score at highest accuracy: 0.5631280865616553\n",
      "./saved_models/model_1.pth \n",
      "\n",
      "Training Model with id 2\n",
      "in multi\n"
     ]
    },
    {
     "name": "stderr",
     "output_type": "stream",
     "text": [
      "Training Process: 100%|██████████| 10/10 [00:00<00:00, 16.52it/s]\n"
     ]
    },
    {
     "name": "stdout",
     "output_type": "stream",
     "text": [
      "Total Epochs: 10\n",
      "Train loss start: 1.1390957832336426, Train loss end: 1.1161413192749023\n",
      "Highest Mean Train Accuracy (over epoch): 0.2936309523809524\n",
      "Test loss start: 1.132878065109253, Test loss end: 1.1177823543548584\n",
      "Highest mean Test Accuracy (over epoch): 0.22456597222222224\n",
      " Test F1 score at highest accuracy: 0.37088952651246815\n",
      "./saved_models/model_2.pth \n",
      "\n",
      "Training Model with id 3\n",
      "in multi\n"
     ]
    },
    {
     "name": "stderr",
     "output_type": "stream",
     "text": [
      "Training Process: 100%|██████████| 10/10 [00:00<00:00, 18.55it/s]\n"
     ]
    },
    {
     "name": "stdout",
     "output_type": "stream",
     "text": [
      "Total Epochs: 10\n",
      "Train loss start: 1.1028918027877808, Train loss end: 1.124151349067688\n",
      "Highest Mean Train Accuracy (over epoch): 0.47815476190476197\n",
      "Test loss start: 1.0507664680480957, Test loss end: 1.0232014656066895\n",
      "Highest mean Test Accuracy (over epoch): 0.6467013888888888\n",
      " Test F1 score at highest accuracy: 0.4570251612981912\n",
      "./saved_models/model_3.pth \n",
      "\n",
      "Training Model with id 4\n",
      "in multi\n"
     ]
    },
    {
     "name": "stderr",
     "output_type": "stream",
     "text": [
      "Training Process: 100%|██████████| 10/10 [00:00<00:00, 20.08it/s]\n"
     ]
    },
    {
     "name": "stdout",
     "output_type": "stream",
     "text": [
      "Total Epochs: 10\n",
      "Train loss start: 1.0276753902435303, Train loss end: 0.9033360481262207\n",
      "Highest Mean Train Accuracy (over epoch): 0.5468452380952381\n",
      "Test loss start: 1.0728228092193604, Test loss end: 1.0932109355926514\n",
      "Highest mean Test Accuracy (over epoch): 0.5690972222222221\n",
      " Test F1 score at highest accuracy: 0.4961168057042915\n",
      "./saved_models/model_4.pth \n",
      "\n",
      "Training Model with id 7\n",
      "in multi\n"
     ]
    },
    {
     "name": "stderr",
     "output_type": "stream",
     "text": [
      "Training Process: 100%|██████████| 10/10 [00:00<00:00, 14.02it/s]\n"
     ]
    },
    {
     "name": "stdout",
     "output_type": "stream",
     "text": [
      "Total Epochs: 10\n",
      "Train loss start: 1.0249395370483398, Train loss end: 0.9022518992424011\n",
      "Highest Mean Train Accuracy (over epoch): 0.5969940476190476\n",
      "Test loss start: 1.003280520439148, Test loss end: 1.0594555139541626\n",
      "Highest mean Test Accuracy (over epoch): 0.6041666666666667\n",
      " Test F1 score at highest accuracy: 0.5298730185712857\n",
      "./saved_models/model_7.pth \n",
      "\n",
      "Training Model with id 8\n",
      "in multi\n"
     ]
    },
    {
     "name": "stderr",
     "output_type": "stream",
     "text": [
      "Training Process: 100%|██████████| 10/10 [00:00<00:00, 14.54it/s]\n"
     ]
    },
    {
     "name": "stdout",
     "output_type": "stream",
     "text": [
      "Total Epochs: 10\n",
      "Train loss start: 0.9441336393356323, Train loss end: 0.9405580163002014\n",
      "Highest Mean Train Accuracy (over epoch): 0.6350892857142857\n",
      "Test loss start: 0.9765018820762634, Test loss end: 1.0124828815460205\n",
      "Highest mean Test Accuracy (over epoch): 0.6390625\n",
      " Test F1 score at highest accuracy: 0.5705670241300325\n",
      "./saved_models/model_8.pth \n",
      "\n",
      "Training Model with id 6\n",
      "in multi\n"
     ]
    },
    {
     "name": "stderr",
     "output_type": "stream",
     "text": [
      "Training Process: 100%|██████████| 10/10 [00:00<00:00, 15.39it/s]\n"
     ]
    },
    {
     "name": "stdout",
     "output_type": "stream",
     "text": [
      "Total Epochs: 10\n",
      "Train loss start: 0.8539381623268127, Train loss end: 0.7479490041732788\n",
      "Highest Mean Train Accuracy (over epoch): 0.6909523809523809\n",
      "Test loss start: 0.9430342316627502, Test loss end: 0.9682461619377136\n",
      "Highest mean Test Accuracy (over epoch): 0.6765625\n",
      " Test F1 score at highest accuracy: 0.6445920261057289\n",
      "./saved_models/model_6.pth \n",
      "\n",
      " Maximum accuracy: 0.6765625, F1: 0.6445920261057289, Test: 0.924060371518135, Train: 0.888720017671585\n",
      "in multi\n"
     ]
    },
    {
     "name": "stderr",
     "output_type": "stream",
     "text": [
      "Training Process: 100%|██████████| 70/70 [00:06<00:00, 10.79it/s]"
     ]
    },
    {
     "name": "stdout",
     "output_type": "stream",
     "text": [
      "Total Epochs: 70\n",
      "Train loss start: 1.1321748495101929, Train loss end: 0.7479714751243591\n",
      "Highest Mean Train Accuracy (over epoch): 0.7585586734693879\n",
      "Test loss start: 1.039901614189148, Test loss end: 0.7266463041305542\n",
      "Highest mean Test Accuracy (over epoch): 0.818390376984127\n",
      " Test F1 score at highest accuracy: 0.7644566259957994\n"
     ]
    },
    {
     "name": "stderr",
     "output_type": "stream",
     "text": [
      "\n"
     ]
    }
   ],
   "source": [
    "output_directory = './output.csv'\n",
    "run_experiment(DTEmlp4b, trails=5, output_directory=output_directory)"
   ]
  },
  {
   "cell_type": "code",
   "execution_count": 8,
   "metadata": {},
   "outputs": [],
   "source": [
    "hidden_layers = [25, 25]\n",
    "multiLayerPerceptron = MLP(input_size=input_size, hidden_layers=hidden_layers, output_size=output_size+1, dropout=.5) #hidden size default at 100\n",
    "\n",
    "# Fill DTE params\n",
    "modelSaveDirectory = './saved_models/'\n",
    "DTEmlp8b = DeepTreeEnsemble(task_name='classification',\n",
    "                                model_arch=multiLayerPerceptron,\n",
    "                                model_dir=modelSaveDirectory, \n",
    "                                base_number=4,\n",
    "                                epochs=10,\n",
    "                                train_dataloader=train_dataloader, \n",
    "                                test_dataloader=test_dataloader,\n",
    "                                learning_rate=0.0001)"
   ]
  },
  {
   "cell_type": "code",
   "execution_count": 4,
   "metadata": {},
   "outputs": [
    {
     "ename": "NameError",
     "evalue": "name 'DTEmlp8b' is not defined",
     "output_type": "error",
     "traceback": [
      "\u001b[0;31m---------------------------------------------------------------------------\u001b[0m",
      "\u001b[0;31mNameError\u001b[0m                                 Traceback (most recent call last)",
      "Cell \u001b[0;32mIn[4], line 2\u001b[0m\n\u001b[1;32m      1\u001b[0m output_directory \u001b[38;5;241m=\u001b[39m \u001b[38;5;124m'\u001b[39m\u001b[38;5;124m./outputBase8.csv\u001b[39m\u001b[38;5;124m'\u001b[39m\n\u001b[0;32m----> 2\u001b[0m run_experiment(\u001b[43mDTEmlp8b\u001b[49m, trails\u001b[38;5;241m=\u001b[39m\u001b[38;5;241m5\u001b[39m, output_directory\u001b[38;5;241m=\u001b[39moutput_directory)\n",
      "\u001b[0;31mNameError\u001b[0m: name 'DTEmlp8b' is not defined"
     ]
    }
   ],
   "source": [
    "output_directory = './outputBase8.csv'\n",
    "run_experiment(DTEmlp8b, trails=5, output_directory=output_directory)"
   ]
  },
  {
   "cell_type": "code",
   "execution_count": null,
   "metadata": {},
   "outputs": [],
   "source": []
  }
 ],
 "metadata": {
  "kernelspec": {
   "display_name": "vit",
   "language": "python",
   "name": "python3"
  },
  "language_info": {
   "codemirror_mode": {
    "name": "ipython",
    "version": 3
   },
   "file_extension": ".py",
   "mimetype": "text/x-python",
   "name": "python",
   "nbconvert_exporter": "python",
   "pygments_lexer": "ipython3",
   "version": "3.12.2"
  }
 },
 "nbformat": 4,
 "nbformat_minor": 2
}
