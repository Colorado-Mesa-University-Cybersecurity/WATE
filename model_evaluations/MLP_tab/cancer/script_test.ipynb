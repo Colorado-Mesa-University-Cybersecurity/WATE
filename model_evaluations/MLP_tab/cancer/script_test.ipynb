{
 "cells": [
  {
   "cell_type": "code",
   "execution_count": 2,
   "metadata": {},
   "outputs": [],
   "source": [
    "import torch\n",
    "import torch.nn as nn\n",
    "import torch.nn.init as init\n",
    "import random\n",
    "import copy\n",
    "from sklearn.model_selection import train_test_split\n",
    "from torch.utils.data import TensorDataset, DataLoader\n",
    "import numpy as np\n",
    "import matplotlib.pyplot as plt\n",
    "import DeepTreeEnsemble\n",
    "import torch.nn.functional as F\n",
    "from importlib import reload\n",
    "import pandas as pd\n",
    "reload(DeepTreeEnsemble)\n",
    "from DeepTreeEnsemble import DeepTreeEnsemble, create_dataloaders_for_dataset \n",
    "# if this ^ doesn't work, try 'pip install -e .' in the root directory of it. Make sure you are in \n",
    "# the desired environment. "
   ]
  },
  {
   "cell_type": "code",
   "execution_count": 3,
   "metadata": {},
   "outputs": [
    {
     "name": "stdout",
     "output_type": "stream",
     "text": [
      "xtrain size 455\n",
      "xtest size 114\n",
      "y_train size 455\n",
      "y_test size 114\n"
     ]
    }
   ],
   "source": [
    "train_dataloader, test_dataloader, input_size, output_size = create_dataloaders_for_dataset(dataset_name='breast_cancer', task='classification', batch_size=32)"
   ]
  },
  {
   "cell_type": "code",
   "execution_count": 4,
   "metadata": {},
   "outputs": [],
   "source": [
    "class MLP(nn.Module):\n",
    "    def __init__(self, input_size, hidden_layers, output_size, dropout=.5):\n",
    "        super(MLP, self).__init__()\n",
    "        self.layers = nn.ModuleList()\n",
    "        self.batch_norms = nn.ModuleList()\n",
    "\n",
    "        # Create the first hidden layer\n",
    "        self.layers.append(nn.Linear(input_size, hidden_layers[0]))\n",
    "        self.batch_norms.append(nn.BatchNorm1d(hidden_layers[0]))\n",
    "\n",
    "        # Create additional hidden layers\n",
    "        for i in range(1, len(hidden_layers)):\n",
    "            self.layers.append(nn.Linear(hidden_layers[i-1], hidden_layers[i]))\n",
    "            self.batch_norms.append(nn.BatchNorm1d(hidden_layers[i]))\n",
    "\n",
    "        # Output layer\n",
    "        self.output = nn.Linear(hidden_layers[-1], output_size)\n",
    "\n",
    "        # Dropout layer\n",
    "        self.dropout = nn.Dropout(dropout)\n",
    "\n",
    "\n",
    "    def forward(self, x):\n",
    "        i = 0\n",
    "        for layer, batch_norm in zip(self.layers, self.batch_norms):\n",
    "            # x = F.relu(batch_norm(layer(x)))\n",
    "            i=i+1\n",
    "            x = self.dropout(x)\n",
    "            # print('Layer dtype: ', layer.weight.dtype)\n",
    "            x = x.to(torch.float32) # <-- area of concern\n",
    "            # print('tensor dytpe: ', x.dtype)\n",
    "            # layer.weight = layer.weight.to(torch.float32)\n",
    "            x = F.relu(batch_norm(layer(x)))\n",
    "            \n",
    "            # print(f'dtype is {x.dtype} after layer {i}')\n",
    "\n",
    "        x = self.output(x)\n",
    "        return x"
   ]
  },
  {
   "cell_type": "code",
   "execution_count": 5,
   "metadata": {},
   "outputs": [],
   "source": [
    "hidden_layers = [25, 25]\n",
    "multiLayerPerceptron = MLP(input_size=input_size, hidden_layers=hidden_layers, output_size=output_size+1, dropout=.5) #hidden size default at 100\n",
    "\n",
    "# Fill DTE params\n",
    "modelSaveDirectory = './saved_models/'\n",
    "DTEmlp4b = DeepTreeEnsemble(task_name='classification',\n",
    "                                model_arch=multiLayerPerceptron,\n",
    "                                model_dir=modelSaveDirectory, \n",
    "                                base_number=4,\n",
    "                                epochs=10,\n",
    "                                train_dataloader=train_dataloader, \n",
    "                                test_dataloader=test_dataloader,\n",
    "                                learning_rate=0.0001)"
   ]
  },
  {
   "cell_type": "code",
   "execution_count": 6,
   "metadata": {},
   "outputs": [],
   "source": [
    "def run_experiment(DTE, trails, output_directory):\n",
    "    results = pd.DataFrame()\n",
    "\n",
    "    for i in range(trails):\n",
    "        print(f'Trail {i}: \\n')\n",
    "        df1 = DTE.train_DTE()\n",
    "        df2 = DTE.single_model()\n",
    "        combined_df = pd.concat([df1, df2], axis=1)\n",
    "        results = pd.concat([results, combined_df], axis=0)\n",
    "\n",
    "    results.to_csv(output_directory, index=False)"
   ]
  },
  {
   "cell_type": "code",
   "execution_count": null,
   "metadata": {},
   "outputs": [],
   "source": [
    "output_directory = './output.csv'\n",
    "run_experiment(DTEmlp4b, trails=5, output_directory=output_directory)"
   ]
  },
  {
   "cell_type": "code",
   "execution_count": 8,
   "metadata": {},
   "outputs": [],
   "source": [
    "hidden_layers = [25, 25]\n",
    "multiLayerPerceptron = MLP(input_size=input_size, hidden_layers=hidden_layers, output_size=output_size+1, dropout=.5) #hidden size default at 100\n",
    "\n",
    "# Fill DTE params\n",
    "modelSaveDirectory = './saved_models/'\n",
    "DTEmlp8b = DeepTreeEnsemble(task_name='classification',\n",
    "                                model_arch=multiLayerPerceptron,\n",
    "                                model_dir=modelSaveDirectory, \n",
    "                                base_number=4,\n",
    "                                epochs=10,\n",
    "                                train_dataloader=train_dataloader, \n",
    "                                test_dataloader=test_dataloader,\n",
    "                                learning_rate=0.0001)"
   ]
  },
  {
   "cell_type": "code",
   "execution_count": 12,
   "metadata": {},
   "outputs": [
    {
     "name": "stdout",
     "output_type": "stream",
     "text": [
      "Randomly initializing 4 models\n",
      "Training Model with id 1\n",
      "in multi\n"
     ]
    },
    {
     "name": "stderr",
     "output_type": "stream",
     "text": [
      "Training Process:   0%|          | 0/10 [00:00<?, ?it/s]"
     ]
    },
    {
     "name": "stderr",
     "output_type": "stream",
     "text": [
      "Training Process: 100%|██████████| 10/10 [00:00<00:00, 12.51it/s]\n"
     ]
    },
    {
     "name": "stdout",
     "output_type": "stream",
     "text": [
      "Total Epochs: 10\n",
      "Train loss start: 1.1862322092056274, Train loss end: 1.1452547311782837\n",
      "Highest Mean Train Accuracy (over epoch): 0.2455952380952381\n",
      "Test loss start: 1.1184672117233276, Test loss end: 1.0856622457504272\n",
      "Highest mean Test Accuracy (over epoch): 0.21831597222222224\n",
      " Test F1 score at highest accuracy: 0.34836603710719377\n",
      "./saved_models/model_1.pth \n",
      "\n",
      "Training Model with id 2\n",
      "in multi\n"
     ]
    },
    {
     "name": "stderr",
     "output_type": "stream",
     "text": [
      "Training Process: 100%|██████████| 10/10 [00:00<00:00, 18.98it/s]\n"
     ]
    },
    {
     "name": "stdout",
     "output_type": "stream",
     "text": [
      "Total Epochs: 10\n",
      "Train loss start: 1.0852738618850708, Train loss end: 1.0730350017547607\n",
      "Highest Mean Train Accuracy (over epoch): 0.42\n",
      "Test loss start: 1.1036908626556396, Test loss end: 1.0628572702407837\n",
      "Highest mean Test Accuracy (over epoch): 0.3755208333333333\n",
      " Test F1 score at highest accuracy: 0.4520361939996198\n",
      "./saved_models/model_2.pth \n",
      "\n",
      "Training Model with id 3\n",
      "in multi\n"
     ]
    },
    {
     "name": "stderr",
     "output_type": "stream",
     "text": [
      "Training Process: 100%|██████████| 10/10 [00:00<00:00, 19.31it/s]\n"
     ]
    },
    {
     "name": "stdout",
     "output_type": "stream",
     "text": [
      "Total Epochs: 10\n",
      "Train loss start: 1.107895851135254, Train loss end: 1.0679309368133545\n",
      "Highest Mean Train Accuracy (over epoch): 0.5204166666666666\n",
      "Test loss start: 1.04454505443573, Test loss end: 1.0310816764831543\n",
      "Highest mean Test Accuracy (over epoch): 0.6748263888888889\n",
      " Test F1 score at highest accuracy: 0.5732600554174898\n",
      "./saved_models/model_3.pth \n",
      "\n",
      "Training Model with id 4\n",
      "in multi\n"
     ]
    },
    {
     "name": "stderr",
     "output_type": "stream",
     "text": [
      "Training Process: 100%|██████████| 10/10 [00:00<00:00, 20.41it/s]\n"
     ]
    },
    {
     "name": "stdout",
     "output_type": "stream",
     "text": [
      "Total Epochs: 10\n",
      "Train loss start: 1.0725244283676147, Train loss end: 1.0835379362106323\n",
      "Highest Mean Train Accuracy (over epoch): 0.38360119047619046\n",
      "Test loss start: 1.0949965715408325, Test loss end: 1.0809125900268555\n",
      "Highest mean Test Accuracy (over epoch): 0.3631944444444445\n",
      " Test F1 score at highest accuracy: 0.42662418860051277\n",
      "./saved_models/model_4.pth \n",
      "\n",
      "Training Model with id 7\n",
      "in multi\n"
     ]
    },
    {
     "name": "stderr",
     "output_type": "stream",
     "text": [
      "Training Process: 100%|██████████| 10/10 [00:00<00:00, 19.03it/s]\n"
     ]
    },
    {
     "name": "stdout",
     "output_type": "stream",
     "text": [
      "Total Epochs: 10\n",
      "Train loss start: 1.0644291639328003, Train loss end: 0.9257469773292542\n",
      "Highest Mean Train Accuracy (over epoch): 0.5288988095238094\n",
      "Test loss start: 1.0495507717132568, Test loss end: 1.0382142066955566\n",
      "Highest mean Test Accuracy (over epoch): 0.6352430555555555\n",
      " Test F1 score at highest accuracy: 0.5747086272247394\n",
      "./saved_models/model_7.pth \n",
      "\n",
      "Training Model with id 8\n",
      "in multi\n"
     ]
    },
    {
     "name": "stderr",
     "output_type": "stream",
     "text": [
      "Training Process: 100%|██████████| 10/10 [00:00<00:00, 19.70it/s]\n"
     ]
    },
    {
     "name": "stdout",
     "output_type": "stream",
     "text": [
      "Total Epochs: 10\n",
      "Train loss start: 0.9543796181678772, Train loss end: 0.9278274178504944\n",
      "Highest Mean Train Accuracy (over epoch): 0.6601785714285714\n",
      "Test loss start: 1.0236520767211914, Test loss end: 0.9871928691864014\n",
      "Highest mean Test Accuracy (over epoch): 0.8003472222222221\n",
      " Test F1 score at highest accuracy: 0.686780220023615\n",
      "./saved_models/model_8.pth \n",
      "\n",
      "Training Model with id 6\n",
      "in multi\n"
     ]
    },
    {
     "name": "stderr",
     "output_type": "stream",
     "text": [
      "Training Process: 100%|██████████| 10/10 [00:00<00:00, 15.90it/s]\n"
     ]
    },
    {
     "name": "stdout",
     "output_type": "stream",
     "text": [
      "Total Epochs: 10\n",
      "Train loss start: 0.921493411064148, Train loss end: 0.9010440707206726\n",
      "Highest Mean Train Accuracy (over epoch): 0.7440178571428572\n",
      "Test loss start: 0.9771264791488647, Test loss end: 0.9434187412261963\n",
      "Highest mean Test Accuracy (over epoch): 0.8932291666666667\n",
      " Test F1 score at highest accuracy: 0.7367689734153434\n",
      "./saved_models/model_6.pth \n",
      "\n",
      " Maximum accuracy: 0.8932291666666667, F1: 0.7367689734153434, Test: 0.9609896153211593, Train: 0.902482521533966\n",
      "in multi\n"
     ]
    },
    {
     "name": "stderr",
     "output_type": "stream",
     "text": [
      "Training Process: 100%|██████████| 70/70 [00:06<00:00, 10.21it/s]\n"
     ]
    },
    {
     "name": "stdout",
     "output_type": "stream",
     "text": [
      "Total Epochs: 70\n",
      "Train loss start: 1.1164416074752808, Train loss end: 0.8566479682922363\n",
      "Highest Mean Train Accuracy (over epoch): 0.7231462585034014\n",
      "Test loss start: 1.0803135633468628, Test loss end: 0.8274142742156982\n",
      "Highest mean Test Accuracy (over epoch): 0.7707341269841269\n",
      " Test F1 score at highest accuracy: 0.7482233788198271\n",
      "Randomly initializing 4 models\n",
      "Training Model with id 1\n",
      "in multi\n"
     ]
    },
    {
     "name": "stderr",
     "output_type": "stream",
     "text": [
      "Training Process: 100%|██████████| 10/10 [00:00<00:00, 14.89it/s]\n"
     ]
    },
    {
     "name": "stdout",
     "output_type": "stream",
     "text": [
      "Total Epochs: 10\n",
      "Train loss start: 1.1945031881332397, Train loss end: 1.162976861000061\n",
      "Highest Mean Train Accuracy (over epoch): 0.2519940476190476\n",
      "Test loss start: 1.0976372957229614, Test loss end: 1.0808641910552979\n",
      "Highest mean Test Accuracy (over epoch): 0.47769097222222223\n",
      " Test F1 score at highest accuracy: 0.26230895862907594\n",
      "./saved_models/model_1.pth \n",
      "\n",
      "Training Model with id 2\n",
      "in multi\n"
     ]
    },
    {
     "name": "stderr",
     "output_type": "stream",
     "text": [
      "Training Process: 100%|██████████| 10/10 [00:00<00:00, 15.67it/s]\n"
     ]
    },
    {
     "name": "stdout",
     "output_type": "stream",
     "text": [
      "Total Epochs: 10\n",
      "Train loss start: 1.1142146587371826, Train loss end: 1.0903198719024658\n",
      "Highest Mean Train Accuracy (over epoch): 0.35285714285714287\n",
      "Test loss start: 1.1187430620193481, Test loss end: 1.0913970470428467\n",
      "Highest mean Test Accuracy (over epoch): 0.18932291666666667\n",
      " Test F1 score at highest accuracy: 0.42594103288928814\n",
      "./saved_models/model_2.pth \n",
      "\n",
      "Training Model with id 3\n",
      "in multi\n"
     ]
    },
    {
     "name": "stderr",
     "output_type": "stream",
     "text": [
      "Training Process: 100%|██████████| 10/10 [00:00<00:00, 21.71it/s]\n"
     ]
    },
    {
     "name": "stdout",
     "output_type": "stream",
     "text": [
      "Total Epochs: 10\n",
      "Train loss start: 1.0982117652893066, Train loss end: 0.9452563524246216\n",
      "Highest Mean Train Accuracy (over epoch): 0.48372023809523806\n",
      "Test loss start: 1.1227761507034302, Test loss end: 1.0577489137649536\n",
      "Highest mean Test Accuracy (over epoch): 0.32699652777777777\n",
      " Test F1 score at highest accuracy: 0.4867926616263636\n",
      "./saved_models/model_3.pth \n",
      "\n",
      "Training Model with id 4\n",
      "in multi\n"
     ]
    },
    {
     "name": "stderr",
     "output_type": "stream",
     "text": [
      "Training Process: 100%|██████████| 10/10 [00:00<00:00, 12.96it/s]\n"
     ]
    },
    {
     "name": "stdout",
     "output_type": "stream",
     "text": [
      "Total Epochs: 10\n",
      "Train loss start: 1.1466928720474243, Train loss end: 1.0809916257858276\n",
      "Highest Mean Train Accuracy (over epoch): 0.4213095238095238\n",
      "Test loss start: 1.0864570140838623, Test loss end: 1.0385855436325073\n",
      "Highest mean Test Accuracy (over epoch): 0.560763888888889\n",
      " Test F1 score at highest accuracy: 0.4900584977261457\n",
      "./saved_models/model_4.pth \n",
      "\n",
      "Training Model with id 7\n",
      "in multi\n"
     ]
    },
    {
     "name": "stderr",
     "output_type": "stream",
     "text": [
      "Training Process: 100%|██████████| 10/10 [00:00<00:00, 21.28it/s]\n"
     ]
    },
    {
     "name": "stdout",
     "output_type": "stream",
     "text": [
      "Total Epochs: 10\n",
      "Train loss start: 1.0310797691345215, Train loss end: 1.115881085395813\n",
      "Highest Mean Train Accuracy (over epoch): 0.5966369047619048\n",
      "Test loss start: 1.0426063537597656, Test loss end: 0.9848918914794922\n",
      "Highest mean Test Accuracy (over epoch): 0.7375578703703703\n",
      " Test F1 score at highest accuracy: 0.583575729945755\n",
      "./saved_models/model_7.pth \n",
      "\n",
      "Training Model with id 8\n",
      "in multi\n"
     ]
    },
    {
     "name": "stderr",
     "output_type": "stream",
     "text": [
      "Training Process: 100%|██████████| 10/10 [00:00<00:00, 20.60it/s]\n"
     ]
    },
    {
     "name": "stdout",
     "output_type": "stream",
     "text": [
      "Total Epochs: 10\n",
      "Train loss start: 0.9828129410743713, Train loss end: 0.9117764234542847\n",
      "Highest Mean Train Accuracy (over epoch): 0.7225595238095239\n",
      "Test loss start: 1.0089274644851685, Test loss end: 0.9353104829788208\n",
      "Highest mean Test Accuracy (over epoch): 0.7985243055555555\n",
      " Test F1 score at highest accuracy: 0.7405871251514544\n",
      "./saved_models/model_8.pth \n",
      "\n",
      "Training Model with id 6\n",
      "in multi\n"
     ]
    },
    {
     "name": "stderr",
     "output_type": "stream",
     "text": [
      "Training Process: 100%|██████████| 10/10 [00:00<00:00, 21.43it/s]\n"
     ]
    },
    {
     "name": "stdout",
     "output_type": "stream",
     "text": [
      "Total Epochs: 10\n",
      "Train loss start: 0.9436488151550293, Train loss end: 0.7871242165565491\n",
      "Highest Mean Train Accuracy (over epoch): 0.7889285714285715\n",
      "Test loss start: 0.9495958685874939, Test loss end: 0.8971364498138428\n",
      "Highest mean Test Accuracy (over epoch): 0.8376736111111112\n",
      " Test F1 score at highest accuracy: 0.7913093128495853\n",
      "./saved_models/model_6.pth \n",
      "\n",
      " Maximum accuracy: 0.8376736111111112, F1: 0.7913093128495853, Test: 0.9345639243721962, Train: 0.8953800880908966\n",
      "in multi\n"
     ]
    },
    {
     "name": "stderr",
     "output_type": "stream",
     "text": [
      "Training Process: 100%|██████████| 70/70 [00:06<00:00, 11.42it/s]\n"
     ]
    },
    {
     "name": "stdout",
     "output_type": "stream",
     "text": [
      "Total Epochs: 70\n",
      "Train loss start: 1.1268571615219116, Train loss end: 0.6950291991233826\n",
      "Highest Mean Train Accuracy (over epoch): 0.6738647959183675\n",
      "Test loss start: 1.078262209892273, Test loss end: 0.8539996147155762\n",
      "Highest mean Test Accuracy (over epoch): 0.706498015873016\n",
      " Test F1 score at highest accuracy: 0.6962717843130509\n",
      "Randomly initializing 4 models\n",
      "Training Model with id 1\n",
      "in multi\n"
     ]
    },
    {
     "name": "stderr",
     "output_type": "stream",
     "text": [
      "Training Process: 100%|██████████| 10/10 [00:00<00:00, 15.11it/s]\n"
     ]
    },
    {
     "name": "stdout",
     "output_type": "stream",
     "text": [
      "Total Epochs: 10\n",
      "Train loss start: 1.147367000579834, Train loss end: 1.0112508535385132\n",
      "Highest Mean Train Accuracy (over epoch): 0.30047619047619045\n",
      "Test loss start: 1.0898675918579102, Test loss end: 1.0693449974060059\n",
      "Highest mean Test Accuracy (over epoch): 0.33394097222222224\n",
      " Test F1 score at highest accuracy: 0.26020882321366134\n",
      "./saved_models/model_1.pth \n",
      "\n",
      "Training Model with id 2\n",
      "in multi\n"
     ]
    },
    {
     "name": "stderr",
     "output_type": "stream",
     "text": [
      "Training Process: 100%|██████████| 10/10 [00:00<00:00, 15.14it/s]\n"
     ]
    },
    {
     "name": "stdout",
     "output_type": "stream",
     "text": [
      "Total Epochs: 10\n",
      "Train loss start: 1.1803873777389526, Train loss end: 1.1239652633666992\n",
      "Highest Mean Train Accuracy (over epoch): 0.35470238095238094\n",
      "Test loss start: 1.1253547668457031, Test loss end: 1.0802180767059326\n",
      "Highest mean Test Accuracy (over epoch): 0.38897569444444446\n",
      " Test F1 score at highest accuracy: 0.41437264833733534\n",
      "./saved_models/model_2.pth \n",
      "\n",
      "Training Model with id 3\n",
      "in multi\n"
     ]
    },
    {
     "name": "stderr",
     "output_type": "stream",
     "text": [
      "Training Process: 100%|██████████| 10/10 [00:00<00:00, 22.06it/s]\n"
     ]
    },
    {
     "name": "stdout",
     "output_type": "stream",
     "text": [
      "Total Epochs: 10\n",
      "Train loss start: 1.2035961151123047, Train loss end: 1.1331217288970947\n",
      "Highest Mean Train Accuracy (over epoch): 0.40214285714285714\n",
      "Test loss start: 1.1004739999771118, Test loss end: 1.0666238069534302\n",
      "Highest mean Test Accuracy (over epoch): 0.3482638888888889\n",
      " Test F1 score at highest accuracy: 0.4234244532308156\n",
      "./saved_models/model_3.pth \n",
      "\n",
      "Training Model with id 4\n",
      "in multi\n"
     ]
    },
    {
     "name": "stderr",
     "output_type": "stream",
     "text": [
      "Training Process: 100%|██████████| 10/10 [00:00<00:00, 16.24it/s]\n"
     ]
    },
    {
     "name": "stdout",
     "output_type": "stream",
     "text": [
      "Total Epochs: 10\n",
      "Train loss start: 1.1137452125549316, Train loss end: 1.0177160501480103\n",
      "Highest Mean Train Accuracy (over epoch): 0.37505952380952384\n",
      "Test loss start: 1.1238079071044922, Test loss end: 1.0893769264221191\n",
      "Highest mean Test Accuracy (over epoch): 0.2145833333333333\n",
      " Test F1 score at highest accuracy: 0.43282536425427826\n",
      "./saved_models/model_4.pth \n",
      "\n",
      "Training Model with id 7\n",
      "in multi\n"
     ]
    },
    {
     "name": "stderr",
     "output_type": "stream",
     "text": [
      "Training Process: 100%|██████████| 10/10 [00:00<00:00, 19.68it/s]\n"
     ]
    },
    {
     "name": "stdout",
     "output_type": "stream",
     "text": [
      "Total Epochs: 10\n",
      "Train loss start: 1.0235899686813354, Train loss end: 0.9189252853393555\n",
      "Highest Mean Train Accuracy (over epoch): 0.5258630952380952\n",
      "Test loss start: 1.0955919027328491, Test loss end: 1.0497605800628662\n",
      "Highest mean Test Accuracy (over epoch): 0.496875\n",
      " Test F1 score at highest accuracy: 0.5529005591198856\n",
      "./saved_models/model_7.pth \n",
      "\n",
      "Training Model with id 8\n",
      "in multi\n"
     ]
    },
    {
     "name": "stderr",
     "output_type": "stream",
     "text": [
      "Training Process: 100%|██████████| 10/10 [00:00<00:00, 16.19it/s]\n"
     ]
    },
    {
     "name": "stdout",
     "output_type": "stream",
     "text": [
      "Total Epochs: 10\n",
      "Train loss start: 1.0302207469940186, Train loss end: 1.0577569007873535\n",
      "Highest Mean Train Accuracy (over epoch): 0.6219047619047618\n",
      "Test loss start: 1.0683542490005493, Test loss end: 1.0309146642684937\n",
      "Highest mean Test Accuracy (over epoch): 0.7163628472222222\n",
      " Test F1 score at highest accuracy: 0.6248422144971576\n",
      "./saved_models/model_8.pth \n",
      "\n",
      "Training Model with id 6\n",
      "in multi\n"
     ]
    },
    {
     "name": "stderr",
     "output_type": "stream",
     "text": [
      "Training Process: 100%|██████████| 10/10 [00:00<00:00, 16.69it/s]\n"
     ]
    },
    {
     "name": "stdout",
     "output_type": "stream",
     "text": [
      "Total Epochs: 10\n",
      "Train loss start: 0.9039134383201599, Train loss end: 0.7870288491249084\n",
      "Highest Mean Train Accuracy (over epoch): 0.7191369047619048\n",
      "Test loss start: 1.030819296836853, Test loss end: 0.9767524003982544\n",
      "Highest mean Test Accuracy (over epoch): 0.8472222222222223\n",
      " Test F1 score at highest accuracy: 0.6976216288506036\n",
      "./saved_models/model_6.pth \n",
      "\n",
      " Maximum accuracy: 0.8472222222222223, F1: 0.6976216288506036, Test: 1.003822971880436, Train: 0.9241230515638987\n",
      "in multi\n"
     ]
    },
    {
     "name": "stderr",
     "output_type": "stream",
     "text": [
      "Training Process: 100%|██████████| 70/70 [00:07<00:00,  9.92it/s]\n"
     ]
    },
    {
     "name": "stdout",
     "output_type": "stream",
     "text": [
      "Total Epochs: 70\n",
      "Train loss start: 1.067724585533142, Train loss end: 0.7862623929977417\n",
      "Highest Mean Train Accuracy (over epoch): 0.7131377551020408\n",
      "Test loss start: 1.1142823696136475, Test loss end: 0.8754640817642212\n",
      "Highest mean Test Accuracy (over epoch): 0.6706969246031745\n",
      " Test F1 score at highest accuracy: 0.7258364823068321\n",
      "Randomly initializing 4 models\n",
      "Training Model with id 1\n",
      "in multi\n"
     ]
    },
    {
     "name": "stderr",
     "output_type": "stream",
     "text": [
      "Training Process: 100%|██████████| 10/10 [00:00<00:00, 19.00it/s]\n"
     ]
    },
    {
     "name": "stdout",
     "output_type": "stream",
     "text": [
      "Total Epochs: 10\n",
      "Train loss start: 1.128928780555725, Train loss end: 0.9352589249610901\n",
      "Highest Mean Train Accuracy (over epoch): 0.5253571428571429\n",
      "Test loss start: 1.088747262954712, Test loss end: 0.9978765845298767\n",
      "Highest mean Test Accuracy (over epoch): 0.5723090277777778\n",
      " Test F1 score at highest accuracy: 0.473935936742296\n",
      "./saved_models/model_1.pth \n",
      "\n",
      "Training Model with id 2\n",
      "in multi\n"
     ]
    },
    {
     "name": "stderr",
     "output_type": "stream",
     "text": [
      "Training Process: 100%|██████████| 10/10 [00:00<00:00, 18.11it/s]\n"
     ]
    },
    {
     "name": "stdout",
     "output_type": "stream",
     "text": [
      "Total Epochs: 10\n",
      "Train loss start: 1.0895531177520752, Train loss end: 0.9732397794723511\n",
      "Highest Mean Train Accuracy (over epoch): 0.5122619047619047\n",
      "Test loss start: 1.0836180448532104, Test loss end: 1.0264124870300293\n",
      "Highest mean Test Accuracy (over epoch): 0.49774305555555554\n",
      " Test F1 score at highest accuracy: 0.5359137654352087\n",
      "./saved_models/model_2.pth \n",
      "\n",
      "Training Model with id 3\n",
      "in multi\n"
     ]
    },
    {
     "name": "stderr",
     "output_type": "stream",
     "text": [
      "Training Process: 100%|██████████| 10/10 [00:00<00:00, 19.84it/s]\n"
     ]
    },
    {
     "name": "stdout",
     "output_type": "stream",
     "text": [
      "Total Epochs: 10\n",
      "Train loss start: 1.0837732553482056, Train loss end: 0.9522387385368347\n",
      "Highest Mean Train Accuracy (over epoch): 0.5085714285714286\n",
      "Test loss start: 1.108322024345398, Test loss end: 1.0605905055999756\n",
      "Highest mean Test Accuracy (over epoch): 0.2835069444444444\n",
      " Test F1 score at highest accuracy: 0.49270806296647435\n",
      "./saved_models/model_3.pth \n",
      "\n",
      "Training Model with id 4\n",
      "in multi\n"
     ]
    },
    {
     "name": "stderr",
     "output_type": "stream",
     "text": [
      "Training Process: 100%|██████████| 10/10 [00:00<00:00, 18.71it/s]\n"
     ]
    },
    {
     "name": "stdout",
     "output_type": "stream",
     "text": [
      "Total Epochs: 10\n",
      "Train loss start: 1.1004469394683838, Train loss end: 0.9221304059028625\n",
      "Highest Mean Train Accuracy (over epoch): 0.5361011904761904\n",
      "Test loss start: 1.116629719734192, Test loss end: 1.059540867805481\n",
      "Highest mean Test Accuracy (over epoch): 0.5121527777777778\n",
      " Test F1 score at highest accuracy: 0.5539427857477778\n",
      "./saved_models/model_4.pth \n",
      "\n",
      "Training Model with id 7\n",
      "in multi\n"
     ]
    },
    {
     "name": "stderr",
     "output_type": "stream",
     "text": [
      "Training Process: 100%|██████████| 10/10 [00:00<00:00, 17.34it/s]\n"
     ]
    },
    {
     "name": "stdout",
     "output_type": "stream",
     "text": [
      "Total Epochs: 10\n",
      "Train loss start: 1.0752010345458984, Train loss end: 0.9729548692703247\n",
      "Highest Mean Train Accuracy (over epoch): 0.6570535714285715\n",
      "Test loss start: 1.082520604133606, Test loss end: 1.0265772342681885\n",
      "Highest mean Test Accuracy (over epoch): 0.7789930555555555\n",
      " Test F1 score at highest accuracy: 0.6482727995811831\n",
      "./saved_models/model_7.pth \n",
      "\n",
      "Training Model with id 8\n",
      "in multi\n"
     ]
    },
    {
     "name": "stderr",
     "output_type": "stream",
     "text": [
      "Training Process: 100%|██████████| 10/10 [00:00<00:00, 18.44it/s]\n"
     ]
    },
    {
     "name": "stdout",
     "output_type": "stream",
     "text": [
      "Total Epochs: 10\n",
      "Train loss start: 0.9686108827590942, Train loss end: 0.8232319951057434\n",
      "Highest Mean Train Accuracy (over epoch): 0.7140773809523809\n",
      "Test loss start: 1.0491533279418945, Test loss end: 0.9892376661300659\n",
      "Highest mean Test Accuracy (over epoch): 0.8098958333333334\n",
      " Test F1 score at highest accuracy: 0.6504325056089081\n",
      "./saved_models/model_8.pth \n",
      "\n",
      "Training Model with id 6\n",
      "in multi\n"
     ]
    },
    {
     "name": "stderr",
     "output_type": "stream",
     "text": [
      "Training Process: 100%|██████████| 10/10 [00:00<00:00, 20.36it/s]\n"
     ]
    },
    {
     "name": "stdout",
     "output_type": "stream",
     "text": [
      "Total Epochs: 10\n",
      "Train loss start: 0.9363807439804077, Train loss end: 1.045395016670227\n",
      "Highest Mean Train Accuracy (over epoch): 0.7638392857142857\n",
      "Test loss start: 0.9990105628967285, Test loss end: 0.941425085067749\n",
      "Highest mean Test Accuracy (over epoch): 0.8276909722222222\n",
      " Test F1 score at highest accuracy: 0.7332111126404562\n",
      "./saved_models/model_6.pth \n",
      "\n",
      " Maximum accuracy: 0.8276909722222222, F1: 0.7332111126404562, Test: 0.9717195123434067, Train: 0.8875392321745554\n",
      "in multi\n"
     ]
    },
    {
     "name": "stderr",
     "output_type": "stream",
     "text": [
      "Training Process: 100%|██████████| 70/70 [00:07<00:00,  9.45it/s]\n"
     ]
    },
    {
     "name": "stdout",
     "output_type": "stream",
     "text": [
      "Total Epochs: 70\n",
      "Train loss start: 1.1283018589019775, Train loss end: 0.8185480833053589\n",
      "Highest Mean Train Accuracy (over epoch): 0.6548979591836734\n",
      "Test loss start: 1.148139476776123, Test loss end: 0.8620150089263916\n",
      "Highest mean Test Accuracy (over epoch): 0.6964037698412698\n",
      " Test F1 score at highest accuracy: 0.6840594718136906\n",
      "Randomly initializing 4 models\n",
      "Training Model with id 1\n",
      "in multi\n"
     ]
    },
    {
     "name": "stderr",
     "output_type": "stream",
     "text": [
      "Training Process: 100%|██████████| 10/10 [00:00<00:00, 16.41it/s]\n"
     ]
    },
    {
     "name": "stdout",
     "output_type": "stream",
     "text": [
      "Total Epochs: 10\n",
      "Train loss start: 1.122809886932373, Train loss end: 1.0439563989639282\n",
      "Highest Mean Train Accuracy (over epoch): 0.40160714285714294\n",
      "Test loss start: 1.0427800416946411, Test loss end: 1.015644907951355\n",
      "Highest mean Test Accuracy (over epoch): 0.6355034722222221\n",
      " Test F1 score at highest accuracy: 0.43374965989264247\n",
      "./saved_models/model_1.pth \n",
      "\n",
      "Training Model with id 2\n",
      "in multi\n"
     ]
    },
    {
     "name": "stderr",
     "output_type": "stream",
     "text": [
      "Training Process: 100%|██████████| 10/10 [00:00<00:00, 21.57it/s]\n"
     ]
    },
    {
     "name": "stdout",
     "output_type": "stream",
     "text": [
      "Total Epochs: 10\n",
      "Train loss start: 1.002837061882019, Train loss end: 1.1108505725860596\n",
      "Highest Mean Train Accuracy (over epoch): 0.5176190476190476\n",
      "Test loss start: 1.0559579133987427, Test loss end: 1.0328574180603027\n",
      "Highest mean Test Accuracy (over epoch): 0.458984375\n",
      " Test F1 score at highest accuracy: 0.5365540622265593\n",
      "./saved_models/model_2.pth \n",
      "\n",
      "Training Model with id 3\n",
      "in multi\n"
     ]
    },
    {
     "name": "stderr",
     "output_type": "stream",
     "text": [
      "Training Process: 100%|██████████| 10/10 [00:00<00:00, 19.82it/s]\n"
     ]
    },
    {
     "name": "stdout",
     "output_type": "stream",
     "text": [
      "Total Epochs: 10\n",
      "Train loss start: 1.181630253791809, Train loss end: 1.0718467235565186\n",
      "Highest Mean Train Accuracy (over epoch): 0.259047619047619\n",
      "Test loss start: 1.15423583984375, Test loss end: 1.1730879545211792\n",
      "Highest mean Test Accuracy (over epoch): 0.1310763888888889\n",
      " Test F1 score at highest accuracy: 0.21649412393833464\n",
      "./saved_models/model_3.pth \n",
      "\n",
      "Training Model with id 4\n",
      "in multi\n"
     ]
    },
    {
     "name": "stderr",
     "output_type": "stream",
     "text": [
      "Training Process: 100%|██████████| 10/10 [00:00<00:00, 19.23it/s]\n"
     ]
    },
    {
     "name": "stdout",
     "output_type": "stream",
     "text": [
      "Total Epochs: 10\n",
      "Train loss start: 1.28160560131073, Train loss end: 1.07779061794281\n",
      "Highest Mean Train Accuracy (over epoch): 0.1561607142857143\n",
      "Test loss start: 1.139930248260498, Test loss end: 1.131881833076477\n",
      "Highest mean Test Accuracy (over epoch): 0.08012152777777777\n",
      " Test F1 score at highest accuracy: 0.15509822073098808\n",
      "./saved_models/model_4.pth \n",
      "\n",
      "Training Model with id 7\n",
      "in multi\n"
     ]
    },
    {
     "name": "stderr",
     "output_type": "stream",
     "text": [
      "Training Process: 100%|██████████| 10/10 [00:00<00:00, 20.33it/s]\n"
     ]
    },
    {
     "name": "stdout",
     "output_type": "stream",
     "text": [
      "Total Epochs: 10\n",
      "Train loss start: 1.1858824491500854, Train loss end: 1.0840685367584229\n",
      "Highest Mean Train Accuracy (over epoch): 0.24651785714285712\n",
      "Test loss start: 1.111419439315796, Test loss end: 1.1045931577682495\n",
      "Highest mean Test Accuracy (over epoch): 0.22074652777777776\n",
      " Test F1 score at highest accuracy: 0.22801989188248406\n",
      "./saved_models/model_7.pth \n",
      "\n",
      "Training Model with id 8\n",
      "in multi\n"
     ]
    },
    {
     "name": "stderr",
     "output_type": "stream",
     "text": [
      "Training Process: 100%|██████████| 10/10 [00:00<00:00, 20.44it/s]\n"
     ]
    },
    {
     "name": "stdout",
     "output_type": "stream",
     "text": [
      "Total Epochs: 10\n",
      "Train loss start: 1.1078389883041382, Train loss end: 1.067595362663269\n",
      "Highest Mean Train Accuracy (over epoch): 0.36190476190476184\n",
      "Test loss start: 1.0804970264434814, Test loss end: 1.0767598152160645\n",
      "Highest mean Test Accuracy (over epoch): 0.4338541666666667\n",
      " Test F1 score at highest accuracy: 0.35320665120238676\n",
      "./saved_models/model_8.pth \n",
      "\n",
      "Training Model with id 6\n",
      "in multi\n"
     ]
    },
    {
     "name": "stderr",
     "output_type": "stream",
     "text": [
      "Training Process: 100%|██████████| 10/10 [00:00<00:00, 16.18it/s]\n"
     ]
    },
    {
     "name": "stdout",
     "output_type": "stream",
     "text": [
      "Total Epochs: 10\n",
      "Train loss start: 1.027978777885437, Train loss end: 0.8756952285766602\n",
      "Highest Mean Train Accuracy (over epoch): 0.5307142857142857\n",
      "Test loss start: 1.0475984811782837, Test loss end: 1.0313153266906738\n",
      "Highest mean Test Accuracy (over epoch): 0.5672743055555556\n",
      " Test F1 score at highest accuracy: 0.5471617509805599\n",
      "./saved_models/model_6.pth \n",
      "\n",
      " Maximum accuracy: 0.6355034722222221, F1: 0.43374965989264247, Test: 1.0280076310038566, Train: 1.01976021528244\n",
      "in multi\n"
     ]
    },
    {
     "name": "stderr",
     "output_type": "stream",
     "text": [
      "Training Process: 100%|██████████| 70/70 [00:05<00:00, 11.71it/s]"
     ]
    },
    {
     "name": "stdout",
     "output_type": "stream",
     "text": [
      "Total Epochs: 70\n",
      "Train loss start: 1.1676043272018433, Train loss end: 0.7814117670059204\n",
      "Highest Mean Train Accuracy (over epoch): 0.6431377551020409\n",
      "Test loss start: 1.1446529626846313, Test loss end: 0.9602816104888916\n",
      "Highest mean Test Accuracy (over epoch): 0.5249255952380952\n",
      " Test F1 score at highest accuracy: 0.7131814410490723\n"
     ]
    },
    {
     "name": "stderr",
     "output_type": "stream",
     "text": [
      "\n"
     ]
    }
   ],
   "source": [
    "output_directory = './outputBase8.csv'\n",
    "run_experiment(DTEmlp8b, trails=5, output_directory=output_directory)"
   ]
  },
  {
   "cell_type": "code",
   "execution_count": null,
   "metadata": {},
   "outputs": [],
   "source": []
  }
 ],
 "metadata": {
  "kernelspec": {
   "display_name": "vit",
   "language": "python",
   "name": "python3"
  },
  "language_info": {
   "codemirror_mode": {
    "name": "ipython",
    "version": 3
   },
   "file_extension": ".py",
   "mimetype": "text/x-python",
   "name": "python",
   "nbconvert_exporter": "python",
   "pygments_lexer": "ipython3",
   "version": "3.12.2"
  }
 },
 "nbformat": 4,
 "nbformat_minor": 2
}
