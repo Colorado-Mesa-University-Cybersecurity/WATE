{
 "cells": [
  {
   "cell_type": "code",
   "execution_count": 4,
   "metadata": {},
   "outputs": [],
   "source": [
    "import torch\n",
    "import torch.nn as nn\n",
    "import torch.nn.init as init\n",
    "import random\n",
    "import copy\n",
    "from sklearn.model_selection import train_test_split\n",
    "from torch.utils.data import TensorDataset, DataLoader\n",
    "import numpy as np\n",
    "import matplotlib.pyplot as plt\n",
    "import DeepTreeEnsemble\n",
    "import torch.nn.functional as F\n",
    "from importlib import reload\n",
    "import pandas as pd\n",
    "reload(DeepTreeEnsemble)\n",
    "from DeepTreeEnsemble import DeepTreeEnsemble, create_dataloaders_for_dataset \n",
    "# if this ^ doesn't work, try 'pip install -e .' in the root directory of it. Make sure you are in \n",
    "# the desired environment. "
   ]
  },
  {
   "cell_type": "code",
   "execution_count": 5,
   "metadata": {},
   "outputs": [
    {
     "name": "stdout",
     "output_type": "stream",
     "text": [
      "xtrain size 455\n",
      "xtest size 114\n",
      "y_train size 455\n",
      "y_test size 114\n"
     ]
    }
   ],
   "source": [
    "train_dataloader, test_dataloader, input_size, output_size = create_dataloaders_for_dataset(dataset_name='breast_cancer', task='classification', batch_size=32)"
   ]
  },
  {
   "cell_type": "code",
   "execution_count": 6,
   "metadata": {},
   "outputs": [],
   "source": [
    "class MLP(nn.Module):\n",
    "    def __init__(self, input_size, hidden_layers, output_size, dropout=.5):\n",
    "        super(MLP, self).__init__()\n",
    "        self.layers = nn.ModuleList()\n",
    "        self.batch_norms = nn.ModuleList()\n",
    "\n",
    "        # Create the first hidden layer\n",
    "        self.layers.append(nn.Linear(input_size, hidden_layers[0]))\n",
    "        self.batch_norms.append(nn.BatchNorm1d(hidden_layers[0]))\n",
    "\n",
    "        # Create additional hidden layers\n",
    "        for i in range(1, len(hidden_layers)):\n",
    "            self.layers.append(nn.Linear(hidden_layers[i-1], hidden_layers[i]))\n",
    "            self.batch_norms.append(nn.BatchNorm1d(hidden_layers[i]))\n",
    "\n",
    "        # Output layer\n",
    "        self.output = nn.Linear(hidden_layers[-1], output_size)\n",
    "\n",
    "        # Dropout layer\n",
    "        self.dropout = nn.Dropout(dropout)\n",
    "\n",
    "\n",
    "    def forward(self, x):\n",
    "        i = 0\n",
    "        for layer, batch_norm in zip(self.layers, self.batch_norms):\n",
    "            # x = F.relu(batch_norm(layer(x)))\n",
    "            i=i+1\n",
    "            x = self.dropout(x)\n",
    "            # print('Layer dtype: ', layer.weight.dtype)\n",
    "            x = x.to(torch.float32) # <-- area of concern\n",
    "            # print('tensor dytpe: ', x.dtype)\n",
    "            # layer.weight = layer.weight.to(torch.float32)\n",
    "            x = F.relu(batch_norm(layer(x)))\n",
    "            \n",
    "            # print(f'dtype is {x.dtype} after layer {i}')\n",
    "\n",
    "        x = self.output(x)\n",
    "        return x"
   ]
  },
  {
   "cell_type": "code",
   "execution_count": 7,
   "metadata": {},
   "outputs": [],
   "source": [
    "hidden_layers = [25, 25]\n",
    "multiLayerPerceptron = MLP(input_size=input_size, hidden_layers=hidden_layers, output_size=output_size+1, dropout=.5) #hidden size default at 100\n",
    "\n",
    "# Fill DTE params\n",
    "modelSaveDirectory = './saved_models/'\n",
    "DTEmlp4b = DeepTreeEnsemble(task_name='classification',\n",
    "                                model_arch=multiLayerPerceptron,\n",
    "                                model_dir=modelSaveDirectory, \n",
    "                                base_number=4,\n",
    "                                epochs=10,\n",
    "                                train_dataloader=train_dataloader, \n",
    "                                test_dataloader=test_dataloader,\n",
    "                                learning_rate=0.0001)"
   ]
  },
  {
   "cell_type": "code",
   "execution_count": 16,
   "metadata": {},
   "outputs": [],
   "source": [
    "def run_experiment(DTE, trails, output_directory):\n",
    "    results = pd.DataFrame()\n",
    "\n",
    "    for i in range(trails):\n",
    "        print(f'Trail {i}: \\n')\n",
    "        df1 = DTE.train_DTE()\n",
    "        df2 = DTE.single_model()\n",
    "        combined_df = pd.concat([df1, df2], axis=1)\n",
    "        results = pd.concat([results, combined_df], axis=0)\n",
    "\n",
    "    results.to_csv(output_directory, index=False)"
   ]
  },
  {
   "cell_type": "code",
   "execution_count": 13,
   "metadata": {},
   "outputs": [
    {
     "name": "stdout",
     "output_type": "stream",
     "text": [
      "Randomly initializing 4 models\n",
      "Training Model with id 1\n",
      "in multi\n"
     ]
    },
    {
     "name": "stderr",
     "output_type": "stream",
     "text": [
      "Training Process: 100%|██████████| 10/10 [00:00<00:00, 11.96it/s]\n"
     ]
    },
    {
     "name": "stdout",
     "output_type": "stream",
     "text": [
      "Total Epochs: 10\n",
      "Train loss start: 1.2131139039993286, Train loss end: 1.2066375017166138\n",
      "Highest Mean Train Accuracy (over epoch): 0.26654761904761903\n",
      "Test loss start: 1.12948739528656, Test loss end: 1.0565742254257202\n",
      "Highest mean Test Accuracy (over epoch): 0.4325520833333334\n",
      " Test F1 score at highest accuracy: 0.3516226254041805\n",
      "./saved_models/model_1.pth \n",
      "\n",
      "Training Model with id 2\n",
      "in multi\n"
     ]
    },
    {
     "name": "stderr",
     "output_type": "stream",
     "text": [
      "Training Process: 100%|██████████| 10/10 [00:00<00:00, 13.25it/s]\n"
     ]
    },
    {
     "name": "stdout",
     "output_type": "stream",
     "text": [
      "Total Epochs: 10\n",
      "Train loss start: 1.1202521324157715, Train loss end: 0.9130666851997375\n",
      "Highest Mean Train Accuracy (over epoch): 0.4311309523809524\n",
      "Test loss start: 1.1419830322265625, Test loss end: 1.1100441217422485\n",
      "Highest mean Test Accuracy (over epoch): 0.18619791666666666\n",
      " Test F1 score at highest accuracy: 0.4421704066533522\n",
      "./saved_models/model_2.pth \n",
      "\n",
      "Training Model with id 3\n",
      "in multi\n"
     ]
    },
    {
     "name": "stderr",
     "output_type": "stream",
     "text": [
      "Training Process: 100%|██████████| 10/10 [00:00<00:00, 12.32it/s]\n"
     ]
    },
    {
     "name": "stdout",
     "output_type": "stream",
     "text": [
      "Total Epochs: 10\n",
      "Train loss start: 1.0771050453186035, Train loss end: 0.9775391221046448\n",
      "Highest Mean Train Accuracy (over epoch): 0.4728273809523809\n",
      "Test loss start: 1.080609917640686, Test loss end: 1.0059205293655396\n",
      "Highest mean Test Accuracy (over epoch): 0.6202256944444444\n",
      " Test F1 score at highest accuracy: 0.5090717930862557\n",
      "./saved_models/model_3.pth \n",
      "\n",
      "Training Model with id 4\n",
      "in multi\n"
     ]
    },
    {
     "name": "stderr",
     "output_type": "stream",
     "text": [
      "Training Process: 100%|██████████| 10/10 [00:00<00:00, 13.14it/s]\n"
     ]
    },
    {
     "name": "stdout",
     "output_type": "stream",
     "text": [
      "Total Epochs: 10\n",
      "Train loss start: 1.0590604543685913, Train loss end: 1.0048552751541138\n",
      "Highest Mean Train Accuracy (over epoch): 0.4995535714285715\n",
      "Test loss start: 1.0877591371536255, Test loss end: 1.0615671873092651\n",
      "Highest mean Test Accuracy (over epoch): 0.58125\n",
      " Test F1 score at highest accuracy: 0.526483061654332\n",
      "./saved_models/model_4.pth \n",
      "\n",
      "Training Model with id 7\n",
      "in multi\n"
     ]
    },
    {
     "name": "stderr",
     "output_type": "stream",
     "text": [
      "Training Process: 100%|██████████| 10/10 [00:00<00:00, 13.60it/s]\n"
     ]
    },
    {
     "name": "stdout",
     "output_type": "stream",
     "text": [
      "Total Epochs: 10\n",
      "Train loss start: 1.0735496282577515, Train loss end: 1.1066936254501343\n",
      "Highest Mean Train Accuracy (over epoch): 0.6161011904761906\n",
      "Test loss start: 1.0595380067825317, Test loss end: 1.0237421989440918\n",
      "Highest mean Test Accuracy (over epoch): 0.6661458333333334\n",
      " Test F1 score at highest accuracy: 0.6263851611307211\n",
      "./saved_models/model_7.pth \n",
      "\n",
      "Training Model with id 8\n",
      "in multi\n"
     ]
    },
    {
     "name": "stderr",
     "output_type": "stream",
     "text": [
      "Training Process: 100%|██████████| 10/10 [00:00<00:00, 13.73it/s]\n"
     ]
    },
    {
     "name": "stdout",
     "output_type": "stream",
     "text": [
      "Total Epochs: 10\n",
      "Train loss start: 0.9482061862945557, Train loss end: 0.9660200476646423\n",
      "Highest Mean Train Accuracy (over epoch): 0.7144510582010583\n",
      "Test loss start: 1.0121028423309326, Test loss end: 1.0030714273452759\n",
      "Highest mean Test Accuracy (over epoch): 0.7188368055555555\n",
      " Test F1 score at highest accuracy: 0.7120671689637917\n",
      "./saved_models/model_8.pth \n",
      "\n",
      "Training Model with id 6\n",
      "in multi\n"
     ]
    },
    {
     "name": "stderr",
     "output_type": "stream",
     "text": [
      "Training Process: 100%|██████████| 10/10 [00:00<00:00, 13.82it/s]\n"
     ]
    },
    {
     "name": "stdout",
     "output_type": "stream",
     "text": [
      "Total Epochs: 10\n",
      "Train loss start: 0.8663914203643799, Train loss end: 0.7898503541946411\n",
      "Highest Mean Train Accuracy (over epoch): 0.7701488095238095\n",
      "Test loss start: 0.9863291382789612, Test loss end: 0.9661452174186707\n",
      "Highest mean Test Accuracy (over epoch): 0.7407118055555555\n",
      " Test F1 score at highest accuracy: 0.7640502812923459\n",
      "./saved_models/model_6.pth \n",
      "\n",
      " Maximum accuracy: 0.7407118055555555, F1: 0.7640502812923459, Test: 0.9729890033602715, Train: 0.8706170622507731\n",
      "in multi\n"
     ]
    },
    {
     "name": "stderr",
     "output_type": "stream",
     "text": [
      "Training Process: 100%|██████████| 70/70 [00:06<00:00, 10.03it/s]\n"
     ]
    },
    {
     "name": "stdout",
     "output_type": "stream",
     "text": [
      "Total Epochs: 70\n",
      "Train loss start: 1.0528411865234375, Train loss end: 0.7707629799842834\n",
      "Highest Mean Train Accuracy (over epoch): 0.7254931972789115\n",
      "Test loss start: 1.0455585718154907, Test loss end: 0.8290910124778748\n",
      "Highest mean Test Accuracy (over epoch): 0.7578249007936508\n",
      " Test F1 score at highest accuracy: 0.7393639765710587\n",
      "Randomly initializing 4 models\n",
      "Training Model with id 1\n",
      "in multi\n"
     ]
    },
    {
     "name": "stderr",
     "output_type": "stream",
     "text": [
      "Training Process: 100%|██████████| 10/10 [00:00<00:00, 13.12it/s]\n"
     ]
    },
    {
     "name": "stdout",
     "output_type": "stream",
     "text": [
      "Total Epochs: 10\n",
      "Train loss start: 1.0763875246047974, Train loss end: 1.047833800315857\n",
      "Highest Mean Train Accuracy (over epoch): 0.4363095238095238\n",
      "Test loss start: 1.0831084251403809, Test loss end: 1.0134556293487549\n",
      "Highest mean Test Accuracy (over epoch): 0.48550347222222223\n",
      " Test F1 score at highest accuracy: 0.501996145959738\n",
      "./saved_models/model_1.pth \n",
      "\n",
      "Training Model with id 2\n",
      "in multi\n"
     ]
    },
    {
     "name": "stderr",
     "output_type": "stream",
     "text": [
      "Training Process: 100%|██████████| 10/10 [00:00<00:00, 13.41it/s]\n"
     ]
    },
    {
     "name": "stdout",
     "output_type": "stream",
     "text": [
      "Total Epochs: 10\n",
      "Train loss start: 1.0582468509674072, Train loss end: 0.970230221748352\n",
      "Highest Mean Train Accuracy (over epoch): 0.5477678571428571\n",
      "Test loss start: 1.0516924858093262, Test loss end: 0.9960459470748901\n",
      "Highest mean Test Accuracy (over epoch): 0.7144965277777777\n",
      " Test F1 score at highest accuracy: 0.5899295682288453\n",
      "./saved_models/model_2.pth \n",
      "\n",
      "Training Model with id 3\n",
      "in multi\n"
     ]
    },
    {
     "name": "stderr",
     "output_type": "stream",
     "text": [
      "Training Process: 100%|██████████| 10/10 [00:00<00:00, 13.81it/s]\n"
     ]
    },
    {
     "name": "stdout",
     "output_type": "stream",
     "text": [
      "Total Epochs: 10\n",
      "Train loss start: 1.2045103311538696, Train loss end: 1.0458528995513916\n",
      "Highest Mean Train Accuracy (over epoch): 0.22107142857142856\n",
      "Test loss start: 1.1356117725372314, Test loss end: 1.0874191522598267\n",
      "Highest mean Test Accuracy (over epoch): 0.2769097222222222\n",
      " Test F1 score at highest accuracy: 0.306342585670501\n",
      "./saved_models/model_3.pth \n",
      "\n",
      "Training Model with id 4\n",
      "in multi\n"
     ]
    },
    {
     "name": "stderr",
     "output_type": "stream",
     "text": [
      "Training Process: 100%|██████████| 10/10 [00:00<00:00, 13.46it/s]\n"
     ]
    },
    {
     "name": "stdout",
     "output_type": "stream",
     "text": [
      "Total Epochs: 10\n",
      "Train loss start: 1.0561120510101318, Train loss end: 0.9346293807029724\n",
      "Highest Mean Train Accuracy (over epoch): 0.5613988095238096\n",
      "Test loss start: 1.0592236518859863, Test loss end: 1.002147912979126\n",
      "Highest mean Test Accuracy (over epoch): 0.6616319444444445\n",
      " Test F1 score at highest accuracy: 0.5978491515351358\n",
      "./saved_models/model_4.pth \n",
      "\n",
      "Training Model with id 7\n",
      "in multi\n"
     ]
    },
    {
     "name": "stderr",
     "output_type": "stream",
     "text": [
      "Training Process: 100%|██████████| 10/10 [00:00<00:00, 13.72it/s]\n"
     ]
    },
    {
     "name": "stdout",
     "output_type": "stream",
     "text": [
      "Total Epochs: 10\n",
      "Train loss start: 0.982001543045044, Train loss end: 0.900127112865448\n",
      "Highest Mean Train Accuracy (over epoch): 0.6740476190476191\n",
      "Test loss start: 1.0007071495056152, Test loss end: 0.9636791944503784\n",
      "Highest mean Test Accuracy (over epoch): 0.6975911458333334\n",
      " Test F1 score at highest accuracy: 0.6811262192015329\n",
      "./saved_models/model_7.pth \n",
      "\n",
      "Training Model with id 8\n",
      "in multi\n"
     ]
    },
    {
     "name": "stderr",
     "output_type": "stream",
     "text": [
      "Training Process: 100%|██████████| 10/10 [00:00<00:00, 12.46it/s]\n"
     ]
    },
    {
     "name": "stdout",
     "output_type": "stream",
     "text": [
      "Total Epochs: 10\n",
      "Train loss start: 0.9437198638916016, Train loss end: 0.8085201382637024\n",
      "Highest Mean Train Accuracy (over epoch): 0.7551785714285715\n",
      "Test loss start: 0.9650343656539917, Test loss end: 0.9270188212394714\n",
      "Highest mean Test Accuracy (over epoch): 0.7279730902777778\n",
      " Test F1 score at highest accuracy: 0.7507551191567786\n",
      "./saved_models/model_8.pth \n",
      "\n",
      "Training Model with id 6\n",
      "in multi\n"
     ]
    },
    {
     "name": "stderr",
     "output_type": "stream",
     "text": [
      "Training Process: 100%|██████████| 10/10 [00:00<00:00, 13.62it/s]\n"
     ]
    },
    {
     "name": "stdout",
     "output_type": "stream",
     "text": [
      "Total Epochs: 10\n",
      "Train loss start: 0.8574051856994629, Train loss end: 0.7830840349197388\n",
      "Highest Mean Train Accuracy (over epoch): 0.8013392857142857\n",
      "Test loss start: 0.9294177889823914, Test loss end: 0.9085213541984558\n",
      "Highest mean Test Accuracy (over epoch): 0.7451388888888889\n",
      " Test F1 score at highest accuracy: 0.8002349080630196\n",
      "./saved_models/model_6.pth \n",
      "\n",
      " Maximum accuracy: 0.7451388888888889, F1: 0.8002349080630196, Test: 0.9030699089169503, Train: 0.8478665475050609\n",
      "in multi\n"
     ]
    },
    {
     "name": "stderr",
     "output_type": "stream",
     "text": [
      "Training Process: 100%|██████████| 70/70 [00:06<00:00, 10.14it/s]\n"
     ]
    },
    {
     "name": "stdout",
     "output_type": "stream",
     "text": [
      "Total Epochs: 70\n",
      "Train loss start: 1.0853036642074585, Train loss end: 0.6585208177566528\n",
      "Highest Mean Train Accuracy (over epoch): 0.7047278911564626\n",
      "Test loss start: 1.0896323919296265, Test loss end: 0.8839242458343506\n",
      "Highest mean Test Accuracy (over epoch): 0.6753844246031747\n",
      " Test F1 score at highest accuracy: 0.7178937031557893\n",
      "Randomly initializing 4 models\n",
      "Training Model with id 1\n",
      "in multi\n"
     ]
    },
    {
     "name": "stderr",
     "output_type": "stream",
     "text": [
      "Training Process: 100%|██████████| 10/10 [00:00<00:00, 13.57it/s]\n"
     ]
    },
    {
     "name": "stdout",
     "output_type": "stream",
     "text": [
      "Total Epochs: 10\n",
      "Train loss start: 1.1033152341842651, Train loss end: 1.111861228942871\n",
      "Highest Mean Train Accuracy (over epoch): 0.5246726190476191\n",
      "Test loss start: 1.1003378629684448, Test loss end: 1.0716204643249512\n",
      "Highest mean Test Accuracy (over epoch): 0.5578993055555556\n",
      " Test F1 score at highest accuracy: 0.5484298717357718\n",
      "./saved_models/model_1.pth \n",
      "\n",
      "Training Model with id 2\n",
      "in multi\n"
     ]
    },
    {
     "name": "stderr",
     "output_type": "stream",
     "text": [
      "Training Process: 100%|██████████| 10/10 [00:00<00:00, 13.38it/s]\n"
     ]
    },
    {
     "name": "stdout",
     "output_type": "stream",
     "text": [
      "Total Epochs: 10\n",
      "Train loss start: 1.2724158763885498, Train loss end: 1.1778186559677124\n",
      "Highest Mean Train Accuracy (over epoch): 0.07333333333333333\n",
      "Test loss start: 1.1416264772415161, Test loss end: 1.1178264617919922\n",
      "Highest mean Test Accuracy (over epoch): 0.06050347222222222\n",
      " Test F1 score at highest accuracy: 0.10022624929152772\n",
      "./saved_models/model_2.pth \n",
      "\n",
      "Training Model with id 3\n",
      "in multi\n"
     ]
    },
    {
     "name": "stderr",
     "output_type": "stream",
     "text": [
      "Training Process: 100%|██████████| 10/10 [00:00<00:00, 11.27it/s]\n"
     ]
    },
    {
     "name": "stdout",
     "output_type": "stream",
     "text": [
      "Total Epochs: 10\n",
      "Train loss start: 1.0778981447219849, Train loss end: 0.915849506855011\n",
      "Highest Mean Train Accuracy (over epoch): 0.4520535714285715\n",
      "Test loss start: 1.0954856872558594, Test loss end: 1.0716508626937866\n",
      "Highest mean Test Accuracy (over epoch): 0.3836805555555555\n",
      " Test F1 score at highest accuracy: 0.47312719186373176\n",
      "./saved_models/model_3.pth \n",
      "\n",
      "Training Model with id 4\n",
      "in multi\n"
     ]
    },
    {
     "name": "stderr",
     "output_type": "stream",
     "text": [
      "Training Process: 100%|██████████| 10/10 [00:00<00:00, 12.67it/s]\n"
     ]
    },
    {
     "name": "stdout",
     "output_type": "stream",
     "text": [
      "Total Epochs: 10\n",
      "Train loss start: 1.2274328470230103, Train loss end: 1.2371981143951416\n",
      "Highest Mean Train Accuracy (over epoch): 0.15758928571428568\n",
      "Test loss start: 1.1413627862930298, Test loss end: 1.1251749992370605\n",
      "Highest mean Test Accuracy (over epoch): 0.09088541666666666\n",
      " Test F1 score at highest accuracy: 0.24901118989759038\n",
      "./saved_models/model_4.pth \n",
      "\n",
      "Training Model with id 7\n",
      "in multi\n"
     ]
    },
    {
     "name": "stderr",
     "output_type": "stream",
     "text": [
      "Training Process: 100%|██████████| 10/10 [00:00<00:00, 11.70it/s]\n"
     ]
    },
    {
     "name": "stdout",
     "output_type": "stream",
     "text": [
      "Total Epochs: 10\n",
      "Train loss start: 1.1603407859802246, Train loss end: 1.1148264408111572\n",
      "Highest Mean Train Accuracy (over epoch): 0.31785714285714284\n",
      "Test loss start: 1.107430100440979, Test loss end: 1.0641183853149414\n",
      "Highest mean Test Accuracy (over epoch): 0.3207465277777778\n",
      " Test F1 score at highest accuracy: 0.42453652174503487\n",
      "./saved_models/model_7.pth \n",
      "\n",
      "Training Model with id 8\n",
      "in multi\n"
     ]
    },
    {
     "name": "stderr",
     "output_type": "stream",
     "text": [
      "Training Process: 100%|██████████| 10/10 [00:00<00:00, 10.92it/s]\n"
     ]
    },
    {
     "name": "stdout",
     "output_type": "stream",
     "text": [
      "Total Epochs: 10\n",
      "Train loss start: 1.096798062324524, Train loss end: 1.0595815181732178\n",
      "Highest Mean Train Accuracy (over epoch): 0.4788690476190476\n",
      "Test loss start: 1.0666720867156982, Test loss end: 1.0419487953186035\n",
      "Highest mean Test Accuracy (over epoch): 0.5796006944444445\n",
      " Test F1 score at highest accuracy: 0.5741069294205238\n",
      "./saved_models/model_8.pth \n",
      "\n",
      "Training Model with id 6\n",
      "in multi\n"
     ]
    },
    {
     "name": "stderr",
     "output_type": "stream",
     "text": [
      "Training Process: 100%|██████████| 10/10 [00:00<00:00, 12.69it/s]\n"
     ]
    },
    {
     "name": "stdout",
     "output_type": "stream",
     "text": [
      "Total Epochs: 10\n",
      "Train loss start: 1.018263578414917, Train loss end: 1.092158555984497\n",
      "Highest Mean Train Accuracy (over epoch): 0.6326785714285714\n",
      "Test loss start: 1.0322624444961548, Test loss end: 1.0082663297653198\n",
      "Highest mean Test Accuracy (over epoch): 0.68515625\n",
      " Test F1 score at highest accuracy: 0.6983129899342472\n",
      "./saved_models/model_6.pth \n",
      "\n",
      " Maximum accuracy: 0.68515625, F1: 0.6983129899342472, Test: 1.0109773382544518, Train: 0.9829890831311544\n",
      "in multi\n"
     ]
    },
    {
     "name": "stderr",
     "output_type": "stream",
     "text": [
      "Training Process: 100%|██████████| 70/70 [00:07<00:00,  9.37it/s]\n"
     ]
    },
    {
     "name": "stdout",
     "output_type": "stream",
     "text": [
      "Total Epochs: 70\n",
      "Train loss start: 1.1292979717254639, Train loss end: 0.8450360894203186\n",
      "Highest Mean Train Accuracy (over epoch): 0.669795918367347\n",
      "Test loss start: 1.0773565769195557, Test loss end: 0.8850317001342773\n",
      "Highest mean Test Accuracy (over epoch): 0.6846602182539683\n",
      " Test F1 score at highest accuracy: 0.6812365002726424\n",
      "Randomly initializing 4 models\n",
      "Training Model with id 1\n",
      "in multi\n"
     ]
    },
    {
     "name": "stderr",
     "output_type": "stream",
     "text": [
      "Training Process: 100%|██████████| 10/10 [00:00<00:00, 12.53it/s]\n"
     ]
    },
    {
     "name": "stdout",
     "output_type": "stream",
     "text": [
      "Total Epochs: 10\n",
      "Train loss start: 1.0154521465301514, Train loss end: 0.9561446309089661\n",
      "Highest Mean Train Accuracy (over epoch): 0.5238392857142857\n",
      "Test loss start: 1.1029424667358398, Test loss end: 1.0664072036743164\n",
      "Highest mean Test Accuracy (over epoch): 0.47821180555555554\n",
      " Test F1 score at highest accuracy: 0.5248962104784343\n",
      "./saved_models/model_1.pth \n",
      "\n",
      "Training Model with id 2\n",
      "in multi\n"
     ]
    },
    {
     "name": "stderr",
     "output_type": "stream",
     "text": [
      "Training Process: 100%|██████████| 10/10 [00:00<00:00, 12.43it/s]\n"
     ]
    },
    {
     "name": "stdout",
     "output_type": "stream",
     "text": [
      "Total Epochs: 10\n",
      "Train loss start: 1.1757646799087524, Train loss end: 1.05409836769104\n",
      "Highest Mean Train Accuracy (over epoch): 0.3905357142857143\n",
      "Test loss start: 1.0922603607177734, Test loss end: 1.0801889896392822\n",
      "Highest mean Test Accuracy (over epoch): 0.3971354166666667\n",
      " Test F1 score at highest accuracy: 0.4475168205490408\n",
      "./saved_models/model_2.pth \n",
      "\n",
      "Training Model with id 3\n",
      "in multi\n"
     ]
    },
    {
     "name": "stderr",
     "output_type": "stream",
     "text": [
      "Training Process: 100%|██████████| 10/10 [00:00<00:00, 11.63it/s]\n"
     ]
    },
    {
     "name": "stdout",
     "output_type": "stream",
     "text": [
      "Total Epochs: 10\n",
      "Train loss start: 1.123389482498169, Train loss end: 1.1460096836090088\n",
      "Highest Mean Train Accuracy (over epoch): 0.4943154761904762\n",
      "Test loss start: 1.0912187099456787, Test loss end: 1.0378262996673584\n",
      "Highest mean Test Accuracy (over epoch): 0.5358506944444444\n",
      " Test F1 score at highest accuracy: 0.5196652928401255\n",
      "./saved_models/model_3.pth \n",
      "\n",
      "Training Model with id 4\n",
      "in multi\n"
     ]
    },
    {
     "name": "stderr",
     "output_type": "stream",
     "text": [
      "Training Process: 100%|██████████| 10/10 [00:00<00:00, 12.53it/s]\n"
     ]
    },
    {
     "name": "stdout",
     "output_type": "stream",
     "text": [
      "Total Epochs: 10\n",
      "Train loss start: 0.9924607872962952, Train loss end: 1.1372004747390747\n",
      "Highest Mean Train Accuracy (over epoch): 0.5658928571428572\n",
      "Test loss start: 1.0517734289169312, Test loss end: 1.0043790340423584\n",
      "Highest mean Test Accuracy (over epoch): 0.6614583333333333\n",
      " Test F1 score at highest accuracy: 0.5932519558452718\n",
      "./saved_models/model_4.pth \n",
      "\n",
      "Training Model with id 7\n",
      "in multi\n"
     ]
    },
    {
     "name": "stderr",
     "output_type": "stream",
     "text": [
      "Training Process: 100%|██████████| 10/10 [00:00<00:00, 12.56it/s]\n"
     ]
    },
    {
     "name": "stdout",
     "output_type": "stream",
     "text": [
      "Total Epochs: 10\n",
      "Train loss start: 0.9401901960372925, Train loss end: 0.8667922616004944\n",
      "Highest Mean Train Accuracy (over epoch): 0.6769642857142858\n",
      "Test loss start: 1.0035852193832397, Test loss end: 0.9776281714439392\n",
      "Highest mean Test Accuracy (over epoch): 0.7545572916666667\n",
      " Test F1 score at highest accuracy: 0.6718785190883746\n",
      "./saved_models/model_7.pth \n",
      "\n",
      "Training Model with id 8\n",
      "in multi\n"
     ]
    },
    {
     "name": "stderr",
     "output_type": "stream",
     "text": [
      "Training Process: 100%|██████████| 10/10 [00:00<00:00, 11.14it/s]\n"
     ]
    },
    {
     "name": "stdout",
     "output_type": "stream",
     "text": [
      "Total Epochs: 10\n",
      "Train loss start: 0.9236410856246948, Train loss end: 0.8029314279556274\n",
      "Highest Mean Train Accuracy (over epoch): 0.7410714285714285\n",
      "Test loss start: 0.971164345741272, Test loss end: 0.9306710362434387\n",
      "Highest mean Test Accuracy (over epoch): 0.7960069444444444\n",
      " Test F1 score at highest accuracy: 0.7438750741076322\n",
      "./saved_models/model_8.pth \n",
      "\n",
      "Training Model with id 6\n",
      "in multi\n"
     ]
    },
    {
     "name": "stderr",
     "output_type": "stream",
     "text": [
      "Training Process: 100%|██████████| 10/10 [00:00<00:00, 12.72it/s]\n"
     ]
    },
    {
     "name": "stdout",
     "output_type": "stream",
     "text": [
      "Total Epochs: 10\n",
      "Train loss start: 0.8221320509910583, Train loss end: 0.7584282755851746\n",
      "Highest Mean Train Accuracy (over epoch): 0.7908333333333334\n",
      "Test loss start: 0.9340900778770447, Test loss end: 0.8900216221809387\n",
      "Highest mean Test Accuracy (over epoch): 0.7844742063492063\n",
      " Test F1 score at highest accuracy: 0.775620083168025\n",
      "./saved_models/model_6.pth \n",
      "\n",
      " Maximum accuracy: 0.7960069444444444, F1: 0.7438750741076322, Test: 0.9001643121242523, Train: 0.8558099814256033\n",
      "in multi\n"
     ]
    },
    {
     "name": "stderr",
     "output_type": "stream",
     "text": [
      "Training Process: 100%|██████████| 70/70 [00:07<00:00,  9.25it/s]\n"
     ]
    },
    {
     "name": "stdout",
     "output_type": "stream",
     "text": [
      "Total Epochs: 70\n",
      "Train loss start: 1.0019383430480957, Train loss end: 0.6839014291763306\n",
      "Highest Mean Train Accuracy (over epoch): 0.7920365646258504\n",
      "Test loss start: 1.0476162433624268, Test loss end: 0.8060510158538818\n",
      "Highest mean Test Accuracy (over epoch): 0.8556795634920634\n",
      " Test F1 score at highest accuracy: 0.7935212436949789\n",
      "Randomly initializing 4 models\n",
      "Training Model with id 1\n",
      "in multi\n"
     ]
    },
    {
     "name": "stderr",
     "output_type": "stream",
     "text": [
      "Training Process: 100%|██████████| 10/10 [00:00<00:00, 12.41it/s]\n"
     ]
    },
    {
     "name": "stdout",
     "output_type": "stream",
     "text": [
      "Total Epochs: 10\n",
      "Train loss start: 1.1976720094680786, Train loss end: 1.1718610525131226\n",
      "Highest Mean Train Accuracy (over epoch): 0.1705357142857143\n",
      "Test loss start: 1.1251757144927979, Test loss end: 1.0998680591583252\n",
      "Highest mean Test Accuracy (over epoch): 0.2326388888888889\n",
      " Test F1 score at highest accuracy: 0.20088124849469657\n",
      "./saved_models/model_1.pth \n",
      "\n",
      "Training Model with id 2\n",
      "in multi\n"
     ]
    },
    {
     "name": "stderr",
     "output_type": "stream",
     "text": [
      "Training Process: 100%|██████████| 10/10 [00:00<00:00, 11.09it/s]\n"
     ]
    },
    {
     "name": "stdout",
     "output_type": "stream",
     "text": [
      "Total Epochs: 10\n",
      "Train loss start: 1.168895959854126, Train loss end: 1.0477275848388672\n",
      "Highest Mean Train Accuracy (over epoch): 0.27110119047619047\n",
      "Test loss start: 1.0925116539001465, Test loss end: 1.0470679998397827\n",
      "Highest mean Test Accuracy (over epoch): 0.540625\n",
      " Test F1 score at highest accuracy: 0.3686227383813287\n",
      "./saved_models/model_2.pth \n",
      "\n",
      "Training Model with id 3\n",
      "in multi\n"
     ]
    },
    {
     "name": "stderr",
     "output_type": "stream",
     "text": [
      "Training Process: 100%|██████████| 10/10 [00:00<00:00, 12.65it/s]\n"
     ]
    },
    {
     "name": "stdout",
     "output_type": "stream",
     "text": [
      "Total Epochs: 10\n",
      "Train loss start: 1.1713612079620361, Train loss end: 1.113221526145935\n",
      "Highest Mean Train Accuracy (over epoch): 0.2558035714285714\n",
      "Test loss start: 1.1158936023712158, Test loss end: 1.0670170783996582\n",
      "Highest mean Test Accuracy (over epoch): 0.40894097222222225\n",
      " Test F1 score at highest accuracy: 0.29559452359262034\n",
      "./saved_models/model_3.pth \n",
      "\n",
      "Training Model with id 4\n",
      "in multi\n"
     ]
    },
    {
     "name": "stderr",
     "output_type": "stream",
     "text": [
      "Training Process: 100%|██████████| 10/10 [00:00<00:00, 11.96it/s]\n"
     ]
    },
    {
     "name": "stdout",
     "output_type": "stream",
     "text": [
      "Total Epochs: 10\n",
      "Train loss start: 1.100398063659668, Train loss end: 0.980772852897644\n",
      "Highest Mean Train Accuracy (over epoch): 0.5113392857142858\n",
      "Test loss start: 1.0848807096481323, Test loss end: 1.0813884735107422\n",
      "Highest mean Test Accuracy (over epoch): 0.3416666666666667\n",
      " Test F1 score at highest accuracy: 0.56420239082701\n",
      "./saved_models/model_4.pth \n",
      "\n",
      "Training Model with id 7\n",
      "in multi\n"
     ]
    },
    {
     "name": "stderr",
     "output_type": "stream",
     "text": [
      "Training Process: 100%|██████████| 10/10 [00:00<00:00, 12.42it/s]\n"
     ]
    },
    {
     "name": "stdout",
     "output_type": "stream",
     "text": [
      "Total Epochs: 10\n",
      "Train loss start: 0.9919573068618774, Train loss end: 0.903661847114563\n",
      "Highest Mean Train Accuracy (over epoch): 0.6232738095238095\n",
      "Test loss start: 1.0546059608459473, Test loss end: 1.0477510690689087\n",
      "Highest mean Test Accuracy (over epoch): 0.49778163580246915\n",
      " Test F1 score at highest accuracy: 0.6544008318024226\n",
      "./saved_models/model_7.pth \n",
      "\n",
      "Training Model with id 8\n",
      "in multi\n"
     ]
    },
    {
     "name": "stderr",
     "output_type": "stream",
     "text": [
      "Training Process: 100%|██████████| 10/10 [00:00<00:00, 12.02it/s]\n"
     ]
    },
    {
     "name": "stdout",
     "output_type": "stream",
     "text": [
      "Total Epochs: 10\n",
      "Train loss start: 0.9425079822540283, Train loss end: 0.912303626537323\n",
      "Highest Mean Train Accuracy (over epoch): 0.719672619047619\n",
      "Test loss start: 1.020691990852356, Test loss end: 0.9935900568962097\n",
      "Highest mean Test Accuracy (over epoch): 0.6331597222222223\n",
      " Test F1 score at highest accuracy: 0.7353824875756874\n",
      "./saved_models/model_8.pth \n",
      "\n",
      "Training Model with id 6\n",
      "in multi\n"
     ]
    },
    {
     "name": "stderr",
     "output_type": "stream",
     "text": [
      "Training Process: 100%|██████████| 10/10 [00:00<00:00, 12.73it/s]\n"
     ]
    },
    {
     "name": "stdout",
     "output_type": "stream",
     "text": [
      "Total Epochs: 10\n",
      "Train loss start: 0.8405287861824036, Train loss end: 0.9956708550453186\n",
      "Highest Mean Train Accuracy (over epoch): 0.7883035714285714\n",
      "Test loss start: 0.9595686197280884, Test loss end: 0.9508195519447327\n",
      "Highest mean Test Accuracy (over epoch): 0.7885416666666666\n",
      " Test F1 score at highest accuracy: 0.7975634863438555\n",
      "./saved_models/model_6.pth \n",
      "\n",
      " Maximum accuracy: 0.7885416666666666, F1: 0.7975634863438555, Test: 0.9532636925578117, Train: 0.8564161062240601\n",
      "in multi\n"
     ]
    },
    {
     "name": "stderr",
     "output_type": "stream",
     "text": [
      "Training Process: 100%|██████████| 70/70 [00:07<00:00,  9.29it/s]"
     ]
    },
    {
     "name": "stdout",
     "output_type": "stream",
     "text": [
      "Total Epochs: 70\n",
      "Train loss start: 1.0115265846252441, Train loss end: 0.9010607004165649\n",
      "Highest Mean Train Accuracy (over epoch): 0.7873511904761905\n",
      "Test loss start: 1.0668747425079346, Test loss end: 0.8029728531837463\n",
      "Highest mean Test Accuracy (over epoch): 0.8097346230158731\n",
      " Test F1 score at highest accuracy: 0.7793360362878065\n"
     ]
    },
    {
     "name": "stderr",
     "output_type": "stream",
     "text": [
      "\n"
     ]
    }
   ],
   "source": [
    "output_directory = './output.csv'\n",
    "run_experiment(DTEmlp4b, trails=5, output_directory=output_directory)"
   ]
  },
  {
   "cell_type": "code",
   "execution_count": 14,
   "metadata": {},
   "outputs": [],
   "source": [
    "hidden_layers = [25, 25]\n",
    "multiLayerPerceptron = MLP(input_size=input_size, hidden_layers=hidden_layers, output_size=output_size+1, dropout=.5) #hidden size default at 100\n",
    "\n",
    "# Fill DTE params\n",
    "modelSaveDirectory = './saved_models/'\n",
    "DTEmlp8b = DeepTreeEnsemble(task_name='classification',\n",
    "                                model_arch=multiLayerPerceptron,\n",
    "                                model_dir=modelSaveDirectory, \n",
    "                                base_number=4,\n",
    "                                epochs=10,\n",
    "                                train_dataloader=train_dataloader, \n",
    "                                test_dataloader=test_dataloader,\n",
    "                                learning_rate=0.0001)"
   ]
  },
  {
   "cell_type": "code",
   "execution_count": 17,
   "metadata": {},
   "outputs": [
    {
     "name": "stdout",
     "output_type": "stream",
     "text": [
      "Randomly initializing 4 models\n",
      "Training Model with id 1\n",
      "in multi\n"
     ]
    },
    {
     "name": "stderr",
     "output_type": "stream",
     "text": [
      "Training Process: 100%|██████████| 10/10 [00:00<00:00, 14.67it/s]\n"
     ]
    },
    {
     "name": "stdout",
     "output_type": "stream",
     "text": [
      "Total Epochs: 10\n",
      "Train loss start: 1.0107442140579224, Train loss end: 0.7855032682418823\n",
      "Highest Mean Train Accuracy (over epoch): 0.5669642857142857\n",
      "Test loss start: 1.0562001466751099, Test loss end: 1.0480875968933105\n",
      "Highest mean Test Accuracy (over epoch): 0.5153645833333333\n",
      " Test F1 score at highest accuracy: 0.579538665320994\n",
      "./saved_models/model_1.pth \n",
      "\n",
      "Training Model with id 2\n",
      "in multi\n"
     ]
    },
    {
     "name": "stderr",
     "output_type": "stream",
     "text": [
      "Training Process: 100%|██████████| 10/10 [00:00<00:00, 14.51it/s]\n"
     ]
    },
    {
     "name": "stdout",
     "output_type": "stream",
     "text": [
      "Total Epochs: 10\n",
      "Train loss start: 1.0421847105026245, Train loss end: 0.8273233771324158\n",
      "Highest Mean Train Accuracy (over epoch): 0.5752678571428571\n",
      "Test loss start: 1.0396450757980347, Test loss end: 0.9987768530845642\n",
      "Highest mean Test Accuracy (over epoch): 0.588107638888889\n",
      " Test F1 score at highest accuracy: 0.582947050487938\n",
      "./saved_models/model_2.pth \n",
      "\n",
      "Training Model with id 3\n",
      "in multi\n"
     ]
    },
    {
     "name": "stderr",
     "output_type": "stream",
     "text": [
      "Training Process: 100%|██████████| 10/10 [00:00<00:00, 14.66it/s]\n"
     ]
    },
    {
     "name": "stdout",
     "output_type": "stream",
     "text": [
      "Total Epochs: 10\n",
      "Train loss start: 1.0877238512039185, Train loss end: 1.0190229415893555\n",
      "Highest Mean Train Accuracy (over epoch): 0.5226190476190475\n",
      "Test loss start: 1.0814529657363892, Test loss end: 0.9981518983840942\n",
      "Highest mean Test Accuracy (over epoch): 0.6129340277777778\n",
      " Test F1 score at highest accuracy: 0.5701222145524295\n",
      "./saved_models/model_3.pth \n",
      "\n",
      "Training Model with id 4\n",
      "in multi\n"
     ]
    },
    {
     "name": "stderr",
     "output_type": "stream",
     "text": [
      "Training Process: 100%|██████████| 10/10 [00:00<00:00, 13.11it/s]\n"
     ]
    },
    {
     "name": "stdout",
     "output_type": "stream",
     "text": [
      "Total Epochs: 10\n",
      "Train loss start: 1.0955904722213745, Train loss end: 1.1010082960128784\n",
      "Highest Mean Train Accuracy (over epoch): 0.390952380952381\n",
      "Test loss start: 1.0996549129486084, Test loss end: 1.0876994132995605\n",
      "Highest mean Test Accuracy (over epoch): 0.3095486111111111\n",
      " Test F1 score at highest accuracy: 0.476679496692639\n",
      "./saved_models/model_4.pth \n",
      "\n",
      "Training Model with id 7\n",
      "in multi\n"
     ]
    },
    {
     "name": "stderr",
     "output_type": "stream",
     "text": [
      "Training Process: 100%|██████████| 10/10 [00:00<00:00, 10.83it/s]\n"
     ]
    },
    {
     "name": "stdout",
     "output_type": "stream",
     "text": [
      "Total Epochs: 10\n",
      "Train loss start: 1.0897992849349976, Train loss end: 0.9773246049880981\n",
      "Highest Mean Train Accuracy (over epoch): 0.5531547619047619\n",
      "Test loss start: 1.0733366012573242, Test loss end: 1.0595734119415283\n",
      "Highest mean Test Accuracy (over epoch): 0.6612847222222221\n",
      " Test F1 score at highest accuracy: 0.6140299100968419\n",
      "./saved_models/model_7.pth \n",
      "\n",
      "Training Model with id 8\n",
      "in multi\n"
     ]
    },
    {
     "name": "stderr",
     "output_type": "stream",
     "text": [
      "Training Process: 100%|██████████| 10/10 [00:00<00:00, 13.98it/s]\n"
     ]
    },
    {
     "name": "stdout",
     "output_type": "stream",
     "text": [
      "Total Epochs: 10\n",
      "Train loss start: 0.9162999391555786, Train loss end: 1.0364702939987183\n",
      "Highest Mean Train Accuracy (over epoch): 0.6876785714285714\n",
      "Test loss start: 1.0427693128585815, Test loss end: 1.0205779075622559\n",
      "Highest mean Test Accuracy (over epoch): 0.8081597222222221\n",
      " Test F1 score at highest accuracy: 0.7177836267368821\n",
      "./saved_models/model_8.pth \n",
      "\n",
      "Training Model with id 6\n",
      "in multi\n"
     ]
    },
    {
     "name": "stderr",
     "output_type": "stream",
     "text": [
      "Training Process: 100%|██████████| 10/10 [00:00<00:00, 12.65it/s]\n"
     ]
    },
    {
     "name": "stdout",
     "output_type": "stream",
     "text": [
      "Total Epochs: 10\n",
      "Train loss start: 0.8730999827384949, Train loss end: 0.873301088809967\n",
      "Highest Mean Train Accuracy (over epoch): 0.7608258928571429\n",
      "Test loss start: 1.008947491645813, Test loss end: 0.9858274459838867\n",
      "Highest mean Test Accuracy (over epoch): 0.8370659722222221\n",
      " Test F1 score at highest accuracy: 0.7649467943937602\n",
      "./saved_models/model_6.pth \n",
      "\n",
      " Maximum accuracy: 0.8370659722222221, F1: 0.7649467943937602, Test: 0.994207090139389, Train: 0.9094592356681823\n",
      "in multi\n"
     ]
    },
    {
     "name": "stderr",
     "output_type": "stream",
     "text": [
      "Training Process: 100%|██████████| 70/70 [00:06<00:00, 10.03it/s]\n"
     ]
    },
    {
     "name": "stdout",
     "output_type": "stream",
     "text": [
      "Total Epochs: 70\n",
      "Train loss start: 1.0305509567260742, Train loss end: 0.6781969666481018\n",
      "Highest Mean Train Accuracy (over epoch): 0.7413435374149661\n",
      "Test loss start: 1.1000118255615234, Test loss end: 0.8319189548492432\n",
      "Highest mean Test Accuracy (over epoch): 0.75546875\n",
      " Test F1 score at highest accuracy: 0.7504921873703692\n",
      "Randomly initializing 4 models\n",
      "Training Model with id 1\n",
      "in multi\n"
     ]
    },
    {
     "name": "stderr",
     "output_type": "stream",
     "text": [
      "Training Process: 100%|██████████| 10/10 [00:00<00:00, 13.21it/s]\n"
     ]
    },
    {
     "name": "stdout",
     "output_type": "stream",
     "text": [
      "Total Epochs: 10\n",
      "Train loss start: 1.0198134183883667, Train loss end: 0.9033259153366089\n",
      "Highest Mean Train Accuracy (over epoch): 0.48211309523809526\n",
      "Test loss start: 1.0805405378341675, Test loss end: 1.027851939201355\n",
      "Highest mean Test Accuracy (over epoch): 0.6603298611111111\n",
      " Test F1 score at highest accuracy: 0.5512683035275823\n",
      "./saved_models/model_1.pth \n",
      "\n",
      "Training Model with id 2\n",
      "in multi\n"
     ]
    },
    {
     "name": "stderr",
     "output_type": "stream",
     "text": [
      "Training Process: 100%|██████████| 10/10 [00:00<00:00, 13.63it/s]\n"
     ]
    },
    {
     "name": "stdout",
     "output_type": "stream",
     "text": [
      "Total Epochs: 10\n",
      "Train loss start: 1.1421319246292114, Train loss end: 1.0840380191802979\n",
      "Highest Mean Train Accuracy (over epoch): 0.34741071428571424\n",
      "Test loss start: 1.103562355041504, Test loss end: 1.0641728639602661\n",
      "Highest mean Test Accuracy (over epoch): 0.32673611111111106\n",
      " Test F1 score at highest accuracy: 0.4274115592102173\n",
      "./saved_models/model_2.pth \n",
      "\n",
      "Training Model with id 3\n",
      "in multi\n"
     ]
    },
    {
     "name": "stderr",
     "output_type": "stream",
     "text": [
      "Training Process: 100%|██████████| 10/10 [00:00<00:00, 12.63it/s]\n"
     ]
    },
    {
     "name": "stdout",
     "output_type": "stream",
     "text": [
      "Total Epochs: 10\n",
      "Train loss start: 1.0779497623443604, Train loss end: 1.011265516281128\n",
      "Highest Mean Train Accuracy (over epoch): 0.46252976190476197\n",
      "Test loss start: 1.07454514503479, Test loss end: 1.070896863937378\n",
      "Highest mean Test Accuracy (over epoch): 0.3975694444444444\n",
      " Test F1 score at highest accuracy: 0.38540933574475605\n",
      "./saved_models/model_3.pth \n",
      "\n",
      "Training Model with id 4\n",
      "in multi\n"
     ]
    },
    {
     "name": "stderr",
     "output_type": "stream",
     "text": [
      "Training Process: 100%|██████████| 10/10 [00:00<00:00, 13.66it/s]\n"
     ]
    },
    {
     "name": "stdout",
     "output_type": "stream",
     "text": [
      "Total Epochs: 10\n",
      "Train loss start: 1.1646205186843872, Train loss end: 1.13776433467865\n",
      "Highest Mean Train Accuracy (over epoch): 0.3360714285714286\n",
      "Test loss start: 1.1125943660736084, Test loss end: 1.0892360210418701\n",
      "Highest mean Test Accuracy (over epoch): 0.30199652777777775\n",
      " Test F1 score at highest accuracy: 0.3355961767323961\n",
      "./saved_models/model_4.pth \n",
      "\n",
      "Training Model with id 7\n",
      "in multi\n"
     ]
    },
    {
     "name": "stderr",
     "output_type": "stream",
     "text": [
      "Training Process: 100%|██████████| 10/10 [00:00<00:00, 13.67it/s]\n"
     ]
    },
    {
     "name": "stdout",
     "output_type": "stream",
     "text": [
      "Total Epochs: 10\n",
      "Train loss start: 1.0525726079940796, Train loss end: 1.1274325847625732\n",
      "Highest Mean Train Accuracy (over epoch): 0.44488095238095243\n",
      "Test loss start: 1.0933464765548706, Test loss end: 1.0589516162872314\n",
      "Highest mean Test Accuracy (over epoch): 0.5453993055555555\n",
      " Test F1 score at highest accuracy: 0.4685420444755059\n",
      "./saved_models/model_7.pth \n",
      "\n",
      "Training Model with id 8\n",
      "in multi\n"
     ]
    },
    {
     "name": "stderr",
     "output_type": "stream",
     "text": [
      "Training Process: 100%|██████████| 10/10 [00:00<00:00, 13.94it/s]\n"
     ]
    },
    {
     "name": "stdout",
     "output_type": "stream",
     "text": [
      "Total Epochs: 10\n",
      "Train loss start: 1.0142005681991577, Train loss end: 0.9060081839561462\n",
      "Highest Mean Train Accuracy (over epoch): 0.5877083333333334\n",
      "Test loss start: 1.0568686723709106, Test loss end: 1.0258795022964478\n",
      "Highest mean Test Accuracy (over epoch): 0.730642361111111\n",
      " Test F1 score at highest accuracy: 0.6195101581830987\n",
      "./saved_models/model_8.pth \n",
      "\n",
      "Training Model with id 6\n",
      "in multi\n"
     ]
    },
    {
     "name": "stderr",
     "output_type": "stream",
     "text": [
      "Training Process: 100%|██████████| 10/10 [00:00<00:00, 13.35it/s]\n"
     ]
    },
    {
     "name": "stdout",
     "output_type": "stream",
     "text": [
      "Total Epochs: 10\n",
      "Train loss start: 0.9412147998809814, Train loss end: 0.9176772236824036\n",
      "Highest Mean Train Accuracy (over epoch): 0.6927380952380952\n",
      "Test loss start: 1.0109928846359253, Test loss end: 0.9882298707962036\n",
      "Highest mean Test Accuracy (over epoch): 0.7860243055555556\n",
      " Test F1 score at highest accuracy: 0.7145922284308673\n",
      "./saved_models/model_6.pth \n",
      "\n",
      " Maximum accuracy: 0.7860243055555556, F1: 0.7145922284308673, Test: 0.9955898523330688, Train: 0.9415223610401153\n",
      "in multi\n"
     ]
    },
    {
     "name": "stderr",
     "output_type": "stream",
     "text": [
      "Training Process: 100%|██████████| 70/70 [00:07<00:00,  9.99it/s]\n"
     ]
    },
    {
     "name": "stdout",
     "output_type": "stream",
     "text": [
      "Total Epochs: 70\n",
      "Train loss start: 1.0434660911560059, Train loss end: 0.6781549453735352\n",
      "Highest Mean Train Accuracy (over epoch): 0.7445450680272109\n",
      "Test loss start: 1.0851603746414185, Test loss end: 0.8532354235649109\n",
      "Highest mean Test Accuracy (over epoch): 0.7507068452380953\n",
      " Test F1 score at highest accuracy: 0.7527377487787321\n",
      "Randomly initializing 4 models\n",
      "Training Model with id 1\n",
      "in multi\n"
     ]
    },
    {
     "name": "stderr",
     "output_type": "stream",
     "text": [
      "Training Process: 100%|██████████| 10/10 [00:00<00:00, 13.42it/s]\n"
     ]
    },
    {
     "name": "stdout",
     "output_type": "stream",
     "text": [
      "Total Epochs: 10\n",
      "Train loss start: 1.192253589630127, Train loss end: 1.0724201202392578\n",
      "Highest Mean Train Accuracy (over epoch): 0.3169940476190476\n",
      "Test loss start: 1.1224921941757202, Test loss end: 1.0989878177642822\n",
      "Highest mean Test Accuracy (over epoch): 0.13932291666666666\n",
      " Test F1 score at highest accuracy: 0.36154452653650315\n",
      "./saved_models/model_1.pth \n",
      "\n",
      "Training Model with id 2\n",
      "in multi\n"
     ]
    },
    {
     "name": "stderr",
     "output_type": "stream",
     "text": [
      "Training Process: 100%|██████████| 10/10 [00:00<00:00, 13.64it/s]\n"
     ]
    },
    {
     "name": "stdout",
     "output_type": "stream",
     "text": [
      "Total Epochs: 10\n",
      "Train loss start: 1.1419103145599365, Train loss end: 1.106375813484192\n",
      "Highest Mean Train Accuracy (over epoch): 0.2982738095238095\n",
      "Test loss start: 1.1273895502090454, Test loss end: 1.0861246585845947\n",
      "Highest mean Test Accuracy (over epoch): 0.18263888888888888\n",
      " Test F1 score at highest accuracy: 0.357174066090248\n",
      "./saved_models/model_2.pth \n",
      "\n",
      "Training Model with id 3\n",
      "in multi\n"
     ]
    },
    {
     "name": "stderr",
     "output_type": "stream",
     "text": [
      "Training Process: 100%|██████████| 10/10 [00:00<00:00, 13.61it/s]\n"
     ]
    },
    {
     "name": "stdout",
     "output_type": "stream",
     "text": [
      "Total Epochs: 10\n",
      "Train loss start: 1.0015980005264282, Train loss end: 0.9166792035102844\n",
      "Highest Mean Train Accuracy (over epoch): 0.657172619047619\n",
      "Test loss start: 1.020471453666687, Test loss end: 1.011867642402649\n",
      "Highest mean Test Accuracy (over epoch): 0.7519097222222222\n",
      " Test F1 score at highest accuracy: 0.6662784455933868\n",
      "./saved_models/model_3.pth \n",
      "\n",
      "Training Model with id 4\n",
      "in multi\n"
     ]
    },
    {
     "name": "stderr",
     "output_type": "stream",
     "text": [
      "Training Process: 100%|██████████| 10/10 [00:00<00:00, 13.43it/s]\n"
     ]
    },
    {
     "name": "stdout",
     "output_type": "stream",
     "text": [
      "Total Epochs: 10\n",
      "Train loss start: 1.009018063545227, Train loss end: 1.1044920682907104\n",
      "Highest Mean Train Accuracy (over epoch): 0.45752976190476186\n",
      "Test loss start: 1.06082284450531, Test loss end: 1.074981927871704\n",
      "Highest mean Test Accuracy (over epoch): 0.4363715277777779\n",
      " Test F1 score at highest accuracy: 0.5750173973136216\n",
      "./saved_models/model_4.pth \n",
      "\n",
      "Training Model with id 7\n",
      "in multi\n"
     ]
    },
    {
     "name": "stderr",
     "output_type": "stream",
     "text": [
      "Training Process: 100%|██████████| 10/10 [00:00<00:00, 13.42it/s]\n"
     ]
    },
    {
     "name": "stdout",
     "output_type": "stream",
     "text": [
      "Total Epochs: 10\n",
      "Train loss start: 0.9773087501525879, Train loss end: 0.8908599615097046\n",
      "Highest Mean Train Accuracy (over epoch): 0.6183928571428571\n",
      "Test loss start: 1.0260127782821655, Test loss end: 0.9805401563644409\n",
      "Highest mean Test Accuracy (over epoch): 0.7105902777777777\n",
      " Test F1 score at highest accuracy: 0.7071664946916566\n",
      "./saved_models/model_7.pth \n",
      "\n",
      "Training Model with id 8\n",
      "in multi\n"
     ]
    },
    {
     "name": "stderr",
     "output_type": "stream",
     "text": [
      "Training Process: 100%|██████████| 10/10 [00:00<00:00, 13.71it/s]\n"
     ]
    },
    {
     "name": "stdout",
     "output_type": "stream",
     "text": [
      "Total Epochs: 10\n",
      "Train loss start: 0.9337450861930847, Train loss end: 1.0006524324417114\n",
      "Highest Mean Train Accuracy (over epoch): 0.7265873015873017\n",
      "Test loss start: 0.9803228974342346, Test loss end: 0.9578800201416016\n",
      "Highest mean Test Accuracy (over epoch): 0.8030381944444445\n",
      " Test F1 score at highest accuracy: 0.7756030286791094\n",
      "./saved_models/model_8.pth \n",
      "\n",
      "Training Model with id 6\n",
      "in multi\n"
     ]
    },
    {
     "name": "stderr",
     "output_type": "stream",
     "text": [
      "Training Process: 100%|██████████| 10/10 [00:00<00:00, 12.45it/s]\n"
     ]
    },
    {
     "name": "stdout",
     "output_type": "stream",
     "text": [
      "Total Epochs: 10\n",
      "Train loss start: 0.8586816191673279, Train loss end: 0.8041625022888184\n",
      "Highest Mean Train Accuracy (over epoch): 0.8152678571428572\n",
      "Test loss start: 0.9457063674926758, Test loss end: 0.9163417816162109\n",
      "Highest mean Test Accuracy (over epoch): 0.8350694444444445\n",
      " Test F1 score at highest accuracy: 0.8200502349664927\n",
      "./saved_models/model_6.pth \n",
      "\n",
      " Maximum accuracy: 0.8350694444444445, F1: 0.8200502349664927, Test: 0.9248363375663757, Train: 0.8531399166584015\n",
      "in multi\n"
     ]
    },
    {
     "name": "stderr",
     "output_type": "stream",
     "text": [
      "Training Process: 100%|██████████| 70/70 [00:07<00:00,  9.62it/s]\n"
     ]
    },
    {
     "name": "stdout",
     "output_type": "stream",
     "text": [
      "Total Epochs: 70\n",
      "Train loss start: 1.1393439769744873, Train loss end: 0.7810002565383911\n",
      "Highest Mean Train Accuracy (over epoch): 0.7073171768707484\n",
      "Test loss start: 1.0890774726867676, Test loss end: 0.919082760810852\n",
      "Highest mean Test Accuracy (over epoch): 0.6957217261904762\n",
      " Test F1 score at highest accuracy: 0.7219458327737478\n",
      "Randomly initializing 4 models\n",
      "Training Model with id 1\n",
      "in multi\n"
     ]
    },
    {
     "name": "stderr",
     "output_type": "stream",
     "text": [
      "Training Process: 100%|██████████| 10/10 [00:00<00:00, 10.51it/s]\n"
     ]
    },
    {
     "name": "stdout",
     "output_type": "stream",
     "text": [
      "Total Epochs: 10\n",
      "Train loss start: 1.0937892198562622, Train loss end: 1.1124932765960693\n",
      "Highest Mean Train Accuracy (over epoch): 0.5102678571428573\n",
      "Test loss start: 1.092763900756836, Test loss end: 1.0499039888381958\n",
      "Highest mean Test Accuracy (over epoch): 0.58984375\n",
      " Test F1 score at highest accuracy: 0.5162963504997403\n",
      "./saved_models/model_1.pth \n",
      "\n",
      "Training Model with id 2\n",
      "in multi\n"
     ]
    },
    {
     "name": "stderr",
     "output_type": "stream",
     "text": [
      "Training Process: 100%|██████████| 10/10 [00:00<00:00, 12.37it/s]\n"
     ]
    },
    {
     "name": "stdout",
     "output_type": "stream",
     "text": [
      "Total Epochs: 10\n",
      "Train loss start: 1.1150091886520386, Train loss end: 1.0438659191131592\n",
      "Highest Mean Train Accuracy (over epoch): 0.2955654761904762\n",
      "Test loss start: 1.1274747848510742, Test loss end: 1.099778652191162\n",
      "Highest mean Test Accuracy (over epoch): 0.28263888888888894\n",
      " Test F1 score at highest accuracy: 0.250076038233933\n",
      "./saved_models/model_2.pth \n",
      "\n",
      "Training Model with id 3\n",
      "in multi\n"
     ]
    },
    {
     "name": "stderr",
     "output_type": "stream",
     "text": [
      "Training Process: 100%|██████████| 10/10 [00:00<00:00, 11.10it/s]\n"
     ]
    },
    {
     "name": "stdout",
     "output_type": "stream",
     "text": [
      "Total Epochs: 10\n",
      "Train loss start: 1.0667120218276978, Train loss end: 1.0447784662246704\n",
      "Highest Mean Train Accuracy (over epoch): 0.4656845238095238\n",
      "Test loss start: 1.0759053230285645, Test loss end: 1.035356879234314\n",
      "Highest mean Test Accuracy (over epoch): 0.5029513888888889\n",
      " Test F1 score at highest accuracy: 0.5149709500674918\n",
      "./saved_models/model_3.pth \n",
      "\n",
      "Training Model with id 4\n",
      "in multi\n"
     ]
    },
    {
     "name": "stderr",
     "output_type": "stream",
     "text": [
      "Training Process: 100%|██████████| 10/10 [00:00<00:00, 12.53it/s]\n"
     ]
    },
    {
     "name": "stdout",
     "output_type": "stream",
     "text": [
      "Total Epochs: 10\n",
      "Train loss start: 1.163333535194397, Train loss end: 1.092677116394043\n",
      "Highest Mean Train Accuracy (over epoch): 0.2705059523809524\n",
      "Test loss start: 1.0987783670425415, Test loss end: 1.0668480396270752\n",
      "Highest mean Test Accuracy (over epoch): 0.33984375\n",
      " Test F1 score at highest accuracy: 0.2837962204544755\n",
      "./saved_models/model_4.pth \n",
      "\n",
      "Training Model with id 7\n",
      "in multi\n"
     ]
    },
    {
     "name": "stderr",
     "output_type": "stream",
     "text": [
      "Training Process: 100%|██████████| 10/10 [00:00<00:00, 12.66it/s]\n"
     ]
    },
    {
     "name": "stdout",
     "output_type": "stream",
     "text": [
      "Total Epochs: 10\n",
      "Train loss start: 1.108032464981079, Train loss end: 1.0186291933059692\n",
      "Highest Mean Train Accuracy (over epoch): 0.4390178571428571\n",
      "Test loss start: 1.054070234298706, Test loss end: 1.0357290506362915\n",
      "Highest mean Test Accuracy (over epoch): 0.4854166666666667\n",
      " Test F1 score at highest accuracy: 0.47786173307752405\n",
      "./saved_models/model_7.pth \n",
      "\n",
      "Training Model with id 8\n",
      "in multi\n"
     ]
    },
    {
     "name": "stderr",
     "output_type": "stream",
     "text": [
      "Training Process: 100%|██████████| 10/10 [00:00<00:00, 12.61it/s]\n"
     ]
    },
    {
     "name": "stdout",
     "output_type": "stream",
     "text": [
      "Total Epochs: 10\n",
      "Train loss start: 1.0729954242706299, Train loss end: 0.970673143863678\n",
      "Highest Mean Train Accuracy (over epoch): 0.6140178571428572\n",
      "Test loss start: 1.0270096063613892, Test loss end: 1.0023404359817505\n",
      "Highest mean Test Accuracy (over epoch): 0.6706597222222223\n",
      " Test F1 score at highest accuracy: 0.649460682915791\n",
      "./saved_models/model_8.pth \n",
      "\n",
      "Training Model with id 6\n",
      "in multi\n"
     ]
    },
    {
     "name": "stderr",
     "output_type": "stream",
     "text": [
      "Training Process: 100%|██████████| 10/10 [00:00<00:00, 12.89it/s]\n"
     ]
    },
    {
     "name": "stdout",
     "output_type": "stream",
     "text": [
      "Total Epochs: 10\n",
      "Train loss start: 1.0121538639068604, Train loss end: 0.9196857810020447\n",
      "Highest Mean Train Accuracy (over epoch): 0.7490178571428572\n",
      "Test loss start: 0.9882345199584961, Test loss end: 0.9671208262443542\n",
      "Highest mean Test Accuracy (over epoch): 0.8095486111111111\n",
      " Test F1 score at highest accuracy: 0.7635666017107537\n",
      "./saved_models/model_6.pth \n",
      "\n",
      " Maximum accuracy: 0.8095486111111111, F1: 0.7635666017107537, Test: 0.9787906542420387, Train: 0.9413909010092417\n",
      "in multi\n"
     ]
    },
    {
     "name": "stderr",
     "output_type": "stream",
     "text": [
      "Training Process: 100%|██████████| 70/70 [00:07<00:00,  9.24it/s]\n"
     ]
    },
    {
     "name": "stdout",
     "output_type": "stream",
     "text": [
      "Total Epochs: 70\n",
      "Train loss start: 1.084374189376831, Train loss end: 0.6929283142089844\n",
      "Highest Mean Train Accuracy (over epoch): 0.7247619047619047\n",
      "Test loss start: 1.091720700263977, Test loss end: 0.8140995502471924\n",
      "Highest mean Test Accuracy (over epoch): 0.7702380952380953\n",
      " Test F1 score at highest accuracy: 0.7338575628524902\n",
      "Randomly initializing 4 models\n",
      "Training Model with id 1\n",
      "in multi\n"
     ]
    },
    {
     "name": "stderr",
     "output_type": "stream",
     "text": [
      "Training Process: 100%|██████████| 10/10 [00:00<00:00, 12.71it/s]\n"
     ]
    },
    {
     "name": "stdout",
     "output_type": "stream",
     "text": [
      "Total Epochs: 10\n",
      "Train loss start: 1.0542961359024048, Train loss end: 0.8932895064353943\n",
      "Highest Mean Train Accuracy (over epoch): 0.5630357142857143\n",
      "Test loss start: 1.0628647804260254, Test loss end: 0.9986144304275513\n",
      "Highest mean Test Accuracy (over epoch): 0.6328125\n",
      " Test F1 score at highest accuracy: 0.5515536689687774\n",
      "./saved_models/model_1.pth \n",
      "\n",
      "Training Model with id 2\n",
      "in multi\n"
     ]
    },
    {
     "name": "stderr",
     "output_type": "stream",
     "text": [
      "Training Process: 100%|██████████| 10/10 [00:00<00:00, 12.65it/s]\n"
     ]
    },
    {
     "name": "stdout",
     "output_type": "stream",
     "text": [
      "Total Epochs: 10\n",
      "Train loss start: 1.0295137166976929, Train loss end: 1.0647671222686768\n",
      "Highest Mean Train Accuracy (over epoch): 0.4496130952380952\n",
      "Test loss start: 1.0717999935150146, Test loss end: 1.0598896741867065\n",
      "Highest mean Test Accuracy (over epoch): 0.5149305555555556\n",
      " Test F1 score at highest accuracy: 0.544696921257557\n",
      "./saved_models/model_2.pth \n",
      "\n",
      "Training Model with id 3\n",
      "in multi\n"
     ]
    },
    {
     "name": "stderr",
     "output_type": "stream",
     "text": [
      "Training Process: 100%|██████████| 10/10 [00:00<00:00, 12.73it/s]\n"
     ]
    },
    {
     "name": "stdout",
     "output_type": "stream",
     "text": [
      "Total Epochs: 10\n",
      "Train loss start: 1.1521553993225098, Train loss end: 0.9510835409164429\n",
      "Highest Mean Train Accuracy (over epoch): 0.4059821428571429\n",
      "Test loss start: 1.0964481830596924, Test loss end: 1.0511518716812134\n",
      "Highest mean Test Accuracy (over epoch): 0.552951388888889\n",
      " Test F1 score at highest accuracy: 0.43452530186863325\n",
      "./saved_models/model_3.pth \n",
      "\n",
      "Training Model with id 4\n",
      "in multi\n"
     ]
    },
    {
     "name": "stderr",
     "output_type": "stream",
     "text": [
      "Training Process: 100%|██████████| 10/10 [00:00<00:00, 12.69it/s]\n"
     ]
    },
    {
     "name": "stdout",
     "output_type": "stream",
     "text": [
      "Total Epochs: 10\n",
      "Train loss start: 1.0875262022018433, Train loss end: 1.0805431604385376\n",
      "Highest Mean Train Accuracy (over epoch): 0.41389880952380953\n",
      "Test loss start: 1.0751100778579712, Test loss end: 1.0326346158981323\n",
      "Highest mean Test Accuracy (over epoch): 0.5694444444444444\n",
      " Test F1 score at highest accuracy: 0.44647630477009514\n",
      "./saved_models/model_4.pth \n",
      "\n",
      "Training Model with id 7\n",
      "in multi\n"
     ]
    },
    {
     "name": "stderr",
     "output_type": "stream",
     "text": [
      "Training Process: 100%|██████████| 10/10 [00:00<00:00, 12.38it/s]\n"
     ]
    },
    {
     "name": "stdout",
     "output_type": "stream",
     "text": [
      "Total Epochs: 10\n",
      "Train loss start: 1.125285029411316, Train loss end: 0.9508618116378784\n",
      "Highest Mean Train Accuracy (over epoch): 0.5275892857142858\n",
      "Test loss start: 1.0292962789535522, Test loss end: 0.9850210547447205\n",
      "Highest mean Test Accuracy (over epoch): 0.8189236111111111\n",
      " Test F1 score at highest accuracy: 0.5528393546050782\n",
      "./saved_models/model_7.pth \n",
      "\n",
      "Training Model with id 8\n",
      "in multi\n"
     ]
    },
    {
     "name": "stderr",
     "output_type": "stream",
     "text": [
      "Training Process: 100%|██████████| 10/10 [00:00<00:00, 12.48it/s]\n"
     ]
    },
    {
     "name": "stdout",
     "output_type": "stream",
     "text": [
      "Total Epochs: 10\n",
      "Train loss start: 0.9801024794578552, Train loss end: 0.8461185693740845\n",
      "Highest Mean Train Accuracy (over epoch): 0.6604464285714285\n",
      "Test loss start: 0.9858596920967102, Test loss end: 0.9180958271026611\n",
      "Highest mean Test Accuracy (over epoch): 0.8935185185185185\n",
      " Test F1 score at highest accuracy: 0.667586219564943\n",
      "./saved_models/model_8.pth \n",
      "\n",
      "Training Model with id 6\n",
      "in multi\n"
     ]
    },
    {
     "name": "stderr",
     "output_type": "stream",
     "text": [
      "Training Process: 100%|██████████| 10/10 [00:00<00:00, 11.09it/s]\n"
     ]
    },
    {
     "name": "stdout",
     "output_type": "stream",
     "text": [
      "Total Epochs: 10\n",
      "Train loss start: 0.9593726396560669, Train loss end: 0.8009305596351624\n",
      "Highest Mean Train Accuracy (over epoch): 0.7353273809523809\n",
      "Test loss start: 0.9241043329238892, Test loss end: 0.9043962955474854\n",
      "Highest mean Test Accuracy (over epoch): 0.9359809027777778\n",
      " Test F1 score at highest accuracy: 0.7406214958282293\n",
      "./saved_models/model_6.pth \n",
      "\n",
      " Maximum accuracy: 0.9359809027777778, F1: 0.7406214958282293, Test: 0.9219799339771271, Train: 0.8925912451744079\n",
      "in multi\n"
     ]
    },
    {
     "name": "stderr",
     "output_type": "stream",
     "text": [
      "Training Process: 100%|██████████| 70/70 [00:07<00:00,  9.52it/s]\n"
     ]
    },
    {
     "name": "stdout",
     "output_type": "stream",
     "text": [
      "Total Epochs: 70\n",
      "Train loss start: 1.0343141555786133, Train loss end: 0.6750849485397339\n",
      "Highest Mean Train Accuracy (over epoch): 0.7662670068027211\n",
      "Test loss start: 1.0676788091659546, Test loss end: 0.7867733240127563\n",
      "Highest mean Test Accuracy (over epoch): 0.7895089285714286\n",
      " Test F1 score at highest accuracy: 0.7792594524277713\n",
      "Randomly initializing 4 models\n",
      "Training Model with id 1\n",
      "in multi\n"
     ]
    },
    {
     "name": "stderr",
     "output_type": "stream",
     "text": [
      "Training Process: 100%|██████████| 10/10 [00:00<00:00, 12.81it/s]\n"
     ]
    },
    {
     "name": "stdout",
     "output_type": "stream",
     "text": [
      "Total Epochs: 10\n",
      "Train loss start: 1.0658676624298096, Train loss end: 1.0367838144302368\n",
      "Highest Mean Train Accuracy (over epoch): 0.47839285714285723\n",
      "Test loss start: 1.0987939834594727, Test loss end: 1.0210820436477661\n",
      "Highest mean Test Accuracy (over epoch): 0.5594618055555556\n",
      " Test F1 score at highest accuracy: 0.5074000687767429\n",
      "./saved_models/model_1.pth \n",
      "\n",
      "Training Model with id 2\n",
      "in multi\n"
     ]
    },
    {
     "name": "stderr",
     "output_type": "stream",
     "text": [
      "Training Process: 100%|██████████| 10/10 [00:00<00:00, 12.70it/s]\n"
     ]
    },
    {
     "name": "stdout",
     "output_type": "stream",
     "text": [
      "Total Epochs: 10\n",
      "Train loss start: 1.1119108200073242, Train loss end: 0.910123348236084\n",
      "Highest Mean Train Accuracy (over epoch): 0.5168452380952381\n",
      "Test loss start: 1.0917410850524902, Test loss end: 1.050079584121704\n",
      "Highest mean Test Accuracy (over epoch): 0.5575520833333334\n",
      " Test F1 score at highest accuracy: 0.5486733096576216\n",
      "./saved_models/model_2.pth \n",
      "\n",
      "Training Model with id 3\n",
      "in multi\n"
     ]
    },
    {
     "name": "stderr",
     "output_type": "stream",
     "text": [
      "Training Process: 100%|██████████| 10/10 [00:00<00:00, 11.44it/s]\n"
     ]
    },
    {
     "name": "stdout",
     "output_type": "stream",
     "text": [
      "Total Epochs: 10\n",
      "Train loss start: 1.0717122554779053, Train loss end: 0.8898141980171204\n",
      "Highest Mean Train Accuracy (over epoch): 0.44639880952380956\n",
      "Test loss start: 1.0957725048065186, Test loss end: 1.0446362495422363\n",
      "Highest mean Test Accuracy (over epoch): 0.34305555555555556\n",
      " Test F1 score at highest accuracy: 0.5194905618018478\n",
      "./saved_models/model_3.pth \n",
      "\n",
      "Training Model with id 4\n",
      "in multi\n"
     ]
    },
    {
     "name": "stderr",
     "output_type": "stream",
     "text": [
      "Training Process: 100%|██████████| 10/10 [00:00<00:00, 12.80it/s]\n"
     ]
    },
    {
     "name": "stdout",
     "output_type": "stream",
     "text": [
      "Total Epochs: 10\n",
      "Train loss start: 1.2025409936904907, Train loss end: 1.15236496925354\n",
      "Highest Mean Train Accuracy (over epoch): 0.3269940476190476\n",
      "Test loss start: 1.1176379919052124, Test loss end: 1.065751075744629\n",
      "Highest mean Test Accuracy (over epoch): 0.5111979166666666\n",
      " Test F1 score at highest accuracy: 0.34601152131739904\n",
      "./saved_models/model_4.pth \n",
      "\n",
      "Training Model with id 7\n",
      "in multi\n"
     ]
    },
    {
     "name": "stderr",
     "output_type": "stream",
     "text": [
      "Training Process: 100%|██████████| 10/10 [00:00<00:00, 12.04it/s]\n"
     ]
    },
    {
     "name": "stdout",
     "output_type": "stream",
     "text": [
      "Total Epochs: 10\n",
      "Train loss start: 1.1521244049072266, Train loss end: 1.0424352884292603\n",
      "Highest Mean Train Accuracy (over epoch): 0.4804464285714285\n",
      "Test loss start: 1.0559042692184448, Test loss end: 1.03147554397583\n",
      "Highest mean Test Accuracy (over epoch): 0.5699652777777777\n",
      " Test F1 score at highest accuracy: 0.44461267698286616\n",
      "./saved_models/model_7.pth \n",
      "\n",
      "Training Model with id 8\n",
      "in multi\n"
     ]
    },
    {
     "name": "stderr",
     "output_type": "stream",
     "text": [
      "Training Process: 100%|██████████| 10/10 [00:00<00:00, 12.64it/s]\n"
     ]
    },
    {
     "name": "stdout",
     "output_type": "stream",
     "text": [
      "Total Epochs: 10\n",
      "Train loss start: 1.0095982551574707, Train loss end: 1.091516137123108\n",
      "Highest Mean Train Accuracy (over epoch): 0.5777380952380952\n",
      "Test loss start: 1.012678623199463, Test loss end: 0.9891545176506042\n",
      "Highest mean Test Accuracy (over epoch): 0.6027777777777777\n",
      " Test F1 score at highest accuracy: 0.5043073960683008\n",
      "./saved_models/model_8.pth \n",
      "\n",
      "Training Model with id 6\n",
      "in multi\n"
     ]
    },
    {
     "name": "stderr",
     "output_type": "stream",
     "text": [
      "Training Process: 100%|██████████| 10/10 [00:00<00:00, 12.76it/s]\n"
     ]
    },
    {
     "name": "stdout",
     "output_type": "stream",
     "text": [
      "Total Epochs: 10\n",
      "Train loss start: 1.0104396343231201, Train loss end: 0.9068523645401001\n",
      "Highest Mean Train Accuracy (over epoch): 0.6321428571428572\n",
      "Test loss start: 0.9731983542442322, Test loss end: 0.9538004398345947\n",
      "Highest mean Test Accuracy (over epoch): 0.6479166666666666\n",
      " Test F1 score at highest accuracy: 0.5475048092658198\n",
      "./saved_models/model_6.pth \n",
      "\n",
      " Maximum accuracy: 0.6479166666666666, F1: 0.5475048092658198, Test: 0.970243664085865, Train: 0.9545261279741923\n",
      "in multi\n"
     ]
    },
    {
     "name": "stderr",
     "output_type": "stream",
     "text": [
      "Training Process: 100%|██████████| 70/70 [00:07<00:00,  8.86it/s]\n"
     ]
    },
    {
     "name": "stdout",
     "output_type": "stream",
     "text": [
      "Total Epochs: 70\n",
      "Train loss start: 0.9671714305877686, Train loss end: 0.8922423720359802\n",
      "Highest Mean Train Accuracy (over epoch): 0.7648426870748299\n",
      "Test loss start: 1.0451751947402954, Test loss end: 0.8732984066009521\n",
      "Highest mean Test Accuracy (over epoch): 0.843563988095238\n",
      " Test F1 score at highest accuracy: 0.7658253566545713\n",
      "Randomly initializing 4 models\n",
      "Training Model with id 1\n",
      "in multi\n"
     ]
    },
    {
     "name": "stderr",
     "output_type": "stream",
     "text": [
      "Training Process: 100%|██████████| 10/10 [00:00<00:00, 11.10it/s]\n"
     ]
    },
    {
     "name": "stdout",
     "output_type": "stream",
     "text": [
      "Total Epochs: 10\n",
      "Train loss start: 1.1781752109527588, Train loss end: 1.1313351392745972\n",
      "Highest Mean Train Accuracy (over epoch): 0.37639880952380955\n",
      "Test loss start: 1.0750569105148315, Test loss end: 0.97175133228302\n",
      "Highest mean Test Accuracy (over epoch): 0.5598090277777777\n",
      " Test F1 score at highest accuracy: 0.46900510053823663\n",
      "./saved_models/model_1.pth \n",
      "\n",
      "Training Model with id 2\n",
      "in multi\n"
     ]
    },
    {
     "name": "stderr",
     "output_type": "stream",
     "text": [
      "Training Process: 100%|██████████| 10/10 [00:00<00:00, 12.74it/s]\n"
     ]
    },
    {
     "name": "stdout",
     "output_type": "stream",
     "text": [
      "Total Epochs: 10\n",
      "Train loss start: 1.203627109527588, Train loss end: 1.23074209690094\n",
      "Highest Mean Train Accuracy (over epoch): 0.23226190476190478\n",
      "Test loss start: 1.1338828802108765, Test loss end: 1.1063430309295654\n",
      "Highest mean Test Accuracy (over epoch): 0.2930555555555555\n",
      " Test F1 score at highest accuracy: 0.20323851619582312\n",
      "./saved_models/model_2.pth \n",
      "\n",
      "Training Model with id 3\n",
      "in multi\n"
     ]
    },
    {
     "name": "stderr",
     "output_type": "stream",
     "text": [
      "Training Process: 100%|██████████| 10/10 [00:00<00:00, 12.71it/s]\n"
     ]
    },
    {
     "name": "stdout",
     "output_type": "stream",
     "text": [
      "Total Epochs: 10\n",
      "Train loss start: 1.0322142839431763, Train loss end: 1.0528618097305298\n",
      "Highest Mean Train Accuracy (over epoch): 0.4675595238095238\n",
      "Test loss start: 1.0493284463882446, Test loss end: 0.9997572302818298\n",
      "Highest mean Test Accuracy (over epoch): 0.4470486111111111\n",
      " Test F1 score at highest accuracy: 0.359309532056155\n",
      "./saved_models/model_3.pth \n",
      "\n",
      "Training Model with id 4\n",
      "in multi\n"
     ]
    },
    {
     "name": "stderr",
     "output_type": "stream",
     "text": [
      "Training Process: 100%|██████████| 10/10 [00:00<00:00, 12.63it/s]\n"
     ]
    },
    {
     "name": "stdout",
     "output_type": "stream",
     "text": [
      "Total Epochs: 10\n",
      "Train loss start: 1.1174730062484741, Train loss end: 1.0797040462493896\n",
      "Highest Mean Train Accuracy (over epoch): 0.44133928571428566\n",
      "Test loss start: 1.090414047241211, Test loss end: 1.0566306114196777\n",
      "Highest mean Test Accuracy (over epoch): 0.46553819444444444\n",
      " Test F1 score at highest accuracy: 0.4948259665708991\n",
      "./saved_models/model_4.pth \n",
      "\n",
      "Training Model with id 7\n",
      "in multi\n"
     ]
    },
    {
     "name": "stderr",
     "output_type": "stream",
     "text": [
      "Training Process: 100%|██████████| 10/10 [00:00<00:00, 12.24it/s]\n"
     ]
    },
    {
     "name": "stdout",
     "output_type": "stream",
     "text": [
      "Total Epochs: 10\n",
      "Train loss start: 1.0669775009155273, Train loss end: 0.9953832030296326\n",
      "Highest Mean Train Accuracy (over epoch): 0.5659226190476191\n",
      "Test loss start: 1.0291328430175781, Test loss end: 1.0046396255493164\n",
      "Highest mean Test Accuracy (over epoch): 0.6217013888888889\n",
      " Test F1 score at highest accuracy: 0.584588852962485\n",
      "./saved_models/model_7.pth \n",
      "\n",
      "Training Model with id 8\n",
      "in multi\n"
     ]
    },
    {
     "name": "stderr",
     "output_type": "stream",
     "text": [
      "Training Process: 100%|██████████| 10/10 [00:00<00:00, 11.00it/s]\n"
     ]
    },
    {
     "name": "stdout",
     "output_type": "stream",
     "text": [
      "Total Epochs: 10\n",
      "Train loss start: 1.0232212543487549, Train loss end: 0.9626533389091492\n",
      "Highest Mean Train Accuracy (over epoch): 0.6308928571428573\n",
      "Test loss start: 0.984365701675415, Test loss end: 0.9660859704017639\n",
      "Highest mean Test Accuracy (over epoch): 0.678125\n",
      " Test F1 score at highest accuracy: 0.6278270682620676\n",
      "./saved_models/model_8.pth \n",
      "\n",
      "Training Model with id 6\n",
      "in multi\n"
     ]
    },
    {
     "name": "stderr",
     "output_type": "stream",
     "text": [
      "Training Process: 100%|██████████| 10/10 [00:00<00:00, 12.27it/s]\n"
     ]
    },
    {
     "name": "stdout",
     "output_type": "stream",
     "text": [
      "Total Epochs: 10\n",
      "Train loss start: 0.9432086944580078, Train loss end: 0.8879373669624329\n",
      "Highest Mean Train Accuracy (over epoch): 0.6958333333333333\n",
      "Test loss start: 0.9583566188812256, Test loss end: 0.9196834564208984\n",
      "Highest mean Test Accuracy (over epoch): 0.7433449074074073\n",
      " Test F1 score at highest accuracy: 0.6783604139526016\n",
      "./saved_models/model_6.pth \n",
      "\n",
      " Maximum accuracy: 0.7433449074074073, F1: 0.6783604139526016, Test: 0.9508083298802376, Train: 0.9178691899776459\n",
      "in multi\n"
     ]
    },
    {
     "name": "stderr",
     "output_type": "stream",
     "text": [
      "Training Process: 100%|██████████| 70/70 [00:07<00:00,  9.52it/s]\n"
     ]
    },
    {
     "name": "stdout",
     "output_type": "stream",
     "text": [
      "Total Epochs: 70\n",
      "Train loss start: 1.3089958429336548, Train loss end: 0.7336999177932739\n",
      "Highest Mean Train Accuracy (over epoch): 0.4250977891156462\n",
      "Test loss start: 1.2085208892822266, Test loss end: 0.8651534914970398\n",
      "Highest mean Test Accuracy (over epoch): 0.5648561507936508\n",
      " Test F1 score at highest accuracy: 0.5603926880679011\n",
      "Randomly initializing 4 models\n",
      "Training Model with id 1\n",
      "in multi\n"
     ]
    },
    {
     "name": "stderr",
     "output_type": "stream",
     "text": [
      "Training Process: 100%|██████████| 10/10 [00:00<00:00, 12.45it/s]\n"
     ]
    },
    {
     "name": "stdout",
     "output_type": "stream",
     "text": [
      "Total Epochs: 10\n",
      "Train loss start: 1.2079302072525024, Train loss end: 1.2265204191207886\n",
      "Highest Mean Train Accuracy (over epoch): 0.19636904761904764\n",
      "Test loss start: 1.0983927249908447, Test loss end: 1.1045384407043457\n",
      "Highest mean Test Accuracy (over epoch): 0.2263888888888889\n",
      " Test F1 score at highest accuracy: 0.28647019053228623\n",
      "./saved_models/model_1.pth \n",
      "\n",
      "Training Model with id 2\n",
      "in multi\n"
     ]
    },
    {
     "name": "stderr",
     "output_type": "stream",
     "text": [
      "Training Process: 100%|██████████| 10/10 [00:00<00:00, 11.39it/s]\n"
     ]
    },
    {
     "name": "stdout",
     "output_type": "stream",
     "text": [
      "Total Epochs: 10\n",
      "Train loss start: 1.0986868143081665, Train loss end: 1.0082969665527344\n",
      "Highest Mean Train Accuracy (over epoch): 0.41497023809523803\n",
      "Test loss start: 1.1066876649856567, Test loss end: 1.0486044883728027\n",
      "Highest mean Test Accuracy (over epoch): 0.3654513888888889\n",
      " Test F1 score at highest accuracy: 0.45647718080432537\n",
      "./saved_models/model_2.pth \n",
      "\n",
      "Training Model with id 3\n",
      "in multi\n"
     ]
    },
    {
     "name": "stderr",
     "output_type": "stream",
     "text": [
      "Training Process: 100%|██████████| 10/10 [00:00<00:00, 12.39it/s]\n"
     ]
    },
    {
     "name": "stdout",
     "output_type": "stream",
     "text": [
      "Total Epochs: 10\n",
      "Train loss start: 1.139572024345398, Train loss end: 1.0622161626815796\n",
      "Highest Mean Train Accuracy (over epoch): 0.37839285714285714\n",
      "Test loss start: 1.0740337371826172, Test loss end: 1.0527331829071045\n",
      "Highest mean Test Accuracy (over epoch): 0.4020833333333334\n",
      " Test F1 score at highest accuracy: 0.3532124988444548\n",
      "./saved_models/model_3.pth \n",
      "\n",
      "Training Model with id 4\n",
      "in multi\n"
     ]
    },
    {
     "name": "stderr",
     "output_type": "stream",
     "text": [
      "Training Process: 100%|██████████| 10/10 [00:00<00:00, 12.71it/s]\n"
     ]
    },
    {
     "name": "stdout",
     "output_type": "stream",
     "text": [
      "Total Epochs: 10\n",
      "Train loss start: 1.152896523475647, Train loss end: 1.0392591953277588\n",
      "Highest Mean Train Accuracy (over epoch): 0.39065476190476195\n",
      "Test loss start: 1.0680811405181885, Test loss end: 1.0328413248062134\n",
      "Highest mean Test Accuracy (over epoch): 0.4982638888888889\n",
      " Test F1 score at highest accuracy: 0.277091999124299\n",
      "./saved_models/model_4.pth \n",
      "\n",
      "Training Model with id 7\n",
      "in multi\n"
     ]
    },
    {
     "name": "stderr",
     "output_type": "stream",
     "text": [
      "Training Process: 100%|██████████| 10/10 [00:00<00:00, 12.59it/s]\n"
     ]
    },
    {
     "name": "stdout",
     "output_type": "stream",
     "text": [
      "Total Epochs: 10\n",
      "Train loss start: 1.108034372329712, Train loss end: 0.9672381281852722\n",
      "Highest Mean Train Accuracy (over epoch): 0.5260416666666666\n",
      "Test loss start: 1.0272165536880493, Test loss end: 1.005526065826416\n",
      "Highest mean Test Accuracy (over epoch): 0.5580729166666666\n",
      " Test F1 score at highest accuracy: 0.5246708973196289\n",
      "./saved_models/model_7.pth \n",
      "\n",
      "Training Model with id 8\n",
      "in multi\n"
     ]
    },
    {
     "name": "stderr",
     "output_type": "stream",
     "text": [
      "Training Process: 100%|██████████| 10/10 [00:00<00:00, 12.73it/s]\n"
     ]
    },
    {
     "name": "stdout",
     "output_type": "stream",
     "text": [
      "Total Epochs: 10\n",
      "Train loss start: 0.9429277181625366, Train loss end: 1.0847737789154053\n",
      "Highest Mean Train Accuracy (over epoch): 0.6365178571428571\n",
      "Test loss start: 0.9886135458946228, Test loss end: 0.938796877861023\n",
      "Highest mean Test Accuracy (over epoch): 0.7196180555555556\n",
      " Test F1 score at highest accuracy: 0.6571484733869354\n",
      "./saved_models/model_8.pth \n",
      "\n",
      "Training Model with id 6\n",
      "in multi\n"
     ]
    },
    {
     "name": "stderr",
     "output_type": "stream",
     "text": [
      "Training Process: 100%|██████████| 10/10 [00:00<00:00, 12.80it/s]\n"
     ]
    },
    {
     "name": "stdout",
     "output_type": "stream",
     "text": [
      "Total Epochs: 10\n",
      "Train loss start: 0.8982851505279541, Train loss end: 0.8762076497077942\n",
      "Highest Mean Train Accuracy (over epoch): 0.7305059523809524\n",
      "Test loss start: 0.9342353940010071, Test loss end: 0.9264870882034302\n",
      "Highest mean Test Accuracy (over epoch): 0.8478009259259259\n",
      " Test F1 score at highest accuracy: 0.7180860697024235\n",
      "./saved_models/model_6.pth \n",
      "\n",
      " Maximum accuracy: 0.8478009259259259, F1: 0.7180860697024235, Test: 0.9386907786130905, Train: 0.8930994427204132\n",
      "in multi\n"
     ]
    },
    {
     "name": "stderr",
     "output_type": "stream",
     "text": [
      "Training Process: 100%|██████████| 70/70 [00:07<00:00,  9.21it/s]\n"
     ]
    },
    {
     "name": "stdout",
     "output_type": "stream",
     "text": [
      "Total Epochs: 70\n",
      "Train loss start: 1.1651023626327515, Train loss end: 0.7068885564804077\n",
      "Highest Mean Train Accuracy (over epoch): 0.6260459183673469\n",
      "Test loss start: 1.1260883808135986, Test loss end: 0.8429651260375977\n",
      "Highest mean Test Accuracy (over epoch): 0.675\n",
      " Test F1 score at highest accuracy: 0.685254200043614\n",
      "Randomly initializing 4 models\n",
      "Training Model with id 1\n",
      "in multi\n"
     ]
    },
    {
     "name": "stderr",
     "output_type": "stream",
     "text": [
      "Training Process: 100%|██████████| 10/10 [00:00<00:00, 12.59it/s]\n"
     ]
    },
    {
     "name": "stdout",
     "output_type": "stream",
     "text": [
      "Total Epochs: 10\n",
      "Train loss start: 1.2108782529830933, Train loss end: 1.1747885942459106\n",
      "Highest Mean Train Accuracy (over epoch): 0.2850595238095238\n",
      "Test loss start: 1.1445974111557007, Test loss end: 1.0805034637451172\n",
      "Highest mean Test Accuracy (over epoch): 0.46388888888888885\n",
      " Test F1 score at highest accuracy: 0.3677830389049378\n",
      "./saved_models/model_1.pth \n",
      "\n",
      "Training Model with id 2\n",
      "in multi\n"
     ]
    },
    {
     "name": "stderr",
     "output_type": "stream",
     "text": [
      "Training Process: 100%|██████████| 10/10 [00:00<00:00, 12.65it/s]\n"
     ]
    },
    {
     "name": "stdout",
     "output_type": "stream",
     "text": [
      "Total Epochs: 10\n",
      "Train loss start: 1.0900996923446655, Train loss end: 0.969765841960907\n",
      "Highest Mean Train Accuracy (over epoch): 0.45110119047619046\n",
      "Test loss start: 1.0638378858566284, Test loss end: 1.0464199781417847\n",
      "Highest mean Test Accuracy (over epoch): 0.4927083333333334\n",
      " Test F1 score at highest accuracy: 0.4506327151367348\n",
      "./saved_models/model_2.pth \n",
      "\n",
      "Training Model with id 3\n",
      "in multi\n"
     ]
    },
    {
     "name": "stderr",
     "output_type": "stream",
     "text": [
      "Training Process: 100%|██████████| 10/10 [00:00<00:00, 12.82it/s]\n"
     ]
    },
    {
     "name": "stdout",
     "output_type": "stream",
     "text": [
      "Total Epochs: 10\n",
      "Train loss start: 1.1492137908935547, Train loss end: 1.139257550239563\n",
      "Highest Mean Train Accuracy (over epoch): 0.38160714285714287\n",
      "Test loss start: 1.1419193744659424, Test loss end: 1.1019740104675293\n",
      "Highest mean Test Accuracy (over epoch): 0.40425347222222224\n",
      " Test F1 score at highest accuracy: 0.3374737784195908\n",
      "./saved_models/model_3.pth \n",
      "\n",
      "Training Model with id 4\n",
      "in multi\n"
     ]
    },
    {
     "name": "stderr",
     "output_type": "stream",
     "text": [
      "Training Process: 100%|██████████| 10/10 [00:00<00:00, 12.07it/s]\n"
     ]
    },
    {
     "name": "stdout",
     "output_type": "stream",
     "text": [
      "Total Epochs: 10\n",
      "Train loss start: 1.1188201904296875, Train loss end: 0.9734207391738892\n",
      "Highest Mean Train Accuracy (over epoch): 0.3370535714285714\n",
      "Test loss start: 1.080544352531433, Test loss end: 1.0810418128967285\n",
      "Highest mean Test Accuracy (over epoch): 0.3629340277777778\n",
      " Test F1 score at highest accuracy: 0.4247568909737227\n",
      "./saved_models/model_4.pth \n",
      "\n",
      "Training Model with id 7\n",
      "in multi\n"
     ]
    },
    {
     "name": "stderr",
     "output_type": "stream",
     "text": [
      "Training Process: 100%|██████████| 10/10 [00:00<00:00, 10.80it/s]\n"
     ]
    },
    {
     "name": "stdout",
     "output_type": "stream",
     "text": [
      "Total Epochs: 10\n",
      "Train loss start: 1.0584062337875366, Train loss end: 0.9057425260543823\n",
      "Highest Mean Train Accuracy (over epoch): 0.5276785714285714\n",
      "Test loss start: 1.0369579792022705, Test loss end: 1.03840172290802\n",
      "Highest mean Test Accuracy (over epoch): 0.6319444444444444\n",
      " Test F1 score at highest accuracy: 0.595823070408453\n",
      "./saved_models/model_7.pth \n",
      "\n",
      "Training Model with id 8\n",
      "in multi\n"
     ]
    },
    {
     "name": "stderr",
     "output_type": "stream",
     "text": [
      "Training Process: 100%|██████████| 10/10 [00:00<00:00, 11.02it/s]\n"
     ]
    },
    {
     "name": "stdout",
     "output_type": "stream",
     "text": [
      "Total Epochs: 10\n",
      "Train loss start: 1.001176118850708, Train loss end: 1.0220993757247925\n",
      "Highest Mean Train Accuracy (over epoch): 0.6734523809523809\n",
      "Test loss start: 0.9879130125045776, Test loss end: 1.0041500329971313\n",
      "Highest mean Test Accuracy (over epoch): 0.7329861111111111\n",
      " Test F1 score at highest accuracy: 0.7046933630381605\n",
      "./saved_models/model_8.pth \n",
      "\n",
      "Training Model with id 6\n",
      "in multi\n"
     ]
    },
    {
     "name": "stderr",
     "output_type": "stream",
     "text": [
      "Training Process: 100%|██████████| 10/10 [00:00<00:00, 12.26it/s]\n"
     ]
    },
    {
     "name": "stdout",
     "output_type": "stream",
     "text": [
      "Total Epochs: 10\n",
      "Train loss start: 1.0191048383712769, Train loss end: 0.9134131669998169\n",
      "Highest Mean Train Accuracy (over epoch): 0.7664583333333334\n",
      "Test loss start: 0.9694069623947144, Test loss end: 0.96502685546875\n",
      "Highest mean Test Accuracy (over epoch): 0.7630208333333334\n",
      " Test F1 score at highest accuracy: 0.7279120879120878\n",
      "./saved_models/model_6.pth \n",
      "\n",
      " Maximum accuracy: 0.7630208333333334, F1: 0.7279120879120878, Test: 0.9676480337977409, Train: 0.9163194445768992\n",
      "in multi\n"
     ]
    },
    {
     "name": "stderr",
     "output_type": "stream",
     "text": [
      "Training Process: 100%|██████████| 70/70 [00:07<00:00,  9.45it/s]\n"
     ]
    },
    {
     "name": "stdout",
     "output_type": "stream",
     "text": [
      "Total Epochs: 70\n",
      "Train loss start: 1.0268529653549194, Train loss end: 0.6246167421340942\n",
      "Highest Mean Train Accuracy (over epoch): 0.7633801020408163\n",
      "Test loss start: 1.048568606376648, Test loss end: 0.8090278506278992\n",
      "Highest mean Test Accuracy (over epoch): 0.8318948412698413\n",
      " Test F1 score at highest accuracy: 0.7602801198709126\n",
      "Randomly initializing 4 models\n",
      "Training Model with id 1\n",
      "in multi\n"
     ]
    },
    {
     "name": "stderr",
     "output_type": "stream",
     "text": [
      "Training Process: 100%|██████████| 10/10 [00:00<00:00, 11.40it/s]\n"
     ]
    },
    {
     "name": "stdout",
     "output_type": "stream",
     "text": [
      "Total Epochs: 10\n",
      "Train loss start: 1.2855887413024902, Train loss end: 1.2310686111450195\n",
      "Highest Mean Train Accuracy (over epoch): 0.09729166666666665\n",
      "Test loss start: 1.1592103242874146, Test loss end: 1.123347520828247\n",
      "Highest mean Test Accuracy (over epoch): 0.1359375\n",
      " Test F1 score at highest accuracy: 0.1571260177251288\n",
      "./saved_models/model_1.pth \n",
      "\n",
      "Training Model with id 2\n",
      "in multi\n"
     ]
    },
    {
     "name": "stderr",
     "output_type": "stream",
     "text": [
      "Training Process: 100%|██████████| 10/10 [00:00<00:00, 12.43it/s]\n"
     ]
    },
    {
     "name": "stdout",
     "output_type": "stream",
     "text": [
      "Total Epochs: 10\n",
      "Train loss start: 0.9930299520492554, Train loss end: 1.1136114597320557\n",
      "Highest Mean Train Accuracy (over epoch): 0.6253273809523809\n",
      "Test loss start: 1.0642895698547363, Test loss end: 1.0276613235473633\n",
      "Highest mean Test Accuracy (over epoch): 0.6412326388888888\n",
      " Test F1 score at highest accuracy: 0.5651437393103406\n",
      "./saved_models/model_2.pth \n",
      "\n",
      "Training Model with id 3\n",
      "in multi\n"
     ]
    },
    {
     "name": "stderr",
     "output_type": "stream",
     "text": [
      "Training Process: 100%|██████████| 10/10 [00:00<00:00, 12.56it/s]\n"
     ]
    },
    {
     "name": "stdout",
     "output_type": "stream",
     "text": [
      "Total Epochs: 10\n",
      "Train loss start: 1.083111047744751, Train loss end: 1.016980528831482\n",
      "Highest Mean Train Accuracy (over epoch): 0.57\n",
      "Test loss start: 1.0681500434875488, Test loss end: 0.9941567182540894\n",
      "Highest mean Test Accuracy (over epoch): 0.5871527777777777\n",
      " Test F1 score at highest accuracy: 0.5051825678352703\n",
      "./saved_models/model_3.pth \n",
      "\n",
      "Training Model with id 4\n",
      "in multi\n"
     ]
    },
    {
     "name": "stderr",
     "output_type": "stream",
     "text": [
      "Training Process: 100%|██████████| 10/10 [00:00<00:00, 12.51it/s]\n"
     ]
    },
    {
     "name": "stdout",
     "output_type": "stream",
     "text": [
      "Total Epochs: 10\n",
      "Train loss start: 1.0853468179702759, Train loss end: 1.1339139938354492\n",
      "Highest Mean Train Accuracy (over epoch): 0.5300892857142857\n",
      "Test loss start: 1.0777361392974854, Test loss end: 1.0448613166809082\n",
      "Highest mean Test Accuracy (over epoch): 0.6061631944444444\n",
      " Test F1 score at highest accuracy: 0.5804482945846827\n",
      "./saved_models/model_4.pth \n",
      "\n",
      "Training Model with id 7\n",
      "in multi\n"
     ]
    },
    {
     "name": "stderr",
     "output_type": "stream",
     "text": [
      "Training Process: 100%|██████████| 10/10 [00:00<00:00, 12.29it/s]\n"
     ]
    },
    {
     "name": "stdout",
     "output_type": "stream",
     "text": [
      "Total Epochs: 10\n",
      "Train loss start: 0.9835131168365479, Train loss end: 0.9655957818031311\n",
      "Highest Mean Train Accuracy (over epoch): 0.6840476190476191\n",
      "Test loss start: 1.0297521352767944, Test loss end: 1.0060909986495972\n",
      "Highest mean Test Accuracy (over epoch): 0.7546875\n",
      " Test F1 score at highest accuracy: 0.6998106026524259\n",
      "./saved_models/model_7.pth \n",
      "\n",
      "Training Model with id 8\n",
      "in multi\n"
     ]
    },
    {
     "name": "stderr",
     "output_type": "stream",
     "text": [
      "Training Process: 100%|██████████| 10/10 [00:00<00:00, 12.01it/s]\n"
     ]
    },
    {
     "name": "stdout",
     "output_type": "stream",
     "text": [
      "Total Epochs: 10\n",
      "Train loss start: 0.8769213557243347, Train loss end: 0.8088529706001282\n",
      "Highest Mean Train Accuracy (over epoch): 0.7629761904761905\n",
      "Test loss start: 0.9882746934890747, Test loss end: 0.9568731784820557\n",
      "Highest mean Test Accuracy (over epoch): 0.7793692129629631\n",
      " Test F1 score at highest accuracy: 0.7577742650657835\n",
      "./saved_models/model_8.pth \n",
      "\n",
      "Training Model with id 6\n",
      "in multi\n"
     ]
    },
    {
     "name": "stderr",
     "output_type": "stream",
     "text": [
      "Training Process: 100%|██████████| 10/10 [00:00<00:00, 12.64it/s]\n"
     ]
    },
    {
     "name": "stdout",
     "output_type": "stream",
     "text": [
      "Total Epochs: 10\n",
      "Train loss start: 0.8592209219932556, Train loss end: 0.7261942028999329\n",
      "Highest Mean Train Accuracy (over epoch): 0.8125\n",
      "Test loss start: 0.9437457919120789, Test loss end: 0.9286413192749023\n",
      "Highest mean Test Accuracy (over epoch): 0.7870783730158731\n",
      " Test F1 score at highest accuracy: 0.799618728848535\n",
      "./saved_models/model_6.pth \n",
      "\n",
      " Maximum accuracy: 0.7870783730158731, F1: 0.799618728848535, Test: 0.941957950592041, Train: 0.8497970906893412\n",
      "in multi\n"
     ]
    },
    {
     "name": "stderr",
     "output_type": "stream",
     "text": [
      "Training Process: 100%|██████████| 70/70 [00:07<00:00,  9.33it/s]"
     ]
    },
    {
     "name": "stdout",
     "output_type": "stream",
     "text": [
      "Total Epochs: 70\n",
      "Train loss start: 1.232723355293274, Train loss end: 0.9599242210388184\n",
      "Highest Mean Train Accuracy (over epoch): 0.5646683673469388\n",
      "Test loss start: 1.1433565616607666, Test loss end: 0.8128991723060608\n",
      "Highest mean Test Accuracy (over epoch): 0.6940104166666667\n",
      " Test F1 score at highest accuracy: 0.6346859292015002\n"
     ]
    },
    {
     "name": "stderr",
     "output_type": "stream",
     "text": [
      "\n"
     ]
    }
   ],
   "source": [
    "output_directory = './outputBase8.csv'\n",
    "run_experiment(DTEmlp8b, trails=5, output_directory=output_directory)"
   ]
  },
  {
   "cell_type": "code",
   "execution_count": null,
   "metadata": {},
   "outputs": [],
   "source": []
  }
 ],
 "metadata": {
  "kernelspec": {
   "display_name": "vit",
   "language": "python",
   "name": "python3"
  },
  "language_info": {
   "codemirror_mode": {
    "name": "ipython",
    "version": 3
   },
   "file_extension": ".py",
   "mimetype": "text/x-python",
   "name": "python",
   "nbconvert_exporter": "python",
   "pygments_lexer": "ipython3",
   "version": "3.11.4"
  }
 },
 "nbformat": 4,
 "nbformat_minor": 2
}
