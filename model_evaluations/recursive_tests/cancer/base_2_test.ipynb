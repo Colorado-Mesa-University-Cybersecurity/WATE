{
 "cells": [
  {
   "cell_type": "code",
   "execution_count": 1,
   "metadata": {},
   "outputs": [],
   "source": [
    "import torch\n",
    "import torch.nn as nn\n",
    "import torch.nn.init as init\n",
    "import random\n",
    "import copy\n",
    "from sklearn.model_selection import train_test_split\n",
    "from torch.utils.data import TensorDataset, DataLoader\n",
    "import numpy as np\n",
    "import matplotlib.pyplot as plt\n",
    "import DeepTreeEnsemble\n",
    "import torch.nn.functional as F\n",
    "from importlib import reload\n",
    "import pandas as pd\n",
    "reload(DeepTreeEnsemble)\n",
    "from DeepTreeEnsemble import DeepTreeEnsemble, create_dataloaders_for_dataset \n",
    "# if this ^ doesn't work, try 'pip install -e .' in the root directory of it. Make sure you are in \n",
    "# the desired environment. "
   ]
  },
  {
   "cell_type": "code",
   "execution_count": 2,
   "metadata": {},
   "outputs": [
    {
     "name": "stdout",
     "output_type": "stream",
     "text": [
      "xtrain size 455\n",
      "xtest size 114\n",
      "y_train size 455\n",
      "y_test size 114\n"
     ]
    }
   ],
   "source": [
    "train_dataloader, test_dataloader, input_size, output_size = create_dataloaders_for_dataset(dataset_name='breast_cancer', task='classification', batch_size=32)"
   ]
  },
  {
   "cell_type": "code",
   "execution_count": 3,
   "metadata": {},
   "outputs": [],
   "source": [
    "class MLP(nn.Module):\n",
    "    def __init__(self, input_size, hidden_layers, output_size, dropout=.5):\n",
    "        super(MLP, self).__init__()\n",
    "        self.layers = nn.ModuleList()\n",
    "        self.batch_norms = nn.ModuleList()\n",
    "\n",
    "        # Create the first hidden layer\n",
    "        self.layers.append(nn.Linear(input_size, hidden_layers[0]))\n",
    "        self.batch_norms.append(nn.BatchNorm1d(hidden_layers[0]))\n",
    "\n",
    "        # Create additional hidden layers\n",
    "        for i in range(1, len(hidden_layers)):\n",
    "            self.layers.append(nn.Linear(hidden_layers[i-1], hidden_layers[i]))\n",
    "            self.batch_norms.append(nn.BatchNorm1d(hidden_layers[i]))\n",
    "\n",
    "        # Output layer\n",
    "        self.output = nn.Linear(hidden_layers[-1], output_size)\n",
    "\n",
    "        # Dropout layer\n",
    "        self.dropout = nn.Dropout(dropout)\n",
    "\n",
    "\n",
    "    def forward(self, x):\n",
    "        i = 0\n",
    "        for layer, batch_norm in zip(self.layers, self.batch_norms):\n",
    "            # x = F.relu(batch_norm(layer(x)))\n",
    "            i=i+1\n",
    "            x = self.dropout(x)\n",
    "            # print('Layer dtype: ', layer.weight.dtype)\n",
    "            x = x.to(torch.float32) # <-- area of concern\n",
    "            # print('tensor dytpe: ', x.dtype)\n",
    "            # layer.weight = layer.weight.to(torch.float32)\n",
    "            x = F.relu(batch_norm(layer(x)))\n",
    "            \n",
    "            # print(f'dtype is {x.dtype} after layer {i}')\n",
    "\n",
    "        x = self.output(x)\n",
    "        return x"
   ]
  },
  {
   "cell_type": "code",
   "execution_count": 4,
   "metadata": {},
   "outputs": [],
   "source": [
    "hidden_layers = [25, 25]\n",
    "multiLayerPerceptron = MLP(input_size=input_size, hidden_layers=hidden_layers, output_size=output_size+1, dropout=.5) #hidden size default at 100\n",
    "\n",
    "# Fill DTE params\n",
    "modelSaveDirectory = './saved_models/'\n",
    "DTEmlp2b = DeepTreeEnsemble(task_name='classification',\n",
    "                                model_arch=multiLayerPerceptron,\n",
    "                                model_dir=modelSaveDirectory, \n",
    "                                base_number=2,\n",
    "                                epochs=10,\n",
    "                                train_dataloader=train_dataloader, \n",
    "                                test_dataloader=test_dataloader,\n",
    "                                learning_rate=0.0001)"
   ]
  },
  {
   "cell_type": "code",
   "execution_count": 7,
   "metadata": {},
   "outputs": [
    {
     "name": "stdout",
     "output_type": "stream",
     "text": [
      "|| TRAINING WEIGHT AVERAGING TREE ENSEMBLE ||\n",
      "Task: classification\n",
      "Randomly initializing 2 models\n",
      "Model 1:\n"
     ]
    },
    {
     "name": "stderr",
     "output_type": "stream",
     "text": [
      "Training Process: 100%|██████████| 10/10 [00:00<00:00, 15.27it/s]\n"
     ]
    },
    {
     "name": "stdout",
     "output_type": "stream",
     "text": [
      "./saved_models/model_1.pth\n",
      "Model 2:\n"
     ]
    },
    {
     "name": "stderr",
     "output_type": "stream",
     "text": [
      "Training Process: 100%|██████████| 10/10 [00:00<00:00, 15.48it/s]\n"
     ]
    },
    {
     "name": "stdout",
     "output_type": "stream",
     "text": [
      "./saved_models/model_2.pth\n",
      "Model 4:\n"
     ]
    },
    {
     "name": "stderr",
     "output_type": "stream",
     "text": [
      "Training Process: 100%|██████████| 10/10 [00:00<00:00, 12.59it/s]"
     ]
    },
    {
     "name": "stdout",
     "output_type": "stream",
     "text": [
      "./saved_models/model_4.pth\n",
      " Maximum accuracy: 0.740017361111111, F1: 0.5925972929211831, Test: 1.0024913832545281, Train: 1.0216129032770793 \n",
      " \n",
      "\n"
     ]
    },
    {
     "name": "stderr",
     "output_type": "stream",
     "text": [
      "\n"
     ]
    },
    {
     "data": {
      "text/html": [
       "<div>\n",
       "<style scoped>\n",
       "    .dataframe tbody tr th:only-of-type {\n",
       "        vertical-align: middle;\n",
       "    }\n",
       "\n",
       "    .dataframe tbody tr th {\n",
       "        vertical-align: top;\n",
       "    }\n",
       "\n",
       "    .dataframe thead th {\n",
       "        text-align: right;\n",
       "    }\n",
       "</style>\n",
       "<table border=\"1\" class=\"dataframe\">\n",
       "  <thead>\n",
       "    <tr style=\"text-align: right;\">\n",
       "      <th></th>\n",
       "      <th>DTE_acc</th>\n",
       "      <th>DTE_f1</th>\n",
       "      <th>DTE_test</th>\n",
       "      <th>DTE_train</th>\n",
       "    </tr>\n",
       "  </thead>\n",
       "  <tbody>\n",
       "    <tr>\n",
       "      <th>0</th>\n",
       "      <td>0.740017</td>\n",
       "      <td>0.592597</td>\n",
       "      <td>1.002491</td>\n",
       "      <td>1.021613</td>\n",
       "    </tr>\n",
       "  </tbody>\n",
       "</table>\n",
       "</div>"
      ],
      "text/plain": [
       "    DTE_acc    DTE_f1  DTE_test  DTE_train\n",
       "0  0.740017  0.592597  1.002491   1.021613"
      ]
     },
     "execution_count": 7,
     "metadata": {},
     "output_type": "execute_result"
    }
   ],
   "source": [
    "DTEmlp2b.train_DTE()"
   ]
  },
  {
   "cell_type": "code",
   "execution_count": 8,
   "metadata": {},
   "outputs": [
    {
     "name": "stdout",
     "output_type": "stream",
     "text": [
      "|| TRAINING SINGLE MODEL || \n",
      "Task: Classification\n"
     ]
    },
    {
     "name": "stderr",
     "output_type": "stream",
     "text": [
      "Training Process:   0%|          | 0/30 [00:00<?, ?it/s]"
     ]
    },
    {
     "name": "stderr",
     "output_type": "stream",
     "text": [
      "Training Process: 100%|██████████| 30/30 [00:02<00:00, 13.39it/s]"
     ]
    },
    {
     "name": "stdout",
     "output_type": "stream",
     "text": [
      " Maximum accuracy: 0.5819155092592593, F1: 0.5121738634420965, Test: 1.0226483131448427, Train: 1.0721386157141792 \n",
      " \n",
      "\n"
     ]
    },
    {
     "name": "stderr",
     "output_type": "stream",
     "text": [
      "\n"
     ]
    },
    {
     "data": {
      "text/html": [
       "<div>\n",
       "<style scoped>\n",
       "    .dataframe tbody tr th:only-of-type {\n",
       "        vertical-align: middle;\n",
       "    }\n",
       "\n",
       "    .dataframe tbody tr th {\n",
       "        vertical-align: top;\n",
       "    }\n",
       "\n",
       "    .dataframe thead th {\n",
       "        text-align: right;\n",
       "    }\n",
       "</style>\n",
       "<table border=\"1\" class=\"dataframe\">\n",
       "  <thead>\n",
       "    <tr style=\"text-align: right;\">\n",
       "      <th></th>\n",
       "      <th>single_acc</th>\n",
       "      <th>single_f1</th>\n",
       "      <th>single_test</th>\n",
       "      <th>single_train</th>\n",
       "    </tr>\n",
       "  </thead>\n",
       "  <tbody>\n",
       "    <tr>\n",
       "      <th>0</th>\n",
       "      <td>0.581916</td>\n",
       "      <td>0.512174</td>\n",
       "      <td>1.022648</td>\n",
       "      <td>1.072139</td>\n",
       "    </tr>\n",
       "  </tbody>\n",
       "</table>\n",
       "</div>"
      ],
      "text/plain": [
       "   single_acc  single_f1  single_test  single_train\n",
       "0    0.581916   0.512174     1.022648      1.072139"
      ]
     },
     "execution_count": 8,
     "metadata": {},
     "output_type": "execute_result"
    }
   ],
   "source": [
    "DTEmlp2b.single_model()"
   ]
  },
  {
   "cell_type": "code",
   "execution_count": 9,
   "metadata": {},
   "outputs": [],
   "source": [
    "def run_experiment(DTE, trails, output_directory):\n",
    "    results = pd.DataFrame()\n",
    "\n",
    "    for i in range(trails):\n",
    "        print(f'Trail {i}: \\n')\n",
    "        df1 = DTE.train_DTE()\n",
    "        df2 = DTE.single_model()\n",
    "        combined_df = pd.concat([df1, df2], axis=1)\n",
    "        results = pd.concat([results, combined_df], axis=0)\n",
    "\n",
    "    results.to_csv(output_directory, index=False)"
   ]
  },
  {
   "cell_type": "code",
   "execution_count": 10,
   "metadata": {},
   "outputs": [
    {
     "name": "stdout",
     "output_type": "stream",
     "text": [
      "Trail 0: \n",
      "\n",
      "|| TRAINING WEIGHT AVERAGING TREE ENSEMBLE ||\n",
      "Task: classification\n",
      "Randomly initializing 2 models\n",
      "Model 1:\n"
     ]
    },
    {
     "name": "stderr",
     "output_type": "stream",
     "text": [
      "Training Process:   0%|          | 0/10 [00:00<?, ?it/s]"
     ]
    },
    {
     "name": "stderr",
     "output_type": "stream",
     "text": [
      "Training Process: 100%|██████████| 10/10 [00:00<00:00, 13.83it/s]\n"
     ]
    },
    {
     "name": "stdout",
     "output_type": "stream",
     "text": [
      "./saved_models/model_1.pth\n",
      "Model 2:\n"
     ]
    },
    {
     "name": "stderr",
     "output_type": "stream",
     "text": [
      "Training Process: 100%|██████████| 10/10 [00:00<00:00, 13.54it/s]\n"
     ]
    },
    {
     "name": "stdout",
     "output_type": "stream",
     "text": [
      "./saved_models/model_2.pth\n",
      "Model 4:\n"
     ]
    },
    {
     "name": "stderr",
     "output_type": "stream",
     "text": [
      "Training Process: 100%|██████████| 10/10 [00:00<00:00, 12.87it/s]\n"
     ]
    },
    {
     "name": "stdout",
     "output_type": "stream",
     "text": [
      "./saved_models/model_4.pth\n",
      " Maximum accuracy: 0.5356770833333334, F1: 0.4107618140856203, Test: 1.064898931980133, Train: 1.0985456494490307 \n",
      " \n",
      "\n",
      "|| TRAINING SINGLE MODEL || \n",
      "Task: Classification\n"
     ]
    },
    {
     "name": "stderr",
     "output_type": "stream",
     "text": [
      "Training Process: 100%|██████████| 30/30 [00:02<00:00, 10.71it/s]\n"
     ]
    },
    {
     "name": "stdout",
     "output_type": "stream",
     "text": [
      " Maximum accuracy: 0.783883101851852, F1: 0.6723350731246169, Test: 0.9436383048693339, Train: 0.9669283627139198 \n",
      " \n",
      "\n",
      "Trail 1: \n",
      "\n",
      "|| TRAINING WEIGHT AVERAGING TREE ENSEMBLE ||\n",
      "Task: classification\n",
      "Randomly initializing 2 models\n",
      "Model 1:\n"
     ]
    },
    {
     "name": "stderr",
     "output_type": "stream",
     "text": [
      "Training Process: 100%|██████████| 10/10 [00:00<00:00, 12.40it/s]\n"
     ]
    },
    {
     "name": "stdout",
     "output_type": "stream",
     "text": [
      "./saved_models/model_1.pth\n",
      "Model 2:\n"
     ]
    },
    {
     "name": "stderr",
     "output_type": "stream",
     "text": [
      "Training Process: 100%|██████████| 10/10 [00:00<00:00, 12.76it/s]\n"
     ]
    },
    {
     "name": "stdout",
     "output_type": "stream",
     "text": [
      "./saved_models/model_2.pth\n",
      "Model 4:\n"
     ]
    },
    {
     "name": "stderr",
     "output_type": "stream",
     "text": [
      "Training Process: 100%|██████████| 10/10 [00:00<00:00, 13.40it/s]\n"
     ]
    },
    {
     "name": "stdout",
     "output_type": "stream",
     "text": [
      "./saved_models/model_4.pth\n",
      " Maximum accuracy: 0.7861979166666667, F1: 0.6362832922179862, Test: 1.0198037460446359, Train: 1.0200159049034119 \n",
      " \n",
      "\n",
      "|| TRAINING SINGLE MODEL || \n",
      "Task: Classification\n"
     ]
    },
    {
     "name": "stderr",
     "output_type": "stream",
     "text": [
      "Training Process: 100%|██████████| 30/30 [00:02<00:00, 10.34it/s]\n"
     ]
    },
    {
     "name": "stdout",
     "output_type": "stream",
     "text": [
      " Maximum accuracy: 0.6861400462962963, F1: 0.5976755206470074, Test: 0.9671201373140017, Train: 0.9553327349821726 \n",
      " \n",
      "\n",
      "Trail 2: \n",
      "\n",
      "|| TRAINING WEIGHT AVERAGING TREE ENSEMBLE ||\n",
      "Task: classification\n",
      "Randomly initializing 2 models\n",
      "Model 1:\n"
     ]
    },
    {
     "name": "stderr",
     "output_type": "stream",
     "text": [
      "Training Process: 100%|██████████| 10/10 [00:00<00:00, 12.96it/s]\n"
     ]
    },
    {
     "name": "stdout",
     "output_type": "stream",
     "text": [
      "./saved_models/model_1.pth\n",
      "Model 2:\n"
     ]
    },
    {
     "name": "stderr",
     "output_type": "stream",
     "text": [
      "Training Process: 100%|██████████| 10/10 [00:00<00:00, 13.32it/s]\n"
     ]
    },
    {
     "name": "stdout",
     "output_type": "stream",
     "text": [
      "./saved_models/model_2.pth\n",
      "Model 4:\n"
     ]
    },
    {
     "name": "stderr",
     "output_type": "stream",
     "text": [
      "Training Process: 100%|██████████| 10/10 [00:00<00:00, 12.15it/s]\n"
     ]
    },
    {
     "name": "stdout",
     "output_type": "stream",
     "text": [
      "./saved_models/model_4.pth\n",
      " Maximum accuracy: 0.6750868055555556, F1: 0.4954228676171391, Test: 1.0275124803185463, Train: 1.0222550320625305 \n",
      " \n",
      "\n",
      "|| TRAINING SINGLE MODEL || \n",
      "Task: Classification\n"
     ]
    },
    {
     "name": "stderr",
     "output_type": "stream",
     "text": [
      "Training Process: 100%|██████████| 30/30 [00:02<00:00, 10.98it/s]\n"
     ]
    },
    {
     "name": "stdout",
     "output_type": "stream",
     "text": [
      " Maximum accuracy: 0.5033275462962963, F1: 0.5293540143005023, Test: 1.0485168223579724, Train: 1.0826381748252445 \n",
      " \n",
      "\n",
      "Trail 3: \n",
      "\n",
      "|| TRAINING WEIGHT AVERAGING TREE ENSEMBLE ||\n",
      "Task: classification\n",
      "Randomly initializing 2 models\n",
      "Model 1:\n"
     ]
    },
    {
     "name": "stderr",
     "output_type": "stream",
     "text": [
      "Training Process: 100%|██████████| 10/10 [00:00<00:00, 14.19it/s]\n"
     ]
    },
    {
     "name": "stdout",
     "output_type": "stream",
     "text": [
      "./saved_models/model_1.pth\n",
      "Model 2:\n"
     ]
    },
    {
     "name": "stderr",
     "output_type": "stream",
     "text": [
      "Training Process: 100%|██████████| 10/10 [00:00<00:00, 14.20it/s]\n"
     ]
    },
    {
     "name": "stdout",
     "output_type": "stream",
     "text": [
      "./saved_models/model_2.pth\n",
      "Model 4:\n"
     ]
    },
    {
     "name": "stderr",
     "output_type": "stream",
     "text": [
      "Training Process: 100%|██████████| 10/10 [00:00<00:00, 15.02it/s]\n"
     ]
    },
    {
     "name": "stdout",
     "output_type": "stream",
     "text": [
      "./saved_models/model_4.pth\n",
      " Maximum accuracy: 0.7513020833333334, F1: 0.6667219512558422, Test: 1.035218219459057, Train: 1.00972572127978 \n",
      " \n",
      "\n",
      "|| TRAINING SINGLE MODEL || \n",
      "Task: Classification\n"
     ]
    },
    {
     "name": "stderr",
     "output_type": "stream",
     "text": [
      "Training Process: 100%|██████████| 30/30 [00:02<00:00, 13.04it/s]\n"
     ]
    },
    {
     "name": "stdout",
     "output_type": "stream",
     "text": [
      " Maximum accuracy: 0.7973090277777779, F1: 0.6217052168538989, Test: 0.9684234445293745, Train: 1.0168603131506178 \n",
      " \n",
      "\n",
      "Trail 4: \n",
      "\n",
      "|| TRAINING WEIGHT AVERAGING TREE ENSEMBLE ||\n",
      "Task: classification\n",
      "Randomly initializing 2 models\n",
      "Model 1:\n"
     ]
    },
    {
     "name": "stderr",
     "output_type": "stream",
     "text": [
      "Training Process: 100%|██████████| 10/10 [00:00<00:00, 13.44it/s]\n"
     ]
    },
    {
     "name": "stdout",
     "output_type": "stream",
     "text": [
      "./saved_models/model_1.pth\n",
      "Model 2:\n"
     ]
    },
    {
     "name": "stderr",
     "output_type": "stream",
     "text": [
      "Training Process: 100%|██████████| 10/10 [00:00<00:00, 15.37it/s]\n"
     ]
    },
    {
     "name": "stdout",
     "output_type": "stream",
     "text": [
      "./saved_models/model_2.pth\n",
      "Model 4:\n"
     ]
    },
    {
     "name": "stderr",
     "output_type": "stream",
     "text": [
      "Training Process: 100%|██████████| 10/10 [00:00<00:00, 15.38it/s]\n"
     ]
    },
    {
     "name": "stdout",
     "output_type": "stream",
     "text": [
      "./saved_models/model_4.pth\n",
      " Maximum accuracy: 0.7603298611111111, F1: 0.586600149096752, Test: 1.0376690611243249, Train: 1.0524141828219096 \n",
      " \n",
      "\n",
      "|| TRAINING SINGLE MODEL || \n",
      "Task: Classification\n"
     ]
    },
    {
     "name": "stderr",
     "output_type": "stream",
     "text": [
      "Training Process: 100%|██████████| 30/30 [00:02<00:00, 13.41it/s]\n"
     ]
    },
    {
     "name": "stdout",
     "output_type": "stream",
     "text": [
      " Maximum accuracy: 0.7437789351851852, F1: 0.5959758793092462, Test: 0.985686981678009, Train: 1.0272165507740445 \n",
      " \n",
      "\n",
      "Trail 5: \n",
      "\n",
      "|| TRAINING WEIGHT AVERAGING TREE ENSEMBLE ||\n",
      "Task: classification\n",
      "Randomly initializing 2 models\n",
      "Model 1:\n"
     ]
    },
    {
     "name": "stderr",
     "output_type": "stream",
     "text": [
      "Training Process: 100%|██████████| 10/10 [00:00<00:00, 15.17it/s]\n"
     ]
    },
    {
     "name": "stdout",
     "output_type": "stream",
     "text": [
      "./saved_models/model_1.pth\n",
      "Model 2:\n"
     ]
    },
    {
     "name": "stderr",
     "output_type": "stream",
     "text": [
      "Training Process: 100%|██████████| 10/10 [00:00<00:00, 14.85it/s]\n"
     ]
    },
    {
     "name": "stdout",
     "output_type": "stream",
     "text": [
      "./saved_models/model_2.pth\n",
      "Model 4:\n"
     ]
    },
    {
     "name": "stderr",
     "output_type": "stream",
     "text": [
      "Training Process: 100%|██████████| 10/10 [00:00<00:00, 13.80it/s]\n"
     ]
    },
    {
     "name": "stdout",
     "output_type": "stream",
     "text": [
      "./saved_models/model_4.pth\n",
      " Maximum accuracy: 0.38793402777777775, F1: 0.34823213419385135, Test: 1.0829417437314988, Train: 1.1243522842725118 \n",
      " \n",
      "\n",
      "|| TRAINING SINGLE MODEL || \n",
      "Task: Classification\n"
     ]
    },
    {
     "name": "stderr",
     "output_type": "stream",
     "text": [
      "Training Process: 100%|██████████| 30/30 [00:02<00:00, 14.15it/s]\n"
     ]
    },
    {
     "name": "stdout",
     "output_type": "stream",
     "text": [
      " Maximum accuracy: 0.8259548611111112, F1: 0.7031615994671626, Test: 0.9249089752634366, Train: 0.9335762826601665 \n",
      " \n",
      "\n",
      "Trail 6: \n",
      "\n",
      "|| TRAINING WEIGHT AVERAGING TREE ENSEMBLE ||\n",
      "Task: classification\n",
      "Randomly initializing 2 models\n",
      "Model 1:\n"
     ]
    },
    {
     "name": "stderr",
     "output_type": "stream",
     "text": [
      "Training Process: 100%|██████████| 10/10 [00:00<00:00, 13.91it/s]\n"
     ]
    },
    {
     "name": "stdout",
     "output_type": "stream",
     "text": [
      "./saved_models/model_1.pth\n",
      "Model 2:\n"
     ]
    },
    {
     "name": "stderr",
     "output_type": "stream",
     "text": [
      "Training Process: 100%|██████████| 10/10 [00:00<00:00, 15.08it/s]\n"
     ]
    },
    {
     "name": "stdout",
     "output_type": "stream",
     "text": [
      "./saved_models/model_2.pth\n",
      "Model 4:\n"
     ]
    },
    {
     "name": "stderr",
     "output_type": "stream",
     "text": [
      "Training Process: 100%|██████████| 10/10 [00:00<00:00, 13.24it/s]\n"
     ]
    },
    {
     "name": "stdout",
     "output_type": "stream",
     "text": [
      "./saved_models/model_4.pth\n",
      " Maximum accuracy: 0.39322916666666663, F1: 0.44128195163170686, Test: 1.088092628121376, Train: 1.100756914615631 \n",
      " \n",
      "\n",
      "|| TRAINING SINGLE MODEL || \n",
      "Task: Classification\n"
     ]
    },
    {
     "name": "stderr",
     "output_type": "stream",
     "text": [
      "Training Process: 100%|██████████| 30/30 [00:02<00:00, 13.53it/s]\n"
     ]
    },
    {
     "name": "stdout",
     "output_type": "stream",
     "text": [
      " Maximum accuracy: 0.4814814814814815, F1: 0.43169713694804884, Test: 1.0625646521647771, Train: 1.0694062432977889 \n",
      " \n",
      "\n",
      "Trail 7: \n",
      "\n",
      "|| TRAINING WEIGHT AVERAGING TREE ENSEMBLE ||\n",
      "Task: classification\n",
      "Randomly initializing 2 models\n",
      "Model 1:\n"
     ]
    },
    {
     "name": "stderr",
     "output_type": "stream",
     "text": [
      "Training Process: 100%|██████████| 10/10 [00:00<00:00, 14.13it/s]\n"
     ]
    },
    {
     "name": "stdout",
     "output_type": "stream",
     "text": [
      "./saved_models/model_1.pth\n",
      "Model 2:\n"
     ]
    },
    {
     "name": "stderr",
     "output_type": "stream",
     "text": [
      "Training Process: 100%|██████████| 10/10 [00:00<00:00, 14.95it/s]\n"
     ]
    },
    {
     "name": "stdout",
     "output_type": "stream",
     "text": [
      "./saved_models/model_2.pth\n",
      "Model 4:\n"
     ]
    },
    {
     "name": "stderr",
     "output_type": "stream",
     "text": [
      "Training Process: 100%|██████████| 10/10 [00:00<00:00, 15.20it/s]\n"
     ]
    },
    {
     "name": "stdout",
     "output_type": "stream",
     "text": [
      "./saved_models/model_4.pth\n",
      " Maximum accuracy: 0.6361979166666666, F1: 0.6125688640237289, Test: 1.038066565990448, Train: 1.0319474995136262 \n",
      " \n",
      "\n",
      "|| TRAINING SINGLE MODEL || \n",
      "Task: Classification\n"
     ]
    },
    {
     "name": "stderr",
     "output_type": "stream",
     "text": [
      "Training Process: 100%|██████████| 30/30 [00:02<00:00, 13.96it/s]\n"
     ]
    },
    {
     "name": "stdout",
     "output_type": "stream",
     "text": [
      " Maximum accuracy: 0.578761574074074, F1: 0.5679179972702072, Test: 1.0312027538816133, Train: 1.0587284700075785 \n",
      " \n",
      "\n",
      "Trail 8: \n",
      "\n",
      "|| TRAINING WEIGHT AVERAGING TREE ENSEMBLE ||\n",
      "Task: classification\n",
      "Randomly initializing 2 models\n",
      "Model 1:\n"
     ]
    },
    {
     "name": "stderr",
     "output_type": "stream",
     "text": [
      "Training Process: 100%|██████████| 10/10 [00:00<00:00, 15.18it/s]\n"
     ]
    },
    {
     "name": "stdout",
     "output_type": "stream",
     "text": [
      "./saved_models/model_1.pth\n",
      "Model 2:\n"
     ]
    },
    {
     "name": "stderr",
     "output_type": "stream",
     "text": [
      "Training Process: 100%|██████████| 10/10 [00:00<00:00, 14.82it/s]\n"
     ]
    },
    {
     "name": "stdout",
     "output_type": "stream",
     "text": [
      "./saved_models/model_2.pth\n",
      "Model 4:\n"
     ]
    },
    {
     "name": "stderr",
     "output_type": "stream",
     "text": [
      "Training Process: 100%|██████████| 10/10 [00:00<00:00, 15.86it/s]\n"
     ]
    },
    {
     "name": "stdout",
     "output_type": "stream",
     "text": [
      "./saved_models/model_4.pth\n",
      " Maximum accuracy: 0.7519097222222222, F1: 0.5921053272823231, Test: 1.0227654546499252, Train: 1.0440504503250123 \n",
      " \n",
      "\n",
      "|| TRAINING SINGLE MODEL || \n",
      "Task: Classification\n"
     ]
    },
    {
     "name": "stderr",
     "output_type": "stream",
     "text": [
      "Training Process: 100%|██████████| 30/30 [00:02<00:00, 13.03it/s]\n"
     ]
    },
    {
     "name": "stdout",
     "output_type": "stream",
     "text": [
      " Maximum accuracy: 0.4070601851851852, F1: 0.3153367914519869, Test: 1.0468408524990083, Train: 1.0860520333713954 \n",
      " \n",
      "\n",
      "Trail 9: \n",
      "\n",
      "|| TRAINING WEIGHT AVERAGING TREE ENSEMBLE ||\n",
      "Task: classification\n",
      "Randomly initializing 2 models\n",
      "Model 1:\n"
     ]
    },
    {
     "name": "stderr",
     "output_type": "stream",
     "text": [
      "Training Process: 100%|██████████| 10/10 [00:00<00:00, 15.04it/s]\n"
     ]
    },
    {
     "name": "stdout",
     "output_type": "stream",
     "text": [
      "./saved_models/model_1.pth\n",
      "Model 2:\n"
     ]
    },
    {
     "name": "stderr",
     "output_type": "stream",
     "text": [
      "Training Process: 100%|██████████| 10/10 [00:00<00:00, 13.84it/s]\n"
     ]
    },
    {
     "name": "stdout",
     "output_type": "stream",
     "text": [
      "./saved_models/model_2.pth\n",
      "Model 4:\n"
     ]
    },
    {
     "name": "stderr",
     "output_type": "stream",
     "text": [
      "Training Process: 100%|██████████| 10/10 [00:00<00:00, 15.44it/s]\n"
     ]
    },
    {
     "name": "stdout",
     "output_type": "stream",
     "text": [
      "./saved_models/model_4.pth\n",
      " Maximum accuracy: 0.765625, F1: 0.6796862798772105, Test: 0.9464438036084175, Train: 0.9398613627751669 \n",
      " \n",
      "\n",
      "|| TRAINING SINGLE MODEL || \n",
      "Task: Classification\n"
     ]
    },
    {
     "name": "stderr",
     "output_type": "stream",
     "text": [
      "Training Process: 100%|██████████| 30/30 [00:02<00:00, 12.54it/s]\n"
     ]
    },
    {
     "name": "stdout",
     "output_type": "stream",
     "text": [
      " Maximum accuracy: 0.7058738425925927, F1: 0.6134358590456935, Test: 0.9948567017912865, Train: 1.0016247918870713 \n",
      " \n",
      "\n",
      "Trail 10: \n",
      "\n",
      "|| TRAINING WEIGHT AVERAGING TREE ENSEMBLE ||\n",
      "Task: classification\n",
      "Randomly initializing 2 models\n",
      "Model 1:\n"
     ]
    },
    {
     "name": "stderr",
     "output_type": "stream",
     "text": [
      "Training Process: 100%|██████████| 10/10 [00:00<00:00, 14.50it/s]\n"
     ]
    },
    {
     "name": "stdout",
     "output_type": "stream",
     "text": [
      "./saved_models/model_1.pth\n",
      "Model 2:\n"
     ]
    },
    {
     "name": "stderr",
     "output_type": "stream",
     "text": [
      "Training Process: 100%|██████████| 10/10 [00:00<00:00, 14.09it/s]\n"
     ]
    },
    {
     "name": "stdout",
     "output_type": "stream",
     "text": [
      "./saved_models/model_2.pth\n",
      "Model 4:\n"
     ]
    },
    {
     "name": "stderr",
     "output_type": "stream",
     "text": [
      "Training Process: 100%|██████████| 10/10 [00:00<00:00, 14.99it/s]\n"
     ]
    },
    {
     "name": "stdout",
     "output_type": "stream",
     "text": [
      "./saved_models/model_4.pth\n",
      " Maximum accuracy: 0.7983506944444445, F1: 0.4988992778548345, Test: 1.0036437556147575, Train: 1.0412710662682851 \n",
      " \n",
      "\n",
      "|| TRAINING SINGLE MODEL || \n",
      "Task: Classification\n"
     ]
    },
    {
     "name": "stderr",
     "output_type": "stream",
     "text": [
      "Training Process: 100%|██████████| 30/30 [00:02<00:00, 13.33it/s]\n"
     ]
    },
    {
     "name": "stdout",
     "output_type": "stream",
     "text": [
      " Maximum accuracy: 0.8533275462962963, F1: 0.7242672081209284, Test: 0.8788350274165472, Train: 0.8853273499011993 \n",
      " \n",
      "\n",
      "Trail 11: \n",
      "\n",
      "|| TRAINING WEIGHT AVERAGING TREE ENSEMBLE ||\n",
      "Task: classification\n",
      "Randomly initializing 2 models\n",
      "Model 1:\n"
     ]
    },
    {
     "name": "stderr",
     "output_type": "stream",
     "text": [
      "Training Process: 100%|██████████| 10/10 [00:00<00:00, 13.89it/s]\n"
     ]
    },
    {
     "name": "stdout",
     "output_type": "stream",
     "text": [
      "./saved_models/model_1.pth\n",
      "Model 2:\n"
     ]
    },
    {
     "name": "stderr",
     "output_type": "stream",
     "text": [
      "Training Process: 100%|██████████| 10/10 [00:00<00:00, 11.60it/s]\n"
     ]
    },
    {
     "name": "stdout",
     "output_type": "stream",
     "text": [
      "./saved_models/model_2.pth\n",
      "Model 4:\n"
     ]
    },
    {
     "name": "stderr",
     "output_type": "stream",
     "text": [
      "Training Process: 100%|██████████| 10/10 [00:00<00:00, 12.49it/s]\n"
     ]
    },
    {
     "name": "stdout",
     "output_type": "stream",
     "text": [
      "./saved_models/model_4.pth\n",
      " Maximum accuracy: 0.6338541666666667, F1: 0.6082259353944962, Test: 0.9795611590147019, Train: 0.9750801944732665 \n",
      " \n",
      "\n",
      "|| TRAINING SINGLE MODEL || \n",
      "Task: Classification\n"
     ]
    },
    {
     "name": "stderr",
     "output_type": "stream",
     "text": [
      "Training Process: 100%|██████████| 30/30 [00:03<00:00,  9.21it/s]\n"
     ]
    },
    {
     "name": "stdout",
     "output_type": "stream",
     "text": [
      " Maximum accuracy: 0.34042245370370366, F1: 0.4347827475503133, Test: 1.0769819592436154, Train: 1.1048670427004497 \n",
      " \n",
      "\n",
      "Trail 12: \n",
      "\n",
      "|| TRAINING WEIGHT AVERAGING TREE ENSEMBLE ||\n",
      "Task: classification\n",
      "Randomly initializing 2 models\n",
      "Model 1:\n"
     ]
    },
    {
     "name": "stderr",
     "output_type": "stream",
     "text": [
      "Training Process: 100%|██████████| 10/10 [00:00<00:00, 11.69it/s]\n"
     ]
    },
    {
     "name": "stdout",
     "output_type": "stream",
     "text": [
      "./saved_models/model_1.pth\n",
      "Model 2:\n"
     ]
    },
    {
     "name": "stderr",
     "output_type": "stream",
     "text": [
      "Training Process: 100%|██████████| 10/10 [00:00<00:00, 11.52it/s]\n"
     ]
    },
    {
     "name": "stdout",
     "output_type": "stream",
     "text": [
      "./saved_models/model_2.pth\n",
      "Model 4:\n"
     ]
    },
    {
     "name": "stderr",
     "output_type": "stream",
     "text": [
      "Training Process: 100%|██████████| 10/10 [00:00<00:00, 10.62it/s]\n"
     ]
    },
    {
     "name": "stdout",
     "output_type": "stream",
     "text": [
      "./saved_models/model_4.pth\n",
      " Maximum accuracy: 0.7337673611111111, F1: 0.48677534713489834, Test: 1.0054627642035485, Train: 1.0762330162525178 \n",
      " \n",
      "\n",
      "|| TRAINING SINGLE MODEL || \n",
      "Task: Classification\n"
     ]
    },
    {
     "name": "stderr",
     "output_type": "stream",
     "text": [
      "Training Process: 100%|██████████| 30/30 [00:03<00:00,  9.24it/s]\n"
     ]
    },
    {
     "name": "stdout",
     "output_type": "stream",
     "text": [
      " Maximum accuracy: 0.548582175925926, F1: 0.5316862171649812, Test: 1.054446698228518, Train: 1.066352383825514 \n",
      " \n",
      "\n",
      "Trail 13: \n",
      "\n",
      "|| TRAINING WEIGHT AVERAGING TREE ENSEMBLE ||\n",
      "Task: classification\n",
      "Randomly initializing 2 models\n",
      "Model 1:\n"
     ]
    },
    {
     "name": "stderr",
     "output_type": "stream",
     "text": [
      "Training Process: 100%|██████████| 10/10 [00:00<00:00, 10.99it/s]\n"
     ]
    },
    {
     "name": "stdout",
     "output_type": "stream",
     "text": [
      "./saved_models/model_1.pth\n",
      "Model 2:\n"
     ]
    },
    {
     "name": "stderr",
     "output_type": "stream",
     "text": [
      "Training Process: 100%|██████████| 10/10 [00:00<00:00, 10.92it/s]\n"
     ]
    },
    {
     "name": "stdout",
     "output_type": "stream",
     "text": [
      "./saved_models/model_2.pth\n",
      "Model 4:\n"
     ]
    },
    {
     "name": "stderr",
     "output_type": "stream",
     "text": [
      "Training Process: 100%|██████████| 10/10 [00:00<00:00, 10.48it/s]\n"
     ]
    },
    {
     "name": "stdout",
     "output_type": "stream",
     "text": [
      "./saved_models/model_4.pth\n",
      " Maximum accuracy: 0.69453125, F1: 0.5518109563487099, Test: 1.0092342704534532, Train: 1.0130470820267996 \n",
      " \n",
      "\n",
      "|| TRAINING SINGLE MODEL || \n",
      "Task: Classification\n"
     ]
    },
    {
     "name": "stderr",
     "output_type": "stream",
     "text": [
      "Training Process: 100%|██████████| 30/30 [00:03<00:00,  9.12it/s]\n"
     ]
    },
    {
     "name": "stdout",
     "output_type": "stream",
     "text": [
      " Maximum accuracy: 0.6149305555555554, F1: 0.4977341378356298, Test: 1.0201219111680984, Train: 1.037066221104728 \n",
      " \n",
      "\n",
      "Trail 14: \n",
      "\n",
      "|| TRAINING WEIGHT AVERAGING TREE ENSEMBLE ||\n",
      "Task: classification\n",
      "Randomly initializing 2 models\n",
      "Model 1:\n"
     ]
    },
    {
     "name": "stderr",
     "output_type": "stream",
     "text": [
      "Training Process: 100%|██████████| 10/10 [00:00<00:00, 10.86it/s]\n"
     ]
    },
    {
     "name": "stdout",
     "output_type": "stream",
     "text": [
      "./saved_models/model_1.pth\n",
      "Model 2:\n"
     ]
    },
    {
     "name": "stderr",
     "output_type": "stream",
     "text": [
      "Training Process: 100%|██████████| 10/10 [00:00<00:00, 10.37it/s]\n"
     ]
    },
    {
     "name": "stdout",
     "output_type": "stream",
     "text": [
      "./saved_models/model_2.pth\n",
      "Model 4:\n"
     ]
    },
    {
     "name": "stderr",
     "output_type": "stream",
     "text": [
      "Training Process: 100%|██████████| 10/10 [00:01<00:00,  9.47it/s]\n"
     ]
    },
    {
     "name": "stdout",
     "output_type": "stream",
     "text": [
      "./saved_models/model_4.pth\n",
      " Maximum accuracy: 0.8500868055555557, F1: 0.6290487272915406, Test: 0.9425676092505455, Train: 0.9253273177146911 \n",
      " \n",
      "\n",
      "|| TRAINING SINGLE MODEL || \n",
      "Task: Classification\n"
     ]
    },
    {
     "name": "stderr",
     "output_type": "stream",
     "text": [
      "Training Process: 100%|██████████| 30/30 [00:03<00:00,  9.23it/s]\n"
     ]
    },
    {
     "name": "stdout",
     "output_type": "stream",
     "text": [
      " Maximum accuracy: 0.5171875, F1: 0.4622025396214285, Test: 1.044466036061446, Train: 1.0714475092622968 \n",
      " \n",
      "\n",
      "Trail 15: \n",
      "\n",
      "|| TRAINING WEIGHT AVERAGING TREE ENSEMBLE ||\n",
      "Task: classification\n",
      "Randomly initializing 2 models\n",
      "Model 1:\n"
     ]
    },
    {
     "name": "stderr",
     "output_type": "stream",
     "text": [
      "Training Process: 100%|██████████| 10/10 [00:01<00:00,  9.94it/s]\n"
     ]
    },
    {
     "name": "stdout",
     "output_type": "stream",
     "text": [
      "./saved_models/model_1.pth\n",
      "Model 2:\n"
     ]
    },
    {
     "name": "stderr",
     "output_type": "stream",
     "text": [
      "Training Process: 100%|██████████| 10/10 [00:01<00:00,  9.52it/s]\n"
     ]
    },
    {
     "name": "stdout",
     "output_type": "stream",
     "text": [
      "./saved_models/model_2.pth\n",
      "Model 4:\n"
     ]
    },
    {
     "name": "stderr",
     "output_type": "stream",
     "text": [
      "Training Process: 100%|██████████| 10/10 [00:00<00:00, 10.79it/s]\n"
     ]
    },
    {
     "name": "stdout",
     "output_type": "stream",
     "text": [
      "./saved_models/model_4.pth\n",
      " Maximum accuracy: 0.6477430555555556, F1: 0.5326765154950389, Test: 1.0531258970499038, Train: 1.076837921142578 \n",
      " \n",
      "\n",
      "|| TRAINING SINGLE MODEL || \n",
      "Task: Classification\n"
     ]
    },
    {
     "name": "stderr",
     "output_type": "stream",
     "text": [
      "Training Process: 100%|██████████| 30/30 [00:03<00:00,  8.32it/s]\n"
     ]
    },
    {
     "name": "stdout",
     "output_type": "stream",
     "text": [
      " Maximum accuracy: 0.6719039351851852, F1: 0.5246498829248656, Test: 1.0166894982258479, Train: 1.0640917048189376 \n",
      " \n",
      "\n",
      "Trail 16: \n",
      "\n",
      "|| TRAINING WEIGHT AVERAGING TREE ENSEMBLE ||\n",
      "Task: classification\n",
      "Randomly initializing 2 models\n",
      "Model 1:\n"
     ]
    },
    {
     "name": "stderr",
     "output_type": "stream",
     "text": [
      "Training Process: 100%|██████████| 10/10 [00:00<00:00, 10.59it/s]\n"
     ]
    },
    {
     "name": "stdout",
     "output_type": "stream",
     "text": [
      "./saved_models/model_1.pth\n",
      "Model 2:\n"
     ]
    },
    {
     "name": "stderr",
     "output_type": "stream",
     "text": [
      "Training Process: 100%|██████████| 10/10 [00:00<00:00, 11.10it/s]\n"
     ]
    },
    {
     "name": "stdout",
     "output_type": "stream",
     "text": [
      "./saved_models/model_2.pth\n",
      "Model 4:\n"
     ]
    },
    {
     "name": "stderr",
     "output_type": "stream",
     "text": [
      "Training Process: 100%|██████████| 10/10 [00:01<00:00,  9.89it/s]\n"
     ]
    },
    {
     "name": "stdout",
     "output_type": "stream",
     "text": [
      "./saved_models/model_4.pth\n",
      " Maximum accuracy: 0.6754340277777777, F1: 0.4830754973095945, Test: 1.0143352702260018, Train: 1.0203464043140411 \n",
      " \n",
      "\n",
      "|| TRAINING SINGLE MODEL || \n",
      "Task: Classification\n"
     ]
    },
    {
     "name": "stderr",
     "output_type": "stream",
     "text": [
      "Training Process: 100%|██████████| 30/30 [00:03<00:00,  8.85it/s]\n"
     ]
    },
    {
     "name": "stdout",
     "output_type": "stream",
     "text": [
      " Maximum accuracy: 0.9007233796296297, F1: 0.731990504291165, Test: 0.8727546691894531, Train: 0.8867089096705119 \n",
      " \n",
      "\n",
      "Trail 17: \n",
      "\n",
      "|| TRAINING WEIGHT AVERAGING TREE ENSEMBLE ||\n",
      "Task: classification\n",
      "Randomly initializing 2 models\n",
      "Model 1:\n"
     ]
    },
    {
     "name": "stderr",
     "output_type": "stream",
     "text": [
      "Training Process: 100%|██████████| 10/10 [00:01<00:00,  9.83it/s]\n"
     ]
    },
    {
     "name": "stdout",
     "output_type": "stream",
     "text": [
      "./saved_models/model_1.pth\n",
      "Model 2:\n"
     ]
    },
    {
     "name": "stderr",
     "output_type": "stream",
     "text": [
      "Training Process: 100%|██████████| 10/10 [00:00<00:00, 10.63it/s]\n"
     ]
    },
    {
     "name": "stdout",
     "output_type": "stream",
     "text": [
      "./saved_models/model_2.pth\n",
      "Model 4:\n"
     ]
    },
    {
     "name": "stderr",
     "output_type": "stream",
     "text": [
      "Training Process: 100%|██████████| 10/10 [00:01<00:00,  9.75it/s]\n"
     ]
    },
    {
     "name": "stdout",
     "output_type": "stream",
     "text": [
      "./saved_models/model_4.pth\n",
      " Maximum accuracy: 0.5381944444444444, F1: 0.38590394465732003, Test: 1.0614001095294952, Train: 1.0796305282910665 \n",
      " \n",
      "\n",
      "|| TRAINING SINGLE MODEL || \n",
      "Task: Classification\n"
     ]
    },
    {
     "name": "stderr",
     "output_type": "stream",
     "text": [
      "Training Process: 100%|██████████| 30/30 [00:03<00:00,  8.42it/s]\n"
     ]
    },
    {
     "name": "stdout",
     "output_type": "stream",
     "text": [
      " Maximum accuracy: 0.5546875, F1: 0.5266438842507813, Test: 1.0489617938796678, Train: 1.0975525903701782 \n",
      " \n",
      "\n",
      "Trail 18: \n",
      "\n",
      "|| TRAINING WEIGHT AVERAGING TREE ENSEMBLE ||\n",
      "Task: classification\n",
      "Randomly initializing 2 models\n",
      "Model 1:\n"
     ]
    },
    {
     "name": "stderr",
     "output_type": "stream",
     "text": [
      "Training Process: 100%|██████████| 10/10 [00:01<00:00,  9.77it/s]\n"
     ]
    },
    {
     "name": "stdout",
     "output_type": "stream",
     "text": [
      "./saved_models/model_1.pth\n",
      "Model 2:\n"
     ]
    },
    {
     "name": "stderr",
     "output_type": "stream",
     "text": [
      "Training Process: 100%|██████████| 10/10 [00:00<00:00, 10.36it/s]\n"
     ]
    },
    {
     "name": "stdout",
     "output_type": "stream",
     "text": [
      "./saved_models/model_2.pth\n",
      "Model 4:\n"
     ]
    },
    {
     "name": "stderr",
     "output_type": "stream",
     "text": [
      "Training Process: 100%|██████████| 10/10 [00:01<00:00,  8.81it/s]\n"
     ]
    },
    {
     "name": "stdout",
     "output_type": "stream",
     "text": [
      "./saved_models/model_4.pth\n",
      " Maximum accuracy: 0.8756944444444444, F1: 0.7016169232226084, Test: 0.9982683926820755, Train: 1.0052475146452586 \n",
      " \n",
      "\n",
      "|| TRAINING SINGLE MODEL || \n",
      "Task: Classification\n"
     ]
    },
    {
     "name": "stderr",
     "output_type": "stream",
     "text": [
      "Training Process: 100%|██████████| 30/30 [00:03<00:00,  8.89it/s]\n"
     ]
    },
    {
     "name": "stdout",
     "output_type": "stream",
     "text": [
      " Maximum accuracy: 0.6451388888888889, F1: 0.635657849766831, Test: 1.0065976937611898, Train: 0.9852256211969588 \n",
      " \n",
      "\n",
      "Trail 19: \n",
      "\n",
      "|| TRAINING WEIGHT AVERAGING TREE ENSEMBLE ||\n",
      "Task: classification\n",
      "Randomly initializing 2 models\n",
      "Model 1:\n"
     ]
    },
    {
     "name": "stderr",
     "output_type": "stream",
     "text": [
      "Training Process: 100%|██████████| 10/10 [00:01<00:00,  9.33it/s]\n"
     ]
    },
    {
     "name": "stdout",
     "output_type": "stream",
     "text": [
      "./saved_models/model_1.pth\n",
      "Model 2:\n"
     ]
    },
    {
     "name": "stderr",
     "output_type": "stream",
     "text": [
      "Training Process: 100%|██████████| 10/10 [00:00<00:00, 10.38it/s]\n"
     ]
    },
    {
     "name": "stdout",
     "output_type": "stream",
     "text": [
      "./saved_models/model_2.pth\n",
      "Model 4:\n"
     ]
    },
    {
     "name": "stderr",
     "output_type": "stream",
     "text": [
      "Training Process: 100%|██████████| 10/10 [00:01<00:00,  8.20it/s]\n"
     ]
    },
    {
     "name": "stdout",
     "output_type": "stream",
     "text": [
      "./saved_models/model_4.pth\n",
      " Maximum accuracy: 0.7546006944444444, F1: 0.5965382651108355, Test: 1.0251758739352226, Train: 1.007858472665151 \n",
      " \n",
      "\n",
      "|| TRAINING SINGLE MODEL || \n",
      "Task: Classification\n"
     ]
    },
    {
     "name": "stderr",
     "output_type": "stream",
     "text": [
      "Training Process: 100%|██████████| 30/30 [00:03<00:00,  8.49it/s]\n"
     ]
    },
    {
     "name": "stdout",
     "output_type": "stream",
     "text": [
      " Maximum accuracy: 0.8523148148148147, F1: 0.6533179045344146, Test: 0.944511258105437, Train: 0.9893824916415744 \n",
      " \n",
      "\n",
      "Trail 20: \n",
      "\n",
      "|| TRAINING WEIGHT AVERAGING TREE ENSEMBLE ||\n",
      "Task: classification\n",
      "Randomly initializing 2 models\n",
      "Model 1:\n"
     ]
    },
    {
     "name": "stderr",
     "output_type": "stream",
     "text": [
      "Training Process: 100%|██████████| 10/10 [00:00<00:00, 10.57it/s]\n"
     ]
    },
    {
     "name": "stdout",
     "output_type": "stream",
     "text": [
      "./saved_models/model_1.pth\n",
      "Model 2:\n"
     ]
    },
    {
     "name": "stderr",
     "output_type": "stream",
     "text": [
      "Training Process: 100%|██████████| 10/10 [00:00<00:00, 10.54it/s]\n"
     ]
    },
    {
     "name": "stdout",
     "output_type": "stream",
     "text": [
      "./saved_models/model_2.pth\n",
      "Model 4:\n"
     ]
    },
    {
     "name": "stderr",
     "output_type": "stream",
     "text": [
      "Training Process: 100%|██████████| 10/10 [00:01<00:00,  9.31it/s]\n"
     ]
    },
    {
     "name": "stdout",
     "output_type": "stream",
     "text": [
      "./saved_models/model_4.pth\n",
      " Maximum accuracy: 0.7494791666666667, F1: 0.6045020065013497, Test: 1.0079173982143401, Train: 0.991532508134842 \n",
      " \n",
      "\n",
      "|| TRAINING SINGLE MODEL || \n",
      "Task: Classification\n"
     ]
    },
    {
     "name": "stderr",
     "output_type": "stream",
     "text": [
      "Training Process: 100%|██████████| 30/30 [00:03<00:00,  8.70it/s]\n"
     ]
    },
    {
     "name": "stdout",
     "output_type": "stream",
     "text": [
      " Maximum accuracy: 0.8157118055555556, F1: 0.6692930442609571, Test: 0.9241667826970418, Train: 0.9266629183292389 \n",
      " \n",
      "\n",
      "Trail 21: \n",
      "\n",
      "|| TRAINING WEIGHT AVERAGING TREE ENSEMBLE ||\n",
      "Task: classification\n",
      "Randomly initializing 2 models\n",
      "Model 1:\n"
     ]
    },
    {
     "name": "stderr",
     "output_type": "stream",
     "text": [
      "Training Process: 100%|██████████| 10/10 [00:01<00:00,  9.90it/s]\n"
     ]
    },
    {
     "name": "stdout",
     "output_type": "stream",
     "text": [
      "./saved_models/model_1.pth\n",
      "Model 2:\n"
     ]
    },
    {
     "name": "stderr",
     "output_type": "stream",
     "text": [
      "Training Process: 100%|██████████| 10/10 [00:01<00:00,  9.50it/s]\n"
     ]
    },
    {
     "name": "stdout",
     "output_type": "stream",
     "text": [
      "./saved_models/model_2.pth\n",
      "Model 4:\n"
     ]
    },
    {
     "name": "stderr",
     "output_type": "stream",
     "text": [
      "Training Process: 100%|██████████| 10/10 [00:01<00:00,  7.51it/s]\n"
     ]
    },
    {
     "name": "stdout",
     "output_type": "stream",
     "text": [
      "./saved_models/model_4.pth\n",
      " Maximum accuracy: 0.7844618055555556, F1: 0.5805729299286357, Test: 1.0259175658226014, Train: 1.0343397605419158 \n",
      " \n",
      "\n",
      "|| TRAINING SINGLE MODEL || \n",
      "Task: Classification\n"
     ]
    },
    {
     "name": "stderr",
     "output_type": "stream",
     "text": [
      "Training Process: 100%|██████████| 30/30 [00:03<00:00,  8.71it/s]\n"
     ]
    },
    {
     "name": "stdout",
     "output_type": "stream",
     "text": [
      " Maximum accuracy: 0.7212673611111112, F1: 0.5921751307394013, Test: 1.008203600347042, Train: 1.0024533175097572 \n",
      " \n",
      "\n",
      "Trail 22: \n",
      "\n",
      "|| TRAINING WEIGHT AVERAGING TREE ENSEMBLE ||\n",
      "Task: classification\n",
      "Randomly initializing 2 models\n",
      "Model 1:\n"
     ]
    },
    {
     "name": "stderr",
     "output_type": "stream",
     "text": [
      "Training Process: 100%|██████████| 10/10 [00:01<00:00,  9.71it/s]\n"
     ]
    },
    {
     "name": "stdout",
     "output_type": "stream",
     "text": [
      "./saved_models/model_1.pth\n",
      "Model 2:\n"
     ]
    },
    {
     "name": "stderr",
     "output_type": "stream",
     "text": [
      "Training Process: 100%|██████████| 10/10 [00:01<00:00,  8.78it/s]\n"
     ]
    },
    {
     "name": "stdout",
     "output_type": "stream",
     "text": [
      "./saved_models/model_2.pth\n",
      "Model 4:\n"
     ]
    },
    {
     "name": "stderr",
     "output_type": "stream",
     "text": [
      "Training Process: 100%|██████████| 10/10 [00:00<00:00, 10.37it/s]\n"
     ]
    },
    {
     "name": "stdout",
     "output_type": "stream",
     "text": [
      "./saved_models/model_4.pth\n",
      " Maximum accuracy: 0.3701388888888889, F1: 0.41368780099935676, Test: 1.0913971006870269, Train: 1.120263212521871 \n",
      " \n",
      "\n",
      "|| TRAINING SINGLE MODEL || \n",
      "Task: Classification\n"
     ]
    },
    {
     "name": "stderr",
     "output_type": "stream",
     "text": [
      "Training Process: 100%|██████████| 30/30 [00:03<00:00,  8.92it/s]\n"
     ]
    },
    {
     "name": "stdout",
     "output_type": "stream",
     "text": [
      " Maximum accuracy: 0.505787037037037, F1: 0.47331604623047846, Test: 1.0855957890550296, Train: 1.0242565978897942 \n",
      " \n",
      "\n",
      "Trail 23: \n",
      "\n",
      "|| TRAINING WEIGHT AVERAGING TREE ENSEMBLE ||\n",
      "Task: classification\n",
      "Randomly initializing 2 models\n",
      "Model 1:\n"
     ]
    },
    {
     "name": "stderr",
     "output_type": "stream",
     "text": [
      "Training Process: 100%|██████████| 10/10 [00:01<00:00,  9.65it/s]\n"
     ]
    },
    {
     "name": "stdout",
     "output_type": "stream",
     "text": [
      "./saved_models/model_1.pth\n",
      "Model 2:\n"
     ]
    },
    {
     "name": "stderr",
     "output_type": "stream",
     "text": [
      "Training Process: 100%|██████████| 10/10 [00:01<00:00,  8.13it/s]\n"
     ]
    },
    {
     "name": "stdout",
     "output_type": "stream",
     "text": [
      "./saved_models/model_2.pth\n",
      "Model 4:\n"
     ]
    },
    {
     "name": "stderr",
     "output_type": "stream",
     "text": [
      "Training Process: 100%|██████████| 10/10 [00:00<00:00, 10.18it/s]\n"
     ]
    },
    {
     "name": "stdout",
     "output_type": "stream",
     "text": [
      "./saved_models/model_4.pth\n",
      " Maximum accuracy: 0.8324652777777779, F1: 0.6529890807027529, Test: 1.0005392745137214, Train: 1.0162383004029591 \n",
      " \n",
      "\n",
      "|| TRAINING SINGLE MODEL || \n",
      "Task: Classification\n"
     ]
    },
    {
     "name": "stderr",
     "output_type": "stream",
     "text": [
      "Training Process: 100%|██████████| 30/30 [00:03<00:00,  8.51it/s]\n"
     ]
    },
    {
     "name": "stdout",
     "output_type": "stream",
     "text": [
      " Maximum accuracy: 0.72578125, F1: 0.5388643786960686, Test: 0.9429272592067719, Train: 0.9902785076035394 \n",
      " \n",
      "\n",
      "Trail 24: \n",
      "\n",
      "|| TRAINING WEIGHT AVERAGING TREE ENSEMBLE ||\n",
      "Task: classification\n",
      "Randomly initializing 2 models\n",
      "Model 1:\n"
     ]
    },
    {
     "name": "stderr",
     "output_type": "stream",
     "text": [
      "Training Process: 100%|██████████| 10/10 [00:00<00:00, 10.67it/s]\n"
     ]
    },
    {
     "name": "stdout",
     "output_type": "stream",
     "text": [
      "./saved_models/model_1.pth\n",
      "Model 2:\n"
     ]
    },
    {
     "name": "stderr",
     "output_type": "stream",
     "text": [
      "Training Process: 100%|██████████| 10/10 [00:01<00:00,  9.86it/s]\n"
     ]
    },
    {
     "name": "stdout",
     "output_type": "stream",
     "text": [
      "./saved_models/model_2.pth\n",
      "Model 4:\n"
     ]
    },
    {
     "name": "stderr",
     "output_type": "stream",
     "text": [
      "Training Process: 100%|██████████| 10/10 [00:01<00:00,  9.82it/s]\n"
     ]
    },
    {
     "name": "stdout",
     "output_type": "stream",
     "text": [
      "./saved_models/model_4.pth\n",
      " Maximum accuracy: 0.7157118055555556, F1: 0.540137895935314, Test: 1.0225430637598039, Train: 1.0297486551602681 \n",
      " \n",
      "\n",
      "|| TRAINING SINGLE MODEL || \n",
      "Task: Classification\n"
     ]
    },
    {
     "name": "stderr",
     "output_type": "stream",
     "text": [
      "Training Process: 100%|██████████| 30/30 [00:03<00:00,  8.61it/s]\n"
     ]
    },
    {
     "name": "stdout",
     "output_type": "stream",
     "text": [
      " Maximum accuracy: 0.7184895833333333, F1: 0.5718834898554724, Test: 1.0103131468097368, Train: 1.0332978517479368 \n",
      " \n",
      "\n",
      "Trail 25: \n",
      "\n",
      "|| TRAINING WEIGHT AVERAGING TREE ENSEMBLE ||\n",
      "Task: classification\n",
      "Randomly initializing 2 models\n",
      "Model 1:\n"
     ]
    },
    {
     "name": "stderr",
     "output_type": "stream",
     "text": [
      "Training Process: 100%|██████████| 10/10 [00:00<00:00, 10.34it/s]\n"
     ]
    },
    {
     "name": "stdout",
     "output_type": "stream",
     "text": [
      "./saved_models/model_1.pth\n",
      "Model 2:\n"
     ]
    },
    {
     "name": "stderr",
     "output_type": "stream",
     "text": [
      "Training Process: 100%|██████████| 10/10 [00:01<00:00,  7.13it/s]\n"
     ]
    },
    {
     "name": "stdout",
     "output_type": "stream",
     "text": [
      "./saved_models/model_2.pth\n",
      "Model 4:\n"
     ]
    },
    {
     "name": "stderr",
     "output_type": "stream",
     "text": [
      "Training Process: 100%|██████████| 10/10 [00:01<00:00,  8.69it/s]\n"
     ]
    },
    {
     "name": "stdout",
     "output_type": "stream",
     "text": [
      "./saved_models/model_4.pth\n",
      " Maximum accuracy: 0.53125, F1: 0.43828251946313085, Test: 1.0745517939329148, Train: 1.0649027260144552 \n",
      " \n",
      "\n",
      "|| TRAINING SINGLE MODEL || \n",
      "Task: Classification\n"
     ]
    },
    {
     "name": "stderr",
     "output_type": "stream",
     "text": [
      "Training Process: 100%|██████████| 30/30 [00:03<00:00,  8.46it/s]\n"
     ]
    },
    {
     "name": "stdout",
     "output_type": "stream",
     "text": [
      " Maximum accuracy: 0.8276041666666667, F1: 0.7218218106564357, Test: 0.8745210776726405, Train: 0.8980025083488888 \n",
      " \n",
      "\n",
      "Trail 26: \n",
      "\n",
      "|| TRAINING WEIGHT AVERAGING TREE ENSEMBLE ||\n",
      "Task: classification\n",
      "Randomly initializing 2 models\n",
      "Model 1:\n"
     ]
    },
    {
     "name": "stderr",
     "output_type": "stream",
     "text": [
      "Training Process: 100%|██████████| 10/10 [00:01<00:00,  8.44it/s]\n"
     ]
    },
    {
     "name": "stdout",
     "output_type": "stream",
     "text": [
      "./saved_models/model_1.pth\n",
      "Model 2:\n"
     ]
    },
    {
     "name": "stderr",
     "output_type": "stream",
     "text": [
      "Training Process: 100%|██████████| 10/10 [00:01<00:00,  9.72it/s]\n"
     ]
    },
    {
     "name": "stdout",
     "output_type": "stream",
     "text": [
      "./saved_models/model_2.pth\n",
      "Model 4:\n"
     ]
    },
    {
     "name": "stderr",
     "output_type": "stream",
     "text": [
      "Training Process: 100%|██████████| 10/10 [00:01<00:00,  9.69it/s]\n"
     ]
    },
    {
     "name": "stdout",
     "output_type": "stream",
     "text": [
      "./saved_models/model_4.pth\n",
      " Maximum accuracy: 0.8116319444444444, F1: 0.6497460702145643, Test: 0.9934448152780533, Train: 0.9756203969319661 \n",
      " \n",
      "\n",
      "|| TRAINING SINGLE MODEL || \n",
      "Task: Classification\n"
     ]
    },
    {
     "name": "stderr",
     "output_type": "stream",
     "text": [
      "Training Process: 100%|██████████| 30/30 [00:03<00:00,  8.04it/s]\n"
     ]
    },
    {
     "name": "stdout",
     "output_type": "stream",
     "text": [
      " Maximum accuracy: 0.84296875, F1: 0.6746038541278913, Test: 0.9338929653167725, Train: 0.942709488471349 \n",
      " \n",
      "\n",
      "Trail 27: \n",
      "\n",
      "|| TRAINING WEIGHT AVERAGING TREE ENSEMBLE ||\n",
      "Task: classification\n",
      "Randomly initializing 2 models\n",
      "Model 1:\n"
     ]
    },
    {
     "name": "stderr",
     "output_type": "stream",
     "text": [
      "Training Process: 100%|██████████| 10/10 [00:01<00:00,  8.07it/s]\n"
     ]
    },
    {
     "name": "stdout",
     "output_type": "stream",
     "text": [
      "./saved_models/model_1.pth\n",
      "Model 2:\n"
     ]
    },
    {
     "name": "stderr",
     "output_type": "stream",
     "text": [
      "Training Process: 100%|██████████| 10/10 [00:01<00:00,  9.50it/s]\n"
     ]
    },
    {
     "name": "stdout",
     "output_type": "stream",
     "text": [
      "./saved_models/model_2.pth\n",
      "Model 4:\n"
     ]
    },
    {
     "name": "stderr",
     "output_type": "stream",
     "text": [
      "Training Process: 100%|██████████| 10/10 [00:01<00:00,  9.15it/s]\n"
     ]
    },
    {
     "name": "stdout",
     "output_type": "stream",
     "text": [
      "./saved_models/model_4.pth\n",
      " Maximum accuracy: 0.7410590277777778, F1: 0.6133459211946737, Test: 1.0161179408431054, Train: 1.0333057940006256 \n",
      " \n",
      "\n",
      "|| TRAINING SINGLE MODEL || \n",
      "Task: Classification\n"
     ]
    },
    {
     "name": "stderr",
     "output_type": "stream",
     "text": [
      "Training Process: 100%|██████████| 30/30 [00:03<00:00,  8.28it/s]\n"
     ]
    },
    {
     "name": "stdout",
     "output_type": "stream",
     "text": [
      " Maximum accuracy: 0.9116319444444445, F1: 0.729586764174172, Test: 0.8999763791759808, Train: 0.9078797925843133 \n",
      " \n",
      "\n",
      "Trail 28: \n",
      "\n",
      "|| TRAINING WEIGHT AVERAGING TREE ENSEMBLE ||\n",
      "Task: classification\n",
      "Randomly initializing 2 models\n",
      "Model 1:\n"
     ]
    },
    {
     "name": "stderr",
     "output_type": "stream",
     "text": [
      "Training Process: 100%|██████████| 10/10 [00:01<00:00,  9.82it/s]\n"
     ]
    },
    {
     "name": "stdout",
     "output_type": "stream",
     "text": [
      "./saved_models/model_1.pth\n",
      "Model 2:\n"
     ]
    },
    {
     "name": "stderr",
     "output_type": "stream",
     "text": [
      "Training Process: 100%|██████████| 10/10 [00:01<00:00,  8.21it/s]\n"
     ]
    },
    {
     "name": "stdout",
     "output_type": "stream",
     "text": [
      "./saved_models/model_2.pth\n",
      "Model 4:\n"
     ]
    },
    {
     "name": "stderr",
     "output_type": "stream",
     "text": [
      "Training Process: 100%|██████████| 10/10 [00:01<00:00,  9.18it/s]\n"
     ]
    },
    {
     "name": "stdout",
     "output_type": "stream",
     "text": [
      "./saved_models/model_4.pth\n",
      " Maximum accuracy: 0.609201388888889, F1: 0.5337851518614778, Test: 1.0615904450416564, Train: 1.0557175131638845 \n",
      " \n",
      "\n",
      "|| TRAINING SINGLE MODEL || \n",
      "Task: Classification\n"
     ]
    },
    {
     "name": "stderr",
     "output_type": "stream",
     "text": [
      "Training Process: 100%|██████████| 30/30 [00:03<00:00,  7.83it/s]\n"
     ]
    },
    {
     "name": "stdout",
     "output_type": "stream",
     "text": [
      " Maximum accuracy: 0.6195891203703705, F1: 0.5705494277161384, Test: 1.014903949201107, Train: 1.0298133144113752 \n",
      " \n",
      "\n",
      "Trail 29: \n",
      "\n",
      "|| TRAINING WEIGHT AVERAGING TREE ENSEMBLE ||\n",
      "Task: classification\n",
      "Randomly initializing 2 models\n",
      "Model 1:\n"
     ]
    },
    {
     "name": "stderr",
     "output_type": "stream",
     "text": [
      "Training Process: 100%|██████████| 10/10 [00:01<00:00,  9.31it/s]\n"
     ]
    },
    {
     "name": "stdout",
     "output_type": "stream",
     "text": [
      "./saved_models/model_1.pth\n",
      "Model 2:\n"
     ]
    },
    {
     "name": "stderr",
     "output_type": "stream",
     "text": [
      "Training Process: 100%|██████████| 10/10 [00:01<00:00,  9.37it/s]\n"
     ]
    },
    {
     "name": "stdout",
     "output_type": "stream",
     "text": [
      "./saved_models/model_2.pth\n",
      "Model 4:\n"
     ]
    },
    {
     "name": "stderr",
     "output_type": "stream",
     "text": [
      "Training Process: 100%|██████████| 10/10 [00:01<00:00,  8.77it/s]\n"
     ]
    },
    {
     "name": "stdout",
     "output_type": "stream",
     "text": [
      "./saved_models/model_4.pth\n",
      " Maximum accuracy: 0.7716145833333334, F1: 0.6511813872502967, Test: 1.0145132794976235, Train: 1.006988706588745 \n",
      " \n",
      "\n",
      "|| TRAINING SINGLE MODEL || \n",
      "Task: Classification\n"
     ]
    },
    {
     "name": "stderr",
     "output_type": "stream",
     "text": [
      "Training Process: 100%|██████████| 30/30 [00:03<00:00,  8.13it/s]\n"
     ]
    },
    {
     "name": "stdout",
     "output_type": "stream",
     "text": [
      " Maximum accuracy: 0.7718171296296297, F1: 0.677200458369414, Test: 0.9483151699105898, Train: 0.9549071836471558 \n",
      " \n",
      "\n",
      "Trail 30: \n",
      "\n",
      "|| TRAINING WEIGHT AVERAGING TREE ENSEMBLE ||\n",
      "Task: classification\n",
      "Randomly initializing 2 models\n",
      "Model 1:\n"
     ]
    },
    {
     "name": "stderr",
     "output_type": "stream",
     "text": [
      "Training Process: 100%|██████████| 10/10 [00:01<00:00,  9.49it/s]\n"
     ]
    },
    {
     "name": "stdout",
     "output_type": "stream",
     "text": [
      "./saved_models/model_1.pth\n",
      "Model 2:\n"
     ]
    },
    {
     "name": "stderr",
     "output_type": "stream",
     "text": [
      "Training Process: 100%|██████████| 10/10 [00:01<00:00,  9.94it/s]\n"
     ]
    },
    {
     "name": "stdout",
     "output_type": "stream",
     "text": [
      "./saved_models/model_2.pth\n",
      "Model 4:\n"
     ]
    },
    {
     "name": "stderr",
     "output_type": "stream",
     "text": [
      "Training Process: 100%|██████████| 10/10 [00:01<00:00,  7.83it/s]\n"
     ]
    },
    {
     "name": "stdout",
     "output_type": "stream",
     "text": [
      "./saved_models/model_4.pth\n",
      " Maximum accuracy: 0.671701388888889, F1: 0.5839994710198181, Test: 1.022476825118065, Train: 1.030028438170751 \n",
      " \n",
      "\n",
      "|| TRAINING SINGLE MODEL || \n",
      "Task: Classification\n"
     ]
    },
    {
     "name": "stderr",
     "output_type": "stream",
     "text": [
      "Training Process: 100%|██████████| 30/30 [00:03<00:00,  8.07it/s]\n"
     ]
    },
    {
     "name": "stdout",
     "output_type": "stream",
     "text": [
      " Maximum accuracy: 0.6967013888888888, F1: 0.5758927189126646, Test: 1.0413563380638757, Train: 1.046638917128245 \n",
      " \n",
      "\n",
      "Trail 31: \n",
      "\n",
      "|| TRAINING WEIGHT AVERAGING TREE ENSEMBLE ||\n",
      "Task: classification\n",
      "Randomly initializing 2 models\n",
      "Model 1:\n"
     ]
    },
    {
     "name": "stderr",
     "output_type": "stream",
     "text": [
      "Training Process: 100%|██████████| 10/10 [00:01<00:00,  8.01it/s]\n"
     ]
    },
    {
     "name": "stdout",
     "output_type": "stream",
     "text": [
      "./saved_models/model_1.pth\n",
      "Model 2:\n"
     ]
    },
    {
     "name": "stderr",
     "output_type": "stream",
     "text": [
      "Training Process: 100%|██████████| 10/10 [00:01<00:00,  8.73it/s]\n"
     ]
    },
    {
     "name": "stdout",
     "output_type": "stream",
     "text": [
      "./saved_models/model_2.pth\n",
      "Model 4:\n"
     ]
    },
    {
     "name": "stderr",
     "output_type": "stream",
     "text": [
      "Training Process: 100%|██████████| 10/10 [00:01<00:00,  9.39it/s]\n"
     ]
    },
    {
     "name": "stdout",
     "output_type": "stream",
     "text": [
      "./saved_models/model_4.pth\n",
      " Maximum accuracy: 0.7409722222222223, F1: 0.6316795691877161, Test: 1.0096240788698196, Train: 0.9848548551400502 \n",
      " \n",
      "\n",
      "|| TRAINING SINGLE MODEL || \n",
      "Task: Classification\n"
     ]
    },
    {
     "name": "stderr",
     "output_type": "stream",
     "text": [
      "Training Process: 100%|██████████| 30/30 [00:03<00:00,  7.92it/s]\n"
     ]
    },
    {
     "name": "stdout",
     "output_type": "stream",
     "text": [
      " Maximum accuracy: 0.5796585648148148, F1: 0.5328885871053907, Test: 0.9942491511503856, Train: 0.9449249274200864 \n",
      " \n",
      "\n",
      "Trail 32: \n",
      "\n",
      "|| TRAINING WEIGHT AVERAGING TREE ENSEMBLE ||\n",
      "Task: classification\n",
      "Randomly initializing 2 models\n",
      "Model 1:\n"
     ]
    },
    {
     "name": "stderr",
     "output_type": "stream",
     "text": [
      "Training Process: 100%|██████████| 10/10 [00:01<00:00,  9.20it/s]\n"
     ]
    },
    {
     "name": "stdout",
     "output_type": "stream",
     "text": [
      "./saved_models/model_1.pth\n",
      "Model 2:\n"
     ]
    },
    {
     "name": "stderr",
     "output_type": "stream",
     "text": [
      "Training Process: 100%|██████████| 10/10 [00:01<00:00,  9.15it/s]\n"
     ]
    },
    {
     "name": "stdout",
     "output_type": "stream",
     "text": [
      "./saved_models/model_2.pth\n",
      "Model 4:\n"
     ]
    },
    {
     "name": "stderr",
     "output_type": "stream",
     "text": [
      "Training Process: 100%|██████████| 10/10 [00:01<00:00,  7.66it/s]\n"
     ]
    },
    {
     "name": "stdout",
     "output_type": "stream",
     "text": [
      "./saved_models/model_4.pth\n",
      " Maximum accuracy: 0.7586805555555556, F1: 0.5336564784360608, Test: 0.9981470823287963, Train: 0.9822576034069062 \n",
      " \n",
      "\n",
      "|| TRAINING SINGLE MODEL || \n",
      "Task: Classification\n"
     ]
    },
    {
     "name": "stderr",
     "output_type": "stream",
     "text": [
      "Training Process: 100%|██████████| 30/30 [00:03<00:00,  7.83it/s]\n"
     ]
    },
    {
     "name": "stdout",
     "output_type": "stream",
     "text": [
      " Maximum accuracy: 0.673582175925926, F1: 0.5496802025365648, Test: 1.0150194893280664, Train: 1.0434395146369935 \n",
      " \n",
      "\n",
      "Trail 33: \n",
      "\n",
      "|| TRAINING WEIGHT AVERAGING TREE ENSEMBLE ||\n",
      "Task: classification\n",
      "Randomly initializing 2 models\n",
      "Model 1:\n"
     ]
    },
    {
     "name": "stderr",
     "output_type": "stream",
     "text": [
      "Training Process: 100%|██████████| 10/10 [00:01<00:00,  9.02it/s]\n"
     ]
    },
    {
     "name": "stdout",
     "output_type": "stream",
     "text": [
      "./saved_models/model_1.pth\n",
      "Model 2:\n"
     ]
    },
    {
     "name": "stderr",
     "output_type": "stream",
     "text": [
      "Training Process: 100%|██████████| 10/10 [00:01<00:00,  7.79it/s]\n"
     ]
    },
    {
     "name": "stdout",
     "output_type": "stream",
     "text": [
      "./saved_models/model_2.pth\n",
      "Model 4:\n"
     ]
    },
    {
     "name": "stderr",
     "output_type": "stream",
     "text": [
      "Training Process: 100%|██████████| 10/10 [00:01<00:00,  8.82it/s]\n"
     ]
    },
    {
     "name": "stdout",
     "output_type": "stream",
     "text": [
      "./saved_models/model_4.pth\n",
      " Maximum accuracy: 0.54609375, F1: 0.5158264684973449, Test: 1.0540784865617752, Train: 1.0405318645636241 \n",
      " \n",
      "\n",
      "|| TRAINING SINGLE MODEL || \n",
      "Task: Classification\n"
     ]
    },
    {
     "name": "stderr",
     "output_type": "stream",
     "text": [
      "Training Process: 100%|██████████| 30/30 [00:03<00:00,  7.74it/s]\n"
     ]
    },
    {
     "name": "stdout",
     "output_type": "stream",
     "text": [
      " Maximum accuracy: 0.7046296296296296, F1: 0.5595142524333744, Test: 0.9763692066073417, Train: 0.9850664374563429 \n",
      " \n",
      "\n",
      "Trail 34: \n",
      "\n",
      "|| TRAINING WEIGHT AVERAGING TREE ENSEMBLE ||\n",
      "Task: classification\n",
      "Randomly initializing 2 models\n",
      "Model 1:\n"
     ]
    },
    {
     "name": "stderr",
     "output_type": "stream",
     "text": [
      "Training Process: 100%|██████████| 10/10 [00:01<00:00,  7.05it/s]\n"
     ]
    },
    {
     "name": "stdout",
     "output_type": "stream",
     "text": [
      "./saved_models/model_1.pth\n",
      "Model 2:\n"
     ]
    },
    {
     "name": "stderr",
     "output_type": "stream",
     "text": [
      "Training Process: 100%|██████████| 10/10 [00:01<00:00,  9.46it/s]\n"
     ]
    },
    {
     "name": "stdout",
     "output_type": "stream",
     "text": [
      "./saved_models/model_2.pth\n",
      "Model 4:\n"
     ]
    },
    {
     "name": "stderr",
     "output_type": "stream",
     "text": [
      "Training Process: 100%|██████████| 10/10 [00:01<00:00,  8.26it/s]\n"
     ]
    },
    {
     "name": "stdout",
     "output_type": "stream",
     "text": [
      "./saved_models/model_4.pth\n",
      " Maximum accuracy: 0.7653645833333333, F1: 0.6849633948016972, Test: 1.010432943701744, Train: 1.0061522845427195 \n",
      " \n",
      "\n",
      "|| TRAINING SINGLE MODEL || \n",
      "Task: Classification\n"
     ]
    },
    {
     "name": "stderr",
     "output_type": "stream",
     "text": [
      "Training Process: 100%|██████████| 30/30 [00:03<00:00,  7.65it/s]\n"
     ]
    },
    {
     "name": "stdout",
     "output_type": "stream",
     "text": [
      " Maximum accuracy: 0.73515625, F1: 0.6059565613059968, Test: 0.9659673710664113, Train: 1.040529230568144 \n",
      " \n",
      "\n",
      "Trail 35: \n",
      "\n",
      "|| TRAINING WEIGHT AVERAGING TREE ENSEMBLE ||\n",
      "Task: classification\n",
      "Randomly initializing 2 models\n",
      "Model 1:\n"
     ]
    },
    {
     "name": "stderr",
     "output_type": "stream",
     "text": [
      "Training Process: 100%|██████████| 10/10 [00:01<00:00,  8.85it/s]\n"
     ]
    },
    {
     "name": "stdout",
     "output_type": "stream",
     "text": [
      "./saved_models/model_1.pth\n",
      "Model 2:\n"
     ]
    },
    {
     "name": "stderr",
     "output_type": "stream",
     "text": [
      "Training Process: 100%|██████████| 10/10 [00:01<00:00,  8.53it/s]\n"
     ]
    },
    {
     "name": "stdout",
     "output_type": "stream",
     "text": [
      "./saved_models/model_2.pth\n",
      "Model 4:\n"
     ]
    },
    {
     "name": "stderr",
     "output_type": "stream",
     "text": [
      "Training Process: 100%|██████████| 10/10 [00:01<00:00,  8.26it/s]\n"
     ]
    },
    {
     "name": "stdout",
     "output_type": "stream",
     "text": [
      "./saved_models/model_4.pth\n",
      " Maximum accuracy: 0.7211805555555555, F1: 0.6475725771039529, Test: 1.0177206143736839, Train: 0.9901661193370819 \n",
      " \n",
      "\n",
      "|| TRAINING SINGLE MODEL || \n",
      "Task: Classification\n"
     ]
    },
    {
     "name": "stderr",
     "output_type": "stream",
     "text": [
      "Training Process: 100%|██████████| 30/30 [00:04<00:00,  7.28it/s]\n"
     ]
    },
    {
     "name": "stdout",
     "output_type": "stream",
     "text": [
      " Maximum accuracy: 0.49840856481481477, F1: 0.4409138569270118, Test: 1.049171881377697, Train: 1.1145149623023138 \n",
      " \n",
      "\n",
      "Trail 36: \n",
      "\n",
      "|| TRAINING WEIGHT AVERAGING TREE ENSEMBLE ||\n",
      "Task: classification\n",
      "Randomly initializing 2 models\n",
      "Model 1:\n"
     ]
    },
    {
     "name": "stderr",
     "output_type": "stream",
     "text": [
      "Training Process: 100%|██████████| 10/10 [00:01<00:00,  8.89it/s]\n"
     ]
    },
    {
     "name": "stdout",
     "output_type": "stream",
     "text": [
      "./saved_models/model_1.pth\n",
      "Model 2:\n"
     ]
    },
    {
     "name": "stderr",
     "output_type": "stream",
     "text": [
      "Training Process: 100%|██████████| 10/10 [00:01<00:00,  8.67it/s]\n"
     ]
    },
    {
     "name": "stdout",
     "output_type": "stream",
     "text": [
      "./saved_models/model_2.pth\n",
      "Model 4:\n"
     ]
    },
    {
     "name": "stderr",
     "output_type": "stream",
     "text": [
      "Training Process: 100%|██████████| 10/10 [00:01<00:00,  8.53it/s]\n"
     ]
    },
    {
     "name": "stdout",
     "output_type": "stream",
     "text": [
      "./saved_models/model_4.pth\n",
      " Maximum accuracy: 0.7832465277777778, F1: 0.6200230886095158, Test: 1.0092694953083992, Train: 1.0088080537319184 \n",
      " \n",
      "\n",
      "|| TRAINING SINGLE MODEL || \n",
      "Task: Classification\n"
     ]
    },
    {
     "name": "stderr",
     "output_type": "stream",
     "text": [
      "Training Process: 100%|██████████| 30/30 [00:03<00:00,  7.57it/s]\n"
     ]
    },
    {
     "name": "stdout",
     "output_type": "stream",
     "text": [
      " Maximum accuracy: 0.5158275462962963, F1: 0.3697893311643254, Test: 1.0500042264660199, Train: 1.0930551670657265 \n",
      " \n",
      "\n",
      "Trail 37: \n",
      "\n",
      "|| TRAINING WEIGHT AVERAGING TREE ENSEMBLE ||\n",
      "Task: classification\n",
      "Randomly initializing 2 models\n",
      "Model 1:\n"
     ]
    },
    {
     "name": "stderr",
     "output_type": "stream",
     "text": [
      "Training Process: 100%|██████████| 10/10 [00:01<00:00,  7.81it/s]\n"
     ]
    },
    {
     "name": "stdout",
     "output_type": "stream",
     "text": [
      "./saved_models/model_1.pth\n",
      "Model 2:\n"
     ]
    },
    {
     "name": "stderr",
     "output_type": "stream",
     "text": [
      "Training Process: 100%|██████████| 10/10 [00:01<00:00,  6.51it/s]\n"
     ]
    },
    {
     "name": "stdout",
     "output_type": "stream",
     "text": [
      "./saved_models/model_2.pth\n",
      "Model 4:\n"
     ]
    },
    {
     "name": "stderr",
     "output_type": "stream",
     "text": [
      "Training Process: 100%|██████████| 10/10 [00:01<00:00,  6.26it/s]\n"
     ]
    },
    {
     "name": "stdout",
     "output_type": "stream",
     "text": [
      "./saved_models/model_4.pth\n",
      " Maximum accuracy: 0.7978298611111111, F1: 0.5602873259438331, Test: 0.9903316229581833, Train: 1.0098087259133657 \n",
      " \n",
      "\n",
      "|| TRAINING SINGLE MODEL || \n",
      "Task: Classification\n"
     ]
    },
    {
     "name": "stderr",
     "output_type": "stream",
     "text": [
      "Training Process: 100%|██████████| 30/30 [00:04<00:00,  6.28it/s]\n"
     ]
    },
    {
     "name": "stdout",
     "output_type": "stream",
     "text": [
      " Maximum accuracy: 0.8244212962962963, F1: 0.6454354210196441, Test: 0.9844368994235992, Train: 1.0127212418450249 \n",
      " \n",
      "\n",
      "Trail 38: \n",
      "\n",
      "|| TRAINING WEIGHT AVERAGING TREE ENSEMBLE ||\n",
      "Task: classification\n",
      "Randomly initializing 2 models\n",
      "Model 1:\n"
     ]
    },
    {
     "name": "stderr",
     "output_type": "stream",
     "text": [
      "Training Process: 100%|██████████| 10/10 [00:01<00:00,  6.93it/s]\n"
     ]
    },
    {
     "name": "stdout",
     "output_type": "stream",
     "text": [
      "./saved_models/model_1.pth\n",
      "Model 2:\n"
     ]
    },
    {
     "name": "stderr",
     "output_type": "stream",
     "text": [
      "Training Process: 100%|██████████| 10/10 [00:01<00:00,  6.26it/s]\n"
     ]
    },
    {
     "name": "stdout",
     "output_type": "stream",
     "text": [
      "./saved_models/model_2.pth\n",
      "Model 4:\n"
     ]
    },
    {
     "name": "stderr",
     "output_type": "stream",
     "text": [
      "Training Process: 100%|██████████| 10/10 [00:01<00:00,  6.20it/s]\n"
     ]
    },
    {
     "name": "stdout",
     "output_type": "stream",
     "text": [
      "./saved_models/model_4.pth\n",
      " Maximum accuracy: 0.7060763888888889, F1: 0.5516512461339623, Test: 1.0585626155138015, Train: 1.0542955386638642 \n",
      " \n",
      "\n",
      "|| TRAINING SINGLE MODEL || \n",
      "Task: Classification\n"
     ]
    },
    {
     "name": "stderr",
     "output_type": "stream",
     "text": [
      "Training Process: 100%|██████████| 30/30 [00:04<00:00,  6.33it/s]\n"
     ]
    },
    {
     "name": "stdout",
     "output_type": "stream",
     "text": [
      " Maximum accuracy: 0.6714409722222222, F1: 0.6379285744225797, Test: 1.00285038848718, Train: 1.0207038728396098 \n",
      " \n",
      "\n",
      "Trail 39: \n",
      "\n",
      "|| TRAINING WEIGHT AVERAGING TREE ENSEMBLE ||\n",
      "Task: classification\n",
      "Randomly initializing 2 models\n",
      "Model 1:\n"
     ]
    },
    {
     "name": "stderr",
     "output_type": "stream",
     "text": [
      "Training Process: 100%|██████████| 10/10 [00:01<00:00,  7.23it/s]\n"
     ]
    },
    {
     "name": "stdout",
     "output_type": "stream",
     "text": [
      "./saved_models/model_1.pth\n",
      "Model 2:\n"
     ]
    },
    {
     "name": "stderr",
     "output_type": "stream",
     "text": [
      "Training Process: 100%|██████████| 10/10 [00:01<00:00,  8.90it/s]\n"
     ]
    },
    {
     "name": "stdout",
     "output_type": "stream",
     "text": [
      "./saved_models/model_2.pth\n",
      "Model 4:\n"
     ]
    },
    {
     "name": "stderr",
     "output_type": "stream",
     "text": [
      "Training Process: 100%|██████████| 10/10 [00:01<00:00,  8.13it/s]\n"
     ]
    },
    {
     "name": "stdout",
     "output_type": "stream",
     "text": [
      "./saved_models/model_4.pth\n",
      " Maximum accuracy: 0.7479166666666666, F1: 0.5930123477802289, Test: 1.0062269151210785, Train: 1.032754830121994 \n",
      " \n",
      "\n",
      "|| TRAINING SINGLE MODEL || \n",
      "Task: Classification\n"
     ]
    },
    {
     "name": "stderr",
     "output_type": "stream",
     "text": [
      "Training Process: 100%|██████████| 30/30 [00:04<00:00,  7.42it/s]\n"
     ]
    },
    {
     "name": "stdout",
     "output_type": "stream",
     "text": [
      " Maximum accuracy: 0.5721064814814815, F1: 0.48984286306391417, Test: 1.0192615081866583, Train: 1.0012964883115556 \n",
      " \n",
      "\n",
      "Trail 40: \n",
      "\n",
      "|| TRAINING WEIGHT AVERAGING TREE ENSEMBLE ||\n",
      "Task: classification\n",
      "Randomly initializing 2 models\n",
      "Model 1:\n"
     ]
    },
    {
     "name": "stderr",
     "output_type": "stream",
     "text": [
      "Training Process: 100%|██████████| 10/10 [00:01<00:00,  8.26it/s]\n"
     ]
    },
    {
     "name": "stdout",
     "output_type": "stream",
     "text": [
      "./saved_models/model_1.pth\n",
      "Model 2:\n"
     ]
    },
    {
     "name": "stderr",
     "output_type": "stream",
     "text": [
      "Training Process: 100%|██████████| 10/10 [00:01<00:00,  8.03it/s]\n"
     ]
    },
    {
     "name": "stdout",
     "output_type": "stream",
     "text": [
      "./saved_models/model_2.pth\n",
      "Model 4:\n"
     ]
    },
    {
     "name": "stderr",
     "output_type": "stream",
     "text": [
      "Training Process: 100%|██████████| 10/10 [00:01<00:00,  8.74it/s]\n"
     ]
    },
    {
     "name": "stdout",
     "output_type": "stream",
     "text": [
      "./saved_models/model_4.pth\n",
      " Maximum accuracy: 0.6973958333333333, F1: 0.4449269212094233, Test: 1.0557928144931794, Train: 1.0933786988258363 \n",
      " \n",
      "\n",
      "|| TRAINING SINGLE MODEL || \n",
      "Task: Classification\n"
     ]
    },
    {
     "name": "stderr",
     "output_type": "stream",
     "text": [
      "Training Process: 100%|██████████| 30/30 [00:04<00:00,  6.94it/s]\n"
     ]
    },
    {
     "name": "stdout",
     "output_type": "stream",
     "text": [
      " Maximum accuracy: 0.5728298611111111, F1: 0.4117636335399599, Test: 1.037047564983368, Train: 1.0859992912080554 \n",
      " \n",
      "\n",
      "Trail 41: \n",
      "\n",
      "|| TRAINING WEIGHT AVERAGING TREE ENSEMBLE ||\n",
      "Task: classification\n",
      "Randomly initializing 2 models\n",
      "Model 1:\n"
     ]
    },
    {
     "name": "stderr",
     "output_type": "stream",
     "text": [
      "Training Process: 100%|██████████| 10/10 [00:01<00:00,  8.28it/s]\n"
     ]
    },
    {
     "name": "stdout",
     "output_type": "stream",
     "text": [
      "./saved_models/model_1.pth\n",
      "Model 2:\n"
     ]
    },
    {
     "name": "stderr",
     "output_type": "stream",
     "text": [
      "Training Process: 100%|██████████| 10/10 [00:01<00:00,  8.78it/s]\n"
     ]
    },
    {
     "name": "stdout",
     "output_type": "stream",
     "text": [
      "./saved_models/model_2.pth\n",
      "Model 4:\n"
     ]
    },
    {
     "name": "stderr",
     "output_type": "stream",
     "text": [
      "Training Process: 100%|██████████| 10/10 [00:01<00:00,  8.31it/s]\n"
     ]
    },
    {
     "name": "stdout",
     "output_type": "stream",
     "text": [
      "./saved_models/model_4.pth\n",
      " Maximum accuracy: 0.7082465277777779, F1: 0.5978287943940118, Test: 0.9953471213579178, Train: 0.9837875652313233 \n",
      " \n",
      "\n",
      "|| TRAINING SINGLE MODEL || \n",
      "Task: Classification\n"
     ]
    },
    {
     "name": "stderr",
     "output_type": "stream",
     "text": [
      "Training Process: 100%|██████████| 30/30 [00:04<00:00,  7.30it/s]\n"
     ]
    },
    {
     "name": "stdout",
     "output_type": "stream",
     "text": [
      " Maximum accuracy: 0.5504629629629628, F1: 0.4968801471195417, Test: 1.0305554245909054, Train: 1.0712818197409313 \n",
      " \n",
      "\n",
      "Trail 42: \n",
      "\n",
      "|| TRAINING WEIGHT AVERAGING TREE ENSEMBLE ||\n",
      "Task: classification\n",
      "Randomly initializing 2 models\n",
      "Model 1:\n"
     ]
    },
    {
     "name": "stderr",
     "output_type": "stream",
     "text": [
      "Training Process: 100%|██████████| 10/10 [00:01<00:00,  8.03it/s]\n"
     ]
    },
    {
     "name": "stdout",
     "output_type": "stream",
     "text": [
      "./saved_models/model_1.pth\n",
      "Model 2:\n"
     ]
    },
    {
     "name": "stderr",
     "output_type": "stream",
     "text": [
      "Training Process: 100%|██████████| 10/10 [00:01<00:00,  6.12it/s]\n"
     ]
    },
    {
     "name": "stdout",
     "output_type": "stream",
     "text": [
      "./saved_models/model_2.pth\n",
      "Model 4:\n"
     ]
    },
    {
     "name": "stderr",
     "output_type": "stream",
     "text": [
      "Training Process: 100%|██████████| 10/10 [00:01<00:00,  8.38it/s]\n"
     ]
    },
    {
     "name": "stdout",
     "output_type": "stream",
     "text": [
      "./saved_models/model_4.pth\n",
      " Maximum accuracy: 0.7583333333333334, F1: 0.6225430479094057, Test: 1.0070004373788835, Train: 1.0151075065135955 \n",
      " \n",
      "\n",
      "|| TRAINING SINGLE MODEL || \n",
      "Task: Classification\n"
     ]
    },
    {
     "name": "stderr",
     "output_type": "stream",
     "text": [
      "Training Process: 100%|██████████| 30/30 [00:04<00:00,  7.34it/s]\n"
     ]
    },
    {
     "name": "stdout",
     "output_type": "stream",
     "text": [
      " Maximum accuracy: 0.7518229166666667, F1: 0.6272618167346818, Test: 0.9660010620951652, Train: 1.0158286175462934 \n",
      " \n",
      "\n",
      "Trail 43: \n",
      "\n",
      "|| TRAINING WEIGHT AVERAGING TREE ENSEMBLE ||\n",
      "Task: classification\n",
      "Randomly initializing 2 models\n",
      "Model 1:\n"
     ]
    },
    {
     "name": "stderr",
     "output_type": "stream",
     "text": [
      "Training Process: 100%|██████████| 10/10 [00:01<00:00,  8.83it/s]\n"
     ]
    },
    {
     "name": "stdout",
     "output_type": "stream",
     "text": [
      "./saved_models/model_1.pth\n",
      "Model 2:\n"
     ]
    },
    {
     "name": "stderr",
     "output_type": "stream",
     "text": [
      "Training Process: 100%|██████████| 10/10 [00:01<00:00,  8.25it/s]\n"
     ]
    },
    {
     "name": "stdout",
     "output_type": "stream",
     "text": [
      "./saved_models/model_2.pth\n",
      "Model 4:\n"
     ]
    },
    {
     "name": "stderr",
     "output_type": "stream",
     "text": [
      "Training Process: 100%|██████████| 10/10 [00:01<00:00,  8.58it/s]\n"
     ]
    },
    {
     "name": "stdout",
     "output_type": "stream",
     "text": [
      "./saved_models/model_4.pth\n",
      " Maximum accuracy: 0.47821180555555554, F1: 0.48832316227159867, Test: 1.0666530311107636, Train: 1.0934265271822612 \n",
      " \n",
      "\n",
      "|| TRAINING SINGLE MODEL || \n",
      "Task: Classification\n"
     ]
    },
    {
     "name": "stderr",
     "output_type": "stream",
     "text": [
      "Training Process: 100%|██████████| 30/30 [00:04<00:00,  6.77it/s]\n"
     ]
    },
    {
     "name": "stdout",
     "output_type": "stream",
     "text": [
      " Maximum accuracy: 0.8288773148148147, F1: 0.6678289477795661, Test: 0.9433837021390598, Train: 0.9513089968098535 \n",
      " \n",
      "\n",
      "Trail 44: \n",
      "\n",
      "|| TRAINING WEIGHT AVERAGING TREE ENSEMBLE ||\n",
      "Task: classification\n",
      "Randomly initializing 2 models\n",
      "Model 1:\n"
     ]
    },
    {
     "name": "stderr",
     "output_type": "stream",
     "text": [
      "Training Process: 100%|██████████| 10/10 [00:01<00:00,  8.51it/s]\n"
     ]
    },
    {
     "name": "stdout",
     "output_type": "stream",
     "text": [
      "./saved_models/model_1.pth\n",
      "Model 2:\n"
     ]
    },
    {
     "name": "stderr",
     "output_type": "stream",
     "text": [
      "Training Process: 100%|██████████| 10/10 [00:01<00:00,  7.64it/s]\n"
     ]
    },
    {
     "name": "stdout",
     "output_type": "stream",
     "text": [
      "./saved_models/model_2.pth\n",
      "Model 4:\n"
     ]
    },
    {
     "name": "stderr",
     "output_type": "stream",
     "text": [
      "Training Process: 100%|██████████| 10/10 [00:01<00:00,  8.51it/s]\n"
     ]
    },
    {
     "name": "stdout",
     "output_type": "stream",
     "text": [
      "./saved_models/model_4.pth\n",
      " Maximum accuracy: 0.8116319444444444, F1: 0.6935122442699162, Test: 0.9516426011919975, Train: 0.9365597323576609 \n",
      " \n",
      "\n",
      "|| TRAINING SINGLE MODEL || \n",
      "Task: Classification\n"
     ]
    },
    {
     "name": "stderr",
     "output_type": "stream",
     "text": [
      "Training Process: 100%|██████████| 30/30 [00:04<00:00,  6.92it/s]\n"
     ]
    },
    {
     "name": "stdout",
     "output_type": "stream",
     "text": [
      " Maximum accuracy: 0.6473958333333333, F1: 0.591380469877867, Test: 0.9939907769362132, Train: 1.0036682209703658 \n",
      " \n",
      "\n",
      "Trail 45: \n",
      "\n",
      "|| TRAINING WEIGHT AVERAGING TREE ENSEMBLE ||\n",
      "Task: classification\n",
      "Randomly initializing 2 models\n",
      "Model 1:\n"
     ]
    },
    {
     "name": "stderr",
     "output_type": "stream",
     "text": [
      "Training Process: 100%|██████████| 10/10 [00:01<00:00,  8.97it/s]\n"
     ]
    },
    {
     "name": "stdout",
     "output_type": "stream",
     "text": [
      "./saved_models/model_1.pth\n",
      "Model 2:\n"
     ]
    },
    {
     "name": "stderr",
     "output_type": "stream",
     "text": [
      "Training Process: 100%|██████████| 10/10 [00:01<00:00,  5.98it/s]\n"
     ]
    },
    {
     "name": "stdout",
     "output_type": "stream",
     "text": [
      "./saved_models/model_2.pth\n",
      "Model 4:\n"
     ]
    },
    {
     "name": "stderr",
     "output_type": "stream",
     "text": [
      "Training Process: 100%|██████████| 10/10 [00:01<00:00,  7.70it/s]\n"
     ]
    },
    {
     "name": "stdout",
     "output_type": "stream",
     "text": [
      "./saved_models/model_4.pth\n",
      " Maximum accuracy: 0.5855902777777777, F1: 0.3791205488495737, Test: 1.0468285247683524, Train: 1.0594745294253032 \n",
      " \n",
      "\n",
      "|| TRAINING SINGLE MODEL || \n",
      "Task: Classification\n"
     ]
    },
    {
     "name": "stderr",
     "output_type": "stream",
     "text": [
      "Training Process: 100%|██████████| 30/30 [00:04<00:00,  7.42it/s]\n"
     ]
    },
    {
     "name": "stdout",
     "output_type": "stream",
     "text": [
      " Maximum accuracy: 0.3385127314814814, F1: 0.4522091193442279, Test: 1.0874431441227594, Train: 1.081759571896659 \n",
      " \n",
      "\n",
      "Trail 46: \n",
      "\n",
      "|| TRAINING WEIGHT AVERAGING TREE ENSEMBLE ||\n",
      "Task: classification\n",
      "Randomly initializing 2 models\n",
      "Model 1:\n"
     ]
    },
    {
     "name": "stderr",
     "output_type": "stream",
     "text": [
      "Training Process: 100%|██████████| 10/10 [00:01<00:00,  7.33it/s]\n"
     ]
    },
    {
     "name": "stdout",
     "output_type": "stream",
     "text": [
      "./saved_models/model_1.pth\n",
      "Model 2:\n"
     ]
    },
    {
     "name": "stderr",
     "output_type": "stream",
     "text": [
      "Training Process: 100%|██████████| 10/10 [00:01<00:00,  6.12it/s]\n"
     ]
    },
    {
     "name": "stdout",
     "output_type": "stream",
     "text": [
      "./saved_models/model_2.pth\n",
      "Model 4:\n"
     ]
    },
    {
     "name": "stderr",
     "output_type": "stream",
     "text": [
      "Training Process: 100%|██████████| 10/10 [00:01<00:00,  7.20it/s]\n"
     ]
    },
    {
     "name": "stdout",
     "output_type": "stream",
     "text": [
      "./saved_models/model_4.pth\n",
      " Maximum accuracy: 0.8480902777777779, F1: 0.6345583043147877, Test: 1.0046005338430404, Train: 0.996264620621999 \n",
      " \n",
      "\n",
      "|| TRAINING SINGLE MODEL || \n",
      "Task: Classification\n"
     ]
    },
    {
     "name": "stderr",
     "output_type": "stream",
     "text": [
      "Training Process: 100%|██████████| 30/30 [00:04<00:00,  6.64it/s]\n"
     ]
    },
    {
     "name": "stdout",
     "output_type": "stream",
     "text": [
      " Maximum accuracy: 0.6473958333333333, F1: 0.6314512945765791, Test: 0.984423620502154, Train: 0.9761593284871843 \n",
      " \n",
      "\n",
      "Trail 47: \n",
      "\n",
      "|| TRAINING WEIGHT AVERAGING TREE ENSEMBLE ||\n",
      "Task: classification\n",
      "Randomly initializing 2 models\n",
      "Model 1:\n"
     ]
    },
    {
     "name": "stderr",
     "output_type": "stream",
     "text": [
      "Training Process: 100%|██████████| 10/10 [00:01<00:00,  7.77it/s]\n"
     ]
    },
    {
     "name": "stdout",
     "output_type": "stream",
     "text": [
      "./saved_models/model_1.pth\n",
      "Model 2:\n"
     ]
    },
    {
     "name": "stderr",
     "output_type": "stream",
     "text": [
      "Training Process: 100%|██████████| 10/10 [00:01<00:00,  7.42it/s]\n"
     ]
    },
    {
     "name": "stdout",
     "output_type": "stream",
     "text": [
      "./saved_models/model_2.pth\n",
      "Model 4:\n"
     ]
    },
    {
     "name": "stderr",
     "output_type": "stream",
     "text": [
      "Training Process: 100%|██████████| 10/10 [00:01<00:00,  7.80it/s]\n"
     ]
    },
    {
     "name": "stdout",
     "output_type": "stream",
     "text": [
      "./saved_models/model_4.pth\n",
      " Maximum accuracy: 0.7539930555555555, F1: 0.6092351513046819, Test: 0.9518384009599685, Train: 0.9737187564373017 \n",
      " \n",
      "\n",
      "|| TRAINING SINGLE MODEL || \n",
      "Task: Classification\n"
     ]
    },
    {
     "name": "stderr",
     "output_type": "stream",
     "text": [
      "Training Process: 100%|██████████| 30/30 [00:04<00:00,  7.34it/s]\n"
     ]
    },
    {
     "name": "stdout",
     "output_type": "stream",
     "text": [
      " Maximum accuracy: 0.8894386574074074, F1: 0.7174917190912986, Test: 0.9070933679739634, Train: 0.9464297783374787 \n",
      " \n",
      "\n",
      "Trail 48: \n",
      "\n",
      "|| TRAINING WEIGHT AVERAGING TREE ENSEMBLE ||\n",
      "Task: classification\n",
      "Randomly initializing 2 models\n",
      "Model 1:\n"
     ]
    },
    {
     "name": "stderr",
     "output_type": "stream",
     "text": [
      "Training Process: 100%|██████████| 10/10 [00:01<00:00,  7.63it/s]\n"
     ]
    },
    {
     "name": "stdout",
     "output_type": "stream",
     "text": [
      "./saved_models/model_1.pth\n",
      "Model 2:\n"
     ]
    },
    {
     "name": "stderr",
     "output_type": "stream",
     "text": [
      "Training Process: 100%|██████████| 10/10 [00:01<00:00,  7.14it/s]\n"
     ]
    },
    {
     "name": "stdout",
     "output_type": "stream",
     "text": [
      "./saved_models/model_2.pth\n",
      "Model 4:\n"
     ]
    },
    {
     "name": "stderr",
     "output_type": "stream",
     "text": [
      "Training Process: 100%|██████████| 10/10 [00:01<00:00,  8.09it/s]\n"
     ]
    },
    {
     "name": "stdout",
     "output_type": "stream",
     "text": [
      "./saved_models/model_4.pth\n",
      " Maximum accuracy: 0.5719618055555555, F1: 0.49711408702406595, Test: 1.0421667754650117, Train: 1.0730081816514334 \n",
      " \n",
      "\n",
      "|| TRAINING SINGLE MODEL || \n",
      "Task: Classification\n"
     ]
    },
    {
     "name": "stderr",
     "output_type": "stream",
     "text": [
      "Training Process: 100%|██████████| 30/30 [00:04<00:00,  6.87it/s]\n"
     ]
    },
    {
     "name": "stdout",
     "output_type": "stream",
     "text": [
      " Maximum accuracy: 0.45625, F1: 0.27570910728043274, Test: 1.0400960505008698, Train: 1.0872751112778982 \n",
      " \n",
      "\n",
      "Trail 49: \n",
      "\n",
      "|| TRAINING WEIGHT AVERAGING TREE ENSEMBLE ||\n",
      "Task: classification\n",
      "Randomly initializing 2 models\n",
      "Model 1:\n"
     ]
    },
    {
     "name": "stderr",
     "output_type": "stream",
     "text": [
      "Training Process: 100%|██████████| 10/10 [00:01<00:00,  7.60it/s]\n"
     ]
    },
    {
     "name": "stdout",
     "output_type": "stream",
     "text": [
      "./saved_models/model_1.pth\n",
      "Model 2:\n"
     ]
    },
    {
     "name": "stderr",
     "output_type": "stream",
     "text": [
      "Training Process: 100%|██████████| 10/10 [00:01<00:00,  7.85it/s]\n"
     ]
    },
    {
     "name": "stdout",
     "output_type": "stream",
     "text": [
      "./saved_models/model_2.pth\n",
      "Model 4:\n"
     ]
    },
    {
     "name": "stderr",
     "output_type": "stream",
     "text": [
      "Training Process: 100%|██████████| 10/10 [00:01<00:00,  7.73it/s]\n"
     ]
    },
    {
     "name": "stdout",
     "output_type": "stream",
     "text": [
      "./saved_models/model_4.pth\n",
      " Maximum accuracy: 0.523263888888889, F1: 0.5163095239303938, Test: 1.047775661945343, Train: 1.0708626226584117 \n",
      " \n",
      "\n",
      "|| TRAINING SINGLE MODEL || \n",
      "Task: Classification\n"
     ]
    },
    {
     "name": "stderr",
     "output_type": "stream",
     "text": [
      "Training Process: 100%|██████████| 30/30 [00:04<00:00,  6.78it/s]"
     ]
    },
    {
     "name": "stdout",
     "output_type": "stream",
     "text": [
      " Maximum accuracy: 0.5710358796296297, F1: 0.5774459152838695, Test: 1.044828895231088, Train: 1.027508322265413 \n",
      " \n",
      "\n"
     ]
    },
    {
     "name": "stderr",
     "output_type": "stream",
     "text": [
      "\n"
     ]
    }
   ],
   "source": [
    "output_directory = './fixed.csv'\n",
    "run_experiment(DTEmlp2b, trails=200, output_directory=output_directory)"
   ]
  },
  {
   "cell_type": "code",
   "execution_count": 14,
   "metadata": {},
   "outputs": [],
   "source": [
    "df = pd.read_csv(\"fixed.csv\")"
   ]
  },
  {
   "cell_type": "code",
   "execution_count": 15,
   "metadata": {},
   "outputs": [
    {
     "name": "stdout",
     "output_type": "stream",
     "text": [
      "Index(['DTE_acc', 'DTE_f1', 'DTE_test', 'DTE_train', 'single_acc', 'single_f1',\n",
      "       'single_test', 'single_train'],\n",
      "      dtype='object')\n"
     ]
    }
   ],
   "source": [
    "print(df.columns)"
   ]
  },
  {
   "cell_type": "code",
   "execution_count": 16,
   "metadata": {},
   "outputs": [
    {
     "name": "stdout",
     "output_type": "stream",
     "text": [
      "single acc mean: 0.6639878472222221  DTE acc mean: 0.6907708333333333\n",
      "single acc var: 0.021157894106093606  DTE acc var: 0.015036343502968324\n",
      "single loss mean: 0.9942898472050825  DTE loss mean: 1.0222247399389746\n",
      "single loss var: 0.0031114721879348575  DTE loss var: 0.0012182447499786237\n"
     ]
    },
    {
     "ename": "",
     "evalue": "",
     "output_type": "error",
     "traceback": [
      "\u001b[1;31mThe Kernel crashed while executing code in the current cell or a previous cell. \n",
      "\u001b[1;31mPlease review the code in the cell(s) to identify a possible cause of the failure. \n",
      "\u001b[1;31mClick <a href='https://aka.ms/vscodeJupyterKernelCrash'>here</a> for more info. \n",
      "\u001b[1;31mView Jupyter <a href='command:jupyter.viewOutput'>log</a> for further details."
     ]
    }
   ],
   "source": [
    "print(f'single acc mean: {df[\"single_acc\"].mean()}  DTE acc mean: {df[\"DTE_acc\"].mean()}')\n",
    "print(f'single acc var: {df[\"single_acc\"].var()}  DTE acc var: {df[\"DTE_acc\"].var()}')\n",
    "print(f'single loss mean: {df[\"single_test\"].mean()}  DTE loss mean: {df[\"DTE_test\"].mean()}')\n",
    "print(f'single loss var: {df[\"single_test\"].var()}  DTE loss var: {df[\"DTE_test\"].var()}')"
   ]
  },
  {
   "cell_type": "code",
   "execution_count": null,
   "metadata": {},
   "outputs": [],
   "source": [
    "hidden_layers = [25, 25]\n",
    "multiLayerPerceptron = MLP(input_size=input_size, hidden_layers=hidden_layers, output_size=output_size+1, dropout=.5) #hidden size default at 100\n",
    "\n",
    "# Fill DTE params\n",
    "modelSaveDirectory = './saved_models/'\n",
    "DTEmlp8b = DeepTreeEnsemble(task_name='classification',\n",
    "                                model_arch=multiLayerPerceptron,\n",
    "                                model_dir=modelSaveDirectory, \n",
    "                                base_number=4,\n",
    "                                epochs=10,\n",
    "                                train_dataloader=train_dataloader, \n",
    "                                test_dataloader=test_dataloader,\n",
    "                                learning_rate=0.0001)"
   ]
  },
  {
   "cell_type": "code",
   "execution_count": null,
   "metadata": {},
   "outputs": [],
   "source": [
    "output_directory = './outputBase8.csv'\n",
    "run_experiment(DTEmlp8b, trails=5, output_directory=output_directory)"
   ]
  },
  {
   "cell_type": "code",
   "execution_count": null,
   "metadata": {},
   "outputs": [],
   "source": []
  }
 ],
 "metadata": {
  "kernelspec": {
   "display_name": "vit",
   "language": "python",
   "name": "python3"
  },
  "language_info": {
   "codemirror_mode": {
    "name": "ipython",
    "version": 3
   },
   "file_extension": ".py",
   "mimetype": "text/x-python",
   "name": "python",
   "nbconvert_exporter": "python",
   "pygments_lexer": "ipython3",
   "version": "3.9.16"
  }
 },
 "nbformat": 4,
 "nbformat_minor": 2
}
