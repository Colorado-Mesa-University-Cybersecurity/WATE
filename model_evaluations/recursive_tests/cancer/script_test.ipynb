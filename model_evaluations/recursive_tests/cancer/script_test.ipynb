{
 "cells": [
  {
   "cell_type": "code",
   "execution_count": 57,
   "metadata": {},
   "outputs": [
    {
     "ename": "",
     "evalue": "",
     "output_type": "error",
     "traceback": [
      "\u001b[1;31mThe Kernel crashed while executing code in the current cell or a previous cell. \n",
      "\u001b[1;31mPlease review the code in the cell(s) to identify a possible cause of the failure. \n",
      "\u001b[1;31mClick <a href='https://aka.ms/vscodeJupyterKernelCrash'>here</a> for more info. \n",
      "\u001b[1;31mView Jupyter <a href='command:jupyter.viewOutput'>log</a> for further details."
     ]
    }
   ],
   "source": [
    "import torch\n",
    "import torch.nn as nn\n",
    "import torch.nn.init as init\n",
    "import random\n",
    "import copy\n",
    "from sklearn.model_selection import train_test_split\n",
    "from torch.utils.data import TensorDataset, DataLoader\n",
    "import numpy as np\n",
    "import matplotlib.pyplot as plt\n",
    "import DeepTreeEnsemble\n",
    "import torch.nn.functional as F\n",
    "from importlib import reload\n",
    "import pandas as pd\n",
    "reload(DeepTreeEnsemble)\n",
    "from DeepTreeEnsemble import DeepTreeEnsemble, create_dataloaders_for_dataset \n",
    "# if this ^ doesn't work, try 'pip install -e .' in the root directory of it. Make sure you are in \n",
    "# the desired environment. "
   ]
  },
  {
   "cell_type": "code",
   "execution_count": 33,
   "metadata": {},
   "outputs": [
    {
     "name": "stdout",
     "output_type": "stream",
     "text": [
      "xtrain size 455\n",
      "xtest size 114\n",
      "y_train size 455\n",
      "y_test size 114\n"
     ]
    }
   ],
   "source": [
    "train_dataloader, test_dataloader, input_size, output_size = create_dataloaders_for_dataset(dataset_name='breast_cancer', task='classification', batch_size=32)"
   ]
  },
  {
   "cell_type": "code",
   "execution_count": 34,
   "metadata": {},
   "outputs": [],
   "source": [
    "class MLP(nn.Module):\n",
    "    def __init__(self, input_size, hidden_layers, output_size, dropout=.5):\n",
    "        super(MLP, self).__init__()\n",
    "        self.layers = nn.ModuleList()\n",
    "        self.batch_norms = nn.ModuleList()\n",
    "\n",
    "        # Create the first hidden layer\n",
    "        self.layers.append(nn.Linear(input_size, hidden_layers[0]))\n",
    "        self.batch_norms.append(nn.BatchNorm1d(hidden_layers[0]))\n",
    "\n",
    "        # Create additional hidden layers\n",
    "        for i in range(1, len(hidden_layers)):\n",
    "            self.layers.append(nn.Linear(hidden_layers[i-1], hidden_layers[i]))\n",
    "            self.batch_norms.append(nn.BatchNorm1d(hidden_layers[i]))\n",
    "\n",
    "        # Output layer\n",
    "        self.output = nn.Linear(hidden_layers[-1], output_size)\n",
    "\n",
    "        # Dropout layer\n",
    "        self.dropout = nn.Dropout(dropout)\n",
    "\n",
    "\n",
    "    def forward(self, x):\n",
    "        i = 0\n",
    "        for layer, batch_norm in zip(self.layers, self.batch_norms):\n",
    "            # x = F.relu(batch_norm(layer(x)))\n",
    "            i=i+1\n",
    "            x = self.dropout(x)\n",
    "            # print('Layer dtype: ', layer.weight.dtype)\n",
    "            x = x.to(torch.float32) # <-- area of concern\n",
    "            # print('tensor dytpe: ', x.dtype)\n",
    "            # layer.weight = layer.weight.to(torch.float32)\n",
    "            x = F.relu(batch_norm(layer(x)))\n",
    "            \n",
    "            # print(f'dtype is {x.dtype} after layer {i}')\n",
    "\n",
    "        x = self.output(x)\n",
    "        return x"
   ]
  },
  {
   "cell_type": "code",
   "execution_count": 37,
   "metadata": {},
   "outputs": [],
   "source": [
    "hidden_layers = [25, 25]\n",
    "multiLayerPerceptron = MLP(input_size=input_size, hidden_layers=hidden_layers, output_size=output_size+1, dropout=.5) #hidden size default at 100\n",
    "\n",
    "# Fill DTE params\n",
    "modelSaveDirectory = './saved_models/'\n",
    "DTEmlp4b = DeepTreeEnsemble(task_name='classification',\n",
    "                                model_arch=multiLayerPerceptron,\n",
    "                                model_dir=modelSaveDirectory, \n",
    "                                base_number=4,\n",
    "                                epochs=10,\n",
    "                                train_dataloader=train_dataloader, \n",
    "                                test_dataloader=test_dataloader,\n",
    "                                learning_rate=0.0001)"
   ]
  },
  {
   "cell_type": "code",
   "execution_count": 38,
   "metadata": {},
   "outputs": [
    {
     "name": "stdout",
     "output_type": "stream",
     "text": [
      "|| TRAINING WEIGHT AVERAGING TREE ENSEMBLE ||\n",
      "Task: classification\n",
      "Randomly initializing 4 models\n",
      "Model 1:\n"
     ]
    },
    {
     "name": "stderr",
     "output_type": "stream",
     "text": [
      "Training Process: 100%|██████████| 10/10 [00:00<00:00, 14.20it/s]\n"
     ]
    },
    {
     "name": "stdout",
     "output_type": "stream",
     "text": [
      "./saved_models/model_1.pth\n",
      "Model 2:\n"
     ]
    },
    {
     "name": "stderr",
     "output_type": "stream",
     "text": [
      "Training Process: 100%|██████████| 10/10 [00:00<00:00, 15.36it/s]\n"
     ]
    },
    {
     "name": "stdout",
     "output_type": "stream",
     "text": [
      "./saved_models/model_2.pth\n",
      "Model 3:\n"
     ]
    },
    {
     "name": "stderr",
     "output_type": "stream",
     "text": [
      "Training Process: 100%|██████████| 10/10 [00:00<00:00, 15.26it/s]\n"
     ]
    },
    {
     "name": "stdout",
     "output_type": "stream",
     "text": [
      "./saved_models/model_3.pth\n",
      "Model 4:\n"
     ]
    },
    {
     "name": "stderr",
     "output_type": "stream",
     "text": [
      "Training Process: 100%|██████████| 10/10 [00:00<00:00, 16.35it/s]\n"
     ]
    },
    {
     "name": "stdout",
     "output_type": "stream",
     "text": [
      "./saved_models/model_4.pth\n",
      "Model 7:\n"
     ]
    },
    {
     "name": "stderr",
     "output_type": "stream",
     "text": [
      "Training Process: 100%|██████████| 10/10 [00:00<00:00, 12.12it/s]\n"
     ]
    },
    {
     "name": "stdout",
     "output_type": "stream",
     "text": [
      "./saved_models/model_7.pth\n",
      "Model 8:\n"
     ]
    },
    {
     "name": "stderr",
     "output_type": "stream",
     "text": [
      "Training Process: 100%|██████████| 10/10 [00:00<00:00, 15.90it/s]\n"
     ]
    },
    {
     "name": "stdout",
     "output_type": "stream",
     "text": [
      "./saved_models/model_8.pth\n",
      "Model 6:\n"
     ]
    },
    {
     "name": "stderr",
     "output_type": "stream",
     "text": [
      "Training Process: 100%|██████████| 10/10 [00:00<00:00, 16.92it/s]"
     ]
    },
    {
     "name": "stdout",
     "output_type": "stream",
     "text": [
      "./saved_models/model_6.pth\n",
      " Maximum accuracy: 0.8860243055555556, F1: 0.6316220561576695, Test: 1.0076692238450051, Train: 1.029837812980016 \n",
      " \n",
      "\n"
     ]
    },
    {
     "name": "stderr",
     "output_type": "stream",
     "text": [
      "\n"
     ]
    },
    {
     "data": {
      "text/html": [
       "<div>\n",
       "<style scoped>\n",
       "    .dataframe tbody tr th:only-of-type {\n",
       "        vertical-align: middle;\n",
       "    }\n",
       "\n",
       "    .dataframe tbody tr th {\n",
       "        vertical-align: top;\n",
       "    }\n",
       "\n",
       "    .dataframe thead th {\n",
       "        text-align: right;\n",
       "    }\n",
       "</style>\n",
       "<table border=\"1\" class=\"dataframe\">\n",
       "  <thead>\n",
       "    <tr style=\"text-align: right;\">\n",
       "      <th></th>\n",
       "      <th>DTE_acc</th>\n",
       "      <th>DTE_f1</th>\n",
       "      <th>DTE_test</th>\n",
       "      <th>DTE_train</th>\n",
       "    </tr>\n",
       "  </thead>\n",
       "  <tbody>\n",
       "    <tr>\n",
       "      <th>0</th>\n",
       "      <td>0.886024</td>\n",
       "      <td>0.631622</td>\n",
       "      <td>1.007669</td>\n",
       "      <td>1.029838</td>\n",
       "    </tr>\n",
       "  </tbody>\n",
       "</table>\n",
       "</div>"
      ],
      "text/plain": [
       "    DTE_acc    DTE_f1  DTE_test  DTE_train\n",
       "0  0.886024  0.631622  1.007669   1.029838"
      ]
     },
     "execution_count": 38,
     "metadata": {},
     "output_type": "execute_result"
    }
   ],
   "source": [
    "DTEmlp4b.train_DTE()"
   ]
  },
  {
   "cell_type": "code",
   "execution_count": 39,
   "metadata": {},
   "outputs": [
    {
     "name": "stdout",
     "output_type": "stream",
     "text": [
      "|| TRAINING SINGLE MODEL || \n",
      "Task: Classification\n"
     ]
    },
    {
     "name": "stderr",
     "output_type": "stream",
     "text": [
      "Training Process: 100%|██████████| 70/70 [00:06<00:00, 10.30it/s]"
     ]
    },
    {
     "name": "stdout",
     "output_type": "stream",
     "text": [
      " Maximum accuracy: 0.871999007936508, F1: 0.767410636902852, Test: 0.877471253488745, Train: 0.8809655171348935 \n",
      " \n",
      "\n"
     ]
    },
    {
     "name": "stderr",
     "output_type": "stream",
     "text": [
      "\n"
     ]
    },
    {
     "data": {
      "text/html": [
       "<div>\n",
       "<style scoped>\n",
       "    .dataframe tbody tr th:only-of-type {\n",
       "        vertical-align: middle;\n",
       "    }\n",
       "\n",
       "    .dataframe tbody tr th {\n",
       "        vertical-align: top;\n",
       "    }\n",
       "\n",
       "    .dataframe thead th {\n",
       "        text-align: right;\n",
       "    }\n",
       "</style>\n",
       "<table border=\"1\" class=\"dataframe\">\n",
       "  <thead>\n",
       "    <tr style=\"text-align: right;\">\n",
       "      <th></th>\n",
       "      <th>single_acc</th>\n",
       "      <th>single_f1</th>\n",
       "      <th>single_test</th>\n",
       "      <th>single_train</th>\n",
       "    </tr>\n",
       "  </thead>\n",
       "  <tbody>\n",
       "    <tr>\n",
       "      <th>0</th>\n",
       "      <td>0.871999</td>\n",
       "      <td>0.767411</td>\n",
       "      <td>0.877471</td>\n",
       "      <td>0.880966</td>\n",
       "    </tr>\n",
       "  </tbody>\n",
       "</table>\n",
       "</div>"
      ],
      "text/plain": [
       "   single_acc  single_f1  single_test  single_train\n",
       "0    0.871999   0.767411     0.877471      0.880966"
      ]
     },
     "execution_count": 39,
     "metadata": {},
     "output_type": "execute_result"
    }
   ],
   "source": [
    "DTEmlp4b.single_model()"
   ]
  },
  {
   "cell_type": "code",
   "execution_count": 40,
   "metadata": {},
   "outputs": [],
   "source": [
    "def run_experiment(DTE, trails, output_directory):\n",
    "    results = pd.DataFrame()\n",
    "\n",
    "    for i in range(trails):\n",
    "        print(f'Trail {i}: \\n')\n",
    "        df1 = DTE.train_DTE()\n",
    "        df2 = DTE.single_model()\n",
    "        combined_df = pd.concat([df1, df2], axis=1)\n",
    "        results = pd.concat([results, combined_df], axis=0)\n",
    "\n",
    "    results.to_csv(output_directory, index=False)"
   ]
  },
  {
   "cell_type": "code",
   "execution_count": 53,
   "metadata": {},
   "outputs": [
    {
     "name": "stdout",
     "output_type": "stream",
     "text": [
      "Trail 0: \n",
      "\n",
      "|| TRAINING WEIGHT AVERAGING TREE ENSEMBLE ||\n",
      "Task: classification\n",
      "Randomly initializing 4 models\n",
      "Model 1:\n"
     ]
    },
    {
     "name": "stderr",
     "output_type": "stream",
     "text": [
      "Training Process: 100%|██████████| 10/10 [00:00<00:00, 14.48it/s]\n"
     ]
    },
    {
     "name": "stdout",
     "output_type": "stream",
     "text": [
      "./saved_models/model_1.pth\n",
      "Model 2:\n"
     ]
    },
    {
     "name": "stderr",
     "output_type": "stream",
     "text": [
      "Training Process: 100%|██████████| 10/10 [00:00<00:00, 17.16it/s]\n"
     ]
    },
    {
     "name": "stdout",
     "output_type": "stream",
     "text": [
      "./saved_models/model_2.pth\n",
      "Model 3:\n"
     ]
    },
    {
     "name": "stderr",
     "output_type": "stream",
     "text": [
      "Training Process: 100%|██████████| 10/10 [00:00<00:00, 13.65it/s]\n"
     ]
    },
    {
     "name": "stdout",
     "output_type": "stream",
     "text": [
      "./saved_models/model_3.pth\n",
      "Model 4:\n"
     ]
    },
    {
     "name": "stderr",
     "output_type": "stream",
     "text": [
      "Training Process: 100%|██████████| 10/10 [00:00<00:00, 15.79it/s]\n"
     ]
    },
    {
     "name": "stdout",
     "output_type": "stream",
     "text": [
      "./saved_models/model_4.pth\n",
      "Model 7:\n"
     ]
    },
    {
     "name": "stderr",
     "output_type": "stream",
     "text": [
      "Training Process: 100%|██████████| 10/10 [00:00<00:00, 15.67it/s]\n"
     ]
    },
    {
     "name": "stdout",
     "output_type": "stream",
     "text": [
      "./saved_models/model_7.pth\n",
      "Model 8:\n"
     ]
    },
    {
     "name": "stderr",
     "output_type": "stream",
     "text": [
      "Training Process: 100%|██████████| 10/10 [00:00<00:00, 16.61it/s]\n"
     ]
    },
    {
     "name": "stdout",
     "output_type": "stream",
     "text": [
      "./saved_models/model_8.pth\n",
      "Model 6:\n"
     ]
    },
    {
     "name": "stderr",
     "output_type": "stream",
     "text": [
      "Training Process: 100%|██████████| 10/10 [00:00<00:00, 11.78it/s]\n"
     ]
    },
    {
     "name": "stdout",
     "output_type": "stream",
     "text": [
      "./saved_models/model_6.pth\n",
      " Maximum accuracy: 0.8444444444444444, F1: 0.6524266277001972, Test: 1.007790094614029, Train: 1.0385947414239247 \n",
      " \n",
      "\n",
      "|| TRAINING SINGLE MODEL || \n",
      "Task: Classification\n"
     ]
    },
    {
     "name": "stderr",
     "output_type": "stream",
     "text": [
      "Training Process: 100%|██████████| 70/70 [00:06<00:00, 10.48it/s]\n"
     ]
    },
    {
     "name": "stdout",
     "output_type": "stream",
     "text": [
      " Maximum accuracy: 0.8293898809523809, F1: 0.7571112381772931, Test: 0.8910622794713293, Train: 0.9055799651713599 \n",
      " \n",
      "\n",
      "Trail 1: \n",
      "\n",
      "|| TRAINING WEIGHT AVERAGING TREE ENSEMBLE ||\n",
      "Task: classification\n",
      "Randomly initializing 4 models\n",
      "Model 1:\n"
     ]
    },
    {
     "name": "stderr",
     "output_type": "stream",
     "text": [
      "Training Process: 100%|██████████| 10/10 [00:00<00:00, 19.81it/s]\n"
     ]
    },
    {
     "name": "stdout",
     "output_type": "stream",
     "text": [
      "./saved_models/model_1.pth\n",
      "Model 2:\n"
     ]
    },
    {
     "name": "stderr",
     "output_type": "stream",
     "text": [
      "Training Process: 100%|██████████| 10/10 [00:00<00:00, 17.94it/s]\n"
     ]
    },
    {
     "name": "stdout",
     "output_type": "stream",
     "text": [
      "./saved_models/model_2.pth\n",
      "Model 3:\n"
     ]
    },
    {
     "name": "stderr",
     "output_type": "stream",
     "text": [
      "Training Process: 100%|██████████| 10/10 [00:00<00:00, 19.23it/s]\n"
     ]
    },
    {
     "name": "stdout",
     "output_type": "stream",
     "text": [
      "./saved_models/model_3.pth\n",
      "Model 4:\n"
     ]
    },
    {
     "name": "stderr",
     "output_type": "stream",
     "text": [
      "Training Process: 100%|██████████| 10/10 [00:00<00:00, 15.44it/s]\n"
     ]
    },
    {
     "name": "stdout",
     "output_type": "stream",
     "text": [
      "./saved_models/model_4.pth\n",
      "Model 7:\n"
     ]
    },
    {
     "name": "stderr",
     "output_type": "stream",
     "text": [
      "Training Process: 100%|██████████| 10/10 [00:00<00:00, 13.93it/s]\n"
     ]
    },
    {
     "name": "stdout",
     "output_type": "stream",
     "text": [
      "./saved_models/model_7.pth\n",
      "Model 8:\n"
     ]
    },
    {
     "name": "stderr",
     "output_type": "stream",
     "text": [
      "Training Process: 100%|██████████| 10/10 [00:00<00:00, 18.11it/s]\n"
     ]
    },
    {
     "name": "stdout",
     "output_type": "stream",
     "text": [
      "./saved_models/model_8.pth\n",
      "Model 6:\n"
     ]
    },
    {
     "name": "stderr",
     "output_type": "stream",
     "text": [
      "Training Process: 100%|██████████| 10/10 [00:00<00:00, 19.86it/s]\n"
     ]
    },
    {
     "name": "stdout",
     "output_type": "stream",
     "text": [
      "./saved_models/model_6.pth\n",
      " Maximum accuracy: 0.8767361111111112, F1: 0.6491881769505115, Test: 0.9661429792642593, Train: 0.9625537089506785 \n",
      " \n",
      "\n",
      "|| TRAINING SINGLE MODEL || \n",
      "Task: Classification\n"
     ]
    },
    {
     "name": "stderr",
     "output_type": "stream",
     "text": [
      "Training Process: 100%|██████████| 70/70 [00:05<00:00, 13.28it/s]\n"
     ]
    },
    {
     "name": "stdout",
     "output_type": "stream",
     "text": [
      " Maximum accuracy: 0.8558407738095238, F1: 0.6958495458408814, Test: 0.8771719053387642, Train: 0.8902294065271105 \n",
      " \n",
      "\n",
      "Trail 2: \n",
      "\n",
      "|| TRAINING WEIGHT AVERAGING TREE ENSEMBLE ||\n",
      "Task: classification\n",
      "Randomly initializing 4 models\n",
      "Model 1:\n"
     ]
    },
    {
     "name": "stderr",
     "output_type": "stream",
     "text": [
      "Training Process: 100%|██████████| 10/10 [00:00<00:00, 18.53it/s]\n"
     ]
    },
    {
     "name": "stdout",
     "output_type": "stream",
     "text": [
      "./saved_models/model_1.pth\n",
      "Model 2:\n"
     ]
    },
    {
     "name": "stderr",
     "output_type": "stream",
     "text": [
      "Training Process: 100%|██████████| 10/10 [00:00<00:00, 21.00it/s]\n"
     ]
    },
    {
     "name": "stdout",
     "output_type": "stream",
     "text": [
      "./saved_models/model_2.pth\n",
      "Model 3:\n"
     ]
    },
    {
     "name": "stderr",
     "output_type": "stream",
     "text": [
      "Training Process: 100%|██████████| 10/10 [00:00<00:00, 18.44it/s]\n"
     ]
    },
    {
     "name": "stdout",
     "output_type": "stream",
     "text": [
      "./saved_models/model_3.pth\n",
      "Model 4:\n"
     ]
    },
    {
     "name": "stderr",
     "output_type": "stream",
     "text": [
      "Training Process: 100%|██████████| 10/10 [00:00<00:00, 18.61it/s]\n"
     ]
    },
    {
     "name": "stdout",
     "output_type": "stream",
     "text": [
      "./saved_models/model_4.pth\n",
      "Model 7:\n"
     ]
    },
    {
     "name": "stderr",
     "output_type": "stream",
     "text": [
      "Training Process: 100%|██████████| 10/10 [00:00<00:00, 17.29it/s]\n"
     ]
    },
    {
     "name": "stdout",
     "output_type": "stream",
     "text": [
      "./saved_models/model_7.pth\n",
      "Model 8:\n"
     ]
    },
    {
     "name": "stderr",
     "output_type": "stream",
     "text": [
      "Training Process: 100%|██████████| 10/10 [00:00<00:00, 18.74it/s]\n"
     ]
    },
    {
     "name": "stdout",
     "output_type": "stream",
     "text": [
      "./saved_models/model_8.pth\n",
      "Model 6:\n"
     ]
    },
    {
     "name": "stderr",
     "output_type": "stream",
     "text": [
      "Training Process: 100%|██████████| 10/10 [00:00<00:00, 20.56it/s]\n"
     ]
    },
    {
     "name": "stdout",
     "output_type": "stream",
     "text": [
      "./saved_models/model_6.pth\n",
      " Maximum accuracy: 0.8861111111111111, F1: 0.7435936536776873, Test: 0.9624806731939316, Train: 0.9627149232228597 \n",
      " \n",
      "\n",
      "|| TRAINING SINGLE MODEL || \n",
      "Task: Classification\n"
     ]
    },
    {
     "name": "stderr",
     "output_type": "stream",
     "text": [
      "Training Process: 100%|██████████| 70/70 [00:05<00:00, 12.84it/s]\n"
     ]
    },
    {
     "name": "stdout",
     "output_type": "stream",
     "text": [
      " Maximum accuracy: 0.6781870039682539, F1: 0.6232169233205782, Test: 0.9541450368506568, Train: 0.9718302293050857 \n",
      " \n",
      "\n",
      "Trail 3: \n",
      "\n",
      "|| TRAINING WEIGHT AVERAGING TREE ENSEMBLE ||\n",
      "Task: classification\n",
      "Randomly initializing 4 models\n",
      "Model 1:\n"
     ]
    },
    {
     "name": "stderr",
     "output_type": "stream",
     "text": [
      "Training Process: 100%|██████████| 10/10 [00:00<00:00, 18.84it/s]\n"
     ]
    },
    {
     "name": "stdout",
     "output_type": "stream",
     "text": [
      "./saved_models/model_1.pth\n",
      "Model 2:\n"
     ]
    },
    {
     "name": "stderr",
     "output_type": "stream",
     "text": [
      "Training Process: 100%|██████████| 10/10 [00:00<00:00, 19.07it/s]\n"
     ]
    },
    {
     "name": "stdout",
     "output_type": "stream",
     "text": [
      "./saved_models/model_2.pth\n",
      "Model 3:\n"
     ]
    },
    {
     "name": "stderr",
     "output_type": "stream",
     "text": [
      "Training Process: 100%|██████████| 10/10 [00:00<00:00, 20.72it/s]\n"
     ]
    },
    {
     "name": "stdout",
     "output_type": "stream",
     "text": [
      "./saved_models/model_3.pth\n",
      "Model 4:\n"
     ]
    },
    {
     "name": "stderr",
     "output_type": "stream",
     "text": [
      "Training Process: 100%|██████████| 10/10 [00:00<00:00, 16.65it/s]\n"
     ]
    },
    {
     "name": "stdout",
     "output_type": "stream",
     "text": [
      "./saved_models/model_4.pth\n",
      "Model 7:\n"
     ]
    },
    {
     "name": "stderr",
     "output_type": "stream",
     "text": [
      "Training Process: 100%|██████████| 10/10 [00:00<00:00, 19.04it/s]\n"
     ]
    },
    {
     "name": "stdout",
     "output_type": "stream",
     "text": [
      "./saved_models/model_7.pth\n",
      "Model 8:\n"
     ]
    },
    {
     "name": "stderr",
     "output_type": "stream",
     "text": [
      "Training Process: 100%|██████████| 10/10 [00:00<00:00, 19.50it/s]\n"
     ]
    },
    {
     "name": "stdout",
     "output_type": "stream",
     "text": [
      "./saved_models/model_8.pth\n",
      "Model 6:\n"
     ]
    },
    {
     "name": "stderr",
     "output_type": "stream",
     "text": [
      "Training Process: 100%|██████████| 10/10 [00:00<00:00, 18.97it/s]\n"
     ]
    },
    {
     "name": "stdout",
     "output_type": "stream",
     "text": [
      "./saved_models/model_6.pth\n",
      " Maximum accuracy: 0.8452256944444445, F1: 0.7046974894736912, Test: 1.0152538433670997, Train: 1.016636109749476 \n",
      " \n",
      "\n",
      "|| TRAINING SINGLE MODEL || \n",
      "Task: Classification\n"
     ]
    },
    {
     "name": "stderr",
     "output_type": "stream",
     "text": [
      "Training Process: 100%|██████████| 70/70 [00:05<00:00, 12.83it/s]\n"
     ]
    },
    {
     "name": "stdout",
     "output_type": "stream",
     "text": [
      " Maximum accuracy: 0.8780877976190476, F1: 0.7629705676011139, Test: 0.8478423857263157, Train: 0.8551852291538602 \n",
      " \n",
      "\n",
      "Trail 4: \n",
      "\n",
      "|| TRAINING WEIGHT AVERAGING TREE ENSEMBLE ||\n",
      "Task: classification\n",
      "Randomly initializing 4 models\n",
      "Model 1:\n"
     ]
    },
    {
     "name": "stderr",
     "output_type": "stream",
     "text": [
      "Training Process: 100%|██████████| 10/10 [00:00<00:00, 18.68it/s]\n"
     ]
    },
    {
     "name": "stdout",
     "output_type": "stream",
     "text": [
      "./saved_models/model_1.pth\n",
      "Model 2:\n"
     ]
    },
    {
     "name": "stderr",
     "output_type": "stream",
     "text": [
      "Training Process: 100%|██████████| 10/10 [00:00<00:00, 21.34it/s]\n"
     ]
    },
    {
     "name": "stdout",
     "output_type": "stream",
     "text": [
      "./saved_models/model_2.pth\n",
      "Model 3:\n"
     ]
    },
    {
     "name": "stderr",
     "output_type": "stream",
     "text": [
      "Training Process: 100%|██████████| 10/10 [00:00<00:00, 18.37it/s]\n"
     ]
    },
    {
     "name": "stdout",
     "output_type": "stream",
     "text": [
      "./saved_models/model_3.pth\n",
      "Model 4:\n"
     ]
    },
    {
     "name": "stderr",
     "output_type": "stream",
     "text": [
      "Training Process: 100%|██████████| 10/10 [00:00<00:00, 20.36it/s]\n"
     ]
    },
    {
     "name": "stdout",
     "output_type": "stream",
     "text": [
      "./saved_models/model_4.pth\n",
      "Model 7:\n"
     ]
    },
    {
     "name": "stderr",
     "output_type": "stream",
     "text": [
      "Training Process: 100%|██████████| 10/10 [00:00<00:00, 18.84it/s]\n"
     ]
    },
    {
     "name": "stdout",
     "output_type": "stream",
     "text": [
      "./saved_models/model_7.pth\n",
      "Model 8:\n"
     ]
    },
    {
     "name": "stderr",
     "output_type": "stream",
     "text": [
      "Training Process: 100%|██████████| 10/10 [00:00<00:00, 21.10it/s]\n"
     ]
    },
    {
     "name": "stdout",
     "output_type": "stream",
     "text": [
      "./saved_models/model_8.pth\n",
      "Model 6:\n"
     ]
    },
    {
     "name": "stderr",
     "output_type": "stream",
     "text": [
      "Training Process: 100%|██████████| 10/10 [00:00<00:00, 18.60it/s]\n"
     ]
    },
    {
     "name": "stdout",
     "output_type": "stream",
     "text": [
      "./saved_models/model_6.pth\n",
      " Maximum accuracy: 0.8569444444444445, F1: 0.6543173544784251, Test: 1.0012816101312638, Train: 0.9878450242678324 \n",
      " \n",
      "\n",
      "|| TRAINING SINGLE MODEL || \n",
      "Task: Classification\n"
     ]
    },
    {
     "name": "stderr",
     "output_type": "stream",
     "text": [
      "Training Process: 100%|██████████| 70/70 [00:05<00:00, 13.04it/s]\n"
     ]
    },
    {
     "name": "stdout",
     "output_type": "stream",
     "text": [
      " Maximum accuracy: 0.7932415674603176, F1: 0.7326452254266437, Test: 0.9121481303657805, Train: 0.9196540401663099 \n",
      " \n",
      "\n",
      "Trail 5: \n",
      "\n",
      "|| TRAINING WEIGHT AVERAGING TREE ENSEMBLE ||\n",
      "Task: classification\n",
      "Randomly initializing 4 models\n",
      "Model 1:\n"
     ]
    },
    {
     "name": "stderr",
     "output_type": "stream",
     "text": [
      "Training Process: 100%|██████████| 10/10 [00:00<00:00, 20.17it/s]\n"
     ]
    },
    {
     "name": "stdout",
     "output_type": "stream",
     "text": [
      "./saved_models/model_1.pth\n",
      "Model 2:\n"
     ]
    },
    {
     "name": "stderr",
     "output_type": "stream",
     "text": [
      "Training Process: 100%|██████████| 10/10 [00:00<00:00, 19.87it/s]\n"
     ]
    },
    {
     "name": "stdout",
     "output_type": "stream",
     "text": [
      "./saved_models/model_2.pth\n",
      "Model 3:\n"
     ]
    },
    {
     "name": "stderr",
     "output_type": "stream",
     "text": [
      "Training Process: 100%|██████████| 10/10 [00:00<00:00, 19.22it/s]\n"
     ]
    },
    {
     "name": "stdout",
     "output_type": "stream",
     "text": [
      "./saved_models/model_3.pth\n",
      "Model 4:\n"
     ]
    },
    {
     "name": "stderr",
     "output_type": "stream",
     "text": [
      "Training Process: 100%|██████████| 10/10 [00:00<00:00, 16.54it/s]\n"
     ]
    },
    {
     "name": "stdout",
     "output_type": "stream",
     "text": [
      "./saved_models/model_4.pth\n",
      "Model 7:\n"
     ]
    },
    {
     "name": "stderr",
     "output_type": "stream",
     "text": [
      "Training Process: 100%|██████████| 10/10 [00:00<00:00, 18.95it/s]\n"
     ]
    },
    {
     "name": "stdout",
     "output_type": "stream",
     "text": [
      "./saved_models/model_7.pth\n",
      "Model 8:\n"
     ]
    },
    {
     "name": "stderr",
     "output_type": "stream",
     "text": [
      "Training Process: 100%|██████████| 10/10 [00:00<00:00, 19.51it/s]\n"
     ]
    },
    {
     "name": "stdout",
     "output_type": "stream",
     "text": [
      "./saved_models/model_8.pth\n",
      "Model 6:\n"
     ]
    },
    {
     "name": "stderr",
     "output_type": "stream",
     "text": [
      "Training Process: 100%|██████████| 10/10 [00:00<00:00, 20.07it/s]\n"
     ]
    },
    {
     "name": "stdout",
     "output_type": "stream",
     "text": [
      "./saved_models/model_6.pth\n",
      " Maximum accuracy: 0.8344618055555555, F1: 0.6558547543407528, Test: 0.9824491024017334, Train: 0.9714919177691141 \n",
      " \n",
      "\n",
      "|| TRAINING SINGLE MODEL || \n",
      "Task: Classification\n"
     ]
    },
    {
     "name": "stderr",
     "output_type": "stream",
     "text": [
      "Training Process: 100%|██████████| 70/70 [00:05<00:00, 11.74it/s]\n"
     ]
    },
    {
     "name": "stdout",
     "output_type": "stream",
     "text": [
      " Maximum accuracy: 0.7401041666666668, F1: 0.6740532432791616, Test: 0.9547059725437845, Train: 0.9407860172930218 \n",
      " \n",
      "\n",
      "Trail 6: \n",
      "\n",
      "|| TRAINING WEIGHT AVERAGING TREE ENSEMBLE ||\n",
      "Task: classification\n",
      "Randomly initializing 4 models\n",
      "Model 1:\n"
     ]
    },
    {
     "name": "stderr",
     "output_type": "stream",
     "text": [
      "Training Process: 100%|██████████| 10/10 [00:00<00:00, 15.14it/s]\n"
     ]
    },
    {
     "name": "stdout",
     "output_type": "stream",
     "text": [
      "./saved_models/model_1.pth\n",
      "Model 2:\n"
     ]
    },
    {
     "name": "stderr",
     "output_type": "stream",
     "text": [
      "Training Process: 100%|██████████| 10/10 [00:00<00:00, 13.11it/s]\n"
     ]
    },
    {
     "name": "stdout",
     "output_type": "stream",
     "text": [
      "./saved_models/model_2.pth\n",
      "Model 3:\n"
     ]
    },
    {
     "name": "stderr",
     "output_type": "stream",
     "text": [
      "Training Process: 100%|██████████| 10/10 [00:00<00:00, 13.07it/s]\n"
     ]
    },
    {
     "name": "stdout",
     "output_type": "stream",
     "text": [
      "./saved_models/model_3.pth\n",
      "Model 4:\n"
     ]
    },
    {
     "name": "stderr",
     "output_type": "stream",
     "text": [
      "Training Process: 100%|██████████| 10/10 [00:00<00:00, 15.63it/s]\n"
     ]
    },
    {
     "name": "stdout",
     "output_type": "stream",
     "text": [
      "./saved_models/model_4.pth\n",
      "Model 7:\n"
     ]
    },
    {
     "name": "stderr",
     "output_type": "stream",
     "text": [
      "Training Process: 100%|██████████| 10/10 [00:00<00:00, 15.51it/s]\n"
     ]
    },
    {
     "name": "stdout",
     "output_type": "stream",
     "text": [
      "./saved_models/model_7.pth\n",
      "Model 8:\n"
     ]
    },
    {
     "name": "stderr",
     "output_type": "stream",
     "text": [
      "Training Process: 100%|██████████| 10/10 [00:00<00:00, 11.42it/s]\n"
     ]
    },
    {
     "name": "stdout",
     "output_type": "stream",
     "text": [
      "./saved_models/model_8.pth\n",
      "Model 6:\n"
     ]
    },
    {
     "name": "stderr",
     "output_type": "stream",
     "text": [
      "Training Process: 100%|██████████| 10/10 [00:00<00:00, 13.62it/s]\n"
     ]
    },
    {
     "name": "stdout",
     "output_type": "stream",
     "text": [
      "./saved_models/model_6.pth\n",
      " Maximum accuracy: 0.9151909722222221, F1: 0.7024454068055466, Test: 0.9192843660712242, Train: 0.9355246798197429 \n",
      " \n",
      "\n",
      "|| TRAINING SINGLE MODEL || \n",
      "Task: Classification\n"
     ]
    },
    {
     "name": "stderr",
     "output_type": "stream",
     "text": [
      "Training Process: 100%|██████████| 70/70 [00:07<00:00,  9.25it/s]\n"
     ]
    },
    {
     "name": "stdout",
     "output_type": "stream",
     "text": [
      " Maximum accuracy: 0.8334201388888889, F1: 0.7093338637661537, Test: 0.8814562812447548, Train: 0.9124883164678301 \n",
      " \n",
      "\n",
      "Trail 7: \n",
      "\n",
      "|| TRAINING WEIGHT AVERAGING TREE ENSEMBLE ||\n",
      "Task: classification\n",
      "Randomly initializing 4 models\n",
      "Model 1:\n"
     ]
    },
    {
     "name": "stderr",
     "output_type": "stream",
     "text": [
      "Training Process: 100%|██████████| 10/10 [00:00<00:00, 12.88it/s]\n"
     ]
    },
    {
     "name": "stdout",
     "output_type": "stream",
     "text": [
      "./saved_models/model_1.pth\n",
      "Model 2:\n"
     ]
    },
    {
     "name": "stderr",
     "output_type": "stream",
     "text": [
      "Training Process: 100%|██████████| 10/10 [00:00<00:00, 15.08it/s]\n"
     ]
    },
    {
     "name": "stdout",
     "output_type": "stream",
     "text": [
      "./saved_models/model_2.pth\n",
      "Model 3:\n"
     ]
    },
    {
     "name": "stderr",
     "output_type": "stream",
     "text": [
      "Training Process: 100%|██████████| 10/10 [00:00<00:00, 10.53it/s]\n"
     ]
    },
    {
     "name": "stdout",
     "output_type": "stream",
     "text": [
      "./saved_models/model_3.pth\n",
      "Model 4:\n"
     ]
    },
    {
     "name": "stderr",
     "output_type": "stream",
     "text": [
      "Training Process: 100%|██████████| 10/10 [00:00<00:00, 12.05it/s]\n"
     ]
    },
    {
     "name": "stdout",
     "output_type": "stream",
     "text": [
      "./saved_models/model_4.pth\n",
      "Model 7:\n"
     ]
    },
    {
     "name": "stderr",
     "output_type": "stream",
     "text": [
      "Training Process: 100%|██████████| 10/10 [00:00<00:00, 14.00it/s]\n"
     ]
    },
    {
     "name": "stdout",
     "output_type": "stream",
     "text": [
      "./saved_models/model_7.pth\n",
      "Model 8:\n"
     ]
    },
    {
     "name": "stderr",
     "output_type": "stream",
     "text": [
      "Training Process: 100%|██████████| 10/10 [00:00<00:00, 14.83it/s]\n"
     ]
    },
    {
     "name": "stdout",
     "output_type": "stream",
     "text": [
      "./saved_models/model_8.pth\n",
      "Model 6:\n"
     ]
    },
    {
     "name": "stderr",
     "output_type": "stream",
     "text": [
      "Training Process: 100%|██████████| 10/10 [00:00<00:00, 12.95it/s]\n"
     ]
    },
    {
     "name": "stdout",
     "output_type": "stream",
     "text": [
      "./saved_models/model_6.pth\n",
      " Maximum accuracy: 0.8605902777777779, F1: 0.6936692229437962, Test: 0.9933665618300438, Train: 0.9925308092435201 \n",
      " \n",
      "\n",
      "|| TRAINING SINGLE MODEL || \n",
      "Task: Classification\n"
     ]
    },
    {
     "name": "stderr",
     "output_type": "stream",
     "text": [
      "Training Process: 100%|██████████| 70/70 [00:07<00:00,  8.98it/s]\n"
     ]
    },
    {
     "name": "stdout",
     "output_type": "stream",
     "text": [
      " Maximum accuracy: 0.861297123015873, F1: 0.7689252668295593, Test: 0.8832668985639299, Train: 0.8820167466004689 \n",
      " \n",
      "\n",
      "Trail 8: \n",
      "\n",
      "|| TRAINING WEIGHT AVERAGING TREE ENSEMBLE ||\n",
      "Task: classification\n",
      "Randomly initializing 4 models\n",
      "Model 1:\n"
     ]
    },
    {
     "name": "stderr",
     "output_type": "stream",
     "text": [
      "Training Process: 100%|██████████| 10/10 [00:00<00:00, 12.88it/s]\n"
     ]
    },
    {
     "name": "stdout",
     "output_type": "stream",
     "text": [
      "./saved_models/model_1.pth\n",
      "Model 2:\n"
     ]
    },
    {
     "name": "stderr",
     "output_type": "stream",
     "text": [
      "Training Process: 100%|██████████| 10/10 [00:00<00:00, 13.52it/s]\n"
     ]
    },
    {
     "name": "stdout",
     "output_type": "stream",
     "text": [
      "./saved_models/model_2.pth\n",
      "Model 3:\n"
     ]
    },
    {
     "name": "stderr",
     "output_type": "stream",
     "text": [
      "Training Process: 100%|██████████| 10/10 [00:00<00:00, 12.86it/s]\n"
     ]
    },
    {
     "name": "stdout",
     "output_type": "stream",
     "text": [
      "./saved_models/model_3.pth\n",
      "Model 4:\n"
     ]
    },
    {
     "name": "stderr",
     "output_type": "stream",
     "text": [
      "Training Process: 100%|██████████| 10/10 [00:00<00:00, 13.13it/s]\n"
     ]
    },
    {
     "name": "stdout",
     "output_type": "stream",
     "text": [
      "./saved_models/model_4.pth\n",
      "Model 7:\n"
     ]
    },
    {
     "name": "stderr",
     "output_type": "stream",
     "text": [
      "Training Process: 100%|██████████| 10/10 [00:00<00:00, 13.40it/s]\n"
     ]
    },
    {
     "name": "stdout",
     "output_type": "stream",
     "text": [
      "./saved_models/model_7.pth\n",
      "Model 8:\n"
     ]
    },
    {
     "name": "stderr",
     "output_type": "stream",
     "text": [
      "Training Process: 100%|██████████| 10/10 [00:00<00:00, 14.53it/s]\n"
     ]
    },
    {
     "name": "stdout",
     "output_type": "stream",
     "text": [
      "./saved_models/model_8.pth\n",
      "Model 6:\n"
     ]
    },
    {
     "name": "stderr",
     "output_type": "stream",
     "text": [
      "Training Process: 100%|██████████| 10/10 [00:00<00:00, 12.50it/s]\n"
     ]
    },
    {
     "name": "stdout",
     "output_type": "stream",
     "text": [
      "./saved_models/model_6.pth\n",
      " Maximum accuracy: 0.6842013888888889, F1: 0.5668446387924015, Test: 1.0346830412745476, Train: 1.0098776888847352 \n",
      " \n",
      "\n",
      "|| TRAINING SINGLE MODEL || \n",
      "Task: Classification\n"
     ]
    },
    {
     "name": "stderr",
     "output_type": "stream",
     "text": [
      "Training Process: 100%|██████████| 70/70 [00:08<00:00,  8.69it/s]\n"
     ]
    },
    {
     "name": "stdout",
     "output_type": "stream",
     "text": [
      " Maximum accuracy: 0.880766369047619, F1: 0.7545537313370322, Test: 0.8471232954944883, Train: 0.8718820898305802 \n",
      " \n",
      "\n",
      "Trail 9: \n",
      "\n",
      "|| TRAINING WEIGHT AVERAGING TREE ENSEMBLE ||\n",
      "Task: classification\n",
      "Randomly initializing 4 models\n",
      "Model 1:\n"
     ]
    },
    {
     "name": "stderr",
     "output_type": "stream",
     "text": [
      "Training Process: 100%|██████████| 10/10 [00:00<00:00, 13.53it/s]\n"
     ]
    },
    {
     "name": "stdout",
     "output_type": "stream",
     "text": [
      "./saved_models/model_1.pth\n",
      "Model 2:\n"
     ]
    },
    {
     "name": "stderr",
     "output_type": "stream",
     "text": [
      "Training Process: 100%|██████████| 10/10 [00:00<00:00, 14.31it/s]\n"
     ]
    },
    {
     "name": "stdout",
     "output_type": "stream",
     "text": [
      "./saved_models/model_2.pth\n",
      "Model 3:\n"
     ]
    },
    {
     "name": "stderr",
     "output_type": "stream",
     "text": [
      "Training Process: 100%|██████████| 10/10 [00:00<00:00, 12.98it/s]\n"
     ]
    },
    {
     "name": "stdout",
     "output_type": "stream",
     "text": [
      "./saved_models/model_3.pth\n",
      "Model 4:\n"
     ]
    },
    {
     "name": "stderr",
     "output_type": "stream",
     "text": [
      "Training Process: 100%|██████████| 10/10 [00:00<00:00, 12.76it/s]\n"
     ]
    },
    {
     "name": "stdout",
     "output_type": "stream",
     "text": [
      "./saved_models/model_4.pth\n",
      "Model 7:\n"
     ]
    },
    {
     "name": "stderr",
     "output_type": "stream",
     "text": [
      "Training Process: 100%|██████████| 10/10 [00:00<00:00, 12.86it/s]\n"
     ]
    },
    {
     "name": "stdout",
     "output_type": "stream",
     "text": [
      "./saved_models/model_7.pth\n",
      "Model 8:\n"
     ]
    },
    {
     "name": "stderr",
     "output_type": "stream",
     "text": [
      "Training Process: 100%|██████████| 10/10 [00:00<00:00, 13.59it/s]\n"
     ]
    },
    {
     "name": "stdout",
     "output_type": "stream",
     "text": [
      "./saved_models/model_8.pth\n",
      "Model 6:\n"
     ]
    },
    {
     "name": "stderr",
     "output_type": "stream",
     "text": [
      "Training Process: 100%|██████████| 10/10 [00:00<00:00, 11.92it/s]\n"
     ]
    },
    {
     "name": "stdout",
     "output_type": "stream",
     "text": [
      "./saved_models/model_6.pth\n",
      " Maximum accuracy: 0.8612847222222222, F1: 0.6178978194241799, Test: 0.9747787579894066, Train: 0.9967687086264292 \n",
      " \n",
      "\n",
      "|| TRAINING SINGLE MODEL || \n",
      "Task: Classification\n"
     ]
    },
    {
     "name": "stderr",
     "output_type": "stream",
     "text": [
      "Training Process: 100%|██████████| 70/70 [00:08<00:00,  8.66it/s]\n"
     ]
    },
    {
     "name": "stdout",
     "output_type": "stream",
     "text": [
      " Maximum accuracy: 0.8932539682539682, F1: 0.7492738245159499, Test: 0.8619244735155787, Train: 0.8729057549294972 \n",
      " \n",
      "\n",
      "Trail 10: \n",
      "\n",
      "|| TRAINING WEIGHT AVERAGING TREE ENSEMBLE ||\n",
      "Task: classification\n",
      "Randomly initializing 4 models\n",
      "Model 1:\n"
     ]
    },
    {
     "name": "stderr",
     "output_type": "stream",
     "text": [
      "Training Process: 100%|██████████| 10/10 [00:00<00:00, 10.20it/s]\n"
     ]
    },
    {
     "name": "stdout",
     "output_type": "stream",
     "text": [
      "./saved_models/model_1.pth\n",
      "Model 2:\n"
     ]
    },
    {
     "name": "stderr",
     "output_type": "stream",
     "text": [
      "Training Process: 100%|██████████| 10/10 [00:01<00:00,  6.69it/s]\n"
     ]
    },
    {
     "name": "stdout",
     "output_type": "stream",
     "text": [
      "./saved_models/model_2.pth\n",
      "Model 3:\n"
     ]
    },
    {
     "name": "stderr",
     "output_type": "stream",
     "text": [
      "Training Process: 100%|██████████| 10/10 [00:02<00:00,  3.81it/s]\n"
     ]
    },
    {
     "name": "stdout",
     "output_type": "stream",
     "text": [
      "./saved_models/model_3.pth\n",
      "Model 4:\n"
     ]
    },
    {
     "name": "stderr",
     "output_type": "stream",
     "text": [
      "Training Process: 100%|██████████| 10/10 [00:02<00:00,  4.96it/s]\n"
     ]
    },
    {
     "name": "stdout",
     "output_type": "stream",
     "text": [
      "./saved_models/model_4.pth\n",
      "Model 7:\n"
     ]
    },
    {
     "name": "stderr",
     "output_type": "stream",
     "text": [
      "Training Process: 100%|██████████| 10/10 [00:02<00:00,  3.91it/s]\n"
     ]
    },
    {
     "name": "stdout",
     "output_type": "stream",
     "text": [
      "./saved_models/model_7.pth\n",
      "Model 8:\n"
     ]
    },
    {
     "name": "stderr",
     "output_type": "stream",
     "text": [
      "Training Process: 100%|██████████| 10/10 [00:04<00:00,  2.34it/s]\n"
     ]
    },
    {
     "name": "stdout",
     "output_type": "stream",
     "text": [
      "./saved_models/model_8.pth\n",
      "Model 6:\n"
     ]
    },
    {
     "name": "stderr",
     "output_type": "stream",
     "text": [
      "Training Process: 100%|██████████| 10/10 [00:03<00:00,  2.76it/s]\n"
     ]
    },
    {
     "name": "stdout",
     "output_type": "stream",
     "text": [
      "./saved_models/model_6.pth\n",
      " Maximum accuracy: 0.9002604166666668, F1: 0.6941268173369196, Test: 1.0081923454999924, Train: 1.0032539284229278 \n",
      " \n",
      "\n",
      "|| TRAINING SINGLE MODEL || \n",
      "Task: Classification\n"
     ]
    },
    {
     "name": "stderr",
     "output_type": "stream",
     "text": [
      "Training Process: 100%|██████████| 70/70 [00:11<00:00,  5.98it/s]\n"
     ]
    },
    {
     "name": "stdout",
     "output_type": "stream",
     "text": [
      " Maximum accuracy: 0.6598338293650794, F1: 0.6283345465429057, Test: 0.9625744564192635, Train: 1.010095168352127 \n",
      " \n",
      "\n",
      "Trail 11: \n",
      "\n",
      "|| TRAINING WEIGHT AVERAGING TREE ENSEMBLE ||\n",
      "Task: classification\n",
      "Randomly initializing 4 models\n",
      "Model 1:\n"
     ]
    },
    {
     "name": "stderr",
     "output_type": "stream",
     "text": [
      "Training Process: 100%|██████████| 10/10 [00:01<00:00,  5.88it/s]\n"
     ]
    },
    {
     "name": "stdout",
     "output_type": "stream",
     "text": [
      "./saved_models/model_1.pth\n",
      "Model 2:\n"
     ]
    },
    {
     "name": "stderr",
     "output_type": "stream",
     "text": [
      "Training Process: 100%|██████████| 10/10 [00:01<00:00,  6.56it/s]\n"
     ]
    },
    {
     "name": "stdout",
     "output_type": "stream",
     "text": [
      "./saved_models/model_2.pth\n",
      "Model 3:\n"
     ]
    },
    {
     "name": "stderr",
     "output_type": "stream",
     "text": [
      "Training Process: 100%|██████████| 10/10 [00:01<00:00,  7.59it/s]\n"
     ]
    },
    {
     "name": "stdout",
     "output_type": "stream",
     "text": [
      "./saved_models/model_3.pth\n",
      "Model 4:\n"
     ]
    },
    {
     "name": "stderr",
     "output_type": "stream",
     "text": [
      "Training Process: 100%|██████████| 10/10 [00:00<00:00, 12.14it/s]\n"
     ]
    },
    {
     "name": "stdout",
     "output_type": "stream",
     "text": [
      "./saved_models/model_4.pth\n",
      "Model 7:\n"
     ]
    },
    {
     "name": "stderr",
     "output_type": "stream",
     "text": [
      "Training Process: 100%|██████████| 10/10 [00:00<00:00, 12.82it/s]\n"
     ]
    },
    {
     "name": "stdout",
     "output_type": "stream",
     "text": [
      "./saved_models/model_7.pth\n",
      "Model 8:\n"
     ]
    },
    {
     "name": "stderr",
     "output_type": "stream",
     "text": [
      "Training Process: 100%|██████████| 10/10 [00:00<00:00, 11.72it/s]\n"
     ]
    },
    {
     "name": "stdout",
     "output_type": "stream",
     "text": [
      "./saved_models/model_8.pth\n",
      "Model 6:\n"
     ]
    },
    {
     "name": "stderr",
     "output_type": "stream",
     "text": [
      "Training Process: 100%|██████████| 10/10 [00:01<00:00,  8.12it/s]\n"
     ]
    },
    {
     "name": "stdout",
     "output_type": "stream",
     "text": [
      "./saved_models/model_6.pth\n",
      " Maximum accuracy: 0.8486111111111111, F1: 0.667633315170769, Test: 0.9681072384119034, Train: 0.9875258572896322 \n",
      " \n",
      "\n",
      "|| TRAINING SINGLE MODEL || \n",
      "Task: Classification\n"
     ]
    },
    {
     "name": "stderr",
     "output_type": "stream",
     "text": [
      "Training Process: 100%|██████████| 70/70 [00:13<00:00,  5.18it/s]\n"
     ]
    },
    {
     "name": "stdout",
     "output_type": "stream",
     "text": [
      " Maximum accuracy: 0.7259672619047619, F1: 0.6645358317944711, Test: 0.9561694960509027, Train: 0.9547077404885065 \n",
      " \n",
      "\n",
      "Trail 12: \n",
      "\n",
      "|| TRAINING WEIGHT AVERAGING TREE ENSEMBLE ||\n",
      "Task: classification\n",
      "Randomly initializing 4 models\n",
      "Model 1:\n"
     ]
    },
    {
     "name": "stderr",
     "output_type": "stream",
     "text": [
      "Training Process: 100%|██████████| 10/10 [00:01<00:00,  7.47it/s]\n"
     ]
    },
    {
     "name": "stdout",
     "output_type": "stream",
     "text": [
      "./saved_models/model_1.pth\n",
      "Model 2:\n"
     ]
    },
    {
     "name": "stderr",
     "output_type": "stream",
     "text": [
      "Training Process: 100%|██████████| 10/10 [00:01<00:00,  8.74it/s]\n"
     ]
    },
    {
     "name": "stdout",
     "output_type": "stream",
     "text": [
      "./saved_models/model_2.pth\n",
      "Model 3:\n"
     ]
    },
    {
     "name": "stderr",
     "output_type": "stream",
     "text": [
      "Training Process: 100%|██████████| 10/10 [00:00<00:00, 10.48it/s]\n"
     ]
    },
    {
     "name": "stdout",
     "output_type": "stream",
     "text": [
      "./saved_models/model_3.pth\n",
      "Model 4:\n"
     ]
    },
    {
     "name": "stderr",
     "output_type": "stream",
     "text": [
      "Training Process: 100%|██████████| 10/10 [00:00<00:00, 13.38it/s]\n"
     ]
    },
    {
     "name": "stdout",
     "output_type": "stream",
     "text": [
      "./saved_models/model_4.pth\n",
      "Model 7:\n"
     ]
    },
    {
     "name": "stderr",
     "output_type": "stream",
     "text": [
      "Training Process: 100%|██████████| 10/10 [00:01<00:00,  9.51it/s]\n"
     ]
    },
    {
     "name": "stdout",
     "output_type": "stream",
     "text": [
      "./saved_models/model_7.pth\n",
      "Model 8:\n"
     ]
    },
    {
     "name": "stderr",
     "output_type": "stream",
     "text": [
      "Training Process: 100%|██████████| 10/10 [00:00<00:00, 11.36it/s]\n"
     ]
    },
    {
     "name": "stdout",
     "output_type": "stream",
     "text": [
      "./saved_models/model_8.pth\n",
      "Model 6:\n"
     ]
    },
    {
     "name": "stderr",
     "output_type": "stream",
     "text": [
      "Training Process: 100%|██████████| 10/10 [00:01<00:00,  7.39it/s]\n"
     ]
    },
    {
     "name": "stdout",
     "output_type": "stream",
     "text": [
      "./saved_models/model_6.pth\n",
      " Maximum accuracy: 0.9219618055555555, F1: 0.7285141789382716, Test: 0.9558428719639778, Train: 0.981531172990799 \n",
      " \n",
      "\n",
      "|| TRAINING SINGLE MODEL || \n",
      "Task: Classification\n"
     ]
    },
    {
     "name": "stderr",
     "output_type": "stream",
     "text": [
      "Training Process: 100%|██████████| 70/70 [00:13<00:00,  5.11it/s]\n"
     ]
    },
    {
     "name": "stdout",
     "output_type": "stream",
     "text": [
      " Maximum accuracy: 0.7366443452380952, F1: 0.641747664475295, Test: 0.9380719201905386, Train: 0.9791479815187908 \n",
      " \n",
      "\n",
      "Trail 13: \n",
      "\n",
      "|| TRAINING WEIGHT AVERAGING TREE ENSEMBLE ||\n",
      "Task: classification\n",
      "Randomly initializing 4 models\n",
      "Model 1:\n"
     ]
    },
    {
     "name": "stderr",
     "output_type": "stream",
     "text": [
      "Training Process: 100%|██████████| 10/10 [00:01<00:00,  6.51it/s]\n"
     ]
    },
    {
     "name": "stdout",
     "output_type": "stream",
     "text": [
      "./saved_models/model_1.pth\n",
      "Model 2:\n"
     ]
    },
    {
     "name": "stderr",
     "output_type": "stream",
     "text": [
      "Training Process: 100%|██████████| 10/10 [00:00<00:00, 11.91it/s]\n"
     ]
    },
    {
     "name": "stdout",
     "output_type": "stream",
     "text": [
      "./saved_models/model_2.pth\n",
      "Model 3:\n"
     ]
    },
    {
     "name": "stderr",
     "output_type": "stream",
     "text": [
      "Training Process: 100%|██████████| 10/10 [00:00<00:00, 12.20it/s]\n"
     ]
    },
    {
     "name": "stdout",
     "output_type": "stream",
     "text": [
      "./saved_models/model_3.pth\n",
      "Model 4:\n"
     ]
    },
    {
     "name": "stderr",
     "output_type": "stream",
     "text": [
      "Training Process: 100%|██████████| 10/10 [00:00<00:00, 12.30it/s]\n"
     ]
    },
    {
     "name": "stdout",
     "output_type": "stream",
     "text": [
      "./saved_models/model_4.pth\n",
      "Model 7:\n"
     ]
    },
    {
     "name": "stderr",
     "output_type": "stream",
     "text": [
      "Training Process: 100%|██████████| 10/10 [00:00<00:00, 12.37it/s]\n"
     ]
    },
    {
     "name": "stdout",
     "output_type": "stream",
     "text": [
      "./saved_models/model_7.pth\n",
      "Model 8:\n"
     ]
    },
    {
     "name": "stderr",
     "output_type": "stream",
     "text": [
      "Training Process: 100%|██████████| 10/10 [00:00<00:00, 11.69it/s]\n"
     ]
    },
    {
     "name": "stdout",
     "output_type": "stream",
     "text": [
      "./saved_models/model_8.pth\n",
      "Model 6:\n"
     ]
    },
    {
     "name": "stderr",
     "output_type": "stream",
     "text": [
      "Training Process: 100%|██████████| 10/10 [00:00<00:00, 12.30it/s]\n"
     ]
    },
    {
     "name": "stdout",
     "output_type": "stream",
     "text": [
      "./saved_models/model_6.pth\n",
      " Maximum accuracy: 0.853298611111111, F1: 0.6478252928578997, Test: 1.015717987716198, Train: 1.0227674416700998 \n",
      " \n",
      "\n",
      "|| TRAINING SINGLE MODEL || \n",
      "Task: Classification\n"
     ]
    },
    {
     "name": "stderr",
     "output_type": "stream",
     "text": [
      "Training Process: 100%|██████████| 70/70 [00:08<00:00,  7.88it/s]\n"
     ]
    },
    {
     "name": "stdout",
     "output_type": "stream",
     "text": [
      " Maximum accuracy: 0.8294890873015873, F1: 0.7052827782703721, Test: 0.896892583157335, Train: 0.9483187090782892 \n",
      " \n",
      "\n",
      "Trail 14: \n",
      "\n",
      "|| TRAINING WEIGHT AVERAGING TREE ENSEMBLE ||\n",
      "Task: classification\n",
      "Randomly initializing 4 models\n",
      "Model 1:\n"
     ]
    },
    {
     "name": "stderr",
     "output_type": "stream",
     "text": [
      "Training Process: 100%|██████████| 10/10 [00:00<00:00, 12.15it/s]\n"
     ]
    },
    {
     "name": "stdout",
     "output_type": "stream",
     "text": [
      "./saved_models/model_1.pth\n",
      "Model 2:\n"
     ]
    },
    {
     "name": "stderr",
     "output_type": "stream",
     "text": [
      "Training Process: 100%|██████████| 10/10 [00:00<00:00, 10.92it/s]\n"
     ]
    },
    {
     "name": "stdout",
     "output_type": "stream",
     "text": [
      "./saved_models/model_2.pth\n",
      "Model 3:\n"
     ]
    },
    {
     "name": "stderr",
     "output_type": "stream",
     "text": [
      "Training Process: 100%|██████████| 10/10 [00:01<00:00,  8.84it/s]\n"
     ]
    },
    {
     "name": "stdout",
     "output_type": "stream",
     "text": [
      "./saved_models/model_3.pth\n",
      "Model 4:\n"
     ]
    },
    {
     "name": "stderr",
     "output_type": "stream",
     "text": [
      "Training Process: 100%|██████████| 10/10 [00:01<00:00,  5.23it/s]\n"
     ]
    },
    {
     "name": "stdout",
     "output_type": "stream",
     "text": [
      "./saved_models/model_4.pth\n",
      "Model 7:\n"
     ]
    },
    {
     "name": "stderr",
     "output_type": "stream",
     "text": [
      "Training Process: 100%|██████████| 10/10 [00:01<00:00,  7.12it/s]\n"
     ]
    },
    {
     "name": "stdout",
     "output_type": "stream",
     "text": [
      "./saved_models/model_7.pth\n",
      "Model 8:\n"
     ]
    },
    {
     "name": "stderr",
     "output_type": "stream",
     "text": [
      "Training Process: 100%|██████████| 10/10 [00:01<00:00,  9.31it/s]\n"
     ]
    },
    {
     "name": "stdout",
     "output_type": "stream",
     "text": [
      "./saved_models/model_8.pth\n",
      "Model 6:\n"
     ]
    },
    {
     "name": "stderr",
     "output_type": "stream",
     "text": [
      "Training Process: 100%|██████████| 10/10 [00:00<00:00, 11.51it/s]\n"
     ]
    },
    {
     "name": "stdout",
     "output_type": "stream",
     "text": [
      "./saved_models/model_6.pth\n",
      " Maximum accuracy: 0.8895833333333332, F1: 0.7385124063458806, Test: 0.9913118004798889, Train: 0.9660354026158651 \n",
      " \n",
      "\n",
      "|| TRAINING SINGLE MODEL || \n",
      "Task: Classification\n"
     ]
    },
    {
     "name": "stderr",
     "output_type": "stream",
     "text": [
      "Training Process: 100%|██████████| 70/70 [00:11<00:00,  6.05it/s]\n"
     ]
    },
    {
     "name": "stdout",
     "output_type": "stream",
     "text": [
      " Maximum accuracy: 0.8118055555555556, F1: 0.7166868472236525, Test: 0.9150689182536943, Train: 0.9207624424071539 \n",
      " \n",
      "\n",
      "Trail 15: \n",
      "\n",
      "|| TRAINING WEIGHT AVERAGING TREE ENSEMBLE ||\n",
      "Task: classification\n",
      "Randomly initializing 4 models\n",
      "Model 1:\n"
     ]
    },
    {
     "name": "stderr",
     "output_type": "stream",
     "text": [
      "Training Process: 100%|██████████| 10/10 [00:01<00:00,  7.98it/s]\n"
     ]
    },
    {
     "name": "stdout",
     "output_type": "stream",
     "text": [
      "./saved_models/model_1.pth\n",
      "Model 2:\n"
     ]
    },
    {
     "name": "stderr",
     "output_type": "stream",
     "text": [
      "Training Process: 100%|██████████| 10/10 [00:01<00:00,  5.19it/s]\n"
     ]
    },
    {
     "name": "stdout",
     "output_type": "stream",
     "text": [
      "./saved_models/model_2.pth\n",
      "Model 3:\n"
     ]
    },
    {
     "name": "stderr",
     "output_type": "stream",
     "text": [
      "Training Process: 100%|██████████| 10/10 [00:01<00:00,  5.90it/s]\n"
     ]
    },
    {
     "name": "stdout",
     "output_type": "stream",
     "text": [
      "./saved_models/model_3.pth\n",
      "Model 4:\n"
     ]
    },
    {
     "name": "stderr",
     "output_type": "stream",
     "text": [
      "Training Process: 100%|██████████| 10/10 [00:01<00:00,  6.09it/s]\n"
     ]
    },
    {
     "name": "stdout",
     "output_type": "stream",
     "text": [
      "./saved_models/model_4.pth\n",
      "Model 7:\n"
     ]
    },
    {
     "name": "stderr",
     "output_type": "stream",
     "text": [
      "Training Process: 100%|██████████| 10/10 [00:01<00:00,  6.91it/s]\n"
     ]
    },
    {
     "name": "stdout",
     "output_type": "stream",
     "text": [
      "./saved_models/model_7.pth\n",
      "Model 8:\n"
     ]
    },
    {
     "name": "stderr",
     "output_type": "stream",
     "text": [
      "Training Process: 100%|██████████| 10/10 [00:01<00:00,  8.96it/s]\n"
     ]
    },
    {
     "name": "stdout",
     "output_type": "stream",
     "text": [
      "./saved_models/model_8.pth\n",
      "Model 6:\n"
     ]
    },
    {
     "name": "stderr",
     "output_type": "stream",
     "text": [
      "Training Process: 100%|██████████| 10/10 [00:00<00:00, 11.50it/s]\n"
     ]
    },
    {
     "name": "stdout",
     "output_type": "stream",
     "text": [
      "./saved_models/model_6.pth\n",
      " Maximum accuracy: 0.7439236111111112, F1: 0.607545274448202, Test: 0.9863817930221558, Train: 0.9793045763174693 \n",
      " \n",
      "\n",
      "|| TRAINING SINGLE MODEL || \n",
      "Task: Classification\n"
     ]
    },
    {
     "name": "stderr",
     "output_type": "stream",
     "text": [
      "Training Process: 100%|██████████| 70/70 [00:08<00:00,  8.30it/s]\n"
     ]
    },
    {
     "name": "stdout",
     "output_type": "stream",
     "text": [
      " Maximum accuracy: 0.7415550595238095, F1: 0.6357265470420884, Test: 0.8959142591272081, Train: 0.9531250640891847 \n",
      " \n",
      "\n",
      "Trail 16: \n",
      "\n",
      "|| TRAINING WEIGHT AVERAGING TREE ENSEMBLE ||\n",
      "Task: classification\n",
      "Randomly initializing 4 models\n",
      "Model 1:\n"
     ]
    },
    {
     "name": "stderr",
     "output_type": "stream",
     "text": [
      "Training Process: 100%|██████████| 10/10 [00:00<00:00, 12.20it/s]\n"
     ]
    },
    {
     "name": "stdout",
     "output_type": "stream",
     "text": [
      "./saved_models/model_1.pth\n",
      "Model 2:\n"
     ]
    },
    {
     "name": "stderr",
     "output_type": "stream",
     "text": [
      "Training Process: 100%|██████████| 10/10 [00:00<00:00, 11.65it/s]\n"
     ]
    },
    {
     "name": "stdout",
     "output_type": "stream",
     "text": [
      "./saved_models/model_2.pth\n",
      "Model 3:\n"
     ]
    },
    {
     "name": "stderr",
     "output_type": "stream",
     "text": [
      "Training Process: 100%|██████████| 10/10 [00:00<00:00, 11.88it/s]\n"
     ]
    },
    {
     "name": "stdout",
     "output_type": "stream",
     "text": [
      "./saved_models/model_3.pth\n",
      "Model 4:\n"
     ]
    },
    {
     "name": "stderr",
     "output_type": "stream",
     "text": [
      "Training Process: 100%|██████████| 10/10 [00:01<00:00,  9.22it/s]\n"
     ]
    },
    {
     "name": "stdout",
     "output_type": "stream",
     "text": [
      "./saved_models/model_4.pth\n",
      "Model 7:\n"
     ]
    },
    {
     "name": "stderr",
     "output_type": "stream",
     "text": [
      "Training Process: 100%|██████████| 10/10 [00:00<00:00, 11.40it/s]\n"
     ]
    },
    {
     "name": "stdout",
     "output_type": "stream",
     "text": [
      "./saved_models/model_7.pth\n",
      "Model 8:\n"
     ]
    },
    {
     "name": "stderr",
     "output_type": "stream",
     "text": [
      "Training Process: 100%|██████████| 10/10 [00:00<00:00, 11.29it/s]\n"
     ]
    },
    {
     "name": "stdout",
     "output_type": "stream",
     "text": [
      "./saved_models/model_8.pth\n",
      "Model 6:\n"
     ]
    },
    {
     "name": "stderr",
     "output_type": "stream",
     "text": [
      "Training Process: 100%|██████████| 10/10 [00:00<00:00, 13.09it/s]\n"
     ]
    },
    {
     "name": "stdout",
     "output_type": "stream",
     "text": [
      "./saved_models/model_6.pth\n",
      " Maximum accuracy: 0.8822916666666668, F1: 0.697254114372349, Test: 0.9726101011037827, Train: 0.9690793136755625 \n",
      " \n",
      "\n",
      "|| TRAINING SINGLE MODEL || \n",
      "Task: Classification\n"
     ]
    },
    {
     "name": "stderr",
     "output_type": "stream",
     "text": [
      "Training Process: 100%|██████████| 70/70 [00:09<00:00,  7.49it/s]\n"
     ]
    },
    {
     "name": "stdout",
     "output_type": "stream",
     "text": [
      " Maximum accuracy: 0.8441964285714286, F1: 0.7326656378243844, Test: 0.882776973928724, Train: 0.9184360940115792 \n",
      " \n",
      "\n",
      "Trail 17: \n",
      "\n",
      "|| TRAINING WEIGHT AVERAGING TREE ENSEMBLE ||\n",
      "Task: classification\n",
      "Randomly initializing 4 models\n",
      "Model 1:\n"
     ]
    },
    {
     "name": "stderr",
     "output_type": "stream",
     "text": [
      "Training Process: 100%|██████████| 10/10 [00:00<00:00, 11.69it/s]\n"
     ]
    },
    {
     "name": "stdout",
     "output_type": "stream",
     "text": [
      "./saved_models/model_1.pth\n",
      "Model 2:\n"
     ]
    },
    {
     "name": "stderr",
     "output_type": "stream",
     "text": [
      "Training Process: 100%|██████████| 10/10 [00:01<00:00,  6.71it/s]\n"
     ]
    },
    {
     "name": "stdout",
     "output_type": "stream",
     "text": [
      "./saved_models/model_2.pth\n",
      "Model 3:\n"
     ]
    },
    {
     "name": "stderr",
     "output_type": "stream",
     "text": [
      "Training Process: 100%|██████████| 10/10 [00:02<00:00,  4.30it/s]\n"
     ]
    },
    {
     "name": "stdout",
     "output_type": "stream",
     "text": [
      "./saved_models/model_3.pth\n",
      "Model 4:\n"
     ]
    },
    {
     "name": "stderr",
     "output_type": "stream",
     "text": [
      "Training Process: 100%|██████████| 10/10 [00:01<00:00,  7.77it/s]\n"
     ]
    },
    {
     "name": "stdout",
     "output_type": "stream",
     "text": [
      "./saved_models/model_4.pth\n",
      "Model 7:\n"
     ]
    },
    {
     "name": "stderr",
     "output_type": "stream",
     "text": [
      "Training Process: 100%|██████████| 10/10 [00:01<00:00,  9.05it/s]\n"
     ]
    },
    {
     "name": "stdout",
     "output_type": "stream",
     "text": [
      "./saved_models/model_7.pth\n",
      "Model 8:\n"
     ]
    },
    {
     "name": "stderr",
     "output_type": "stream",
     "text": [
      "Training Process: 100%|██████████| 10/10 [00:01<00:00,  9.26it/s]\n"
     ]
    },
    {
     "name": "stdout",
     "output_type": "stream",
     "text": [
      "./saved_models/model_8.pth\n",
      "Model 6:\n"
     ]
    },
    {
     "name": "stderr",
     "output_type": "stream",
     "text": [
      "Training Process: 100%|██████████| 10/10 [00:01<00:00,  9.76it/s]\n"
     ]
    },
    {
     "name": "stdout",
     "output_type": "stream",
     "text": [
      "./saved_models/model_6.pth\n",
      " Maximum accuracy: 0.9227430555555556, F1: 0.6746458337377416, Test: 0.9724116995930672, Train: 0.9808397833506266 \n",
      " \n",
      "\n",
      "|| TRAINING SINGLE MODEL || \n",
      "Task: Classification\n"
     ]
    },
    {
     "name": "stderr",
     "output_type": "stream",
     "text": [
      "Training Process: 100%|██████████| 70/70 [00:12<00:00,  5.72it/s]\n"
     ]
    },
    {
     "name": "stdout",
     "output_type": "stream",
     "text": [
      " Maximum accuracy: 0.710032242063492, F1: 0.6880629683743426, Test: 0.9323515968663352, Train: 0.9426275219236101 \n",
      " \n",
      "\n",
      "Trail 18: \n",
      "\n",
      "|| TRAINING WEIGHT AVERAGING TREE ENSEMBLE ||\n",
      "Task: classification\n",
      "Randomly initializing 4 models\n",
      "Model 1:\n"
     ]
    },
    {
     "name": "stderr",
     "output_type": "stream",
     "text": [
      "Training Process: 100%|██████████| 10/10 [00:00<00:00, 10.03it/s]\n"
     ]
    },
    {
     "name": "stdout",
     "output_type": "stream",
     "text": [
      "./saved_models/model_1.pth\n",
      "Model 2:\n"
     ]
    },
    {
     "name": "stderr",
     "output_type": "stream",
     "text": [
      "Training Process: 100%|██████████| 10/10 [00:01<00:00,  8.25it/s]\n"
     ]
    },
    {
     "name": "stdout",
     "output_type": "stream",
     "text": [
      "./saved_models/model_2.pth\n",
      "Model 3:\n"
     ]
    },
    {
     "name": "stderr",
     "output_type": "stream",
     "text": [
      "Training Process: 100%|██████████| 10/10 [00:00<00:00, 10.73it/s]\n"
     ]
    },
    {
     "name": "stdout",
     "output_type": "stream",
     "text": [
      "./saved_models/model_3.pth\n",
      "Model 4:\n"
     ]
    },
    {
     "name": "stderr",
     "output_type": "stream",
     "text": [
      "Training Process: 100%|██████████| 10/10 [00:00<00:00, 11.46it/s]\n"
     ]
    },
    {
     "name": "stdout",
     "output_type": "stream",
     "text": [
      "./saved_models/model_4.pth\n",
      "Model 7:\n"
     ]
    },
    {
     "name": "stderr",
     "output_type": "stream",
     "text": [
      "Training Process: 100%|██████████| 10/10 [00:01<00:00,  8.04it/s]\n"
     ]
    },
    {
     "name": "stdout",
     "output_type": "stream",
     "text": [
      "./saved_models/model_7.pth\n",
      "Model 8:\n"
     ]
    },
    {
     "name": "stderr",
     "output_type": "stream",
     "text": [
      "Training Process: 100%|██████████| 10/10 [00:02<00:00,  4.47it/s]\n"
     ]
    },
    {
     "name": "stdout",
     "output_type": "stream",
     "text": [
      "./saved_models/model_8.pth\n",
      "Model 6:\n"
     ]
    },
    {
     "name": "stderr",
     "output_type": "stream",
     "text": [
      "Training Process: 100%|██████████| 10/10 [00:01<00:00,  7.37it/s]\n"
     ]
    },
    {
     "name": "stdout",
     "output_type": "stream",
     "text": [
      "./saved_models/model_6.pth\n",
      " Maximum accuracy: 0.5335069444444445, F1: 0.41107773746007, Test: 1.0540944993495942, Train: 1.0657960220177969 \n",
      " \n",
      "\n",
      "|| TRAINING SINGLE MODEL || \n",
      "Task: Classification\n"
     ]
    },
    {
     "name": "stderr",
     "output_type": "stream",
     "text": [
      "Training Process: 100%|██████████| 70/70 [00:12<00:00,  5.44it/s]\n"
     ]
    },
    {
     "name": "stdout",
     "output_type": "stream",
     "text": [
      " Maximum accuracy: 0.7881324404761905, F1: 0.6805238462620656, Test: 0.9098120731966836, Train: 0.9133316842714946 \n",
      " \n",
      "\n",
      "Trail 19: \n",
      "\n",
      "|| TRAINING WEIGHT AVERAGING TREE ENSEMBLE ||\n",
      "Task: classification\n",
      "Randomly initializing 4 models\n",
      "Model 1:\n"
     ]
    },
    {
     "name": "stderr",
     "output_type": "stream",
     "text": [
      "Training Process: 100%|██████████| 10/10 [00:02<00:00,  4.92it/s]\n"
     ]
    },
    {
     "name": "stdout",
     "output_type": "stream",
     "text": [
      "./saved_models/model_1.pth\n",
      "Model 2:\n"
     ]
    },
    {
     "name": "stderr",
     "output_type": "stream",
     "text": [
      "Training Process: 100%|██████████| 10/10 [00:01<00:00,  6.18it/s]\n"
     ]
    },
    {
     "name": "stdout",
     "output_type": "stream",
     "text": [
      "./saved_models/model_2.pth\n",
      "Model 3:\n"
     ]
    },
    {
     "name": "stderr",
     "output_type": "stream",
     "text": [
      "Training Process: 100%|██████████| 10/10 [00:01<00:00,  5.93it/s]\n"
     ]
    },
    {
     "name": "stdout",
     "output_type": "stream",
     "text": [
      "./saved_models/model_3.pth\n",
      "Model 4:\n"
     ]
    },
    {
     "name": "stderr",
     "output_type": "stream",
     "text": [
      "Training Process: 100%|██████████| 10/10 [00:00<00:00, 12.42it/s]\n"
     ]
    },
    {
     "name": "stdout",
     "output_type": "stream",
     "text": [
      "./saved_models/model_4.pth\n",
      "Model 7:\n"
     ]
    },
    {
     "name": "stderr",
     "output_type": "stream",
     "text": [
      "Training Process: 100%|██████████| 10/10 [00:00<00:00, 11.03it/s]\n"
     ]
    },
    {
     "name": "stdout",
     "output_type": "stream",
     "text": [
      "./saved_models/model_7.pth\n",
      "Model 8:\n"
     ]
    },
    {
     "name": "stderr",
     "output_type": "stream",
     "text": [
      "Training Process: 100%|██████████| 10/10 [00:00<00:00, 11.42it/s]\n"
     ]
    },
    {
     "name": "stdout",
     "output_type": "stream",
     "text": [
      "./saved_models/model_8.pth\n",
      "Model 6:\n"
     ]
    },
    {
     "name": "stderr",
     "output_type": "stream",
     "text": [
      "Training Process: 100%|██████████| 10/10 [00:00<00:00, 10.70it/s]\n"
     ]
    },
    {
     "name": "stdout",
     "output_type": "stream",
     "text": [
      "./saved_models/model_6.pth\n",
      " Maximum accuracy: 0.7699652777777778, F1: 0.626717043964577, Test: 0.9869507417082787, Train: 0.9893742509682973 \n",
      " \n",
      "\n",
      "|| TRAINING SINGLE MODEL || \n",
      "Task: Classification\n"
     ]
    },
    {
     "name": "stderr",
     "output_type": "stream",
     "text": [
      "Training Process: 100%|██████████| 70/70 [00:09<00:00,  7.10it/s]\n"
     ]
    },
    {
     "name": "stdout",
     "output_type": "stream",
     "text": [
      " Maximum accuracy: 0.8282986111111111, F1: 0.7199364423697412, Test: 0.8645489198820931, Train: 0.920158288251786 \n",
      " \n",
      "\n",
      "Trail 20: \n",
      "\n",
      "|| TRAINING WEIGHT AVERAGING TREE ENSEMBLE ||\n",
      "Task: classification\n",
      "Randomly initializing 4 models\n",
      "Model 1:\n"
     ]
    },
    {
     "name": "stderr",
     "output_type": "stream",
     "text": [
      "Training Process: 100%|██████████| 10/10 [00:00<00:00, 11.36it/s]\n"
     ]
    },
    {
     "name": "stdout",
     "output_type": "stream",
     "text": [
      "./saved_models/model_1.pth\n",
      "Model 2:\n"
     ]
    },
    {
     "name": "stderr",
     "output_type": "stream",
     "text": [
      "Training Process: 100%|██████████| 10/10 [00:00<00:00, 10.98it/s]\n"
     ]
    },
    {
     "name": "stdout",
     "output_type": "stream",
     "text": [
      "./saved_models/model_2.pth\n",
      "Model 3:\n"
     ]
    },
    {
     "name": "stderr",
     "output_type": "stream",
     "text": [
      "Training Process: 100%|██████████| 10/10 [00:00<00:00, 11.11it/s]\n"
     ]
    },
    {
     "name": "stdout",
     "output_type": "stream",
     "text": [
      "./saved_models/model_3.pth\n",
      "Model 4:\n"
     ]
    },
    {
     "name": "stderr",
     "output_type": "stream",
     "text": [
      "Training Process: 100%|██████████| 10/10 [00:00<00:00, 10.59it/s]\n"
     ]
    },
    {
     "name": "stdout",
     "output_type": "stream",
     "text": [
      "./saved_models/model_4.pth\n",
      "Model 7:\n"
     ]
    },
    {
     "name": "stderr",
     "output_type": "stream",
     "text": [
      "Training Process: 100%|██████████| 10/10 [00:00<00:00, 10.13it/s]\n"
     ]
    },
    {
     "name": "stdout",
     "output_type": "stream",
     "text": [
      "./saved_models/model_7.pth\n",
      "Model 8:\n"
     ]
    },
    {
     "name": "stderr",
     "output_type": "stream",
     "text": [
      "Training Process: 100%|██████████| 10/10 [00:00<00:00, 12.31it/s]\n"
     ]
    },
    {
     "name": "stdout",
     "output_type": "stream",
     "text": [
      "./saved_models/model_8.pth\n",
      "Model 6:\n"
     ]
    },
    {
     "name": "stderr",
     "output_type": "stream",
     "text": [
      "Training Process: 100%|██████████| 10/10 [00:00<00:00, 11.49it/s]\n"
     ]
    },
    {
     "name": "stdout",
     "output_type": "stream",
     "text": [
      "./saved_models/model_6.pth\n",
      " Maximum accuracy: 0.9065972222222222, F1: 0.6974168764303293, Test: 0.9750827893614769, Train: 0.9979569828510284 \n",
      " \n",
      "\n",
      "|| TRAINING SINGLE MODEL || \n",
      "Task: Classification\n"
     ]
    },
    {
     "name": "stderr",
     "output_type": "stream",
     "text": [
      "Training Process: 100%|██████████| 70/70 [00:13<00:00,  5.38it/s]\n"
     ]
    },
    {
     "name": "stdout",
     "output_type": "stream",
     "text": [
      " Maximum accuracy: 0.78015873015873, F1: 0.6911270510547171, Test: 0.9051655000873975, Train: 0.9341988523801168 \n",
      " \n",
      "\n",
      "Trail 21: \n",
      "\n",
      "|| TRAINING WEIGHT AVERAGING TREE ENSEMBLE ||\n",
      "Task: classification\n",
      "Randomly initializing 4 models\n",
      "Model 1:\n"
     ]
    },
    {
     "name": "stderr",
     "output_type": "stream",
     "text": [
      "Training Process: 100%|██████████| 10/10 [00:01<00:00,  7.44it/s]\n"
     ]
    },
    {
     "name": "stdout",
     "output_type": "stream",
     "text": [
      "./saved_models/model_1.pth\n",
      "Model 2:\n"
     ]
    },
    {
     "name": "stderr",
     "output_type": "stream",
     "text": [
      "Training Process: 100%|██████████| 10/10 [00:01<00:00,  9.00it/s]\n"
     ]
    },
    {
     "name": "stdout",
     "output_type": "stream",
     "text": [
      "./saved_models/model_2.pth\n",
      "Model 3:\n"
     ]
    },
    {
     "name": "stderr",
     "output_type": "stream",
     "text": [
      "Training Process: 100%|██████████| 10/10 [00:01<00:00,  9.16it/s]\n"
     ]
    },
    {
     "name": "stdout",
     "output_type": "stream",
     "text": [
      "./saved_models/model_3.pth\n",
      "Model 4:\n"
     ]
    },
    {
     "name": "stderr",
     "output_type": "stream",
     "text": [
      "Training Process: 100%|██████████| 10/10 [00:01<00:00,  9.87it/s]\n"
     ]
    },
    {
     "name": "stdout",
     "output_type": "stream",
     "text": [
      "./saved_models/model_4.pth\n",
      "Model 7:\n"
     ]
    },
    {
     "name": "stderr",
     "output_type": "stream",
     "text": [
      "Training Process: 100%|██████████| 10/10 [00:00<00:00, 10.26it/s]\n"
     ]
    },
    {
     "name": "stdout",
     "output_type": "stream",
     "text": [
      "./saved_models/model_7.pth\n",
      "Model 8:\n"
     ]
    },
    {
     "name": "stderr",
     "output_type": "stream",
     "text": [
      "Training Process: 100%|██████████| 10/10 [00:01<00:00,  8.65it/s]\n"
     ]
    },
    {
     "name": "stdout",
     "output_type": "stream",
     "text": [
      "./saved_models/model_8.pth\n",
      "Model 6:\n"
     ]
    },
    {
     "name": "stderr",
     "output_type": "stream",
     "text": [
      "Training Process: 100%|██████████| 10/10 [00:01<00:00,  9.76it/s]\n"
     ]
    },
    {
     "name": "stdout",
     "output_type": "stream",
     "text": [
      "./saved_models/model_6.pth\n",
      " Maximum accuracy: 0.8589409722222221, F1: 0.727624198679434, Test: 0.974516761302948, Train: 0.9806149268150329 \n",
      " \n",
      "\n",
      "|| TRAINING SINGLE MODEL || \n",
      "Task: Classification\n"
     ]
    },
    {
     "name": "stderr",
     "output_type": "stream",
     "text": [
      "Training Process: 100%|██████████| 70/70 [00:15<00:00,  4.52it/s]\n"
     ]
    },
    {
     "name": "stdout",
     "output_type": "stream",
     "text": [
      " Maximum accuracy: 0.7348958333333334, F1: 0.6729718767608001, Test: 0.9188530653715133, Train: 0.9146823906330835 \n",
      " \n",
      "\n",
      "Trail 22: \n",
      "\n",
      "|| TRAINING WEIGHT AVERAGING TREE ENSEMBLE ||\n",
      "Task: classification\n",
      "Randomly initializing 4 models\n",
      "Model 1:\n"
     ]
    },
    {
     "name": "stderr",
     "output_type": "stream",
     "text": [
      "Training Process: 100%|██████████| 10/10 [00:01<00:00,  6.28it/s]\n"
     ]
    },
    {
     "name": "stdout",
     "output_type": "stream",
     "text": [
      "./saved_models/model_1.pth\n",
      "Model 2:\n"
     ]
    },
    {
     "name": "stderr",
     "output_type": "stream",
     "text": [
      "Training Process: 100%|██████████| 10/10 [00:01<00:00,  6.94it/s]\n"
     ]
    },
    {
     "name": "stdout",
     "output_type": "stream",
     "text": [
      "./saved_models/model_2.pth\n",
      "Model 3:\n"
     ]
    },
    {
     "name": "stderr",
     "output_type": "stream",
     "text": [
      "Training Process: 100%|██████████| 10/10 [00:01<00:00,  5.26it/s]\n"
     ]
    },
    {
     "name": "stdout",
     "output_type": "stream",
     "text": [
      "./saved_models/model_3.pth\n",
      "Model 4:\n"
     ]
    },
    {
     "name": "stderr",
     "output_type": "stream",
     "text": [
      "Training Process: 100%|██████████| 10/10 [00:01<00:00,  6.80it/s]\n"
     ]
    },
    {
     "name": "stdout",
     "output_type": "stream",
     "text": [
      "./saved_models/model_4.pth\n",
      "Model 7:\n"
     ]
    },
    {
     "name": "stderr",
     "output_type": "stream",
     "text": [
      "Training Process: 100%|██████████| 10/10 [00:01<00:00,  7.79it/s]\n"
     ]
    },
    {
     "name": "stdout",
     "output_type": "stream",
     "text": [
      "./saved_models/model_7.pth\n",
      "Model 8:\n"
     ]
    },
    {
     "name": "stderr",
     "output_type": "stream",
     "text": [
      "Training Process: 100%|██████████| 10/10 [00:01<00:00,  8.75it/s]\n"
     ]
    },
    {
     "name": "stdout",
     "output_type": "stream",
     "text": [
      "./saved_models/model_8.pth\n",
      "Model 6:\n"
     ]
    },
    {
     "name": "stderr",
     "output_type": "stream",
     "text": [
      "Training Process: 100%|██████████| 10/10 [00:01<00:00,  7.51it/s]\n"
     ]
    },
    {
     "name": "stdout",
     "output_type": "stream",
     "text": [
      "./saved_models/model_6.pth\n",
      " Maximum accuracy: 0.8479166666666667, F1: 0.6292503015217223, Test: 0.967024901509285, Train: 0.9609922464688619 \n",
      " \n",
      "\n",
      "|| TRAINING SINGLE MODEL || \n",
      "Task: Classification\n"
     ]
    },
    {
     "name": "stderr",
     "output_type": "stream",
     "text": [
      "Training Process: 100%|██████████| 70/70 [00:10<00:00,  6.39it/s]\n"
     ]
    },
    {
     "name": "stdout",
     "output_type": "stream",
     "text": [
      " Maximum accuracy: 0.7420510912698413, F1: 0.6358587285210946, Test: 0.9354653277567455, Train: 0.9378247701554071 \n",
      " \n",
      "\n",
      "Trail 23: \n",
      "\n",
      "|| TRAINING WEIGHT AVERAGING TREE ENSEMBLE ||\n",
      "Task: classification\n",
      "Randomly initializing 4 models\n",
      "Model 1:\n"
     ]
    },
    {
     "name": "stderr",
     "output_type": "stream",
     "text": [
      "Training Process: 100%|██████████| 10/10 [00:01<00:00,  9.97it/s]\n"
     ]
    },
    {
     "name": "stdout",
     "output_type": "stream",
     "text": [
      "./saved_models/model_1.pth\n",
      "Model 2:\n"
     ]
    },
    {
     "name": "stderr",
     "output_type": "stream",
     "text": [
      "Training Process: 100%|██████████| 10/10 [00:00<00:00, 10.20it/s]\n"
     ]
    },
    {
     "name": "stdout",
     "output_type": "stream",
     "text": [
      "./saved_models/model_2.pth\n",
      "Model 3:\n"
     ]
    },
    {
     "name": "stderr",
     "output_type": "stream",
     "text": [
      "Training Process: 100%|██████████| 10/10 [00:01<00:00,  8.52it/s]\n"
     ]
    },
    {
     "name": "stdout",
     "output_type": "stream",
     "text": [
      "./saved_models/model_3.pth\n",
      "Model 4:\n"
     ]
    },
    {
     "name": "stderr",
     "output_type": "stream",
     "text": [
      "Training Process: 100%|██████████| 10/10 [00:00<00:00, 10.49it/s]\n"
     ]
    },
    {
     "name": "stdout",
     "output_type": "stream",
     "text": [
      "./saved_models/model_4.pth\n",
      "Model 7:\n"
     ]
    },
    {
     "name": "stderr",
     "output_type": "stream",
     "text": [
      "Training Process: 100%|██████████| 10/10 [00:00<00:00, 10.00it/s]\n"
     ]
    },
    {
     "name": "stdout",
     "output_type": "stream",
     "text": [
      "./saved_models/model_7.pth\n",
      "Model 8:\n"
     ]
    },
    {
     "name": "stderr",
     "output_type": "stream",
     "text": [
      "Training Process: 100%|██████████| 10/10 [00:00<00:00, 11.03it/s]\n"
     ]
    },
    {
     "name": "stdout",
     "output_type": "stream",
     "text": [
      "./saved_models/model_8.pth\n",
      "Model 6:\n"
     ]
    },
    {
     "name": "stderr",
     "output_type": "stream",
     "text": [
      "Training Process: 100%|██████████| 10/10 [00:01<00:00,  9.84it/s]\n"
     ]
    },
    {
     "name": "stdout",
     "output_type": "stream",
     "text": [
      "./saved_models/model_6.pth\n",
      " Maximum accuracy: 0.5558159722222222, F1: 0.4416613171649713, Test: 1.019335225224495, Train: 1.0332640635967254 \n",
      " \n",
      "\n",
      "|| TRAINING SINGLE MODEL || \n",
      "Task: Classification\n"
     ]
    },
    {
     "name": "stderr",
     "output_type": "stream",
     "text": [
      "Training Process: 100%|██████████| 70/70 [00:09<00:00,  7.20it/s]\n"
     ]
    },
    {
     "name": "stdout",
     "output_type": "stream",
     "text": [
      " Maximum accuracy: 0.7554439484126984, F1: 0.6588519676021664, Test: 0.8934639004724366, Train: 0.8999654898757027 \n",
      " \n",
      "\n",
      "Trail 24: \n",
      "\n",
      "|| TRAINING WEIGHT AVERAGING TREE ENSEMBLE ||\n",
      "Task: classification\n",
      "Randomly initializing 4 models\n",
      "Model 1:\n"
     ]
    },
    {
     "name": "stderr",
     "output_type": "stream",
     "text": [
      "Training Process: 100%|██████████| 10/10 [00:01<00:00,  9.74it/s]\n"
     ]
    },
    {
     "name": "stdout",
     "output_type": "stream",
     "text": [
      "./saved_models/model_1.pth\n",
      "Model 2:\n"
     ]
    },
    {
     "name": "stderr",
     "output_type": "stream",
     "text": [
      "Training Process: 100%|██████████| 10/10 [00:01<00:00,  8.99it/s]\n"
     ]
    },
    {
     "name": "stdout",
     "output_type": "stream",
     "text": [
      "./saved_models/model_2.pth\n",
      "Model 3:\n"
     ]
    },
    {
     "name": "stderr",
     "output_type": "stream",
     "text": [
      "Training Process: 100%|██████████| 10/10 [00:01<00:00,  9.68it/s]\n"
     ]
    },
    {
     "name": "stdout",
     "output_type": "stream",
     "text": [
      "./saved_models/model_3.pth\n",
      "Model 4:\n"
     ]
    },
    {
     "name": "stderr",
     "output_type": "stream",
     "text": [
      "Training Process: 100%|██████████| 10/10 [00:01<00:00,  8.67it/s]\n"
     ]
    },
    {
     "name": "stdout",
     "output_type": "stream",
     "text": [
      "./saved_models/model_4.pth\n",
      "Model 7:\n"
     ]
    },
    {
     "name": "stderr",
     "output_type": "stream",
     "text": [
      "Training Process: 100%|██████████| 10/10 [00:01<00:00,  5.57it/s]\n"
     ]
    },
    {
     "name": "stdout",
     "output_type": "stream",
     "text": [
      "./saved_models/model_7.pth\n",
      "Model 8:\n"
     ]
    },
    {
     "name": "stderr",
     "output_type": "stream",
     "text": [
      "Training Process: 100%|██████████| 10/10 [00:01<00:00,  9.93it/s]\n"
     ]
    },
    {
     "name": "stdout",
     "output_type": "stream",
     "text": [
      "./saved_models/model_8.pth\n",
      "Model 6:\n"
     ]
    },
    {
     "name": "stderr",
     "output_type": "stream",
     "text": [
      "Training Process: 100%|██████████| 10/10 [00:01<00:00,  9.86it/s]\n"
     ]
    },
    {
     "name": "stdout",
     "output_type": "stream",
     "text": [
      "./saved_models/model_6.pth\n",
      " Maximum accuracy: 0.8953993055555557, F1: 0.7516892463493303, Test: 0.9581849679350853, Train: 0.9446057506402333 \n",
      " \n",
      "\n",
      "|| TRAINING SINGLE MODEL || \n",
      "Task: Classification\n"
     ]
    },
    {
     "name": "stderr",
     "output_type": "stream",
     "text": [
      "Training Process: 100%|██████████| 70/70 [00:11<00:00,  6.28it/s]\n"
     ]
    },
    {
     "name": "stdout",
     "output_type": "stream",
     "text": [
      " Maximum accuracy: 0.7234250992063492, F1: 0.6497686378640675, Test: 0.9455200878637178, Train: 0.954859980628604 \n",
      " \n",
      "\n",
      "Trail 25: \n",
      "\n",
      "|| TRAINING WEIGHT AVERAGING TREE ENSEMBLE ||\n",
      "Task: classification\n",
      "Randomly initializing 4 models\n",
      "Model 1:\n"
     ]
    },
    {
     "name": "stderr",
     "output_type": "stream",
     "text": [
      "Training Process: 100%|██████████| 10/10 [00:01<00:00,  8.33it/s]\n"
     ]
    },
    {
     "name": "stdout",
     "output_type": "stream",
     "text": [
      "./saved_models/model_1.pth\n",
      "Model 2:\n"
     ]
    },
    {
     "name": "stderr",
     "output_type": "stream",
     "text": [
      "Training Process: 100%|██████████| 10/10 [00:01<00:00,  9.60it/s]\n"
     ]
    },
    {
     "name": "stdout",
     "output_type": "stream",
     "text": [
      "./saved_models/model_2.pth\n",
      "Model 3:\n"
     ]
    },
    {
     "name": "stderr",
     "output_type": "stream",
     "text": [
      "Training Process: 100%|██████████| 10/10 [00:01<00:00,  8.68it/s]\n"
     ]
    },
    {
     "name": "stdout",
     "output_type": "stream",
     "text": [
      "./saved_models/model_3.pth\n",
      "Model 4:\n"
     ]
    },
    {
     "name": "stderr",
     "output_type": "stream",
     "text": [
      "Training Process: 100%|██████████| 10/10 [00:00<00:00, 10.15it/s]\n"
     ]
    },
    {
     "name": "stdout",
     "output_type": "stream",
     "text": [
      "./saved_models/model_4.pth\n",
      "Model 7:\n"
     ]
    },
    {
     "name": "stderr",
     "output_type": "stream",
     "text": [
      "Training Process: 100%|██████████| 10/10 [00:01<00:00,  7.77it/s]\n"
     ]
    },
    {
     "name": "stdout",
     "output_type": "stream",
     "text": [
      "./saved_models/model_7.pth\n",
      "Model 8:\n"
     ]
    },
    {
     "name": "stderr",
     "output_type": "stream",
     "text": [
      "Training Process: 100%|██████████| 10/10 [00:01<00:00,  7.40it/s]\n"
     ]
    },
    {
     "name": "stdout",
     "output_type": "stream",
     "text": [
      "./saved_models/model_8.pth\n",
      "Model 6:\n"
     ]
    },
    {
     "name": "stderr",
     "output_type": "stream",
     "text": [
      "Training Process: 100%|██████████| 10/10 [00:01<00:00,  5.98it/s]\n"
     ]
    },
    {
     "name": "stdout",
     "output_type": "stream",
     "text": [
      "./saved_models/model_6.pth\n",
      " Maximum accuracy: 0.7138888888888889, F1: 0.6289848742248065, Test: 1.0289587751030922, Train: 0.9985521654287974 \n",
      " \n",
      "\n",
      "|| TRAINING SINGLE MODEL || \n",
      "Task: Classification\n"
     ]
    },
    {
     "name": "stderr",
     "output_type": "stream",
     "text": [
      "Training Process: 100%|██████████| 70/70 [00:27<00:00,  2.58it/s]\n"
     ]
    },
    {
     "name": "stdout",
     "output_type": "stream",
     "text": [
      " Maximum accuracy: 0.8001116071428571, F1: 0.703576368920891, Test: 0.8837404659816197, Train: 0.9219190392607735 \n",
      " \n",
      "\n",
      "Trail 26: \n",
      "\n",
      "|| TRAINING WEIGHT AVERAGING TREE ENSEMBLE ||\n",
      "Task: classification\n",
      "Randomly initializing 4 models\n",
      "Model 1:\n"
     ]
    },
    {
     "name": "stderr",
     "output_type": "stream",
     "text": [
      "Training Process: 100%|██████████| 10/10 [00:02<00:00,  4.28it/s]\n"
     ]
    },
    {
     "name": "stdout",
     "output_type": "stream",
     "text": [
      "./saved_models/model_1.pth\n",
      "Model 2:\n"
     ]
    },
    {
     "name": "stderr",
     "output_type": "stream",
     "text": [
      "Training Process: 100%|██████████| 10/10 [00:01<00:00,  5.66it/s]\n"
     ]
    },
    {
     "name": "stdout",
     "output_type": "stream",
     "text": [
      "./saved_models/model_2.pth\n",
      "Model 3:\n"
     ]
    },
    {
     "name": "stderr",
     "output_type": "stream",
     "text": [
      "Training Process: 100%|██████████| 10/10 [00:02<00:00,  4.11it/s]\n"
     ]
    },
    {
     "name": "stdout",
     "output_type": "stream",
     "text": [
      "./saved_models/model_3.pth\n",
      "Model 4:\n"
     ]
    },
    {
     "name": "stderr",
     "output_type": "stream",
     "text": [
      "Training Process: 100%|██████████| 10/10 [00:02<00:00,  4.12it/s]\n"
     ]
    },
    {
     "name": "stdout",
     "output_type": "stream",
     "text": [
      "./saved_models/model_4.pth\n",
      "Model 7:\n"
     ]
    },
    {
     "name": "stderr",
     "output_type": "stream",
     "text": [
      "Training Process: 100%|██████████| 10/10 [00:02<00:00,  3.71it/s]\n"
     ]
    },
    {
     "name": "stdout",
     "output_type": "stream",
     "text": [
      "./saved_models/model_7.pth\n",
      "Model 8:\n"
     ]
    },
    {
     "name": "stderr",
     "output_type": "stream",
     "text": [
      "Training Process: 100%|██████████| 10/10 [00:02<00:00,  4.23it/s]\n"
     ]
    },
    {
     "name": "stdout",
     "output_type": "stream",
     "text": [
      "./saved_models/model_8.pth\n",
      "Model 6:\n"
     ]
    },
    {
     "name": "stderr",
     "output_type": "stream",
     "text": [
      "Training Process: 100%|██████████| 10/10 [00:01<00:00,  5.93it/s]\n"
     ]
    },
    {
     "name": "stdout",
     "output_type": "stream",
     "text": [
      "./saved_models/model_6.pth\n",
      " Maximum accuracy: 0.8766493055555555, F1: 0.6407894627359942, Test: 1.0333511397242545, Train: 1.0337702349821727 \n",
      " \n",
      "\n",
      "|| TRAINING SINGLE MODEL || \n",
      "Task: Classification\n"
     ]
    },
    {
     "name": "stderr",
     "output_type": "stream",
     "text": [
      "Training Process: 100%|██████████| 70/70 [00:15<00:00,  4.45it/s]\n"
     ]
    },
    {
     "name": "stdout",
     "output_type": "stream",
     "text": [
      " Maximum accuracy: 0.6897569444444445, F1: 0.5728864707203613, Test: 0.9625827195388931, Train: 1.034541834025156 \n",
      " \n",
      "\n",
      "Trail 27: \n",
      "\n",
      "|| TRAINING WEIGHT AVERAGING TREE ENSEMBLE ||\n",
      "Task: classification\n",
      "Randomly initializing 4 models\n",
      "Model 1:\n"
     ]
    },
    {
     "name": "stderr",
     "output_type": "stream",
     "text": [
      "Training Process: 100%|██████████| 10/10 [00:01<00:00,  9.92it/s]\n"
     ]
    },
    {
     "name": "stdout",
     "output_type": "stream",
     "text": [
      "./saved_models/model_1.pth\n",
      "Model 2:\n"
     ]
    },
    {
     "name": "stderr",
     "output_type": "stream",
     "text": [
      "Training Process: 100%|██████████| 10/10 [00:00<00:00, 10.31it/s]\n"
     ]
    },
    {
     "name": "stdout",
     "output_type": "stream",
     "text": [
      "./saved_models/model_2.pth\n",
      "Model 3:\n"
     ]
    },
    {
     "name": "stderr",
     "output_type": "stream",
     "text": [
      "Training Process: 100%|██████████| 10/10 [00:00<00:00, 10.31it/s]\n"
     ]
    },
    {
     "name": "stdout",
     "output_type": "stream",
     "text": [
      "./saved_models/model_3.pth\n",
      "Model 4:\n"
     ]
    },
    {
     "name": "stderr",
     "output_type": "stream",
     "text": [
      "Training Process: 100%|██████████| 10/10 [00:01<00:00,  6.71it/s]\n"
     ]
    },
    {
     "name": "stdout",
     "output_type": "stream",
     "text": [
      "./saved_models/model_4.pth\n",
      "Model 7:\n"
     ]
    },
    {
     "name": "stderr",
     "output_type": "stream",
     "text": [
      "Training Process: 100%|██████████| 10/10 [00:01<00:00,  9.78it/s]\n"
     ]
    },
    {
     "name": "stdout",
     "output_type": "stream",
     "text": [
      "./saved_models/model_7.pth\n",
      "Model 8:\n"
     ]
    },
    {
     "name": "stderr",
     "output_type": "stream",
     "text": [
      "Training Process: 100%|██████████| 10/10 [00:01<00:00,  9.58it/s]\n"
     ]
    },
    {
     "name": "stdout",
     "output_type": "stream",
     "text": [
      "./saved_models/model_8.pth\n",
      "Model 6:\n"
     ]
    },
    {
     "name": "stderr",
     "output_type": "stream",
     "text": [
      "Training Process: 100%|██████████| 10/10 [00:00<00:00, 10.42it/s]\n"
     ]
    },
    {
     "name": "stdout",
     "output_type": "stream",
     "text": [
      "./saved_models/model_6.pth\n",
      " Maximum accuracy: 0.6426215277777778, F1: 0.5123522479204469, Test: 1.0217003628611565, Train: 1.0081018114089966 \n",
      " \n",
      "\n",
      "|| TRAINING SINGLE MODEL || \n",
      "Task: Classification\n"
     ]
    },
    {
     "name": "stderr",
     "output_type": "stream",
     "text": [
      "Training Process: 100%|██████████| 70/70 [00:10<00:00,  6.87it/s]\n"
     ]
    },
    {
     "name": "stdout",
     "output_type": "stream",
     "text": [
      " Maximum accuracy: 0.8495783730158729, F1: 0.7113349860432023, Test: 0.8704441377094814, Train: 0.8916927534625644 \n",
      " \n",
      "\n",
      "Trail 28: \n",
      "\n",
      "|| TRAINING WEIGHT AVERAGING TREE ENSEMBLE ||\n",
      "Task: classification\n",
      "Randomly initializing 4 models\n",
      "Model 1:\n"
     ]
    },
    {
     "name": "stderr",
     "output_type": "stream",
     "text": [
      "Training Process: 100%|██████████| 10/10 [00:00<00:00, 10.06it/s]\n"
     ]
    },
    {
     "name": "stdout",
     "output_type": "stream",
     "text": [
      "./saved_models/model_1.pth\n",
      "Model 2:\n"
     ]
    },
    {
     "name": "stderr",
     "output_type": "stream",
     "text": [
      "Training Process: 100%|██████████| 10/10 [00:00<00:00, 10.05it/s]\n"
     ]
    },
    {
     "name": "stdout",
     "output_type": "stream",
     "text": [
      "./saved_models/model_2.pth\n",
      "Model 3:\n"
     ]
    },
    {
     "name": "stderr",
     "output_type": "stream",
     "text": [
      "Training Process: 100%|██████████| 10/10 [00:01<00:00,  9.83it/s]\n"
     ]
    },
    {
     "name": "stdout",
     "output_type": "stream",
     "text": [
      "./saved_models/model_3.pth\n",
      "Model 4:\n"
     ]
    },
    {
     "name": "stderr",
     "output_type": "stream",
     "text": [
      "Training Process: 100%|██████████| 10/10 [00:01<00:00,  9.72it/s]\n"
     ]
    },
    {
     "name": "stdout",
     "output_type": "stream",
     "text": [
      "./saved_models/model_4.pth\n",
      "Model 7:\n"
     ]
    },
    {
     "name": "stderr",
     "output_type": "stream",
     "text": [
      "Training Process: 100%|██████████| 10/10 [00:01<00:00,  8.78it/s]\n"
     ]
    },
    {
     "name": "stdout",
     "output_type": "stream",
     "text": [
      "./saved_models/model_7.pth\n",
      "Model 8:\n"
     ]
    },
    {
     "name": "stderr",
     "output_type": "stream",
     "text": [
      "Training Process: 100%|██████████| 10/10 [00:00<00:00, 10.37it/s]\n"
     ]
    },
    {
     "name": "stdout",
     "output_type": "stream",
     "text": [
      "./saved_models/model_8.pth\n",
      "Model 6:\n"
     ]
    },
    {
     "name": "stderr",
     "output_type": "stream",
     "text": [
      "Training Process: 100%|██████████| 10/10 [00:00<00:00, 10.16it/s]\n"
     ]
    },
    {
     "name": "stdout",
     "output_type": "stream",
     "text": [
      "./saved_models/model_6.pth\n",
      " Maximum accuracy: 0.9036458333333333, F1: 0.7026837032019444, Test: 0.9864858835935593, Train: 0.9889721643924713 \n",
      " \n",
      "\n",
      "|| TRAINING SINGLE MODEL || \n",
      "Task: Classification\n"
     ]
    },
    {
     "name": "stderr",
     "output_type": "stream",
     "text": [
      "Training Process: 100%|██████████| 70/70 [00:10<00:00,  6.79it/s]\n"
     ]
    },
    {
     "name": "stdout",
     "output_type": "stream",
     "text": [
      " Maximum accuracy: 0.8828621031746031, F1: 0.7478544207661023, Test: 0.8800372734665871, Train: 0.9192755541914985 \n",
      " \n",
      "\n",
      "Trail 29: \n",
      "\n",
      "|| TRAINING WEIGHT AVERAGING TREE ENSEMBLE ||\n",
      "Task: classification\n",
      "Randomly initializing 4 models\n",
      "Model 1:\n"
     ]
    },
    {
     "name": "stderr",
     "output_type": "stream",
     "text": [
      "Training Process: 100%|██████████| 10/10 [00:00<00:00, 10.48it/s]\n"
     ]
    },
    {
     "name": "stdout",
     "output_type": "stream",
     "text": [
      "./saved_models/model_1.pth\n",
      "Model 2:\n"
     ]
    },
    {
     "name": "stderr",
     "output_type": "stream",
     "text": [
      "Training Process: 100%|██████████| 10/10 [00:01<00:00,  9.91it/s]\n"
     ]
    },
    {
     "name": "stdout",
     "output_type": "stream",
     "text": [
      "./saved_models/model_2.pth\n",
      "Model 3:\n"
     ]
    },
    {
     "name": "stderr",
     "output_type": "stream",
     "text": [
      "Training Process: 100%|██████████| 10/10 [00:00<00:00, 10.06it/s]\n"
     ]
    },
    {
     "name": "stdout",
     "output_type": "stream",
     "text": [
      "./saved_models/model_3.pth\n",
      "Model 4:\n"
     ]
    },
    {
     "name": "stderr",
     "output_type": "stream",
     "text": [
      "Training Process: 100%|██████████| 10/10 [00:00<00:00, 10.35it/s]\n"
     ]
    },
    {
     "name": "stdout",
     "output_type": "stream",
     "text": [
      "./saved_models/model_4.pth\n",
      "Model 7:\n"
     ]
    },
    {
     "name": "stderr",
     "output_type": "stream",
     "text": [
      "Training Process: 100%|██████████| 10/10 [00:01<00:00,  9.72it/s]\n"
     ]
    },
    {
     "name": "stdout",
     "output_type": "stream",
     "text": [
      "./saved_models/model_7.pth\n",
      "Model 8:\n"
     ]
    },
    {
     "name": "stderr",
     "output_type": "stream",
     "text": [
      "Training Process: 100%|██████████| 10/10 [00:00<00:00, 10.26it/s]\n"
     ]
    },
    {
     "name": "stdout",
     "output_type": "stream",
     "text": [
      "./saved_models/model_8.pth\n",
      "Model 6:\n"
     ]
    },
    {
     "name": "stderr",
     "output_type": "stream",
     "text": [
      "Training Process: 100%|██████████| 10/10 [00:00<00:00, 10.01it/s]\n"
     ]
    },
    {
     "name": "stdout",
     "output_type": "stream",
     "text": [
      "./saved_models/model_6.pth\n",
      " Maximum accuracy: 0.8934027777777779, F1: 0.7703686223653871, Test: 0.9657611548900604, Train: 0.9615489991505941 \n",
      " \n",
      "\n",
      "|| TRAINING SINGLE MODEL || \n",
      "Task: Classification\n"
     ]
    },
    {
     "name": "stderr",
     "output_type": "stream",
     "text": [
      "Training Process: 100%|██████████| 70/70 [00:10<00:00,  6.87it/s]\n"
     ]
    },
    {
     "name": "stdout",
     "output_type": "stream",
     "text": [
      " Maximum accuracy: 0.8614087301587302, F1: 0.7464913947582916, Test: 0.8956584451454026, Train: 0.9291440345559802 \n",
      " \n",
      "\n",
      "Trail 30: \n",
      "\n",
      "|| TRAINING WEIGHT AVERAGING TREE ENSEMBLE ||\n",
      "Task: classification\n",
      "Randomly initializing 4 models\n",
      "Model 1:\n"
     ]
    },
    {
     "name": "stderr",
     "output_type": "stream",
     "text": [
      "Training Process: 100%|██████████| 10/10 [00:00<00:00, 10.95it/s]\n"
     ]
    },
    {
     "name": "stdout",
     "output_type": "stream",
     "text": [
      "./saved_models/model_1.pth\n",
      "Model 2:\n"
     ]
    },
    {
     "name": "stderr",
     "output_type": "stream",
     "text": [
      "Training Process: 100%|██████████| 10/10 [00:01<00:00,  9.85it/s]\n"
     ]
    },
    {
     "name": "stdout",
     "output_type": "stream",
     "text": [
      "./saved_models/model_2.pth\n",
      "Model 3:\n"
     ]
    },
    {
     "name": "stderr",
     "output_type": "stream",
     "text": [
      "Training Process: 100%|██████████| 10/10 [00:00<00:00, 10.36it/s]\n"
     ]
    },
    {
     "name": "stdout",
     "output_type": "stream",
     "text": [
      "./saved_models/model_3.pth\n",
      "Model 4:\n"
     ]
    },
    {
     "name": "stderr",
     "output_type": "stream",
     "text": [
      "Training Process: 100%|██████████| 10/10 [00:01<00:00,  9.44it/s]\n"
     ]
    },
    {
     "name": "stdout",
     "output_type": "stream",
     "text": [
      "./saved_models/model_4.pth\n",
      "Model 7:\n"
     ]
    },
    {
     "name": "stderr",
     "output_type": "stream",
     "text": [
      "Training Process: 100%|██████████| 10/10 [00:01<00:00,  7.87it/s]\n"
     ]
    },
    {
     "name": "stdout",
     "output_type": "stream",
     "text": [
      "./saved_models/model_7.pth\n",
      "Model 8:\n"
     ]
    },
    {
     "name": "stderr",
     "output_type": "stream",
     "text": [
      "Training Process: 100%|██████████| 10/10 [00:01<00:00,  9.62it/s]\n"
     ]
    },
    {
     "name": "stdout",
     "output_type": "stream",
     "text": [
      "./saved_models/model_8.pth\n",
      "Model 6:\n"
     ]
    },
    {
     "name": "stderr",
     "output_type": "stream",
     "text": [
      "Training Process: 100%|██████████| 10/10 [00:01<00:00,  9.86it/s]\n"
     ]
    },
    {
     "name": "stdout",
     "output_type": "stream",
     "text": [
      "./saved_models/model_6.pth\n",
      " Maximum accuracy: 0.9098958333333333, F1: 0.7167583729657053, Test: 0.994927179813385, Train: 0.9906298168500265 \n",
      " \n",
      "\n",
      "|| TRAINING SINGLE MODEL || \n",
      "Task: Classification\n"
     ]
    },
    {
     "name": "stderr",
     "output_type": "stream",
     "text": [
      "Training Process: 100%|██████████| 70/70 [00:10<00:00,  6.70it/s]\n"
     ]
    },
    {
     "name": "stdout",
     "output_type": "stream",
     "text": [
      " Maximum accuracy: 0.8776537698412699, F1: 0.6824026478603193, Test: 0.8573489382863044, Train: 0.9082107860133761 \n",
      " \n",
      "\n",
      "Trail 31: \n",
      "\n",
      "|| TRAINING WEIGHT AVERAGING TREE ENSEMBLE ||\n",
      "Task: classification\n",
      "Randomly initializing 4 models\n",
      "Model 1:\n"
     ]
    },
    {
     "name": "stderr",
     "output_type": "stream",
     "text": [
      "Training Process: 100%|██████████| 10/10 [00:00<00:00, 10.35it/s]\n"
     ]
    },
    {
     "name": "stdout",
     "output_type": "stream",
     "text": [
      "./saved_models/model_1.pth\n",
      "Model 2:\n"
     ]
    },
    {
     "name": "stderr",
     "output_type": "stream",
     "text": [
      "Training Process: 100%|██████████| 10/10 [00:01<00:00,  9.58it/s]\n"
     ]
    },
    {
     "name": "stdout",
     "output_type": "stream",
     "text": [
      "./saved_models/model_2.pth\n",
      "Model 3:\n"
     ]
    },
    {
     "name": "stderr",
     "output_type": "stream",
     "text": [
      "Training Process: 100%|██████████| 10/10 [00:00<00:00, 10.59it/s]\n"
     ]
    },
    {
     "name": "stdout",
     "output_type": "stream",
     "text": [
      "./saved_models/model_3.pth\n",
      "Model 4:\n"
     ]
    },
    {
     "name": "stderr",
     "output_type": "stream",
     "text": [
      "Training Process: 100%|██████████| 10/10 [00:00<00:00, 10.56it/s]\n"
     ]
    },
    {
     "name": "stdout",
     "output_type": "stream",
     "text": [
      "./saved_models/model_4.pth\n",
      "Model 7:\n"
     ]
    },
    {
     "name": "stderr",
     "output_type": "stream",
     "text": [
      "Training Process: 100%|██████████| 10/10 [00:01<00:00,  9.76it/s]\n"
     ]
    },
    {
     "name": "stdout",
     "output_type": "stream",
     "text": [
      "./saved_models/model_7.pth\n",
      "Model 8:\n"
     ]
    },
    {
     "name": "stderr",
     "output_type": "stream",
     "text": [
      "Training Process: 100%|██████████| 10/10 [00:00<00:00, 10.33it/s]\n"
     ]
    },
    {
     "name": "stdout",
     "output_type": "stream",
     "text": [
      "./saved_models/model_8.pth\n",
      "Model 6:\n"
     ]
    },
    {
     "name": "stderr",
     "output_type": "stream",
     "text": [
      "Training Process: 100%|██████████| 10/10 [00:00<00:00, 10.06it/s]\n"
     ]
    },
    {
     "name": "stdout",
     "output_type": "stream",
     "text": [
      "./saved_models/model_6.pth\n",
      " Maximum accuracy: 0.7467013888888889, F1: 0.5982223909431663, Test: 0.9819247886538506, Train: 0.9918685416380565 \n",
      " \n",
      "\n",
      "|| TRAINING SINGLE MODEL || \n",
      "Task: Classification\n"
     ]
    },
    {
     "name": "stderr",
     "output_type": "stream",
     "text": [
      "Training Process: 100%|██████████| 70/70 [00:11<00:00,  6.31it/s]\n"
     ]
    },
    {
     "name": "stdout",
     "output_type": "stream",
     "text": [
      " Maximum accuracy: 0.7898809523809525, F1: 0.670515920406017, Test: 0.9258802605526788, Train: 0.9656871636708577 \n",
      " \n",
      "\n",
      "Trail 32: \n",
      "\n",
      "|| TRAINING WEIGHT AVERAGING TREE ENSEMBLE ||\n",
      "Task: classification\n",
      "Randomly initializing 4 models\n",
      "Model 1:\n"
     ]
    },
    {
     "name": "stderr",
     "output_type": "stream",
     "text": [
      "Training Process: 100%|██████████| 10/10 [00:00<00:00, 10.45it/s]\n"
     ]
    },
    {
     "name": "stdout",
     "output_type": "stream",
     "text": [
      "./saved_models/model_1.pth\n",
      "Model 2:\n"
     ]
    },
    {
     "name": "stderr",
     "output_type": "stream",
     "text": [
      "Training Process: 100%|██████████| 10/10 [00:00<00:00, 10.88it/s]\n"
     ]
    },
    {
     "name": "stdout",
     "output_type": "stream",
     "text": [
      "./saved_models/model_2.pth\n",
      "Model 3:\n"
     ]
    },
    {
     "name": "stderr",
     "output_type": "stream",
     "text": [
      "Training Process: 100%|██████████| 10/10 [00:01<00:00,  9.65it/s]\n"
     ]
    },
    {
     "name": "stdout",
     "output_type": "stream",
     "text": [
      "./saved_models/model_3.pth\n",
      "Model 4:\n"
     ]
    },
    {
     "name": "stderr",
     "output_type": "stream",
     "text": [
      "Training Process: 100%|██████████| 10/10 [00:00<00:00, 10.63it/s]\n"
     ]
    },
    {
     "name": "stdout",
     "output_type": "stream",
     "text": [
      "./saved_models/model_4.pth\n",
      "Model 7:\n"
     ]
    },
    {
     "name": "stderr",
     "output_type": "stream",
     "text": [
      "Training Process: 100%|██████████| 10/10 [00:01<00:00,  9.04it/s]\n"
     ]
    },
    {
     "name": "stdout",
     "output_type": "stream",
     "text": [
      "./saved_models/model_7.pth\n",
      "Model 8:\n"
     ]
    },
    {
     "name": "stderr",
     "output_type": "stream",
     "text": [
      "Training Process: 100%|██████████| 10/10 [00:00<00:00, 10.93it/s]\n"
     ]
    },
    {
     "name": "stdout",
     "output_type": "stream",
     "text": [
      "./saved_models/model_8.pth\n",
      "Model 6:\n"
     ]
    },
    {
     "name": "stderr",
     "output_type": "stream",
     "text": [
      "Training Process: 100%|██████████| 10/10 [00:01<00:00,  9.85it/s]\n"
     ]
    },
    {
     "name": "stdout",
     "output_type": "stream",
     "text": [
      "./saved_models/model_6.pth\n",
      " Maximum accuracy: 0.71171875, F1: 0.6034705833418477, Test: 1.0351412549614907, Train: 1.026805068651835 \n",
      " \n",
      "\n",
      "|| TRAINING SINGLE MODEL || \n",
      "Task: Classification\n"
     ]
    },
    {
     "name": "stderr",
     "output_type": "stream",
     "text": [
      "Training Process: 100%|██████████| 70/70 [00:10<00:00,  6.99it/s]\n"
     ]
    },
    {
     "name": "stdout",
     "output_type": "stream",
     "text": [
      " Maximum accuracy: 0.7890625000000001, F1: 0.702811323910794, Test: 0.9119898063795907, Train: 0.9407644460314796 \n",
      " \n",
      "\n",
      "Trail 33: \n",
      "\n",
      "|| TRAINING WEIGHT AVERAGING TREE ENSEMBLE ||\n",
      "Task: classification\n",
      "Randomly initializing 4 models\n",
      "Model 1:\n"
     ]
    },
    {
     "name": "stderr",
     "output_type": "stream",
     "text": [
      "Training Process: 100%|██████████| 10/10 [00:00<00:00, 11.08it/s]\n"
     ]
    },
    {
     "name": "stdout",
     "output_type": "stream",
     "text": [
      "./saved_models/model_1.pth\n",
      "Model 2:\n"
     ]
    },
    {
     "name": "stderr",
     "output_type": "stream",
     "text": [
      "Training Process: 100%|██████████| 10/10 [00:00<00:00, 10.12it/s]\n"
     ]
    },
    {
     "name": "stdout",
     "output_type": "stream",
     "text": [
      "./saved_models/model_2.pth\n",
      "Model 3:\n"
     ]
    },
    {
     "name": "stderr",
     "output_type": "stream",
     "text": [
      "Training Process: 100%|██████████| 10/10 [00:00<00:00, 10.60it/s]\n"
     ]
    },
    {
     "name": "stdout",
     "output_type": "stream",
     "text": [
      "./saved_models/model_3.pth\n",
      "Model 4:\n"
     ]
    },
    {
     "name": "stderr",
     "output_type": "stream",
     "text": [
      "Training Process: 100%|██████████| 10/10 [00:00<00:00, 10.03it/s]\n"
     ]
    },
    {
     "name": "stdout",
     "output_type": "stream",
     "text": [
      "./saved_models/model_4.pth\n",
      "Model 7:\n"
     ]
    },
    {
     "name": "stderr",
     "output_type": "stream",
     "text": [
      "Training Process: 100%|██████████| 10/10 [00:00<00:00, 10.58it/s]\n"
     ]
    },
    {
     "name": "stdout",
     "output_type": "stream",
     "text": [
      "./saved_models/model_7.pth\n",
      "Model 8:\n"
     ]
    },
    {
     "name": "stderr",
     "output_type": "stream",
     "text": [
      "Training Process: 100%|██████████| 10/10 [00:00<00:00, 10.40it/s]\n"
     ]
    },
    {
     "name": "stdout",
     "output_type": "stream",
     "text": [
      "./saved_models/model_8.pth\n",
      "Model 6:\n"
     ]
    },
    {
     "name": "stderr",
     "output_type": "stream",
     "text": [
      "Training Process: 100%|██████████| 10/10 [00:01<00:00,  8.40it/s]\n"
     ]
    },
    {
     "name": "stdout",
     "output_type": "stream",
     "text": [
      "./saved_models/model_6.pth\n",
      " Maximum accuracy: 0.9140625, F1: 0.7187292247290146, Test: 0.9236079663038254, Train: 0.9226774775981903 \n",
      " \n",
      "\n",
      "|| TRAINING SINGLE MODEL || \n",
      "Task: Classification\n"
     ]
    },
    {
     "name": "stderr",
     "output_type": "stream",
     "text": [
      "Training Process: 100%|██████████| 70/70 [00:10<00:00,  6.47it/s]\n"
     ]
    },
    {
     "name": "stdout",
     "output_type": "stream",
     "text": [
      " Maximum accuracy: 0.9234375, F1: 0.7889950986049481, Test: 0.7899651386908122, Train: 0.8374373972983588 \n",
      " \n",
      "\n",
      "Trail 34: \n",
      "\n",
      "|| TRAINING WEIGHT AVERAGING TREE ENSEMBLE ||\n",
      "Task: classification\n",
      "Randomly initializing 4 models\n",
      "Model 1:\n"
     ]
    },
    {
     "name": "stderr",
     "output_type": "stream",
     "text": [
      "Training Process: 100%|██████████| 10/10 [00:01<00:00,  9.56it/s]\n"
     ]
    },
    {
     "name": "stdout",
     "output_type": "stream",
     "text": [
      "./saved_models/model_1.pth\n",
      "Model 2:\n"
     ]
    },
    {
     "name": "stderr",
     "output_type": "stream",
     "text": [
      "Training Process: 100%|██████████| 10/10 [00:01<00:00,  9.37it/s]\n"
     ]
    },
    {
     "name": "stdout",
     "output_type": "stream",
     "text": [
      "./saved_models/model_2.pth\n",
      "Model 3:\n"
     ]
    },
    {
     "name": "stderr",
     "output_type": "stream",
     "text": [
      "Training Process: 100%|██████████| 10/10 [00:00<00:00, 10.14it/s]\n"
     ]
    },
    {
     "name": "stdout",
     "output_type": "stream",
     "text": [
      "./saved_models/model_3.pth\n",
      "Model 4:\n"
     ]
    },
    {
     "name": "stderr",
     "output_type": "stream",
     "text": [
      "Training Process: 100%|██████████| 10/10 [00:00<00:00, 10.04it/s]\n"
     ]
    },
    {
     "name": "stdout",
     "output_type": "stream",
     "text": [
      "./saved_models/model_4.pth\n",
      "Model 7:\n"
     ]
    },
    {
     "name": "stderr",
     "output_type": "stream",
     "text": [
      "Training Process: 100%|██████████| 10/10 [00:01<00:00,  9.61it/s]\n"
     ]
    },
    {
     "name": "stdout",
     "output_type": "stream",
     "text": [
      "./saved_models/model_7.pth\n",
      "Model 8:\n"
     ]
    },
    {
     "name": "stderr",
     "output_type": "stream",
     "text": [
      "Training Process: 100%|██████████| 10/10 [00:00<00:00, 10.31it/s]\n"
     ]
    },
    {
     "name": "stdout",
     "output_type": "stream",
     "text": [
      "./saved_models/model_8.pth\n",
      "Model 6:\n"
     ]
    },
    {
     "name": "stderr",
     "output_type": "stream",
     "text": [
      "Training Process: 100%|██████████| 10/10 [00:01<00:00,  9.88it/s]\n"
     ]
    },
    {
     "name": "stdout",
     "output_type": "stream",
     "text": [
      "./saved_models/model_6.pth\n",
      " Maximum accuracy: 0.8571180555555555, F1: 0.6354654437372524, Test: 0.9995732739567756, Train: 0.9971597377459208 \n",
      " \n",
      "\n",
      "|| TRAINING SINGLE MODEL || \n",
      "Task: Classification\n"
     ]
    },
    {
     "name": "stderr",
     "output_type": "stream",
     "text": [
      "Training Process: 100%|██████████| 70/70 [00:10<00:00,  6.82it/s]\n"
     ]
    },
    {
     "name": "stdout",
     "output_type": "stream",
     "text": [
      " Maximum accuracy: 0.8270833333333333, F1: 0.6777829630834621, Test: 0.8951805572424616, Train: 0.9107424056529999 \n",
      " \n",
      "\n",
      "Trail 35: \n",
      "\n",
      "|| TRAINING WEIGHT AVERAGING TREE ENSEMBLE ||\n",
      "Task: classification\n",
      "Randomly initializing 4 models\n",
      "Model 1:\n"
     ]
    },
    {
     "name": "stderr",
     "output_type": "stream",
     "text": [
      "Training Process: 100%|██████████| 10/10 [00:00<00:00, 10.69it/s]\n"
     ]
    },
    {
     "name": "stdout",
     "output_type": "stream",
     "text": [
      "./saved_models/model_1.pth\n",
      "Model 2:\n"
     ]
    },
    {
     "name": "stderr",
     "output_type": "stream",
     "text": [
      "Training Process: 100%|██████████| 10/10 [00:00<00:00, 11.11it/s]\n"
     ]
    },
    {
     "name": "stdout",
     "output_type": "stream",
     "text": [
      "./saved_models/model_2.pth\n",
      "Model 3:\n"
     ]
    },
    {
     "name": "stderr",
     "output_type": "stream",
     "text": [
      "Training Process: 100%|██████████| 10/10 [00:00<00:00, 10.04it/s]\n"
     ]
    },
    {
     "name": "stdout",
     "output_type": "stream",
     "text": [
      "./saved_models/model_3.pth\n",
      "Model 4:\n"
     ]
    },
    {
     "name": "stderr",
     "output_type": "stream",
     "text": [
      "Training Process: 100%|██████████| 10/10 [00:01<00:00,  9.22it/s]\n"
     ]
    },
    {
     "name": "stdout",
     "output_type": "stream",
     "text": [
      "./saved_models/model_4.pth\n",
      "Model 7:\n"
     ]
    },
    {
     "name": "stderr",
     "output_type": "stream",
     "text": [
      "Training Process: 100%|██████████| 10/10 [00:00<00:00, 10.33it/s]\n"
     ]
    },
    {
     "name": "stdout",
     "output_type": "stream",
     "text": [
      "./saved_models/model_7.pth\n",
      "Model 8:\n"
     ]
    },
    {
     "name": "stderr",
     "output_type": "stream",
     "text": [
      "Training Process: 100%|██████████| 10/10 [00:01<00:00,  9.77it/s]\n"
     ]
    },
    {
     "name": "stdout",
     "output_type": "stream",
     "text": [
      "./saved_models/model_8.pth\n",
      "Model 6:\n"
     ]
    },
    {
     "name": "stderr",
     "output_type": "stream",
     "text": [
      "Training Process: 100%|██████████| 10/10 [00:01<00:00,  9.92it/s]\n"
     ]
    },
    {
     "name": "stdout",
     "output_type": "stream",
     "text": [
      "./saved_models/model_6.pth\n",
      " Maximum accuracy: 0.9176311728395061, F1: 0.7198115854814724, Test: 0.9426374211907387, Train: 0.950258651971817 \n",
      " \n",
      "\n",
      "|| TRAINING SINGLE MODEL || \n",
      "Task: Classification\n"
     ]
    },
    {
     "name": "stderr",
     "output_type": "stream",
     "text": [
      "Training Process: 100%|██████████| 70/70 [00:10<00:00,  6.60it/s]\n"
     ]
    },
    {
     "name": "stdout",
     "output_type": "stream",
     "text": [
      " Maximum accuracy: 0.7948412698412698, F1: 0.6970255171050843, Test: 0.8804723450115749, Train: 0.9100608238152095 \n",
      " \n",
      "\n",
      "Trail 36: \n",
      "\n",
      "|| TRAINING WEIGHT AVERAGING TREE ENSEMBLE ||\n",
      "Task: classification\n",
      "Randomly initializing 4 models\n",
      "Model 1:\n"
     ]
    },
    {
     "name": "stderr",
     "output_type": "stream",
     "text": [
      "Training Process: 100%|██████████| 10/10 [00:00<00:00, 11.02it/s]\n"
     ]
    },
    {
     "name": "stdout",
     "output_type": "stream",
     "text": [
      "./saved_models/model_1.pth\n",
      "Model 2:\n"
     ]
    },
    {
     "name": "stderr",
     "output_type": "stream",
     "text": [
      "Training Process: 100%|██████████| 10/10 [00:01<00:00,  9.99it/s]\n"
     ]
    },
    {
     "name": "stdout",
     "output_type": "stream",
     "text": [
      "./saved_models/model_2.pth\n",
      "Model 3:\n"
     ]
    },
    {
     "name": "stderr",
     "output_type": "stream",
     "text": [
      "Training Process: 100%|██████████| 10/10 [00:01<00:00,  9.97it/s]\n"
     ]
    },
    {
     "name": "stdout",
     "output_type": "stream",
     "text": [
      "./saved_models/model_3.pth\n",
      "Model 4:\n"
     ]
    },
    {
     "name": "stderr",
     "output_type": "stream",
     "text": [
      "Training Process: 100%|██████████| 10/10 [00:01<00:00,  9.48it/s]\n"
     ]
    },
    {
     "name": "stdout",
     "output_type": "stream",
     "text": [
      "./saved_models/model_4.pth\n",
      "Model 7:\n"
     ]
    },
    {
     "name": "stderr",
     "output_type": "stream",
     "text": [
      "Training Process: 100%|██████████| 10/10 [00:01<00:00,  9.09it/s]\n"
     ]
    },
    {
     "name": "stdout",
     "output_type": "stream",
     "text": [
      "./saved_models/model_7.pth\n",
      "Model 8:\n"
     ]
    },
    {
     "name": "stderr",
     "output_type": "stream",
     "text": [
      "Training Process: 100%|██████████| 10/10 [00:01<00:00,  9.66it/s]\n"
     ]
    },
    {
     "name": "stdout",
     "output_type": "stream",
     "text": [
      "./saved_models/model_8.pth\n",
      "Model 6:\n"
     ]
    },
    {
     "name": "stderr",
     "output_type": "stream",
     "text": [
      "Training Process: 100%|██████████| 10/10 [00:01<00:00,  9.96it/s]\n"
     ]
    },
    {
     "name": "stdout",
     "output_type": "stream",
     "text": [
      "./saved_models/model_6.pth\n",
      " Maximum accuracy: 0.8568576388888889, F1: 0.6690656781674744, Test: 0.9530737891793251, Train: 0.9543765489260355 \n",
      " \n",
      "\n",
      "|| TRAINING SINGLE MODEL || \n",
      "Task: Classification\n"
     ]
    },
    {
     "name": "stderr",
     "output_type": "stream",
     "text": [
      "Training Process: 100%|██████████| 70/70 [00:12<00:00,  5.79it/s]\n"
     ]
    },
    {
     "name": "stdout",
     "output_type": "stream",
     "text": [
      " Maximum accuracy: 0.9080233134920634, F1: 0.7885082540527929, Test: 0.7840969805206571, Train: 0.8446415531067621 \n",
      " \n",
      "\n",
      "Trail 37: \n",
      "\n",
      "|| TRAINING WEIGHT AVERAGING TREE ENSEMBLE ||\n",
      "Task: classification\n",
      "Randomly initializing 4 models\n",
      "Model 1:\n"
     ]
    },
    {
     "name": "stderr",
     "output_type": "stream",
     "text": [
      "Training Process: 100%|██████████| 10/10 [00:01<00:00,  7.93it/s]\n"
     ]
    },
    {
     "name": "stdout",
     "output_type": "stream",
     "text": [
      "./saved_models/model_1.pth\n",
      "Model 2:\n"
     ]
    },
    {
     "name": "stderr",
     "output_type": "stream",
     "text": [
      "Training Process: 100%|██████████| 10/10 [00:01<00:00,  7.92it/s]\n"
     ]
    },
    {
     "name": "stdout",
     "output_type": "stream",
     "text": [
      "./saved_models/model_2.pth\n",
      "Model 3:\n"
     ]
    },
    {
     "name": "stderr",
     "output_type": "stream",
     "text": [
      "Training Process: 100%|██████████| 10/10 [00:01<00:00,  6.46it/s]\n"
     ]
    },
    {
     "name": "stdout",
     "output_type": "stream",
     "text": [
      "./saved_models/model_3.pth\n",
      "Model 4:\n"
     ]
    },
    {
     "name": "stderr",
     "output_type": "stream",
     "text": [
      "Training Process: 100%|██████████| 10/10 [00:01<00:00,  7.62it/s]\n"
     ]
    },
    {
     "name": "stdout",
     "output_type": "stream",
     "text": [
      "./saved_models/model_4.pth\n",
      "Model 7:\n"
     ]
    },
    {
     "name": "stderr",
     "output_type": "stream",
     "text": [
      "Training Process: 100%|██████████| 10/10 [00:01<00:00,  9.28it/s]\n"
     ]
    },
    {
     "name": "stdout",
     "output_type": "stream",
     "text": [
      "./saved_models/model_7.pth\n",
      "Model 8:\n"
     ]
    },
    {
     "name": "stderr",
     "output_type": "stream",
     "text": [
      "Training Process: 100%|██████████| 10/10 [00:01<00:00,  6.92it/s]\n"
     ]
    },
    {
     "name": "stdout",
     "output_type": "stream",
     "text": [
      "./saved_models/model_8.pth\n",
      "Model 6:\n"
     ]
    },
    {
     "name": "stderr",
     "output_type": "stream",
     "text": [
      "Training Process: 100%|██████████| 10/10 [00:01<00:00,  7.44it/s]\n"
     ]
    },
    {
     "name": "stdout",
     "output_type": "stream",
     "text": [
      "./saved_models/model_6.pth\n",
      " Maximum accuracy: 0.8994140625, F1: 0.7016162717131291, Test: 0.9649322509765625, Train: 0.9614268485705058 \n",
      " \n",
      "\n",
      "|| TRAINING SINGLE MODEL || \n",
      "Task: Classification\n"
     ]
    },
    {
     "name": "stderr",
     "output_type": "stream",
     "text": [
      "Training Process: 100%|██████████| 70/70 [00:18<00:00,  3.69it/s]\n"
     ]
    },
    {
     "name": "stdout",
     "output_type": "stream",
     "text": [
      " Maximum accuracy: 0.6285714285714286, F1: 0.573059087253607, Test: 0.9930359482765198, Train: 1.058908829518727 \n",
      " \n",
      "\n",
      "Trail 38: \n",
      "\n",
      "|| TRAINING WEIGHT AVERAGING TREE ENSEMBLE ||\n",
      "Task: classification\n",
      "Randomly initializing 4 models\n",
      "Model 1:\n"
     ]
    },
    {
     "name": "stderr",
     "output_type": "stream",
     "text": [
      "Training Process: 100%|██████████| 10/10 [00:01<00:00,  5.29it/s]\n"
     ]
    },
    {
     "name": "stdout",
     "output_type": "stream",
     "text": [
      "./saved_models/model_1.pth\n",
      "Model 2:\n"
     ]
    },
    {
     "name": "stderr",
     "output_type": "stream",
     "text": [
      "Training Process: 100%|██████████| 10/10 [00:01<00:00,  5.35it/s]\n"
     ]
    },
    {
     "name": "stdout",
     "output_type": "stream",
     "text": [
      "./saved_models/model_2.pth\n",
      "Model 3:\n"
     ]
    },
    {
     "name": "stderr",
     "output_type": "stream",
     "text": [
      "Training Process: 100%|██████████| 10/10 [00:02<00:00,  4.03it/s]\n"
     ]
    },
    {
     "name": "stdout",
     "output_type": "stream",
     "text": [
      "./saved_models/model_3.pth\n",
      "Model 4:\n"
     ]
    },
    {
     "name": "stderr",
     "output_type": "stream",
     "text": [
      "Training Process: 100%|██████████| 10/10 [00:02<00:00,  4.52it/s]\n"
     ]
    },
    {
     "name": "stdout",
     "output_type": "stream",
     "text": [
      "./saved_models/model_4.pth\n",
      "Model 7:\n"
     ]
    },
    {
     "name": "stderr",
     "output_type": "stream",
     "text": [
      "Training Process: 100%|██████████| 10/10 [00:01<00:00,  6.00it/s]\n"
     ]
    },
    {
     "name": "stdout",
     "output_type": "stream",
     "text": [
      "./saved_models/model_7.pth\n",
      "Model 8:\n"
     ]
    },
    {
     "name": "stderr",
     "output_type": "stream",
     "text": [
      "Training Process: 100%|██████████| 10/10 [00:02<00:00,  4.13it/s]\n"
     ]
    },
    {
     "name": "stdout",
     "output_type": "stream",
     "text": [
      "./saved_models/model_8.pth\n",
      "Model 6:\n"
     ]
    },
    {
     "name": "stderr",
     "output_type": "stream",
     "text": [
      "Training Process: 100%|██████████| 10/10 [00:01<00:00,  6.71it/s]\n"
     ]
    },
    {
     "name": "stdout",
     "output_type": "stream",
     "text": [
      "./saved_models/model_6.pth\n",
      " Maximum accuracy: 0.8381944444444445, F1: 0.6617982177055186, Test: 0.9789067462086678, Train: 0.9819061398506165 \n",
      " \n",
      "\n",
      "|| TRAINING SINGLE MODEL || \n",
      "Task: Classification\n"
     ]
    },
    {
     "name": "stderr",
     "output_type": "stream",
     "text": [
      "Training Process: 100%|██████████| 70/70 [00:15<00:00,  4.42it/s]\n"
     ]
    },
    {
     "name": "stdout",
     "output_type": "stream",
     "text": [
      " Maximum accuracy: 0.8023313492063492, F1: 0.6994463108785612, Test: 0.9336910599044391, Train: 0.9367811678137098 \n",
      " \n",
      "\n",
      "Trail 39: \n",
      "\n",
      "|| TRAINING WEIGHT AVERAGING TREE ENSEMBLE ||\n",
      "Task: classification\n",
      "Randomly initializing 4 models\n",
      "Model 1:\n"
     ]
    },
    {
     "name": "stderr",
     "output_type": "stream",
     "text": [
      "Training Process: 100%|██████████| 10/10 [00:01<00:00,  5.63it/s]\n"
     ]
    },
    {
     "name": "stdout",
     "output_type": "stream",
     "text": [
      "./saved_models/model_1.pth\n",
      "Model 2:\n"
     ]
    },
    {
     "name": "stderr",
     "output_type": "stream",
     "text": [
      "Training Process: 100%|██████████| 10/10 [00:01<00:00,  8.73it/s]\n"
     ]
    },
    {
     "name": "stdout",
     "output_type": "stream",
     "text": [
      "./saved_models/model_2.pth\n",
      "Model 3:\n"
     ]
    },
    {
     "name": "stderr",
     "output_type": "stream",
     "text": [
      "Training Process: 100%|██████████| 10/10 [00:01<00:00,  7.09it/s]\n"
     ]
    },
    {
     "name": "stdout",
     "output_type": "stream",
     "text": [
      "./saved_models/model_3.pth\n",
      "Model 4:\n"
     ]
    },
    {
     "name": "stderr",
     "output_type": "stream",
     "text": [
      "Training Process: 100%|██████████| 10/10 [00:01<00:00,  8.95it/s]\n"
     ]
    },
    {
     "name": "stdout",
     "output_type": "stream",
     "text": [
      "./saved_models/model_4.pth\n",
      "Model 7:\n"
     ]
    },
    {
     "name": "stderr",
     "output_type": "stream",
     "text": [
      "Training Process: 100%|██████████| 10/10 [00:01<00:00,  7.81it/s]\n"
     ]
    },
    {
     "name": "stdout",
     "output_type": "stream",
     "text": [
      "./saved_models/model_7.pth\n",
      "Model 8:\n"
     ]
    },
    {
     "name": "stderr",
     "output_type": "stream",
     "text": [
      "Training Process: 100%|██████████| 10/10 [00:01<00:00,  8.55it/s]\n"
     ]
    },
    {
     "name": "stdout",
     "output_type": "stream",
     "text": [
      "./saved_models/model_8.pth\n",
      "Model 6:\n"
     ]
    },
    {
     "name": "stderr",
     "output_type": "stream",
     "text": [
      "Training Process: 100%|██████████| 10/10 [00:01<00:00,  8.37it/s]\n"
     ]
    },
    {
     "name": "stdout",
     "output_type": "stream",
     "text": [
      "./saved_models/model_6.pth\n",
      " Maximum accuracy: 0.8424479166666667, F1: 0.6981586159533187, Test: 0.9975653678178787, Train: 0.98910040696462 \n",
      " \n",
      "\n",
      "|| TRAINING SINGLE MODEL || \n",
      "Task: Classification\n"
     ]
    },
    {
     "name": "stderr",
     "output_type": "stream",
     "text": [
      "Training Process: 100%|██████████| 70/70 [00:10<00:00,  6.44it/s]\n"
     ]
    },
    {
     "name": "stdout",
     "output_type": "stream",
     "text": [
      " Maximum accuracy: 0.8445808531746032, F1: 0.7338240245266573, Test: 0.8917903240237918, Train: 0.8992683986255101 \n",
      " \n",
      "\n",
      "Trail 40: \n",
      "\n",
      "|| TRAINING WEIGHT AVERAGING TREE ENSEMBLE ||\n",
      "Task: classification\n",
      "Randomly initializing 4 models\n",
      "Model 1:\n"
     ]
    },
    {
     "name": "stderr",
     "output_type": "stream",
     "text": [
      "Training Process: 100%|██████████| 10/10 [00:01<00:00,  9.12it/s]\n"
     ]
    },
    {
     "name": "stdout",
     "output_type": "stream",
     "text": [
      "./saved_models/model_1.pth\n",
      "Model 2:\n"
     ]
    },
    {
     "name": "stderr",
     "output_type": "stream",
     "text": [
      "Training Process: 100%|██████████| 10/10 [00:01<00:00,  9.60it/s]\n"
     ]
    },
    {
     "name": "stdout",
     "output_type": "stream",
     "text": [
      "./saved_models/model_2.pth\n",
      "Model 3:\n"
     ]
    },
    {
     "name": "stderr",
     "output_type": "stream",
     "text": [
      "Training Process: 100%|██████████| 10/10 [00:01<00:00,  9.09it/s]\n"
     ]
    },
    {
     "name": "stdout",
     "output_type": "stream",
     "text": [
      "./saved_models/model_3.pth\n",
      "Model 4:\n"
     ]
    },
    {
     "name": "stderr",
     "output_type": "stream",
     "text": [
      "Training Process: 100%|██████████| 10/10 [00:01<00:00,  8.39it/s]\n"
     ]
    },
    {
     "name": "stdout",
     "output_type": "stream",
     "text": [
      "./saved_models/model_4.pth\n",
      "Model 7:\n"
     ]
    },
    {
     "name": "stderr",
     "output_type": "stream",
     "text": [
      "Training Process: 100%|██████████| 10/10 [00:01<00:00,  8.89it/s]\n"
     ]
    },
    {
     "name": "stdout",
     "output_type": "stream",
     "text": [
      "./saved_models/model_7.pth\n",
      "Model 8:\n"
     ]
    },
    {
     "name": "stderr",
     "output_type": "stream",
     "text": [
      "Training Process: 100%|██████████| 10/10 [00:01<00:00,  8.43it/s]\n"
     ]
    },
    {
     "name": "stdout",
     "output_type": "stream",
     "text": [
      "./saved_models/model_8.pth\n",
      "Model 6:\n"
     ]
    },
    {
     "name": "stderr",
     "output_type": "stream",
     "text": [
      "Training Process: 100%|██████████| 10/10 [00:01<00:00,  8.04it/s]\n"
     ]
    },
    {
     "name": "stdout",
     "output_type": "stream",
     "text": [
      "./saved_models/model_6.pth\n",
      " Maximum accuracy: 0.9236111111111112, F1: 0.741029354031111, Test: 0.9205536276102066, Train: 0.95406640847524 \n",
      " \n",
      "\n",
      "|| TRAINING SINGLE MODEL || \n",
      "Task: Classification\n"
     ]
    },
    {
     "name": "stderr",
     "output_type": "stream",
     "text": [
      "Training Process: 100%|██████████| 70/70 [00:11<00:00,  6.08it/s]\n"
     ]
    },
    {
     "name": "stdout",
     "output_type": "stream",
     "text": [
      " Maximum accuracy: 0.9014012896825397, F1: 0.7601958339596686, Test: 0.8477930950266974, Train: 0.875422055721283 \n",
      " \n",
      "\n",
      "Trail 41: \n",
      "\n",
      "|| TRAINING WEIGHT AVERAGING TREE ENSEMBLE ||\n",
      "Task: classification\n",
      "Randomly initializing 4 models\n",
      "Model 1:\n"
     ]
    },
    {
     "name": "stderr",
     "output_type": "stream",
     "text": [
      "Training Process: 100%|██████████| 10/10 [00:01<00:00,  9.19it/s]\n"
     ]
    },
    {
     "name": "stdout",
     "output_type": "stream",
     "text": [
      "./saved_models/model_1.pth\n",
      "Model 2:\n"
     ]
    },
    {
     "name": "stderr",
     "output_type": "stream",
     "text": [
      "Training Process: 100%|██████████| 10/10 [00:01<00:00,  9.18it/s]\n"
     ]
    },
    {
     "name": "stdout",
     "output_type": "stream",
     "text": [
      "./saved_models/model_2.pth\n",
      "Model 3:\n"
     ]
    },
    {
     "name": "stderr",
     "output_type": "stream",
     "text": [
      "Training Process: 100%|██████████| 10/10 [00:01<00:00,  8.79it/s]\n"
     ]
    },
    {
     "name": "stdout",
     "output_type": "stream",
     "text": [
      "./saved_models/model_3.pth\n",
      "Model 4:\n"
     ]
    },
    {
     "name": "stderr",
     "output_type": "stream",
     "text": [
      "Training Process: 100%|██████████| 10/10 [00:01<00:00,  8.43it/s]\n"
     ]
    },
    {
     "name": "stdout",
     "output_type": "stream",
     "text": [
      "./saved_models/model_4.pth\n",
      "Model 7:\n"
     ]
    },
    {
     "name": "stderr",
     "output_type": "stream",
     "text": [
      "Training Process: 100%|██████████| 10/10 [00:01<00:00,  9.64it/s]\n"
     ]
    },
    {
     "name": "stdout",
     "output_type": "stream",
     "text": [
      "./saved_models/model_7.pth\n",
      "Model 8:\n"
     ]
    },
    {
     "name": "stderr",
     "output_type": "stream",
     "text": [
      "Training Process: 100%|██████████| 10/10 [00:01<00:00,  9.51it/s]\n"
     ]
    },
    {
     "name": "stdout",
     "output_type": "stream",
     "text": [
      "./saved_models/model_8.pth\n",
      "Model 6:\n"
     ]
    },
    {
     "name": "stderr",
     "output_type": "stream",
     "text": [
      "Training Process: 100%|██████████| 10/10 [00:01<00:00,  9.13it/s]\n"
     ]
    },
    {
     "name": "stdout",
     "output_type": "stream",
     "text": [
      "./saved_models/model_6.pth\n",
      " Maximum accuracy: 0.8553819444444445, F1: 0.6761865448280863, Test: 1.0077173218131066, Train: 0.9767796675364177 \n",
      " \n",
      "\n",
      "|| TRAINING SINGLE MODEL || \n",
      "Task: Classification\n"
     ]
    },
    {
     "name": "stderr",
     "output_type": "stream",
     "text": [
      "Training Process: 100%|██████████| 70/70 [00:11<00:00,  5.95it/s]\n"
     ]
    },
    {
     "name": "stdout",
     "output_type": "stream",
     "text": [
      " Maximum accuracy: 0.7616071428571428, F1: 0.6737510183231354, Test: 0.9524382472038269, Train: 0.9464405062085106 \n",
      " \n",
      "\n",
      "Trail 42: \n",
      "\n",
      "|| TRAINING WEIGHT AVERAGING TREE ENSEMBLE ||\n",
      "Task: classification\n",
      "Randomly initializing 4 models\n",
      "Model 1:\n"
     ]
    },
    {
     "name": "stderr",
     "output_type": "stream",
     "text": [
      "Training Process: 100%|██████████| 10/10 [00:01<00:00,  9.33it/s]\n"
     ]
    },
    {
     "name": "stdout",
     "output_type": "stream",
     "text": [
      "./saved_models/model_1.pth\n",
      "Model 2:\n"
     ]
    },
    {
     "name": "stderr",
     "output_type": "stream",
     "text": [
      "Training Process: 100%|██████████| 10/10 [00:01<00:00,  8.65it/s]\n"
     ]
    },
    {
     "name": "stdout",
     "output_type": "stream",
     "text": [
      "./saved_models/model_2.pth\n",
      "Model 3:\n"
     ]
    },
    {
     "name": "stderr",
     "output_type": "stream",
     "text": [
      "Training Process: 100%|██████████| 10/10 [00:01<00:00,  7.89it/s]\n"
     ]
    },
    {
     "name": "stdout",
     "output_type": "stream",
     "text": [
      "./saved_models/model_3.pth\n",
      "Model 4:\n"
     ]
    },
    {
     "name": "stderr",
     "output_type": "stream",
     "text": [
      "Training Process: 100%|██████████| 10/10 [00:01<00:00,  6.46it/s]\n"
     ]
    },
    {
     "name": "stdout",
     "output_type": "stream",
     "text": [
      "./saved_models/model_4.pth\n",
      "Model 7:\n"
     ]
    },
    {
     "name": "stderr",
     "output_type": "stream",
     "text": [
      "Training Process: 100%|██████████| 10/10 [00:01<00:00,  6.59it/s]\n"
     ]
    },
    {
     "name": "stdout",
     "output_type": "stream",
     "text": [
      "./saved_models/model_7.pth\n",
      "Model 8:\n"
     ]
    },
    {
     "name": "stderr",
     "output_type": "stream",
     "text": [
      "Training Process: 100%|██████████| 10/10 [00:01<00:00,  7.14it/s]\n"
     ]
    },
    {
     "name": "stdout",
     "output_type": "stream",
     "text": [
      "./saved_models/model_8.pth\n",
      "Model 6:\n"
     ]
    },
    {
     "name": "stderr",
     "output_type": "stream",
     "text": [
      "Training Process: 100%|██████████| 10/10 [00:01<00:00,  8.83it/s]\n"
     ]
    },
    {
     "name": "stdout",
     "output_type": "stream",
     "text": [
      "./saved_models/model_6.pth\n",
      " Maximum accuracy: 0.8973090277777779, F1: 0.6522689807470997, Test: 0.9994280144572258, Train: 1.0292277109622956 \n",
      " \n",
      "\n",
      "|| TRAINING SINGLE MODEL || \n",
      "Task: Classification\n"
     ]
    },
    {
     "name": "stderr",
     "output_type": "stream",
     "text": [
      "Training Process: 100%|██████████| 70/70 [00:11<00:00,  5.91it/s]\n"
     ]
    },
    {
     "name": "stdout",
     "output_type": "stream",
     "text": [
      " Maximum accuracy: 0.8330605158730159, F1: 0.6686318713220104, Test: 0.8997364635978427, Train: 0.9135172367095947 \n",
      " \n",
      "\n",
      "Trail 43: \n",
      "\n",
      "|| TRAINING WEIGHT AVERAGING TREE ENSEMBLE ||\n",
      "Task: classification\n",
      "Randomly initializing 4 models\n",
      "Model 1:\n"
     ]
    },
    {
     "name": "stderr",
     "output_type": "stream",
     "text": [
      "Training Process: 100%|██████████| 10/10 [00:01<00:00,  8.73it/s]\n"
     ]
    },
    {
     "name": "stdout",
     "output_type": "stream",
     "text": [
      "./saved_models/model_1.pth\n",
      "Model 2:\n"
     ]
    },
    {
     "name": "stderr",
     "output_type": "stream",
     "text": [
      "Training Process: 100%|██████████| 10/10 [00:01<00:00,  9.21it/s]\n"
     ]
    },
    {
     "name": "stdout",
     "output_type": "stream",
     "text": [
      "./saved_models/model_2.pth\n",
      "Model 3:\n"
     ]
    },
    {
     "name": "stderr",
     "output_type": "stream",
     "text": [
      "Training Process: 100%|██████████| 10/10 [00:01<00:00,  5.26it/s]\n"
     ]
    },
    {
     "name": "stdout",
     "output_type": "stream",
     "text": [
      "./saved_models/model_3.pth\n",
      "Model 4:\n"
     ]
    },
    {
     "name": "stderr",
     "output_type": "stream",
     "text": [
      "Training Process: 100%|██████████| 10/10 [00:01<00:00,  7.80it/s]\n"
     ]
    },
    {
     "name": "stdout",
     "output_type": "stream",
     "text": [
      "./saved_models/model_4.pth\n",
      "Model 7:\n"
     ]
    },
    {
     "name": "stderr",
     "output_type": "stream",
     "text": [
      "Training Process: 100%|██████████| 10/10 [00:01<00:00,  8.94it/s]\n"
     ]
    },
    {
     "name": "stdout",
     "output_type": "stream",
     "text": [
      "./saved_models/model_7.pth\n",
      "Model 8:\n"
     ]
    },
    {
     "name": "stderr",
     "output_type": "stream",
     "text": [
      "Training Process: 100%|██████████| 10/10 [00:01<00:00,  8.47it/s]\n"
     ]
    },
    {
     "name": "stdout",
     "output_type": "stream",
     "text": [
      "./saved_models/model_8.pth\n",
      "Model 6:\n"
     ]
    },
    {
     "name": "stderr",
     "output_type": "stream",
     "text": [
      "Training Process: 100%|██████████| 10/10 [00:01<00:00,  8.44it/s]\n"
     ]
    },
    {
     "name": "stdout",
     "output_type": "stream",
     "text": [
      "./saved_models/model_6.pth\n",
      " Maximum accuracy: 0.8911458333333332, F1: 0.6667028446938167, Test: 0.98237923681736, Train: 0.9666197816530864 \n",
      " \n",
      "\n",
      "|| TRAINING SINGLE MODEL || \n",
      "Task: Classification\n"
     ]
    },
    {
     "name": "stderr",
     "output_type": "stream",
     "text": [
      "Training Process: 100%|██████████| 70/70 [00:11<00:00,  6.18it/s]\n"
     ]
    },
    {
     "name": "stdout",
     "output_type": "stream",
     "text": [
      " Maximum accuracy: 0.8559647817460317, F1: 0.7474151267653052, Test: 0.8941298282572201, Train: 0.8800727258977435 \n",
      " \n",
      "\n",
      "Trail 44: \n",
      "\n",
      "|| TRAINING WEIGHT AVERAGING TREE ENSEMBLE ||\n",
      "Task: classification\n",
      "Randomly initializing 4 models\n",
      "Model 1:\n"
     ]
    },
    {
     "name": "stderr",
     "output_type": "stream",
     "text": [
      "Training Process: 100%|██████████| 10/10 [00:01<00:00,  8.58it/s]\n"
     ]
    },
    {
     "name": "stdout",
     "output_type": "stream",
     "text": [
      "./saved_models/model_1.pth\n",
      "Model 2:\n"
     ]
    },
    {
     "name": "stderr",
     "output_type": "stream",
     "text": [
      "Training Process: 100%|██████████| 10/10 [00:01<00:00,  9.46it/s]\n"
     ]
    },
    {
     "name": "stdout",
     "output_type": "stream",
     "text": [
      "./saved_models/model_2.pth\n",
      "Model 3:\n"
     ]
    },
    {
     "name": "stderr",
     "output_type": "stream",
     "text": [
      "Training Process: 100%|██████████| 10/10 [00:01<00:00,  7.25it/s]\n"
     ]
    },
    {
     "name": "stdout",
     "output_type": "stream",
     "text": [
      "./saved_models/model_3.pth\n",
      "Model 4:\n"
     ]
    },
    {
     "name": "stderr",
     "output_type": "stream",
     "text": [
      "Training Process: 100%|██████████| 10/10 [00:01<00:00,  9.46it/s]\n"
     ]
    },
    {
     "name": "stdout",
     "output_type": "stream",
     "text": [
      "./saved_models/model_4.pth\n",
      "Model 7:\n"
     ]
    },
    {
     "name": "stderr",
     "output_type": "stream",
     "text": [
      "Training Process: 100%|██████████| 10/10 [00:01<00:00,  8.55it/s]\n"
     ]
    },
    {
     "name": "stdout",
     "output_type": "stream",
     "text": [
      "./saved_models/model_7.pth\n",
      "Model 8:\n"
     ]
    },
    {
     "name": "stderr",
     "output_type": "stream",
     "text": [
      "Training Process: 100%|██████████| 10/10 [00:01<00:00,  8.94it/s]\n"
     ]
    },
    {
     "name": "stdout",
     "output_type": "stream",
     "text": [
      "./saved_models/model_8.pth\n",
      "Model 6:\n"
     ]
    },
    {
     "name": "stderr",
     "output_type": "stream",
     "text": [
      "Training Process: 100%|██████████| 10/10 [00:01<00:00,  8.77it/s]\n"
     ]
    },
    {
     "name": "stdout",
     "output_type": "stream",
     "text": [
      "./saved_models/model_6.pth\n",
      " Maximum accuracy: 0.8026909722222222, F1: 0.6830869112647412, Test: 1.0010398209095002, Train: 1.012116779088974 \n",
      " \n",
      "\n",
      "|| TRAINING SINGLE MODEL || \n",
      "Task: Classification\n"
     ]
    },
    {
     "name": "stderr",
     "output_type": "stream",
     "text": [
      "Training Process: 100%|██████████| 70/70 [00:11<00:00,  5.84it/s]\n"
     ]
    },
    {
     "name": "stdout",
     "output_type": "stream",
     "text": [
      " Maximum accuracy: 0.8325520833333334, F1: 0.7094230589136242, Test: 0.8775144302419253, Train: 0.8895012265727633 \n",
      " \n",
      "\n",
      "Trail 45: \n",
      "\n",
      "|| TRAINING WEIGHT AVERAGING TREE ENSEMBLE ||\n",
      "Task: classification\n",
      "Randomly initializing 4 models\n",
      "Model 1:\n"
     ]
    },
    {
     "name": "stderr",
     "output_type": "stream",
     "text": [
      "Training Process: 100%|██████████| 10/10 [00:01<00:00,  6.27it/s]\n"
     ]
    },
    {
     "name": "stdout",
     "output_type": "stream",
     "text": [
      "./saved_models/model_1.pth\n",
      "Model 2:\n"
     ]
    },
    {
     "name": "stderr",
     "output_type": "stream",
     "text": [
      "Training Process: 100%|██████████| 10/10 [00:01<00:00,  8.58it/s]\n"
     ]
    },
    {
     "name": "stdout",
     "output_type": "stream",
     "text": [
      "./saved_models/model_2.pth\n",
      "Model 3:\n"
     ]
    },
    {
     "name": "stderr",
     "output_type": "stream",
     "text": [
      "Training Process: 100%|██████████| 10/10 [00:01<00:00,  8.14it/s]\n"
     ]
    },
    {
     "name": "stdout",
     "output_type": "stream",
     "text": [
      "./saved_models/model_3.pth\n",
      "Model 4:\n"
     ]
    },
    {
     "name": "stderr",
     "output_type": "stream",
     "text": [
      "Training Process: 100%|██████████| 10/10 [00:01<00:00,  8.54it/s]\n"
     ]
    },
    {
     "name": "stdout",
     "output_type": "stream",
     "text": [
      "./saved_models/model_4.pth\n",
      "Model 7:\n"
     ]
    },
    {
     "name": "stderr",
     "output_type": "stream",
     "text": [
      "Training Process: 100%|██████████| 10/10 [00:01<00:00,  8.42it/s]\n"
     ]
    },
    {
     "name": "stdout",
     "output_type": "stream",
     "text": [
      "./saved_models/model_7.pth\n",
      "Model 8:\n"
     ]
    },
    {
     "name": "stderr",
     "output_type": "stream",
     "text": [
      "Training Process: 100%|██████████| 10/10 [00:01<00:00,  8.36it/s]\n"
     ]
    },
    {
     "name": "stdout",
     "output_type": "stream",
     "text": [
      "./saved_models/model_8.pth\n",
      "Model 6:\n"
     ]
    },
    {
     "name": "stderr",
     "output_type": "stream",
     "text": [
      "Training Process: 100%|██████████| 10/10 [00:01<00:00,  9.21it/s]\n"
     ]
    },
    {
     "name": "stdout",
     "output_type": "stream",
     "text": [
      "./saved_models/model_6.pth\n",
      " Maximum accuracy: 0.9237847222222222, F1: 0.7063573363649558, Test: 0.9985476672649384, Train: 0.9926489245891571 \n",
      " \n",
      "\n",
      "|| TRAINING SINGLE MODEL || \n",
      "Task: Classification\n"
     ]
    },
    {
     "name": "stderr",
     "output_type": "stream",
     "text": [
      "Training Process: 100%|██████████| 70/70 [00:11<00:00,  6.04it/s]\n"
     ]
    },
    {
     "name": "stdout",
     "output_type": "stream",
     "text": [
      " Maximum accuracy: 0.7394469246031746, F1: 0.6606905714860317, Test: 0.9233300179243088, Train: 0.9690381487210592 \n",
      " \n",
      "\n",
      "Trail 46: \n",
      "\n",
      "|| TRAINING WEIGHT AVERAGING TREE ENSEMBLE ||\n",
      "Task: classification\n",
      "Randomly initializing 4 models\n",
      "Model 1:\n"
     ]
    },
    {
     "name": "stderr",
     "output_type": "stream",
     "text": [
      "Training Process: 100%|██████████| 10/10 [00:01<00:00,  9.78it/s]\n"
     ]
    },
    {
     "name": "stdout",
     "output_type": "stream",
     "text": [
      "./saved_models/model_1.pth\n",
      "Model 2:\n"
     ]
    },
    {
     "name": "stderr",
     "output_type": "stream",
     "text": [
      "Training Process: 100%|██████████| 10/10 [00:01<00:00,  7.81it/s]\n"
     ]
    },
    {
     "name": "stdout",
     "output_type": "stream",
     "text": [
      "./saved_models/model_2.pth\n",
      "Model 3:\n"
     ]
    },
    {
     "name": "stderr",
     "output_type": "stream",
     "text": [
      "Training Process: 100%|██████████| 10/10 [00:01<00:00,  9.02it/s]\n"
     ]
    },
    {
     "name": "stdout",
     "output_type": "stream",
     "text": [
      "./saved_models/model_3.pth\n",
      "Model 4:\n"
     ]
    },
    {
     "name": "stderr",
     "output_type": "stream",
     "text": [
      "Training Process: 100%|██████████| 10/10 [00:01<00:00,  8.31it/s]\n"
     ]
    },
    {
     "name": "stdout",
     "output_type": "stream",
     "text": [
      "./saved_models/model_4.pth\n",
      "Model 7:\n"
     ]
    },
    {
     "name": "stderr",
     "output_type": "stream",
     "text": [
      "Training Process: 100%|██████████| 10/10 [00:01<00:00,  9.61it/s]\n"
     ]
    },
    {
     "name": "stdout",
     "output_type": "stream",
     "text": [
      "./saved_models/model_7.pth\n",
      "Model 8:\n"
     ]
    },
    {
     "name": "stderr",
     "output_type": "stream",
     "text": [
      "Training Process: 100%|██████████| 10/10 [00:01<00:00,  8.65it/s]\n"
     ]
    },
    {
     "name": "stdout",
     "output_type": "stream",
     "text": [
      "./saved_models/model_8.pth\n",
      "Model 6:\n"
     ]
    },
    {
     "name": "stderr",
     "output_type": "stream",
     "text": [
      "Training Process: 100%|██████████| 10/10 [00:01<00:00,  8.34it/s]\n"
     ]
    },
    {
     "name": "stdout",
     "output_type": "stream",
     "text": [
      "./saved_models/model_6.pth\n",
      " Maximum accuracy: 0.9171006944444443, F1: 0.6805296387071261, Test: 0.9940034851431847, Train: 1.00926611383756 \n",
      " \n",
      "\n",
      "|| TRAINING SINGLE MODEL || \n",
      "Task: Classification\n"
     ]
    },
    {
     "name": "stderr",
     "output_type": "stream",
     "text": [
      "Training Process: 100%|██████████| 70/70 [00:13<00:00,  5.24it/s]\n"
     ]
    },
    {
     "name": "stdout",
     "output_type": "stream",
     "text": [
      " Maximum accuracy: 0.8580729166666667, F1: 0.6928818674374747, Test: 0.874726207128593, Train: 0.9206255872476669 \n",
      " \n",
      "\n",
      "Trail 47: \n",
      "\n",
      "|| TRAINING WEIGHT AVERAGING TREE ENSEMBLE ||\n",
      "Task: classification\n",
      "Randomly initializing 4 models\n",
      "Model 1:\n"
     ]
    },
    {
     "name": "stderr",
     "output_type": "stream",
     "text": [
      "Training Process: 100%|██████████| 10/10 [00:01<00:00,  9.20it/s]\n"
     ]
    },
    {
     "name": "stdout",
     "output_type": "stream",
     "text": [
      "./saved_models/model_1.pth\n",
      "Model 2:\n"
     ]
    },
    {
     "name": "stderr",
     "output_type": "stream",
     "text": [
      "Training Process: 100%|██████████| 10/10 [00:01<00:00,  7.60it/s]\n"
     ]
    },
    {
     "name": "stdout",
     "output_type": "stream",
     "text": [
      "./saved_models/model_2.pth\n",
      "Model 3:\n"
     ]
    },
    {
     "name": "stderr",
     "output_type": "stream",
     "text": [
      "Training Process: 100%|██████████| 10/10 [00:01<00:00,  8.64it/s]\n"
     ]
    },
    {
     "name": "stdout",
     "output_type": "stream",
     "text": [
      "./saved_models/model_3.pth\n",
      "Model 4:\n"
     ]
    },
    {
     "name": "stderr",
     "output_type": "stream",
     "text": [
      "Training Process: 100%|██████████| 10/10 [00:01<00:00,  7.87it/s]\n"
     ]
    },
    {
     "name": "stdout",
     "output_type": "stream",
     "text": [
      "./saved_models/model_4.pth\n",
      "Model 7:\n"
     ]
    },
    {
     "name": "stderr",
     "output_type": "stream",
     "text": [
      "Training Process: 100%|██████████| 10/10 [00:01<00:00,  9.18it/s]\n"
     ]
    },
    {
     "name": "stdout",
     "output_type": "stream",
     "text": [
      "./saved_models/model_7.pth\n",
      "Model 8:\n"
     ]
    },
    {
     "name": "stderr",
     "output_type": "stream",
     "text": [
      "Training Process: 100%|██████████| 10/10 [00:01<00:00,  8.44it/s]\n"
     ]
    },
    {
     "name": "stdout",
     "output_type": "stream",
     "text": [
      "./saved_models/model_8.pth\n",
      "Model 6:\n"
     ]
    },
    {
     "name": "stderr",
     "output_type": "stream",
     "text": [
      "Training Process: 100%|██████████| 10/10 [00:01<00:00,  9.63it/s]\n"
     ]
    },
    {
     "name": "stdout",
     "output_type": "stream",
     "text": [
      "./saved_models/model_6.pth\n",
      " Maximum accuracy: 0.9105902777777779, F1: 0.7378014788087668, Test: 0.9669762521982193, Train: 0.9609912892182668 \n",
      " \n",
      "\n",
      "|| TRAINING SINGLE MODEL || \n",
      "Task: Classification\n"
     ]
    },
    {
     "name": "stderr",
     "output_type": "stream",
     "text": [
      "Training Process: 100%|██████████| 70/70 [00:12<00:00,  5.63it/s]\n"
     ]
    },
    {
     "name": "stdout",
     "output_type": "stream",
     "text": [
      " Maximum accuracy: 0.7300099206349207, F1: 0.695228398828418, Test: 0.9199450311916215, Train: 0.9441949268749782 \n",
      " \n",
      "\n",
      "Trail 48: \n",
      "\n",
      "|| TRAINING WEIGHT AVERAGING TREE ENSEMBLE ||\n",
      "Task: classification\n",
      "Randomly initializing 4 models\n",
      "Model 1:\n"
     ]
    },
    {
     "name": "stderr",
     "output_type": "stream",
     "text": [
      "Training Process: 100%|██████████| 10/10 [00:01<00:00,  8.32it/s]\n"
     ]
    },
    {
     "name": "stdout",
     "output_type": "stream",
     "text": [
      "./saved_models/model_1.pth\n",
      "Model 2:\n"
     ]
    },
    {
     "name": "stderr",
     "output_type": "stream",
     "text": [
      "Training Process: 100%|██████████| 10/10 [00:01<00:00,  8.34it/s]\n"
     ]
    },
    {
     "name": "stdout",
     "output_type": "stream",
     "text": [
      "./saved_models/model_2.pth\n",
      "Model 3:\n"
     ]
    },
    {
     "name": "stderr",
     "output_type": "stream",
     "text": [
      "Training Process: 100%|██████████| 10/10 [00:01<00:00,  8.58it/s]\n"
     ]
    },
    {
     "name": "stdout",
     "output_type": "stream",
     "text": [
      "./saved_models/model_3.pth\n",
      "Model 4:\n"
     ]
    },
    {
     "name": "stderr",
     "output_type": "stream",
     "text": [
      "Training Process: 100%|██████████| 10/10 [00:01<00:00,  8.31it/s]\n"
     ]
    },
    {
     "name": "stdout",
     "output_type": "stream",
     "text": [
      "./saved_models/model_4.pth\n",
      "Model 7:\n"
     ]
    },
    {
     "name": "stderr",
     "output_type": "stream",
     "text": [
      "Training Process: 100%|██████████| 10/10 [00:01<00:00,  9.29it/s]\n"
     ]
    },
    {
     "name": "stdout",
     "output_type": "stream",
     "text": [
      "./saved_models/model_7.pth\n",
      "Model 8:\n"
     ]
    },
    {
     "name": "stderr",
     "output_type": "stream",
     "text": [
      "Training Process: 100%|██████████| 10/10 [00:01<00:00,  8.42it/s]\n"
     ]
    },
    {
     "name": "stdout",
     "output_type": "stream",
     "text": [
      "./saved_models/model_8.pth\n",
      "Model 6:\n"
     ]
    },
    {
     "name": "stderr",
     "output_type": "stream",
     "text": [
      "Training Process: 100%|██████████| 10/10 [00:01<00:00,  8.62it/s]\n"
     ]
    },
    {
     "name": "stdout",
     "output_type": "stream",
     "text": [
      "./saved_models/model_6.pth\n",
      " Maximum accuracy: 0.7818576388888889, F1: 0.6679924217449518, Test: 0.9923190653324128, Train: 0.9988905624548594 \n",
      " \n",
      "\n",
      "|| TRAINING SINGLE MODEL || \n",
      "Task: Classification\n"
     ]
    },
    {
     "name": "stderr",
     "output_type": "stream",
     "text": [
      "Training Process: 100%|██████████| 70/70 [00:11<00:00,  5.88it/s]\n"
     ]
    },
    {
     "name": "stdout",
     "output_type": "stream",
     "text": [
      " Maximum accuracy: 0.8082465277777777, F1: 0.7196590992301659, Test: 0.8730139396020344, Train: 0.9252320430959974 \n",
      " \n",
      "\n",
      "Trail 49: \n",
      "\n",
      "|| TRAINING WEIGHT AVERAGING TREE ENSEMBLE ||\n",
      "Task: classification\n",
      "Randomly initializing 4 models\n",
      "Model 1:\n"
     ]
    },
    {
     "name": "stderr",
     "output_type": "stream",
     "text": [
      "Training Process: 100%|██████████| 10/10 [00:01<00:00,  5.73it/s]\n"
     ]
    },
    {
     "name": "stdout",
     "output_type": "stream",
     "text": [
      "./saved_models/model_1.pth\n",
      "Model 2:\n"
     ]
    },
    {
     "name": "stderr",
     "output_type": "stream",
     "text": [
      "Training Process: 100%|██████████| 10/10 [00:03<00:00,  3.17it/s]\n"
     ]
    },
    {
     "name": "stdout",
     "output_type": "stream",
     "text": [
      "./saved_models/model_2.pth\n",
      "Model 3:\n"
     ]
    },
    {
     "name": "stderr",
     "output_type": "stream",
     "text": [
      "Training Process: 100%|██████████| 10/10 [00:01<00:00,  8.38it/s]\n"
     ]
    },
    {
     "name": "stdout",
     "output_type": "stream",
     "text": [
      "./saved_models/model_3.pth\n",
      "Model 4:\n"
     ]
    },
    {
     "name": "stderr",
     "output_type": "stream",
     "text": [
      "Training Process: 100%|██████████| 10/10 [00:00<00:00, 10.42it/s]\n"
     ]
    },
    {
     "name": "stdout",
     "output_type": "stream",
     "text": [
      "./saved_models/model_4.pth\n",
      "Model 7:\n"
     ]
    },
    {
     "name": "stderr",
     "output_type": "stream",
     "text": [
      "Training Process: 100%|██████████| 10/10 [00:00<00:00, 10.52it/s]\n"
     ]
    },
    {
     "name": "stdout",
     "output_type": "stream",
     "text": [
      "./saved_models/model_7.pth\n",
      "Model 8:\n"
     ]
    },
    {
     "name": "stderr",
     "output_type": "stream",
     "text": [
      "Training Process: 100%|██████████| 10/10 [00:00<00:00, 10.77it/s]\n"
     ]
    },
    {
     "name": "stdout",
     "output_type": "stream",
     "text": [
      "./saved_models/model_8.pth\n",
      "Model 6:\n"
     ]
    },
    {
     "name": "stderr",
     "output_type": "stream",
     "text": [
      "Training Process: 100%|██████████| 10/10 [00:01<00:00,  9.60it/s]\n"
     ]
    },
    {
     "name": "stdout",
     "output_type": "stream",
     "text": [
      "./saved_models/model_6.pth\n",
      " Maximum accuracy: 0.8566840277777779, F1: 0.7366485417046533, Test: 0.9998331502079963, Train: 0.9837933301925659 \n",
      " \n",
      "\n",
      "|| TRAINING SINGLE MODEL || \n",
      "Task: Classification\n"
     ]
    },
    {
     "name": "stderr",
     "output_type": "stream",
     "text": [
      "Training Process: 100%|██████████| 70/70 [00:10<00:00,  6.82it/s]\n"
     ]
    },
    {
     "name": "stdout",
     "output_type": "stream",
     "text": [
      " Maximum accuracy: 0.8472594246031746, F1: 0.753109311424096, Test: 0.8483261440481459, Train: 0.8871380427337828 \n",
      " \n",
      "\n",
      "Trail 50: \n",
      "\n",
      "|| TRAINING WEIGHT AVERAGING TREE ENSEMBLE ||\n",
      "Task: classification\n",
      "Randomly initializing 4 models\n",
      "Model 1:\n"
     ]
    },
    {
     "name": "stderr",
     "output_type": "stream",
     "text": [
      "Training Process: 100%|██████████| 10/10 [00:00<00:00, 11.67it/s]\n"
     ]
    },
    {
     "name": "stdout",
     "output_type": "stream",
     "text": [
      "./saved_models/model_1.pth\n",
      "Model 2:\n"
     ]
    },
    {
     "name": "stderr",
     "output_type": "stream",
     "text": [
      "Training Process: 100%|██████████| 10/10 [00:00<00:00, 10.30it/s]\n"
     ]
    },
    {
     "name": "stdout",
     "output_type": "stream",
     "text": [
      "./saved_models/model_2.pth\n",
      "Model 3:\n"
     ]
    },
    {
     "name": "stderr",
     "output_type": "stream",
     "text": [
      "Training Process: 100%|██████████| 10/10 [00:01<00:00,  9.72it/s]\n"
     ]
    },
    {
     "name": "stdout",
     "output_type": "stream",
     "text": [
      "./saved_models/model_3.pth\n",
      "Model 4:\n"
     ]
    },
    {
     "name": "stderr",
     "output_type": "stream",
     "text": [
      "Training Process: 100%|██████████| 10/10 [00:01<00:00,  8.84it/s]\n"
     ]
    },
    {
     "name": "stdout",
     "output_type": "stream",
     "text": [
      "./saved_models/model_4.pth\n",
      "Model 7:\n"
     ]
    },
    {
     "name": "stderr",
     "output_type": "stream",
     "text": [
      "Training Process: 100%|██████████| 10/10 [00:00<00:00, 10.03it/s]\n"
     ]
    },
    {
     "name": "stdout",
     "output_type": "stream",
     "text": [
      "./saved_models/model_7.pth\n",
      "Model 8:\n"
     ]
    },
    {
     "name": "stderr",
     "output_type": "stream",
     "text": [
      "Training Process: 100%|██████████| 10/10 [00:00<00:00, 10.83it/s]\n"
     ]
    },
    {
     "name": "stdout",
     "output_type": "stream",
     "text": [
      "./saved_models/model_8.pth\n",
      "Model 6:\n"
     ]
    },
    {
     "name": "stderr",
     "output_type": "stream",
     "text": [
      "Training Process: 100%|██████████| 10/10 [00:01<00:00,  8.61it/s]\n"
     ]
    },
    {
     "name": "stdout",
     "output_type": "stream",
     "text": [
      "./saved_models/model_6.pth\n",
      " Maximum accuracy: 0.9059895833333333, F1: 0.742260916614479, Test: 0.8990066826343537, Train: 0.9571788104375204 \n",
      " \n",
      "\n",
      "|| TRAINING SINGLE MODEL || \n",
      "Task: Classification\n"
     ]
    },
    {
     "name": "stderr",
     "output_type": "stream",
     "text": [
      "Training Process: 100%|██████████| 70/70 [00:10<00:00,  6.43it/s]\n"
     ]
    },
    {
     "name": "stdout",
     "output_type": "stream",
     "text": [
      " Maximum accuracy: 0.8348338293650794, F1: 0.7472403089527236, Test: 0.880239502446992, Train: 0.9074889320986611 \n",
      " \n",
      "\n",
      "Trail 51: \n",
      "\n",
      "|| TRAINING WEIGHT AVERAGING TREE ENSEMBLE ||\n",
      "Task: classification\n",
      "Randomly initializing 4 models\n",
      "Model 1:\n"
     ]
    },
    {
     "name": "stderr",
     "output_type": "stream",
     "text": [
      "Training Process: 100%|██████████| 10/10 [00:00<00:00, 10.61it/s]\n"
     ]
    },
    {
     "name": "stdout",
     "output_type": "stream",
     "text": [
      "./saved_models/model_1.pth\n",
      "Model 2:\n"
     ]
    },
    {
     "name": "stderr",
     "output_type": "stream",
     "text": [
      "Training Process: 100%|██████████| 10/10 [00:01<00:00,  9.70it/s]\n"
     ]
    },
    {
     "name": "stdout",
     "output_type": "stream",
     "text": [
      "./saved_models/model_2.pth\n",
      "Model 3:\n"
     ]
    },
    {
     "name": "stderr",
     "output_type": "stream",
     "text": [
      "Training Process: 100%|██████████| 10/10 [00:01<00:00,  8.54it/s]\n"
     ]
    },
    {
     "name": "stdout",
     "output_type": "stream",
     "text": [
      "./saved_models/model_3.pth\n",
      "Model 4:\n"
     ]
    },
    {
     "name": "stderr",
     "output_type": "stream",
     "text": [
      "Training Process: 100%|██████████| 10/10 [00:01<00:00,  9.59it/s]\n"
     ]
    },
    {
     "name": "stdout",
     "output_type": "stream",
     "text": [
      "./saved_models/model_4.pth\n",
      "Model 7:\n"
     ]
    },
    {
     "name": "stderr",
     "output_type": "stream",
     "text": [
      "Training Process: 100%|██████████| 10/10 [00:01<00:00,  9.83it/s]\n"
     ]
    },
    {
     "name": "stdout",
     "output_type": "stream",
     "text": [
      "./saved_models/model_7.pth\n",
      "Model 8:\n"
     ]
    },
    {
     "name": "stderr",
     "output_type": "stream",
     "text": [
      "Training Process: 100%|██████████| 10/10 [00:01<00:00,  8.48it/s]\n"
     ]
    },
    {
     "name": "stdout",
     "output_type": "stream",
     "text": [
      "./saved_models/model_8.pth\n",
      "Model 6:\n"
     ]
    },
    {
     "name": "stderr",
     "output_type": "stream",
     "text": [
      "Training Process: 100%|██████████| 10/10 [00:01<00:00,  9.07it/s]\n"
     ]
    },
    {
     "name": "stdout",
     "output_type": "stream",
     "text": [
      "./saved_models/model_6.pth\n",
      " Maximum accuracy: 0.814670138888889, F1: 0.6275939981909174, Test: 1.0311588585376739, Train: 1.0417428465684255 \n",
      " \n",
      "\n",
      "|| TRAINING SINGLE MODEL || \n",
      "Task: Classification\n"
     ]
    },
    {
     "name": "stderr",
     "output_type": "stream",
     "text": [
      "Training Process: 100%|██████████| 70/70 [00:09<00:00,  7.00it/s]\n"
     ]
    },
    {
     "name": "stdout",
     "output_type": "stream",
     "text": [
      " Maximum accuracy: 0.8054439484126984, F1: 0.6896180633420529, Test: 0.9289403832384519, Train: 0.9222619197482155 \n",
      " \n",
      "\n",
      "Trail 52: \n",
      "\n",
      "|| TRAINING WEIGHT AVERAGING TREE ENSEMBLE ||\n",
      "Task: classification\n",
      "Randomly initializing 4 models\n",
      "Model 1:\n"
     ]
    },
    {
     "name": "stderr",
     "output_type": "stream",
     "text": [
      "Training Process: 100%|██████████| 10/10 [00:00<00:00, 10.06it/s]\n"
     ]
    },
    {
     "name": "stdout",
     "output_type": "stream",
     "text": [
      "./saved_models/model_1.pth\n",
      "Model 2:\n"
     ]
    },
    {
     "name": "stderr",
     "output_type": "stream",
     "text": [
      "Training Process: 100%|██████████| 10/10 [00:01<00:00,  9.70it/s]\n"
     ]
    },
    {
     "name": "stdout",
     "output_type": "stream",
     "text": [
      "./saved_models/model_2.pth\n",
      "Model 3:\n"
     ]
    },
    {
     "name": "stderr",
     "output_type": "stream",
     "text": [
      "Training Process: 100%|██████████| 10/10 [00:01<00:00,  7.67it/s]\n"
     ]
    },
    {
     "name": "stdout",
     "output_type": "stream",
     "text": [
      "./saved_models/model_3.pth\n",
      "Model 4:\n"
     ]
    },
    {
     "name": "stderr",
     "output_type": "stream",
     "text": [
      "Training Process: 100%|██████████| 10/10 [00:00<00:00, 10.03it/s]\n"
     ]
    },
    {
     "name": "stdout",
     "output_type": "stream",
     "text": [
      "./saved_models/model_4.pth\n",
      "Model 7:\n"
     ]
    },
    {
     "name": "stderr",
     "output_type": "stream",
     "text": [
      "Training Process: 100%|██████████| 10/10 [00:00<00:00, 10.01it/s]\n"
     ]
    },
    {
     "name": "stdout",
     "output_type": "stream",
     "text": [
      "./saved_models/model_7.pth\n",
      "Model 8:\n"
     ]
    },
    {
     "name": "stderr",
     "output_type": "stream",
     "text": [
      "Training Process: 100%|██████████| 10/10 [00:01<00:00,  8.88it/s]\n"
     ]
    },
    {
     "name": "stdout",
     "output_type": "stream",
     "text": [
      "./saved_models/model_8.pth\n",
      "Model 6:\n"
     ]
    },
    {
     "name": "stderr",
     "output_type": "stream",
     "text": [
      "Training Process: 100%|██████████| 10/10 [00:01<00:00,  8.48it/s]\n"
     ]
    },
    {
     "name": "stdout",
     "output_type": "stream",
     "text": [
      "./saved_models/model_6.pth\n",
      " Maximum accuracy: 0.7880208333333333, F1: 0.6213289175794467, Test: 1.02287914454937, Train: 1.007574642499288 \n",
      " \n",
      "\n",
      "|| TRAINING SINGLE MODEL || \n",
      "Task: Classification\n"
     ]
    },
    {
     "name": "stderr",
     "output_type": "stream",
     "text": [
      "Training Process: 100%|██████████| 70/70 [00:10<00:00,  6.81it/s]\n"
     ]
    },
    {
     "name": "stdout",
     "output_type": "stream",
     "text": [
      " Maximum accuracy: 0.7813988095238095, F1: 0.664941804636112, Test: 0.8935087235910552, Train: 0.9208437487624941 \n",
      " \n",
      "\n",
      "Trail 53: \n",
      "\n",
      "|| TRAINING WEIGHT AVERAGING TREE ENSEMBLE ||\n",
      "Task: classification\n",
      "Randomly initializing 4 models\n",
      "Model 1:\n"
     ]
    },
    {
     "name": "stderr",
     "output_type": "stream",
     "text": [
      "Training Process: 100%|██████████| 10/10 [00:00<00:00, 10.64it/s]\n"
     ]
    },
    {
     "name": "stdout",
     "output_type": "stream",
     "text": [
      "./saved_models/model_1.pth\n",
      "Model 2:\n"
     ]
    },
    {
     "name": "stderr",
     "output_type": "stream",
     "text": [
      "Training Process: 100%|██████████| 10/10 [00:00<00:00, 10.04it/s]\n"
     ]
    },
    {
     "name": "stdout",
     "output_type": "stream",
     "text": [
      "./saved_models/model_2.pth\n",
      "Model 3:\n"
     ]
    },
    {
     "name": "stderr",
     "output_type": "stream",
     "text": [
      "Training Process: 100%|██████████| 10/10 [00:01<00:00,  8.91it/s]\n"
     ]
    },
    {
     "name": "stdout",
     "output_type": "stream",
     "text": [
      "./saved_models/model_3.pth\n",
      "Model 4:\n"
     ]
    },
    {
     "name": "stderr",
     "output_type": "stream",
     "text": [
      "Training Process: 100%|██████████| 10/10 [00:01<00:00,  9.41it/s]\n"
     ]
    },
    {
     "name": "stdout",
     "output_type": "stream",
     "text": [
      "./saved_models/model_4.pth\n",
      "Model 7:\n"
     ]
    },
    {
     "name": "stderr",
     "output_type": "stream",
     "text": [
      "Training Process: 100%|██████████| 10/10 [00:00<00:00, 11.24it/s]\n"
     ]
    },
    {
     "name": "stdout",
     "output_type": "stream",
     "text": [
      "./saved_models/model_7.pth\n",
      "Model 8:\n"
     ]
    },
    {
     "name": "stderr",
     "output_type": "stream",
     "text": [
      "Training Process: 100%|██████████| 10/10 [00:01<00:00,  8.92it/s]\n"
     ]
    },
    {
     "name": "stdout",
     "output_type": "stream",
     "text": [
      "./saved_models/model_8.pth\n",
      "Model 6:\n"
     ]
    },
    {
     "name": "stderr",
     "output_type": "stream",
     "text": [
      "Training Process: 100%|██████████| 10/10 [00:00<00:00, 10.96it/s]\n"
     ]
    },
    {
     "name": "stdout",
     "output_type": "stream",
     "text": [
      "./saved_models/model_6.pth\n",
      " Maximum accuracy: 0.9056423611111111, F1: 0.682761993275369, Test: 0.9863921210169793, Train: 0.9725748908519745 \n",
      " \n",
      "\n",
      "|| TRAINING SINGLE MODEL || \n",
      "Task: Classification\n"
     ]
    },
    {
     "name": "stderr",
     "output_type": "stream",
     "text": [
      "Training Process: 100%|██████████| 70/70 [00:10<00:00,  6.86it/s]\n"
     ]
    },
    {
     "name": "stdout",
     "output_type": "stream",
     "text": [
      " Maximum accuracy: 0.772532242063492, F1: 0.7017779518293598, Test: 0.9146744310855865, Train: 0.9295125734806061 \n",
      " \n",
      "\n",
      "Trail 54: \n",
      "\n",
      "|| TRAINING WEIGHT AVERAGING TREE ENSEMBLE ||\n",
      "Task: classification\n",
      "Randomly initializing 4 models\n",
      "Model 1:\n"
     ]
    },
    {
     "name": "stderr",
     "output_type": "stream",
     "text": [
      "Training Process: 100%|██████████| 10/10 [00:01<00:00, 10.00it/s]\n"
     ]
    },
    {
     "name": "stdout",
     "output_type": "stream",
     "text": [
      "./saved_models/model_1.pth\n",
      "Model 2:\n"
     ]
    },
    {
     "name": "stderr",
     "output_type": "stream",
     "text": [
      "Training Process: 100%|██████████| 10/10 [00:01<00:00,  9.84it/s]\n"
     ]
    },
    {
     "name": "stdout",
     "output_type": "stream",
     "text": [
      "./saved_models/model_2.pth\n",
      "Model 3:\n"
     ]
    },
    {
     "name": "stderr",
     "output_type": "stream",
     "text": [
      "Training Process: 100%|██████████| 10/10 [00:01<00:00,  8.01it/s]\n"
     ]
    },
    {
     "name": "stdout",
     "output_type": "stream",
     "text": [
      "./saved_models/model_3.pth\n",
      "Model 4:\n"
     ]
    },
    {
     "name": "stderr",
     "output_type": "stream",
     "text": [
      "Training Process: 100%|██████████| 10/10 [00:01<00:00,  8.46it/s]\n"
     ]
    },
    {
     "name": "stdout",
     "output_type": "stream",
     "text": [
      "./saved_models/model_4.pth\n",
      "Model 7:\n"
     ]
    },
    {
     "name": "stderr",
     "output_type": "stream",
     "text": [
      "Training Process: 100%|██████████| 10/10 [00:01<00:00,  7.82it/s]\n"
     ]
    },
    {
     "name": "stdout",
     "output_type": "stream",
     "text": [
      "./saved_models/model_7.pth\n",
      "Model 8:\n"
     ]
    },
    {
     "name": "stderr",
     "output_type": "stream",
     "text": [
      "Training Process: 100%|██████████| 10/10 [00:01<00:00,  9.46it/s]\n"
     ]
    },
    {
     "name": "stdout",
     "output_type": "stream",
     "text": [
      "./saved_models/model_8.pth\n",
      "Model 6:\n"
     ]
    },
    {
     "name": "stderr",
     "output_type": "stream",
     "text": [
      "Training Process: 100%|██████████| 10/10 [00:01<00:00,  9.67it/s]\n"
     ]
    },
    {
     "name": "stdout",
     "output_type": "stream",
     "text": [
      "./saved_models/model_6.pth\n",
      " Maximum accuracy: 0.6952256944444445, F1: 0.5685838083376894, Test: 1.020449423789978, Train: 1.0216894090175628 \n",
      " \n",
      "\n",
      "|| TRAINING SINGLE MODEL || \n",
      "Task: Classification\n"
     ]
    },
    {
     "name": "stderr",
     "output_type": "stream",
     "text": [
      "Training Process: 100%|██████████| 70/70 [00:09<00:00,  7.03it/s]\n"
     ]
    },
    {
     "name": "stdout",
     "output_type": "stream",
     "text": [
      " Maximum accuracy: 0.8620907738095239, F1: 0.7357091491612229, Test: 0.8681917665260178, Train: 0.8923327738898141 \n",
      " \n",
      "\n",
      "Trail 55: \n",
      "\n",
      "|| TRAINING WEIGHT AVERAGING TREE ENSEMBLE ||\n",
      "Task: classification\n",
      "Randomly initializing 4 models\n",
      "Model 1:\n"
     ]
    },
    {
     "name": "stderr",
     "output_type": "stream",
     "text": [
      "Training Process: 100%|██████████| 10/10 [00:00<00:00, 12.43it/s]\n"
     ]
    },
    {
     "name": "stdout",
     "output_type": "stream",
     "text": [
      "./saved_models/model_1.pth\n",
      "Model 2:\n"
     ]
    },
    {
     "name": "stderr",
     "output_type": "stream",
     "text": [
      "Training Process: 100%|██████████| 10/10 [00:00<00:00, 11.72it/s]\n"
     ]
    },
    {
     "name": "stdout",
     "output_type": "stream",
     "text": [
      "./saved_models/model_2.pth\n",
      "Model 3:\n"
     ]
    },
    {
     "name": "stderr",
     "output_type": "stream",
     "text": [
      "Training Process: 100%|██████████| 10/10 [00:00<00:00, 10.90it/s]\n"
     ]
    },
    {
     "name": "stdout",
     "output_type": "stream",
     "text": [
      "./saved_models/model_3.pth\n",
      "Model 4:\n"
     ]
    },
    {
     "name": "stderr",
     "output_type": "stream",
     "text": [
      "Training Process: 100%|██████████| 10/10 [00:01<00:00,  8.50it/s]\n"
     ]
    },
    {
     "name": "stdout",
     "output_type": "stream",
     "text": [
      "./saved_models/model_4.pth\n",
      "Model 7:\n"
     ]
    },
    {
     "name": "stderr",
     "output_type": "stream",
     "text": [
      "Training Process: 100%|██████████| 10/10 [00:01<00:00,  8.46it/s]\n"
     ]
    },
    {
     "name": "stdout",
     "output_type": "stream",
     "text": [
      "./saved_models/model_7.pth\n",
      "Model 8:\n"
     ]
    },
    {
     "name": "stderr",
     "output_type": "stream",
     "text": [
      "Training Process: 100%|██████████| 10/10 [00:00<00:00, 11.19it/s]\n"
     ]
    },
    {
     "name": "stdout",
     "output_type": "stream",
     "text": [
      "./saved_models/model_8.pth\n",
      "Model 6:\n"
     ]
    },
    {
     "name": "stderr",
     "output_type": "stream",
     "text": [
      "Training Process: 100%|██████████| 10/10 [00:00<00:00, 11.39it/s]\n"
     ]
    },
    {
     "name": "stdout",
     "output_type": "stream",
     "text": [
      "./saved_models/model_6.pth\n",
      " Maximum accuracy: 0.6813368055555555, F1: 0.5311094682717452, Test: 0.9963293880224228, Train: 1.0112790604432425 \n",
      " \n",
      "\n",
      "|| TRAINING SINGLE MODEL || \n",
      "Task: Classification\n"
     ]
    },
    {
     "name": "stderr",
     "output_type": "stream",
     "text": [
      "Training Process: 100%|██████████| 70/70 [00:11<00:00,  6.32it/s]\n"
     ]
    },
    {
     "name": "stdout",
     "output_type": "stream",
     "text": [
      " Maximum accuracy: 0.8607390873015873, F1: 0.7247821764000156, Test: 0.8777523555925915, Train: 0.9088615865934463 \n",
      " \n",
      "\n",
      "Trail 56: \n",
      "\n",
      "|| TRAINING WEIGHT AVERAGING TREE ENSEMBLE ||\n",
      "Task: classification\n",
      "Randomly initializing 4 models\n",
      "Model 1:\n"
     ]
    },
    {
     "name": "stderr",
     "output_type": "stream",
     "text": [
      "Training Process: 100%|██████████| 10/10 [00:01<00:00,  8.45it/s]\n"
     ]
    },
    {
     "name": "stdout",
     "output_type": "stream",
     "text": [
      "./saved_models/model_1.pth\n",
      "Model 2:\n"
     ]
    },
    {
     "name": "stderr",
     "output_type": "stream",
     "text": [
      "Training Process: 100%|██████████| 10/10 [00:01<00:00,  8.09it/s]\n"
     ]
    },
    {
     "name": "stdout",
     "output_type": "stream",
     "text": [
      "./saved_models/model_2.pth\n",
      "Model 3:\n"
     ]
    },
    {
     "name": "stderr",
     "output_type": "stream",
     "text": [
      "Training Process: 100%|██████████| 10/10 [00:01<00:00,  7.58it/s]\n"
     ]
    },
    {
     "name": "stdout",
     "output_type": "stream",
     "text": [
      "./saved_models/model_3.pth\n",
      "Model 4:\n"
     ]
    },
    {
     "name": "stderr",
     "output_type": "stream",
     "text": [
      "Training Process: 100%|██████████| 10/10 [00:01<00:00,  6.85it/s]\n"
     ]
    },
    {
     "name": "stdout",
     "output_type": "stream",
     "text": [
      "./saved_models/model_4.pth\n",
      "Model 7:\n"
     ]
    },
    {
     "name": "stderr",
     "output_type": "stream",
     "text": [
      "Training Process: 100%|██████████| 10/10 [00:01<00:00,  7.52it/s]\n"
     ]
    },
    {
     "name": "stdout",
     "output_type": "stream",
     "text": [
      "./saved_models/model_7.pth\n",
      "Model 8:\n"
     ]
    },
    {
     "name": "stderr",
     "output_type": "stream",
     "text": [
      "Training Process: 100%|██████████| 10/10 [00:01<00:00,  7.89it/s]\n"
     ]
    },
    {
     "name": "stdout",
     "output_type": "stream",
     "text": [
      "./saved_models/model_8.pth\n",
      "Model 6:\n"
     ]
    },
    {
     "name": "stderr",
     "output_type": "stream",
     "text": [
      "Training Process: 100%|██████████| 10/10 [00:01<00:00,  8.04it/s]\n"
     ]
    },
    {
     "name": "stdout",
     "output_type": "stream",
     "text": [
      "./saved_models/model_6.pth\n",
      " Maximum accuracy: 0.7953993055555555, F1: 0.6802886209883665, Test: 1.0127542272210122, Train: 0.9955554668108623 \n",
      " \n",
      "\n",
      "|| TRAINING SINGLE MODEL || \n",
      "Task: Classification\n"
     ]
    },
    {
     "name": "stderr",
     "output_type": "stream",
     "text": [
      "Training Process: 100%|██████████| 70/70 [00:12<00:00,  5.82it/s]\n"
     ]
    },
    {
     "name": "stdout",
     "output_type": "stream",
     "text": [
      " Maximum accuracy: 0.706014384920635, F1: 0.6158467302892326, Test: 0.9010045898812158, Train: 0.993799954085123 \n",
      " \n",
      "\n",
      "Trail 57: \n",
      "\n",
      "|| TRAINING WEIGHT AVERAGING TREE ENSEMBLE ||\n",
      "Task: classification\n",
      "Randomly initializing 4 models\n",
      "Model 1:\n"
     ]
    },
    {
     "name": "stderr",
     "output_type": "stream",
     "text": [
      "Training Process: 100%|██████████| 10/10 [00:01<00:00,  8.71it/s]\n"
     ]
    },
    {
     "name": "stdout",
     "output_type": "stream",
     "text": [
      "./saved_models/model_1.pth\n",
      "Model 2:\n"
     ]
    },
    {
     "name": "stderr",
     "output_type": "stream",
     "text": [
      "Training Process: 100%|██████████| 10/10 [00:01<00:00,  8.85it/s]\n"
     ]
    },
    {
     "name": "stdout",
     "output_type": "stream",
     "text": [
      "./saved_models/model_2.pth\n",
      "Model 3:\n"
     ]
    },
    {
     "name": "stderr",
     "output_type": "stream",
     "text": [
      "Training Process: 100%|██████████| 10/10 [00:01<00:00,  8.28it/s]\n"
     ]
    },
    {
     "name": "stdout",
     "output_type": "stream",
     "text": [
      "./saved_models/model_3.pth\n",
      "Model 4:\n"
     ]
    },
    {
     "name": "stderr",
     "output_type": "stream",
     "text": [
      "Training Process: 100%|██████████| 10/10 [00:01<00:00,  7.96it/s]\n"
     ]
    },
    {
     "name": "stdout",
     "output_type": "stream",
     "text": [
      "./saved_models/model_4.pth\n",
      "Model 7:\n"
     ]
    },
    {
     "name": "stderr",
     "output_type": "stream",
     "text": [
      "Training Process: 100%|██████████| 10/10 [00:01<00:00,  8.72it/s]\n"
     ]
    },
    {
     "name": "stdout",
     "output_type": "stream",
     "text": [
      "./saved_models/model_7.pth\n",
      "Model 8:\n"
     ]
    },
    {
     "name": "stderr",
     "output_type": "stream",
     "text": [
      "Training Process: 100%|██████████| 10/10 [00:01<00:00,  7.21it/s]\n"
     ]
    },
    {
     "name": "stdout",
     "output_type": "stream",
     "text": [
      "./saved_models/model_8.pth\n",
      "Model 6:\n"
     ]
    },
    {
     "name": "stderr",
     "output_type": "stream",
     "text": [
      "Training Process: 100%|██████████| 10/10 [00:01<00:00,  6.71it/s]\n"
     ]
    },
    {
     "name": "stdout",
     "output_type": "stream",
     "text": [
      "./saved_models/model_6.pth\n",
      " Maximum accuracy: 0.8988715277777779, F1: 0.7414018947892791, Test: 1.0027538970112801, Train: 0.9997815668582917 \n",
      " \n",
      "\n",
      "|| TRAINING SINGLE MODEL || \n",
      "Task: Classification\n"
     ]
    },
    {
     "name": "stderr",
     "output_type": "stream",
     "text": [
      "Training Process: 100%|██████████| 70/70 [00:10<00:00,  6.39it/s]\n"
     ]
    },
    {
     "name": "stdout",
     "output_type": "stream",
     "text": [
      " Maximum accuracy: 0.7441964285714285, F1: 0.6585047268866138, Test: 0.9383049155984606, Train: 0.9868308477174668 \n",
      " \n",
      "\n",
      "Trail 58: \n",
      "\n",
      "|| TRAINING WEIGHT AVERAGING TREE ENSEMBLE ||\n",
      "Task: classification\n",
      "Randomly initializing 4 models\n",
      "Model 1:\n"
     ]
    },
    {
     "name": "stderr",
     "output_type": "stream",
     "text": [
      "Training Process: 100%|██████████| 10/10 [00:01<00:00,  8.67it/s]\n"
     ]
    },
    {
     "name": "stdout",
     "output_type": "stream",
     "text": [
      "./saved_models/model_1.pth\n",
      "Model 2:\n"
     ]
    },
    {
     "name": "stderr",
     "output_type": "stream",
     "text": [
      "Training Process: 100%|██████████| 10/10 [00:01<00:00,  9.81it/s]\n"
     ]
    },
    {
     "name": "stdout",
     "output_type": "stream",
     "text": [
      "./saved_models/model_2.pth\n",
      "Model 3:\n"
     ]
    },
    {
     "name": "stderr",
     "output_type": "stream",
     "text": [
      "Training Process: 100%|██████████| 10/10 [00:01<00:00,  9.57it/s]\n"
     ]
    },
    {
     "name": "stdout",
     "output_type": "stream",
     "text": [
      "./saved_models/model_3.pth\n",
      "Model 4:\n"
     ]
    },
    {
     "name": "stderr",
     "output_type": "stream",
     "text": [
      "Training Process: 100%|██████████| 10/10 [00:00<00:00, 10.32it/s]\n"
     ]
    },
    {
     "name": "stdout",
     "output_type": "stream",
     "text": [
      "./saved_models/model_4.pth\n",
      "Model 7:\n"
     ]
    },
    {
     "name": "stderr",
     "output_type": "stream",
     "text": [
      "Training Process: 100%|██████████| 10/10 [00:01<00:00,  9.38it/s]\n"
     ]
    },
    {
     "name": "stdout",
     "output_type": "stream",
     "text": [
      "./saved_models/model_7.pth\n",
      "Model 8:\n"
     ]
    },
    {
     "name": "stderr",
     "output_type": "stream",
     "text": [
      "Training Process: 100%|██████████| 10/10 [00:01<00:00,  9.55it/s]\n"
     ]
    },
    {
     "name": "stdout",
     "output_type": "stream",
     "text": [
      "./saved_models/model_8.pth\n",
      "Model 6:\n"
     ]
    },
    {
     "name": "stderr",
     "output_type": "stream",
     "text": [
      "Training Process: 100%|██████████| 10/10 [00:01<00:00,  9.96it/s]\n"
     ]
    },
    {
     "name": "stdout",
     "output_type": "stream",
     "text": [
      "./saved_models/model_6.pth\n",
      " Maximum accuracy: 0.9010416666666666, F1: 0.7650054992632586, Test: 0.9440595626831054, Train: 0.9525569991270701 \n",
      " \n",
      "\n",
      "|| TRAINING SINGLE MODEL || \n",
      "Task: Classification\n"
     ]
    },
    {
     "name": "stderr",
     "output_type": "stream",
     "text": [
      "Training Process: 100%|██████████| 70/70 [00:09<00:00,  7.43it/s]\n"
     ]
    },
    {
     "name": "stdout",
     "output_type": "stream",
     "text": [
      " Maximum accuracy: 0.8524553571428571, F1: 0.7093981861099652, Test: 0.8641754850745201, Train: 0.8873222776821681 \n",
      " \n",
      "\n",
      "Trail 59: \n",
      "\n",
      "|| TRAINING WEIGHT AVERAGING TREE ENSEMBLE ||\n",
      "Task: classification\n",
      "Randomly initializing 4 models\n",
      "Model 1:\n"
     ]
    },
    {
     "name": "stderr",
     "output_type": "stream",
     "text": [
      "Training Process: 100%|██████████| 10/10 [00:00<00:00, 12.51it/s]\n"
     ]
    },
    {
     "name": "stdout",
     "output_type": "stream",
     "text": [
      "./saved_models/model_1.pth\n",
      "Model 2:\n"
     ]
    },
    {
     "name": "stderr",
     "output_type": "stream",
     "text": [
      "Training Process: 100%|██████████| 10/10 [00:00<00:00, 12.13it/s]\n"
     ]
    },
    {
     "name": "stdout",
     "output_type": "stream",
     "text": [
      "./saved_models/model_2.pth\n",
      "Model 3:\n"
     ]
    },
    {
     "name": "stderr",
     "output_type": "stream",
     "text": [
      "Training Process: 100%|██████████| 10/10 [00:00<00:00, 12.35it/s]\n"
     ]
    },
    {
     "name": "stdout",
     "output_type": "stream",
     "text": [
      "./saved_models/model_3.pth\n",
      "Model 4:\n"
     ]
    },
    {
     "name": "stderr",
     "output_type": "stream",
     "text": [
      "Training Process: 100%|██████████| 10/10 [00:00<00:00, 12.85it/s]\n"
     ]
    },
    {
     "name": "stdout",
     "output_type": "stream",
     "text": [
      "./saved_models/model_4.pth\n",
      "Model 7:\n"
     ]
    },
    {
     "name": "stderr",
     "output_type": "stream",
     "text": [
      "Training Process: 100%|██████████| 10/10 [00:00<00:00, 11.66it/s]\n"
     ]
    },
    {
     "name": "stdout",
     "output_type": "stream",
     "text": [
      "./saved_models/model_7.pth\n",
      "Model 8:\n"
     ]
    },
    {
     "name": "stderr",
     "output_type": "stream",
     "text": [
      "Training Process: 100%|██████████| 10/10 [00:00<00:00, 12.98it/s]\n"
     ]
    },
    {
     "name": "stdout",
     "output_type": "stream",
     "text": [
      "./saved_models/model_8.pth\n",
      "Model 6:\n"
     ]
    },
    {
     "name": "stderr",
     "output_type": "stream",
     "text": [
      "Training Process: 100%|██████████| 10/10 [00:00<00:00, 13.07it/s]\n"
     ]
    },
    {
     "name": "stdout",
     "output_type": "stream",
     "text": [
      "./saved_models/model_6.pth\n",
      " Maximum accuracy: 0.9051215277777779, F1: 0.7160809930629769, Test: 1.0217491060495376, Train: 1.0112693897883098 \n",
      " \n",
      "\n",
      "|| TRAINING SINGLE MODEL || \n",
      "Task: Classification\n"
     ]
    },
    {
     "name": "stderr",
     "output_type": "stream",
     "text": [
      "Training Process: 100%|██████████| 70/70 [00:07<00:00,  8.77it/s]\n"
     ]
    },
    {
     "name": "stdout",
     "output_type": "stream",
     "text": [
      " Maximum accuracy: 0.8934399801587302, F1: 0.7367529202835138, Test: 0.8117552263396127, Train: 0.8573646632262638 \n",
      " \n",
      "\n",
      "Trail 60: \n",
      "\n",
      "|| TRAINING WEIGHT AVERAGING TREE ENSEMBLE ||\n",
      "Task: classification\n",
      "Randomly initializing 4 models\n",
      "Model 1:\n"
     ]
    },
    {
     "name": "stderr",
     "output_type": "stream",
     "text": [
      "Training Process: 100%|██████████| 10/10 [00:00<00:00, 11.72it/s]\n"
     ]
    },
    {
     "name": "stdout",
     "output_type": "stream",
     "text": [
      "./saved_models/model_1.pth\n",
      "Model 2:\n"
     ]
    },
    {
     "name": "stderr",
     "output_type": "stream",
     "text": [
      "Training Process: 100%|██████████| 10/10 [00:00<00:00, 12.21it/s]\n"
     ]
    },
    {
     "name": "stdout",
     "output_type": "stream",
     "text": [
      "./saved_models/model_2.pth\n",
      "Model 3:\n"
     ]
    },
    {
     "name": "stderr",
     "output_type": "stream",
     "text": [
      "Training Process: 100%|██████████| 10/10 [00:00<00:00, 12.70it/s]\n"
     ]
    },
    {
     "name": "stdout",
     "output_type": "stream",
     "text": [
      "./saved_models/model_3.pth\n",
      "Model 4:\n"
     ]
    },
    {
     "name": "stderr",
     "output_type": "stream",
     "text": [
      "Training Process: 100%|██████████| 10/10 [00:00<00:00, 12.68it/s]\n"
     ]
    },
    {
     "name": "stdout",
     "output_type": "stream",
     "text": [
      "./saved_models/model_4.pth\n",
      "Model 7:\n"
     ]
    },
    {
     "name": "stderr",
     "output_type": "stream",
     "text": [
      "Training Process: 100%|██████████| 10/10 [00:00<00:00, 12.97it/s]\n"
     ]
    },
    {
     "name": "stdout",
     "output_type": "stream",
     "text": [
      "./saved_models/model_7.pth\n",
      "Model 8:\n"
     ]
    },
    {
     "name": "stderr",
     "output_type": "stream",
     "text": [
      "Training Process: 100%|██████████| 10/10 [00:00<00:00, 13.70it/s]\n"
     ]
    },
    {
     "name": "stdout",
     "output_type": "stream",
     "text": [
      "./saved_models/model_8.pth\n",
      "Model 6:\n"
     ]
    },
    {
     "name": "stderr",
     "output_type": "stream",
     "text": [
      "Training Process: 100%|██████████| 10/10 [00:00<00:00, 13.21it/s]\n"
     ]
    },
    {
     "name": "stdout",
     "output_type": "stream",
     "text": [
      "./saved_models/model_6.pth\n",
      " Maximum accuracy: 0.8737847222222221, F1: 0.682460244210474, Test: 0.9605489075183868, Train: 0.966968352397283 \n",
      " \n",
      "\n",
      "|| TRAINING SINGLE MODEL || \n",
      "Task: Classification\n"
     ]
    },
    {
     "name": "stderr",
     "output_type": "stream",
     "text": [
      "Training Process: 100%|██████████| 70/70 [00:07<00:00,  8.77it/s]\n"
     ]
    },
    {
     "name": "stdout",
     "output_type": "stream",
     "text": [
      " Maximum accuracy: 0.7948536706349206, F1: 0.661133895221381, Test: 0.9399014475090163, Train: 0.91765582436607 \n",
      " \n",
      "\n",
      "Trail 61: \n",
      "\n",
      "|| TRAINING WEIGHT AVERAGING TREE ENSEMBLE ||\n",
      "Task: classification\n",
      "Randomly initializing 4 models\n",
      "Model 1:\n"
     ]
    },
    {
     "name": "stderr",
     "output_type": "stream",
     "text": [
      "Training Process: 100%|██████████| 10/10 [00:00<00:00, 14.39it/s]\n"
     ]
    },
    {
     "name": "stdout",
     "output_type": "stream",
     "text": [
      "./saved_models/model_1.pth\n",
      "Model 2:\n"
     ]
    },
    {
     "name": "stderr",
     "output_type": "stream",
     "text": [
      "Training Process: 100%|██████████| 10/10 [00:00<00:00, 10.09it/s]\n"
     ]
    },
    {
     "name": "stdout",
     "output_type": "stream",
     "text": [
      "./saved_models/model_2.pth\n",
      "Model 3:\n"
     ]
    },
    {
     "name": "stderr",
     "output_type": "stream",
     "text": [
      "Training Process: 100%|██████████| 10/10 [00:01<00:00,  9.17it/s]\n"
     ]
    },
    {
     "name": "stdout",
     "output_type": "stream",
     "text": [
      "./saved_models/model_3.pth\n",
      "Model 4:\n"
     ]
    },
    {
     "name": "stderr",
     "output_type": "stream",
     "text": [
      "Training Process: 100%|██████████| 10/10 [00:00<00:00, 10.59it/s]\n"
     ]
    },
    {
     "name": "stdout",
     "output_type": "stream",
     "text": [
      "./saved_models/model_4.pth\n",
      "Model 7:\n"
     ]
    },
    {
     "name": "stderr",
     "output_type": "stream",
     "text": [
      "Training Process: 100%|██████████| 10/10 [00:00<00:00, 11.58it/s]\n"
     ]
    },
    {
     "name": "stdout",
     "output_type": "stream",
     "text": [
      "./saved_models/model_7.pth\n",
      "Model 8:\n"
     ]
    },
    {
     "name": "stderr",
     "output_type": "stream",
     "text": [
      "Training Process: 100%|██████████| 10/10 [00:00<00:00, 13.55it/s]\n"
     ]
    },
    {
     "name": "stdout",
     "output_type": "stream",
     "text": [
      "./saved_models/model_8.pth\n",
      "Model 6:\n"
     ]
    },
    {
     "name": "stderr",
     "output_type": "stream",
     "text": [
      "Training Process: 100%|██████████| 10/10 [00:00<00:00, 11.48it/s]\n"
     ]
    },
    {
     "name": "stdout",
     "output_type": "stream",
     "text": [
      "./saved_models/model_6.pth\n",
      " Maximum accuracy: 0.9233506944444445, F1: 0.7157887473192721, Test: 0.9991317749023437, Train: 0.9843832564353943 \n",
      " \n",
      "\n",
      "|| TRAINING SINGLE MODEL || \n",
      "Task: Classification\n"
     ]
    },
    {
     "name": "stderr",
     "output_type": "stream",
     "text": [
      "Training Process: 100%|██████████| 70/70 [00:08<00:00,  8.67it/s]\n"
     ]
    },
    {
     "name": "stdout",
     "output_type": "stream",
     "text": [
      " Maximum accuracy: 0.8398561507936508, F1: 0.7134245644264907, Test: 0.9072955418910299, Train: 0.940041446345193 \n",
      " \n",
      "\n",
      "Trail 62: \n",
      "\n",
      "|| TRAINING WEIGHT AVERAGING TREE ENSEMBLE ||\n",
      "Task: classification\n",
      "Randomly initializing 4 models\n",
      "Model 1:\n"
     ]
    },
    {
     "name": "stderr",
     "output_type": "stream",
     "text": [
      "Training Process: 100%|██████████| 10/10 [00:00<00:00, 12.70it/s]\n"
     ]
    },
    {
     "name": "stdout",
     "output_type": "stream",
     "text": [
      "./saved_models/model_1.pth\n",
      "Model 2:\n"
     ]
    },
    {
     "name": "stderr",
     "output_type": "stream",
     "text": [
      "Training Process: 100%|██████████| 10/10 [00:00<00:00, 11.76it/s]\n"
     ]
    },
    {
     "name": "stdout",
     "output_type": "stream",
     "text": [
      "./saved_models/model_2.pth\n",
      "Model 3:\n"
     ]
    },
    {
     "name": "stderr",
     "output_type": "stream",
     "text": [
      "Training Process: 100%|██████████| 10/10 [00:00<00:00, 14.00it/s]\n"
     ]
    },
    {
     "name": "stdout",
     "output_type": "stream",
     "text": [
      "./saved_models/model_3.pth\n",
      "Model 4:\n"
     ]
    },
    {
     "name": "stderr",
     "output_type": "stream",
     "text": [
      "Training Process: 100%|██████████| 10/10 [00:00<00:00, 11.58it/s]\n"
     ]
    },
    {
     "name": "stdout",
     "output_type": "stream",
     "text": [
      "./saved_models/model_4.pth\n",
      "Model 7:\n"
     ]
    },
    {
     "name": "stderr",
     "output_type": "stream",
     "text": [
      "Training Process: 100%|██████████| 10/10 [00:00<00:00, 13.82it/s]\n"
     ]
    },
    {
     "name": "stdout",
     "output_type": "stream",
     "text": [
      "./saved_models/model_7.pth\n",
      "Model 8:\n"
     ]
    },
    {
     "name": "stderr",
     "output_type": "stream",
     "text": [
      "Training Process: 100%|██████████| 10/10 [00:00<00:00, 13.18it/s]\n"
     ]
    },
    {
     "name": "stdout",
     "output_type": "stream",
     "text": [
      "./saved_models/model_8.pth\n",
      "Model 6:\n"
     ]
    },
    {
     "name": "stderr",
     "output_type": "stream",
     "text": [
      "Training Process: 100%|██████████| 10/10 [00:00<00:00, 12.09it/s]\n"
     ]
    },
    {
     "name": "stdout",
     "output_type": "stream",
     "text": [
      "./saved_models/model_6.pth\n",
      " Maximum accuracy: 0.8335069444444445, F1: 0.6687623290855825, Test: 1.0120798140764236, Train: 1.0191863401730856 \n",
      " \n",
      "\n",
      "|| TRAINING SINGLE MODEL || \n",
      "Task: Classification\n"
     ]
    },
    {
     "name": "stderr",
     "output_type": "stream",
     "text": [
      "Training Process: 100%|██████████| 70/70 [00:08<00:00,  8.44it/s]\n"
     ]
    },
    {
     "name": "stdout",
     "output_type": "stream",
     "text": [
      " Maximum accuracy: 0.7688492063492063, F1: 0.6919224361646573, Test: 0.9133373120001385, Train: 0.9564094173908234 \n",
      " \n",
      "\n",
      "Trail 63: \n",
      "\n",
      "|| TRAINING WEIGHT AVERAGING TREE ENSEMBLE ||\n",
      "Task: classification\n",
      "Randomly initializing 4 models\n",
      "Model 1:\n"
     ]
    },
    {
     "name": "stderr",
     "output_type": "stream",
     "text": [
      "Training Process: 100%|██████████| 10/10 [00:00<00:00, 12.82it/s]\n"
     ]
    },
    {
     "name": "stdout",
     "output_type": "stream",
     "text": [
      "./saved_models/model_1.pth\n",
      "Model 2:\n"
     ]
    },
    {
     "name": "stderr",
     "output_type": "stream",
     "text": [
      "Training Process: 100%|██████████| 10/10 [00:00<00:00, 13.68it/s]\n"
     ]
    },
    {
     "name": "stdout",
     "output_type": "stream",
     "text": [
      "./saved_models/model_2.pth\n",
      "Model 3:\n"
     ]
    },
    {
     "name": "stderr",
     "output_type": "stream",
     "text": [
      "Training Process: 100%|██████████| 10/10 [00:00<00:00, 11.44it/s]\n"
     ]
    },
    {
     "name": "stdout",
     "output_type": "stream",
     "text": [
      "./saved_models/model_3.pth\n",
      "Model 4:\n"
     ]
    },
    {
     "name": "stderr",
     "output_type": "stream",
     "text": [
      "Training Process: 100%|██████████| 10/10 [00:00<00:00, 12.18it/s]\n"
     ]
    },
    {
     "name": "stdout",
     "output_type": "stream",
     "text": [
      "./saved_models/model_4.pth\n",
      "Model 7:\n"
     ]
    },
    {
     "name": "stderr",
     "output_type": "stream",
     "text": [
      "Training Process: 100%|██████████| 10/10 [00:00<00:00, 12.74it/s]\n"
     ]
    },
    {
     "name": "stdout",
     "output_type": "stream",
     "text": [
      "./saved_models/model_7.pth\n",
      "Model 8:\n"
     ]
    },
    {
     "name": "stderr",
     "output_type": "stream",
     "text": [
      "Training Process: 100%|██████████| 10/10 [00:00<00:00, 12.21it/s]\n"
     ]
    },
    {
     "name": "stdout",
     "output_type": "stream",
     "text": [
      "./saved_models/model_8.pth\n",
      "Model 6:\n"
     ]
    },
    {
     "name": "stderr",
     "output_type": "stream",
     "text": [
      "Training Process: 100%|██████████| 10/10 [00:00<00:00, 10.81it/s]\n"
     ]
    },
    {
     "name": "stdout",
     "output_type": "stream",
     "text": [
      "./saved_models/model_6.pth\n",
      " Maximum accuracy: 0.8801215277777779, F1: 0.7047111840724726, Test: 0.9481350019574165, Train: 0.9598205530643463 \n",
      " \n",
      "\n",
      "|| TRAINING SINGLE MODEL || \n",
      "Task: Classification\n"
     ]
    },
    {
     "name": "stderr",
     "output_type": "stream",
     "text": [
      "Training Process: 100%|██████████| 70/70 [00:08<00:00,  8.61it/s]\n"
     ]
    },
    {
     "name": "stdout",
     "output_type": "stream",
     "text": [
      " Maximum accuracy: 0.8056671626984127, F1: 0.6871851059292016, Test: 0.8629567897745541, Train: 0.9034975475924356 \n",
      " \n",
      "\n",
      "Trail 64: \n",
      "\n",
      "|| TRAINING WEIGHT AVERAGING TREE ENSEMBLE ||\n",
      "Task: classification\n",
      "Randomly initializing 4 models\n",
      "Model 1:\n"
     ]
    },
    {
     "name": "stderr",
     "output_type": "stream",
     "text": [
      "Training Process: 100%|██████████| 10/10 [00:00<00:00, 11.68it/s]\n"
     ]
    },
    {
     "name": "stdout",
     "output_type": "stream",
     "text": [
      "./saved_models/model_1.pth\n",
      "Model 2:\n"
     ]
    },
    {
     "name": "stderr",
     "output_type": "stream",
     "text": [
      "Training Process: 100%|██████████| 10/10 [00:00<00:00, 11.80it/s]\n"
     ]
    },
    {
     "name": "stdout",
     "output_type": "stream",
     "text": [
      "./saved_models/model_2.pth\n",
      "Model 3:\n"
     ]
    },
    {
     "name": "stderr",
     "output_type": "stream",
     "text": [
      "Training Process: 100%|██████████| 10/10 [00:00<00:00, 10.95it/s]\n"
     ]
    },
    {
     "name": "stdout",
     "output_type": "stream",
     "text": [
      "./saved_models/model_3.pth\n",
      "Model 4:\n"
     ]
    },
    {
     "name": "stderr",
     "output_type": "stream",
     "text": [
      "Training Process: 100%|██████████| 10/10 [00:00<00:00, 11.36it/s]\n"
     ]
    },
    {
     "name": "stdout",
     "output_type": "stream",
     "text": [
      "./saved_models/model_4.pth\n",
      "Model 7:\n"
     ]
    },
    {
     "name": "stderr",
     "output_type": "stream",
     "text": [
      "Training Process: 100%|██████████| 10/10 [00:00<00:00, 10.97it/s]\n"
     ]
    },
    {
     "name": "stdout",
     "output_type": "stream",
     "text": [
      "./saved_models/model_7.pth\n",
      "Model 8:\n"
     ]
    },
    {
     "name": "stderr",
     "output_type": "stream",
     "text": [
      "Training Process: 100%|██████████| 10/10 [00:00<00:00, 10.87it/s]\n"
     ]
    },
    {
     "name": "stdout",
     "output_type": "stream",
     "text": [
      "./saved_models/model_8.pth\n",
      "Model 6:\n"
     ]
    },
    {
     "name": "stderr",
     "output_type": "stream",
     "text": [
      "Training Process: 100%|██████████| 10/10 [00:00<00:00, 12.34it/s]\n"
     ]
    },
    {
     "name": "stdout",
     "output_type": "stream",
     "text": [
      "./saved_models/model_6.pth\n",
      " Maximum accuracy: 0.91171875, F1: 0.6788946648557893, Test: 0.9376617968082428, Train: 0.9279382423559824 \n",
      " \n",
      "\n",
      "|| TRAINING SINGLE MODEL || \n",
      "Task: Classification\n"
     ]
    },
    {
     "name": "stderr",
     "output_type": "stream",
     "text": [
      "Training Process: 100%|██████████| 70/70 [00:08<00:00,  8.52it/s]\n"
     ]
    },
    {
     "name": "stdout",
     "output_type": "stream",
     "text": [
      " Maximum accuracy: 0.8743675595238096, F1: 0.7512759916276971, Test: 0.865747839638165, Train: 0.8990182888507843 \n",
      " \n",
      "\n",
      "Trail 65: \n",
      "\n",
      "|| TRAINING WEIGHT AVERAGING TREE ENSEMBLE ||\n",
      "Task: classification\n",
      "Randomly initializing 4 models\n",
      "Model 1:\n"
     ]
    },
    {
     "name": "stderr",
     "output_type": "stream",
     "text": [
      "Training Process: 100%|██████████| 10/10 [00:00<00:00, 12.87it/s]\n"
     ]
    },
    {
     "name": "stdout",
     "output_type": "stream",
     "text": [
      "./saved_models/model_1.pth\n",
      "Model 2:\n"
     ]
    },
    {
     "name": "stderr",
     "output_type": "stream",
     "text": [
      "Training Process: 100%|██████████| 10/10 [00:00<00:00, 11.58it/s]\n"
     ]
    },
    {
     "name": "stdout",
     "output_type": "stream",
     "text": [
      "./saved_models/model_2.pth\n",
      "Model 3:\n"
     ]
    },
    {
     "name": "stderr",
     "output_type": "stream",
     "text": [
      "Training Process: 100%|██████████| 10/10 [00:00<00:00, 13.66it/s]\n"
     ]
    },
    {
     "name": "stdout",
     "output_type": "stream",
     "text": [
      "./saved_models/model_3.pth\n",
      "Model 4:\n"
     ]
    },
    {
     "name": "stderr",
     "output_type": "stream",
     "text": [
      "Training Process: 100%|██████████| 10/10 [00:00<00:00, 13.77it/s]\n"
     ]
    },
    {
     "name": "stdout",
     "output_type": "stream",
     "text": [
      "./saved_models/model_4.pth\n",
      "Model 7:\n"
     ]
    },
    {
     "name": "stderr",
     "output_type": "stream",
     "text": [
      "Training Process: 100%|██████████| 10/10 [00:01<00:00,  9.67it/s]\n"
     ]
    },
    {
     "name": "stdout",
     "output_type": "stream",
     "text": [
      "./saved_models/model_7.pth\n",
      "Model 8:\n"
     ]
    },
    {
     "name": "stderr",
     "output_type": "stream",
     "text": [
      "Training Process: 100%|██████████| 10/10 [00:01<00:00,  9.24it/s]\n"
     ]
    },
    {
     "name": "stdout",
     "output_type": "stream",
     "text": [
      "./saved_models/model_8.pth\n",
      "Model 6:\n"
     ]
    },
    {
     "name": "stderr",
     "output_type": "stream",
     "text": [
      "Training Process: 100%|██████████| 10/10 [00:00<00:00, 12.03it/s]\n"
     ]
    },
    {
     "name": "stdout",
     "output_type": "stream",
     "text": [
      "./saved_models/model_6.pth\n",
      " Maximum accuracy: 0.9112847222222221, F1: 0.706798542635817, Test: 0.9840273573994637, Train: 0.9936875263849895 \n",
      " \n",
      "\n",
      "|| TRAINING SINGLE MODEL || \n",
      "Task: Classification\n"
     ]
    },
    {
     "name": "stderr",
     "output_type": "stream",
     "text": [
      "Training Process: 100%|██████████| 70/70 [00:08<00:00,  7.88it/s]\n"
     ]
    },
    {
     "name": "stdout",
     "output_type": "stream",
     "text": [
      " Maximum accuracy: 0.8263392857142857, F1: 0.7253805004252213, Test: 0.9214154664959227, Train: 0.9343714006174179 \n",
      " \n",
      "\n",
      "Trail 66: \n",
      "\n",
      "|| TRAINING WEIGHT AVERAGING TREE ENSEMBLE ||\n",
      "Task: classification\n",
      "Randomly initializing 4 models\n",
      "Model 1:\n"
     ]
    },
    {
     "name": "stderr",
     "output_type": "stream",
     "text": [
      "Training Process: 100%|██████████| 10/10 [00:00<00:00, 13.34it/s]\n"
     ]
    },
    {
     "name": "stdout",
     "output_type": "stream",
     "text": [
      "./saved_models/model_1.pth\n",
      "Model 2:\n"
     ]
    },
    {
     "name": "stderr",
     "output_type": "stream",
     "text": [
      "Training Process: 100%|██████████| 10/10 [00:00<00:00, 13.11it/s]\n"
     ]
    },
    {
     "name": "stdout",
     "output_type": "stream",
     "text": [
      "./saved_models/model_2.pth\n",
      "Model 3:\n"
     ]
    },
    {
     "name": "stderr",
     "output_type": "stream",
     "text": [
      "Training Process: 100%|██████████| 10/10 [00:00<00:00, 11.94it/s]\n"
     ]
    },
    {
     "name": "stdout",
     "output_type": "stream",
     "text": [
      "./saved_models/model_3.pth\n",
      "Model 4:\n"
     ]
    },
    {
     "name": "stderr",
     "output_type": "stream",
     "text": [
      "Training Process: 100%|██████████| 10/10 [00:00<00:00, 13.74it/s]\n"
     ]
    },
    {
     "name": "stdout",
     "output_type": "stream",
     "text": [
      "./saved_models/model_4.pth\n",
      "Model 7:\n"
     ]
    },
    {
     "name": "stderr",
     "output_type": "stream",
     "text": [
      "Training Process: 100%|██████████| 10/10 [00:00<00:00, 12.98it/s]\n"
     ]
    },
    {
     "name": "stdout",
     "output_type": "stream",
     "text": [
      "./saved_models/model_7.pth\n",
      "Model 8:\n"
     ]
    },
    {
     "name": "stderr",
     "output_type": "stream",
     "text": [
      "Training Process: 100%|██████████| 10/10 [00:00<00:00, 11.32it/s]\n"
     ]
    },
    {
     "name": "stdout",
     "output_type": "stream",
     "text": [
      "./saved_models/model_8.pth\n",
      "Model 6:\n"
     ]
    },
    {
     "name": "stderr",
     "output_type": "stream",
     "text": [
      "Training Process: 100%|██████████| 10/10 [00:00<00:00, 13.69it/s]\n"
     ]
    },
    {
     "name": "stdout",
     "output_type": "stream",
     "text": [
      "./saved_models/model_6.pth\n",
      " Maximum accuracy: 0.890625, F1: 0.6531553793195655, Test: 0.99709632396698, Train: 0.9846391073862711 \n",
      " \n",
      "\n",
      "|| TRAINING SINGLE MODEL || \n",
      "Task: Classification\n"
     ]
    },
    {
     "name": "stderr",
     "output_type": "stream",
     "text": [
      "Training Process: 100%|██████████| 70/70 [00:08<00:00,  8.53it/s]\n"
     ]
    },
    {
     "name": "stdout",
     "output_type": "stream",
     "text": [
      " Maximum accuracy: 0.7134672619047621, F1: 0.6725153062475364, Test: 0.945042230614594, Train: 0.9541509205954416 \n",
      " \n",
      "\n",
      "Trail 67: \n",
      "\n",
      "|| TRAINING WEIGHT AVERAGING TREE ENSEMBLE ||\n",
      "Task: classification\n",
      "Randomly initializing 4 models\n",
      "Model 1:\n"
     ]
    },
    {
     "name": "stderr",
     "output_type": "stream",
     "text": [
      "Training Process: 100%|██████████| 10/10 [00:00<00:00, 13.45it/s]\n"
     ]
    },
    {
     "name": "stdout",
     "output_type": "stream",
     "text": [
      "./saved_models/model_1.pth\n",
      "Model 2:\n"
     ]
    },
    {
     "name": "stderr",
     "output_type": "stream",
     "text": [
      "Training Process: 100%|██████████| 10/10 [00:00<00:00, 12.56it/s]\n"
     ]
    },
    {
     "name": "stdout",
     "output_type": "stream",
     "text": [
      "./saved_models/model_2.pth\n",
      "Model 3:\n"
     ]
    },
    {
     "name": "stderr",
     "output_type": "stream",
     "text": [
      "Training Process: 100%|██████████| 10/10 [00:00<00:00, 11.35it/s]\n"
     ]
    },
    {
     "name": "stdout",
     "output_type": "stream",
     "text": [
      "./saved_models/model_3.pth\n",
      "Model 4:\n"
     ]
    },
    {
     "name": "stderr",
     "output_type": "stream",
     "text": [
      "Training Process: 100%|██████████| 10/10 [00:00<00:00, 12.25it/s]\n"
     ]
    },
    {
     "name": "stdout",
     "output_type": "stream",
     "text": [
      "./saved_models/model_4.pth\n",
      "Model 7:\n"
     ]
    },
    {
     "name": "stderr",
     "output_type": "stream",
     "text": [
      "Training Process: 100%|██████████| 10/10 [00:00<00:00, 11.08it/s]\n"
     ]
    },
    {
     "name": "stdout",
     "output_type": "stream",
     "text": [
      "./saved_models/model_7.pth\n",
      "Model 8:\n"
     ]
    },
    {
     "name": "stderr",
     "output_type": "stream",
     "text": [
      "Training Process: 100%|██████████| 10/10 [00:00<00:00, 12.83it/s]\n"
     ]
    },
    {
     "name": "stdout",
     "output_type": "stream",
     "text": [
      "./saved_models/model_8.pth\n",
      "Model 6:\n"
     ]
    },
    {
     "name": "stderr",
     "output_type": "stream",
     "text": [
      "Training Process: 100%|██████████| 10/10 [00:00<00:00, 13.30it/s]\n"
     ]
    },
    {
     "name": "stdout",
     "output_type": "stream",
     "text": [
      "./saved_models/model_6.pth\n",
      " Maximum accuracy: 0.9364583333333332, F1: 0.7633396091682206, Test: 0.9565280616283417, Train: 0.9554103207588196 \n",
      " \n",
      "\n",
      "|| TRAINING SINGLE MODEL || \n",
      "Task: Classification\n"
     ]
    },
    {
     "name": "stderr",
     "output_type": "stream",
     "text": [
      "Training Process: 100%|██████████| 70/70 [00:07<00:00,  8.76it/s]\n"
     ]
    },
    {
     "name": "stdout",
     "output_type": "stream",
     "text": [
      " Maximum accuracy: 0.7818824404761905, F1: 0.6918939920048813, Test: 0.9309685179165431, Train: 0.9496431661787488 \n",
      " \n",
      "\n",
      "Trail 68: \n",
      "\n",
      "|| TRAINING WEIGHT AVERAGING TREE ENSEMBLE ||\n",
      "Task: classification\n",
      "Randomly initializing 4 models\n",
      "Model 1:\n"
     ]
    },
    {
     "name": "stderr",
     "output_type": "stream",
     "text": [
      "Training Process: 100%|██████████| 10/10 [00:00<00:00, 13.12it/s]\n"
     ]
    },
    {
     "name": "stdout",
     "output_type": "stream",
     "text": [
      "./saved_models/model_1.pth\n",
      "Model 2:\n"
     ]
    },
    {
     "name": "stderr",
     "output_type": "stream",
     "text": [
      "Training Process: 100%|██████████| 10/10 [00:00<00:00, 13.64it/s]\n"
     ]
    },
    {
     "name": "stdout",
     "output_type": "stream",
     "text": [
      "./saved_models/model_2.pth\n",
      "Model 3:\n"
     ]
    },
    {
     "name": "stderr",
     "output_type": "stream",
     "text": [
      "Training Process: 100%|██████████| 10/10 [00:00<00:00, 12.31it/s]\n"
     ]
    },
    {
     "name": "stdout",
     "output_type": "stream",
     "text": [
      "./saved_models/model_3.pth\n",
      "Model 4:\n"
     ]
    },
    {
     "name": "stderr",
     "output_type": "stream",
     "text": [
      "Training Process: 100%|██████████| 10/10 [00:00<00:00, 13.43it/s]\n"
     ]
    },
    {
     "name": "stdout",
     "output_type": "stream",
     "text": [
      "./saved_models/model_4.pth\n",
      "Model 7:\n"
     ]
    },
    {
     "name": "stderr",
     "output_type": "stream",
     "text": [
      "Training Process: 100%|██████████| 10/10 [00:00<00:00, 13.25it/s]\n"
     ]
    },
    {
     "name": "stdout",
     "output_type": "stream",
     "text": [
      "./saved_models/model_7.pth\n",
      "Model 8:\n"
     ]
    },
    {
     "name": "stderr",
     "output_type": "stream",
     "text": [
      "Training Process: 100%|██████████| 10/10 [00:00<00:00, 11.72it/s]\n"
     ]
    },
    {
     "name": "stdout",
     "output_type": "stream",
     "text": [
      "./saved_models/model_8.pth\n",
      "Model 6:\n"
     ]
    },
    {
     "name": "stderr",
     "output_type": "stream",
     "text": [
      "Training Process: 100%|██████████| 10/10 [00:00<00:00, 13.11it/s]\n"
     ]
    },
    {
     "name": "stdout",
     "output_type": "stream",
     "text": [
      "./saved_models/model_6.pth\n",
      " Maximum accuracy: 0.8770833333333332, F1: 0.6616178889064085, Test: 0.9499980852007865, Train: 0.9591635243097941 \n",
      " \n",
      "\n",
      "|| TRAINING SINGLE MODEL || \n",
      "Task: Classification\n"
     ]
    },
    {
     "name": "stderr",
     "output_type": "stream",
     "text": [
      "Training Process: 100%|██████████| 70/70 [00:08<00:00,  8.40it/s]\n"
     ]
    },
    {
     "name": "stdout",
     "output_type": "stream",
     "text": [
      " Maximum accuracy: 0.9050843253968254, F1: 0.783104122459847, Test: 0.8444542989134789, Train: 0.8765091335205805 \n",
      " \n",
      "\n",
      "Trail 69: \n",
      "\n",
      "|| TRAINING WEIGHT AVERAGING TREE ENSEMBLE ||\n",
      "Task: classification\n",
      "Randomly initializing 4 models\n",
      "Model 1:\n"
     ]
    },
    {
     "name": "stderr",
     "output_type": "stream",
     "text": [
      "Training Process: 100%|██████████| 10/10 [00:00<00:00, 13.12it/s]\n"
     ]
    },
    {
     "name": "stdout",
     "output_type": "stream",
     "text": [
      "./saved_models/model_1.pth\n",
      "Model 2:\n"
     ]
    },
    {
     "name": "stderr",
     "output_type": "stream",
     "text": [
      "Training Process: 100%|██████████| 10/10 [00:00<00:00, 12.98it/s]\n"
     ]
    },
    {
     "name": "stdout",
     "output_type": "stream",
     "text": [
      "./saved_models/model_2.pth\n",
      "Model 3:\n"
     ]
    },
    {
     "name": "stderr",
     "output_type": "stream",
     "text": [
      "Training Process: 100%|██████████| 10/10 [00:00<00:00, 13.61it/s]\n"
     ]
    },
    {
     "name": "stdout",
     "output_type": "stream",
     "text": [
      "./saved_models/model_3.pth\n",
      "Model 4:\n"
     ]
    },
    {
     "name": "stderr",
     "output_type": "stream",
     "text": [
      "Training Process: 100%|██████████| 10/10 [00:00<00:00, 13.84it/s]\n"
     ]
    },
    {
     "name": "stdout",
     "output_type": "stream",
     "text": [
      "./saved_models/model_4.pth\n",
      "Model 7:\n"
     ]
    },
    {
     "name": "stderr",
     "output_type": "stream",
     "text": [
      "Training Process: 100%|██████████| 10/10 [00:00<00:00, 12.89it/s]\n"
     ]
    },
    {
     "name": "stdout",
     "output_type": "stream",
     "text": [
      "./saved_models/model_7.pth\n",
      "Model 8:\n"
     ]
    },
    {
     "name": "stderr",
     "output_type": "stream",
     "text": [
      "Training Process: 100%|██████████| 10/10 [00:00<00:00, 11.78it/s]\n"
     ]
    },
    {
     "name": "stdout",
     "output_type": "stream",
     "text": [
      "./saved_models/model_8.pth\n",
      "Model 6:\n"
     ]
    },
    {
     "name": "stderr",
     "output_type": "stream",
     "text": [
      "Training Process: 100%|██████████| 10/10 [00:00<00:00, 13.90it/s]\n"
     ]
    },
    {
     "name": "stdout",
     "output_type": "stream",
     "text": [
      "./saved_models/model_6.pth\n",
      " Maximum accuracy: 0.7375, F1: 0.6161298131632246, Test: 0.9989888429641723, Train: 1.0167036700248717 \n",
      " \n",
      "\n",
      "|| TRAINING SINGLE MODEL || \n",
      "Task: Classification\n"
     ]
    },
    {
     "name": "stderr",
     "output_type": "stream",
     "text": [
      "Training Process: 100%|██████████| 70/70 [00:08<00:00,  7.94it/s]\n"
     ]
    },
    {
     "name": "stdout",
     "output_type": "stream",
     "text": [
      " Maximum accuracy: 0.8513268849206349, F1: 0.7447913728974378, Test: 0.8599002459219524, Train: 0.8948280199368794 \n",
      " \n",
      "\n",
      "Trail 70: \n",
      "\n",
      "|| TRAINING WEIGHT AVERAGING TREE ENSEMBLE ||\n",
      "Task: classification\n",
      "Randomly initializing 4 models\n",
      "Model 1:\n"
     ]
    },
    {
     "name": "stderr",
     "output_type": "stream",
     "text": [
      "Training Process: 100%|██████████| 10/10 [00:00<00:00, 13.78it/s]\n"
     ]
    },
    {
     "name": "stdout",
     "output_type": "stream",
     "text": [
      "./saved_models/model_1.pth\n",
      "Model 2:\n"
     ]
    },
    {
     "name": "stderr",
     "output_type": "stream",
     "text": [
      "Training Process: 100%|██████████| 10/10 [00:00<00:00, 11.95it/s]\n"
     ]
    },
    {
     "name": "stdout",
     "output_type": "stream",
     "text": [
      "./saved_models/model_2.pth\n",
      "Model 3:\n"
     ]
    },
    {
     "name": "stderr",
     "output_type": "stream",
     "text": [
      "Training Process: 100%|██████████| 10/10 [00:00<00:00, 11.75it/s]\n"
     ]
    },
    {
     "name": "stdout",
     "output_type": "stream",
     "text": [
      "./saved_models/model_3.pth\n",
      "Model 4:\n"
     ]
    },
    {
     "name": "stderr",
     "output_type": "stream",
     "text": [
      "Training Process: 100%|██████████| 10/10 [00:00<00:00, 12.65it/s]\n"
     ]
    },
    {
     "name": "stdout",
     "output_type": "stream",
     "text": [
      "./saved_models/model_4.pth\n",
      "Model 7:\n"
     ]
    },
    {
     "name": "stderr",
     "output_type": "stream",
     "text": [
      "Training Process: 100%|██████████| 10/10 [00:00<00:00, 11.90it/s]\n"
     ]
    },
    {
     "name": "stdout",
     "output_type": "stream",
     "text": [
      "./saved_models/model_7.pth\n",
      "Model 8:\n"
     ]
    },
    {
     "name": "stderr",
     "output_type": "stream",
     "text": [
      "Training Process: 100%|██████████| 10/10 [00:00<00:00, 10.36it/s]\n"
     ]
    },
    {
     "name": "stdout",
     "output_type": "stream",
     "text": [
      "./saved_models/model_8.pth\n",
      "Model 6:\n"
     ]
    },
    {
     "name": "stderr",
     "output_type": "stream",
     "text": [
      "Training Process: 100%|██████████| 10/10 [00:00<00:00, 11.51it/s]\n"
     ]
    },
    {
     "name": "stdout",
     "output_type": "stream",
     "text": [
      "./saved_models/model_6.pth\n",
      " Maximum accuracy: 0.8333333333333333, F1: 0.6358004406660399, Test: 0.9953402057290077, Train: 1.009264863729477 \n",
      " \n",
      "\n",
      "|| TRAINING SINGLE MODEL || \n",
      "Task: Classification\n"
     ]
    },
    {
     "name": "stderr",
     "output_type": "stream",
     "text": [
      "Training Process: 100%|██████████| 70/70 [00:08<00:00,  8.73it/s]\n"
     ]
    },
    {
     "name": "stdout",
     "output_type": "stream",
     "text": [
      " Maximum accuracy: 0.7413442460317461, F1: 0.6559181014171552, Test: 0.9385128508721079, Train: 0.9315019860721769 \n",
      " \n",
      "\n",
      "Trail 71: \n",
      "\n",
      "|| TRAINING WEIGHT AVERAGING TREE ENSEMBLE ||\n",
      "Task: classification\n",
      "Randomly initializing 4 models\n",
      "Model 1:\n"
     ]
    },
    {
     "name": "stderr",
     "output_type": "stream",
     "text": [
      "Training Process: 100%|██████████| 10/10 [00:00<00:00, 12.13it/s]\n"
     ]
    },
    {
     "name": "stdout",
     "output_type": "stream",
     "text": [
      "./saved_models/model_1.pth\n",
      "Model 2:\n"
     ]
    },
    {
     "name": "stderr",
     "output_type": "stream",
     "text": [
      "Training Process: 100%|██████████| 10/10 [00:00<00:00, 11.63it/s]\n"
     ]
    },
    {
     "name": "stdout",
     "output_type": "stream",
     "text": [
      "./saved_models/model_2.pth\n",
      "Model 3:\n"
     ]
    },
    {
     "name": "stderr",
     "output_type": "stream",
     "text": [
      "Training Process: 100%|██████████| 10/10 [00:00<00:00, 13.61it/s]\n"
     ]
    },
    {
     "name": "stdout",
     "output_type": "stream",
     "text": [
      "./saved_models/model_3.pth\n",
      "Model 4:\n"
     ]
    },
    {
     "name": "stderr",
     "output_type": "stream",
     "text": [
      "Training Process: 100%|██████████| 10/10 [00:00<00:00, 11.68it/s]\n"
     ]
    },
    {
     "name": "stdout",
     "output_type": "stream",
     "text": [
      "./saved_models/model_4.pth\n",
      "Model 7:\n"
     ]
    },
    {
     "name": "stderr",
     "output_type": "stream",
     "text": [
      "Training Process: 100%|██████████| 10/10 [00:00<00:00, 11.60it/s]\n"
     ]
    },
    {
     "name": "stdout",
     "output_type": "stream",
     "text": [
      "./saved_models/model_7.pth\n",
      "Model 8:\n"
     ]
    },
    {
     "name": "stderr",
     "output_type": "stream",
     "text": [
      "Training Process: 100%|██████████| 10/10 [00:00<00:00, 12.16it/s]\n"
     ]
    },
    {
     "name": "stdout",
     "output_type": "stream",
     "text": [
      "./saved_models/model_8.pth\n",
      "Model 6:\n"
     ]
    },
    {
     "name": "stderr",
     "output_type": "stream",
     "text": [
      "Training Process: 100%|██████████| 10/10 [00:00<00:00, 13.77it/s]\n"
     ]
    },
    {
     "name": "stdout",
     "output_type": "stream",
     "text": [
      "./saved_models/model_6.pth\n",
      " Maximum accuracy: 0.9001736111111112, F1: 0.6900212392649366, Test: 0.9920133858919143, Train: 0.9719251628716786 \n",
      " \n",
      "\n",
      "|| TRAINING SINGLE MODEL || \n",
      "Task: Classification\n"
     ]
    },
    {
     "name": "stderr",
     "output_type": "stream",
     "text": [
      "Training Process: 100%|██████████| 70/70 [00:08<00:00,  8.59it/s]\n"
     ]
    },
    {
     "name": "stdout",
     "output_type": "stream",
     "text": [
      " Maximum accuracy: 0.8284102182539682, F1: 0.7118746118600484, Test: 0.8943713524511883, Train: 0.9028704556964693 \n",
      " \n",
      "\n",
      "Trail 72: \n",
      "\n",
      "|| TRAINING WEIGHT AVERAGING TREE ENSEMBLE ||\n",
      "Task: classification\n",
      "Randomly initializing 4 models\n",
      "Model 1:\n"
     ]
    },
    {
     "name": "stderr",
     "output_type": "stream",
     "text": [
      "Training Process: 100%|██████████| 10/10 [00:00<00:00, 12.11it/s]\n"
     ]
    },
    {
     "name": "stdout",
     "output_type": "stream",
     "text": [
      "./saved_models/model_1.pth\n",
      "Model 2:\n"
     ]
    },
    {
     "name": "stderr",
     "output_type": "stream",
     "text": [
      "Training Process: 100%|██████████| 10/10 [00:00<00:00, 12.98it/s]\n"
     ]
    },
    {
     "name": "stdout",
     "output_type": "stream",
     "text": [
      "./saved_models/model_2.pth\n",
      "Model 3:\n"
     ]
    },
    {
     "name": "stderr",
     "output_type": "stream",
     "text": [
      "Training Process: 100%|██████████| 10/10 [00:00<00:00, 14.37it/s]\n"
     ]
    },
    {
     "name": "stdout",
     "output_type": "stream",
     "text": [
      "./saved_models/model_3.pth\n",
      "Model 4:\n"
     ]
    },
    {
     "name": "stderr",
     "output_type": "stream",
     "text": [
      "Training Process: 100%|██████████| 10/10 [00:00<00:00, 10.69it/s]\n"
     ]
    },
    {
     "name": "stdout",
     "output_type": "stream",
     "text": [
      "./saved_models/model_4.pth\n",
      "Model 7:\n"
     ]
    },
    {
     "name": "stderr",
     "output_type": "stream",
     "text": [
      "Training Process: 100%|██████████| 10/10 [00:00<00:00, 13.58it/s]\n"
     ]
    },
    {
     "name": "stdout",
     "output_type": "stream",
     "text": [
      "./saved_models/model_7.pth\n",
      "Model 8:\n"
     ]
    },
    {
     "name": "stderr",
     "output_type": "stream",
     "text": [
      "Training Process: 100%|██████████| 10/10 [00:00<00:00, 12.87it/s]\n"
     ]
    },
    {
     "name": "stdout",
     "output_type": "stream",
     "text": [
      "./saved_models/model_8.pth\n",
      "Model 6:\n"
     ]
    },
    {
     "name": "stderr",
     "output_type": "stream",
     "text": [
      "Training Process: 100%|██████████| 10/10 [00:00<00:00, 13.06it/s]\n"
     ]
    },
    {
     "name": "stdout",
     "output_type": "stream",
     "text": [
      "./saved_models/model_6.pth\n",
      " Maximum accuracy: 0.8823784722222221, F1: 0.7178199718253965, Test: 0.9431386932730674, Train: 0.9510616238911946 \n",
      " \n",
      "\n",
      "|| TRAINING SINGLE MODEL || \n",
      "Task: Classification\n"
     ]
    },
    {
     "name": "stderr",
     "output_type": "stream",
     "text": [
      "Training Process: 100%|██████████| 70/70 [00:08<00:00,  8.73it/s]\n"
     ]
    },
    {
     "name": "stdout",
     "output_type": "stream",
     "text": [
      " Maximum accuracy: 0.8218874007936509, F1: 0.6775671713408196, Test: 0.8843955493399075, Train: 0.9117091033572242 \n",
      " \n",
      "\n",
      "Trail 73: \n",
      "\n",
      "|| TRAINING WEIGHT AVERAGING TREE ENSEMBLE ||\n",
      "Task: classification\n",
      "Randomly initializing 4 models\n",
      "Model 1:\n"
     ]
    },
    {
     "name": "stderr",
     "output_type": "stream",
     "text": [
      "Training Process: 100%|██████████| 10/10 [00:00<00:00, 11.52it/s]\n"
     ]
    },
    {
     "name": "stdout",
     "output_type": "stream",
     "text": [
      "./saved_models/model_1.pth\n",
      "Model 2:\n"
     ]
    },
    {
     "name": "stderr",
     "output_type": "stream",
     "text": [
      "Training Process: 100%|██████████| 10/10 [00:00<00:00, 12.06it/s]\n"
     ]
    },
    {
     "name": "stdout",
     "output_type": "stream",
     "text": [
      "./saved_models/model_2.pth\n",
      "Model 3:\n"
     ]
    },
    {
     "name": "stderr",
     "output_type": "stream",
     "text": [
      "Training Process: 100%|██████████| 10/10 [00:00<00:00, 13.95it/s]\n"
     ]
    },
    {
     "name": "stdout",
     "output_type": "stream",
     "text": [
      "./saved_models/model_3.pth\n",
      "Model 4:\n"
     ]
    },
    {
     "name": "stderr",
     "output_type": "stream",
     "text": [
      "Training Process: 100%|██████████| 10/10 [00:00<00:00, 12.63it/s]\n"
     ]
    },
    {
     "name": "stdout",
     "output_type": "stream",
     "text": [
      "./saved_models/model_4.pth\n",
      "Model 7:\n"
     ]
    },
    {
     "name": "stderr",
     "output_type": "stream",
     "text": [
      "Training Process: 100%|██████████| 10/10 [00:00<00:00, 11.52it/s]\n"
     ]
    },
    {
     "name": "stdout",
     "output_type": "stream",
     "text": [
      "./saved_models/model_7.pth\n",
      "Model 8:\n"
     ]
    },
    {
     "name": "stderr",
     "output_type": "stream",
     "text": [
      "Training Process: 100%|██████████| 10/10 [00:00<00:00, 12.36it/s]\n"
     ]
    },
    {
     "name": "stdout",
     "output_type": "stream",
     "text": [
      "./saved_models/model_8.pth\n",
      "Model 6:\n"
     ]
    },
    {
     "name": "stderr",
     "output_type": "stream",
     "text": [
      "Training Process: 100%|██████████| 10/10 [00:00<00:00, 12.17it/s]\n"
     ]
    },
    {
     "name": "stdout",
     "output_type": "stream",
     "text": [
      "./saved_models/model_6.pth\n",
      " Maximum accuracy: 0.8546006944444444, F1: 0.7031220296871556, Test: 0.9690245494246483, Train: 0.9970678412914276 \n",
      " \n",
      "\n",
      "|| TRAINING SINGLE MODEL || \n",
      "Task: Classification\n"
     ]
    },
    {
     "name": "stderr",
     "output_type": "stream",
     "text": [
      "Training Process: 100%|██████████| 70/70 [00:08<00:00,  8.37it/s]\n"
     ]
    },
    {
     "name": "stdout",
     "output_type": "stream",
     "text": [
      " Maximum accuracy: 0.8131696428571429, F1: 0.678965663285025, Test: 0.8940258309245109, Train: 0.953478513785771 \n",
      " \n",
      "\n",
      "Trail 74: \n",
      "\n",
      "|| TRAINING WEIGHT AVERAGING TREE ENSEMBLE ||\n",
      "Task: classification\n",
      "Randomly initializing 4 models\n",
      "Model 1:\n"
     ]
    },
    {
     "name": "stderr",
     "output_type": "stream",
     "text": [
      "Training Process: 100%|██████████| 10/10 [00:00<00:00, 13.21it/s]\n"
     ]
    },
    {
     "name": "stdout",
     "output_type": "stream",
     "text": [
      "./saved_models/model_1.pth\n",
      "Model 2:\n"
     ]
    },
    {
     "name": "stderr",
     "output_type": "stream",
     "text": [
      "Training Process: 100%|██████████| 10/10 [00:00<00:00, 14.51it/s]\n"
     ]
    },
    {
     "name": "stdout",
     "output_type": "stream",
     "text": [
      "./saved_models/model_2.pth\n",
      "Model 3:\n"
     ]
    },
    {
     "name": "stderr",
     "output_type": "stream",
     "text": [
      "Training Process: 100%|██████████| 10/10 [00:00<00:00, 11.50it/s]\n"
     ]
    },
    {
     "name": "stdout",
     "output_type": "stream",
     "text": [
      "./saved_models/model_3.pth\n",
      "Model 4:\n"
     ]
    },
    {
     "name": "stderr",
     "output_type": "stream",
     "text": [
      "Training Process: 100%|██████████| 10/10 [00:00<00:00, 12.71it/s]\n"
     ]
    },
    {
     "name": "stdout",
     "output_type": "stream",
     "text": [
      "./saved_models/model_4.pth\n",
      "Model 7:\n"
     ]
    },
    {
     "name": "stderr",
     "output_type": "stream",
     "text": [
      "Training Process: 100%|██████████| 10/10 [00:00<00:00, 12.37it/s]\n"
     ]
    },
    {
     "name": "stdout",
     "output_type": "stream",
     "text": [
      "./saved_models/model_7.pth\n",
      "Model 8:\n"
     ]
    },
    {
     "name": "stderr",
     "output_type": "stream",
     "text": [
      "Training Process: 100%|██████████| 10/10 [00:00<00:00, 11.79it/s]\n"
     ]
    },
    {
     "name": "stdout",
     "output_type": "stream",
     "text": [
      "./saved_models/model_8.pth\n",
      "Model 6:\n"
     ]
    },
    {
     "name": "stderr",
     "output_type": "stream",
     "text": [
      "Training Process: 100%|██████████| 10/10 [00:00<00:00, 12.03it/s]\n"
     ]
    },
    {
     "name": "stdout",
     "output_type": "stream",
     "text": [
      "./saved_models/model_6.pth\n",
      " Maximum accuracy: 0.9078993055555555, F1: 0.6714439346805341, Test: 1.0032406911253928, Train: 0.9926229600111643 \n",
      " \n",
      "\n",
      "|| TRAINING SINGLE MODEL || \n",
      "Task: Classification\n"
     ]
    },
    {
     "name": "stderr",
     "output_type": "stream",
     "text": [
      "Training Process: 100%|██████████| 70/70 [00:07<00:00,  8.78it/s]\n"
     ]
    },
    {
     "name": "stdout",
     "output_type": "stream",
     "text": [
      " Maximum accuracy: 0.8170386904761905, F1: 0.7118296362647583, Test: 0.8682670591132982, Train: 0.905296174628394 \n",
      " \n",
      "\n",
      "Trail 75: \n",
      "\n",
      "|| TRAINING WEIGHT AVERAGING TREE ENSEMBLE ||\n",
      "Task: classification\n",
      "Randomly initializing 4 models\n",
      "Model 1:\n"
     ]
    },
    {
     "name": "stderr",
     "output_type": "stream",
     "text": [
      "Training Process: 100%|██████████| 10/10 [00:00<00:00, 13.47it/s]\n"
     ]
    },
    {
     "name": "stdout",
     "output_type": "stream",
     "text": [
      "./saved_models/model_1.pth\n",
      "Model 2:\n"
     ]
    },
    {
     "name": "stderr",
     "output_type": "stream",
     "text": [
      "Training Process: 100%|██████████| 10/10 [00:00<00:00, 13.73it/s]\n"
     ]
    },
    {
     "name": "stdout",
     "output_type": "stream",
     "text": [
      "./saved_models/model_2.pth\n",
      "Model 3:\n"
     ]
    },
    {
     "name": "stderr",
     "output_type": "stream",
     "text": [
      "Training Process: 100%|██████████| 10/10 [00:00<00:00, 13.01it/s]\n"
     ]
    },
    {
     "name": "stdout",
     "output_type": "stream",
     "text": [
      "./saved_models/model_3.pth\n",
      "Model 4:\n"
     ]
    },
    {
     "name": "stderr",
     "output_type": "stream",
     "text": [
      "Training Process: 100%|██████████| 10/10 [00:00<00:00, 12.18it/s]\n"
     ]
    },
    {
     "name": "stdout",
     "output_type": "stream",
     "text": [
      "./saved_models/model_4.pth\n",
      "Model 7:\n"
     ]
    },
    {
     "name": "stderr",
     "output_type": "stream",
     "text": [
      "Training Process: 100%|██████████| 10/10 [00:00<00:00, 11.92it/s]\n"
     ]
    },
    {
     "name": "stdout",
     "output_type": "stream",
     "text": [
      "./saved_models/model_7.pth\n",
      "Model 8:\n"
     ]
    },
    {
     "name": "stderr",
     "output_type": "stream",
     "text": [
      "Training Process: 100%|██████████| 10/10 [00:00<00:00, 11.48it/s]\n"
     ]
    },
    {
     "name": "stdout",
     "output_type": "stream",
     "text": [
      "./saved_models/model_8.pth\n",
      "Model 6:\n"
     ]
    },
    {
     "name": "stderr",
     "output_type": "stream",
     "text": [
      "Training Process: 100%|██████████| 10/10 [00:00<00:00, 12.09it/s]\n"
     ]
    },
    {
     "name": "stdout",
     "output_type": "stream",
     "text": [
      "./saved_models/model_6.pth\n",
      " Maximum accuracy: 0.784375, F1: 0.6350304067772706, Test: 1.0076698049902917, Train: 0.9700000063578288 \n",
      " \n",
      "\n",
      "|| TRAINING SINGLE MODEL || \n",
      "Task: Classification\n"
     ]
    },
    {
     "name": "stderr",
     "output_type": "stream",
     "text": [
      "Training Process: 100%|██████████| 70/70 [00:08<00:00,  8.51it/s]\n"
     ]
    },
    {
     "name": "stdout",
     "output_type": "stream",
     "text": [
      " Maximum accuracy: 0.7872891865079366, F1: 0.7082647238763399, Test: 0.8824494574751173, Train: 0.8851867071219853 \n",
      " \n",
      "\n",
      "Trail 76: \n",
      "\n",
      "|| TRAINING WEIGHT AVERAGING TREE ENSEMBLE ||\n",
      "Task: classification\n",
      "Randomly initializing 4 models\n",
      "Model 1:\n"
     ]
    },
    {
     "name": "stderr",
     "output_type": "stream",
     "text": [
      "Training Process: 100%|██████████| 10/10 [00:00<00:00, 12.75it/s]\n"
     ]
    },
    {
     "name": "stdout",
     "output_type": "stream",
     "text": [
      "./saved_models/model_1.pth\n",
      "Model 2:\n"
     ]
    },
    {
     "name": "stderr",
     "output_type": "stream",
     "text": [
      "Training Process: 100%|██████████| 10/10 [00:00<00:00, 12.86it/s]\n"
     ]
    },
    {
     "name": "stdout",
     "output_type": "stream",
     "text": [
      "./saved_models/model_2.pth\n",
      "Model 3:\n"
     ]
    },
    {
     "name": "stderr",
     "output_type": "stream",
     "text": [
      "Training Process: 100%|██████████| 10/10 [00:00<00:00, 12.15it/s]\n"
     ]
    },
    {
     "name": "stdout",
     "output_type": "stream",
     "text": [
      "./saved_models/model_3.pth\n",
      "Model 4:\n"
     ]
    },
    {
     "name": "stderr",
     "output_type": "stream",
     "text": [
      "Training Process: 100%|██████████| 10/10 [00:00<00:00, 12.49it/s]\n"
     ]
    },
    {
     "name": "stdout",
     "output_type": "stream",
     "text": [
      "./saved_models/model_4.pth\n",
      "Model 7:\n"
     ]
    },
    {
     "name": "stderr",
     "output_type": "stream",
     "text": [
      "Training Process: 100%|██████████| 10/10 [00:00<00:00, 10.51it/s]\n"
     ]
    },
    {
     "name": "stdout",
     "output_type": "stream",
     "text": [
      "./saved_models/model_7.pth\n",
      "Model 8:\n"
     ]
    },
    {
     "name": "stderr",
     "output_type": "stream",
     "text": [
      "Training Process: 100%|██████████| 10/10 [00:01<00:00,  9.58it/s]\n"
     ]
    },
    {
     "name": "stdout",
     "output_type": "stream",
     "text": [
      "./saved_models/model_8.pth\n",
      "Model 6:\n"
     ]
    },
    {
     "name": "stderr",
     "output_type": "stream",
     "text": [
      "Training Process: 100%|██████████| 10/10 [00:00<00:00, 13.24it/s]\n"
     ]
    },
    {
     "name": "stdout",
     "output_type": "stream",
     "text": [
      "./saved_models/model_6.pth\n",
      " Maximum accuracy: 0.9245659722222221, F1: 0.7123857675862564, Test: 0.9615083709359169, Train: 0.9495787286758423 \n",
      " \n",
      "\n",
      "|| TRAINING SINGLE MODEL || \n",
      "Task: Classification\n"
     ]
    },
    {
     "name": "stderr",
     "output_type": "stream",
     "text": [
      "Training Process: 100%|██████████| 70/70 [00:08<00:00,  8.58it/s]\n"
     ]
    },
    {
     "name": "stdout",
     "output_type": "stream",
     "text": [
      " Maximum accuracy: 0.8349702380952382, F1: 0.7188645612282957, Test: 0.8390163713267871, Train: 0.8793557751178741 \n",
      " \n",
      "\n",
      "Trail 77: \n",
      "\n",
      "|| TRAINING WEIGHT AVERAGING TREE ENSEMBLE ||\n",
      "Task: classification\n",
      "Randomly initializing 4 models\n",
      "Model 1:\n"
     ]
    },
    {
     "name": "stderr",
     "output_type": "stream",
     "text": [
      "Training Process: 100%|██████████| 10/10 [00:00<00:00, 13.42it/s]\n"
     ]
    },
    {
     "name": "stdout",
     "output_type": "stream",
     "text": [
      "./saved_models/model_1.pth\n",
      "Model 2:\n"
     ]
    },
    {
     "name": "stderr",
     "output_type": "stream",
     "text": [
      "Training Process: 100%|██████████| 10/10 [00:00<00:00, 11.69it/s]\n"
     ]
    },
    {
     "name": "stdout",
     "output_type": "stream",
     "text": [
      "./saved_models/model_2.pth\n",
      "Model 3:\n"
     ]
    },
    {
     "name": "stderr",
     "output_type": "stream",
     "text": [
      "Training Process: 100%|██████████| 10/10 [00:00<00:00, 12.59it/s]\n"
     ]
    },
    {
     "name": "stdout",
     "output_type": "stream",
     "text": [
      "./saved_models/model_3.pth\n",
      "Model 4:\n"
     ]
    },
    {
     "name": "stderr",
     "output_type": "stream",
     "text": [
      "Training Process: 100%|██████████| 10/10 [00:00<00:00, 11.95it/s]\n"
     ]
    },
    {
     "name": "stdout",
     "output_type": "stream",
     "text": [
      "./saved_models/model_4.pth\n",
      "Model 7:\n"
     ]
    },
    {
     "name": "stderr",
     "output_type": "stream",
     "text": [
      "Training Process: 100%|██████████| 10/10 [00:00<00:00, 12.98it/s]\n"
     ]
    },
    {
     "name": "stdout",
     "output_type": "stream",
     "text": [
      "./saved_models/model_7.pth\n",
      "Model 8:\n"
     ]
    },
    {
     "name": "stderr",
     "output_type": "stream",
     "text": [
      "Training Process: 100%|██████████| 10/10 [00:00<00:00, 12.04it/s]\n"
     ]
    },
    {
     "name": "stdout",
     "output_type": "stream",
     "text": [
      "./saved_models/model_8.pth\n",
      "Model 6:\n"
     ]
    },
    {
     "name": "stderr",
     "output_type": "stream",
     "text": [
      "Training Process: 100%|██████████| 10/10 [00:00<00:00, 11.47it/s]\n"
     ]
    },
    {
     "name": "stdout",
     "output_type": "stream",
     "text": [
      "./saved_models/model_6.pth\n",
      " Maximum accuracy: 0.911892361111111, F1: 0.7459621859416274, Test: 0.9390100419521332, Train: 0.9459388689200083 \n",
      " \n",
      "\n",
      "|| TRAINING SINGLE MODEL || \n",
      "Task: Classification\n"
     ]
    },
    {
     "name": "stderr",
     "output_type": "stream",
     "text": [
      "Training Process: 100%|██████████| 70/70 [00:08<00:00,  8.25it/s]\n"
     ]
    },
    {
     "name": "stdout",
     "output_type": "stream",
     "text": [
      " Maximum accuracy: 0.7853174603174604, F1: 0.7142101484651011, Test: 0.872615633053439, Train: 0.8957491096428463 \n",
      " \n",
      "\n",
      "Trail 78: \n",
      "\n",
      "|| TRAINING WEIGHT AVERAGING TREE ENSEMBLE ||\n",
      "Task: classification\n",
      "Randomly initializing 4 models\n",
      "Model 1:\n"
     ]
    },
    {
     "name": "stderr",
     "output_type": "stream",
     "text": [
      "Training Process: 100%|██████████| 10/10 [00:00<00:00, 12.62it/s]\n"
     ]
    },
    {
     "name": "stdout",
     "output_type": "stream",
     "text": [
      "./saved_models/model_1.pth\n",
      "Model 2:\n"
     ]
    },
    {
     "name": "stderr",
     "output_type": "stream",
     "text": [
      "Training Process: 100%|██████████| 10/10 [00:00<00:00, 12.75it/s]\n"
     ]
    },
    {
     "name": "stdout",
     "output_type": "stream",
     "text": [
      "./saved_models/model_2.pth\n",
      "Model 3:\n"
     ]
    },
    {
     "name": "stderr",
     "output_type": "stream",
     "text": [
      "Training Process: 100%|██████████| 10/10 [00:00<00:00, 12.65it/s]\n"
     ]
    },
    {
     "name": "stdout",
     "output_type": "stream",
     "text": [
      "./saved_models/model_3.pth\n",
      "Model 4:\n"
     ]
    },
    {
     "name": "stderr",
     "output_type": "stream",
     "text": [
      "Training Process: 100%|██████████| 10/10 [00:00<00:00, 12.51it/s]\n"
     ]
    },
    {
     "name": "stdout",
     "output_type": "stream",
     "text": [
      "./saved_models/model_4.pth\n",
      "Model 7:\n"
     ]
    },
    {
     "name": "stderr",
     "output_type": "stream",
     "text": [
      "Training Process: 100%|██████████| 10/10 [00:00<00:00, 14.20it/s]\n"
     ]
    },
    {
     "name": "stdout",
     "output_type": "stream",
     "text": [
      "./saved_models/model_7.pth\n",
      "Model 8:\n"
     ]
    },
    {
     "name": "stderr",
     "output_type": "stream",
     "text": [
      "Training Process: 100%|██████████| 10/10 [00:00<00:00, 10.63it/s]\n"
     ]
    },
    {
     "name": "stdout",
     "output_type": "stream",
     "text": [
      "./saved_models/model_8.pth\n",
      "Model 6:\n"
     ]
    },
    {
     "name": "stderr",
     "output_type": "stream",
     "text": [
      "Training Process: 100%|██████████| 10/10 [00:00<00:00, 12.60it/s]\n"
     ]
    },
    {
     "name": "stdout",
     "output_type": "stream",
     "text": [
      "./saved_models/model_6.pth\n",
      " Maximum accuracy: 0.9310763888888889, F1: 0.7928003431620018, Test: 0.9590187281370163, Train: 0.9658638075987498 \n",
      " \n",
      "\n",
      "|| TRAINING SINGLE MODEL || \n",
      "Task: Classification\n"
     ]
    },
    {
     "name": "stderr",
     "output_type": "stream",
     "text": [
      "Training Process: 100%|██████████| 70/70 [00:08<00:00,  8.55it/s]\n"
     ]
    },
    {
     "name": "stdout",
     "output_type": "stream",
     "text": [
      " Maximum accuracy: 0.75703125, F1: 0.6696433037582734, Test: 0.9484612277575901, Train: 0.9654920860699245 \n",
      " \n",
      "\n",
      "Trail 79: \n",
      "\n",
      "|| TRAINING WEIGHT AVERAGING TREE ENSEMBLE ||\n",
      "Task: classification\n",
      "Randomly initializing 4 models\n",
      "Model 1:\n"
     ]
    },
    {
     "name": "stderr",
     "output_type": "stream",
     "text": [
      "Training Process: 100%|██████████| 10/10 [00:00<00:00, 13.02it/s]\n"
     ]
    },
    {
     "name": "stdout",
     "output_type": "stream",
     "text": [
      "./saved_models/model_1.pth\n",
      "Model 2:\n"
     ]
    },
    {
     "name": "stderr",
     "output_type": "stream",
     "text": [
      "Training Process: 100%|██████████| 10/10 [00:00<00:00, 12.51it/s]\n"
     ]
    },
    {
     "name": "stdout",
     "output_type": "stream",
     "text": [
      "./saved_models/model_2.pth\n",
      "Model 3:\n"
     ]
    },
    {
     "name": "stderr",
     "output_type": "stream",
     "text": [
      "Training Process: 100%|██████████| 10/10 [00:00<00:00, 11.61it/s]\n"
     ]
    },
    {
     "name": "stdout",
     "output_type": "stream",
     "text": [
      "./saved_models/model_3.pth\n",
      "Model 4:\n"
     ]
    },
    {
     "name": "stderr",
     "output_type": "stream",
     "text": [
      "Training Process: 100%|██████████| 10/10 [00:00<00:00, 12.62it/s]\n"
     ]
    },
    {
     "name": "stdout",
     "output_type": "stream",
     "text": [
      "./saved_models/model_4.pth\n",
      "Model 7:\n"
     ]
    },
    {
     "name": "stderr",
     "output_type": "stream",
     "text": [
      "Training Process: 100%|██████████| 10/10 [00:00<00:00, 13.18it/s]\n"
     ]
    },
    {
     "name": "stdout",
     "output_type": "stream",
     "text": [
      "./saved_models/model_7.pth\n",
      "Model 8:\n"
     ]
    },
    {
     "name": "stderr",
     "output_type": "stream",
     "text": [
      "Training Process: 100%|██████████| 10/10 [00:00<00:00, 11.04it/s]\n"
     ]
    },
    {
     "name": "stdout",
     "output_type": "stream",
     "text": [
      "./saved_models/model_8.pth\n",
      "Model 6:\n"
     ]
    },
    {
     "name": "stderr",
     "output_type": "stream",
     "text": [
      "Training Process: 100%|██████████| 10/10 [00:00<00:00, 12.59it/s]\n"
     ]
    },
    {
     "name": "stdout",
     "output_type": "stream",
     "text": [
      "./saved_models/model_6.pth\n",
      " Maximum accuracy: 0.9322048611111111, F1: 0.7057670034357834, Test: 0.9719743221998215, Train: 0.9725289515654246 \n",
      " \n",
      "\n",
      "|| TRAINING SINGLE MODEL || \n",
      "Task: Classification\n"
     ]
    },
    {
     "name": "stderr",
     "output_type": "stream",
     "text": [
      "Training Process: 100%|██████████| 70/70 [00:08<00:00,  8.29it/s]\n"
     ]
    },
    {
     "name": "stdout",
     "output_type": "stream",
     "text": [
      " Maximum accuracy: 0.8256448412698413, F1: 0.6927440493174025, Test: 0.8760180258325168, Train: 0.9078208765529451 \n",
      " \n",
      "\n",
      "Trail 80: \n",
      "\n",
      "|| TRAINING WEIGHT AVERAGING TREE ENSEMBLE ||\n",
      "Task: classification\n",
      "Randomly initializing 4 models\n",
      "Model 1:\n"
     ]
    },
    {
     "name": "stderr",
     "output_type": "stream",
     "text": [
      "Training Process: 100%|██████████| 10/10 [00:00<00:00, 13.98it/s]\n"
     ]
    },
    {
     "name": "stdout",
     "output_type": "stream",
     "text": [
      "./saved_models/model_1.pth\n",
      "Model 2:\n"
     ]
    },
    {
     "name": "stderr",
     "output_type": "stream",
     "text": [
      "Training Process: 100%|██████████| 10/10 [00:00<00:00, 12.36it/s]\n"
     ]
    },
    {
     "name": "stdout",
     "output_type": "stream",
     "text": [
      "./saved_models/model_2.pth\n",
      "Model 3:\n"
     ]
    },
    {
     "name": "stderr",
     "output_type": "stream",
     "text": [
      "Training Process: 100%|██████████| 10/10 [00:00<00:00, 12.77it/s]\n"
     ]
    },
    {
     "name": "stdout",
     "output_type": "stream",
     "text": [
      "./saved_models/model_3.pth\n",
      "Model 4:\n"
     ]
    },
    {
     "name": "stderr",
     "output_type": "stream",
     "text": [
      "Training Process: 100%|██████████| 10/10 [00:00<00:00, 12.95it/s]\n"
     ]
    },
    {
     "name": "stdout",
     "output_type": "stream",
     "text": [
      "./saved_models/model_4.pth\n",
      "Model 7:\n"
     ]
    },
    {
     "name": "stderr",
     "output_type": "stream",
     "text": [
      "Training Process: 100%|██████████| 10/10 [00:00<00:00, 12.84it/s]\n"
     ]
    },
    {
     "name": "stdout",
     "output_type": "stream",
     "text": [
      "./saved_models/model_7.pth\n",
      "Model 8:\n"
     ]
    },
    {
     "name": "stderr",
     "output_type": "stream",
     "text": [
      "Training Process: 100%|██████████| 10/10 [00:00<00:00, 12.39it/s]\n"
     ]
    },
    {
     "name": "stdout",
     "output_type": "stream",
     "text": [
      "./saved_models/model_8.pth\n",
      "Model 6:\n"
     ]
    },
    {
     "name": "stderr",
     "output_type": "stream",
     "text": [
      "Training Process: 100%|██████████| 10/10 [00:00<00:00, 11.98it/s]\n"
     ]
    },
    {
     "name": "stdout",
     "output_type": "stream",
     "text": [
      "./saved_models/model_6.pth\n",
      " Maximum accuracy: 0.9120659722222222, F1: 0.6726113656194954, Test: 0.9792945206165313, Train: 0.9823143343130748 \n",
      " \n",
      "\n",
      "|| TRAINING SINGLE MODEL || \n",
      "Task: Classification\n"
     ]
    },
    {
     "name": "stderr",
     "output_type": "stream",
     "text": [
      "Training Process: 100%|██████████| 70/70 [00:08<00:00,  8.57it/s]\n"
     ]
    },
    {
     "name": "stdout",
     "output_type": "stream",
     "text": [
      " Maximum accuracy: 0.8809895833333332, F1: 0.734766585432954, Test: 0.7996375243578638, Train: 0.8581671418462481 \n",
      " \n",
      "\n",
      "Trail 81: \n",
      "\n",
      "|| TRAINING WEIGHT AVERAGING TREE ENSEMBLE ||\n",
      "Task: classification\n",
      "Randomly initializing 4 models\n",
      "Model 1:\n"
     ]
    },
    {
     "name": "stderr",
     "output_type": "stream",
     "text": [
      "Training Process: 100%|██████████| 10/10 [00:00<00:00, 12.83it/s]\n"
     ]
    },
    {
     "name": "stdout",
     "output_type": "stream",
     "text": [
      "./saved_models/model_1.pth\n",
      "Model 2:\n"
     ]
    },
    {
     "name": "stderr",
     "output_type": "stream",
     "text": [
      "Training Process: 100%|██████████| 10/10 [00:00<00:00, 11.63it/s]\n"
     ]
    },
    {
     "name": "stdout",
     "output_type": "stream",
     "text": [
      "./saved_models/model_2.pth\n",
      "Model 3:\n"
     ]
    },
    {
     "name": "stderr",
     "output_type": "stream",
     "text": [
      "Training Process: 100%|██████████| 10/10 [00:00<00:00, 12.55it/s]\n"
     ]
    },
    {
     "name": "stdout",
     "output_type": "stream",
     "text": [
      "./saved_models/model_3.pth\n",
      "Model 4:\n"
     ]
    },
    {
     "name": "stderr",
     "output_type": "stream",
     "text": [
      "Training Process: 100%|██████████| 10/10 [00:00<00:00, 12.59it/s]\n"
     ]
    },
    {
     "name": "stdout",
     "output_type": "stream",
     "text": [
      "./saved_models/model_4.pth\n",
      "Model 7:\n"
     ]
    },
    {
     "name": "stderr",
     "output_type": "stream",
     "text": [
      "Training Process: 100%|██████████| 10/10 [00:00<00:00, 12.48it/s]\n"
     ]
    },
    {
     "name": "stdout",
     "output_type": "stream",
     "text": [
      "./saved_models/model_7.pth\n",
      "Model 8:\n"
     ]
    },
    {
     "name": "stderr",
     "output_type": "stream",
     "text": [
      "Training Process: 100%|██████████| 10/10 [00:00<00:00, 12.99it/s]\n"
     ]
    },
    {
     "name": "stdout",
     "output_type": "stream",
     "text": [
      "./saved_models/model_8.pth\n",
      "Model 6:\n"
     ]
    },
    {
     "name": "stderr",
     "output_type": "stream",
     "text": [
      "Training Process: 100%|██████████| 10/10 [00:00<00:00, 12.46it/s]\n"
     ]
    },
    {
     "name": "stdout",
     "output_type": "stream",
     "text": [
      "./saved_models/model_6.pth\n",
      " Maximum accuracy: 0.9651909722222222, F1: 0.780183444242349, Test: 0.9591607645153999, Train: 0.9733256642023722 \n",
      " \n",
      "\n",
      "|| TRAINING SINGLE MODEL || \n",
      "Task: Classification\n"
     ]
    },
    {
     "name": "stderr",
     "output_type": "stream",
     "text": [
      "Training Process: 100%|██████████| 70/70 [00:08<00:00,  8.21it/s]\n"
     ]
    },
    {
     "name": "stdout",
     "output_type": "stream",
     "text": [
      " Maximum accuracy: 0.8786334325396825, F1: 0.7384404103934835, Test: 0.8677163481712341, Train: 0.8817538714976538 \n",
      " \n",
      "\n",
      "Trail 82: \n",
      "\n",
      "|| TRAINING WEIGHT AVERAGING TREE ENSEMBLE ||\n",
      "Task: classification\n",
      "Randomly initializing 4 models\n",
      "Model 1:\n"
     ]
    },
    {
     "name": "stderr",
     "output_type": "stream",
     "text": [
      "Training Process: 100%|██████████| 10/10 [00:00<00:00, 12.35it/s]\n"
     ]
    },
    {
     "name": "stdout",
     "output_type": "stream",
     "text": [
      "./saved_models/model_1.pth\n",
      "Model 2:\n"
     ]
    },
    {
     "name": "stderr",
     "output_type": "stream",
     "text": [
      "Training Process: 100%|██████████| 10/10 [00:00<00:00, 12.10it/s]\n"
     ]
    },
    {
     "name": "stdout",
     "output_type": "stream",
     "text": [
      "./saved_models/model_2.pth\n",
      "Model 3:\n"
     ]
    },
    {
     "name": "stderr",
     "output_type": "stream",
     "text": [
      "Training Process: 100%|██████████| 10/10 [00:01<00:00,  8.43it/s]\n"
     ]
    },
    {
     "name": "stdout",
     "output_type": "stream",
     "text": [
      "./saved_models/model_3.pth\n",
      "Model 4:\n"
     ]
    },
    {
     "name": "stderr",
     "output_type": "stream",
     "text": [
      "Training Process: 100%|██████████| 10/10 [00:01<00:00,  9.89it/s]\n"
     ]
    },
    {
     "name": "stdout",
     "output_type": "stream",
     "text": [
      "./saved_models/model_4.pth\n",
      "Model 7:\n"
     ]
    },
    {
     "name": "stderr",
     "output_type": "stream",
     "text": [
      "Training Process: 100%|██████████| 10/10 [00:00<00:00, 14.59it/s]\n"
     ]
    },
    {
     "name": "stdout",
     "output_type": "stream",
     "text": [
      "./saved_models/model_7.pth\n",
      "Model 8:\n"
     ]
    },
    {
     "name": "stderr",
     "output_type": "stream",
     "text": [
      "Training Process: 100%|██████████| 10/10 [00:00<00:00, 11.58it/s]\n"
     ]
    },
    {
     "name": "stdout",
     "output_type": "stream",
     "text": [
      "./saved_models/model_8.pth\n",
      "Model 6:\n"
     ]
    },
    {
     "name": "stderr",
     "output_type": "stream",
     "text": [
      "Training Process: 100%|██████████| 10/10 [00:00<00:00, 12.31it/s]\n"
     ]
    },
    {
     "name": "stdout",
     "output_type": "stream",
     "text": [
      "./saved_models/model_6.pth\n",
      " Maximum accuracy: 0.8256944444444445, F1: 0.6688704896395555, Test: 1.0032169312238692, Train: 0.9817327121893565 \n",
      " \n",
      "\n",
      "|| TRAINING SINGLE MODEL || \n",
      "Task: Classification\n"
     ]
    },
    {
     "name": "stderr",
     "output_type": "stream",
     "text": [
      "Training Process: 100%|██████████| 70/70 [00:08<00:00,  8.52it/s]\n"
     ]
    },
    {
     "name": "stdout",
     "output_type": "stream",
     "text": [
      " Maximum accuracy: 0.6305679563492064, F1: 0.6091768857063575, Test: 0.9668200629098075, Train: 1.0280736223856608 \n",
      " \n",
      "\n",
      "Trail 83: \n",
      "\n",
      "|| TRAINING WEIGHT AVERAGING TREE ENSEMBLE ||\n",
      "Task: classification\n",
      "Randomly initializing 4 models\n",
      "Model 1:\n"
     ]
    },
    {
     "name": "stderr",
     "output_type": "stream",
     "text": [
      "Training Process: 100%|██████████| 10/10 [00:00<00:00, 13.15it/s]\n"
     ]
    },
    {
     "name": "stdout",
     "output_type": "stream",
     "text": [
      "./saved_models/model_1.pth\n",
      "Model 2:\n"
     ]
    },
    {
     "name": "stderr",
     "output_type": "stream",
     "text": [
      "Training Process: 100%|██████████| 10/10 [00:00<00:00, 12.92it/s]\n"
     ]
    },
    {
     "name": "stdout",
     "output_type": "stream",
     "text": [
      "./saved_models/model_2.pth\n",
      "Model 3:\n"
     ]
    },
    {
     "name": "stderr",
     "output_type": "stream",
     "text": [
      "Training Process: 100%|██████████| 10/10 [00:00<00:00, 12.32it/s]\n"
     ]
    },
    {
     "name": "stdout",
     "output_type": "stream",
     "text": [
      "./saved_models/model_3.pth\n",
      "Model 4:\n"
     ]
    },
    {
     "name": "stderr",
     "output_type": "stream",
     "text": [
      "Training Process: 100%|██████████| 10/10 [00:00<00:00, 11.43it/s]\n"
     ]
    },
    {
     "name": "stdout",
     "output_type": "stream",
     "text": [
      "./saved_models/model_4.pth\n",
      "Model 7:\n"
     ]
    },
    {
     "name": "stderr",
     "output_type": "stream",
     "text": [
      "Training Process: 100%|██████████| 10/10 [00:00<00:00, 12.46it/s]\n"
     ]
    },
    {
     "name": "stdout",
     "output_type": "stream",
     "text": [
      "./saved_models/model_7.pth\n",
      "Model 8:\n"
     ]
    },
    {
     "name": "stderr",
     "output_type": "stream",
     "text": [
      "Training Process: 100%|██████████| 10/10 [00:00<00:00, 13.21it/s]\n"
     ]
    },
    {
     "name": "stdout",
     "output_type": "stream",
     "text": [
      "./saved_models/model_8.pth\n",
      "Model 6:\n"
     ]
    },
    {
     "name": "stderr",
     "output_type": "stream",
     "text": [
      "Training Process: 100%|██████████| 10/10 [00:00<00:00, 12.76it/s]\n"
     ]
    },
    {
     "name": "stdout",
     "output_type": "stream",
     "text": [
      "./saved_models/model_6.pth\n",
      " Maximum accuracy: 0.8954861111111111, F1: 0.7238809618962044, Test: 0.9972113579511642, Train: 0.9949555452664693 \n",
      " \n",
      "\n",
      "|| TRAINING SINGLE MODEL || \n",
      "Task: Classification\n"
     ]
    },
    {
     "name": "stderr",
     "output_type": "stream",
     "text": [
      "Training Process: 100%|██████████| 70/70 [00:08<00:00,  8.37it/s]\n"
     ]
    },
    {
     "name": "stdout",
     "output_type": "stream",
     "text": [
      " Maximum accuracy: 0.9010416666666666, F1: 0.7657775019857903, Test: 0.8396020899925913, Train: 0.8791429737068358 \n",
      " \n",
      "\n",
      "Trail 84: \n",
      "\n",
      "|| TRAINING WEIGHT AVERAGING TREE ENSEMBLE ||\n",
      "Task: classification\n",
      "Randomly initializing 4 models\n",
      "Model 1:\n"
     ]
    },
    {
     "name": "stderr",
     "output_type": "stream",
     "text": [
      "Training Process: 100%|██████████| 10/10 [00:00<00:00, 14.24it/s]\n"
     ]
    },
    {
     "name": "stdout",
     "output_type": "stream",
     "text": [
      "./saved_models/model_1.pth\n",
      "Model 2:\n"
     ]
    },
    {
     "name": "stderr",
     "output_type": "stream",
     "text": [
      "Training Process: 100%|██████████| 10/10 [00:00<00:00, 11.27it/s]\n"
     ]
    },
    {
     "name": "stdout",
     "output_type": "stream",
     "text": [
      "./saved_models/model_2.pth\n",
      "Model 3:\n"
     ]
    },
    {
     "name": "stderr",
     "output_type": "stream",
     "text": [
      "Training Process: 100%|██████████| 10/10 [00:00<00:00, 12.87it/s]\n"
     ]
    },
    {
     "name": "stdout",
     "output_type": "stream",
     "text": [
      "./saved_models/model_3.pth\n",
      "Model 4:\n"
     ]
    },
    {
     "name": "stderr",
     "output_type": "stream",
     "text": [
      "Training Process: 100%|██████████| 10/10 [00:00<00:00, 12.84it/s]\n"
     ]
    },
    {
     "name": "stdout",
     "output_type": "stream",
     "text": [
      "./saved_models/model_4.pth\n",
      "Model 7:\n"
     ]
    },
    {
     "name": "stderr",
     "output_type": "stream",
     "text": [
      "Training Process: 100%|██████████| 10/10 [00:00<00:00, 12.38it/s]\n"
     ]
    },
    {
     "name": "stdout",
     "output_type": "stream",
     "text": [
      "./saved_models/model_7.pth\n",
      "Model 8:\n"
     ]
    },
    {
     "name": "stderr",
     "output_type": "stream",
     "text": [
      "Training Process: 100%|██████████| 10/10 [00:00<00:00, 12.48it/s]\n"
     ]
    },
    {
     "name": "stdout",
     "output_type": "stream",
     "text": [
      "./saved_models/model_8.pth\n",
      "Model 6:\n"
     ]
    },
    {
     "name": "stderr",
     "output_type": "stream",
     "text": [
      "Training Process: 100%|██████████| 10/10 [00:00<00:00, 12.77it/s]\n"
     ]
    },
    {
     "name": "stdout",
     "output_type": "stream",
     "text": [
      "./saved_models/model_6.pth\n",
      " Maximum accuracy: 0.9090277777777779, F1: 0.4980996646380789, Test: 0.964190648496151, Train: 0.9946694036324819 \n",
      " \n",
      "\n",
      "|| TRAINING SINGLE MODEL || \n",
      "Task: Classification\n"
     ]
    },
    {
     "name": "stderr",
     "output_type": "stream",
     "text": [
      "Training Process: 100%|██████████| 70/70 [00:08<00:00,  8.44it/s]\n"
     ]
    },
    {
     "name": "stdout",
     "output_type": "stream",
     "text": [
      " Maximum accuracy: 0.8194568452380953, F1: 0.7208285544178047, Test: 0.851210118830204, Train: 0.9044237680662246 \n",
      " \n",
      "\n",
      "Trail 85: \n",
      "\n",
      "|| TRAINING WEIGHT AVERAGING TREE ENSEMBLE ||\n",
      "Task: classification\n",
      "Randomly initializing 4 models\n",
      "Model 1:\n"
     ]
    },
    {
     "name": "stderr",
     "output_type": "stream",
     "text": [
      "Training Process: 100%|██████████| 10/10 [00:00<00:00, 12.92it/s]\n"
     ]
    },
    {
     "name": "stdout",
     "output_type": "stream",
     "text": [
      "./saved_models/model_1.pth\n",
      "Model 2:\n"
     ]
    },
    {
     "name": "stderr",
     "output_type": "stream",
     "text": [
      "Training Process: 100%|██████████| 10/10 [00:00<00:00, 11.19it/s]\n"
     ]
    },
    {
     "name": "stdout",
     "output_type": "stream",
     "text": [
      "./saved_models/model_2.pth\n",
      "Model 3:\n"
     ]
    },
    {
     "name": "stderr",
     "output_type": "stream",
     "text": [
      "Training Process: 100%|██████████| 10/10 [00:00<00:00, 11.90it/s]\n"
     ]
    },
    {
     "name": "stdout",
     "output_type": "stream",
     "text": [
      "./saved_models/model_3.pth\n",
      "Model 4:\n"
     ]
    },
    {
     "name": "stderr",
     "output_type": "stream",
     "text": [
      "Training Process: 100%|██████████| 10/10 [00:01<00:00,  9.54it/s]\n"
     ]
    },
    {
     "name": "stdout",
     "output_type": "stream",
     "text": [
      "./saved_models/model_4.pth\n",
      "Model 7:\n"
     ]
    },
    {
     "name": "stderr",
     "output_type": "stream",
     "text": [
      "Training Process: 100%|██████████| 10/10 [00:00<00:00, 11.00it/s]\n"
     ]
    },
    {
     "name": "stdout",
     "output_type": "stream",
     "text": [
      "./saved_models/model_7.pth\n",
      "Model 8:\n"
     ]
    },
    {
     "name": "stderr",
     "output_type": "stream",
     "text": [
      "Training Process: 100%|██████████| 10/10 [00:00<00:00, 11.47it/s]\n"
     ]
    },
    {
     "name": "stdout",
     "output_type": "stream",
     "text": [
      "./saved_models/model_8.pth\n",
      "Model 6:\n"
     ]
    },
    {
     "name": "stderr",
     "output_type": "stream",
     "text": [
      "Training Process: 100%|██████████| 10/10 [00:01<00:00,  9.98it/s]\n"
     ]
    },
    {
     "name": "stdout",
     "output_type": "stream",
     "text": [
      "./saved_models/model_6.pth\n",
      " Maximum accuracy: 0.8411458333333333, F1: 0.6653397488893349, Test: 1.0136275216937065, Train: 1.0154645609855653 \n",
      " \n",
      "\n",
      "|| TRAINING SINGLE MODEL || \n",
      "Task: Classification\n"
     ]
    },
    {
     "name": "stderr",
     "output_type": "stream",
     "text": [
      "Training Process: 100%|██████████| 70/70 [00:08<00:00,  8.70it/s]\n"
     ]
    },
    {
     "name": "stdout",
     "output_type": "stream",
     "text": [
      " Maximum accuracy: 0.9168774801587302, F1: 0.7746700287186041, Test: 0.833931760277067, Train: 0.8528348327250708 \n",
      " \n",
      "\n",
      "Trail 86: \n",
      "\n",
      "|| TRAINING WEIGHT AVERAGING TREE ENSEMBLE ||\n",
      "Task: classification\n",
      "Randomly initializing 4 models\n",
      "Model 1:\n"
     ]
    },
    {
     "name": "stderr",
     "output_type": "stream",
     "text": [
      "Training Process: 100%|██████████| 10/10 [00:00<00:00, 12.64it/s]\n"
     ]
    },
    {
     "name": "stdout",
     "output_type": "stream",
     "text": [
      "./saved_models/model_1.pth\n",
      "Model 2:\n"
     ]
    },
    {
     "name": "stderr",
     "output_type": "stream",
     "text": [
      "Training Process: 100%|██████████| 10/10 [00:00<00:00, 11.78it/s]\n"
     ]
    },
    {
     "name": "stdout",
     "output_type": "stream",
     "text": [
      "./saved_models/model_2.pth\n",
      "Model 3:\n"
     ]
    },
    {
     "name": "stderr",
     "output_type": "stream",
     "text": [
      "Training Process: 100%|██████████| 10/10 [00:00<00:00, 10.99it/s]\n"
     ]
    },
    {
     "name": "stdout",
     "output_type": "stream",
     "text": [
      "./saved_models/model_3.pth\n",
      "Model 4:\n"
     ]
    },
    {
     "name": "stderr",
     "output_type": "stream",
     "text": [
      "Training Process: 100%|██████████| 10/10 [00:00<00:00, 12.19it/s]\n"
     ]
    },
    {
     "name": "stdout",
     "output_type": "stream",
     "text": [
      "./saved_models/model_4.pth\n",
      "Model 7:\n"
     ]
    },
    {
     "name": "stderr",
     "output_type": "stream",
     "text": [
      "Training Process: 100%|██████████| 10/10 [00:00<00:00, 11.23it/s]\n"
     ]
    },
    {
     "name": "stdout",
     "output_type": "stream",
     "text": [
      "./saved_models/model_7.pth\n",
      "Model 8:\n"
     ]
    },
    {
     "name": "stderr",
     "output_type": "stream",
     "text": [
      "Training Process: 100%|██████████| 10/10 [00:01<00:00,  9.33it/s]\n"
     ]
    },
    {
     "name": "stdout",
     "output_type": "stream",
     "text": [
      "./saved_models/model_8.pth\n",
      "Model 6:\n"
     ]
    },
    {
     "name": "stderr",
     "output_type": "stream",
     "text": [
      "Training Process: 100%|██████████| 10/10 [00:00<00:00, 13.22it/s]\n"
     ]
    },
    {
     "name": "stdout",
     "output_type": "stream",
     "text": [
      "./saved_models/model_6.pth\n",
      " Maximum accuracy: 0.8964409722222222, F1: 0.7206393404288697, Test: 0.9771471217274665, Train: 0.9880256398518881 \n",
      " \n",
      "\n",
      "|| TRAINING SINGLE MODEL || \n",
      "Task: Classification\n"
     ]
    },
    {
     "name": "stderr",
     "output_type": "stream",
     "text": [
      "Training Process: 100%|██████████| 70/70 [00:08<00:00,  8.47it/s]\n"
     ]
    },
    {
     "name": "stdout",
     "output_type": "stream",
     "text": [
      " Maximum accuracy: 0.8148561507936508, F1: 0.6784182508212593, Test: 0.8667015737720898, Train: 0.8796060370263599 \n",
      " \n",
      "\n",
      "Trail 87: \n",
      "\n",
      "|| TRAINING WEIGHT AVERAGING TREE ENSEMBLE ||\n",
      "Task: classification\n",
      "Randomly initializing 4 models\n",
      "Model 1:\n"
     ]
    },
    {
     "name": "stderr",
     "output_type": "stream",
     "text": [
      "Training Process: 100%|██████████| 10/10 [00:00<00:00, 13.61it/s]\n"
     ]
    },
    {
     "name": "stdout",
     "output_type": "stream",
     "text": [
      "./saved_models/model_1.pth\n",
      "Model 2:\n"
     ]
    },
    {
     "name": "stderr",
     "output_type": "stream",
     "text": [
      "Training Process: 100%|██████████| 10/10 [00:00<00:00, 11.08it/s]\n"
     ]
    },
    {
     "name": "stdout",
     "output_type": "stream",
     "text": [
      "./saved_models/model_2.pth\n",
      "Model 3:\n"
     ]
    },
    {
     "name": "stderr",
     "output_type": "stream",
     "text": [
      "Training Process: 100%|██████████| 10/10 [00:00<00:00, 12.74it/s]\n"
     ]
    },
    {
     "name": "stdout",
     "output_type": "stream",
     "text": [
      "./saved_models/model_3.pth\n",
      "Model 4:\n"
     ]
    },
    {
     "name": "stderr",
     "output_type": "stream",
     "text": [
      "Training Process: 100%|██████████| 10/10 [00:00<00:00, 13.25it/s]\n"
     ]
    },
    {
     "name": "stdout",
     "output_type": "stream",
     "text": [
      "./saved_models/model_4.pth\n",
      "Model 7:\n"
     ]
    },
    {
     "name": "stderr",
     "output_type": "stream",
     "text": [
      "Training Process: 100%|██████████| 10/10 [00:00<00:00, 11.02it/s]\n"
     ]
    },
    {
     "name": "stdout",
     "output_type": "stream",
     "text": [
      "./saved_models/model_7.pth\n",
      "Model 8:\n"
     ]
    },
    {
     "name": "stderr",
     "output_type": "stream",
     "text": [
      "Training Process: 100%|██████████| 10/10 [00:00<00:00, 11.78it/s]\n"
     ]
    },
    {
     "name": "stdout",
     "output_type": "stream",
     "text": [
      "./saved_models/model_8.pth\n",
      "Model 6:\n"
     ]
    },
    {
     "name": "stderr",
     "output_type": "stream",
     "text": [
      "Training Process: 100%|██████████| 10/10 [00:00<00:00, 13.98it/s]\n"
     ]
    },
    {
     "name": "stdout",
     "output_type": "stream",
     "text": [
      "./saved_models/model_6.pth\n",
      " Maximum accuracy: 0.7778645833333334, F1: 0.6007610493881798, Test: 0.9715636625885964, Train: 0.9779083899656932 \n",
      " \n",
      "\n",
      "|| TRAINING SINGLE MODEL || \n",
      "Task: Classification\n"
     ]
    },
    {
     "name": "stderr",
     "output_type": "stream",
     "text": [
      "Training Process: 100%|██████████| 70/70 [00:08<00:00,  8.47it/s]\n"
     ]
    },
    {
     "name": "stdout",
     "output_type": "stream",
     "text": [
      " Maximum accuracy: 0.7377108134920636, F1: 0.6257266520818784, Test: 0.9296146271484239, Train: 0.9700162780852545 \n",
      " \n",
      "\n",
      "Trail 88: \n",
      "\n",
      "|| TRAINING WEIGHT AVERAGING TREE ENSEMBLE ||\n",
      "Task: classification\n",
      "Randomly initializing 4 models\n",
      "Model 1:\n"
     ]
    },
    {
     "name": "stderr",
     "output_type": "stream",
     "text": [
      "Training Process: 100%|██████████| 10/10 [00:00<00:00, 14.60it/s]\n"
     ]
    },
    {
     "name": "stdout",
     "output_type": "stream",
     "text": [
      "./saved_models/model_1.pth\n",
      "Model 2:\n"
     ]
    },
    {
     "name": "stderr",
     "output_type": "stream",
     "text": [
      "Training Process: 100%|██████████| 10/10 [00:00<00:00, 12.69it/s]\n"
     ]
    },
    {
     "name": "stdout",
     "output_type": "stream",
     "text": [
      "./saved_models/model_2.pth\n",
      "Model 3:\n"
     ]
    },
    {
     "name": "stderr",
     "output_type": "stream",
     "text": [
      "Training Process: 100%|██████████| 10/10 [00:00<00:00, 11.53it/s]\n"
     ]
    },
    {
     "name": "stdout",
     "output_type": "stream",
     "text": [
      "./saved_models/model_3.pth\n",
      "Model 4:\n"
     ]
    },
    {
     "name": "stderr",
     "output_type": "stream",
     "text": [
      "Training Process: 100%|██████████| 10/10 [00:00<00:00, 11.97it/s]\n"
     ]
    },
    {
     "name": "stdout",
     "output_type": "stream",
     "text": [
      "./saved_models/model_4.pth\n",
      "Model 7:\n"
     ]
    },
    {
     "name": "stderr",
     "output_type": "stream",
     "text": [
      "Training Process: 100%|██████████| 10/10 [00:00<00:00, 14.03it/s]\n"
     ]
    },
    {
     "name": "stdout",
     "output_type": "stream",
     "text": [
      "./saved_models/model_7.pth\n",
      "Model 8:\n"
     ]
    },
    {
     "name": "stderr",
     "output_type": "stream",
     "text": [
      "Training Process: 100%|██████████| 10/10 [00:00<00:00, 14.50it/s]\n"
     ]
    },
    {
     "name": "stdout",
     "output_type": "stream",
     "text": [
      "./saved_models/model_8.pth\n",
      "Model 6:\n"
     ]
    },
    {
     "name": "stderr",
     "output_type": "stream",
     "text": [
      "Training Process: 100%|██████████| 10/10 [00:00<00:00, 12.53it/s]\n"
     ]
    },
    {
     "name": "stdout",
     "output_type": "stream",
     "text": [
      "./saved_models/model_6.pth\n",
      " Maximum accuracy: 0.8193576388888889, F1: 0.6601053105123813, Test: 0.9820062205195427, Train: 1.0086922025680543 \n",
      " \n",
      "\n",
      "|| TRAINING SINGLE MODEL || \n",
      "Task: Classification\n"
     ]
    },
    {
     "name": "stderr",
     "output_type": "stream",
     "text": [
      "Training Process: 100%|██████████| 70/70 [00:07<00:00,  8.78it/s]\n"
     ]
    },
    {
     "name": "stdout",
     "output_type": "stream",
     "text": [
      " Maximum accuracy: 0.899156746031746, F1: 0.7475367707502826, Test: 0.8574574174625533, Train: 0.8901231462614877 \n",
      " \n",
      "\n",
      "Trail 89: \n",
      "\n",
      "|| TRAINING WEIGHT AVERAGING TREE ENSEMBLE ||\n",
      "Task: classification\n",
      "Randomly initializing 4 models\n",
      "Model 1:\n"
     ]
    },
    {
     "name": "stderr",
     "output_type": "stream",
     "text": [
      "Training Process: 100%|██████████| 10/10 [00:00<00:00, 13.74it/s]\n"
     ]
    },
    {
     "name": "stdout",
     "output_type": "stream",
     "text": [
      "./saved_models/model_1.pth\n",
      "Model 2:\n"
     ]
    },
    {
     "name": "stderr",
     "output_type": "stream",
     "text": [
      "Training Process: 100%|██████████| 10/10 [00:00<00:00, 12.95it/s]\n"
     ]
    },
    {
     "name": "stdout",
     "output_type": "stream",
     "text": [
      "./saved_models/model_2.pth\n",
      "Model 3:\n"
     ]
    },
    {
     "name": "stderr",
     "output_type": "stream",
     "text": [
      "Training Process: 100%|██████████| 10/10 [00:00<00:00, 13.32it/s]\n"
     ]
    },
    {
     "name": "stdout",
     "output_type": "stream",
     "text": [
      "./saved_models/model_3.pth\n",
      "Model 4:\n"
     ]
    },
    {
     "name": "stderr",
     "output_type": "stream",
     "text": [
      "Training Process: 100%|██████████| 10/10 [00:00<00:00, 12.04it/s]\n"
     ]
    },
    {
     "name": "stdout",
     "output_type": "stream",
     "text": [
      "./saved_models/model_4.pth\n",
      "Model 7:\n"
     ]
    },
    {
     "name": "stderr",
     "output_type": "stream",
     "text": [
      "Training Process: 100%|██████████| 10/10 [00:00<00:00, 12.32it/s]\n"
     ]
    },
    {
     "name": "stdout",
     "output_type": "stream",
     "text": [
      "./saved_models/model_7.pth\n",
      "Model 8:\n"
     ]
    },
    {
     "name": "stderr",
     "output_type": "stream",
     "text": [
      "Training Process: 100%|██████████| 10/10 [00:00<00:00, 13.49it/s]\n"
     ]
    },
    {
     "name": "stdout",
     "output_type": "stream",
     "text": [
      "./saved_models/model_8.pth\n",
      "Model 6:\n"
     ]
    },
    {
     "name": "stderr",
     "output_type": "stream",
     "text": [
      "Training Process: 100%|██████████| 10/10 [00:00<00:00, 13.00it/s]\n"
     ]
    },
    {
     "name": "stdout",
     "output_type": "stream",
     "text": [
      "./saved_models/model_6.pth\n",
      " Maximum accuracy: 0.8319444444444445, F1: 0.5709182556246442, Test: 0.9932757645845414, Train: 0.9809138000011444 \n",
      " \n",
      "\n",
      "|| TRAINING SINGLE MODEL || \n",
      "Task: Classification\n"
     ]
    },
    {
     "name": "stderr",
     "output_type": "stream",
     "text": [
      "Training Process: 100%|██████████| 70/70 [00:08<00:00,  8.67it/s]\n"
     ]
    },
    {
     "name": "stdout",
     "output_type": "stream",
     "text": [
      " Maximum accuracy: 0.8094494047619047, F1: 0.6691311639955301, Test: 0.9100877983229501, Train: 0.9536790687697274 \n",
      " \n",
      "\n",
      "Trail 90: \n",
      "\n",
      "|| TRAINING WEIGHT AVERAGING TREE ENSEMBLE ||\n",
      "Task: classification\n",
      "Randomly initializing 4 models\n",
      "Model 1:\n"
     ]
    },
    {
     "name": "stderr",
     "output_type": "stream",
     "text": [
      "Training Process: 100%|██████████| 10/10 [00:00<00:00, 14.98it/s]\n"
     ]
    },
    {
     "name": "stdout",
     "output_type": "stream",
     "text": [
      "./saved_models/model_1.pth\n",
      "Model 2:\n"
     ]
    },
    {
     "name": "stderr",
     "output_type": "stream",
     "text": [
      "Training Process: 100%|██████████| 10/10 [00:00<00:00, 12.45it/s]\n"
     ]
    },
    {
     "name": "stdout",
     "output_type": "stream",
     "text": [
      "./saved_models/model_2.pth\n",
      "Model 3:\n"
     ]
    },
    {
     "name": "stderr",
     "output_type": "stream",
     "text": [
      "Training Process: 100%|██████████| 10/10 [00:00<00:00, 13.67it/s]\n"
     ]
    },
    {
     "name": "stdout",
     "output_type": "stream",
     "text": [
      "./saved_models/model_3.pth\n",
      "Model 4:\n"
     ]
    },
    {
     "name": "stderr",
     "output_type": "stream",
     "text": [
      "Training Process: 100%|██████████| 10/10 [00:00<00:00, 13.70it/s]\n"
     ]
    },
    {
     "name": "stdout",
     "output_type": "stream",
     "text": [
      "./saved_models/model_4.pth\n",
      "Model 7:\n"
     ]
    },
    {
     "name": "stderr",
     "output_type": "stream",
     "text": [
      "Training Process: 100%|██████████| 10/10 [00:00<00:00, 14.16it/s]\n"
     ]
    },
    {
     "name": "stdout",
     "output_type": "stream",
     "text": [
      "./saved_models/model_7.pth\n",
      "Model 8:\n"
     ]
    },
    {
     "name": "stderr",
     "output_type": "stream",
     "text": [
      "Training Process: 100%|██████████| 10/10 [00:00<00:00, 14.07it/s]\n"
     ]
    },
    {
     "name": "stdout",
     "output_type": "stream",
     "text": [
      "./saved_models/model_8.pth\n",
      "Model 6:\n"
     ]
    },
    {
     "name": "stderr",
     "output_type": "stream",
     "text": [
      "Training Process: 100%|██████████| 10/10 [00:00<00:00, 14.29it/s]\n"
     ]
    },
    {
     "name": "stdout",
     "output_type": "stream",
     "text": [
      "./saved_models/model_6.pth\n",
      " Maximum accuracy: 0.8721354166666668, F1: 0.7102016891496784, Test: 0.9837178498506546, Train: 1.0145443709691366 \n",
      " \n",
      "\n",
      "|| TRAINING SINGLE MODEL || \n",
      "Task: Classification\n"
     ]
    },
    {
     "name": "stderr",
     "output_type": "stream",
     "text": [
      "Training Process: 100%|██████████| 70/70 [00:08<00:00,  8.24it/s]\n"
     ]
    },
    {
     "name": "stdout",
     "output_type": "stream",
     "text": [
      " Maximum accuracy: 0.932576884920635, F1: 0.7814017994912829, Test: 0.7840552302343505, Train: 0.8361327027139209 \n",
      " \n",
      "\n",
      "Trail 91: \n",
      "\n",
      "|| TRAINING WEIGHT AVERAGING TREE ENSEMBLE ||\n",
      "Task: classification\n",
      "Randomly initializing 4 models\n",
      "Model 1:\n"
     ]
    },
    {
     "name": "stderr",
     "output_type": "stream",
     "text": [
      "Training Process: 100%|██████████| 10/10 [00:00<00:00, 12.60it/s]\n"
     ]
    },
    {
     "name": "stdout",
     "output_type": "stream",
     "text": [
      "./saved_models/model_1.pth\n",
      "Model 2:\n"
     ]
    },
    {
     "name": "stderr",
     "output_type": "stream",
     "text": [
      "Training Process: 100%|██████████| 10/10 [00:00<00:00, 11.76it/s]\n"
     ]
    },
    {
     "name": "stdout",
     "output_type": "stream",
     "text": [
      "./saved_models/model_2.pth\n",
      "Model 3:\n"
     ]
    },
    {
     "name": "stderr",
     "output_type": "stream",
     "text": [
      "Training Process: 100%|██████████| 10/10 [00:00<00:00, 13.58it/s]\n"
     ]
    },
    {
     "name": "stdout",
     "output_type": "stream",
     "text": [
      "./saved_models/model_3.pth\n",
      "Model 4:\n"
     ]
    },
    {
     "name": "stderr",
     "output_type": "stream",
     "text": [
      "Training Process: 100%|██████████| 10/10 [00:00<00:00, 12.68it/s]\n"
     ]
    },
    {
     "name": "stdout",
     "output_type": "stream",
     "text": [
      "./saved_models/model_4.pth\n",
      "Model 7:\n"
     ]
    },
    {
     "name": "stderr",
     "output_type": "stream",
     "text": [
      "Training Process: 100%|██████████| 10/10 [00:00<00:00, 12.09it/s]\n"
     ]
    },
    {
     "name": "stdout",
     "output_type": "stream",
     "text": [
      "./saved_models/model_7.pth\n",
      "Model 8:\n"
     ]
    },
    {
     "name": "stderr",
     "output_type": "stream",
     "text": [
      "Training Process: 100%|██████████| 10/10 [00:00<00:00, 13.62it/s]\n"
     ]
    },
    {
     "name": "stdout",
     "output_type": "stream",
     "text": [
      "./saved_models/model_8.pth\n",
      "Model 6:\n"
     ]
    },
    {
     "name": "stderr",
     "output_type": "stream",
     "text": [
      "Training Process: 100%|██████████| 10/10 [00:00<00:00, 12.49it/s]\n"
     ]
    },
    {
     "name": "stdout",
     "output_type": "stream",
     "text": [
      "./saved_models/model_6.pth\n",
      " Maximum accuracy: 0.9095486111111111, F1: 0.6956272952582941, Test: 0.9682052746415138, Train: 0.959309333562851 \n",
      " \n",
      "\n",
      "|| TRAINING SINGLE MODEL || \n",
      "Task: Classification\n"
     ]
    },
    {
     "name": "stderr",
     "output_type": "stream",
     "text": [
      "Training Process: 100%|██████████| 70/70 [00:08<00:00,  8.63it/s]\n"
     ]
    },
    {
     "name": "stdout",
     "output_type": "stream",
     "text": [
      " Maximum accuracy: 0.7306423611111112, F1: 0.6528090783329977, Test: 0.9293995037674904, Train: 0.972216869479134 \n",
      " \n",
      "\n",
      "Trail 92: \n",
      "\n",
      "|| TRAINING WEIGHT AVERAGING TREE ENSEMBLE ||\n",
      "Task: classification\n",
      "Randomly initializing 4 models\n",
      "Model 1:\n"
     ]
    },
    {
     "name": "stderr",
     "output_type": "stream",
     "text": [
      "Training Process: 100%|██████████| 10/10 [00:00<00:00, 12.92it/s]\n"
     ]
    },
    {
     "name": "stdout",
     "output_type": "stream",
     "text": [
      "./saved_models/model_1.pth\n",
      "Model 2:\n"
     ]
    },
    {
     "name": "stderr",
     "output_type": "stream",
     "text": [
      "Training Process: 100%|██████████| 10/10 [00:00<00:00, 12.15it/s]\n"
     ]
    },
    {
     "name": "stdout",
     "output_type": "stream",
     "text": [
      "./saved_models/model_2.pth\n",
      "Model 3:\n"
     ]
    },
    {
     "name": "stderr",
     "output_type": "stream",
     "text": [
      "Training Process: 100%|██████████| 10/10 [00:00<00:00, 13.92it/s]\n"
     ]
    },
    {
     "name": "stdout",
     "output_type": "stream",
     "text": [
      "./saved_models/model_3.pth\n",
      "Model 4:\n"
     ]
    },
    {
     "name": "stderr",
     "output_type": "stream",
     "text": [
      "Training Process: 100%|██████████| 10/10 [00:00<00:00, 12.79it/s]\n"
     ]
    },
    {
     "name": "stdout",
     "output_type": "stream",
     "text": [
      "./saved_models/model_4.pth\n",
      "Model 7:\n"
     ]
    },
    {
     "name": "stderr",
     "output_type": "stream",
     "text": [
      "Training Process: 100%|██████████| 10/10 [00:00<00:00, 12.84it/s]\n"
     ]
    },
    {
     "name": "stdout",
     "output_type": "stream",
     "text": [
      "./saved_models/model_7.pth\n",
      "Model 8:\n"
     ]
    },
    {
     "name": "stderr",
     "output_type": "stream",
     "text": [
      "Training Process: 100%|██████████| 10/10 [00:00<00:00, 12.99it/s]\n"
     ]
    },
    {
     "name": "stdout",
     "output_type": "stream",
     "text": [
      "./saved_models/model_8.pth\n",
      "Model 6:\n"
     ]
    },
    {
     "name": "stderr",
     "output_type": "stream",
     "text": [
      "Training Process: 100%|██████████| 10/10 [00:00<00:00, 11.97it/s]\n"
     ]
    },
    {
     "name": "stdout",
     "output_type": "stream",
     "text": [
      "./saved_models/model_6.pth\n",
      " Maximum accuracy: 0.9421657986111112, F1: 0.6912975755113099, Test: 0.9630041927099228, Train: 0.9779722154140472 \n",
      " \n",
      "\n",
      "|| TRAINING SINGLE MODEL || \n",
      "Task: Classification\n"
     ]
    },
    {
     "name": "stderr",
     "output_type": "stream",
     "text": [
      "Training Process: 100%|██████████| 70/70 [00:07<00:00,  8.91it/s]\n"
     ]
    },
    {
     "name": "stdout",
     "output_type": "stream",
     "text": [
      " Maximum accuracy: 0.8273685515873016, F1: 0.7019909661466406, Test: 0.8902848445943423, Train: 0.9521839717456273 \n",
      " \n",
      "\n",
      "Trail 93: \n",
      "\n",
      "|| TRAINING WEIGHT AVERAGING TREE ENSEMBLE ||\n",
      "Task: classification\n",
      "Randomly initializing 4 models\n",
      "Model 1:\n"
     ]
    },
    {
     "name": "stderr",
     "output_type": "stream",
     "text": [
      "Training Process: 100%|██████████| 10/10 [00:00<00:00, 12.65it/s]\n"
     ]
    },
    {
     "name": "stdout",
     "output_type": "stream",
     "text": [
      "./saved_models/model_1.pth\n",
      "Model 2:\n"
     ]
    },
    {
     "name": "stderr",
     "output_type": "stream",
     "text": [
      "Training Process: 100%|██████████| 10/10 [00:00<00:00, 11.27it/s]\n"
     ]
    },
    {
     "name": "stdout",
     "output_type": "stream",
     "text": [
      "./saved_models/model_2.pth\n",
      "Model 3:\n"
     ]
    },
    {
     "name": "stderr",
     "output_type": "stream",
     "text": [
      "Training Process: 100%|██████████| 10/10 [00:00<00:00, 13.14it/s]\n"
     ]
    },
    {
     "name": "stdout",
     "output_type": "stream",
     "text": [
      "./saved_models/model_3.pth\n",
      "Model 4:\n"
     ]
    },
    {
     "name": "stderr",
     "output_type": "stream",
     "text": [
      "Training Process: 100%|██████████| 10/10 [00:00<00:00, 11.96it/s]\n"
     ]
    },
    {
     "name": "stdout",
     "output_type": "stream",
     "text": [
      "./saved_models/model_4.pth\n",
      "Model 7:\n"
     ]
    },
    {
     "name": "stderr",
     "output_type": "stream",
     "text": [
      "Training Process: 100%|██████████| 10/10 [00:00<00:00, 12.20it/s]\n"
     ]
    },
    {
     "name": "stdout",
     "output_type": "stream",
     "text": [
      "./saved_models/model_7.pth\n",
      "Model 8:\n"
     ]
    },
    {
     "name": "stderr",
     "output_type": "stream",
     "text": [
      "Training Process: 100%|██████████| 10/10 [00:00<00:00, 14.64it/s]\n"
     ]
    },
    {
     "name": "stdout",
     "output_type": "stream",
     "text": [
      "./saved_models/model_8.pth\n",
      "Model 6:\n"
     ]
    },
    {
     "name": "stderr",
     "output_type": "stream",
     "text": [
      "Training Process: 100%|██████████| 10/10 [00:00<00:00, 12.31it/s]\n"
     ]
    },
    {
     "name": "stdout",
     "output_type": "stream",
     "text": [
      "./saved_models/model_6.pth\n",
      " Maximum accuracy: 0.9394097222222222, F1: 0.6793374045075531, Test: 0.9983402907848358, Train: 0.9923609133561452 \n",
      " \n",
      "\n",
      "|| TRAINING SINGLE MODEL || \n",
      "Task: Classification\n"
     ]
    },
    {
     "name": "stderr",
     "output_type": "stream",
     "text": [
      "Training Process: 100%|██████████| 70/70 [00:07<00:00,  8.86it/s]\n"
     ]
    },
    {
     "name": "stdout",
     "output_type": "stream",
     "text": [
      " Maximum accuracy: 0.8989707341269841, F1: 0.756609355080037, Test: 0.8235765431608473, Train: 0.8754808798858098 \n",
      " \n",
      "\n",
      "Trail 94: \n",
      "\n",
      "|| TRAINING WEIGHT AVERAGING TREE ENSEMBLE ||\n",
      "Task: classification\n",
      "Randomly initializing 4 models\n",
      "Model 1:\n"
     ]
    },
    {
     "name": "stderr",
     "output_type": "stream",
     "text": [
      "Training Process: 100%|██████████| 10/10 [00:00<00:00, 13.43it/s]\n"
     ]
    },
    {
     "name": "stdout",
     "output_type": "stream",
     "text": [
      "./saved_models/model_1.pth\n",
      "Model 2:\n"
     ]
    },
    {
     "name": "stderr",
     "output_type": "stream",
     "text": [
      "Training Process: 100%|██████████| 10/10 [00:00<00:00, 13.82it/s]\n"
     ]
    },
    {
     "name": "stdout",
     "output_type": "stream",
     "text": [
      "./saved_models/model_2.pth\n",
      "Model 3:\n"
     ]
    },
    {
     "name": "stderr",
     "output_type": "stream",
     "text": [
      "Training Process: 100%|██████████| 10/10 [00:00<00:00, 12.63it/s]\n"
     ]
    },
    {
     "name": "stdout",
     "output_type": "stream",
     "text": [
      "./saved_models/model_3.pth\n",
      "Model 4:\n"
     ]
    },
    {
     "name": "stderr",
     "output_type": "stream",
     "text": [
      "Training Process: 100%|██████████| 10/10 [00:00<00:00, 11.48it/s]\n"
     ]
    },
    {
     "name": "stdout",
     "output_type": "stream",
     "text": [
      "./saved_models/model_4.pth\n",
      "Model 7:\n"
     ]
    },
    {
     "name": "stderr",
     "output_type": "stream",
     "text": [
      "Training Process: 100%|██████████| 10/10 [00:00<00:00, 13.06it/s]\n"
     ]
    },
    {
     "name": "stdout",
     "output_type": "stream",
     "text": [
      "./saved_models/model_7.pth\n",
      "Model 8:\n"
     ]
    },
    {
     "name": "stderr",
     "output_type": "stream",
     "text": [
      "Training Process: 100%|██████████| 10/10 [00:00<00:00, 13.56it/s]\n"
     ]
    },
    {
     "name": "stdout",
     "output_type": "stream",
     "text": [
      "./saved_models/model_8.pth\n",
      "Model 6:\n"
     ]
    },
    {
     "name": "stderr",
     "output_type": "stream",
     "text": [
      "Training Process: 100%|██████████| 10/10 [00:00<00:00, 12.22it/s]\n"
     ]
    },
    {
     "name": "stdout",
     "output_type": "stream",
     "text": [
      "./saved_models/model_6.pth\n",
      " Maximum accuracy: 0.8941840277777778, F1: 0.7233839543712844, Test: 0.9759015411138534, Train: 0.9696130347251892 \n",
      " \n",
      "\n",
      "|| TRAINING SINGLE MODEL || \n",
      "Task: Classification\n"
     ]
    },
    {
     "name": "stderr",
     "output_type": "stream",
     "text": [
      "Training Process: 100%|██████████| 70/70 [00:08<00:00,  8.21it/s]\n"
     ]
    },
    {
     "name": "stdout",
     "output_type": "stream",
     "text": [
      " Maximum accuracy: 0.7442460317460318, F1: 0.6992914216300725, Test: 0.920450191625527, Train: 0.9551187597002302 \n",
      " \n",
      "\n",
      "Trail 95: \n",
      "\n",
      "|| TRAINING WEIGHT AVERAGING TREE ENSEMBLE ||\n",
      "Task: classification\n",
      "Randomly initializing 4 models\n",
      "Model 1:\n"
     ]
    },
    {
     "name": "stderr",
     "output_type": "stream",
     "text": [
      "Training Process: 100%|██████████| 10/10 [00:00<00:00, 12.09it/s]\n"
     ]
    },
    {
     "name": "stdout",
     "output_type": "stream",
     "text": [
      "./saved_models/model_1.pth\n",
      "Model 2:\n"
     ]
    },
    {
     "name": "stderr",
     "output_type": "stream",
     "text": [
      "Training Process: 100%|██████████| 10/10 [00:00<00:00, 12.74it/s]\n"
     ]
    },
    {
     "name": "stdout",
     "output_type": "stream",
     "text": [
      "./saved_models/model_2.pth\n",
      "Model 3:\n"
     ]
    },
    {
     "name": "stderr",
     "output_type": "stream",
     "text": [
      "Training Process: 100%|██████████| 10/10 [00:00<00:00, 11.56it/s]\n"
     ]
    },
    {
     "name": "stdout",
     "output_type": "stream",
     "text": [
      "./saved_models/model_3.pth\n",
      "Model 4:\n"
     ]
    },
    {
     "name": "stderr",
     "output_type": "stream",
     "text": [
      "Training Process: 100%|██████████| 10/10 [00:00<00:00, 12.50it/s]\n"
     ]
    },
    {
     "name": "stdout",
     "output_type": "stream",
     "text": [
      "./saved_models/model_4.pth\n",
      "Model 7:\n"
     ]
    },
    {
     "name": "stderr",
     "output_type": "stream",
     "text": [
      "Training Process: 100%|██████████| 10/10 [00:00<00:00, 14.17it/s]\n"
     ]
    },
    {
     "name": "stdout",
     "output_type": "stream",
     "text": [
      "./saved_models/model_7.pth\n",
      "Model 8:\n"
     ]
    },
    {
     "name": "stderr",
     "output_type": "stream",
     "text": [
      "Training Process: 100%|██████████| 10/10 [00:00<00:00, 12.49it/s]\n"
     ]
    },
    {
     "name": "stdout",
     "output_type": "stream",
     "text": [
      "./saved_models/model_8.pth\n",
      "Model 6:\n"
     ]
    },
    {
     "name": "stderr",
     "output_type": "stream",
     "text": [
      "Training Process: 100%|██████████| 10/10 [00:00<00:00, 12.38it/s]\n"
     ]
    },
    {
     "name": "stdout",
     "output_type": "stream",
     "text": [
      "./saved_models/model_6.pth\n",
      " Maximum accuracy: 0.9010416666666666, F1: 0.7355271330331187, Test: 0.9269287377595902, Train: 0.9206042242050171 \n",
      " \n",
      "\n",
      "|| TRAINING SINGLE MODEL || \n",
      "Task: Classification\n"
     ]
    },
    {
     "name": "stderr",
     "output_type": "stream",
     "text": [
      "Training Process: 100%|██████████| 70/70 [00:07<00:00,  9.13it/s]\n"
     ]
    },
    {
     "name": "stdout",
     "output_type": "stream",
     "text": [
      " Maximum accuracy: 0.8831101190476189, F1: 0.6974379241912465, Test: 0.8262561042393957, Train: 0.9111201994192033 \n",
      " \n",
      "\n",
      "Trail 96: \n",
      "\n",
      "|| TRAINING WEIGHT AVERAGING TREE ENSEMBLE ||\n",
      "Task: classification\n",
      "Randomly initializing 4 models\n",
      "Model 1:\n"
     ]
    },
    {
     "name": "stderr",
     "output_type": "stream",
     "text": [
      "Training Process: 100%|██████████| 10/10 [00:00<00:00, 12.36it/s]\n"
     ]
    },
    {
     "name": "stdout",
     "output_type": "stream",
     "text": [
      "./saved_models/model_1.pth\n",
      "Model 2:\n"
     ]
    },
    {
     "name": "stderr",
     "output_type": "stream",
     "text": [
      "Training Process: 100%|██████████| 10/10 [00:00<00:00, 13.30it/s]\n"
     ]
    },
    {
     "name": "stdout",
     "output_type": "stream",
     "text": [
      "./saved_models/model_2.pth\n",
      "Model 3:\n"
     ]
    },
    {
     "name": "stderr",
     "output_type": "stream",
     "text": [
      "Training Process: 100%|██████████| 10/10 [00:00<00:00, 11.62it/s]\n"
     ]
    },
    {
     "name": "stdout",
     "output_type": "stream",
     "text": [
      "./saved_models/model_3.pth\n",
      "Model 4:\n"
     ]
    },
    {
     "name": "stderr",
     "output_type": "stream",
     "text": [
      "Training Process: 100%|██████████| 10/10 [00:00<00:00, 11.63it/s]\n"
     ]
    },
    {
     "name": "stdout",
     "output_type": "stream",
     "text": [
      "./saved_models/model_4.pth\n",
      "Model 7:\n"
     ]
    },
    {
     "name": "stderr",
     "output_type": "stream",
     "text": [
      "Training Process: 100%|██████████| 10/10 [00:00<00:00, 13.91it/s]\n"
     ]
    },
    {
     "name": "stdout",
     "output_type": "stream",
     "text": [
      "./saved_models/model_7.pth\n",
      "Model 8:\n"
     ]
    },
    {
     "name": "stderr",
     "output_type": "stream",
     "text": [
      "Training Process: 100%|██████████| 10/10 [00:00<00:00, 11.11it/s]\n"
     ]
    },
    {
     "name": "stdout",
     "output_type": "stream",
     "text": [
      "./saved_models/model_8.pth\n",
      "Model 6:\n"
     ]
    },
    {
     "name": "stderr",
     "output_type": "stream",
     "text": [
      "Training Process: 100%|██████████| 10/10 [00:00<00:00, 13.48it/s]\n"
     ]
    },
    {
     "name": "stdout",
     "output_type": "stream",
     "text": [
      "./saved_models/model_6.pth\n",
      " Maximum accuracy: 0.9189236111111111, F1: 0.7909540797264883, Test: 0.9060000911355018, Train: 0.919119103749593 \n",
      " \n",
      "\n",
      "|| TRAINING SINGLE MODEL || \n",
      "Task: Classification\n"
     ]
    },
    {
     "name": "stderr",
     "output_type": "stream",
     "text": [
      "Training Process: 100%|██████████| 70/70 [00:07<00:00,  9.14it/s]\n"
     ]
    },
    {
     "name": "stdout",
     "output_type": "stream",
     "text": [
      " Maximum accuracy: 0.6522321428571429, F1: 0.5686957847872031, Test: 0.9962599865027837, Train: 1.067639174518131 \n",
      " \n",
      "\n",
      "Trail 97: \n",
      "\n",
      "|| TRAINING WEIGHT AVERAGING TREE ENSEMBLE ||\n",
      "Task: classification\n",
      "Randomly initializing 4 models\n",
      "Model 1:\n"
     ]
    },
    {
     "name": "stderr",
     "output_type": "stream",
     "text": [
      "Training Process: 100%|██████████| 10/10 [00:00<00:00, 12.98it/s]\n"
     ]
    },
    {
     "name": "stdout",
     "output_type": "stream",
     "text": [
      "./saved_models/model_1.pth\n",
      "Model 2:\n"
     ]
    },
    {
     "name": "stderr",
     "output_type": "stream",
     "text": [
      "Training Process: 100%|██████████| 10/10 [00:00<00:00, 13.85it/s]\n"
     ]
    },
    {
     "name": "stdout",
     "output_type": "stream",
     "text": [
      "./saved_models/model_2.pth\n",
      "Model 3:\n"
     ]
    },
    {
     "name": "stderr",
     "output_type": "stream",
     "text": [
      "Training Process: 100%|██████████| 10/10 [00:00<00:00, 12.98it/s]\n"
     ]
    },
    {
     "name": "stdout",
     "output_type": "stream",
     "text": [
      "./saved_models/model_3.pth\n",
      "Model 4:\n"
     ]
    },
    {
     "name": "stderr",
     "output_type": "stream",
     "text": [
      "Training Process: 100%|██████████| 10/10 [00:00<00:00, 11.70it/s]\n"
     ]
    },
    {
     "name": "stdout",
     "output_type": "stream",
     "text": [
      "./saved_models/model_4.pth\n",
      "Model 7:\n"
     ]
    },
    {
     "name": "stderr",
     "output_type": "stream",
     "text": [
      "Training Process: 100%|██████████| 10/10 [00:00<00:00, 13.47it/s]\n"
     ]
    },
    {
     "name": "stdout",
     "output_type": "stream",
     "text": [
      "./saved_models/model_7.pth\n",
      "Model 8:\n"
     ]
    },
    {
     "name": "stderr",
     "output_type": "stream",
     "text": [
      "Training Process: 100%|██████████| 10/10 [00:00<00:00, 13.59it/s]\n"
     ]
    },
    {
     "name": "stdout",
     "output_type": "stream",
     "text": [
      "./saved_models/model_8.pth\n",
      "Model 6:\n"
     ]
    },
    {
     "name": "stderr",
     "output_type": "stream",
     "text": [
      "Training Process: 100%|██████████| 10/10 [00:00<00:00, 13.58it/s]\n"
     ]
    },
    {
     "name": "stdout",
     "output_type": "stream",
     "text": [
      "./saved_models/model_6.pth\n",
      " Maximum accuracy: 0.9282986111111111, F1: 0.7302830657084023, Test: 0.9729890868067741, Train: 1.0055653071403503 \n",
      " \n",
      "\n",
      "|| TRAINING SINGLE MODEL || \n",
      "Task: Classification\n"
     ]
    },
    {
     "name": "stderr",
     "output_type": "stream",
     "text": [
      "Training Process: 100%|██████████| 70/70 [00:07<00:00,  8.97it/s]\n"
     ]
    },
    {
     "name": "stdout",
     "output_type": "stream",
     "text": [
      " Maximum accuracy: 0.6937996031746032, F1: 0.6104269129276357, Test: 0.947872208910329, Train: 0.9652364640576498 \n",
      " \n",
      "\n",
      "Trail 98: \n",
      "\n",
      "|| TRAINING WEIGHT AVERAGING TREE ENSEMBLE ||\n",
      "Task: classification\n",
      "Randomly initializing 4 models\n",
      "Model 1:\n"
     ]
    },
    {
     "name": "stderr",
     "output_type": "stream",
     "text": [
      "Training Process: 100%|██████████| 10/10 [00:00<00:00, 13.69it/s]\n"
     ]
    },
    {
     "name": "stdout",
     "output_type": "stream",
     "text": [
      "./saved_models/model_1.pth\n",
      "Model 2:\n"
     ]
    },
    {
     "name": "stderr",
     "output_type": "stream",
     "text": [
      "Training Process: 100%|██████████| 10/10 [00:00<00:00, 13.24it/s]\n"
     ]
    },
    {
     "name": "stdout",
     "output_type": "stream",
     "text": [
      "./saved_models/model_2.pth\n",
      "Model 3:\n"
     ]
    },
    {
     "name": "stderr",
     "output_type": "stream",
     "text": [
      "Training Process: 100%|██████████| 10/10 [00:00<00:00, 11.97it/s]\n"
     ]
    },
    {
     "name": "stdout",
     "output_type": "stream",
     "text": [
      "./saved_models/model_3.pth\n",
      "Model 4:\n"
     ]
    },
    {
     "name": "stderr",
     "output_type": "stream",
     "text": [
      "Training Process: 100%|██████████| 10/10 [00:00<00:00, 11.92it/s]\n"
     ]
    },
    {
     "name": "stdout",
     "output_type": "stream",
     "text": [
      "./saved_models/model_4.pth\n",
      "Model 7:\n"
     ]
    },
    {
     "name": "stderr",
     "output_type": "stream",
     "text": [
      "Training Process: 100%|██████████| 10/10 [00:00<00:00, 14.56it/s]\n"
     ]
    },
    {
     "name": "stdout",
     "output_type": "stream",
     "text": [
      "./saved_models/model_7.pth\n",
      "Model 8:\n"
     ]
    },
    {
     "name": "stderr",
     "output_type": "stream",
     "text": [
      "Training Process: 100%|██████████| 10/10 [00:00<00:00, 13.27it/s]\n"
     ]
    },
    {
     "name": "stdout",
     "output_type": "stream",
     "text": [
      "./saved_models/model_8.pth\n",
      "Model 6:\n"
     ]
    },
    {
     "name": "stderr",
     "output_type": "stream",
     "text": [
      "Training Process: 100%|██████████| 10/10 [00:00<00:00, 12.07it/s]\n"
     ]
    },
    {
     "name": "stdout",
     "output_type": "stream",
     "text": [
      "./saved_models/model_6.pth\n",
      " Maximum accuracy: 0.9243923611111111, F1: 0.7232228176046573, Test: 0.9542736023664474, Train: 0.9754494512081147 \n",
      " \n",
      "\n",
      "|| TRAINING SINGLE MODEL || \n",
      "Task: Classification\n"
     ]
    },
    {
     "name": "stderr",
     "output_type": "stream",
     "text": [
      "Training Process: 100%|██████████| 70/70 [00:07<00:00,  8.76it/s]\n"
     ]
    },
    {
     "name": "stdout",
     "output_type": "stream",
     "text": [
      " Maximum accuracy: 0.8775297619047621, F1: 0.7497457577110743, Test: 0.87599739666496, Train: 0.8933107306843712 \n",
      " \n",
      "\n",
      "Trail 99: \n",
      "\n",
      "|| TRAINING WEIGHT AVERAGING TREE ENSEMBLE ||\n",
      "Task: classification\n",
      "Randomly initializing 4 models\n",
      "Model 1:\n"
     ]
    },
    {
     "name": "stderr",
     "output_type": "stream",
     "text": [
      "Training Process: 100%|██████████| 10/10 [00:00<00:00, 12.63it/s]\n"
     ]
    },
    {
     "name": "stdout",
     "output_type": "stream",
     "text": [
      "./saved_models/model_1.pth\n",
      "Model 2:\n"
     ]
    },
    {
     "name": "stderr",
     "output_type": "stream",
     "text": [
      "Training Process: 100%|██████████| 10/10 [00:00<00:00, 11.99it/s]\n"
     ]
    },
    {
     "name": "stdout",
     "output_type": "stream",
     "text": [
      "./saved_models/model_2.pth\n",
      "Model 3:\n"
     ]
    },
    {
     "name": "stderr",
     "output_type": "stream",
     "text": [
      "Training Process: 100%|██████████| 10/10 [00:00<00:00, 12.78it/s]\n"
     ]
    },
    {
     "name": "stdout",
     "output_type": "stream",
     "text": [
      "./saved_models/model_3.pth\n",
      "Model 4:\n"
     ]
    },
    {
     "name": "stderr",
     "output_type": "stream",
     "text": [
      "Training Process: 100%|██████████| 10/10 [00:00<00:00, 12.75it/s]\n"
     ]
    },
    {
     "name": "stdout",
     "output_type": "stream",
     "text": [
      "./saved_models/model_4.pth\n",
      "Model 7:\n"
     ]
    },
    {
     "name": "stderr",
     "output_type": "stream",
     "text": [
      "Training Process: 100%|██████████| 10/10 [00:00<00:00, 10.89it/s]\n"
     ]
    },
    {
     "name": "stdout",
     "output_type": "stream",
     "text": [
      "./saved_models/model_7.pth\n",
      "Model 8:\n"
     ]
    },
    {
     "name": "stderr",
     "output_type": "stream",
     "text": [
      "Training Process: 100%|██████████| 10/10 [00:01<00:00,  9.23it/s]\n"
     ]
    },
    {
     "name": "stdout",
     "output_type": "stream",
     "text": [
      "./saved_models/model_8.pth\n",
      "Model 6:\n"
     ]
    },
    {
     "name": "stderr",
     "output_type": "stream",
     "text": [
      "Training Process: 100%|██████████| 10/10 [00:00<00:00, 12.53it/s]\n"
     ]
    },
    {
     "name": "stdout",
     "output_type": "stream",
     "text": [
      "./saved_models/model_6.pth\n",
      " Maximum accuracy: 0.8403645833333332, F1: 0.7311975154810023, Test: 0.9795791894197464, Train: 0.9657110516230265 \n",
      " \n",
      "\n",
      "|| TRAINING SINGLE MODEL || \n",
      "Task: Classification\n"
     ]
    },
    {
     "name": "stderr",
     "output_type": "stream",
     "text": [
      "Training Process: 100%|██████████| 70/70 [00:07<00:00,  8.96it/s]"
     ]
    },
    {
     "name": "stdout",
     "output_type": "stream",
     "text": [
      " Maximum accuracy: 0.7571056547619048, F1: 0.6476700577168659, Test: 0.9055356202380997, Train: 0.9424078718821207 \n",
      " \n",
      "\n"
     ]
    },
    {
     "name": "stderr",
     "output_type": "stream",
     "text": [
      "\n"
     ]
    }
   ],
   "source": [
    "output_directory = './fixed.csv'\n",
    "run_experiment(DTEmlp4b, trails=100, output_directory=output_directory)"
   ]
  },
  {
   "cell_type": "code",
   "execution_count": 54,
   "metadata": {},
   "outputs": [],
   "source": [
    "df = pd.read_csv(\"fixed.csv\")"
   ]
  },
  {
   "cell_type": "code",
   "execution_count": 55,
   "metadata": {},
   "outputs": [
    {
     "name": "stdout",
     "output_type": "stream",
     "text": [
      "Index(['DTE_acc', 'DTE_f1', 'DTE_test', 'DTE_train', 'single_acc', 'single_f1',\n",
      "       'single_test', 'single_train'],\n",
      "      dtype='object')\n"
     ]
    }
   ],
   "source": [
    "print(df.columns)"
   ]
  },
  {
   "cell_type": "code",
   "execution_count": 56,
   "metadata": {},
   "outputs": [
    {
     "name": "stdout",
     "output_type": "stream",
     "text": [
      "single acc mean: 0.8066558779761905  DTE acc mean: 0.8575434992283952\n",
      "single acc var: 0.004676934480984211  DTE acc var: 0.006216706607605751\n",
      "single loss mean: 0.8932053092207226  DTE loss mean: 0.9822792329341173\n",
      "single loss var: 0.001863120451107072  DTE loss var: 0.0008684946649726689\n"
     ]
    }
   ],
   "source": [
    "print(f'single acc mean: {df[\"single_acc\"].mean()}  DTE acc mean: {df[\"DTE_acc\"].mean()}')\n",
    "print(f'single acc var: {df[\"single_acc\"].var()}  DTE acc var: {df[\"DTE_acc\"].var()}')\n",
    "print(f'single loss mean: {df[\"single_test\"].mean()}  DTE loss mean: {df[\"DTE_test\"].mean()}')\n",
    "print(f'single loss var: {df[\"single_test\"].var()}  DTE loss var: {df[\"DTE_test\"].var()}')"
   ]
  },
  {
   "cell_type": "code",
   "execution_count": null,
   "metadata": {},
   "outputs": [],
   "source": [
    "hidden_layers = [25, 25]\n",
    "multiLayerPerceptron = MLP(input_size=input_size, hidden_layers=hidden_layers, output_size=output_size+1, dropout=.5) #hidden size default at 100\n",
    "\n",
    "# Fill DTE params\n",
    "modelSaveDirectory = './saved_models/'\n",
    "DTEmlp8b = DeepTreeEnsemble(task_name='classification',\n",
    "                                model_arch=multiLayerPerceptron,\n",
    "                                model_dir=modelSaveDirectory, \n",
    "                                base_number=4,\n",
    "                                epochs=10,\n",
    "                                train_dataloader=train_dataloader, \n",
    "                                test_dataloader=test_dataloader,\n",
    "                                learning_rate=0.0001)"
   ]
  },
  {
   "cell_type": "code",
   "execution_count": null,
   "metadata": {},
   "outputs": [],
   "source": [
    "output_directory = './outputBase8.csv'\n",
    "run_experiment(DTEmlp8b, trails=5, output_directory=output_directory)"
   ]
  },
  {
   "cell_type": "code",
   "execution_count": null,
   "metadata": {},
   "outputs": [],
   "source": []
  }
 ],
 "metadata": {
  "kernelspec": {
   "display_name": "vit",
   "language": "python",
   "name": "python3"
  },
  "language_info": {
   "codemirror_mode": {
    "name": "ipython",
    "version": 3
   },
   "file_extension": ".py",
   "mimetype": "text/x-python",
   "name": "python",
   "nbconvert_exporter": "python",
   "pygments_lexer": "ipython3",
   "version": "3.9.16"
  }
 },
 "nbformat": 4,
 "nbformat_minor": 2
}
