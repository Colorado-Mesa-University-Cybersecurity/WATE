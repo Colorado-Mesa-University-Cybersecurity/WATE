{
 "cells": [
  {
   "cell_type": "code",
   "execution_count": 1,
   "metadata": {},
   "outputs": [],
   "source": [
    "import torch\n",
    "import torch.nn as nn\n",
    "import torch.nn.init as init\n",
    "import random\n",
    "import copy\n",
    "from sklearn.model_selection import train_test_split\n",
    "from torch.utils.data import TensorDataset, DataLoader\n",
    "import numpy as np\n",
    "import matplotlib.pyplot as plt\n",
    "import DeepTreeEnsemble\n",
    "import torch.nn.functional as F\n",
    "from importlib import reload\n",
    "import pandas as pd\n",
    "reload(DeepTreeEnsemble)\n",
    "from DeepTreeEnsemble import DeepTreeEnsemble, create_dataloaders_for_dataset \n",
    "# if this ^ doesn't work, try 'pip install -e .' in the root directory of it. Make sure you are in \n",
    "# the desired environment. "
   ]
  },
  {
   "cell_type": "code",
   "execution_count": 2,
   "metadata": {},
   "outputs": [
    {
     "name": "stdout",
     "output_type": "stream",
     "text": [
      "xtrain size 455\n",
      "xtest size 114\n",
      "y_train size 455\n",
      "y_test size 114\n"
     ]
    },
    {
     "ename": "TypeError",
     "evalue": "preload_dataset_to_device() missing 1 required positional argument: 'device'",
     "output_type": "error",
     "traceback": [
      "\u001b[1;31m---------------------------------------------------------------------------\u001b[0m",
      "\u001b[1;31mTypeError\u001b[0m                                 Traceback (most recent call last)",
      "Cell \u001b[1;32mIn[2], line 1\u001b[0m\n\u001b[1;32m----> 1\u001b[0m train_dataloader, test_dataloader, input_size, output_size \u001b[38;5;241m=\u001b[39m \u001b[43mcreate_dataloaders_for_dataset\u001b[49m\u001b[43m(\u001b[49m\u001b[43mdataset_name\u001b[49m\u001b[38;5;241;43m=\u001b[39;49m\u001b[38;5;124;43m'\u001b[39;49m\u001b[38;5;124;43mbreast_cancer\u001b[39;49m\u001b[38;5;124;43m'\u001b[39;49m\u001b[43m,\u001b[49m\u001b[43m \u001b[49m\u001b[43mtask\u001b[49m\u001b[38;5;241;43m=\u001b[39;49m\u001b[38;5;124;43m'\u001b[39;49m\u001b[38;5;124;43mclassification\u001b[39;49m\u001b[38;5;124;43m'\u001b[39;49m\u001b[43m,\u001b[49m\u001b[43m \u001b[49m\u001b[43mbatch_size\u001b[49m\u001b[38;5;241;43m=\u001b[39;49m\u001b[38;5;241;43m32\u001b[39;49m\u001b[43m)\u001b[49m\n",
      "File \u001b[1;32mc:\\users\\smbm2\\projects\\wate\\deeptreeensemble\\DeepTreeEnsemble.py:95\u001b[0m, in \u001b[0;36mcreate_dataloaders_for_dataset\u001b[1;34m(dataset_name, task, test_size, batch_size)\u001b[0m\n\u001b[0;32m     92\u001b[0m test_dataloader \u001b[38;5;241m=\u001b[39m DataLoader(test_dataset, batch_size\u001b[38;5;241m=\u001b[39mbatch_size, shuffle\u001b[38;5;241m=\u001b[39m\u001b[38;5;28;01mFalse\u001b[39;00m)\n\u001b[0;32m     94\u001b[0m \u001b[38;5;66;03m# Preload datasets to device (if they fit into your device memory)\u001b[39;00m\n\u001b[1;32m---> 95\u001b[0m train_dataloader \u001b[38;5;241m=\u001b[39m \u001b[43mpreload_dataset_to_device\u001b[49m\u001b[43m(\u001b[49m\u001b[43mtrain_dataloader\u001b[49m\u001b[43m,\u001b[49m\u001b[43m \u001b[49m\u001b[38;5;28;43mlen\u001b[39;49m\u001b[43m(\u001b[49m\u001b[43mtrain_dataset\u001b[49m\u001b[43m)\u001b[49m\u001b[43m)\u001b[49m\n\u001b[0;32m     96\u001b[0m test_dataloader \u001b[38;5;241m=\u001b[39m preload_dataset_to_device(test_dataloader, \u001b[38;5;28mlen\u001b[39m(test_dataset))\n\u001b[0;32m     98\u001b[0m \u001b[38;5;66;03m# Calculate input size (number of features)\u001b[39;00m\n",
      "\u001b[1;31mTypeError\u001b[0m: preload_dataset_to_device() missing 1 required positional argument: 'device'"
     ]
    }
   ],
   "source": [
    "train_dataloader, test_dataloader, input_size, output_size = create_dataloaders_for_dataset(dataset_name='breast_cancer', task='classification', batch_size=32)"
   ]
  },
  {
   "cell_type": "code",
   "execution_count": null,
   "metadata": {},
   "outputs": [],
   "source": [
    "class LinearModel(nn.Module):\n",
    "    def __init__(self, input_size, output_size):\n",
    "        super(LinearModel, self).__init__()\n",
    "        self.linear = nn.Linear(input_size, output_size)\n",
    "    \n",
    "    def forward(self, x):\n",
    "        x = x.to(torch.float32)\n",
    "        return self.linear(x)"
   ]
  },
  {
   "cell_type": "code",
   "execution_count": null,
   "metadata": {},
   "outputs": [],
   "source": [
    "model = LinearModel(input_size, output_size)\n",
    "\n",
    "# Fill DTE params\n",
    "modelSaveDirectory = './saved_models/'\n",
    "DTEmlp4b = DeepTreeEnsemble(task_name='classification',\n",
    "                                model_arch=model,\n",
    "                                model_dir=modelSaveDirectory, \n",
    "                                base_number=4,\n",
    "                                epochs=10,\n",
    "                                train_dataloader=train_dataloader, \n",
    "                                test_dataloader=test_dataloader,\n",
    "                                learning_rate=0.0000002)"
   ]
  },
  {
   "cell_type": "code",
   "execution_count": null,
   "metadata": {},
   "outputs": [],
   "source": [
    "def run_experiment(DTE, trails, output_directory):\n",
    "    results = pd.DataFrame()\n",
    "\n",
    "    for i in range(trails):\n",
    "        df1 = DTE.train_DTE()\n",
    "        df2 = DTE.single_model()\n",
    "        combined_df = pd.concat([df1, df2], axis=1)\n",
    "        results = pd.concat([results, combined_df], axis=0)\n",
    "\n",
    "    results.to_csv(output_directory, index=False)"
   ]
  },
  {
   "cell_type": "code",
   "execution_count": null,
   "metadata": {},
   "outputs": [
    {
     "name": "stdout",
     "output_type": "stream",
     "text": [
      "Randomly initializing 4 models\n",
      "Training Model with id 1\n",
      "in multi\n"
     ]
    },
    {
     "name": "stderr",
     "output_type": "stream",
     "text": [
      "Training Process: 100%|██████████| 10/10 [00:00<00:00, 22.48it/s]\n"
     ]
    },
    {
     "name": "stdout",
     "output_type": "stream",
     "text": [
      "Total Epochs: 10\n",
      "Train loss start: 0.6922181248664856, Train loss end: 0.8870745301246643\n",
      "Highest Mean Train Accuracy (over epoch): 0.5401785714285714\n",
      "Test loss start: 0.7195866107940674, Test loss end: 0.7191426157951355\n",
      "Highest mean Test Accuracy (over epoch): 0.5564236111111112\n",
      " Test F1 score at highest accuracy: 0.5472912301706077\n",
      "./saved_models/model_1.pth \n",
      "\n",
      "Training Model with id 2\n",
      "in multi\n"
     ]
    },
    {
     "name": "stderr",
     "output_type": "stream",
     "text": [
      "Training Process: 100%|██████████| 10/10 [00:00<00:00, 24.02it/s]\n"
     ]
    },
    {
     "name": "stdout",
     "output_type": "stream",
     "text": [
      "Total Epochs: 10\n",
      "Train loss start: 0.6887960433959961, Train loss end: 0.682654082775116\n",
      "Highest Mean Train Accuracy (over epoch): 0.6117559523809524\n",
      "Test loss start: 0.6645014882087708, Test loss end: 0.755180835723877\n",
      "Highest mean Test Accuracy (over epoch): 0.45225694444444453\n",
      " Test F1 score at highest accuracy: 0.6189897129526923\n",
      "./saved_models/model_2.pth \n",
      "\n",
      "Training Model with id 3\n",
      "in multi\n"
     ]
    },
    {
     "name": "stderr",
     "output_type": "stream",
     "text": [
      "Training Process: 100%|██████████| 10/10 [00:00<00:00, 24.12it/s]\n"
     ]
    },
    {
     "name": "stdout",
     "output_type": "stream",
     "text": [
      "Total Epochs: 10\n",
      "Train loss start: 1.1798129081726074, Train loss end: 1.2852636575698853\n",
      "Highest Mean Train Accuracy (over epoch): 0.08998015873015874\n",
      "Test loss start: 0.9898205399513245, Test loss end: 0.8723433017730713\n",
      "Highest mean Test Accuracy (over epoch): 0.3046875\n",
      " Test F1 score at highest accuracy: 0.09825715489357874\n",
      "./saved_models/model_3.pth \n",
      "\n",
      "Training Model with id 4\n",
      "in multi\n"
     ]
    },
    {
     "name": "stderr",
     "output_type": "stream",
     "text": [
      "Training Process: 100%|██████████| 10/10 [00:00<00:00, 22.08it/s]\n"
     ]
    },
    {
     "name": "stdout",
     "output_type": "stream",
     "text": [
      "Total Epochs: 10\n",
      "Train loss start: 0.5240665078163147, Train loss end: 0.6421791315078735\n",
      "Highest Mean Train Accuracy (over epoch): 0.8136160714285714\n",
      "Test loss start: 0.6062772870063782, Test loss end: 0.6450323462486267\n",
      "Highest mean Test Accuracy (over epoch): 0.6640625\n",
      " Test F1 score at highest accuracy: 0.8164753803767089\n",
      "./saved_models/model_4.pth \n",
      "\n",
      "Training Model with id 7\n",
      "in multi\n"
     ]
    },
    {
     "name": "stderr",
     "output_type": "stream",
     "text": [
      "Training Process: 100%|██████████| 10/10 [00:00<00:00, 24.15it/s]\n"
     ]
    },
    {
     "name": "stdout",
     "output_type": "stream",
     "text": [
      "Total Epochs: 10\n",
      "Train loss start: 0.563927948474884, Train loss end: 0.4812089800834656\n",
      "Highest Mean Train Accuracy (over epoch): 0.8229166666666666\n",
      "Test loss start: 0.6062051653862, Test loss end: 0.6449887156486511\n",
      "Highest mean Test Accuracy (over epoch): 0.6640625\n",
      " Test F1 score at highest accuracy: 0.8164753803767089\n",
      "./saved_models/model_7.pth \n",
      "\n",
      "Training Model with id 8\n",
      "in multi\n"
     ]
    },
    {
     "name": "stderr",
     "output_type": "stream",
     "text": [
      "Training Process: 100%|██████████| 10/10 [00:00<00:00, 24.66it/s]\n"
     ]
    },
    {
     "name": "stdout",
     "output_type": "stream",
     "text": [
      "Total Epochs: 10\n",
      "Train loss start: 0.6190111041069031, Train loss end: 0.6762768626213074\n",
      "Highest Mean Train Accuracy (over epoch): 0.8129960317460316\n",
      "Test loss start: 0.6061330437660217, Test loss end: 0.6449453830718994\n",
      "Highest mean Test Accuracy (over epoch): 0.6640625\n",
      " Test F1 score at highest accuracy: 0.8164753803767089\n",
      "./saved_models/model_8.pth \n",
      "\n",
      "Training Model with id 6\n",
      "in multi\n"
     ]
    },
    {
     "name": "stderr",
     "output_type": "stream",
     "text": [
      "Training Process: 100%|██████████| 10/10 [00:00<00:00, 25.00it/s]\n"
     ]
    },
    {
     "name": "stdout",
     "output_type": "stream",
     "text": [
      "Total Epochs: 10\n",
      "Train loss start: 0.5288292765617371, Train loss end: 0.5664587020874023\n",
      "Highest Mean Train Accuracy (over epoch): 0.8142361111111112\n",
      "Test loss start: 0.606061577796936, Test loss end: 0.6449022889137268\n",
      "Highest mean Test Accuracy (over epoch): 0.6640625\n",
      " Test F1 score at highest accuracy: 0.8164753803767089\n",
      "./saved_models/model_6.pth \n",
      "\n",
      " Maximum accuracy: 0.6640625, F1: 0.8164753803767089, Test: 0.6302521035075188, Train: 0.5502472460269928\n",
      "in multi\n"
     ]
    },
    {
     "name": "stderr",
     "output_type": "stream",
     "text": [
      "Training Process: 100%|██████████| 70/70 [00:04<00:00, 15.03it/s]\n"
     ]
    },
    {
     "name": "stdout",
     "output_type": "stream",
     "text": [
      "Total Epochs: 70\n",
      "Train loss start: 0.6260467171669006, Train loss end: 0.4963255226612091\n",
      "Highest Mean Train Accuracy (over epoch): 0.7666666666666667\n",
      "Test loss start: 0.6154646277427673, Test loss end: 0.7149991393089294\n",
      "Highest mean Test Accuracy (over epoch): 0.671875\n",
      " Test F1 score at highest accuracy: 0.7555644256904449\n",
      "Randomly initializing 4 models\n",
      "Training Model with id 1\n",
      "in multi\n"
     ]
    },
    {
     "name": "stderr",
     "output_type": "stream",
     "text": [
      "Training Process: 100%|██████████| 10/10 [00:00<00:00, 23.24it/s]\n"
     ]
    },
    {
     "name": "stdout",
     "output_type": "stream",
     "text": [
      "Total Epochs: 10\n",
      "Train loss start: 0.7694767713546753, Train loss end: 0.8452752232551575\n",
      "Highest Mean Train Accuracy (over epoch): 0.3793650793650794\n",
      "Test loss start: 0.8632651567459106, Test loss end: 0.7480562329292297\n",
      "Highest mean Test Accuracy (over epoch): 0.43142361111111116\n",
      " Test F1 score at highest accuracy: 0.38325853901770135\n",
      "./saved_models/model_1.pth \n",
      "\n",
      "Training Model with id 2\n",
      "in multi\n"
     ]
    },
    {
     "name": "stderr",
     "output_type": "stream",
     "text": [
      "Training Process: 100%|██████████| 10/10 [00:00<00:00, 23.16it/s]\n"
     ]
    },
    {
     "name": "stdout",
     "output_type": "stream",
     "text": [
      "Total Epochs: 10\n",
      "Train loss start: 0.6290140748023987, Train loss end: 0.512482762336731\n",
      "Highest Mean Train Accuracy (over epoch): 0.6555059523809524\n",
      "Test loss start: 0.5859552621841431, Test loss end: 0.6273758411407471\n",
      "Highest mean Test Accuracy (over epoch): 0.6666666666666667\n",
      " Test F1 score at highest accuracy: 0.6537340210809599\n",
      "./saved_models/model_2.pth \n",
      "\n",
      "Training Model with id 3\n",
      "in multi\n"
     ]
    },
    {
     "name": "stderr",
     "output_type": "stream",
     "text": [
      "Training Process: 100%|██████████| 10/10 [00:00<00:00, 24.05it/s]\n"
     ]
    },
    {
     "name": "stdout",
     "output_type": "stream",
     "text": [
      "Total Epochs: 10\n",
      "Train loss start: 0.9655594229698181, Train loss end: 1.0680195093154907\n",
      "Highest Mean Train Accuracy (over epoch): 0.1386904761904762\n",
      "Test loss start: 0.8802704811096191, Test loss end: 0.8428912162780762\n",
      "Highest mean Test Accuracy (over epoch): 0.33159722222222227\n",
      " Test F1 score at highest accuracy: 0.15116272120389906\n",
      "./saved_models/model_3.pth \n",
      "\n",
      "Training Model with id 4\n",
      "in multi\n"
     ]
    },
    {
     "name": "stderr",
     "output_type": "stream",
     "text": [
      "Training Process: 100%|██████████| 10/10 [00:00<00:00, 24.62it/s]\n"
     ]
    },
    {
     "name": "stdout",
     "output_type": "stream",
     "text": [
      "Total Epochs: 10\n",
      "Train loss start: 0.8898999691009521, Train loss end: 0.7386323809623718\n",
      "Highest Mean Train Accuracy (over epoch): 0.334375\n",
      "Test loss start: 0.7403604388237, Test loss end: 0.7542582154273987\n",
      "Highest mean Test Accuracy (over epoch): 0.46440972222222227\n",
      " Test F1 score at highest accuracy: 0.3346038558167121\n",
      "./saved_models/model_4.pth \n",
      "\n",
      "Training Model with id 7\n",
      "in multi\n"
     ]
    },
    {
     "name": "stderr",
     "output_type": "stream",
     "text": [
      "Training Process: 100%|██████████| 10/10 [00:00<00:00, 19.82it/s]\n"
     ]
    },
    {
     "name": "stdout",
     "output_type": "stream",
     "text": [
      "Total Epochs: 10\n",
      "Train loss start: 0.8325854539871216, Train loss end: 0.9744161367416382\n",
      "Highest Mean Train Accuracy (over epoch): 0.33809523809523806\n",
      "Test loss start: 0.7402895092964172, Test loss end: 0.7541988492012024\n",
      "Highest mean Test Accuracy (over epoch): 0.46440972222222227\n",
      " Test F1 score at highest accuracy: 0.3346038558167121\n",
      "./saved_models/model_7.pth \n",
      "\n",
      "Training Model with id 8\n",
      "in multi\n"
     ]
    },
    {
     "name": "stderr",
     "output_type": "stream",
     "text": [
      "Training Process: 100%|██████████| 10/10 [00:00<00:00, 25.12it/s]\n"
     ]
    },
    {
     "name": "stdout",
     "output_type": "stream",
     "text": [
      "Total Epochs: 10\n",
      "Train loss start: 0.8484100103378296, Train loss end: 0.8560897707939148\n",
      "Highest Mean Train Accuracy (over epoch): 0.3306547619047619\n",
      "Test loss start: 0.7402185797691345, Test loss end: 0.7541387677192688\n",
      "Highest mean Test Accuracy (over epoch): 0.46440972222222227\n",
      " Test F1 score at highest accuracy: 0.3346038558167121\n",
      "./saved_models/model_8.pth \n",
      "\n",
      "Training Model with id 6\n",
      "in multi\n"
     ]
    },
    {
     "name": "stderr",
     "output_type": "stream",
     "text": [
      "Training Process: 100%|██████████| 10/10 [00:00<00:00, 30.16it/s]\n"
     ]
    },
    {
     "name": "stdout",
     "output_type": "stream",
     "text": [
      "Total Epochs: 10\n",
      "Train loss start: 0.8295687437057495, Train loss end: 0.8373428583145142\n",
      "Highest Mean Train Accuracy (over epoch): 0.3224702380952381\n",
      "Test loss start: 0.7401475310325623, Test loss end: 0.7540790438652039\n",
      "Highest mean Test Accuracy (over epoch): 0.46440972222222227\n",
      " Test F1 score at highest accuracy: 0.3346038558167121\n",
      "./saved_models/model_6.pth \n",
      "\n",
      " Maximum accuracy: 0.6666666666666667, F1: 0.6537340210809599, Test: 0.6175760865211487, Train: 0.5993994979631333\n",
      "in multi\n"
     ]
    },
    {
     "name": "stderr",
     "output_type": "stream",
     "text": [
      "Training Process: 100%|██████████| 70/70 [00:04<00:00, 15.84it/s]\n"
     ]
    },
    {
     "name": "stdout",
     "output_type": "stream",
     "text": [
      "Total Epochs: 70\n",
      "Train loss start: 0.8199743032455444, Train loss end: 0.8251773118972778\n",
      "Highest Mean Train Accuracy (over epoch): 0.31220238095238095\n",
      "Test loss start: 0.7659608125686646, Test loss end: 0.7603280544281006\n",
      "Highest mean Test Accuracy (over epoch): 0.40798611111111116\n",
      " Test F1 score at highest accuracy: 0.29789822748121586\n",
      "Randomly initializing 4 models\n",
      "Training Model with id 1\n",
      "in multi\n"
     ]
    },
    {
     "name": "stderr",
     "output_type": "stream",
     "text": [
      "Training Process: 100%|██████████| 10/10 [00:00<00:00, 25.67it/s]\n"
     ]
    },
    {
     "name": "stdout",
     "output_type": "stream",
     "text": [
      "Total Epochs: 10\n",
      "Train loss start: 0.5889498591423035, Train loss end: 0.5404545664787292\n",
      "Highest Mean Train Accuracy (over epoch): 0.7166666666666667\n",
      "Test loss start: 0.6172986030578613, Test loss end: 0.5951476097106934\n",
      "Highest mean Test Accuracy (over epoch): 0.7039930555555556\n",
      " Test F1 score at highest accuracy: 0.7066841960483986\n",
      "./saved_models/model_1.pth \n",
      "\n",
      "Training Model with id 2\n",
      "in multi\n"
     ]
    },
    {
     "name": "stderr",
     "output_type": "stream",
     "text": [
      "Training Process: 100%|██████████| 10/10 [00:00<00:00, 23.67it/s]\n"
     ]
    },
    {
     "name": "stdout",
     "output_type": "stream",
     "text": [
      "Total Epochs: 10\n",
      "Train loss start: 0.6866170763969421, Train loss end: 0.7320436835289001\n",
      "Highest Mean Train Accuracy (over epoch): 0.6050595238095239\n",
      "Test loss start: 0.6214150190353394, Test loss end: 0.5736186504364014\n",
      "Highest mean Test Accuracy (over epoch): 0.6866319444444445\n",
      " Test F1 score at highest accuracy: 0.5989237233354879\n",
      "./saved_models/model_2.pth \n",
      "\n",
      "Training Model with id 3\n",
      "in multi\n"
     ]
    },
    {
     "name": "stderr",
     "output_type": "stream",
     "text": [
      "Training Process: 100%|██████████| 10/10 [00:00<00:00, 25.15it/s]\n"
     ]
    },
    {
     "name": "stdout",
     "output_type": "stream",
     "text": [
      "Total Epochs: 10\n",
      "Train loss start: 0.8219066858291626, Train loss end: 0.7484660744667053\n",
      "Highest Mean Train Accuracy (over epoch): 0.3348214285714286\n",
      "Test loss start: 0.7538575530052185, Test loss end: 0.8175405859947205\n",
      "Highest mean Test Accuracy (over epoch): 0.42534722222222227\n",
      " Test F1 score at highest accuracy: 0.34155842644488826\n",
      "./saved_models/model_3.pth \n",
      "\n",
      "Training Model with id 4\n",
      "in multi\n"
     ]
    },
    {
     "name": "stderr",
     "output_type": "stream",
     "text": [
      "Training Process: 100%|██████████| 10/10 [00:00<00:00, 23.25it/s]\n"
     ]
    },
    {
     "name": "stdout",
     "output_type": "stream",
     "text": [
      "Total Epochs: 10\n",
      "Train loss start: 0.6512247323989868, Train loss end: 0.7429539561271667\n",
      "Highest Mean Train Accuracy (over epoch): 0.5800595238095239\n",
      "Test loss start: 0.6456421613693237, Test loss end: 0.6973573565483093\n",
      "Highest mean Test Accuracy (over epoch): 0.6171875\n",
      " Test F1 score at highest accuracy: 0.5725718530810717\n",
      "./saved_models/model_4.pth \n",
      "\n",
      "Training Model with id 7\n",
      "in multi\n"
     ]
    },
    {
     "name": "stderr",
     "output_type": "stream",
     "text": [
      "Training Process: 100%|██████████| 10/10 [00:00<00:00, 20.90it/s]\n"
     ]
    },
    {
     "name": "stdout",
     "output_type": "stream",
     "text": [
      "Total Epochs: 10\n",
      "Train loss start: 0.689967691898346, Train loss end: 0.8298224806785583\n",
      "Highest Mean Train Accuracy (over epoch): 0.5800595238095239\n",
      "Test loss start: 0.6455785036087036, Test loss end: 0.697304368019104\n",
      "Highest mean Test Accuracy (over epoch): 0.6171875\n",
      " Test F1 score at highest accuracy: 0.5725718530810717\n",
      "./saved_models/model_7.pth \n",
      "\n",
      "Training Model with id 8\n",
      "in multi\n"
     ]
    },
    {
     "name": "stderr",
     "output_type": "stream",
     "text": [
      "Training Process: 100%|██████████| 10/10 [00:00<00:00, 25.93it/s]\n"
     ]
    },
    {
     "name": "stdout",
     "output_type": "stream",
     "text": [
      "Total Epochs: 10\n",
      "Train loss start: 0.6700117588043213, Train loss end: 0.6479868292808533\n",
      "Highest Mean Train Accuracy (over epoch): 0.5651785714285714\n",
      "Test loss start: 0.6455148458480835, Test loss end: 0.6972518563270569\n",
      "Highest mean Test Accuracy (over epoch): 0.6171875\n",
      " Test F1 score at highest accuracy: 0.5725718530810717\n",
      "./saved_models/model_8.pth \n",
      "\n",
      "Training Model with id 6\n",
      "in multi\n"
     ]
    },
    {
     "name": "stderr",
     "output_type": "stream",
     "text": [
      "Training Process: 100%|██████████| 10/10 [00:00<00:00, 23.21it/s]\n"
     ]
    },
    {
     "name": "stdout",
     "output_type": "stream",
     "text": [
      "Total Epochs: 10\n",
      "Train loss start: 0.6627408862113953, Train loss end: 0.5807217955589294\n",
      "Highest Mean Train Accuracy (over epoch): 0.5630527210884353\n",
      "Test loss start: 0.6454511880874634, Test loss end: 0.6971988081932068\n",
      "Highest mean Test Accuracy (over epoch): 0.6171875\n",
      " Test F1 score at highest accuracy: 0.5725718530810717\n",
      "./saved_models/model_6.pth \n",
      "\n",
      " Maximum accuracy: 0.7039930555555556, F1: 0.7066841960483986, Test: 0.6037200897932052, Train: 0.5761911829312643\n",
      "in multi\n"
     ]
    },
    {
     "name": "stderr",
     "output_type": "stream",
     "text": [
      "Training Process: 100%|██████████| 70/70 [00:04<00:00, 14.97it/s]\n"
     ]
    },
    {
     "name": "stdout",
     "output_type": "stream",
     "text": [
      "Total Epochs: 70\n",
      "Train loss start: 0.8152268528938293, Train loss end: 0.6955884099006653\n",
      "Highest Mean Train Accuracy (over epoch): 0.3964901477832512\n",
      "Test loss start: 0.7866198420524597, Test loss end: 0.8032005429267883\n",
      "Highest mean Test Accuracy (over epoch): 0.4036458333333334\n",
      " Test F1 score at highest accuracy: 0.40396110863060536\n",
      "Randomly initializing 4 models\n",
      "Training Model with id 1\n",
      "in multi\n"
     ]
    },
    {
     "name": "stderr",
     "output_type": "stream",
     "text": [
      "Training Process: 100%|██████████| 10/10 [00:00<00:00, 24.11it/s]\n"
     ]
    },
    {
     "name": "stdout",
     "output_type": "stream",
     "text": [
      "Total Epochs: 10\n",
      "Train loss start: 0.7576353549957275, Train loss end: 0.6596612930297852\n",
      "Highest Mean Train Accuracy (over epoch): 0.443452380952381\n",
      "Test loss start: 0.7587900161743164, Test loss end: 0.7393844723701477\n",
      "Highest mean Test Accuracy (over epoch): 0.44097222222222227\n",
      " Test F1 score at highest accuracy: 0.43873071616706383\n",
      "./saved_models/model_1.pth \n",
      "\n",
      "Training Model with id 2\n",
      "in multi\n"
     ]
    },
    {
     "name": "stderr",
     "output_type": "stream",
     "text": [
      "Training Process: 100%|██████████| 10/10 [00:00<00:00, 22.39it/s]\n"
     ]
    },
    {
     "name": "stdout",
     "output_type": "stream",
     "text": [
      "Total Epochs: 10\n",
      "Train loss start: 0.5948228240013123, Train loss end: 0.7343434691429138\n",
      "Highest Mean Train Accuracy (over epoch): 0.6375\n",
      "Test loss start: 0.7014570236206055, Test loss end: 0.6611912846565247\n",
      "Highest mean Test Accuracy (over epoch): 0.576388888888889\n",
      " Test F1 score at highest accuracy: 0.6451716781387111\n",
      "./saved_models/model_2.pth \n",
      "\n",
      "Training Model with id 3\n",
      "in multi\n"
     ]
    },
    {
     "name": "stderr",
     "output_type": "stream",
     "text": [
      "Training Process: 100%|██████████| 10/10 [00:00<00:00, 22.99it/s]\n"
     ]
    },
    {
     "name": "stdout",
     "output_type": "stream",
     "text": [
      "Total Epochs: 10\n",
      "Train loss start: 0.5951640009880066, Train loss end: 0.6781753301620483\n",
      "Highest Mean Train Accuracy (over epoch): 0.8194196428571429\n",
      "Test loss start: 0.6055479645729065, Test loss end: 0.6835277676582336\n",
      "Highest mean Test Accuracy (over epoch): 0.5980902777777778\n",
      " Test F1 score at highest accuracy: 0.818041958041958\n",
      "./saved_models/model_3.pth \n",
      "\n",
      "Training Model with id 4\n",
      "in multi\n"
     ]
    },
    {
     "name": "stderr",
     "output_type": "stream",
     "text": [
      "Training Process: 100%|██████████| 10/10 [00:00<00:00, 24.15it/s]\n"
     ]
    },
    {
     "name": "stdout",
     "output_type": "stream",
     "text": [
      "Total Epochs: 10\n",
      "Train loss start: 0.865338921546936, Train loss end: 0.8904285430908203\n",
      "Highest Mean Train Accuracy (over epoch): 0.3273313492063492\n",
      "Test loss start: 0.7720576524734497, Test loss end: 0.7640164494514465\n",
      "Highest mean Test Accuracy (over epoch): 0.34288194444444453\n",
      " Test F1 score at highest accuracy: 0.33551828288670393\n",
      "./saved_models/model_4.pth \n",
      "\n",
      "Training Model with id 7\n",
      "in multi\n"
     ]
    },
    {
     "name": "stderr",
     "output_type": "stream",
     "text": [
      "Training Process: 100%|██████████| 10/10 [00:00<00:00, 23.22it/s]\n"
     ]
    },
    {
     "name": "stdout",
     "output_type": "stream",
     "text": [
      "Total Epochs: 10\n",
      "Train loss start: 0.804584264755249, Train loss end: 0.7695450186729431\n",
      "Highest Mean Train Accuracy (over epoch): 0.32857142857142857\n",
      "Test loss start: 0.7719638347625732, Test loss end: 0.7639497518539429\n",
      "Highest mean Test Accuracy (over epoch): 0.34288194444444453\n",
      " Test F1 score at highest accuracy: 0.33551828288670393\n",
      "./saved_models/model_7.pth \n",
      "\n",
      "Training Model with id 8\n",
      "in multi\n"
     ]
    },
    {
     "name": "stderr",
     "output_type": "stream",
     "text": [
      "Training Process: 100%|██████████| 10/10 [00:00<00:00, 26.72it/s]\n"
     ]
    },
    {
     "name": "stdout",
     "output_type": "stream",
     "text": [
      "Total Epochs: 10\n",
      "Train loss start: 0.9378201365470886, Train loss end: 0.8001817464828491\n",
      "Highest Mean Train Accuracy (over epoch): 0.34345238095238095\n",
      "Test loss start: 0.7718700170516968, Test loss end: 0.7638832330703735\n",
      "Highest mean Test Accuracy (over epoch): 0.34288194444444453\n",
      " Test F1 score at highest accuracy: 0.33551828288670393\n",
      "./saved_models/model_8.pth \n",
      "\n",
      "Training Model with id 6\n",
      "in multi\n"
     ]
    },
    {
     "name": "stderr",
     "output_type": "stream",
     "text": [
      "Training Process: 100%|██████████| 10/10 [00:00<00:00, 27.36it/s]\n"
     ]
    },
    {
     "name": "stdout",
     "output_type": "stream",
     "text": [
      "Total Epochs: 10\n",
      "Train loss start: 0.9014015793800354, Train loss end: 1.045265793800354\n",
      "Highest Mean Train Accuracy (over epoch): 0.32578125\n",
      "Test loss start: 0.7717759609222412, Test loss end: 0.7638170719146729\n",
      "Highest mean Test Accuracy (over epoch): 0.34288194444444453\n",
      " Test F1 score at highest accuracy: 0.33551828288670393\n",
      "./saved_models/model_6.pth \n",
      "\n",
      " Maximum accuracy: 0.5980902777777778, F1: 0.818041958041958, Test: 0.6631364032626152, Train: 0.5980547904968262\n",
      "in multi\n"
     ]
    },
    {
     "name": "stderr",
     "output_type": "stream",
     "text": [
      "Training Process: 100%|██████████| 70/70 [00:04<00:00, 17.41it/s]\n"
     ]
    },
    {
     "name": "stdout",
     "output_type": "stream",
     "text": [
      "Total Epochs: 70\n",
      "Train loss start: 0.6633738279342651, Train loss end: 0.6880146861076355\n",
      "Highest Mean Train Accuracy (over epoch): 0.45684523809523814\n",
      "Test loss start: 0.7263560891151428, Test loss end: 0.7248840928077698\n",
      "Highest mean Test Accuracy (over epoch): 0.5920138888888891\n",
      " Test F1 score at highest accuracy: 0.46019833824711875\n",
      "Randomly initializing 4 models\n",
      "Training Model with id 1\n",
      "in multi\n"
     ]
    },
    {
     "name": "stderr",
     "output_type": "stream",
     "text": [
      "Training Process: 100%|██████████| 10/10 [00:00<00:00, 25.68it/s]\n"
     ]
    },
    {
     "name": "stdout",
     "output_type": "stream",
     "text": [
      "Total Epochs: 10\n",
      "Train loss start: 0.6510878205299377, Train loss end: 0.5680049061775208\n",
      "Highest Mean Train Accuracy (over epoch): 0.5668154761904761\n",
      "Test loss start: 0.7065805196762085, Test loss end: 0.662039041519165\n",
      "Highest mean Test Accuracy (over epoch): 0.5651041666666666\n",
      " Test F1 score at highest accuracy: 0.5704853651021875\n",
      "./saved_models/model_1.pth \n",
      "\n",
      "Training Model with id 2\n",
      "in multi\n"
     ]
    },
    {
     "name": "stderr",
     "output_type": "stream",
     "text": [
      "Training Process: 100%|██████████| 10/10 [00:00<00:00, 29.39it/s]\n"
     ]
    },
    {
     "name": "stdout",
     "output_type": "stream",
     "text": [
      "Total Epochs: 10\n",
      "Train loss start: 0.6833303570747375, Train loss end: 0.7252411842346191\n",
      "Highest Mean Train Accuracy (over epoch): 0.4726190476190476\n",
      "Test loss start: 0.827189564704895, Test loss end: 0.7397883534431458\n",
      "Highest mean Test Accuracy (over epoch): 0.45920138888888895\n",
      " Test F1 score at highest accuracy: 0.4692775895783415\n",
      "./saved_models/model_2.pth \n",
      "\n",
      "Training Model with id 3\n",
      "in multi\n"
     ]
    },
    {
     "name": "stderr",
     "output_type": "stream",
     "text": [
      "Training Process: 100%|██████████| 10/10 [00:00<00:00, 28.57it/s]\n"
     ]
    },
    {
     "name": "stdout",
     "output_type": "stream",
     "text": [
      "Total Epochs: 10\n",
      "Train loss start: 0.8382659554481506, Train loss end: 0.8580899238586426\n",
      "Highest Mean Train Accuracy (over epoch): 0.32395833333333335\n",
      "Test loss start: 0.753997802734375, Test loss end: 0.7862076163291931\n",
      "Highest mean Test Accuracy (over epoch): 0.39583333333333337\n",
      " Test F1 score at highest accuracy: 0.32722689075630246\n",
      "./saved_models/model_3.pth \n",
      "\n",
      "Training Model with id 4\n",
      "in multi\n"
     ]
    },
    {
     "name": "stderr",
     "output_type": "stream",
     "text": [
      "Training Process: 100%|██████████| 10/10 [00:00<00:00, 29.34it/s]\n"
     ]
    },
    {
     "name": "stdout",
     "output_type": "stream",
     "text": [
      "Total Epochs: 10\n",
      "Train loss start: 0.45886632800102234, Train loss end: 0.7594507336616516\n",
      "Highest Mean Train Accuracy (over epoch): 0.8342261904761905\n",
      "Test loss start: 0.6101369261741638, Test loss end: 0.746562659740448\n",
      "Highest mean Test Accuracy (over epoch): 0.5833333333333334\n",
      " Test F1 score at highest accuracy: 0.8341330031470876\n",
      "./saved_models/model_4.pth \n",
      "\n",
      "Training Model with id 7\n",
      "in multi\n"
     ]
    },
    {
     "name": "stderr",
     "output_type": "stream",
     "text": [
      "Training Process: 100%|██████████| 10/10 [00:00<00:00, 24.61it/s]\n"
     ]
    },
    {
     "name": "stdout",
     "output_type": "stream",
     "text": [
      "Total Epochs: 10\n",
      "Train loss start: 0.5489100813865662, Train loss end: 0.48969191312789917\n",
      "Highest Mean Train Accuracy (over epoch): 0.8363095238095238\n",
      "Test loss start: 0.6100773215293884, Test loss end: 0.7465208172798157\n",
      "Highest mean Test Accuracy (over epoch): 0.5833333333333334\n",
      " Test F1 score at highest accuracy: 0.8362301568265625\n",
      "./saved_models/model_7.pth \n",
      "\n",
      "Training Model with id 8\n",
      "in multi\n"
     ]
    },
    {
     "name": "stderr",
     "output_type": "stream",
     "text": [
      "Training Process: 100%|██████████| 10/10 [00:00<00:00, 24.11it/s]\n"
     ]
    },
    {
     "name": "stdout",
     "output_type": "stream",
     "text": [
      "Total Epochs: 10\n",
      "Train loss start: 0.5317935347557068, Train loss end: 0.46176767349243164\n",
      "Highest Mean Train Accuracy (over epoch): 0.8412698412698414\n",
      "Test loss start: 0.6100181341171265, Test loss end: 0.7464792728424072\n",
      "Highest mean Test Accuracy (over epoch): 0.5833333333333334\n",
      " Test F1 score at highest accuracy: 0.8362301568265625\n",
      "./saved_models/model_8.pth \n",
      "\n",
      "Training Model with id 6\n",
      "in multi\n"
     ]
    },
    {
     "name": "stderr",
     "output_type": "stream",
     "text": [
      "Training Process: 100%|██████████| 10/10 [00:00<00:00, 19.85it/s]\n"
     ]
    },
    {
     "name": "stdout",
     "output_type": "stream",
     "text": [
      "Total Epochs: 10\n",
      "Train loss start: 0.5702428817749023, Train loss end: 0.6823320388793945\n",
      "Highest Mean Train Accuracy (over epoch): 0.8352465986394558\n",
      "Test loss start: 0.609959065914154, Test loss end: 0.7464371919631958\n",
      "Highest mean Test Accuracy (over epoch): 0.5833333333333334\n",
      " Test F1 score at highest accuracy: 0.8362301568265625\n",
      "./saved_models/model_6.pth \n",
      "\n",
      " Maximum accuracy: 0.5833333333333334, F1: 0.8341330031470876, Test: 0.6601626366376877, Train: 0.5231072306632996\n",
      "in multi\n"
     ]
    },
    {
     "name": "stderr",
     "output_type": "stream",
     "text": [
      "Training Process: 100%|██████████| 70/70 [00:04<00:00, 15.02it/s]\n"
     ]
    },
    {
     "name": "stdout",
     "output_type": "stream",
     "text": [
      "Total Epochs: 70\n",
      "Train loss start: 0.9146812558174133, Train loss end: 0.8360883593559265\n",
      "Highest Mean Train Accuracy (over epoch): 0.24613095238095237\n",
      "Test loss start: 0.7892782092094421, Test loss end: 0.7849774956703186\n",
      "Highest mean Test Accuracy (over epoch): 0.45486111111111116\n",
      " Test F1 score at highest accuracy: 0.24927762031834433\n",
      "Randomly initializing 4 models\n",
      "Training Model with id 1\n",
      "in multi\n"
     ]
    },
    {
     "name": "stderr",
     "output_type": "stream",
     "text": [
      "Training Process: 100%|██████████| 10/10 [00:00<00:00, 22.39it/s]\n"
     ]
    },
    {
     "name": "stdout",
     "output_type": "stream",
     "text": [
      "Total Epochs: 10\n",
      "Train loss start: 0.6930457353591919, Train loss end: 0.5419726371765137\n",
      "Highest Mean Train Accuracy (over epoch): 0.6680059523809524\n",
      "Test loss start: 0.7004307508468628, Test loss end: 0.7710976004600525\n",
      "Highest mean Test Accuracy (over epoch): 0.48003472222222227\n",
      " Test F1 score at highest accuracy: 0.6639010853243618\n",
      "./saved_models/model_1.pth \n",
      "\n",
      "Training Model with id 2\n",
      "in multi\n"
     ]
    },
    {
     "name": "stderr",
     "output_type": "stream",
     "text": [
      "Training Process: 100%|██████████| 10/10 [00:00<00:00, 20.17it/s]\n"
     ]
    },
    {
     "name": "stdout",
     "output_type": "stream",
     "text": [
      "Total Epochs: 10\n",
      "Train loss start: 0.9469299912452698, Train loss end: 0.9003874659538269\n",
      "Highest Mean Train Accuracy (over epoch): 0.15902777777777777\n",
      "Test loss start: 0.8586454391479492, Test loss end: 0.8139158487319946\n",
      "Highest mean Test Accuracy (over epoch): 0.33159722222222227\n",
      " Test F1 score at highest accuracy: 0.1638956480548405\n",
      "./saved_models/model_2.pth \n",
      "\n",
      "Training Model with id 3\n",
      "in multi\n"
     ]
    },
    {
     "name": "stderr",
     "output_type": "stream",
     "text": [
      "Training Process: 100%|██████████| 10/10 [00:00<00:00, 23.65it/s]\n"
     ]
    },
    {
     "name": "stdout",
     "output_type": "stream",
     "text": [
      "Total Epochs: 10\n",
      "Train loss start: 1.1687233448028564, Train loss end: 1.1213685274124146\n",
      "Highest Mean Train Accuracy (over epoch): 0.11607142857142858\n",
      "Test loss start: 0.9372593760490417, Test loss end: 0.874972939491272\n",
      "Highest mean Test Accuracy (over epoch): 0.31944444444444453\n",
      " Test F1 score at highest accuracy: 0.10524367537942196\n",
      "./saved_models/model_3.pth \n",
      "\n",
      "Training Model with id 4\n",
      "in multi\n"
     ]
    },
    {
     "name": "stderr",
     "output_type": "stream",
     "text": [
      "Training Process: 100%|██████████| 10/10 [00:00<00:00, 23.72it/s]\n"
     ]
    },
    {
     "name": "stdout",
     "output_type": "stream",
     "text": [
      "Total Epochs: 10\n",
      "Train loss start: 0.7861512899398804, Train loss end: 0.7531948089599609\n",
      "Highest Mean Train Accuracy (over epoch): 0.46309523809523806\n",
      "Test loss start: 0.7031722068786621, Test loss end: 0.6639308929443359\n",
      "Highest mean Test Accuracy (over epoch): 0.5078125\n",
      " Test F1 score at highest accuracy: 0.46498526012703134\n",
      "./saved_models/model_4.pth \n",
      "\n",
      "Training Model with id 7\n",
      "in multi\n"
     ]
    },
    {
     "name": "stderr",
     "output_type": "stream",
     "text": [
      "Training Process: 100%|██████████| 10/10 [00:00<00:00, 27.85it/s]\n"
     ]
    },
    {
     "name": "stdout",
     "output_type": "stream",
     "text": [
      "Total Epochs: 10\n",
      "Train loss start: 0.7784827947616577, Train loss end: 1.0215984582901\n",
      "Highest Mean Train Accuracy (over epoch): 0.4606150793650794\n",
      "Test loss start: 0.7030850648880005, Test loss end: 0.6638772487640381\n",
      "Highest mean Test Accuracy (over epoch): 0.5078125\n",
      " Test F1 score at highest accuracy: 0.46498526012703134\n",
      "./saved_models/model_7.pth \n",
      "\n",
      "Training Model with id 8\n",
      "in multi\n"
     ]
    },
    {
     "name": "stderr",
     "output_type": "stream",
     "text": [
      "Training Process: 100%|██████████| 10/10 [00:00<00:00, 29.26it/s]\n"
     ]
    },
    {
     "name": "stdout",
     "output_type": "stream",
     "text": [
      "Total Epochs: 10\n",
      "Train loss start: 0.7829641103744507, Train loss end: 0.8470898866653442\n",
      "Highest Mean Train Accuracy (over epoch): 0.4556547619047619\n",
      "Test loss start: 0.7029972076416016, Test loss end: 0.663823664188385\n",
      "Highest mean Test Accuracy (over epoch): 0.5078125\n",
      " Test F1 score at highest accuracy: 0.46498526012703134\n",
      "./saved_models/model_8.pth \n",
      "\n",
      "Training Model with id 6\n",
      "in multi\n"
     ]
    },
    {
     "name": "stderr",
     "output_type": "stream",
     "text": [
      "Training Process: 100%|██████████| 10/10 [00:00<00:00, 25.58it/s]\n"
     ]
    },
    {
     "name": "stdout",
     "output_type": "stream",
     "text": [
      "Total Epochs: 10\n",
      "Train loss start: 0.7848317623138428, Train loss end: 0.6204677820205688\n",
      "Highest Mean Train Accuracy (over epoch): 0.46309523809523817\n",
      "Test loss start: 0.7029097080230713, Test loss end: 0.6637697219848633\n",
      "Highest mean Test Accuracy (over epoch): 0.5078125\n",
      " Test F1 score at highest accuracy: 0.46498526012703134\n",
      "./saved_models/model_6.pth \n",
      "\n",
      " Maximum accuracy: 0.5078125, F1: 0.46498526012703134, Test: 0.6868844330310822, Train: 0.6373489459355672\n",
      "in multi\n"
     ]
    },
    {
     "name": "stderr",
     "output_type": "stream",
     "text": [
      "Training Process: 100%|██████████| 70/70 [00:04<00:00, 17.46it/s]\n"
     ]
    },
    {
     "name": "stdout",
     "output_type": "stream",
     "text": [
      "Total Epochs: 70\n",
      "Train loss start: 0.5378506779670715, Train loss end: 0.6549701690673828\n",
      "Highest Mean Train Accuracy (over epoch): 0.7875\n",
      "Test loss start: 0.6172313094139099, Test loss end: 0.6265440583229065\n",
      "Highest mean Test Accuracy (over epoch): 0.6493055555555556\n",
      " Test F1 score at highest accuracy: 0.7799443664105319\n",
      "Randomly initializing 4 models\n",
      "Training Model with id 1\n",
      "in multi\n"
     ]
    },
    {
     "name": "stderr",
     "output_type": "stream",
     "text": [
      "Training Process: 100%|██████████| 10/10 [00:00<00:00, 29.36it/s]\n"
     ]
    },
    {
     "name": "stdout",
     "output_type": "stream",
     "text": [
      "Total Epochs: 10\n",
      "Train loss start: 0.7651206851005554, Train loss end: 0.8209160566329956\n",
      "Highest Mean Train Accuracy (over epoch): 0.4056547619047619\n",
      "Test loss start: 0.7006018757820129, Test loss end: 0.6679078340530396\n",
      "Highest mean Test Accuracy (over epoch): 0.5434027777777778\n",
      " Test F1 score at highest accuracy: 0.4155834856391911\n",
      "./saved_models/model_1.pth \n",
      "\n",
      "Training Model with id 2\n",
      "in multi\n"
     ]
    },
    {
     "name": "stderr",
     "output_type": "stream",
     "text": [
      "Training Process: 100%|██████████| 10/10 [00:00<00:00, 26.22it/s]\n"
     ]
    },
    {
     "name": "stdout",
     "output_type": "stream",
     "text": [
      "Total Epochs: 10\n",
      "Train loss start: 1.0853339433670044, Train loss end: 0.8785167336463928\n",
      "Highest Mean Train Accuracy (over epoch): 0.10620039682539682\n",
      "Test loss start: 0.878558337688446, Test loss end: 0.8589057922363281\n",
      "Highest mean Test Accuracy (over epoch): 0.2708333333333333\n",
      " Test F1 score at highest accuracy: 0.1145856684150695\n",
      "./saved_models/model_2.pth \n",
      "\n",
      "Training Model with id 3\n",
      "in multi\n"
     ]
    },
    {
     "name": "stderr",
     "output_type": "stream",
     "text": [
      "Training Process: 100%|██████████| 10/10 [00:00<00:00, 26.77it/s]\n"
     ]
    },
    {
     "name": "stdout",
     "output_type": "stream",
     "text": [
      "Total Epochs: 10\n",
      "Train loss start: 1.027065634727478, Train loss end: 1.1947708129882812\n",
      "Highest Mean Train Accuracy (over epoch): 0.13035714285714287\n",
      "Test loss start: 0.8756191730499268, Test loss end: 0.8026382923126221\n",
      "Highest mean Test Accuracy (over epoch): 0.3359375\n",
      " Test F1 score at highest accuracy: 0.14387484984650978\n",
      "./saved_models/model_3.pth \n",
      "\n",
      "Training Model with id 4\n",
      "in multi\n"
     ]
    },
    {
     "name": "stderr",
     "output_type": "stream",
     "text": [
      "Training Process: 100%|██████████| 10/10 [00:00<00:00, 25.68it/s]\n"
     ]
    },
    {
     "name": "stdout",
     "output_type": "stream",
     "text": [
      "Total Epochs: 10\n",
      "Train loss start: 1.039944052696228, Train loss end: 1.1115227937698364\n",
      "Highest Mean Train Accuracy (over epoch): 0.17946428571428572\n",
      "Test loss start: 0.9218934178352356, Test loss end: 0.8598978519439697\n",
      "Highest mean Test Accuracy (over epoch): 0.29600694444444453\n",
      " Test F1 score at highest accuracy: 0.18580914074659707\n",
      "./saved_models/model_4.pth \n",
      "\n",
      "Training Model with id 7\n",
      "in multi\n"
     ]
    },
    {
     "name": "stderr",
     "output_type": "stream",
     "text": [
      "Training Process: 100%|██████████| 10/10 [00:00<00:00, 25.18it/s]\n"
     ]
    },
    {
     "name": "stdout",
     "output_type": "stream",
     "text": [
      "Total Epochs: 10\n",
      "Train loss start: 0.9873651266098022, Train loss end: 1.0286659002304077\n",
      "Highest Mean Train Accuracy (over epoch): 0.17946428571428572\n",
      "Test loss start: 0.9218406677246094, Test loss end: 0.859855055809021\n",
      "Highest mean Test Accuracy (over epoch): 0.29600694444444453\n",
      " Test F1 score at highest accuracy: 0.18580914074659707\n",
      "./saved_models/model_7.pth \n",
      "\n",
      "Training Model with id 8\n",
      "in multi\n"
     ]
    },
    {
     "name": "stderr",
     "output_type": "stream",
     "text": [
      "Training Process: 100%|██████████| 10/10 [00:00<00:00, 23.65it/s]\n"
     ]
    },
    {
     "name": "stdout",
     "output_type": "stream",
     "text": [
      "Total Epochs: 10\n",
      "Train loss start: 1.1167113780975342, Train loss end: 1.0037652254104614\n",
      "Highest Mean Train Accuracy (over epoch): 0.17946428571428572\n",
      "Test loss start: 0.9217877984046936, Test loss end: 0.8598118424415588\n",
      "Highest mean Test Accuracy (over epoch): 0.29600694444444453\n",
      " Test F1 score at highest accuracy: 0.18580914074659707\n",
      "./saved_models/model_8.pth \n",
      "\n",
      "Training Model with id 6\n",
      "in multi\n"
     ]
    },
    {
     "name": "stderr",
     "output_type": "stream",
     "text": [
      "Training Process: 100%|██████████| 10/10 [00:00<00:00, 23.30it/s]\n"
     ]
    },
    {
     "name": "stdout",
     "output_type": "stream",
     "text": [
      "Total Epochs: 10\n",
      "Train loss start: 0.996327817440033, Train loss end: 1.1355990171432495\n",
      "Highest Mean Train Accuracy (over epoch): 0.17202380952380952\n",
      "Test loss start: 0.9217347502708435, Test loss end: 0.8597678542137146\n",
      "Highest mean Test Accuracy (over epoch): 0.29600694444444453\n",
      " Test F1 score at highest accuracy: 0.18580914074659707\n",
      "./saved_models/model_6.pth \n",
      "\n",
      " Maximum accuracy: 0.5434027777777778, F1: 0.4155834856391911, Test: 0.6962630122900009, Train: 0.7790103236834208\n",
      "in multi\n"
     ]
    },
    {
     "name": "stderr",
     "output_type": "stream",
     "text": [
      "Training Process: 100%|██████████| 70/70 [00:04<00:00, 14.98it/s]\n"
     ]
    },
    {
     "name": "stdout",
     "output_type": "stream",
     "text": [
      "Total Epochs: 70\n",
      "Train loss start: 0.6285796761512756, Train loss end: 0.5663119554519653\n",
      "Highest Mean Train Accuracy (over epoch): 0.693452380952381\n",
      "Test loss start: 0.6275036334991455, Test loss end: 0.6630128622055054\n",
      "Highest mean Test Accuracy (over epoch): 0.6762152777777779\n",
      " Test F1 score at highest accuracy: 0.6982112961494406\n",
      "Randomly initializing 4 models\n",
      "Training Model with id 1\n",
      "in multi\n"
     ]
    },
    {
     "name": "stderr",
     "output_type": "stream",
     "text": [
      "Training Process: 100%|██████████| 10/10 [00:00<00:00, 22.37it/s]\n"
     ]
    },
    {
     "name": "stdout",
     "output_type": "stream",
     "text": [
      "Total Epochs: 10\n",
      "Train loss start: 0.6934718489646912, Train loss end: 0.6100098490715027\n",
      "Highest Mean Train Accuracy (over epoch): 0.5309523809523811\n",
      "Test loss start: 0.6940909624099731, Test loss end: 0.6749007105827332\n",
      "Highest mean Test Accuracy (over epoch): 0.578125\n",
      " Test F1 score at highest accuracy: 0.5286987809761089\n",
      "./saved_models/model_1.pth \n",
      "\n",
      "Training Model with id 2\n",
      "in multi\n"
     ]
    },
    {
     "name": "stderr",
     "output_type": "stream",
     "text": [
      "Training Process: 100%|██████████| 10/10 [00:00<00:00, 23.28it/s]\n"
     ]
    },
    {
     "name": "stdout",
     "output_type": "stream",
     "text": [
      "Total Epochs: 10\n",
      "Train loss start: 0.6742762327194214, Train loss end: 0.6103355288505554\n",
      "Highest Mean Train Accuracy (over epoch): 0.6020833333333333\n",
      "Test loss start: 0.6758313179016113, Test loss end: 0.7013260722160339\n",
      "Highest mean Test Accuracy (over epoch): 0.546875\n",
      " Test F1 score at highest accuracy: 0.5882155939298798\n",
      "./saved_models/model_2.pth \n",
      "\n",
      "Training Model with id 3\n",
      "in multi\n"
     ]
    },
    {
     "name": "stderr",
     "output_type": "stream",
     "text": [
      "Training Process: 100%|██████████| 10/10 [00:00<00:00, 21.64it/s]\n"
     ]
    },
    {
     "name": "stdout",
     "output_type": "stream",
     "text": [
      "Total Epochs: 10\n",
      "Train loss start: 0.5384709239006042, Train loss end: 0.5489815473556519\n",
      "Highest Mean Train Accuracy (over epoch): 0.7584325396825397\n",
      "Test loss start: 0.6358432769775391, Test loss end: 0.634218156337738\n",
      "Highest mean Test Accuracy (over epoch): 0.6293402777777778\n",
      " Test F1 score at highest accuracy: 0.7623557623557623\n",
      "./saved_models/model_3.pth \n",
      "\n",
      "Training Model with id 4\n",
      "in multi\n"
     ]
    },
    {
     "name": "stderr",
     "output_type": "stream",
     "text": [
      "Training Process: 100%|██████████| 10/10 [00:00<00:00, 26.80it/s]\n"
     ]
    },
    {
     "name": "stdout",
     "output_type": "stream",
     "text": [
      "Total Epochs: 10\n",
      "Train loss start: 0.6583104729652405, Train loss end: 0.5911102294921875\n",
      "Highest Mean Train Accuracy (over epoch): 0.6800595238095238\n",
      "Test loss start: 0.7285151481628418, Test loss end: 0.7609941959381104\n",
      "Highest mean Test Accuracy (over epoch): 0.44097222222222227\n",
      " Test F1 score at highest accuracy: 0.6746322472400434\n",
      "./saved_models/model_4.pth \n",
      "\n",
      "Training Model with id 7\n",
      "in multi\n"
     ]
    },
    {
     "name": "stderr",
     "output_type": "stream",
     "text": [
      "Training Process: 100%|██████████| 10/10 [00:00<00:00, 22.69it/s]\n"
     ]
    },
    {
     "name": "stdout",
     "output_type": "stream",
     "text": [
      "Total Epochs: 10\n",
      "Train loss start: 0.6207005381584167, Train loss end: 0.6649176478385925\n",
      "Highest Mean Train Accuracy (over epoch): 0.6875\n",
      "Test loss start: 0.72844398021698, Test loss end: 0.760941743850708\n",
      "Highest mean Test Accuracy (over epoch): 0.44097222222222227\n",
      " Test F1 score at highest accuracy: 0.6746322472400434\n",
      "./saved_models/model_7.pth \n",
      "\n",
      "Training Model with id 8\n",
      "in multi\n"
     ]
    },
    {
     "name": "stderr",
     "output_type": "stream",
     "text": [
      "Training Process: 100%|██████████| 10/10 [00:00<00:00, 24.43it/s]\n"
     ]
    },
    {
     "name": "stdout",
     "output_type": "stream",
     "text": [
      "Total Epochs: 10\n",
      "Train loss start: 0.6340597867965698, Train loss end: 0.5077125430107117\n",
      "Highest Mean Train Accuracy (over epoch): 0.6800595238095238\n",
      "Test loss start: 0.7283729910850525, Test loss end: 0.7608890533447266\n",
      "Highest mean Test Accuracy (over epoch): 0.44097222222222227\n",
      " Test F1 score at highest accuracy: 0.6746322472400434\n",
      "./saved_models/model_8.pth \n",
      "\n",
      "Training Model with id 6\n",
      "in multi\n"
     ]
    },
    {
     "name": "stderr",
     "output_type": "stream",
     "text": [
      "Training Process: 100%|██████████| 10/10 [00:00<00:00, 24.47it/s]\n"
     ]
    },
    {
     "name": "stdout",
     "output_type": "stream",
     "text": [
      "Total Epochs: 10\n",
      "Train loss start: 0.5904823541641235, Train loss end: 0.5104936957359314\n",
      "Highest Mean Train Accuracy (over epoch): 0.673859126984127\n",
      "Test loss start: 0.728301465511322, Test loss end: 0.7608358263969421\n",
      "Highest mean Test Accuracy (over epoch): 0.44097222222222227\n",
      " Test F1 score at highest accuracy: 0.6746322472400434\n",
      "./saved_models/model_6.pth \n",
      "\n",
      " Maximum accuracy: 0.6293402777777778, F1: 0.7623557623557623, Test: 0.6498795986175537, Train: 0.5814036157396104\n",
      "in multi\n"
     ]
    },
    {
     "name": "stderr",
     "output_type": "stream",
     "text": [
      "Training Process: 100%|██████████| 70/70 [00:04<00:00, 16.16it/s]\n"
     ]
    },
    {
     "name": "stdout",
     "output_type": "stream",
     "text": [
      "Total Epochs: 70\n",
      "Train loss start: 0.7717964053153992, Train loss end: 0.7157756090164185\n",
      "Highest Mean Train Accuracy (over epoch): 0.47512692577030813\n",
      "Test loss start: 0.7701102495193481, Test loss end: 0.7103263139724731\n",
      "Highest mean Test Accuracy (over epoch): 0.453125\n",
      " Test F1 score at highest accuracy: 0.47983403512375483\n",
      "Randomly initializing 4 models\n",
      "Training Model with id 1\n",
      "in multi\n"
     ]
    },
    {
     "name": "stderr",
     "output_type": "stream",
     "text": [
      "Training Process: 100%|██████████| 10/10 [00:00<00:00, 22.40it/s]\n"
     ]
    },
    {
     "name": "stdout",
     "output_type": "stream",
     "text": [
      "Total Epochs: 10\n",
      "Train loss start: 0.7268198728561401, Train loss end: 0.7000466585159302\n",
      "Highest Mean Train Accuracy (over epoch): 0.49404761904761896\n",
      "Test loss start: 0.68946373462677, Test loss end: 0.7909263372421265\n",
      "Highest mean Test Accuracy (over epoch): 0.48003472222222227\n",
      " Test F1 score at highest accuracy: 0.49340719606182726\n",
      "./saved_models/model_1.pth \n",
      "\n",
      "Training Model with id 2\n",
      "in multi\n"
     ]
    },
    {
     "name": "stderr",
     "output_type": "stream",
     "text": [
      "Training Process: 100%|██████████| 10/10 [00:00<00:00, 21.36it/s]\n"
     ]
    },
    {
     "name": "stdout",
     "output_type": "stream",
     "text": [
      "Total Epochs: 10\n",
      "Train loss start: 0.8979976177215576, Train loss end: 0.9301500916481018\n",
      "Highest Mean Train Accuracy (over epoch): 0.22738095238095235\n",
      "Test loss start: 0.8366228342056274, Test loss end: 0.7129606604576111\n",
      "Highest mean Test Accuracy (over epoch): 0.45920138888888895\n",
      " Test F1 score at highest accuracy: 0.23818242903729983\n",
      "./saved_models/model_2.pth \n",
      "\n",
      "Training Model with id 3\n",
      "in multi\n"
     ]
    },
    {
     "name": "stderr",
     "output_type": "stream",
     "text": [
      "Training Process: 100%|██████████| 10/10 [00:00<00:00, 20.85it/s]\n"
     ]
    },
    {
     "name": "stdout",
     "output_type": "stream",
     "text": [
      "Total Epochs: 10\n",
      "Train loss start: 0.5852504968643188, Train loss end: 0.5609620213508606\n",
      "Highest Mean Train Accuracy (over epoch): 0.85625\n",
      "Test loss start: 0.6067098379135132, Test loss end: 0.6459373831748962\n",
      "Highest mean Test Accuracy (over epoch): 0.7430555555555556\n",
      " Test F1 score at highest accuracy: 0.8500396443151363\n",
      "./saved_models/model_3.pth \n",
      "\n",
      "Training Model with id 4\n",
      "in multi\n"
     ]
    },
    {
     "name": "stderr",
     "output_type": "stream",
     "text": [
      "Training Process: 100%|██████████| 10/10 [00:00<00:00, 22.44it/s]\n"
     ]
    },
    {
     "name": "stdout",
     "output_type": "stream",
     "text": [
      "Total Epochs: 10\n",
      "Train loss start: 0.829328179359436, Train loss end: 0.8871773481369019\n",
      "Highest Mean Train Accuracy (over epoch): 0.39479166666666665\n",
      "Test loss start: 0.7814738154411316, Test loss end: 0.8072264790534973\n",
      "Highest mean Test Accuracy (over epoch): 0.35677083333333337\n",
      " Test F1 score at highest accuracy: 0.39940819940819944\n",
      "./saved_models/model_4.pth \n",
      "\n",
      "Training Model with id 7\n",
      "in multi\n"
     ]
    },
    {
     "name": "stderr",
     "output_type": "stream",
     "text": [
      "Training Process: 100%|██████████| 10/10 [00:00<00:00, 23.41it/s]\n"
     ]
    },
    {
     "name": "stdout",
     "output_type": "stream",
     "text": [
      "Total Epochs: 10\n",
      "Train loss start: 0.7624651193618774, Train loss end: 0.8799243569374084\n",
      "Highest Mean Train Accuracy (over epoch): 0.39851190476190473\n",
      "Test loss start: 0.781398594379425, Test loss end: 0.8071606159210205\n",
      "Highest mean Test Accuracy (over epoch): 0.35677083333333337\n",
      " Test F1 score at highest accuracy: 0.39940819940819944\n",
      "./saved_models/model_7.pth \n",
      "\n",
      "Training Model with id 8\n",
      "in multi\n"
     ]
    },
    {
     "name": "stderr",
     "output_type": "stream",
     "text": [
      "Training Process: 100%|██████████| 10/10 [00:00<00:00, 24.75it/s]\n"
     ]
    },
    {
     "name": "stdout",
     "output_type": "stream",
     "text": [
      "Total Epochs: 10\n",
      "Train loss start: 0.7768135070800781, Train loss end: 0.8809989094734192\n",
      "Highest Mean Train Accuracy (over epoch): 0.3854910714285714\n",
      "Test loss start: 0.7813235521316528, Test loss end: 0.807094395160675\n",
      "Highest mean Test Accuracy (over epoch): 0.35677083333333337\n",
      " Test F1 score at highest accuracy: 0.39940819940819944\n",
      "./saved_models/model_8.pth \n",
      "\n",
      "Training Model with id 6\n",
      "in multi\n"
     ]
    },
    {
     "name": "stderr",
     "output_type": "stream",
     "text": [
      "Training Process: 100%|██████████| 10/10 [00:00<00:00, 22.08it/s]\n"
     ]
    },
    {
     "name": "stdout",
     "output_type": "stream",
     "text": [
      "Total Epochs: 10\n",
      "Train loss start: 0.9629320502281189, Train loss end: 0.8602098822593689\n",
      "Highest Mean Train Accuracy (over epoch): 0.39355158730158735\n",
      "Test loss start: 0.7812484502792358, Test loss end: 0.8070282936096191\n",
      "Highest mean Test Accuracy (over epoch): 0.35677083333333337\n",
      " Test F1 score at highest accuracy: 0.39940819940819944\n",
      "./saved_models/model_6.pth \n",
      "\n",
      " Maximum accuracy: 0.7430555555555556, F1: 0.8500396443151363, Test: 0.6228060111403465, Train: 0.5637909491856893\n",
      "in multi\n"
     ]
    },
    {
     "name": "stderr",
     "output_type": "stream",
     "text": [
      "Training Process: 100%|██████████| 70/70 [00:04<00:00, 15.36it/s]\n"
     ]
    },
    {
     "name": "stdout",
     "output_type": "stream",
     "text": [
      "Total Epochs: 70\n",
      "Train loss start: 0.8074020147323608, Train loss end: 0.8053861856460571\n",
      "Highest Mean Train Accuracy (over epoch): 0.30565476190476193\n",
      "Test loss start: 0.735575795173645, Test loss end: 0.6912278532981873\n",
      "Highest mean Test Accuracy (over epoch): 0.47165178571428573\n",
      " Test F1 score at highest accuracy: 0.30807971716315613\n",
      "Randomly initializing 4 models\n",
      "Training Model with id 1\n",
      "in multi\n"
     ]
    },
    {
     "name": "stderr",
     "output_type": "stream",
     "text": [
      "Training Process: 100%|██████████| 10/10 [00:00<00:00, 23.24it/s]\n"
     ]
    },
    {
     "name": "stdout",
     "output_type": "stream",
     "text": [
      "Total Epochs: 10\n",
      "Train loss start: 0.760744035243988, Train loss end: 0.8345454335212708\n",
      "Highest Mean Train Accuracy (over epoch): 0.49181547619047616\n",
      "Test loss start: 0.782219648361206, Test loss end: 0.6929046511650085\n",
      "Highest mean Test Accuracy (over epoch): 0.44357638888888895\n",
      " Test F1 score at highest accuracy: 0.49340719606182726\n",
      "./saved_models/model_1.pth \n",
      "\n",
      "Training Model with id 2\n",
      "in multi\n"
     ]
    },
    {
     "name": "stderr",
     "output_type": "stream",
     "text": [
      "Training Process: 100%|██████████| 10/10 [00:00<00:00, 23.40it/s]\n"
     ]
    },
    {
     "name": "stdout",
     "output_type": "stream",
     "text": [
      "Total Epochs: 10\n",
      "Train loss start: 0.9745074510574341, Train loss end: 0.8832860589027405\n",
      "Highest Mean Train Accuracy (over epoch): 0.18229166666666666\n",
      "Test loss start: 0.7883082032203674, Test loss end: 0.7721255421638489\n",
      "Highest mean Test Accuracy (over epoch): 0.4453125\n",
      " Test F1 score at highest accuracy: 0.190915586655497\n",
      "./saved_models/model_2.pth \n",
      "\n",
      "Training Model with id 3\n",
      "in multi\n"
     ]
    },
    {
     "name": "stderr",
     "output_type": "stream",
     "text": [
      "Training Process: 100%|██████████| 10/10 [00:00<00:00, 28.61it/s]\n"
     ]
    },
    {
     "name": "stdout",
     "output_type": "stream",
     "text": [
      "Total Epochs: 10\n",
      "Train loss start: 0.7696107625961304, Train loss end: 0.742996096611023\n",
      "Highest Mean Train Accuracy (over epoch): 0.4485119047619047\n",
      "Test loss start: 0.6914383172988892, Test loss end: 0.7644331455230713\n",
      "Highest mean Test Accuracy (over epoch): 0.41319444444444453\n",
      " Test F1 score at highest accuracy: 0.4439860734503591\n",
      "./saved_models/model_3.pth \n",
      "\n",
      "Training Model with id 4\n",
      "in multi\n"
     ]
    },
    {
     "name": "stderr",
     "output_type": "stream",
     "text": [
      "Training Process: 100%|██████████| 10/10 [00:00<00:00, 26.79it/s]\n"
     ]
    },
    {
     "name": "stdout",
     "output_type": "stream",
     "text": [
      "Total Epochs: 10\n",
      "Train loss start: 0.690628170967102, Train loss end: 0.6303957104682922\n",
      "Highest Mean Train Accuracy (over epoch): 0.4959821428571428\n",
      "Test loss start: 0.6474681496620178, Test loss end: 0.6945185661315918\n",
      "Highest mean Test Accuracy (over epoch): 0.5920138888888891\n",
      " Test F1 score at highest accuracy: 0.49465580409476145\n",
      "./saved_models/model_4.pth \n",
      "\n",
      "Training Model with id 7\n",
      "in multi\n"
     ]
    },
    {
     "name": "stderr",
     "output_type": "stream",
     "text": [
      "Training Process: 100%|██████████| 10/10 [00:00<00:00, 27.38it/s]\n"
     ]
    },
    {
     "name": "stdout",
     "output_type": "stream",
     "text": [
      "Total Epochs: 10\n",
      "Train loss start: 0.7459438443183899, Train loss end: 0.7365922331809998\n",
      "Highest Mean Train Accuracy (over epoch): 0.4959821428571428\n",
      "Test loss start: 0.6473840475082397, Test loss end: 0.6944525837898254\n",
      "Highest mean Test Accuracy (over epoch): 0.5920138888888888\n",
      " Test F1 score at highest accuracy: 0.49465580409476145\n",
      "./saved_models/model_7.pth \n",
      "\n",
      "Training Model with id 8\n",
      "in multi\n"
     ]
    },
    {
     "name": "stderr",
     "output_type": "stream",
     "text": [
      "Training Process: 100%|██████████| 10/10 [00:00<00:00, 27.40it/s]\n"
     ]
    },
    {
     "name": "stdout",
     "output_type": "stream",
     "text": [
      "Total Epochs: 10\n",
      "Train loss start: 0.6961910128593445, Train loss end: 0.6604138016700745\n",
      "Highest Mean Train Accuracy (over epoch): 0.49434523809523806\n",
      "Test loss start: 0.6472994089126587, Test loss end: 0.6943871378898621\n",
      "Highest mean Test Accuracy (over epoch): 0.584201388888889\n",
      " Test F1 score at highest accuracy: 0.49699468265409363\n",
      "./saved_models/model_8.pth \n",
      "\n",
      "Training Model with id 6\n",
      "in multi\n"
     ]
    },
    {
     "name": "stderr",
     "output_type": "stream",
     "text": [
      "Training Process: 100%|██████████| 10/10 [00:00<00:00, 26.71it/s]\n"
     ]
    },
    {
     "name": "stdout",
     "output_type": "stream",
     "text": [
      "Total Epochs: 10\n",
      "Train loss start: 0.6616706848144531, Train loss end: 0.6594470143318176\n",
      "Highest Mean Train Accuracy (over epoch): 0.4850446428571428\n",
      "Test loss start: 0.6472153663635254, Test loss end: 0.6943209767341614\n",
      "Highest mean Test Accuracy (over epoch): 0.584201388888889\n",
      " Test F1 score at highest accuracy: 0.49699468265409363\n",
      "./saved_models/model_6.pth \n",
      "\n",
      " Maximum accuracy: 0.5920138888888891, F1: 0.49465580409476145, Test: 0.6804105415940285, Train: 0.6996920943260193\n",
      "in multi\n"
     ]
    },
    {
     "name": "stderr",
     "output_type": "stream",
     "text": [
      "Training Process: 100%|██████████| 70/70 [00:04<00:00, 15.37it/s]\n"
     ]
    },
    {
     "name": "stdout",
     "output_type": "stream",
     "text": [
      "Total Epochs: 70\n",
      "Train loss start: 0.7281684279441833, Train loss end: 0.6713241934776306\n",
      "Highest Mean Train Accuracy (over epoch): 0.4830357142857143\n",
      "Test loss start: 0.8113846778869629, Test loss end: 0.7081863284111023\n",
      "Highest mean Test Accuracy (over epoch): 0.43923611111111116\n",
      " Test F1 score at highest accuracy: 0.4800412641996801\n",
      "Randomly initializing 4 models\n",
      "Training Model with id 1\n",
      "in multi\n"
     ]
    },
    {
     "name": "stderr",
     "output_type": "stream",
     "text": [
      "Training Process: 100%|██████████| 10/10 [00:00<00:00, 20.81it/s]\n"
     ]
    },
    {
     "name": "stdout",
     "output_type": "stream",
     "text": [
      "Total Epochs: 10\n",
      "Train loss start: 0.5167250633239746, Train loss end: 0.625925600528717\n",
      "Highest Mean Train Accuracy (over epoch): 0.8096230158730159\n",
      "Test loss start: 0.6254505515098572, Test loss end: 0.6684467792510986\n",
      "Highest mean Test Accuracy (over epoch): 0.5902777777777778\n",
      " Test F1 score at highest accuracy: 0.806233891824158\n",
      "./saved_models/model_1.pth \n",
      "\n",
      "Training Model with id 2\n",
      "in multi\n"
     ]
    },
    {
     "name": "stderr",
     "output_type": "stream",
     "text": [
      "Training Process: 100%|██████████| 10/10 [00:00<00:00, 19.58it/s]\n"
     ]
    },
    {
     "name": "stdout",
     "output_type": "stream",
     "text": [
      "Total Epochs: 10\n",
      "Train loss start: 0.8351936340332031, Train loss end: 0.7489732503890991\n",
      "Highest Mean Train Accuracy (over epoch): 0.34017857142857144\n",
      "Test loss start: 0.7452564835548401, Test loss end: 0.8231679797172546\n",
      "Highest mean Test Accuracy (over epoch): 0.42100694444444453\n",
      " Test F1 score at highest accuracy: 0.3505909565315506\n",
      "./saved_models/model_2.pth \n",
      "\n",
      "Training Model with id 3\n",
      "in multi\n"
     ]
    },
    {
     "name": "stderr",
     "output_type": "stream",
     "text": [
      "Training Process: 100%|██████████| 10/10 [00:00<00:00, 23.82it/s]\n"
     ]
    },
    {
     "name": "stdout",
     "output_type": "stream",
     "text": [
      "Total Epochs: 10\n",
      "Train loss start: 1.0249674320220947, Train loss end: 1.1777340173721313\n",
      "Highest Mean Train Accuracy (over epoch): 0.12529761904761905\n",
      "Test loss start: 0.8961158990859985, Test loss end: 0.765864372253418\n",
      "Highest mean Test Accuracy (over epoch): 0.3125\n",
      " Test F1 score at highest accuracy: 0.1271850242780475\n",
      "./saved_models/model_3.pth \n",
      "\n",
      "Training Model with id 4\n",
      "in multi\n"
     ]
    },
    {
     "name": "stderr",
     "output_type": "stream",
     "text": [
      "Training Process: 100%|██████████| 10/10 [00:00<00:00, 21.19it/s]\n"
     ]
    },
    {
     "name": "stdout",
     "output_type": "stream",
     "text": [
      "Total Epochs: 10\n",
      "Train loss start: 0.6449753642082214, Train loss end: 0.5084429383277893\n",
      "Highest Mean Train Accuracy (over epoch): 0.7211309523809524\n",
      "Test loss start: 0.6109410524368286, Test loss end: 0.635202169418335\n",
      "Highest mean Test Accuracy (over epoch): 0.6727430555555556\n",
      " Test F1 score at highest accuracy: 0.7283671910891782\n",
      "./saved_models/model_4.pth \n",
      "\n",
      "Training Model with id 7\n",
      "in multi\n"
     ]
    },
    {
     "name": "stderr",
     "output_type": "stream",
     "text": [
      "Training Process: 100%|██████████| 10/10 [00:00<00:00, 21.01it/s]\n"
     ]
    },
    {
     "name": "stdout",
     "output_type": "stream",
     "text": [
      "Total Epochs: 10\n",
      "Train loss start: 0.5589278340339661, Train loss end: 0.765101432800293\n",
      "Highest Mean Train Accuracy (over epoch): 0.7300595238095239\n",
      "Test loss start: 0.6108770966529846, Test loss end: 0.6351520419120789\n",
      "Highest mean Test Accuracy (over epoch): 0.6727430555555556\n",
      " Test F1 score at highest accuracy: 0.7283671910891782\n",
      "./saved_models/model_7.pth \n",
      "\n",
      "Training Model with id 8\n",
      "in multi\n"
     ]
    },
    {
     "name": "stderr",
     "output_type": "stream",
     "text": [
      "Training Process: 100%|██████████| 10/10 [00:00<00:00, 23.84it/s]\n"
     ]
    },
    {
     "name": "stdout",
     "output_type": "stream",
     "text": [
      "Total Epochs: 10\n",
      "Train loss start: 0.5320587754249573, Train loss end: 0.6877328157424927\n",
      "Highest Mean Train Accuracy (over epoch): 0.7300595238095239\n",
      "Test loss start: 0.6108126640319824, Test loss end: 0.6351016163825989\n",
      "Highest mean Test Accuracy (over epoch): 0.6727430555555556\n",
      " Test F1 score at highest accuracy: 0.7283671910891782\n",
      "./saved_models/model_8.pth \n",
      "\n",
      "Training Model with id 6\n",
      "in multi\n"
     ]
    },
    {
     "name": "stderr",
     "output_type": "stream",
     "text": [
      "Training Process: 100%|██████████| 10/10 [00:00<00:00, 23.25it/s]\n"
     ]
    },
    {
     "name": "stdout",
     "output_type": "stream",
     "text": [
      "Total Epochs: 10\n",
      "Train loss start: 0.6260508894920349, Train loss end: 0.6751697659492493\n",
      "Highest Mean Train Accuracy (over epoch): 0.7300595238095239\n",
      "Test loss start: 0.6107479929924011, Test loss end: 0.6350514888763428\n",
      "Highest mean Test Accuracy (over epoch): 0.6727430555555556\n",
      " Test F1 score at highest accuracy: 0.7283671910891782\n",
      "./saved_models/model_6.pth \n",
      "\n",
      " Maximum accuracy: 0.6727430555555556, F1: 0.7283671910891782, Test: 0.6220910802483559, Train: 0.527793965737025\n",
      "in multi\n"
     ]
    },
    {
     "name": "stderr",
     "output_type": "stream",
     "text": [
      "Training Process: 100%|██████████| 70/70 [00:04<00:00, 15.47it/s]\n"
     ]
    },
    {
     "name": "stdout",
     "output_type": "stream",
     "text": [
      "Total Epochs: 70\n",
      "Train loss start: 0.9333041310310364, Train loss end: 1.0389448404312134\n",
      "Highest Mean Train Accuracy (over epoch): 0.24523809523809523\n",
      "Test loss start: 0.844260036945343, Test loss end: 0.7835038900375366\n",
      "Highest mean Test Accuracy (over epoch): 0.40190972222222227\n",
      " Test F1 score at highest accuracy: 0.2494566193003142\n",
      "Randomly initializing 4 models\n",
      "Training Model with id 1\n",
      "in multi\n"
     ]
    },
    {
     "name": "stderr",
     "output_type": "stream",
     "text": [
      "Training Process: 100%|██████████| 10/10 [00:00<00:00, 22.83it/s]\n"
     ]
    },
    {
     "name": "stdout",
     "output_type": "stream",
     "text": [
      "Total Epochs: 10\n",
      "Train loss start: 0.9251616597175598, Train loss end: 0.9724388122558594\n",
      "Highest Mean Train Accuracy (over epoch): 0.2046875\n",
      "Test loss start: 0.8071228265762329, Test loss end: 0.7903803586959839\n",
      "Highest mean Test Accuracy (over epoch): 0.484375\n",
      " Test F1 score at highest accuracy: 0.21030613669452144\n",
      "./saved_models/model_1.pth \n",
      "\n",
      "Training Model with id 2\n",
      "in multi\n"
     ]
    },
    {
     "name": "stderr",
     "output_type": "stream",
     "text": [
      "Training Process: 100%|██████████| 10/10 [00:00<00:00, 25.08it/s]\n"
     ]
    },
    {
     "name": "stdout",
     "output_type": "stream",
     "text": [
      "Total Epochs: 10\n",
      "Train loss start: 0.7134044170379639, Train loss end: 0.6612052917480469\n",
      "Highest Mean Train Accuracy (over epoch): 0.518452380952381\n",
      "Test loss start: 0.7411231398582458, Test loss end: 0.6992923021316528\n",
      "Highest mean Test Accuracy (over epoch): 0.5078125\n",
      " Test F1 score at highest accuracy: 0.5165041192695283\n",
      "./saved_models/model_2.pth \n",
      "\n",
      "Training Model with id 3\n",
      "in multi\n"
     ]
    },
    {
     "name": "stderr",
     "output_type": "stream",
     "text": [
      "Training Process: 100%|██████████| 10/10 [00:00<00:00, 27.32it/s]\n"
     ]
    },
    {
     "name": "stdout",
     "output_type": "stream",
     "text": [
      "Total Epochs: 10\n",
      "Train loss start: 0.7972961664199829, Train loss end: 0.7371821999549866\n",
      "Highest Mean Train Accuracy (over epoch): 0.37351190476190477\n",
      "Test loss start: 0.7518144249916077, Test loss end: 0.755859375\n",
      "Highest mean Test Accuracy (over epoch): 0.43489583333333337\n",
      " Test F1 score at highest accuracy: 0.374876490919461\n",
      "./saved_models/model_3.pth \n",
      "\n",
      "Training Model with id 4\n",
      "in multi\n"
     ]
    },
    {
     "name": "stderr",
     "output_type": "stream",
     "text": [
      "Training Process: 100%|██████████| 10/10 [00:00<00:00, 25.10it/s]\n"
     ]
    },
    {
     "name": "stdout",
     "output_type": "stream",
     "text": [
      "Total Epochs: 10\n",
      "Train loss start: 0.93119877576828, Train loss end: 0.9872268438339233\n",
      "Highest Mean Train Accuracy (over epoch): 0.15783730158730158\n",
      "Test loss start: 0.8683785200119019, Test loss end: 0.7057660818099976\n",
      "Highest mean Test Accuracy (over epoch): 0.42795138888888895\n",
      " Test F1 score at highest accuracy: 0.1635390381617454\n",
      "./saved_models/model_4.pth \n",
      "\n",
      "Training Model with id 7\n",
      "in multi\n"
     ]
    },
    {
     "name": "stderr",
     "output_type": "stream",
     "text": [
      "Training Process: 100%|██████████| 10/10 [00:00<00:00, 22.89it/s]\n"
     ]
    },
    {
     "name": "stdout",
     "output_type": "stream",
     "text": [
      "Total Epochs: 10\n",
      "Train loss start: 0.9447759389877319, Train loss end: 1.0293127298355103\n",
      "Highest Mean Train Accuracy (over epoch): 0.16279761904761905\n",
      "Test loss start: 0.8683063387870789, Test loss end: 0.7057096362113953\n",
      "Highest mean Test Accuracy (over epoch): 0.42795138888888895\n",
      " Test F1 score at highest accuracy: 0.1635390381617454\n",
      "./saved_models/model_7.pth \n",
      "\n",
      "Training Model with id 8\n",
      "in multi\n"
     ]
    },
    {
     "name": "stderr",
     "output_type": "stream",
     "text": [
      "Training Process: 100%|██████████| 10/10 [00:00<00:00, 22.90it/s]\n"
     ]
    },
    {
     "name": "stdout",
     "output_type": "stream",
     "text": [
      "Total Epochs: 10\n",
      "Train loss start: 0.9313504695892334, Train loss end: 0.8690417408943176\n",
      "Highest Mean Train Accuracy (over epoch): 0.16093750000000004\n",
      "Test loss start: 0.8682336807250977, Test loss end: 0.7056530117988586\n",
      "Highest mean Test Accuracy (over epoch): 0.42795138888888895\n",
      " Test F1 score at highest accuracy: 0.1635390381617454\n",
      "./saved_models/model_8.pth \n",
      "\n",
      "Training Model with id 6\n",
      "in multi\n"
     ]
    },
    {
     "name": "stderr",
     "output_type": "stream",
     "text": [
      "Training Process: 100%|██████████| 10/10 [00:00<00:00, 24.10it/s]\n"
     ]
    },
    {
     "name": "stdout",
     "output_type": "stream",
     "text": [
      "Total Epochs: 10\n",
      "Train loss start: 0.9406023621559143, Train loss end: 1.0736411809921265\n",
      "Highest Mean Train Accuracy (over epoch): 0.17023809523809522\n",
      "Test loss start: 0.8681617975234985, Test loss end: 0.705596923828125\n",
      "Highest mean Test Accuracy (over epoch): 0.42795138888888895\n",
      " Test F1 score at highest accuracy: 0.1635390381617454\n",
      "./saved_models/model_6.pth \n",
      "\n",
      " Maximum accuracy: 0.5078125, F1: 0.5165041192695283, Test: 0.7060541734099388, Train: 0.7004985809326172\n",
      "in multi\n"
     ]
    },
    {
     "name": "stderr",
     "output_type": "stream",
     "text": [
      "Training Process: 100%|██████████| 70/70 [00:04<00:00, 16.70it/s]\n"
     ]
    },
    {
     "name": "stdout",
     "output_type": "stream",
     "text": [
      "Total Epochs: 70\n",
      "Train loss start: 0.8368884921073914, Train loss end: 0.8280562162399292\n",
      "Highest Mean Train Accuracy (over epoch): 0.3301232993197279\n",
      "Test loss start: 0.7695650458335876, Test loss end: 0.7415657639503479\n",
      "Highest mean Test Accuracy (over epoch): 0.453125\n",
      " Test F1 score at highest accuracy: 0.33673375698407243\n",
      "Randomly initializing 4 models\n",
      "Training Model with id 1\n",
      "in multi\n"
     ]
    },
    {
     "name": "stderr",
     "output_type": "stream",
     "text": [
      "Training Process: 100%|██████████| 10/10 [00:00<00:00, 20.91it/s]\n"
     ]
    },
    {
     "name": "stdout",
     "output_type": "stream",
     "text": [
      "Total Epochs: 10\n",
      "Train loss start: 0.6522732377052307, Train loss end: 0.6202510595321655\n",
      "Highest Mean Train Accuracy (over epoch): 0.6238095238095238\n",
      "Test loss start: 0.638309895992279, Test loss end: 0.6648498177528381\n",
      "Highest mean Test Accuracy (over epoch): 0.5998263888888891\n",
      " Test F1 score at highest accuracy: 0.6163676953731532\n",
      "./saved_models/model_1.pth \n",
      "\n",
      "Training Model with id 2\n",
      "in multi\n"
     ]
    },
    {
     "name": "stderr",
     "output_type": "stream",
     "text": [
      "Training Process: 100%|██████████| 10/10 [00:00<00:00, 24.61it/s]\n"
     ]
    },
    {
     "name": "stdout",
     "output_type": "stream",
     "text": [
      "Total Epochs: 10\n",
      "Train loss start: 0.6022263765335083, Train loss end: 0.6524869799613953\n",
      "Highest Mean Train Accuracy (over epoch): 0.6404761904761905\n",
      "Test loss start: 0.6820462942123413, Test loss end: 0.6789359450340271\n",
      "Highest mean Test Accuracy (over epoch): 0.6154513888888891\n",
      " Test F1 score at highest accuracy: 0.6352363150867824\n",
      "./saved_models/model_2.pth \n",
      "\n",
      "Training Model with id 3\n",
      "in multi\n"
     ]
    },
    {
     "name": "stderr",
     "output_type": "stream",
     "text": [
      "Training Process: 100%|██████████| 10/10 [00:00<00:00, 24.24it/s]\n"
     ]
    },
    {
     "name": "stdout",
     "output_type": "stream",
     "text": [
      "Total Epochs: 10\n",
      "Train loss start: 0.9116756916046143, Train loss end: 0.8277432322502136\n",
      "Highest Mean Train Accuracy (over epoch): 0.3086309523809524\n",
      "Test loss start: 0.817288875579834, Test loss end: 0.7617761492729187\n",
      "Highest mean Test Accuracy (over epoch): 0.41753472222222227\n",
      " Test F1 score at highest accuracy: 0.3220091128383811\n",
      "./saved_models/model_3.pth \n",
      "\n",
      "Training Model with id 4\n",
      "in multi\n"
     ]
    },
    {
     "name": "stderr",
     "output_type": "stream",
     "text": [
      "Training Process: 100%|██████████| 10/10 [00:00<00:00, 24.23it/s]\n"
     ]
    },
    {
     "name": "stdout",
     "output_type": "stream",
     "text": [
      "Total Epochs: 10\n",
      "Train loss start: 0.5039587020874023, Train loss end: 0.5636575222015381\n",
      "Highest Mean Train Accuracy (over epoch): 0.7242724867724867\n",
      "Test loss start: 0.6361414194107056, Test loss end: 0.6390092372894287\n",
      "Highest mean Test Accuracy (over epoch): 0.5998263888888891\n",
      " Test F1 score at highest accuracy: 0.7280002701425001\n",
      "./saved_models/model_4.pth \n",
      "\n",
      "Training Model with id 7\n",
      "in multi\n"
     ]
    },
    {
     "name": "stderr",
     "output_type": "stream",
     "text": [
      "Training Process: 100%|██████████| 10/10 [00:00<00:00, 24.59it/s]\n"
     ]
    },
    {
     "name": "stdout",
     "output_type": "stream",
     "text": [
      "Total Epochs: 10\n",
      "Train loss start: 0.5559910535812378, Train loss end: 0.5448641180992126\n",
      "Highest Mean Train Accuracy (over epoch): 0.7267526455026455\n",
      "Test loss start: 0.6360877752304077, Test loss end: 0.6389681696891785\n",
      "Highest mean Test Accuracy (over epoch): 0.5998263888888891\n",
      " Test F1 score at highest accuracy: 0.7280002701425001\n",
      "./saved_models/model_7.pth \n",
      "\n",
      "Training Model with id 8\n",
      "in multi\n"
     ]
    },
    {
     "name": "stderr",
     "output_type": "stream",
     "text": [
      "Training Process: 100%|██████████| 10/10 [00:00<00:00, 26.26it/s]\n"
     ]
    },
    {
     "name": "stdout",
     "output_type": "stream",
     "text": [
      "Total Epochs: 10\n",
      "Train loss start: 0.6376535892486572, Train loss end: 0.554277777671814\n",
      "Highest Mean Train Accuracy (over epoch): 0.7300595238095239\n",
      "Test loss start: 0.6360335946083069, Test loss end: 0.6389278173446655\n",
      "Highest mean Test Accuracy (over epoch): 0.5998263888888891\n",
      " Test F1 score at highest accuracy: 0.7280002701425001\n",
      "./saved_models/model_8.pth \n",
      "\n",
      "Training Model with id 6\n",
      "in multi\n"
     ]
    },
    {
     "name": "stderr",
     "output_type": "stream",
     "text": [
      "Training Process: 100%|██████████| 10/10 [00:00<00:00, 20.88it/s]\n"
     ]
    },
    {
     "name": "stdout",
     "output_type": "stream",
     "text": [
      "Total Epochs: 10\n",
      "Train loss start: 0.5140688419342041, Train loss end: 0.5245522856712341\n",
      "Highest Mean Train Accuracy (over epoch): 0.7196428571428573\n",
      "Test loss start: 0.6359800696372986, Test loss end: 0.6388872861862183\n",
      "Highest mean Test Accuracy (over epoch): 0.5998263888888891\n",
      " Test F1 score at highest accuracy: 0.7280002701425001\n",
      "./saved_models/model_6.pth \n",
      "\n",
      " Maximum accuracy: 0.6154513888888891, F1: 0.6352363150867824, Test: 0.6545060262084007, Train: 0.5575505495071411\n",
      "in multi\n"
     ]
    },
    {
     "name": "stderr",
     "output_type": "stream",
     "text": [
      "Training Process: 100%|██████████| 70/70 [00:04<00:00, 15.66it/s]\n"
     ]
    },
    {
     "name": "stdout",
     "output_type": "stream",
     "text": [
      "Total Epochs: 70\n",
      "Train loss start: 0.9215624928474426, Train loss end: 0.9105227589607239\n",
      "Highest Mean Train Accuracy (over epoch): 0.17857142857142855\n",
      "Test loss start: 0.7907074689865112, Test loss end: 0.8043127059936523\n",
      "Highest mean Test Accuracy (over epoch): 0.37586805555555564\n",
      " Test F1 score at highest accuracy: 0.17714753586092255\n",
      "Randomly initializing 4 models\n",
      "Training Model with id 1\n",
      "in multi\n"
     ]
    },
    {
     "name": "stderr",
     "output_type": "stream",
     "text": [
      "Training Process: 100%|██████████| 10/10 [00:00<00:00, 23.63it/s]\n"
     ]
    },
    {
     "name": "stdout",
     "output_type": "stream",
     "text": [
      "Total Epochs: 10\n",
      "Train loss start: 0.5366101861000061, Train loss end: 0.6016060709953308\n",
      "Highest Mean Train Accuracy (over epoch): 0.8291666666666667\n",
      "Test loss start: 0.5721938610076904, Test loss end: 0.6009448766708374\n",
      "Highest mean Test Accuracy (over epoch): 0.7256944444444445\n",
      " Test F1 score at highest accuracy: 0.8228470228470228\n",
      "./saved_models/model_1.pth \n",
      "\n",
      "Training Model with id 2\n",
      "in multi\n"
     ]
    },
    {
     "name": "stderr",
     "output_type": "stream",
     "text": [
      "Training Process: 100%|██████████| 10/10 [00:00<00:00, 21.17it/s]\n"
     ]
    },
    {
     "name": "stdout",
     "output_type": "stream",
     "text": [
      "Total Epochs: 10\n",
      "Train loss start: 1.0765949487686157, Train loss end: 1.1034181118011475\n",
      "Highest Mean Train Accuracy (over epoch): 0.07779017857142856\n",
      "Test loss start: 0.962799072265625, Test loss end: 0.8897354602813721\n",
      "Highest mean Test Accuracy (over epoch): 0.26909722222222227\n",
      " Test F1 score at highest accuracy: 0.08423872853013846\n",
      "./saved_models/model_2.pth \n",
      "\n",
      "Training Model with id 3\n",
      "in multi\n"
     ]
    },
    {
     "name": "stderr",
     "output_type": "stream",
     "text": [
      "Training Process: 100%|██████████| 10/10 [00:00<00:00, 25.11it/s]\n"
     ]
    },
    {
     "name": "stdout",
     "output_type": "stream",
     "text": [
      "Total Epochs: 10\n",
      "Train loss start: 0.5919858813285828, Train loss end: 0.4475543797016144\n",
      "Highest Mean Train Accuracy (over epoch): 0.7779761904761905\n",
      "Test loss start: 0.6274609565734863, Test loss end: 0.7128907442092896\n",
      "Highest mean Test Accuracy (over epoch): 0.5920138888888891\n",
      " Test F1 score at highest accuracy: 0.7761461357167975\n",
      "./saved_models/model_3.pth \n",
      "\n",
      "Training Model with id 4\n",
      "in multi\n"
     ]
    },
    {
     "name": "stderr",
     "output_type": "stream",
     "text": [
      "Training Process: 100%|██████████| 10/10 [00:00<00:00, 26.13it/s]\n"
     ]
    },
    {
     "name": "stdout",
     "output_type": "stream",
     "text": [
      "Total Epochs: 10\n",
      "Train loss start: 0.9401507377624512, Train loss end: 1.0054086446762085\n",
      "Highest Mean Train Accuracy (over epoch): 0.12827380952380954\n",
      "Test loss start: 0.8901023864746094, Test loss end: 0.7865892648696899\n",
      "Highest mean Test Accuracy (over epoch): 0.33940972222222227\n",
      " Test F1 score at highest accuracy: 0.13704518981437366\n",
      "./saved_models/model_4.pth \n",
      "\n",
      "Training Model with id 7\n",
      "in multi\n"
     ]
    },
    {
     "name": "stderr",
     "output_type": "stream",
     "text": [
      "Training Process: 100%|██████████| 10/10 [00:00<00:00, 26.74it/s]\n"
     ]
    },
    {
     "name": "stdout",
     "output_type": "stream",
     "text": [
      "Total Epochs: 10\n",
      "Train loss start: 1.0567421913146973, Train loss end: 1.011932134628296\n",
      "Highest Mean Train Accuracy (over epoch): 0.1357142857142857\n",
      "Test loss start: 0.8900364637374878, Test loss end: 0.7865404486656189\n",
      "Highest mean Test Accuracy (over epoch): 0.33940972222222227\n",
      " Test F1 score at highest accuracy: 0.13704518981437366\n",
      "./saved_models/model_7.pth \n",
      "\n",
      "Training Model with id 8\n",
      "in multi\n"
     ]
    },
    {
     "name": "stderr",
     "output_type": "stream",
     "text": [
      "Training Process: 100%|██████████| 10/10 [00:00<00:00, 26.82it/s]\n"
     ]
    },
    {
     "name": "stdout",
     "output_type": "stream",
     "text": [
      "Total Epochs: 10\n",
      "Train loss start: 1.0705448389053345, Train loss end: 0.9011826515197754\n",
      "Highest Mean Train Accuracy (over epoch): 0.12827380952380954\n",
      "Test loss start: 0.8899699449539185, Test loss end: 0.7864920496940613\n",
      "Highest mean Test Accuracy (over epoch): 0.33940972222222227\n",
      " Test F1 score at highest accuracy: 0.13704518981437366\n",
      "./saved_models/model_8.pth \n",
      "\n",
      "Training Model with id 6\n",
      "in multi\n"
     ]
    },
    {
     "name": "stderr",
     "output_type": "stream",
     "text": [
      "Training Process: 100%|██████████| 10/10 [00:00<00:00, 23.67it/s]\n"
     ]
    },
    {
     "name": "stdout",
     "output_type": "stream",
     "text": [
      "Total Epochs: 10\n",
      "Train loss start: 0.9879915714263916, Train loss end: 1.0602607727050781\n",
      "Highest Mean Train Accuracy (over epoch): 0.12976190476190477\n",
      "Test loss start: 0.8899042010307312, Test loss end: 0.7864434719085693\n",
      "Highest mean Test Accuracy (over epoch): 0.33940972222222227\n",
      " Test F1 score at highest accuracy: 0.13704518981437366\n",
      "./saved_models/model_6.pth \n",
      "\n",
      " Maximum accuracy: 0.7256944444444445, F1: 0.8228470228470228, Test: 0.607391469180584, Train: 0.5299461901187896\n",
      "in multi\n"
     ]
    },
    {
     "name": "stderr",
     "output_type": "stream",
     "text": [
      "Training Process: 100%|██████████| 70/70 [00:04<00:00, 14.44it/s]\n"
     ]
    },
    {
     "name": "stdout",
     "output_type": "stream",
     "text": [
      "Total Epochs: 70\n",
      "Train loss start: 0.5323917269706726, Train loss end: 0.5321907997131348\n",
      "Highest Mean Train Accuracy (over epoch): 0.8455729166666667\n",
      "Test loss start: 0.5889672040939331, Test loss end: 0.6583884358406067\n",
      "Highest mean Test Accuracy (over epoch): 0.6336805555555556\n",
      " Test F1 score at highest accuracy: 0.8455612032217459\n",
      "Randomly initializing 4 models\n",
      "Training Model with id 1\n",
      "in multi\n"
     ]
    },
    {
     "name": "stderr",
     "output_type": "stream",
     "text": [
      "Training Process: 100%|██████████| 10/10 [00:00<00:00, 22.87it/s]\n"
     ]
    },
    {
     "name": "stdout",
     "output_type": "stream",
     "text": [
      "Total Epochs: 10\n",
      "Train loss start: 0.7699242234230042, Train loss end: 0.7002692818641663\n",
      "Highest Mean Train Accuracy (over epoch): 0.5190476190476191\n",
      "Test loss start: 0.7497732043266296, Test loss end: 0.6824225783348083\n",
      "Highest mean Test Accuracy (over epoch): 0.5338541666666666\n",
      " Test F1 score at highest accuracy: 0.5274640750715563\n",
      "./saved_models/model_1.pth \n",
      "\n",
      "Training Model with id 2\n",
      "in multi\n"
     ]
    },
    {
     "name": "stderr",
     "output_type": "stream",
     "text": [
      "Training Process: 100%|██████████| 10/10 [00:00<00:00, 20.93it/s]\n"
     ]
    },
    {
     "name": "stdout",
     "output_type": "stream",
     "text": [
      "Total Epochs: 10\n",
      "Train loss start: 0.7680983543395996, Train loss end: 0.7161629796028137\n",
      "Highest Mean Train Accuracy (over epoch): 0.41101190476190474\n",
      "Test loss start: 0.7094372510910034, Test loss end: 0.7542418837547302\n",
      "Highest mean Test Accuracy (over epoch): 0.43923611111111116\n",
      " Test F1 score at highest accuracy: 0.4136772604485979\n",
      "./saved_models/model_2.pth \n",
      "\n",
      "Training Model with id 3\n",
      "in multi\n"
     ]
    },
    {
     "name": "stderr",
     "output_type": "stream",
     "text": [
      "Training Process: 100%|██████████| 10/10 [00:00<00:00, 20.74it/s]\n"
     ]
    },
    {
     "name": "stdout",
     "output_type": "stream",
     "text": [
      "Total Epochs: 10\n",
      "Train loss start: 0.6594405770301819, Train loss end: 0.6674798130989075\n",
      "Highest Mean Train Accuracy (over epoch): 0.6508928571428572\n",
      "Test loss start: 0.6662647128105164, Test loss end: 0.6572253108024597\n",
      "Highest mean Test Accuracy (over epoch): 0.5885416666666667\n",
      " Test F1 score at highest accuracy: 0.6456940456940456\n",
      "./saved_models/model_3.pth \n",
      "\n",
      "Training Model with id 4\n",
      "in multi\n"
     ]
    },
    {
     "name": "stderr",
     "output_type": "stream",
     "text": [
      "Training Process: 100%|██████████| 10/10 [00:00<00:00, 21.07it/s]\n"
     ]
    },
    {
     "name": "stdout",
     "output_type": "stream",
     "text": [
      "Total Epochs: 10\n",
      "Train loss start: 0.8188340663909912, Train loss end: 0.7891300916671753\n",
      "Highest Mean Train Accuracy (over epoch): 0.38630952380952377\n",
      "Test loss start: 0.7553775906562805, Test loss end: 0.7584215402603149\n",
      "Highest mean Test Accuracy (over epoch): 0.40972222222222227\n",
      " Test F1 score at highest accuracy: 0.40438535884388144\n",
      "./saved_models/model_4.pth \n",
      "\n",
      "Training Model with id 7\n",
      "in multi\n"
     ]
    },
    {
     "name": "stderr",
     "output_type": "stream",
     "text": [
      "Training Process: 100%|██████████| 10/10 [00:00<00:00, 18.89it/s]\n"
     ]
    },
    {
     "name": "stdout",
     "output_type": "stream",
     "text": [
      "Total Epochs: 10\n",
      "Train loss start: 0.8150492906570435, Train loss end: 0.6132684946060181\n",
      "Highest Mean Train Accuracy (over epoch): 0.3952380952380953\n",
      "Test loss start: 0.7552804946899414, Test loss end: 0.7583501935005188\n",
      "Highest mean Test Accuracy (over epoch): 0.40972222222222227\n",
      " Test F1 score at highest accuracy: 0.40438535884388144\n",
      "./saved_models/model_7.pth \n",
      "\n",
      "Training Model with id 8\n",
      "in multi\n"
     ]
    },
    {
     "name": "stderr",
     "output_type": "stream",
     "text": [
      "Training Process: 100%|██████████| 10/10 [00:00<00:00, 23.17it/s]\n"
     ]
    },
    {
     "name": "stdout",
     "output_type": "stream",
     "text": [
      "Total Epochs: 10\n",
      "Train loss start: 0.733460545539856, Train loss end: 0.853547215461731\n",
      "Highest Mean Train Accuracy (over epoch): 0.3939980158730158\n",
      "Test loss start: 0.7551834583282471, Test loss end: 0.758279025554657\n",
      "Highest mean Test Accuracy (over epoch): 0.40972222222222227\n",
      " Test F1 score at highest accuracy: 0.40438535884388144\n",
      "./saved_models/model_8.pth \n",
      "\n",
      "Training Model with id 6\n",
      "in multi\n"
     ]
    },
    {
     "name": "stderr",
     "output_type": "stream",
     "text": [
      "Training Process: 100%|██████████| 10/10 [00:00<00:00, 25.69it/s]\n"
     ]
    },
    {
     "name": "stdout",
     "output_type": "stream",
     "text": [
      "Total Epochs: 10\n",
      "Train loss start: 0.7146246433258057, Train loss end: 0.8167328238487244\n",
      "Highest Mean Train Accuracy (over epoch): 0.4026785714285714\n",
      "Test loss start: 0.7550870776176453, Test loss end: 0.7582067251205444\n",
      "Highest mean Test Accuracy (over epoch): 0.40972222222222227\n",
      " Test F1 score at highest accuracy: 0.40438535884388144\n",
      "./saved_models/model_6.pth \n",
      "\n",
      " Maximum accuracy: 0.5885416666666667, F1: 0.6456940456940456, Test: 0.6725178539752961, Train: 0.6485200087229411\n",
      "in multi\n"
     ]
    },
    {
     "name": "stderr",
     "output_type": "stream",
     "text": [
      "Training Process: 100%|██████████| 70/70 [00:04<00:00, 15.09it/s]\n"
     ]
    },
    {
     "name": "stdout",
     "output_type": "stream",
     "text": [
      "Total Epochs: 70\n",
      "Train loss start: 0.9092286825180054, Train loss end: 1.1539767980575562\n",
      "Highest Mean Train Accuracy (over epoch): 0.1861607142857143\n",
      "Test loss start: 0.8569861054420471, Test loss end: 0.7269184589385986\n",
      "Highest mean Test Accuracy (over epoch): 0.44184027777777785\n",
      " Test F1 score at highest accuracy: 0.1836149658544488\n",
      "Randomly initializing 4 models\n",
      "Training Model with id 1\n",
      "in multi\n"
     ]
    },
    {
     "name": "stderr",
     "output_type": "stream",
     "text": [
      "Training Process: 100%|██████████| 10/10 [00:00<00:00, 21.86it/s]\n"
     ]
    },
    {
     "name": "stdout",
     "output_type": "stream",
     "text": [
      "Total Epochs: 10\n",
      "Train loss start: 0.6203677654266357, Train loss end: 0.7564455270767212\n",
      "Highest Mean Train Accuracy (over epoch): 0.5357142857142857\n",
      "Test loss start: 0.7449747920036316, Test loss end: 0.6940280199050903\n",
      "Highest mean Test Accuracy (over epoch): 0.5434027777777778\n",
      " Test F1 score at highest accuracy: 0.5425863031323614\n",
      "./saved_models/model_1.pth \n",
      "\n",
      "Training Model with id 2\n",
      "in multi\n"
     ]
    },
    {
     "name": "stderr",
     "output_type": "stream",
     "text": [
      "Training Process: 100%|██████████| 10/10 [00:00<00:00, 24.24it/s]\n"
     ]
    },
    {
     "name": "stdout",
     "output_type": "stream",
     "text": [
      "Total Epochs: 10\n",
      "Train loss start: 0.6207793354988098, Train loss end: 0.6478264927864075\n",
      "Highest Mean Train Accuracy (over epoch): 0.588095238095238\n",
      "Test loss start: 0.7166780829429626, Test loss end: 0.6647518873214722\n",
      "Highest mean Test Accuracy (over epoch): 0.5807291666666667\n",
      " Test F1 score at highest accuracy: 0.5968903408254521\n",
      "./saved_models/model_2.pth \n",
      "\n",
      "Training Model with id 3\n",
      "in multi\n"
     ]
    },
    {
     "name": "stderr",
     "output_type": "stream",
     "text": [
      "Training Process: 100%|██████████| 10/10 [00:00<00:00, 20.52it/s]\n"
     ]
    },
    {
     "name": "stdout",
     "output_type": "stream",
     "text": [
      "Total Epochs: 10\n",
      "Train loss start: 0.48545822501182556, Train loss end: 0.46540340781211853\n",
      "Highest Mean Train Accuracy (over epoch): 0.9291666666666667\n",
      "Test loss start: 0.5714026093482971, Test loss end: 0.5703384876251221\n",
      "Highest mean Test Accuracy (over epoch): 0.7291666666666667\n",
      " Test F1 score at highest accuracy: 0.925942544316668\n",
      "./saved_models/model_3.pth \n",
      "\n",
      "Training Model with id 4\n",
      "in multi\n"
     ]
    },
    {
     "name": "stderr",
     "output_type": "stream",
     "text": [
      "Training Process: 100%|██████████| 10/10 [00:00<00:00, 26.16it/s]\n"
     ]
    },
    {
     "name": "stdout",
     "output_type": "stream",
     "text": [
      "Total Epochs: 10\n",
      "Train loss start: 0.7649085521697998, Train loss end: 0.9180006384849548\n",
      "Highest Mean Train Accuracy (over epoch): 0.4202380952380952\n",
      "Test loss start: 0.7394118905067444, Test loss end: 0.6623727083206177\n",
      "Highest mean Test Accuracy (over epoch): 0.49730902777777775\n",
      " Test F1 score at highest accuracy: 0.4301655691390868\n",
      "./saved_models/model_4.pth \n",
      "\n",
      "Training Model with id 7\n",
      "in multi\n"
     ]
    },
    {
     "name": "stderr",
     "output_type": "stream",
     "text": [
      "Training Process: 100%|██████████| 10/10 [00:00<00:00, 25.61it/s]\n"
     ]
    },
    {
     "name": "stdout",
     "output_type": "stream",
     "text": [
      "Total Epochs: 10\n",
      "Train loss start: 0.6877815127372742, Train loss end: 0.8221570253372192\n",
      "Highest Mean Train Accuracy (over epoch): 0.4255527210884354\n",
      "Test loss start: 0.7393221855163574, Test loss end: 0.6623091697692871\n",
      "Highest mean Test Accuracy (over epoch): 0.5043402777777778\n",
      " Test F1 score at highest accuracy: 0.4301655691390869\n",
      "./saved_models/model_7.pth \n",
      "\n",
      "Training Model with id 8\n",
      "in multi\n"
     ]
    },
    {
     "name": "stderr",
     "output_type": "stream",
     "text": [
      "Training Process: 100%|██████████| 10/10 [00:00<00:00, 28.69it/s]\n"
     ]
    },
    {
     "name": "stdout",
     "output_type": "stream",
     "text": [
      "Total Epochs: 10\n",
      "Train loss start: 0.7348654270172119, Train loss end: 0.6826106905937195\n",
      "Highest Mean Train Accuracy (over epoch): 0.4220982142857143\n",
      "Test loss start: 0.7392326593399048, Test loss end: 0.6622450351715088\n",
      "Highest mean Test Accuracy (over epoch): 0.5043402777777778\n",
      " Test F1 score at highest accuracy: 0.4301655691390869\n",
      "./saved_models/model_8.pth \n",
      "\n",
      "Training Model with id 6\n",
      "in multi\n"
     ]
    },
    {
     "name": "stderr",
     "output_type": "stream",
     "text": [
      "Training Process: 100%|██████████| 10/10 [00:00<00:00, 19.57it/s]\n"
     ]
    },
    {
     "name": "stdout",
     "output_type": "stream",
     "text": [
      "Total Epochs: 10\n",
      "Train loss start: 0.7145299315452576, Train loss end: 0.6765861511230469\n",
      "Highest Mean Train Accuracy (over epoch): 0.41428571428571426\n",
      "Test loss start: 0.7391431331634521, Test loss end: 0.6621813774108887\n",
      "Highest mean Test Accuracy (over epoch): 0.5043402777777778\n",
      " Test F1 score at highest accuracy: 0.4301655691390869\n",
      "./saved_models/model_6.pth \n",
      "\n",
      " Maximum accuracy: 0.7291666666666667, F1: 0.925942544316668, Test: 0.574315282702446, Train: 0.4689345280329386\n",
      "in multi\n"
     ]
    },
    {
     "name": "stderr",
     "output_type": "stream",
     "text": [
      "Training Process: 100%|██████████| 70/70 [00:04<00:00, 16.40it/s]\n"
     ]
    },
    {
     "name": "stdout",
     "output_type": "stream",
     "text": [
      "Total Epochs: 70\n",
      "Train loss start: 0.562232494354248, Train loss end: 0.4857487380504608\n",
      "Highest Mean Train Accuracy (over epoch): 0.7592261904761906\n",
      "Test loss start: 0.6369370222091675, Test loss end: 0.6617848873138428\n",
      "Highest mean Test Accuracy (over epoch): 0.6059027777777779\n",
      " Test F1 score at highest accuracy: 0.7573892773892774\n",
      "Randomly initializing 4 models\n",
      "Training Model with id 1\n",
      "in multi\n"
     ]
    },
    {
     "name": "stderr",
     "output_type": "stream",
     "text": [
      "Training Process: 100%|██████████| 10/10 [00:00<00:00, 23.78it/s]\n"
     ]
    },
    {
     "name": "stdout",
     "output_type": "stream",
     "text": [
      "Total Epochs: 10\n",
      "Train loss start: 0.7488669753074646, Train loss end: 0.7275772094726562\n",
      "Highest Mean Train Accuracy (over epoch): 0.28065476190476185\n",
      "Test loss start: 0.7508298754692078, Test loss end: 0.7435462474822998\n",
      "Highest mean Test Accuracy (over epoch): 0.40017361111111116\n",
      " Test F1 score at highest accuracy: 0.29553324188667807\n",
      "./saved_models/model_1.pth \n",
      "\n",
      "Training Model with id 2\n",
      "in multi\n"
     ]
    },
    {
     "name": "stderr",
     "output_type": "stream",
     "text": [
      "Training Process: 100%|██████████| 10/10 [00:00<00:00, 22.65it/s]\n"
     ]
    },
    {
     "name": "stdout",
     "output_type": "stream",
     "text": [
      "Total Epochs: 10\n",
      "Train loss start: 0.495772123336792, Train loss end: 0.6504670977592468\n",
      "Highest Mean Train Accuracy (over epoch): 0.8522693452380953\n",
      "Test loss start: 0.5430791974067688, Test loss end: 0.5891925096511841\n",
      "Highest mean Test Accuracy (over epoch): 0.7526041666666667\n",
      " Test F1 score at highest accuracy: 0.8570329670329672\n",
      "./saved_models/model_2.pth \n",
      "\n",
      "Training Model with id 3\n",
      "in multi\n"
     ]
    },
    {
     "name": "stderr",
     "output_type": "stream",
     "text": [
      "Training Process: 100%|██████████| 10/10 [00:00<00:00, 24.26it/s]\n"
     ]
    },
    {
     "name": "stdout",
     "output_type": "stream",
     "text": [
      "Total Epochs: 10\n",
      "Train loss start: 0.8951046466827393, Train loss end: 1.006093144416809\n",
      "Highest Mean Train Accuracy (over epoch): 0.2616815476190476\n",
      "Test loss start: 0.816387951374054, Test loss end: 0.7403226494789124\n",
      "Highest mean Test Accuracy (over epoch): 0.38802083333333337\n",
      " Test F1 score at highest accuracy: 0.264627190416842\n",
      "./saved_models/model_3.pth \n",
      "\n",
      "Training Model with id 4\n",
      "in multi\n"
     ]
    },
    {
     "name": "stderr",
     "output_type": "stream",
     "text": [
      "Training Process: 100%|██████████| 10/10 [00:00<00:00, 27.97it/s]\n"
     ]
    },
    {
     "name": "stdout",
     "output_type": "stream",
     "text": [
      "Total Epochs: 10\n",
      "Train loss start: 0.6445555090904236, Train loss end: 0.6702073216438293\n",
      "Highest Mean Train Accuracy (over epoch): 0.7234126984126985\n",
      "Test loss start: 0.6928180456161499, Test loss end: 0.6105183362960815\n",
      "Highest mean Test Accuracy (over epoch): 0.6432291666666667\n",
      " Test F1 score at highest accuracy: 0.7240788993366313\n",
      "./saved_models/model_4.pth \n",
      "\n",
      "Training Model with id 7\n",
      "in multi\n"
     ]
    },
    {
     "name": "stderr",
     "output_type": "stream",
     "text": [
      "Training Process: 100%|██████████| 10/10 [00:00<00:00, 27.53it/s]\n"
     ]
    },
    {
     "name": "stdout",
     "output_type": "stream",
     "text": [
      "Total Epochs: 10\n",
      "Train loss start: 0.5603892803192139, Train loss end: 0.6778227686882019\n",
      "Highest Mean Train Accuracy (over epoch): 0.7212425595238094\n",
      "Test loss start: 0.6927312016487122, Test loss end: 0.6104759573936462\n",
      "Highest mean Test Accuracy (over epoch): 0.6432291666666667\n",
      " Test F1 score at highest accuracy: 0.7240788993366313\n",
      "./saved_models/model_7.pth \n",
      "\n",
      "Training Model with id 8\n",
      "in multi\n"
     ]
    },
    {
     "name": "stderr",
     "output_type": "stream",
     "text": [
      "Training Process: 100%|██████████| 10/10 [00:00<00:00, 26.74it/s]\n"
     ]
    },
    {
     "name": "stdout",
     "output_type": "stream",
     "text": [
      "Total Epochs: 10\n",
      "Train loss start: 0.5462538003921509, Train loss end: 0.4731394648551941\n",
      "Highest Mean Train Accuracy (over epoch): 0.7229166666666667\n",
      "Test loss start: 0.6926448941230774, Test loss end: 0.6104333400726318\n",
      "Highest mean Test Accuracy (over epoch): 0.6432291666666667\n",
      " Test F1 score at highest accuracy: 0.7240788993366313\n",
      "./saved_models/model_8.pth \n",
      "\n",
      "Training Model with id 6\n",
      "in multi\n"
     ]
    },
    {
     "name": "stderr",
     "output_type": "stream",
     "text": [
      "Training Process: 100%|██████████| 10/10 [00:00<00:00, 26.43it/s]\n"
     ]
    },
    {
     "name": "stdout",
     "output_type": "stream",
     "text": [
      "Total Epochs: 10\n",
      "Train loss start: 0.6157782077789307, Train loss end: 0.5715498328208923\n",
      "Highest Mean Train Accuracy (over epoch): 0.7209325396825397\n",
      "Test loss start: 0.6925578713417053, Test loss end: 0.6103907227516174\n",
      "Highest mean Test Accuracy (over epoch): 0.6432291666666667\n",
      " Test F1 score at highest accuracy: 0.7240788993366313\n",
      "./saved_models/model_6.pth \n",
      "\n",
      " Maximum accuracy: 0.7526041666666667, F1: 0.8570329670329672, Test: 0.5782822415232658, Train: 0.4843519541952345\n",
      "in multi\n"
     ]
    },
    {
     "name": "stderr",
     "output_type": "stream",
     "text": [
      "Training Process: 100%|██████████| 70/70 [00:05<00:00, 13.56it/s]\n"
     ]
    },
    {
     "name": "stdout",
     "output_type": "stream",
     "text": [
      "Total Epochs: 70\n",
      "Train loss start: 1.0184557437896729, Train loss end: 0.8185445666313171\n",
      "Highest Mean Train Accuracy (over epoch): 0.09613095238095237\n",
      "Test loss start: 0.9112091660499573, Test loss end: 0.9167017340660095\n",
      "Highest mean Test Accuracy (over epoch): 0.2647569444444445\n",
      " Test F1 score at highest accuracy: 0.09610148103871954\n",
      "Randomly initializing 4 models\n",
      "Training Model with id 1\n",
      "in multi\n"
     ]
    },
    {
     "name": "stderr",
     "output_type": "stream",
     "text": [
      "Training Process: 100%|██████████| 10/10 [00:00<00:00, 22.00it/s]\n"
     ]
    },
    {
     "name": "stdout",
     "output_type": "stream",
     "text": [
      "Total Epochs: 10\n",
      "Train loss start: 0.6430500745773315, Train loss end: 0.5386589765548706\n",
      "Highest Mean Train Accuracy (over epoch): 0.6430555555555556\n",
      "Test loss start: 0.7064669728279114, Test loss end: 0.6642998456954956\n",
      "Highest mean Test Accuracy (over epoch): 0.513888888888889\n",
      " Test F1 score at highest accuracy: 0.6474310407451037\n",
      "./saved_models/model_1.pth \n",
      "\n",
      "Training Model with id 2\n",
      "in multi\n"
     ]
    },
    {
     "name": "stderr",
     "output_type": "stream",
     "text": [
      "Training Process: 100%|██████████| 10/10 [00:00<00:00, 21.26it/s]\n"
     ]
    },
    {
     "name": "stdout",
     "output_type": "stream",
     "text": [
      "Total Epochs: 10\n",
      "Train loss start: 0.7790976166725159, Train loss end: 0.7113733291625977\n",
      "Highest Mean Train Accuracy (over epoch): 0.4193452380952381\n",
      "Test loss start: 0.7582987546920776, Test loss end: 0.6691856384277344\n",
      "Highest mean Test Accuracy (over epoch): 0.506076388888889\n",
      " Test F1 score at highest accuracy: 0.4200044853106078\n",
      "./saved_models/model_2.pth \n",
      "\n",
      "Training Model with id 3\n",
      "in multi\n"
     ]
    },
    {
     "name": "stderr",
     "output_type": "stream",
     "text": [
      "Training Process: 100%|██████████| 10/10 [00:00<00:00, 24.19it/s]\n"
     ]
    },
    {
     "name": "stdout",
     "output_type": "stream",
     "text": [
      "Total Epochs: 10\n",
      "Train loss start: 0.8577136993408203, Train loss end: 0.8829197883605957\n",
      "Highest Mean Train Accuracy (over epoch): 0.21532738095238094\n",
      "Test loss start: 0.8502440452575684, Test loss end: 0.7668970823287964\n",
      "Highest mean Test Accuracy (over epoch): 0.34722222222222227\n",
      " Test F1 score at highest accuracy: 0.22459709736470582\n",
      "./saved_models/model_3.pth \n",
      "\n",
      "Training Model with id 4\n",
      "in multi\n"
     ]
    },
    {
     "name": "stderr",
     "output_type": "stream",
     "text": [
      "Training Process: 100%|██████████| 10/10 [00:00<00:00, 24.57it/s]\n"
     ]
    },
    {
     "name": "stdout",
     "output_type": "stream",
     "text": [
      "Total Epochs: 10\n",
      "Train loss start: 0.6085992455482483, Train loss end: 0.4649088680744171\n",
      "Highest Mean Train Accuracy (over epoch): 0.75\n",
      "Test loss start: 0.6579312682151794, Test loss end: 0.6888359785079956\n",
      "Highest mean Test Accuracy (over epoch): 0.53125\n",
      " Test F1 score at highest accuracy: 0.7383687066487624\n",
      "./saved_models/model_4.pth \n",
      "\n",
      "Training Model with id 7\n",
      "in multi\n"
     ]
    },
    {
     "name": "stderr",
     "output_type": "stream",
     "text": [
      "Training Process: 100%|██████████| 10/10 [00:00<00:00, 25.72it/s]\n"
     ]
    },
    {
     "name": "stdout",
     "output_type": "stream",
     "text": [
      "Total Epochs: 10\n",
      "Train loss start: 0.5899739861488342, Train loss end: 0.696445107460022\n",
      "Highest Mean Train Accuracy (over epoch): 0.7360491071428572\n",
      "Test loss start: 0.6578693985939026, Test loss end: 0.6887861490249634\n",
      "Highest mean Test Accuracy (over epoch): 0.53125\n",
      " Test F1 score at highest accuracy: 0.7383687066487624\n",
      "./saved_models/model_7.pth \n",
      "\n",
      "Training Model with id 8\n",
      "in multi\n"
     ]
    },
    {
     "name": "stderr",
     "output_type": "stream",
     "text": [
      "Training Process: 100%|██████████| 10/10 [00:00<00:00, 21.27it/s]\n"
     ]
    },
    {
     "name": "stdout",
     "output_type": "stream",
     "text": [
      "Total Epochs: 10\n",
      "Train loss start: 0.6131494045257568, Train loss end: 0.5347557663917542\n",
      "Highest Mean Train Accuracy (over epoch): 0.7313988095238095\n",
      "Test loss start: 0.6578079462051392, Test loss end: 0.6887354850769043\n",
      "Highest mean Test Accuracy (over epoch): 0.53125\n",
      " Test F1 score at highest accuracy: 0.7383687066487624\n",
      "./saved_models/model_8.pth \n",
      "\n",
      "Training Model with id 6\n",
      "in multi\n"
     ]
    },
    {
     "name": "stderr",
     "output_type": "stream",
     "text": [
      "Training Process: 100%|██████████| 10/10 [00:00<00:00, 23.64it/s]\n"
     ]
    },
    {
     "name": "stdout",
     "output_type": "stream",
     "text": [
      "Total Epochs: 10\n",
      "Train loss start: 0.5446093082427979, Train loss end: 0.525031328201294\n",
      "Highest Mean Train Accuracy (over epoch): 0.7425595238095238\n",
      "Test loss start: 0.6577461361885071, Test loss end: 0.6886851191520691\n",
      "Highest mean Test Accuracy (over epoch): 0.53125\n",
      " Test F1 score at highest accuracy: 0.7383687066487624\n",
      "./saved_models/model_6.pth \n",
      "\n",
      " Maximum accuracy: 0.53125, F1: 0.7383687066487624, Test: 0.6893674597144127, Train: 0.5894642849763234\n",
      "in multi\n"
     ]
    },
    {
     "name": "stderr",
     "output_type": "stream",
     "text": [
      "Training Process: 100%|██████████| 70/70 [00:05<00:00, 13.37it/s]\n"
     ]
    },
    {
     "name": "stdout",
     "output_type": "stream",
     "text": [
      "Total Epochs: 70\n",
      "Train loss start: 0.4933766722679138, Train loss end: 0.4674391746520996\n",
      "Highest Mean Train Accuracy (over epoch): 0.8886904761904763\n",
      "Test loss start: 0.5403401255607605, Test loss end: 0.5881790518760681\n",
      "Highest mean Test Accuracy (over epoch): 0.7508680555555556\n",
      " Test F1 score at highest accuracy: 0.8865120547848494\n",
      "Randomly initializing 4 models\n",
      "Training Model with id 1\n",
      "in multi\n"
     ]
    },
    {
     "name": "stderr",
     "output_type": "stream",
     "text": [
      "Training Process: 100%|██████████| 10/10 [00:00<00:00, 18.29it/s]\n"
     ]
    },
    {
     "name": "stdout",
     "output_type": "stream",
     "text": [
      "Total Epochs: 10\n",
      "Train loss start: 1.0256237983703613, Train loss end: 1.0705763101577759\n",
      "Highest Mean Train Accuracy (over epoch): 0.1357142857142857\n",
      "Test loss start: 0.8901023864746094, Test loss end: 0.7865892052650452\n",
      "Highest mean Test Accuracy (over epoch): 0.33940972222222227\n",
      " Test F1 score at highest accuracy: 0.13704518981437366\n",
      "./saved_models/model_1.pth \n",
      "\n",
      "Training Model with id 2\n",
      "in multi\n"
     ]
    },
    {
     "name": "stderr",
     "output_type": "stream",
     "text": [
      "Training Process: 100%|██████████| 10/10 [00:00<00:00, 25.64it/s]\n"
     ]
    },
    {
     "name": "stdout",
     "output_type": "stream",
     "text": [
      "Total Epochs: 10\n",
      "Train loss start: 0.45559993386268616, Train loss end: 0.489525705575943\n",
      "Highest Mean Train Accuracy (over epoch): 0.8675595238095238\n",
      "Test loss start: 0.555350124835968, Test loss end: 0.6745132803916931\n",
      "Highest mean Test Accuracy (over epoch): 0.6171875\n",
      " Test F1 score at highest accuracy: 0.8695447409733124\n",
      "./saved_models/model_2.pth \n",
      "\n",
      "Training Model with id 3\n",
      "in multi\n"
     ]
    },
    {
     "name": "stderr",
     "output_type": "stream",
     "text": [
      "Training Process: 100%|██████████| 10/10 [00:00<00:00, 18.49it/s]\n"
     ]
    },
    {
     "name": "stdout",
     "output_type": "stream",
     "text": [
      "Total Epochs: 10\n",
      "Train loss start: 0.5748459100723267, Train loss end: 0.7875204086303711\n",
      "Highest Mean Train Accuracy (over epoch): 0.6580357142857143\n",
      "Test loss start: 0.6825476884841919, Test loss end: 0.6340895891189575\n",
      "Highest mean Test Accuracy (over epoch): 0.6788194444444445\n",
      " Test F1 score at highest accuracy: 0.6604939706928703\n",
      "./saved_models/model_3.pth \n",
      "\n",
      "Training Model with id 4\n",
      "in multi\n"
     ]
    },
    {
     "name": "stderr",
     "output_type": "stream",
     "text": [
      "Training Process: 100%|██████████| 10/10 [00:00<00:00, 18.10it/s]\n"
     ]
    },
    {
     "name": "stdout",
     "output_type": "stream",
     "text": [
      "Total Epochs: 10\n",
      "Train loss start: 0.43722003698349, Train loss end: 0.5000608563423157\n",
      "Highest Mean Train Accuracy (over epoch): 0.8798363095238095\n",
      "Test loss start: 0.5689836144447327, Test loss end: 0.6194654107093811\n",
      "Highest mean Test Accuracy (over epoch): 0.7213541666666667\n",
      " Test F1 score at highest accuracy: 0.8796379461161103\n",
      "./saved_models/model_4.pth \n",
      "\n",
      "Training Model with id 7\n",
      "in multi\n"
     ]
    },
    {
     "name": "stderr",
     "output_type": "stream",
     "text": [
      "Training Process: 100%|██████████| 10/10 [00:00<00:00, 21.10it/s]\n"
     ]
    },
    {
     "name": "stdout",
     "output_type": "stream",
     "text": [
      "Total Epochs: 10\n",
      "Train loss start: 0.4730675220489502, Train loss end: 0.4089377522468567\n",
      "Highest Mean Train Accuracy (over epoch): 0.8816964285714286\n",
      "Test loss start: 0.5689387917518616, Test loss end: 0.6194351315498352\n",
      "Highest mean Test Accuracy (over epoch): 0.7213541666666667\n",
      " Test F1 score at highest accuracy: 0.8796379461161103\n",
      "./saved_models/model_7.pth \n",
      "\n",
      "Training Model with id 8\n",
      "in multi\n"
     ]
    },
    {
     "name": "stderr",
     "output_type": "stream",
     "text": [
      "Training Process: 100%|██████████| 10/10 [00:00<00:00, 24.06it/s]\n"
     ]
    },
    {
     "name": "stdout",
     "output_type": "stream",
     "text": [
      "Total Epochs: 10\n",
      "Train loss start: 0.49610039591789246, Train loss end: 0.5896645784378052\n",
      "Highest Mean Train Accuracy (over epoch): 0.8854166666666666\n",
      "Test loss start: 0.5688936114311218, Test loss end: 0.6194049715995789\n",
      "Highest mean Test Accuracy (over epoch): 0.7213541666666667\n",
      " Test F1 score at highest accuracy: 0.8796379461161103\n",
      "./saved_models/model_8.pth \n",
      "\n",
      "Training Model with id 6\n",
      "in multi\n"
     ]
    },
    {
     "name": "stderr",
     "output_type": "stream",
     "text": [
      "Training Process: 100%|██████████| 10/10 [00:00<00:00, 19.00it/s]\n"
     ]
    },
    {
     "name": "stdout",
     "output_type": "stream",
     "text": [
      "Total Epochs: 10\n",
      "Train loss start: 0.46842536330223083, Train loss end: 0.45553067326545715\n",
      "Highest Mean Train Accuracy (over epoch): 0.8854166666666666\n",
      "Test loss start: 0.5688468813896179, Test loss end: 0.6193748712539673\n",
      "Highest mean Test Accuracy (over epoch): 0.7213541666666667\n",
      " Test F1 score at highest accuracy: 0.8796379461161103\n",
      "./saved_models/model_6.pth \n",
      "\n",
      " Maximum accuracy: 0.7213541666666667, F1: 0.8796379461161103, Test: 0.6047097146511078, Train: 0.4712394098440806\n",
      "in multi\n"
     ]
    },
    {
     "name": "stderr",
     "output_type": "stream",
     "text": [
      "Training Process: 100%|██████████| 70/70 [00:05<00:00, 12.78it/s]\n"
     ]
    },
    {
     "name": "stdout",
     "output_type": "stream",
     "text": [
      "Total Epochs: 70\n",
      "Train loss start: 0.5226180553436279, Train loss end: 0.4839114546775818\n",
      "Highest Mean Train Accuracy (over epoch): 0.8383928571428572\n",
      "Test loss start: 0.5770632028579712, Test loss end: 0.5832946300506592\n",
      "Highest mean Test Accuracy (over epoch): 0.7688368055555556\n",
      " Test F1 score at highest accuracy: 0.8399798128583086\n",
      "Randomly initializing 4 models\n",
      "Training Model with id 1\n",
      "in multi\n"
     ]
    },
    {
     "name": "stderr",
     "output_type": "stream",
     "text": [
      "Training Process: 100%|██████████| 10/10 [00:00<00:00, 26.84it/s]\n"
     ]
    },
    {
     "name": "stdout",
     "output_type": "stream",
     "text": [
      "Total Epochs: 10\n",
      "Train loss start: 0.5014604926109314, Train loss end: 0.560670793056488\n",
      "Highest Mean Train Accuracy (over epoch): 0.8246362433862434\n",
      "Test loss start: 0.5879946351051331, Test loss end: 0.6209292411804199\n",
      "Highest mean Test Accuracy (over epoch): 0.6822916666666667\n",
      " Test F1 score at highest accuracy: 0.8242368974763341\n",
      "./saved_models/model_1.pth \n",
      "\n",
      "Training Model with id 2\n",
      "in multi\n"
     ]
    },
    {
     "name": "stderr",
     "output_type": "stream",
     "text": [
      "Training Process: 100%|██████████| 10/10 [00:00<00:00, 26.69it/s]\n"
     ]
    },
    {
     "name": "stdout",
     "output_type": "stream",
     "text": [
      "Total Epochs: 10\n",
      "Train loss start: 0.9101619124412537, Train loss end: 0.9237266182899475\n",
      "Highest Mean Train Accuracy (over epoch): 0.15823412698412698\n",
      "Test loss start: 0.8177090287208557, Test loss end: 0.7999339699745178\n",
      "Highest mean Test Accuracy (over epoch): 0.35850694444444453\n",
      " Test F1 score at highest accuracy: 0.15384615384615385\n",
      "./saved_models/model_2.pth \n",
      "\n",
      "Training Model with id 3\n",
      "in multi\n"
     ]
    },
    {
     "name": "stderr",
     "output_type": "stream",
     "text": [
      "Training Process: 100%|██████████| 10/10 [00:00<00:00, 25.53it/s]\n"
     ]
    },
    {
     "name": "stdout",
     "output_type": "stream",
     "text": [
      "Total Epochs: 10\n",
      "Train loss start: 0.5861786603927612, Train loss end: 0.6645770072937012\n",
      "Highest Mean Train Accuracy (over epoch): 0.712202380952381\n",
      "Test loss start: 0.6167586445808411, Test loss end: 0.639998733997345\n",
      "Highest mean Test Accuracy (over epoch): 0.6588541666666667\n",
      " Test F1 score at highest accuracy: 0.716792032190891\n",
      "./saved_models/model_3.pth \n",
      "\n",
      "Training Model with id 4\n",
      "in multi\n"
     ]
    },
    {
     "name": "stderr",
     "output_type": "stream",
     "text": [
      "Training Process: 100%|██████████| 10/10 [00:00<00:00, 22.11it/s]\n"
     ]
    },
    {
     "name": "stdout",
     "output_type": "stream",
     "text": [
      "Total Epochs: 10\n",
      "Train loss start: 0.9962855577468872, Train loss end: 0.9625690579414368\n",
      "Highest Mean Train Accuracy (over epoch): 0.1282738095238095\n",
      "Test loss start: 0.8878686428070068, Test loss end: 0.8500140309333801\n",
      "Highest mean Test Accuracy (over epoch): 0.31944444444444453\n",
      " Test F1 score at highest accuracy: 0.13232165925170639\n",
      "./saved_models/model_4.pth \n",
      "\n",
      "Training Model with id 7\n",
      "in multi\n"
     ]
    },
    {
     "name": "stderr",
     "output_type": "stream",
     "text": [
      "Training Process: 100%|██████████| 10/10 [00:00<00:00, 26.16it/s]\n"
     ]
    },
    {
     "name": "stdout",
     "output_type": "stream",
     "text": [
      "Total Epochs: 10\n",
      "Train loss start: 1.0031054019927979, Train loss end: 0.906112551689148\n",
      "Highest Mean Train Accuracy (over epoch): 0.1282738095238095\n",
      "Test loss start: 0.8878167271614075, Test loss end: 0.8499785661697388\n",
      "Highest mean Test Accuracy (over epoch): 0.31944444444444453\n",
      " Test F1 score at highest accuracy: 0.13232165925170639\n",
      "./saved_models/model_7.pth \n",
      "\n",
      "Training Model with id 8\n",
      "in multi\n"
     ]
    },
    {
     "name": "stderr",
     "output_type": "stream",
     "text": [
      "Training Process: 100%|██████████| 10/10 [00:00<00:00, 20.37it/s]\n"
     ]
    },
    {
     "name": "stdout",
     "output_type": "stream",
     "text": [
      "Total Epochs: 10\n",
      "Train loss start: 1.0619395971298218, Train loss end: 1.1375685930252075\n",
      "Highest Mean Train Accuracy (over epoch): 0.12920386904761905\n",
      "Test loss start: 0.8877639174461365, Test loss end: 0.849943220615387\n",
      "Highest mean Test Accuracy (over epoch): 0.31944444444444453\n",
      " Test F1 score at highest accuracy: 0.13232165925170639\n",
      "./saved_models/model_8.pth \n",
      "\n",
      "Training Model with id 6\n",
      "in multi\n"
     ]
    },
    {
     "name": "stderr",
     "output_type": "stream",
     "text": [
      "Training Process: 100%|██████████| 10/10 [00:00<00:00, 24.14it/s]\n"
     ]
    },
    {
     "name": "stdout",
     "output_type": "stream",
     "text": [
      "Total Epochs: 10\n",
      "Train loss start: 1.0608965158462524, Train loss end: 1.0738646984100342\n",
      "Highest Mean Train Accuracy (over epoch): 0.1238095238095238\n",
      "Test loss start: 0.8877113461494446, Test loss end: 0.8499076962471008\n",
      "Highest mean Test Accuracy (over epoch): 0.31944444444444453\n",
      " Test F1 score at highest accuracy: 0.13232165925170639\n",
      "./saved_models/model_6.pth \n",
      "\n",
      " Maximum accuracy: 0.6822916666666667, F1: 0.8242368974763341, Test: 0.6175243213772774, Train: 0.5078179895877838\n",
      "in multi\n"
     ]
    },
    {
     "name": "stderr",
     "output_type": "stream",
     "text": [
      "Training Process: 100%|██████████| 70/70 [00:04<00:00, 14.57it/s]\n"
     ]
    },
    {
     "name": "stdout",
     "output_type": "stream",
     "text": [
      "Total Epochs: 70\n",
      "Train loss start: 0.4650505483150482, Train loss end: 0.3775790333747864\n",
      "Highest Mean Train Accuracy (over epoch): 0.8729166666666667\n",
      "Test loss start: 0.4996090531349182, Test loss end: 0.556646466255188\n",
      "Highest mean Test Accuracy (over epoch): 0.7647569444444445\n",
      " Test F1 score at highest accuracy: 0.8740973695247565\n",
      "Randomly initializing 4 models\n",
      "Training Model with id 1\n",
      "in multi\n"
     ]
    },
    {
     "name": "stderr",
     "output_type": "stream",
     "text": [
      "Training Process: 100%|██████████| 10/10 [00:00<00:00, 21.24it/s]\n"
     ]
    },
    {
     "name": "stdout",
     "output_type": "stream",
     "text": [
      "Total Epochs: 10\n",
      "Train loss start: 0.5557876825332642, Train loss end: 0.5245859026908875\n",
      "Highest Mean Train Accuracy (over epoch): 0.7625\n",
      "Test loss start: 0.6272014379501343, Test loss end: 0.7001124620437622\n",
      "Highest mean Test Accuracy (over epoch): 0.5859375\n",
      " Test F1 score at highest accuracy: 0.7534824144033402\n",
      "./saved_models/model_1.pth \n",
      "\n",
      "Training Model with id 2\n",
      "in multi\n"
     ]
    },
    {
     "name": "stderr",
     "output_type": "stream",
     "text": [
      "Training Process: 100%|██████████| 10/10 [00:00<00:00, 19.53it/s]\n"
     ]
    },
    {
     "name": "stdout",
     "output_type": "stream",
     "text": [
      "Total Epochs: 10\n",
      "Train loss start: 0.8819931149482727, Train loss end: 0.8295255899429321\n",
      "Highest Mean Train Accuracy (over epoch): 0.19940476190476192\n",
      "Test loss start: 0.8321155309677124, Test loss end: 0.7747498154640198\n",
      "Highest mean Test Accuracy (over epoch): 0.44357638888888895\n",
      " Test F1 score at highest accuracy: 0.1954101739951564\n",
      "./saved_models/model_2.pth \n",
      "\n",
      "Training Model with id 3\n",
      "in multi\n"
     ]
    },
    {
     "name": "stderr",
     "output_type": "stream",
     "text": [
      "Training Process: 100%|██████████| 10/10 [00:00<00:00, 23.30it/s]\n"
     ]
    },
    {
     "name": "stdout",
     "output_type": "stream",
     "text": [
      "Total Epochs: 10\n",
      "Train loss start: 0.9281684756278992, Train loss end: 0.8283820748329163\n",
      "Highest Mean Train Accuracy (over epoch): 0.2742559523809523\n",
      "Test loss start: 0.8491942882537842, Test loss end: 0.7553198337554932\n",
      "Highest mean Test Accuracy (over epoch): 0.39236111111111116\n",
      " Test F1 score at highest accuracy: 0.29291201664742517\n",
      "./saved_models/model_3.pth \n",
      "\n",
      "Training Model with id 4\n",
      "in multi\n"
     ]
    },
    {
     "name": "stderr",
     "output_type": "stream",
     "text": [
      "Training Process: 100%|██████████| 10/10 [00:00<00:00, 20.61it/s]\n"
     ]
    },
    {
     "name": "stdout",
     "output_type": "stream",
     "text": [
      "Total Epochs: 10\n",
      "Train loss start: 0.6601294279098511, Train loss end: 0.812136709690094\n",
      "Highest Mean Train Accuracy (over epoch): 0.6313988095238094\n",
      "Test loss start: 0.662291407585144, Test loss end: 0.6760813593864441\n",
      "Highest mean Test Accuracy (over epoch): 0.6215277777777778\n",
      " Test F1 score at highest accuracy: 0.6373780894521461\n",
      "./saved_models/model_4.pth \n",
      "\n",
      "Training Model with id 7\n",
      "in multi\n"
     ]
    },
    {
     "name": "stderr",
     "output_type": "stream",
     "text": [
      "Training Process: 100%|██████████| 10/10 [00:00<00:00, 21.70it/s]\n"
     ]
    },
    {
     "name": "stdout",
     "output_type": "stream",
     "text": [
      "Total Epochs: 10\n",
      "Train loss start: 0.6591736674308777, Train loss end: 0.7081969976425171\n",
      "Highest Mean Train Accuracy (over epoch): 0.6351190476190476\n",
      "Test loss start: 0.6622045636177063, Test loss end: 0.6760199666023254\n",
      "Highest mean Test Accuracy (over epoch): 0.6215277777777778\n",
      " Test F1 score at highest accuracy: 0.6373780894521461\n",
      "./saved_models/model_7.pth \n",
      "\n",
      "Training Model with id 8\n",
      "in multi\n"
     ]
    },
    {
     "name": "stderr",
     "output_type": "stream",
     "text": [
      "Training Process: 100%|██████████| 10/10 [00:00<00:00, 18.35it/s]\n"
     ]
    },
    {
     "name": "stdout",
     "output_type": "stream",
     "text": [
      "Total Epochs: 10\n",
      "Train loss start: 0.6298907995223999, Train loss end: 0.7193976640701294\n",
      "Highest Mean Train Accuracy (over epoch): 0.6289186507936508\n",
      "Test loss start: 0.6621177792549133, Test loss end: 0.6759585738182068\n",
      "Highest mean Test Accuracy (over epoch): 0.6215277777777778\n",
      " Test F1 score at highest accuracy: 0.6373780894521461\n",
      "./saved_models/model_8.pth \n",
      "\n",
      "Training Model with id 6\n",
      "in multi\n"
     ]
    },
    {
     "name": "stderr",
     "output_type": "stream",
     "text": [
      "Training Process: 100%|██████████| 10/10 [00:00<00:00, 19.93it/s]\n"
     ]
    },
    {
     "name": "stdout",
     "output_type": "stream",
     "text": [
      "Total Epochs: 10\n",
      "Train loss start: 0.612683117389679, Train loss end: 0.7406297326087952\n",
      "Highest Mean Train Accuracy (over epoch): 0.6351190476190476\n",
      "Test loss start: 0.6620309352874756, Test loss end: 0.6758966445922852\n",
      "Highest mean Test Accuracy (over epoch): 0.6215277777777778\n",
      " Test F1 score at highest accuracy: 0.6373780894521461\n",
      "./saved_models/model_6.pth \n",
      "\n",
      " Maximum accuracy: 0.6215277777777778, F1: 0.6373780894521461, Test: 0.658157792687416, Train: 0.5639589846134185\n",
      "in multi\n"
     ]
    },
    {
     "name": "stderr",
     "output_type": "stream",
     "text": [
      "Training Process: 100%|██████████| 70/70 [00:04<00:00, 14.10it/s]\n"
     ]
    },
    {
     "name": "stdout",
     "output_type": "stream",
     "text": [
      "Total Epochs: 70\n",
      "Train loss start: 0.7790805101394653, Train loss end: 0.75389164686203\n",
      "Highest Mean Train Accuracy (over epoch): 0.33422619047619045\n",
      "Test loss start: 0.770377516746521, Test loss end: 0.6595874428749084\n",
      "Highest mean Test Accuracy (over epoch): 0.5494791666666667\n",
      " Test F1 score at highest accuracy: 0.3171426516447554\n",
      "Randomly initializing 4 models\n",
      "Training Model with id 1\n",
      "in multi\n"
     ]
    },
    {
     "name": "stderr",
     "output_type": "stream",
     "text": [
      "Training Process: 100%|██████████| 10/10 [00:00<00:00, 25.05it/s]\n"
     ]
    },
    {
     "name": "stdout",
     "output_type": "stream",
     "text": [
      "Total Epochs: 10\n",
      "Train loss start: 0.504231333732605, Train loss end: 0.47056466341018677\n",
      "Highest Mean Train Accuracy (over epoch): 0.8675595238095238\n",
      "Test loss start: 0.5283187031745911, Test loss end: 0.6011534333229065\n",
      "Highest mean Test Accuracy (over epoch): 0.6996527777777778\n",
      " Test F1 score at highest accuracy: 0.8697558995083686\n",
      "./saved_models/model_1.pth \n",
      "\n",
      "Training Model with id 2\n",
      "in multi\n"
     ]
    },
    {
     "name": "stderr",
     "output_type": "stream",
     "text": [
      "Training Process: 100%|██████████| 10/10 [00:00<00:00, 21.31it/s]\n"
     ]
    },
    {
     "name": "stdout",
     "output_type": "stream",
     "text": [
      "Total Epochs: 10\n",
      "Train loss start: 0.7307204008102417, Train loss end: 0.9067419767379761\n",
      "Highest Mean Train Accuracy (over epoch): 0.4848214285714285\n",
      "Test loss start: 0.6373748779296875, Test loss end: 0.6859862804412842\n",
      "Highest mean Test Accuracy (over epoch): 0.584201388888889\n",
      " Test F1 score at highest accuracy: 0.4969938143005212\n",
      "./saved_models/model_2.pth \n",
      "\n",
      "Training Model with id 3\n",
      "in multi\n"
     ]
    },
    {
     "name": "stderr",
     "output_type": "stream",
     "text": [
      "Training Process: 100%|██████████| 10/10 [00:00<00:00, 23.60it/s]\n"
     ]
    },
    {
     "name": "stdout",
     "output_type": "stream",
     "text": [
      "Total Epochs: 10\n",
      "Train loss start: 0.4196411073207855, Train loss end: 0.4331464171409607\n",
      "Highest Mean Train Accuracy (over epoch): 0.8898809523809524\n",
      "Test loss start: 0.5428307056427002, Test loss end: 0.565260648727417\n",
      "Highest mean Test Accuracy (over epoch): 0.7630208333333335\n",
      " Test F1 score at highest accuracy: 0.8916916416916417\n",
      "./saved_models/model_3.pth \n",
      "\n",
      "Training Model with id 4\n",
      "in multi\n"
     ]
    },
    {
     "name": "stderr",
     "output_type": "stream",
     "text": [
      "Training Process: 100%|██████████| 10/10 [00:00<00:00, 26.72it/s]\n"
     ]
    },
    {
     "name": "stdout",
     "output_type": "stream",
     "text": [
      "Total Epochs: 10\n",
      "Train loss start: 0.7375389337539673, Train loss end: 0.7054830193519592\n",
      "Highest Mean Train Accuracy (over epoch): 0.5176587301587302\n",
      "Test loss start: 0.7518307566642761, Test loss end: 0.8054158687591553\n",
      "Highest mean Test Accuracy (over epoch): 0.43315972222222227\n",
      " Test F1 score at highest accuracy: 0.5206561243634414\n",
      "./saved_models/model_4.pth \n",
      "\n",
      "Training Model with id 7\n",
      "in multi\n"
     ]
    },
    {
     "name": "stderr",
     "output_type": "stream",
     "text": [
      "Training Process: 100%|██████████| 10/10 [00:00<00:00, 23.05it/s]\n"
     ]
    },
    {
     "name": "stdout",
     "output_type": "stream",
     "text": [
      "Total Epochs: 10\n",
      "Train loss start: 0.6585338711738586, Train loss end: 0.8635981678962708\n",
      "Highest Mean Train Accuracy (over epoch): 0.5164186507936509\n",
      "Test loss start: 0.7517630457878113, Test loss end: 0.8053619265556335\n",
      "Highest mean Test Accuracy (over epoch): 0.43315972222222227\n",
      " Test F1 score at highest accuracy: 0.5206561243634414\n",
      "./saved_models/model_7.pth \n",
      "\n",
      "Training Model with id 8\n",
      "in multi\n"
     ]
    },
    {
     "name": "stderr",
     "output_type": "stream",
     "text": [
      "Training Process: 100%|██████████| 10/10 [00:00<00:00, 24.68it/s]\n"
     ]
    },
    {
     "name": "stdout",
     "output_type": "stream",
     "text": [
      "Total Epochs: 10\n",
      "Train loss start: 0.7677021622657776, Train loss end: 0.6845521926879883\n",
      "Highest Mean Train Accuracy (over epoch): 0.5226190476190476\n",
      "Test loss start: 0.7516960501670837, Test loss end: 0.8053078055381775\n",
      "Highest mean Test Accuracy (over epoch): 0.43315972222222227\n",
      " Test F1 score at highest accuracy: 0.5206561243634414\n",
      "./saved_models/model_8.pth \n",
      "\n",
      "Training Model with id 6\n",
      "in multi\n"
     ]
    },
    {
     "name": "stderr",
     "output_type": "stream",
     "text": [
      "Training Process: 100%|██████████| 10/10 [00:00<00:00, 22.10it/s]\n"
     ]
    },
    {
     "name": "stdout",
     "output_type": "stream",
     "text": [
      "Total Epochs: 10\n",
      "Train loss start: 0.7385451197624207, Train loss end: 0.8279520869255066\n",
      "Highest Mean Train Accuracy (over epoch): 0.5222222222222223\n",
      "Test loss start: 0.7516288161277771, Test loss end: 0.8052529692649841\n",
      "Highest mean Test Accuracy (over epoch): 0.43315972222222227\n",
      " Test F1 score at highest accuracy: 0.52289971227646\n",
      "./saved_models/model_6.pth \n",
      "\n",
      " Maximum accuracy: 0.7630208333333335, F1: 0.8916916416916417, Test: 0.5680024221539497, Train: 0.46037155389785767\n",
      "in multi\n"
     ]
    },
    {
     "name": "stderr",
     "output_type": "stream",
     "text": [
      "Training Process: 100%|██████████| 70/70 [00:04<00:00, 14.85it/s]\n"
     ]
    },
    {
     "name": "stdout",
     "output_type": "stream",
     "text": [
      "Total Epochs: 70\n",
      "Train loss start: 0.9004631638526917, Train loss end: 0.8177209496498108\n",
      "Highest Mean Train Accuracy (over epoch): 0.4187925170068027\n",
      "Test loss start: 0.771491527557373, Test loss end: 0.6994360685348511\n",
      "Highest mean Test Accuracy (over epoch): 0.537326388888889\n",
      " Test F1 score at highest accuracy: 0.426917171692162\n",
      "Randomly initializing 4 models\n",
      "Training Model with id 1\n",
      "in multi\n"
     ]
    },
    {
     "name": "stderr",
     "output_type": "stream",
     "text": [
      "Training Process: 100%|██████████| 10/10 [00:00<00:00, 20.51it/s]\n"
     ]
    },
    {
     "name": "stdout",
     "output_type": "stream",
     "text": [
      "Total Epochs: 10\n",
      "Train loss start: 0.7083521485328674, Train loss end: 0.7463131546974182\n",
      "Highest Mean Train Accuracy (over epoch): 0.4517857142857143\n",
      "Test loss start: 0.7483335733413696, Test loss end: 0.7770004272460938\n",
      "Highest mean Test Accuracy (over epoch): 0.38628472222222227\n",
      " Test F1 score at highest accuracy: 0.4461216439238418\n",
      "./saved_models/model_1.pth \n",
      "\n",
      "Training Model with id 2\n",
      "in multi\n"
     ]
    },
    {
     "name": "stderr",
     "output_type": "stream",
     "text": [
      "Training Process: 100%|██████████| 10/10 [00:00<00:00, 24.08it/s]\n"
     ]
    },
    {
     "name": "stdout",
     "output_type": "stream",
     "text": [
      "Total Epochs: 10\n",
      "Train loss start: 0.7649226188659668, Train loss end: 0.7882332801818848\n",
      "Highest Mean Train Accuracy (over epoch): 0.5043154761904761\n",
      "Test loss start: 0.7323035597801208, Test loss end: 0.6969174146652222\n",
      "Highest mean Test Accuracy (over epoch): 0.515625\n",
      " Test F1 score at highest accuracy: 0.5054494968922364\n",
      "./saved_models/model_2.pth \n",
      "\n",
      "Training Model with id 3\n",
      "in multi\n"
     ]
    },
    {
     "name": "stderr",
     "output_type": "stream",
     "text": [
      "Training Process: 100%|██████████| 10/10 [00:00<00:00, 25.65it/s]\n"
     ]
    },
    {
     "name": "stdout",
     "output_type": "stream",
     "text": [
      "Total Epochs: 10\n",
      "Train loss start: 0.6721885204315186, Train loss end: 0.7346400022506714\n",
      "Highest Mean Train Accuracy (over epoch): 0.5057823129251701\n",
      "Test loss start: 0.7746313214302063, Test loss end: 0.7360669374465942\n",
      "Highest mean Test Accuracy (over epoch): 0.48263888888888895\n",
      " Test F1 score at highest accuracy: 0.508579179439099\n",
      "./saved_models/model_3.pth \n",
      "\n",
      "Training Model with id 4\n",
      "in multi\n"
     ]
    },
    {
     "name": "stderr",
     "output_type": "stream",
     "text": [
      "Training Process: 100%|██████████| 10/10 [00:00<00:00, 23.82it/s]\n"
     ]
    },
    {
     "name": "stdout",
     "output_type": "stream",
     "text": [
      "Total Epochs: 10\n",
      "Train loss start: 0.9555402398109436, Train loss end: 0.9493173360824585\n",
      "Highest Mean Train Accuracy (over epoch): 0.1474702380952381\n",
      "Test loss start: 0.9529288411140442, Test loss end: 0.802924394607544\n",
      "Highest mean Test Accuracy (over epoch): 0.375\n",
      " Test F1 score at highest accuracy: 0.16128647038688884\n",
      "./saved_models/model_4.pth \n",
      "\n",
      "Training Model with id 7\n",
      "in multi\n"
     ]
    },
    {
     "name": "stderr",
     "output_type": "stream",
     "text": [
      "Training Process: 100%|██████████| 10/10 [00:00<00:00, 19.32it/s]\n"
     ]
    },
    {
     "name": "stdout",
     "output_type": "stream",
     "text": [
      "Total Epochs: 10\n",
      "Train loss start: 1.1009413003921509, Train loss end: 0.8660857081413269\n",
      "Highest Mean Train Accuracy (over epoch): 0.16359126984126984\n",
      "Test loss start: 0.9528805017471313, Test loss end: 0.8028905391693115\n",
      "Highest mean Test Accuracy (over epoch): 0.375\n",
      " Test F1 score at highest accuracy: 0.16128647038688884\n",
      "./saved_models/model_7.pth \n",
      "\n",
      "Training Model with id 8\n",
      "in multi\n"
     ]
    },
    {
     "name": "stderr",
     "output_type": "stream",
     "text": [
      "Training Process: 100%|██████████| 10/10 [00:00<00:00, 23.59it/s]\n"
     ]
    },
    {
     "name": "stdout",
     "output_type": "stream",
     "text": [
      "Total Epochs: 10\n",
      "Train loss start: 1.0361555814743042, Train loss end: 0.9668313264846802\n",
      "Highest Mean Train Accuracy (over epoch): 0.15863095238095237\n",
      "Test loss start: 0.9528335332870483, Test loss end: 0.8028567433357239\n",
      "Highest mean Test Accuracy (over epoch): 0.375\n",
      " Test F1 score at highest accuracy: 0.16128647038688884\n",
      "./saved_models/model_8.pth \n",
      "\n",
      "Training Model with id 6\n",
      "in multi\n"
     ]
    },
    {
     "name": "stderr",
     "output_type": "stream",
     "text": [
      "Training Process: 100%|██████████| 10/10 [00:00<00:00, 26.21it/s]\n"
     ]
    },
    {
     "name": "stdout",
     "output_type": "stream",
     "text": [
      "Total Epochs: 10\n",
      "Train loss start: 1.1541874408721924, Train loss end: 1.0360972881317139\n",
      "Highest Mean Train Accuracy (over epoch): 0.15119047619047618\n",
      "Test loss start: 0.9527862668037415, Test loss end: 0.8028228282928467\n",
      "Highest mean Test Accuracy (over epoch): 0.375\n",
      " Test F1 score at highest accuracy: 0.16128647038688884\n",
      "./saved_models/model_6.pth \n",
      "\n",
      " Maximum accuracy: 0.515625, F1: 0.5054494968922364, Test: 0.7093511492013931, Train: 0.7315669178962707\n",
      "in multi\n"
     ]
    },
    {
     "name": "stderr",
     "output_type": "stream",
     "text": [
      "Training Process: 100%|██████████| 70/70 [00:04<00:00, 14.91it/s]\n"
     ]
    },
    {
     "name": "stdout",
     "output_type": "stream",
     "text": [
      "Total Epochs: 70\n",
      "Train loss start: 0.9059112668037415, Train loss end: 0.8253963589668274\n",
      "Highest Mean Train Accuracy (over epoch): 0.33601190476190473\n",
      "Test loss start: 0.7300551533699036, Test loss end: 0.7292529940605164\n",
      "Highest mean Test Accuracy (over epoch): 0.513888888888889\n",
      " Test F1 score at highest accuracy: 0.3347100125670719\n",
      "Randomly initializing 4 models\n",
      "Training Model with id 1\n",
      "in multi\n"
     ]
    },
    {
     "name": "stderr",
     "output_type": "stream",
     "text": [
      "Training Process: 100%|██████████| 10/10 [00:00<00:00, 25.08it/s]\n"
     ]
    },
    {
     "name": "stdout",
     "output_type": "stream",
     "text": [
      "Total Epochs: 10\n",
      "Train loss start: 0.8834392428398132, Train loss end: 0.8909386992454529\n",
      "Highest Mean Train Accuracy (over epoch): 0.23549107142857142\n",
      "Test loss start: 0.866279125213623, Test loss end: 0.7782517671585083\n",
      "Highest mean Test Accuracy (over epoch): 0.33333333333333337\n",
      " Test F1 score at highest accuracy: 0.24528657616892913\n",
      "./saved_models/model_1.pth \n",
      "\n",
      "Training Model with id 2\n",
      "in multi\n"
     ]
    },
    {
     "name": "stderr",
     "output_type": "stream",
     "text": [
      "Training Process: 100%|██████████| 10/10 [00:00<00:00, 24.77it/s]\n"
     ]
    },
    {
     "name": "stdout",
     "output_type": "stream",
     "text": [
      "Total Epochs: 10\n",
      "Train loss start: 0.9356319308280945, Train loss end: 1.0280026197433472\n",
      "Highest Mean Train Accuracy (over epoch): 0.17410714285714285\n",
      "Test loss start: 0.8571808934211731, Test loss end: 0.7366513013839722\n",
      "Highest mean Test Accuracy (over epoch): 0.44965277777777785\n",
      " Test F1 score at highest accuracy: 0.18122623023024706\n",
      "./saved_models/model_2.pth \n",
      "\n",
      "Training Model with id 3\n",
      "in multi\n"
     ]
    },
    {
     "name": "stderr",
     "output_type": "stream",
     "text": [
      "Training Process: 100%|██████████| 10/10 [00:00<00:00, 21.20it/s]\n"
     ]
    },
    {
     "name": "stdout",
     "output_type": "stream",
     "text": [
      "Total Epochs: 10\n",
      "Train loss start: 0.9157810807228088, Train loss end: 0.9805134534835815\n",
      "Highest Mean Train Accuracy (over epoch): 0.20363756613756614\n",
      "Test loss start: 0.8803534507751465, Test loss end: 0.8267446160316467\n",
      "Highest mean Test Accuracy (over epoch): 0.38454861111111116\n",
      " Test F1 score at highest accuracy: 0.21179395540362056\n",
      "./saved_models/model_3.pth \n",
      "\n",
      "Training Model with id 4\n",
      "in multi\n"
     ]
    },
    {
     "name": "stderr",
     "output_type": "stream",
     "text": [
      "Training Process: 100%|██████████| 10/10 [00:00<00:00, 23.30it/s]\n"
     ]
    },
    {
     "name": "stdout",
     "output_type": "stream",
     "text": [
      "Total Epochs: 10\n",
      "Train loss start: 0.7788951396942139, Train loss end: 0.7074208855628967\n",
      "Highest Mean Train Accuracy (over epoch): 0.32767857142857143\n",
      "Test loss start: 0.7151409387588501, Test loss end: 0.762270450592041\n",
      "Highest mean Test Accuracy (over epoch): 0.48611111111111116\n",
      " Test F1 score at highest accuracy: 0.32514212360168715\n",
      "./saved_models/model_4.pth \n",
      "\n",
      "Training Model with id 7\n",
      "in multi\n"
     ]
    },
    {
     "name": "stderr",
     "output_type": "stream",
     "text": [
      "Training Process: 100%|██████████| 10/10 [00:00<00:00, 22.35it/s]\n"
     ]
    },
    {
     "name": "stdout",
     "output_type": "stream",
     "text": [
      "Total Epochs: 10\n",
      "Train loss start: 0.8781811594963074, Train loss end: 0.8347907662391663\n",
      "Highest Mean Train Accuracy (over epoch): 0.3202380952380952\n",
      "Test loss start: 0.7150573134422302, Test loss end: 0.7621998190879822\n",
      "Highest mean Test Accuracy (over epoch): 0.48611111111111116\n",
      " Test F1 score at highest accuracy: 0.32514212360168715\n",
      "./saved_models/model_7.pth \n",
      "\n",
      "Training Model with id 8\n",
      "in multi\n"
     ]
    },
    {
     "name": "stderr",
     "output_type": "stream",
     "text": [
      "Training Process: 100%|██████████| 10/10 [00:00<00:00, 20.93it/s]\n"
     ]
    },
    {
     "name": "stdout",
     "output_type": "stream",
     "text": [
      "Total Epochs: 10\n",
      "Train loss start: 0.8447912931442261, Train loss end: 0.8865476250648499\n",
      "Highest Mean Train Accuracy (over epoch): 0.31130952380952376\n",
      "Test loss start: 0.7149730324745178, Test loss end: 0.7621292471885681\n",
      "Highest mean Test Accuracy (over epoch): 0.48611111111111116\n",
      " Test F1 score at highest accuracy: 0.32514212360168715\n",
      "./saved_models/model_8.pth \n",
      "\n",
      "Training Model with id 6\n",
      "in multi\n"
     ]
    },
    {
     "name": "stderr",
     "output_type": "stream",
     "text": [
      "Training Process: 100%|██████████| 10/10 [00:00<00:00, 22.78it/s]\n"
     ]
    },
    {
     "name": "stdout",
     "output_type": "stream",
     "text": [
      "Total Epochs: 10\n",
      "Train loss start: 0.8521482348442078, Train loss end: 0.7909844517707825\n",
      "Highest Mean Train Accuracy (over epoch): 0.32767857142857143\n",
      "Test loss start: 0.7148890495300293, Test loss end: 0.7620584964752197\n",
      "Highest mean Test Accuracy (over epoch): 0.48611111111111116\n",
      " Test F1 score at highest accuracy: 0.32514212360168715\n",
      "./saved_models/model_6.pth \n",
      "\n",
      " Maximum accuracy: 0.48611111111111116, F1: 0.32514212360168715, Test: 0.7364780098199845, Train: 0.8297071430418227\n",
      "in multi\n"
     ]
    },
    {
     "name": "stderr",
     "output_type": "stream",
     "text": [
      "Training Process: 100%|██████████| 70/70 [00:05<00:00, 13.54it/s]\n"
     ]
    },
    {
     "name": "stdout",
     "output_type": "stream",
     "text": [
      "Total Epochs: 70\n",
      "Train loss start: 0.8790524005889893, Train loss end: 0.9348085522651672\n",
      "Highest Mean Train Accuracy (over epoch): 0.17050945378151258\n",
      "Test loss start: 0.8008169531822205, Test loss end: 0.8032948970794678\n",
      "Highest mean Test Accuracy (over epoch): 0.35069444444444453\n",
      " Test F1 score at highest accuracy: 0.18278962939894114\n",
      "Randomly initializing 4 models\n",
      "Training Model with id 1\n",
      "in multi\n"
     ]
    },
    {
     "name": "stderr",
     "output_type": "stream",
     "text": [
      "Training Process: 100%|██████████| 10/10 [00:00<00:00, 21.65it/s]\n"
     ]
    },
    {
     "name": "stdout",
     "output_type": "stream",
     "text": [
      "Total Epochs: 10\n",
      "Train loss start: 0.7436161041259766, Train loss end: 0.8385360836982727\n",
      "Highest Mean Train Accuracy (over epoch): 0.5043154761904761\n",
      "Test loss start: 0.7090972065925598, Test loss end: 0.7614754438400269\n",
      "Highest mean Test Accuracy (over epoch): 0.5173611111111112\n",
      " Test F1 score at highest accuracy: 0.5063414804176956\n",
      "./saved_models/model_1.pth \n",
      "\n",
      "Training Model with id 2\n",
      "in multi\n"
     ]
    },
    {
     "name": "stderr",
     "output_type": "stream",
     "text": [
      "Training Process: 100%|██████████| 10/10 [00:00<00:00, 27.07it/s]\n"
     ]
    },
    {
     "name": "stdout",
     "output_type": "stream",
     "text": [
      "Total Epochs: 10\n",
      "Train loss start: 0.9656704664230347, Train loss end: 0.9244483709335327\n",
      "Highest Mean Train Accuracy (over epoch): 0.24732142857142855\n",
      "Test loss start: 0.8253915309906006, Test loss end: 0.7647449970245361\n",
      "Highest mean Test Accuracy (over epoch): 0.3532986111111111\n",
      " Test F1 score at highest accuracy: 0.2430926774514956\n",
      "./saved_models/model_2.pth \n",
      "\n",
      "Training Model with id 3\n",
      "in multi\n"
     ]
    },
    {
     "name": "stderr",
     "output_type": "stream",
     "text": [
      "Training Process: 100%|██████████| 10/10 [00:00<00:00, 17.09it/s]\n"
     ]
    },
    {
     "name": "stdout",
     "output_type": "stream",
     "text": [
      "Total Epochs: 10\n",
      "Train loss start: 0.5740957856178284, Train loss end: 0.6412864923477173\n",
      "Highest Mean Train Accuracy (over epoch): 0.7108258928571428\n",
      "Test loss start: 0.6042360067367554, Test loss end: 0.5690435767173767\n",
      "Highest mean Test Accuracy (over epoch): 0.6961805555555556\n",
      " Test F1 score at highest accuracy: 0.7131657619429826\n",
      "./saved_models/model_3.pth \n",
      "\n",
      "Training Model with id 4\n",
      "in multi\n"
     ]
    },
    {
     "name": "stderr",
     "output_type": "stream",
     "text": [
      "Training Process: 100%|██████████| 10/10 [00:00<00:00, 22.30it/s]\n"
     ]
    },
    {
     "name": "stdout",
     "output_type": "stream",
     "text": [
      "Total Epochs: 10\n",
      "Train loss start: 0.5142835974693298, Train loss end: 0.6348536610603333\n",
      "Highest Mean Train Accuracy (over epoch): 0.8405092592592592\n",
      "Test loss start: 0.6207085251808167, Test loss end: 0.5991547107696533\n",
      "Highest mean Test Accuracy (over epoch): 0.6649305555555556\n",
      " Test F1 score at highest accuracy: 0.8449645484624791\n",
      "./saved_models/model_4.pth \n",
      "\n",
      "Training Model with id 7\n",
      "in multi\n"
     ]
    },
    {
     "name": "stderr",
     "output_type": "stream",
     "text": [
      "Training Process: 100%|██████████| 10/10 [00:00<00:00, 22.89it/s]\n"
     ]
    },
    {
     "name": "stdout",
     "output_type": "stream",
     "text": [
      "Total Epochs: 10\n",
      "Train loss start: 0.5520054697990417, Train loss end: 0.5336537957191467\n",
      "Highest Mean Train Accuracy (over epoch): 0.8483630952380953\n",
      "Test loss start: 0.6206454038619995, Test loss end: 0.5991189479827881\n",
      "Highest mean Test Accuracy (over epoch): 0.6649305555555556\n",
      " Test F1 score at highest accuracy: 0.8449645484624791\n",
      "./saved_models/model_7.pth \n",
      "\n",
      "Training Model with id 8\n",
      "in multi\n"
     ]
    },
    {
     "name": "stderr",
     "output_type": "stream",
     "text": [
      "Training Process: 100%|██████████| 10/10 [00:00<00:00, 23.32it/s]\n"
     ]
    },
    {
     "name": "stdout",
     "output_type": "stream",
     "text": [
      "Total Epochs: 10\n",
      "Train loss start: 0.5654043555259705, Train loss end: 0.4607270658016205\n",
      "Highest Mean Train Accuracy (over epoch): 0.8431547619047619\n",
      "Test loss start: 0.6205821633338928, Test loss end: 0.5990836024284363\n",
      "Highest mean Test Accuracy (over epoch): 0.6649305555555556\n",
      " Test F1 score at highest accuracy: 0.8449645484624791\n",
      "./saved_models/model_8.pth \n",
      "\n",
      "Training Model with id 6\n",
      "in multi\n"
     ]
    },
    {
     "name": "stderr",
     "output_type": "stream",
     "text": [
      "Training Process: 100%|██████████| 10/10 [00:00<00:00, 21.06it/s]\n"
     ]
    },
    {
     "name": "stdout",
     "output_type": "stream",
     "text": [
      "Total Epochs: 10\n",
      "Train loss start: 0.5167586803436279, Train loss end: 0.5212752223014832\n",
      "Highest Mean Train Accuracy (over epoch): 0.8438988095238096\n",
      "Test loss start: 0.6205189824104309, Test loss end: 0.5990480184555054\n",
      "Highest mean Test Accuracy (over epoch): 0.6649305555555556\n",
      " Test F1 score at highest accuracy: 0.8449645484624791\n",
      "./saved_models/model_6.pth \n",
      "\n",
      " Maximum accuracy: 0.6961805555555556, F1: 0.7131657619429826, Test: 0.5980077356100082, Train: 0.513292109966278\n",
      "in multi\n"
     ]
    },
    {
     "name": "stderr",
     "output_type": "stream",
     "text": [
      "Training Process: 100%|██████████| 70/70 [00:04<00:00, 15.70it/s]\n"
     ]
    },
    {
     "name": "stdout",
     "output_type": "stream",
     "text": [
      "Total Epochs: 70\n",
      "Train loss start: 0.6684563159942627, Train loss end: 0.7943984270095825\n",
      "Highest Mean Train Accuracy (over epoch): 0.4732886904761905\n",
      "Test loss start: 0.669683575630188, Test loss end: 0.6394681930541992\n",
      "Highest mean Test Accuracy (over epoch): 0.6059027777777779\n",
      " Test F1 score at highest accuracy: 0.4665686886041343\n",
      "Randomly initializing 4 models\n",
      "Training Model with id 1\n",
      "in multi\n"
     ]
    },
    {
     "name": "stderr",
     "output_type": "stream",
     "text": [
      "Training Process: 100%|██████████| 10/10 [00:00<00:00, 22.88it/s]\n"
     ]
    },
    {
     "name": "stdout",
     "output_type": "stream",
     "text": [
      "Total Epochs: 10\n",
      "Train loss start: 0.6147583723068237, Train loss end: 0.5348125100135803\n",
      "Highest Mean Train Accuracy (over epoch): 0.715625\n",
      "Test loss start: 0.6947739720344543, Test loss end: 0.6173802018165588\n",
      "Highest mean Test Accuracy (over epoch): 0.6397569444444445\n",
      " Test F1 score at highest accuracy: 0.7204737792628132\n",
      "./saved_models/model_1.pth \n",
      "\n",
      "Training Model with id 2\n",
      "in multi\n"
     ]
    },
    {
     "name": "stderr",
     "output_type": "stream",
     "text": [
      "Training Process: 100%|██████████| 10/10 [00:00<00:00, 19.96it/s]\n"
     ]
    },
    {
     "name": "stdout",
     "output_type": "stream",
     "text": [
      "Total Epochs: 10\n",
      "Train loss start: 0.6493642330169678, Train loss end: 0.7152339220046997\n",
      "Highest Mean Train Accuracy (over epoch): 0.7208333333333333\n",
      "Test loss start: 0.7001460194587708, Test loss end: 0.6502204537391663\n",
      "Highest mean Test Accuracy (over epoch): 0.6024305555555556\n",
      " Test F1 score at highest accuracy: 0.7054945054945055\n",
      "./saved_models/model_2.pth \n",
      "\n",
      "Training Model with id 3\n",
      "in multi\n"
     ]
    },
    {
     "name": "stderr",
     "output_type": "stream",
     "text": [
      "Training Process: 100%|██████████| 10/10 [00:00<00:00, 22.44it/s]\n"
     ]
    },
    {
     "name": "stdout",
     "output_type": "stream",
     "text": [
      "Total Epochs: 10\n",
      "Train loss start: 0.9746403098106384, Train loss end: 0.9614534378051758\n",
      "Highest Mean Train Accuracy (over epoch): 0.16577380952380952\n",
      "Test loss start: 0.8289651274681091, Test loss end: 0.8225169777870178\n",
      "Highest mean Test Accuracy (over epoch): 0.35069444444444453\n",
      " Test F1 score at highest accuracy: 0.17906645177386582\n",
      "./saved_models/model_3.pth \n",
      "\n",
      "Training Model with id 4\n",
      "in multi\n"
     ]
    },
    {
     "name": "stderr",
     "output_type": "stream",
     "text": [
      "Training Process: 100%|██████████| 10/10 [00:00<00:00, 19.43it/s]\n"
     ]
    },
    {
     "name": "stdout",
     "output_type": "stream",
     "text": [
      "Total Epochs: 10\n",
      "Train loss start: 0.7615268230438232, Train loss end: 0.6438526511192322\n",
      "Highest Mean Train Accuracy (over epoch): 0.5291666666666667\n",
      "Test loss start: 0.7345823645591736, Test loss end: 0.6664326190948486\n",
      "Highest mean Test Accuracy (over epoch): 0.5729166666666667\n",
      " Test F1 score at highest accuracy: 0.5327907009550142\n",
      "./saved_models/model_4.pth \n",
      "\n",
      "Training Model with id 7\n",
      "in multi\n"
     ]
    },
    {
     "name": "stderr",
     "output_type": "stream",
     "text": [
      "Training Process: 100%|██████████| 10/10 [00:00<00:00, 22.44it/s]\n"
     ]
    },
    {
     "name": "stdout",
     "output_type": "stream",
     "text": [
      "Total Epochs: 10\n",
      "Train loss start: 0.6834901571273804, Train loss end: 0.6798709034919739\n",
      "Highest Mean Train Accuracy (over epoch): 0.5172619047619048\n",
      "Test loss start: 0.7344987392425537, Test loss end: 0.6663710474967957\n",
      "Highest mean Test Accuracy (over epoch): 0.5729166666666667\n",
      " Test F1 score at highest accuracy: 0.5327907009550142\n",
      "./saved_models/model_7.pth \n",
      "\n",
      "Training Model with id 8\n",
      "in multi\n"
     ]
    },
    {
     "name": "stderr",
     "output_type": "stream",
     "text": [
      "Training Process: 100%|██████████| 10/10 [00:00<00:00, 23.27it/s]\n"
     ]
    },
    {
     "name": "stdout",
     "output_type": "stream",
     "text": [
      "Total Epochs: 10\n",
      "Train loss start: 0.6308913230895996, Train loss end: 0.626075804233551\n",
      "Highest Mean Train Accuracy (over epoch): 0.5224702380952382\n",
      "Test loss start: 0.73441481590271, Test loss end: 0.6663103103637695\n",
      "Highest mean Test Accuracy (over epoch): 0.5729166666666667\n",
      " Test F1 score at highest accuracy: 0.5327907009550142\n",
      "./saved_models/model_8.pth \n",
      "\n",
      "Training Model with id 6\n",
      "in multi\n"
     ]
    },
    {
     "name": "stderr",
     "output_type": "stream",
     "text": [
      "Training Process: 100%|██████████| 10/10 [00:00<00:00, 21.31it/s]\n"
     ]
    },
    {
     "name": "stdout",
     "output_type": "stream",
     "text": [
      "Total Epochs: 10\n",
      "Train loss start: 0.7220368981361389, Train loss end: 0.6744753122329712\n",
      "Highest Mean Train Accuracy (over epoch): 0.5276785714285714\n",
      "Test loss start: 0.7343325018882751, Test loss end: 0.6662489771842957\n",
      "Highest mean Test Accuracy (over epoch): 0.5729166666666667\n",
      " Test F1 score at highest accuracy: 0.5327907009550142\n",
      "./saved_models/model_6.pth \n",
      "\n",
      " Maximum accuracy: 0.6397569444444445, F1: 0.7204737792628132, Test: 0.6642154768109322, Train: 0.6075595438480377\n",
      "in multi\n"
     ]
    },
    {
     "name": "stderr",
     "output_type": "stream",
     "text": [
      "Training Process: 100%|██████████| 70/70 [00:04<00:00, 14.63it/s]\n"
     ]
    },
    {
     "name": "stdout",
     "output_type": "stream",
     "text": [
      "Total Epochs: 70\n",
      "Train loss start: 0.5301135778427124, Train loss end: 0.6509403586387634\n",
      "Highest Mean Train Accuracy (over epoch): 0.8681461352657005\n",
      "Test loss start: 0.6107322573661804, Test loss end: 0.6454212665557861\n",
      "Highest mean Test Accuracy (over epoch): 0.6232638888888891\n",
      " Test F1 score at highest accuracy: 0.8642021092131067\n",
      "Randomly initializing 4 models\n",
      "Training Model with id 1\n",
      "in multi\n"
     ]
    },
    {
     "name": "stderr",
     "output_type": "stream",
     "text": [
      "Training Process: 100%|██████████| 10/10 [00:00<00:00, 25.32it/s]\n"
     ]
    },
    {
     "name": "stdout",
     "output_type": "stream",
     "text": [
      "Total Epochs: 10\n",
      "Train loss start: 0.6508307456970215, Train loss end: 0.5618218779563904\n",
      "Highest Mean Train Accuracy (over epoch): 0.5927083333333335\n",
      "Test loss start: 0.6721748113632202, Test loss end: 0.6090935468673706\n",
      "Highest mean Test Accuracy (over epoch): 0.6710069444444445\n",
      " Test F1 score at highest accuracy: 0.6042700422725814\n",
      "./saved_models/model_1.pth \n",
      "\n",
      "Training Model with id 2\n",
      "in multi\n"
     ]
    },
    {
     "name": "stderr",
     "output_type": "stream",
     "text": [
      "Training Process: 100%|██████████| 10/10 [00:00<00:00, 22.55it/s]\n"
     ]
    },
    {
     "name": "stdout",
     "output_type": "stream",
     "text": [
      "Total Epochs: 10\n",
      "Train loss start: 0.6760743856430054, Train loss end: 0.6426603198051453\n",
      "Highest Mean Train Accuracy (over epoch): 0.5724914965986394\n",
      "Test loss start: 0.6596119403839111, Test loss end: 0.6663588285446167\n",
      "Highest mean Test Accuracy (over epoch): 0.6076388888888891\n",
      " Test F1 score at highest accuracy: 0.5781030940148031\n",
      "./saved_models/model_2.pth \n",
      "\n",
      "Training Model with id 3\n",
      "in multi\n"
     ]
    },
    {
     "name": "stderr",
     "output_type": "stream",
     "text": [
      "Training Process: 100%|██████████| 10/10 [00:00<00:00, 24.10it/s]\n"
     ]
    },
    {
     "name": "stdout",
     "output_type": "stream",
     "text": [
      "Total Epochs: 10\n",
      "Train loss start: 0.6314888000488281, Train loss end: 0.6040255427360535\n",
      "Highest Mean Train Accuracy (over epoch): 0.5830357142857142\n",
      "Test loss start: 0.7105932831764221, Test loss end: 0.7322019934654236\n",
      "Highest mean Test Accuracy (over epoch): 0.515625\n",
      " Test F1 score at highest accuracy: 0.5823098291105604\n",
      "./saved_models/model_3.pth \n",
      "\n",
      "Training Model with id 4\n",
      "in multi\n"
     ]
    },
    {
     "name": "stderr",
     "output_type": "stream",
     "text": [
      "Training Process: 100%|██████████| 10/10 [00:00<00:00, 22.79it/s]\n"
     ]
    },
    {
     "name": "stdout",
     "output_type": "stream",
     "text": [
      "Total Epochs: 10\n",
      "Train loss start: 0.8759661316871643, Train loss end: 0.6917633414268494\n",
      "Highest Mean Train Accuracy (over epoch): 0.3348214285714286\n",
      "Test loss start: 0.7708703279495239, Test loss end: 0.8182870745658875\n",
      "Highest mean Test Accuracy (over epoch): 0.3680555555555556\n",
      " Test F1 score at highest accuracy: 0.3389386841175804\n",
      "./saved_models/model_4.pth \n",
      "\n",
      "Training Model with id 7\n",
      "in multi\n"
     ]
    },
    {
     "name": "stderr",
     "output_type": "stream",
     "text": [
      "Training Process: 100%|██████████| 10/10 [00:00<00:00, 25.21it/s]\n"
     ]
    },
    {
     "name": "stdout",
     "output_type": "stream",
     "text": [
      "Total Epochs: 10\n",
      "Train loss start: 0.7843287587165833, Train loss end: 0.7365541458129883\n",
      "Highest Mean Train Accuracy (over epoch): 0.3288690476190476\n",
      "Test loss start: 0.7707880735397339, Test loss end: 0.8182247281074524\n",
      "Highest mean Test Accuracy (over epoch): 0.3680555555555556\n",
      " Test F1 score at highest accuracy: 0.3389386841175804\n",
      "./saved_models/model_7.pth \n",
      "\n",
      "Training Model with id 8\n",
      "in multi\n"
     ]
    },
    {
     "name": "stderr",
     "output_type": "stream",
     "text": [
      "Training Process: 100%|██████████| 10/10 [00:00<00:00, 17.89it/s]\n"
     ]
    },
    {
     "name": "stdout",
     "output_type": "stream",
     "text": [
      "Total Epochs: 10\n",
      "Train loss start: 0.8070545196533203, Train loss end: 0.8282961249351501\n",
      "Highest Mean Train Accuracy (over epoch): 0.33035714285714285\n",
      "Test loss start: 0.7707061767578125, Test loss end: 0.8181626200675964\n",
      "Highest mean Test Accuracy (over epoch): 0.3680555555555556\n",
      " Test F1 score at highest accuracy: 0.3389386841175804\n",
      "./saved_models/model_8.pth \n",
      "\n",
      "Training Model with id 6\n",
      "in multi\n"
     ]
    },
    {
     "name": "stderr",
     "output_type": "stream",
     "text": [
      "Training Process: 100%|██████████| 10/10 [00:00<00:00, 17.44it/s]\n"
     ]
    },
    {
     "name": "stdout",
     "output_type": "stream",
     "text": [
      "Total Epochs: 10\n",
      "Train loss start: 0.8359872102737427, Train loss end: 1.0258044004440308\n",
      "Highest Mean Train Accuracy (over epoch): 0.3385416666666667\n",
      "Test loss start: 0.7706243395805359, Test loss end: 0.8181005120277405\n",
      "Highest mean Test Accuracy (over epoch): 0.3680555555555556\n",
      " Test F1 score at highest accuracy: 0.3389386841175804\n",
      "./saved_models/model_6.pth \n",
      "\n",
      " Maximum accuracy: 0.6710069444444445, F1: 0.6042700422725814, Test: 0.6506433382630348, Train: 0.6592635711034139\n",
      "in multi\n"
     ]
    },
    {
     "name": "stderr",
     "output_type": "stream",
     "text": [
      "Training Process: 100%|██████████| 70/70 [00:05<00:00, 13.96it/s]\n"
     ]
    },
    {
     "name": "stdout",
     "output_type": "stream",
     "text": [
      "Total Epochs: 70\n",
      "Train loss start: 0.8419938683509827, Train loss end: 0.8995843529701233\n",
      "Highest Mean Train Accuracy (over epoch): 0.24196428571428574\n",
      "Test loss start: 0.8261623978614807, Test loss end: 0.8009358048439026\n",
      "Highest mean Test Accuracy (over epoch): 0.29427083333333337\n",
      " Test F1 score at highest accuracy: 0.25262878035132097\n",
      "Randomly initializing 4 models\n",
      "Training Model with id 1\n",
      "in multi\n"
     ]
    },
    {
     "name": "stderr",
     "output_type": "stream",
     "text": [
      "Training Process: 100%|██████████| 10/10 [00:00<00:00, 21.35it/s]\n"
     ]
    },
    {
     "name": "stdout",
     "output_type": "stream",
     "text": [
      "Total Epochs: 10\n",
      "Train loss start: 0.5823066830635071, Train loss end: 0.64713054895401\n",
      "Highest Mean Train Accuracy (over epoch): 0.6100765306122449\n",
      "Test loss start: 0.5812413692474365, Test loss end: 0.6476050019264221\n",
      "Highest mean Test Accuracy (over epoch): 0.6840277777777778\n",
      " Test F1 score at highest accuracy: 0.6139023539290765\n",
      "./saved_models/model_1.pth \n",
      "\n",
      "Training Model with id 2\n",
      "in multi\n"
     ]
    },
    {
     "name": "stderr",
     "output_type": "stream",
     "text": [
      "Training Process: 100%|██████████| 10/10 [00:00<00:00, 20.21it/s]\n"
     ]
    },
    {
     "name": "stdout",
     "output_type": "stream",
     "text": [
      "Total Epochs: 10\n",
      "Train loss start: 0.5933318734169006, Train loss end: 0.6666725873947144\n",
      "Highest Mean Train Accuracy (over epoch): 0.6811755952380952\n",
      "Test loss start: 0.6420316100120544, Test loss end: 0.6879263520240784\n",
      "Highest mean Test Accuracy (over epoch): 0.59375\n",
      " Test F1 score at highest accuracy: 0.6872859810656575\n",
      "./saved_models/model_2.pth \n",
      "\n",
      "Training Model with id 3\n",
      "in multi\n"
     ]
    },
    {
     "name": "stderr",
     "output_type": "stream",
     "text": [
      "Training Process: 100%|██████████| 10/10 [00:00<00:00, 20.29it/s]\n"
     ]
    },
    {
     "name": "stdout",
     "output_type": "stream",
     "text": [
      "Total Epochs: 10\n",
      "Train loss start: 0.6918801665306091, Train loss end: 0.6526175141334534\n",
      "Highest Mean Train Accuracy (over epoch): 0.6011904761904762\n",
      "Test loss start: 0.5971495509147644, Test loss end: 0.6585739254951477\n",
      "Highest mean Test Accuracy (over epoch): 0.6232638888888891\n",
      " Test F1 score at highest accuracy: 0.6104507737160799\n",
      "./saved_models/model_3.pth \n",
      "\n",
      "Training Model with id 4\n",
      "in multi\n"
     ]
    },
    {
     "name": "stderr",
     "output_type": "stream",
     "text": [
      "Training Process: 100%|██████████| 10/10 [00:00<00:00, 18.64it/s]\n"
     ]
    },
    {
     "name": "stdout",
     "output_type": "stream",
     "text": [
      "Total Epochs: 10\n",
      "Train loss start: 0.5446116924285889, Train loss end: 0.5052436590194702\n",
      "Highest Mean Train Accuracy (over epoch): 0.7541666666666667\n",
      "Test loss start: 0.6412909626960754, Test loss end: 0.634528636932373\n",
      "Highest mean Test Accuracy (over epoch): 0.6571180555555556\n",
      " Test F1 score at highest accuracy: 0.7562439597679524\n",
      "./saved_models/model_4.pth \n",
      "\n",
      "Training Model with id 7\n",
      "in multi\n"
     ]
    },
    {
     "name": "stderr",
     "output_type": "stream",
     "text": [
      "Training Process: 100%|██████████| 10/10 [00:00<00:00, 22.42it/s]\n"
     ]
    },
    {
     "name": "stdout",
     "output_type": "stream",
     "text": [
      "Total Epochs: 10\n",
      "Train loss start: 0.5407325029373169, Train loss end: 0.5566477179527283\n",
      "Highest Mean Train Accuracy (over epoch): 0.7571428571428572\n",
      "Test loss start: 0.6412042379379272, Test loss end: 0.6344757080078125\n",
      "Highest mean Test Accuracy (over epoch): 0.6571180555555556\n",
      " Test F1 score at highest accuracy: 0.7562439597679524\n",
      "./saved_models/model_7.pth \n",
      "\n",
      "Training Model with id 8\n",
      "in multi\n"
     ]
    },
    {
     "name": "stderr",
     "output_type": "stream",
     "text": [
      "Training Process: 100%|██████████| 10/10 [00:00<00:00, 22.81it/s]\n"
     ]
    },
    {
     "name": "stdout",
     "output_type": "stream",
     "text": [
      "Total Epochs: 10\n",
      "Train loss start: 0.5535406470298767, Train loss end: 0.5790770649909973\n",
      "Highest Mean Train Accuracy (over epoch): 0.7556547619047619\n",
      "Test loss start: 0.6411162614822388, Test loss end: 0.6344224214553833\n",
      "Highest mean Test Accuracy (over epoch): 0.6571180555555556\n",
      " Test F1 score at highest accuracy: 0.7562439597679524\n",
      "./saved_models/model_8.pth \n",
      "\n",
      "Training Model with id 6\n",
      "in multi\n"
     ]
    },
    {
     "name": "stderr",
     "output_type": "stream",
     "text": [
      "Training Process: 100%|██████████| 10/10 [00:00<00:00, 19.55it/s]\n"
     ]
    },
    {
     "name": "stdout",
     "output_type": "stream",
     "text": [
      "Total Epochs: 10\n",
      "Train loss start: 0.6273695826530457, Train loss end: 0.6609290242195129\n",
      "Highest Mean Train Accuracy (over epoch): 0.7563161375661376\n",
      "Test loss start: 0.6410279273986816, Test loss end: 0.6343696117401123\n",
      "Highest mean Test Accuracy (over epoch): 0.6571180555555556\n",
      " Test F1 score at highest accuracy: 0.7562439597679524\n",
      "./saved_models/model_6.pth \n",
      "\n",
      " Maximum accuracy: 0.6840277777777778, F1: 0.6139023539290765, Test: 0.6060566380620003, Train: 0.5770109415054321\n",
      "in multi\n"
     ]
    },
    {
     "name": "stderr",
     "output_type": "stream",
     "text": [
      "Training Process: 100%|██████████| 70/70 [00:04<00:00, 14.23it/s]\n"
     ]
    },
    {
     "name": "stdout",
     "output_type": "stream",
     "text": [
      "Total Epochs: 70\n",
      "Train loss start: 0.9405413866043091, Train loss end: 1.0325490236282349\n",
      "Highest Mean Train Accuracy (over epoch): 0.2017723880597015\n",
      "Test loss start: 0.7933217883110046, Test loss end: 0.7315266132354736\n",
      "Highest mean Test Accuracy (over epoch): 0.396155753968254\n",
      " Test F1 score at highest accuracy: 0.213228663392399\n",
      "Randomly initializing 4 models\n",
      "Training Model with id 1\n",
      "in multi\n"
     ]
    },
    {
     "name": "stderr",
     "output_type": "stream",
     "text": [
      "Training Process: 100%|██████████| 10/10 [00:00<00:00, 23.10it/s]\n"
     ]
    },
    {
     "name": "stdout",
     "output_type": "stream",
     "text": [
      "Total Epochs: 10\n",
      "Train loss start: 0.8543051481246948, Train loss end: 0.9016323685646057\n",
      "Highest Mean Train Accuracy (over epoch): 0.2772321428571428\n",
      "Test loss start: 0.7732455134391785, Test loss end: 0.7812318801879883\n",
      "Highest mean Test Accuracy (over epoch): 0.42100694444444453\n",
      " Test F1 score at highest accuracy: 0.2834899701852492\n",
      "./saved_models/model_1.pth \n",
      "\n",
      "Training Model with id 2\n",
      "in multi\n"
     ]
    },
    {
     "name": "stderr",
     "output_type": "stream",
     "text": [
      "Training Process: 100%|██████████| 10/10 [00:00<00:00, 21.19it/s]\n"
     ]
    },
    {
     "name": "stdout",
     "output_type": "stream",
     "text": [
      "Total Epochs: 10\n",
      "Train loss start: 0.6282029747962952, Train loss end: 0.6855205297470093\n",
      "Highest Mean Train Accuracy (over epoch): 0.5026785714285714\n",
      "Test loss start: 0.7224531769752502, Test loss end: 0.7236510515213013\n",
      "Highest mean Test Accuracy (over epoch): 0.5173611111111112\n",
      " Test F1 score at highest accuracy: 0.5081109366823653\n",
      "./saved_models/model_2.pth \n",
      "\n",
      "Training Model with id 3\n",
      "in multi\n"
     ]
    },
    {
     "name": "stderr",
     "output_type": "stream",
     "text": [
      "Training Process: 100%|██████████| 10/10 [00:00<00:00, 23.31it/s]\n"
     ]
    },
    {
     "name": "stdout",
     "output_type": "stream",
     "text": [
      "Total Epochs: 10\n",
      "Train loss start: 0.5987386703491211, Train loss end: 0.5567415356636047\n",
      "Highest Mean Train Accuracy (over epoch): 0.8033730158730159\n",
      "Test loss start: 0.5948320627212524, Test loss end: 0.6574110388755798\n",
      "Highest mean Test Accuracy (over epoch): 0.6484375\n",
      " Test F1 score at highest accuracy: 0.8009499657851308\n",
      "./saved_models/model_3.pth \n",
      "\n",
      "Training Model with id 4\n",
      "in multi\n"
     ]
    },
    {
     "name": "stderr",
     "output_type": "stream",
     "text": [
      "Training Process: 100%|██████████| 10/10 [00:00<00:00, 21.36it/s]\n"
     ]
    },
    {
     "name": "stdout",
     "output_type": "stream",
     "text": [
      "Total Epochs: 10\n",
      "Train loss start: 0.72234046459198, Train loss end: 0.6486319303512573\n",
      "Highest Mean Train Accuracy (over epoch): 0.4412202380952381\n",
      "Test loss start: 0.6933096647262573, Test loss end: 0.7443251609802246\n",
      "Highest mean Test Accuracy (over epoch): 0.45486111111111116\n",
      " Test F1 score at highest accuracy: 0.45029291487559975\n",
      "./saved_models/model_4.pth \n",
      "\n",
      "Training Model with id 7\n",
      "in multi\n"
     ]
    },
    {
     "name": "stderr",
     "output_type": "stream",
     "text": [
      "Training Process: 100%|██████████| 10/10 [00:00<00:00, 25.94it/s]\n"
     ]
    },
    {
     "name": "stdout",
     "output_type": "stream",
     "text": [
      "Total Epochs: 10\n",
      "Train loss start: 0.7802042365074158, Train loss end: 0.7621188163757324\n",
      "Highest Mean Train Accuracy (over epoch): 0.43898809523809523\n",
      "Test loss start: 0.6932252645492554, Test loss end: 0.7442514896392822\n",
      "Highest mean Test Accuracy (over epoch): 0.45486111111111116\n",
      " Test F1 score at highest accuracy: 0.45029291487559975\n",
      "./saved_models/model_7.pth \n",
      "\n",
      "Training Model with id 8\n",
      "in multi\n"
     ]
    },
    {
     "name": "stderr",
     "output_type": "stream",
     "text": [
      "Training Process: 100%|██████████| 10/10 [00:00<00:00, 22.07it/s]\n"
     ]
    },
    {
     "name": "stdout",
     "output_type": "stream",
     "text": [
      "Total Epochs: 10\n",
      "Train loss start: 0.7219724059104919, Train loss end: 0.8313312530517578\n",
      "Highest Mean Train Accuracy (over epoch): 0.44394841269841273\n",
      "Test loss start: 0.6931407451629639, Test loss end: 0.744178056716919\n",
      "Highest mean Test Accuracy (over epoch): 0.45486111111111116\n",
      " Test F1 score at highest accuracy: 0.45029291487559975\n",
      "./saved_models/model_8.pth \n",
      "\n",
      "Training Model with id 6\n",
      "in multi\n"
     ]
    },
    {
     "name": "stderr",
     "output_type": "stream",
     "text": [
      "Training Process: 100%|██████████| 10/10 [00:00<00:00, 23.29it/s]\n"
     ]
    },
    {
     "name": "stdout",
     "output_type": "stream",
     "text": [
      "Total Epochs: 10\n",
      "Train loss start: 0.8088687658309937, Train loss end: 0.8646316528320312\n",
      "Highest Mean Train Accuracy (over epoch): 0.44479166666666664\n",
      "Test loss start: 0.6930572390556335, Test loss end: 0.7441043853759766\n",
      "Highest mean Test Accuracy (over epoch): 0.45486111111111116\n",
      " Test F1 score at highest accuracy: 0.45242275029088297\n",
      "./saved_models/model_6.pth \n",
      "\n",
      " Maximum accuracy: 0.6484375, F1: 0.8009499657851308, Test: 0.620539203286171, Train: 0.5625629524389902\n",
      "in multi\n"
     ]
    },
    {
     "name": "stderr",
     "output_type": "stream",
     "text": [
      "Training Process: 100%|██████████| 70/70 [00:04<00:00, 15.32it/s]\n"
     ]
    },
    {
     "name": "stdout",
     "output_type": "stream",
     "text": [
      "Total Epochs: 70\n",
      "Train loss start: 0.4731360375881195, Train loss end: 0.5003235340118408\n",
      "Highest Mean Train Accuracy (over epoch): 0.9\n",
      "Test loss start: 0.5502687692642212, Test loss end: 0.5551784038543701\n",
      "Highest mean Test Accuracy (over epoch): 0.7942708333333335\n",
      " Test F1 score at highest accuracy: 0.8959553926763061\n",
      "Randomly initializing 4 models\n",
      "Training Model with id 1\n",
      "in multi\n"
     ]
    },
    {
     "name": "stderr",
     "output_type": "stream",
     "text": [
      "Training Process: 100%|██████████| 10/10 [00:00<00:00, 25.51it/s]\n"
     ]
    },
    {
     "name": "stdout",
     "output_type": "stream",
     "text": [
      "Total Epochs: 10\n",
      "Train loss start: 0.8518446087837219, Train loss end: 0.7178348898887634\n",
      "Highest Mean Train Accuracy (over epoch): 0.2711309523809524\n",
      "Test loss start: 0.8023445010185242, Test loss end: 0.7249206304550171\n",
      "Highest mean Test Accuracy (over epoch): 0.40625\n",
      " Test F1 score at highest accuracy: 0.27968858999998725\n",
      "./saved_models/model_1.pth \n",
      "\n",
      "Training Model with id 2\n",
      "in multi\n"
     ]
    },
    {
     "name": "stderr",
     "output_type": "stream",
     "text": [
      "Training Process: 100%|██████████| 10/10 [00:00<00:00, 20.71it/s]\n"
     ]
    },
    {
     "name": "stdout",
     "output_type": "stream",
     "text": [
      "Total Epochs: 10\n",
      "Train loss start: 0.9164478182792664, Train loss end: 0.9691557884216309\n",
      "Highest Mean Train Accuracy (over epoch): 0.22782738095238092\n",
      "Test loss start: 0.85537189245224, Test loss end: 0.8809133768081665\n",
      "Highest mean Test Accuracy (over epoch): 0.38802083333333337\n",
      " Test F1 score at highest accuracy: 0.244732401493983\n",
      "./saved_models/model_2.pth \n",
      "\n",
      "Training Model with id 3\n",
      "in multi\n"
     ]
    },
    {
     "name": "stderr",
     "output_type": "stream",
     "text": [
      "Training Process: 100%|██████████| 10/10 [00:00<00:00, 25.68it/s]\n"
     ]
    },
    {
     "name": "stdout",
     "output_type": "stream",
     "text": [
      "Total Epochs: 10\n",
      "Train loss start: 0.8851847052574158, Train loss end: 0.7495841383934021\n",
      "Highest Mean Train Accuracy (over epoch): 0.28988095238095235\n",
      "Test loss start: 0.8714919686317444, Test loss end: 0.765762984752655\n",
      "Highest mean Test Accuracy (over epoch): 0.37673611111111116\n",
      " Test F1 score at highest accuracy: 0.3007788106370215\n",
      "./saved_models/model_3.pth \n",
      "\n",
      "Training Model with id 4\n",
      "in multi\n"
     ]
    },
    {
     "name": "stderr",
     "output_type": "stream",
     "text": [
      "Training Process: 100%|██████████| 10/10 [00:00<00:00, 23.07it/s]\n"
     ]
    },
    {
     "name": "stdout",
     "output_type": "stream",
     "text": [
      "Total Epochs: 10\n",
      "Train loss start: 0.4167473316192627, Train loss end: 0.46868181228637695\n",
      "Highest Mean Train Accuracy (over epoch): 0.8363095238095237\n",
      "Test loss start: 0.552865207195282, Test loss end: 0.6008762717247009\n",
      "Highest mean Test Accuracy (over epoch): 0.7256944444444445\n",
      " Test F1 score at highest accuracy: 0.8372563865521613\n",
      "./saved_models/model_4.pth \n",
      "\n",
      "Training Model with id 7\n",
      "in multi\n"
     ]
    },
    {
     "name": "stderr",
     "output_type": "stream",
     "text": [
      "Training Process: 100%|██████████| 10/10 [00:00<00:00, 22.77it/s]\n"
     ]
    },
    {
     "name": "stdout",
     "output_type": "stream",
     "text": [
      "Total Epochs: 10\n",
      "Train loss start: 0.47985127568244934, Train loss end: 0.49349287152290344\n",
      "Highest Mean Train Accuracy (over epoch): 0.8363095238095238\n",
      "Test loss start: 0.5528156757354736, Test loss end: 0.6008467078208923\n",
      "Highest mean Test Accuracy (over epoch): 0.7256944444444445\n",
      " Test F1 score at highest accuracy: 0.8372563865521613\n",
      "./saved_models/model_7.pth \n",
      "\n",
      "Training Model with id 8\n",
      "in multi\n"
     ]
    },
    {
     "name": "stderr",
     "output_type": "stream",
     "text": [
      "Training Process: 100%|██████████| 10/10 [00:00<00:00, 22.66it/s]\n"
     ]
    },
    {
     "name": "stdout",
     "output_type": "stream",
     "text": [
      "Total Epochs: 10\n",
      "Train loss start: 0.5179712176322937, Train loss end: 0.5513874888420105\n",
      "Highest Mean Train Accuracy (over epoch): 0.8373724489795918\n",
      "Test loss start: 0.5527663826942444, Test loss end: 0.6008175611495972\n",
      "Highest mean Test Accuracy (over epoch): 0.7256944444444445\n",
      " Test F1 score at highest accuracy: 0.8372563865521613\n",
      "./saved_models/model_8.pth \n",
      "\n",
      "Training Model with id 6\n",
      "in multi\n"
     ]
    },
    {
     "name": "stderr",
     "output_type": "stream",
     "text": [
      "Training Process: 100%|██████████| 10/10 [00:00<00:00, 17.16it/s]\n"
     ]
    },
    {
     "name": "stdout",
     "output_type": "stream",
     "text": [
      "Total Epochs: 10\n",
      "Train loss start: 0.4894764721393585, Train loss end: 0.45652228593826294\n",
      "Highest Mean Train Accuracy (over epoch): 0.84375\n",
      "Test loss start: 0.5527172684669495, Test loss end: 0.6007884740829468\n",
      "Highest mean Test Accuracy (over epoch): 0.7256944444444445\n",
      " Test F1 score at highest accuracy: 0.8372563865521613\n",
      "./saved_models/model_6.pth \n",
      "\n",
      " Maximum accuracy: 0.7256944444444445, F1: 0.8372563865521613, Test: 0.5959158509969711, Train: 0.493962162733078\n",
      "in multi\n"
     ]
    },
    {
     "name": "stderr",
     "output_type": "stream",
     "text": [
      "Training Process:  77%|███████▋  | 54/70 [00:03<00:00, 16.28it/s]\n"
     ]
    },
    {
     "ename": "KeyboardInterrupt",
     "evalue": "",
     "output_type": "error",
     "traceback": [
      "\u001b[1;31m---------------------------------------------------------------------------\u001b[0m",
      "\u001b[1;31mKeyboardInterrupt\u001b[0m                         Traceback (most recent call last)",
      "Cell \u001b[1;32mIn[6], line 2\u001b[0m\n\u001b[0;32m      1\u001b[0m output_directory \u001b[38;5;241m=\u001b[39m \u001b[38;5;124m'\u001b[39m\u001b[38;5;124m./output.csv\u001b[39m\u001b[38;5;124m'\u001b[39m\n\u001b[1;32m----> 2\u001b[0m \u001b[43mrun_experiment\u001b[49m\u001b[43m(\u001b[49m\u001b[43mDTEmlp4b\u001b[49m\u001b[43m,\u001b[49m\u001b[43m \u001b[49m\u001b[43mtrails\u001b[49m\u001b[38;5;241;43m=\u001b[39;49m\u001b[38;5;241;43m100\u001b[39;49m\u001b[43m,\u001b[49m\u001b[43m \u001b[49m\u001b[43moutput_directory\u001b[49m\u001b[38;5;241;43m=\u001b[39;49m\u001b[43moutput_directory\u001b[49m\u001b[43m)\u001b[49m\n",
      "Cell \u001b[1;32mIn[5], line 6\u001b[0m, in \u001b[0;36mrun_experiment\u001b[1;34m(DTE, trails, output_directory)\u001b[0m\n\u001b[0;32m      4\u001b[0m \u001b[38;5;28;01mfor\u001b[39;00m i \u001b[38;5;129;01min\u001b[39;00m \u001b[38;5;28mrange\u001b[39m(trails):\n\u001b[0;32m      5\u001b[0m     df1 \u001b[38;5;241m=\u001b[39m DTE\u001b[38;5;241m.\u001b[39mtrain_DTE()\n\u001b[1;32m----> 6\u001b[0m     df2 \u001b[38;5;241m=\u001b[39m \u001b[43mDTE\u001b[49m\u001b[38;5;241;43m.\u001b[39;49m\u001b[43msingle_model\u001b[49m\u001b[43m(\u001b[49m\u001b[43m)\u001b[49m\n\u001b[0;32m      7\u001b[0m     combined_df \u001b[38;5;241m=\u001b[39m pd\u001b[38;5;241m.\u001b[39mconcat([df1, df2], axis\u001b[38;5;241m=\u001b[39m\u001b[38;5;241m1\u001b[39m)\n\u001b[0;32m      8\u001b[0m     results \u001b[38;5;241m=\u001b[39m pd\u001b[38;5;241m.\u001b[39mconcat([results, combined_df], axis\u001b[38;5;241m=\u001b[39m\u001b[38;5;241m0\u001b[39m)\n",
      "File \u001b[1;32mc:\\users\\smbm2\\projects\\wate\\deeptreeensemble\\DeepTreeEnsemble.py:726\u001b[0m, in \u001b[0;36msingle_model\u001b[1;34m(self)\u001b[0m\n\u001b[0;32m    723\u001b[0m         test_losses\u001b[38;5;241m.\u001b[39mappend(loss\u001b[38;5;241m.\u001b[39mitem())\n\u001b[0;32m    725\u001b[0m \u001b[38;5;66;03m# create a list of average train and test accuacies per epoch\u001b[39;00m\n\u001b[1;32m--> 726\u001b[0m avg_train_acc\u001b[38;5;241m.\u001b[39mappend(np\u001b[38;5;241m.\u001b[39mmean(train_accuracies))\n\u001b[0;32m    727\u001b[0m avg_test_acc\u001b[38;5;241m.\u001b[39mappend(np\u001b[38;5;241m.\u001b[39mmean(test_accuracies))\n\u001b[0;32m    729\u001b[0m \u001b[38;5;66;03m#create list of average losses\u001b[39;00m\n",
      "File \u001b[1;32mc:\\Users\\smbm2\\AppData\\Local\\miniconda3\\envs\\ml-env\\Lib\\site-packages\\sklearn\\utils\\_param_validation.py:211\u001b[0m, in \u001b[0;36mvalidate_params.<locals>.decorator.<locals>.wrapper\u001b[1;34m(*args, **kwargs)\u001b[0m\n\u001b[0;32m    205\u001b[0m \u001b[38;5;28;01mtry\u001b[39;00m:\n\u001b[0;32m    206\u001b[0m     \u001b[38;5;28;01mwith\u001b[39;00m config_context(\n\u001b[0;32m    207\u001b[0m         skip_parameter_validation\u001b[38;5;241m=\u001b[39m(\n\u001b[0;32m    208\u001b[0m             prefer_skip_nested_validation \u001b[38;5;129;01mor\u001b[39;00m global_skip_validation\n\u001b[0;32m    209\u001b[0m         )\n\u001b[0;32m    210\u001b[0m     ):\n\u001b[1;32m--> 211\u001b[0m         \u001b[38;5;28;01mreturn\u001b[39;00m \u001b[43mfunc\u001b[49m\u001b[43m(\u001b[49m\u001b[38;5;241;43m*\u001b[39;49m\u001b[43margs\u001b[49m\u001b[43m,\u001b[49m\u001b[43m \u001b[49m\u001b[38;5;241;43m*\u001b[39;49m\u001b[38;5;241;43m*\u001b[39;49m\u001b[43mkwargs\u001b[49m\u001b[43m)\u001b[49m\n\u001b[0;32m    212\u001b[0m \u001b[38;5;28;01mexcept\u001b[39;00m InvalidParameterError \u001b[38;5;28;01mas\u001b[39;00m e:\n\u001b[0;32m    213\u001b[0m     \u001b[38;5;66;03m# When the function is just a wrapper around an estimator, we allow\u001b[39;00m\n\u001b[0;32m    214\u001b[0m     \u001b[38;5;66;03m# the function to delegate validation to the estimator, but we replace\u001b[39;00m\n\u001b[0;32m    215\u001b[0m     \u001b[38;5;66;03m# the name of the estimator by the name of the function in the error\u001b[39;00m\n\u001b[0;32m    216\u001b[0m     \u001b[38;5;66;03m# message to avoid confusion.\u001b[39;00m\n\u001b[0;32m    217\u001b[0m     msg \u001b[38;5;241m=\u001b[39m re\u001b[38;5;241m.\u001b[39msub(\n\u001b[0;32m    218\u001b[0m         \u001b[38;5;124mr\u001b[39m\u001b[38;5;124m\"\u001b[39m\u001b[38;5;124mparameter of \u001b[39m\u001b[38;5;124m\\\u001b[39m\u001b[38;5;124mw+ must be\u001b[39m\u001b[38;5;124m\"\u001b[39m,\n\u001b[0;32m    219\u001b[0m         \u001b[38;5;124mf\u001b[39m\u001b[38;5;124m\"\u001b[39m\u001b[38;5;124mparameter of \u001b[39m\u001b[38;5;132;01m{\u001b[39;00mfunc\u001b[38;5;241m.\u001b[39m\u001b[38;5;18m__qualname__\u001b[39m\u001b[38;5;132;01m}\u001b[39;00m\u001b[38;5;124m must be\u001b[39m\u001b[38;5;124m\"\u001b[39m,\n\u001b[0;32m    220\u001b[0m         \u001b[38;5;28mstr\u001b[39m(e),\n\u001b[0;32m    221\u001b[0m     )\n",
      "File \u001b[1;32mc:\\Users\\smbm2\\AppData\\Local\\miniconda3\\envs\\ml-env\\Lib\\site-packages\\sklearn\\metrics\\_classification.py:1238\u001b[0m, in \u001b[0;36mf1_score\u001b[1;34m(y_true, y_pred, labels, pos_label, average, sample_weight, zero_division)\u001b[0m\n\u001b[0;32m   1070\u001b[0m \u001b[38;5;129m@validate_params\u001b[39m(\n\u001b[0;32m   1071\u001b[0m     {\n\u001b[0;32m   1072\u001b[0m         \u001b[38;5;124m\"\u001b[39m\u001b[38;5;124my_true\u001b[39m\u001b[38;5;124m\"\u001b[39m: [\u001b[38;5;124m\"\u001b[39m\u001b[38;5;124marray-like\u001b[39m\u001b[38;5;124m\"\u001b[39m, \u001b[38;5;124m\"\u001b[39m\u001b[38;5;124msparse matrix\u001b[39m\u001b[38;5;124m\"\u001b[39m],\n\u001b[1;32m   (...)\u001b[0m\n\u001b[0;32m   1096\u001b[0m     zero_division\u001b[38;5;241m=\u001b[39m\u001b[38;5;124m\"\u001b[39m\u001b[38;5;124mwarn\u001b[39m\u001b[38;5;124m\"\u001b[39m,\n\u001b[0;32m   1097\u001b[0m ):\n\u001b[0;32m   1098\u001b[0m \u001b[38;5;250m    \u001b[39m\u001b[38;5;124;03m\"\"\"Compute the F1 score, also known as balanced F-score or F-measure.\u001b[39;00m\n\u001b[0;32m   1099\u001b[0m \n\u001b[0;32m   1100\u001b[0m \u001b[38;5;124;03m    The F1 score can be interpreted as a harmonic mean of the precision and\u001b[39;00m\n\u001b[1;32m   (...)\u001b[0m\n\u001b[0;32m   1236\u001b[0m \u001b[38;5;124;03m    array([0.66666667, 1.        , 0.66666667])\u001b[39;00m\n\u001b[0;32m   1237\u001b[0m \u001b[38;5;124;03m    \"\"\"\u001b[39;00m\n\u001b[1;32m-> 1238\u001b[0m     \u001b[38;5;28;01mreturn\u001b[39;00m \u001b[43mfbeta_score\u001b[49m\u001b[43m(\u001b[49m\n\u001b[0;32m   1239\u001b[0m \u001b[43m        \u001b[49m\u001b[43my_true\u001b[49m\u001b[43m,\u001b[49m\n\u001b[0;32m   1240\u001b[0m \u001b[43m        \u001b[49m\u001b[43my_pred\u001b[49m\u001b[43m,\u001b[49m\n\u001b[0;32m   1241\u001b[0m \u001b[43m        \u001b[49m\u001b[43mbeta\u001b[49m\u001b[38;5;241;43m=\u001b[39;49m\u001b[38;5;241;43m1\u001b[39;49m\u001b[43m,\u001b[49m\n\u001b[0;32m   1242\u001b[0m \u001b[43m        \u001b[49m\u001b[43mlabels\u001b[49m\u001b[38;5;241;43m=\u001b[39;49m\u001b[43mlabels\u001b[49m\u001b[43m,\u001b[49m\n\u001b[0;32m   1243\u001b[0m \u001b[43m        \u001b[49m\u001b[43mpos_label\u001b[49m\u001b[38;5;241;43m=\u001b[39;49m\u001b[43mpos_label\u001b[49m\u001b[43m,\u001b[49m\n\u001b[0;32m   1244\u001b[0m \u001b[43m        \u001b[49m\u001b[43maverage\u001b[49m\u001b[38;5;241;43m=\u001b[39;49m\u001b[43maverage\u001b[49m\u001b[43m,\u001b[49m\n\u001b[0;32m   1245\u001b[0m \u001b[43m        \u001b[49m\u001b[43msample_weight\u001b[49m\u001b[38;5;241;43m=\u001b[39;49m\u001b[43msample_weight\u001b[49m\u001b[43m,\u001b[49m\n\u001b[0;32m   1246\u001b[0m \u001b[43m        \u001b[49m\u001b[43mzero_division\u001b[49m\u001b[38;5;241;43m=\u001b[39;49m\u001b[43mzero_division\u001b[49m\u001b[43m,\u001b[49m\n\u001b[0;32m   1247\u001b[0m \u001b[43m    \u001b[49m\u001b[43m)\u001b[49m\n",
      "File \u001b[1;32mc:\\Users\\smbm2\\AppData\\Local\\miniconda3\\envs\\ml-env\\Lib\\site-packages\\sklearn\\utils\\_param_validation.py:184\u001b[0m, in \u001b[0;36mvalidate_params.<locals>.decorator.<locals>.wrapper\u001b[1;34m(*args, **kwargs)\u001b[0m\n\u001b[0;32m    182\u001b[0m global_skip_validation \u001b[38;5;241m=\u001b[39m get_config()[\u001b[38;5;124m\"\u001b[39m\u001b[38;5;124mskip_parameter_validation\u001b[39m\u001b[38;5;124m\"\u001b[39m]\n\u001b[0;32m    183\u001b[0m \u001b[38;5;28;01mif\u001b[39;00m global_skip_validation:\n\u001b[1;32m--> 184\u001b[0m     \u001b[38;5;28;01mreturn\u001b[39;00m \u001b[43mfunc\u001b[49m\u001b[43m(\u001b[49m\u001b[38;5;241;43m*\u001b[39;49m\u001b[43margs\u001b[49m\u001b[43m,\u001b[49m\u001b[43m \u001b[49m\u001b[38;5;241;43m*\u001b[39;49m\u001b[38;5;241;43m*\u001b[39;49m\u001b[43mkwargs\u001b[49m\u001b[43m)\u001b[49m\n\u001b[0;32m    186\u001b[0m func_sig \u001b[38;5;241m=\u001b[39m signature(func)\n\u001b[0;32m    188\u001b[0m \u001b[38;5;66;03m# Map *args/**kwargs to the function signature\u001b[39;00m\n",
      "File \u001b[1;32mc:\\Users\\smbm2\\AppData\\Local\\miniconda3\\envs\\ml-env\\Lib\\site-packages\\sklearn\\metrics\\_classification.py:1411\u001b[0m, in \u001b[0;36mfbeta_score\u001b[1;34m(y_true, y_pred, beta, labels, pos_label, average, sample_weight, zero_division)\u001b[0m\n\u001b[0;32m   1250\u001b[0m \u001b[38;5;129m@validate_params\u001b[39m(\n\u001b[0;32m   1251\u001b[0m     {\n\u001b[0;32m   1252\u001b[0m         \u001b[38;5;124m\"\u001b[39m\u001b[38;5;124my_true\u001b[39m\u001b[38;5;124m\"\u001b[39m: [\u001b[38;5;124m\"\u001b[39m\u001b[38;5;124marray-like\u001b[39m\u001b[38;5;124m\"\u001b[39m, \u001b[38;5;124m\"\u001b[39m\u001b[38;5;124msparse matrix\u001b[39m\u001b[38;5;124m\"\u001b[39m],\n\u001b[1;32m   (...)\u001b[0m\n\u001b[0;32m   1278\u001b[0m     zero_division\u001b[38;5;241m=\u001b[39m\u001b[38;5;124m\"\u001b[39m\u001b[38;5;124mwarn\u001b[39m\u001b[38;5;124m\"\u001b[39m,\n\u001b[0;32m   1279\u001b[0m ):\n\u001b[0;32m   1280\u001b[0m \u001b[38;5;250m    \u001b[39m\u001b[38;5;124;03m\"\"\"Compute the F-beta score.\u001b[39;00m\n\u001b[0;32m   1281\u001b[0m \n\u001b[0;32m   1282\u001b[0m \u001b[38;5;124;03m    The F-beta score is the weighted harmonic mean of precision and recall,\u001b[39;00m\n\u001b[1;32m   (...)\u001b[0m\n\u001b[0;32m   1408\u001b[0m \u001b[38;5;124;03m    0.38...\u001b[39;00m\n\u001b[0;32m   1409\u001b[0m \u001b[38;5;124;03m    \"\"\"\u001b[39;00m\n\u001b[1;32m-> 1411\u001b[0m     _, _, f, _ \u001b[38;5;241m=\u001b[39m \u001b[43mprecision_recall_fscore_support\u001b[49m\u001b[43m(\u001b[49m\n\u001b[0;32m   1412\u001b[0m \u001b[43m        \u001b[49m\u001b[43my_true\u001b[49m\u001b[43m,\u001b[49m\n\u001b[0;32m   1413\u001b[0m \u001b[43m        \u001b[49m\u001b[43my_pred\u001b[49m\u001b[43m,\u001b[49m\n\u001b[0;32m   1414\u001b[0m \u001b[43m        \u001b[49m\u001b[43mbeta\u001b[49m\u001b[38;5;241;43m=\u001b[39;49m\u001b[43mbeta\u001b[49m\u001b[43m,\u001b[49m\n\u001b[0;32m   1415\u001b[0m \u001b[43m        \u001b[49m\u001b[43mlabels\u001b[49m\u001b[38;5;241;43m=\u001b[39;49m\u001b[43mlabels\u001b[49m\u001b[43m,\u001b[49m\n\u001b[0;32m   1416\u001b[0m \u001b[43m        \u001b[49m\u001b[43mpos_label\u001b[49m\u001b[38;5;241;43m=\u001b[39;49m\u001b[43mpos_label\u001b[49m\u001b[43m,\u001b[49m\n\u001b[0;32m   1417\u001b[0m \u001b[43m        \u001b[49m\u001b[43maverage\u001b[49m\u001b[38;5;241;43m=\u001b[39;49m\u001b[43maverage\u001b[49m\u001b[43m,\u001b[49m\n\u001b[0;32m   1418\u001b[0m \u001b[43m        \u001b[49m\u001b[43mwarn_for\u001b[49m\u001b[38;5;241;43m=\u001b[39;49m\u001b[43m(\u001b[49m\u001b[38;5;124;43m\"\u001b[39;49m\u001b[38;5;124;43mf-score\u001b[39;49m\u001b[38;5;124;43m\"\u001b[39;49m\u001b[43m,\u001b[49m\u001b[43m)\u001b[49m\u001b[43m,\u001b[49m\n\u001b[0;32m   1419\u001b[0m \u001b[43m        \u001b[49m\u001b[43msample_weight\u001b[49m\u001b[38;5;241;43m=\u001b[39;49m\u001b[43msample_weight\u001b[49m\u001b[43m,\u001b[49m\n\u001b[0;32m   1420\u001b[0m \u001b[43m        \u001b[49m\u001b[43mzero_division\u001b[49m\u001b[38;5;241;43m=\u001b[39;49m\u001b[43mzero_division\u001b[49m\u001b[43m,\u001b[49m\n\u001b[0;32m   1421\u001b[0m \u001b[43m    \u001b[49m\u001b[43m)\u001b[49m\n\u001b[0;32m   1422\u001b[0m     \u001b[38;5;28;01mreturn\u001b[39;00m f\n",
      "File \u001b[1;32mc:\\Users\\smbm2\\AppData\\Local\\miniconda3\\envs\\ml-env\\Lib\\site-packages\\sklearn\\utils\\_param_validation.py:184\u001b[0m, in \u001b[0;36mvalidate_params.<locals>.decorator.<locals>.wrapper\u001b[1;34m(*args, **kwargs)\u001b[0m\n\u001b[0;32m    182\u001b[0m global_skip_validation \u001b[38;5;241m=\u001b[39m get_config()[\u001b[38;5;124m\"\u001b[39m\u001b[38;5;124mskip_parameter_validation\u001b[39m\u001b[38;5;124m\"\u001b[39m]\n\u001b[0;32m    183\u001b[0m \u001b[38;5;28;01mif\u001b[39;00m global_skip_validation:\n\u001b[1;32m--> 184\u001b[0m     \u001b[38;5;28;01mreturn\u001b[39;00m \u001b[43mfunc\u001b[49m\u001b[43m(\u001b[49m\u001b[38;5;241;43m*\u001b[39;49m\u001b[43margs\u001b[49m\u001b[43m,\u001b[49m\u001b[43m \u001b[49m\u001b[38;5;241;43m*\u001b[39;49m\u001b[38;5;241;43m*\u001b[39;49m\u001b[43mkwargs\u001b[49m\u001b[43m)\u001b[49m\n\u001b[0;32m    186\u001b[0m func_sig \u001b[38;5;241m=\u001b[39m signature(func)\n\u001b[0;32m    188\u001b[0m \u001b[38;5;66;03m# Map *args/**kwargs to the function signature\u001b[39;00m\n",
      "File \u001b[1;32mc:\\Users\\smbm2\\AppData\\Local\\miniconda3\\envs\\ml-env\\Lib\\site-packages\\sklearn\\metrics\\_classification.py:1725\u001b[0m, in \u001b[0;36mprecision_recall_fscore_support\u001b[1;34m(y_true, y_pred, beta, labels, pos_label, average, warn_for, sample_weight, zero_division)\u001b[0m\n\u001b[0;32m   1723\u001b[0m \u001b[38;5;66;03m# Calculate tp_sum, pred_sum, true_sum ###\u001b[39;00m\n\u001b[0;32m   1724\u001b[0m samplewise \u001b[38;5;241m=\u001b[39m average \u001b[38;5;241m==\u001b[39m \u001b[38;5;124m\"\u001b[39m\u001b[38;5;124msamples\u001b[39m\u001b[38;5;124m\"\u001b[39m\n\u001b[1;32m-> 1725\u001b[0m MCM \u001b[38;5;241m=\u001b[39m \u001b[43mmultilabel_confusion_matrix\u001b[49m\u001b[43m(\u001b[49m\n\u001b[0;32m   1726\u001b[0m \u001b[43m    \u001b[49m\u001b[43my_true\u001b[49m\u001b[43m,\u001b[49m\n\u001b[0;32m   1727\u001b[0m \u001b[43m    \u001b[49m\u001b[43my_pred\u001b[49m\u001b[43m,\u001b[49m\n\u001b[0;32m   1728\u001b[0m \u001b[43m    \u001b[49m\u001b[43msample_weight\u001b[49m\u001b[38;5;241;43m=\u001b[39;49m\u001b[43msample_weight\u001b[49m\u001b[43m,\u001b[49m\n\u001b[0;32m   1729\u001b[0m \u001b[43m    \u001b[49m\u001b[43mlabels\u001b[49m\u001b[38;5;241;43m=\u001b[39;49m\u001b[43mlabels\u001b[49m\u001b[43m,\u001b[49m\n\u001b[0;32m   1730\u001b[0m \u001b[43m    \u001b[49m\u001b[43msamplewise\u001b[49m\u001b[38;5;241;43m=\u001b[39;49m\u001b[43msamplewise\u001b[49m\u001b[43m,\u001b[49m\n\u001b[0;32m   1731\u001b[0m \u001b[43m\u001b[49m\u001b[43m)\u001b[49m\n\u001b[0;32m   1732\u001b[0m tp_sum \u001b[38;5;241m=\u001b[39m MCM[:, \u001b[38;5;241m1\u001b[39m, \u001b[38;5;241m1\u001b[39m]\n\u001b[0;32m   1733\u001b[0m pred_sum \u001b[38;5;241m=\u001b[39m tp_sum \u001b[38;5;241m+\u001b[39m MCM[:, \u001b[38;5;241m0\u001b[39m, \u001b[38;5;241m1\u001b[39m]\n",
      "File \u001b[1;32mc:\\Users\\smbm2\\AppData\\Local\\miniconda3\\envs\\ml-env\\Lib\\site-packages\\sklearn\\utils\\_param_validation.py:184\u001b[0m, in \u001b[0;36mvalidate_params.<locals>.decorator.<locals>.wrapper\u001b[1;34m(*args, **kwargs)\u001b[0m\n\u001b[0;32m    182\u001b[0m global_skip_validation \u001b[38;5;241m=\u001b[39m get_config()[\u001b[38;5;124m\"\u001b[39m\u001b[38;5;124mskip_parameter_validation\u001b[39m\u001b[38;5;124m\"\u001b[39m]\n\u001b[0;32m    183\u001b[0m \u001b[38;5;28;01mif\u001b[39;00m global_skip_validation:\n\u001b[1;32m--> 184\u001b[0m     \u001b[38;5;28;01mreturn\u001b[39;00m \u001b[43mfunc\u001b[49m\u001b[43m(\u001b[49m\u001b[38;5;241;43m*\u001b[39;49m\u001b[43margs\u001b[49m\u001b[43m,\u001b[49m\u001b[43m \u001b[49m\u001b[38;5;241;43m*\u001b[39;49m\u001b[38;5;241;43m*\u001b[39;49m\u001b[43mkwargs\u001b[49m\u001b[43m)\u001b[49m\n\u001b[0;32m    186\u001b[0m func_sig \u001b[38;5;241m=\u001b[39m signature(func)\n\u001b[0;32m    188\u001b[0m \u001b[38;5;66;03m# Map *args/**kwargs to the function signature\u001b[39;00m\n",
      "File \u001b[1;32mc:\\Users\\smbm2\\AppData\\Local\\miniconda3\\envs\\ml-env\\Lib\\site-packages\\sklearn\\metrics\\_classification.py:505\u001b[0m, in \u001b[0;36mmultilabel_confusion_matrix\u001b[1;34m(y_true, y_pred, sample_weight, labels, samplewise)\u001b[0m\n\u001b[0;32m    395\u001b[0m \u001b[38;5;129m@validate_params\u001b[39m(\n\u001b[0;32m    396\u001b[0m     {\n\u001b[0;32m    397\u001b[0m         \u001b[38;5;124m\"\u001b[39m\u001b[38;5;124my_true\u001b[39m\u001b[38;5;124m\"\u001b[39m: [\u001b[38;5;124m\"\u001b[39m\u001b[38;5;124marray-like\u001b[39m\u001b[38;5;124m\"\u001b[39m, \u001b[38;5;124m\"\u001b[39m\u001b[38;5;124msparse matrix\u001b[39m\u001b[38;5;124m\"\u001b[39m],\n\u001b[1;32m   (...)\u001b[0m\n\u001b[0;32m    406\u001b[0m     y_true, y_pred, \u001b[38;5;241m*\u001b[39m, sample_weight\u001b[38;5;241m=\u001b[39m\u001b[38;5;28;01mNone\u001b[39;00m, labels\u001b[38;5;241m=\u001b[39m\u001b[38;5;28;01mNone\u001b[39;00m, samplewise\u001b[38;5;241m=\u001b[39m\u001b[38;5;28;01mFalse\u001b[39;00m\n\u001b[0;32m    407\u001b[0m ):\n\u001b[0;32m    408\u001b[0m \u001b[38;5;250m    \u001b[39m\u001b[38;5;124;03m\"\"\"Compute a confusion matrix for each class or sample.\u001b[39;00m\n\u001b[0;32m    409\u001b[0m \n\u001b[0;32m    410\u001b[0m \u001b[38;5;124;03m    .. versionadded:: 0.21\u001b[39;00m\n\u001b[1;32m   (...)\u001b[0m\n\u001b[0;32m    503\u001b[0m \u001b[38;5;124;03m            [1, 2]]])\u001b[39;00m\n\u001b[0;32m    504\u001b[0m \u001b[38;5;124;03m    \"\"\"\u001b[39;00m\n\u001b[1;32m--> 505\u001b[0m     y_type, y_true, y_pred \u001b[38;5;241m=\u001b[39m \u001b[43m_check_targets\u001b[49m\u001b[43m(\u001b[49m\u001b[43my_true\u001b[49m\u001b[43m,\u001b[49m\u001b[43m \u001b[49m\u001b[43my_pred\u001b[49m\u001b[43m)\u001b[49m\n\u001b[0;32m    506\u001b[0m     \u001b[38;5;28;01mif\u001b[39;00m sample_weight \u001b[38;5;129;01mis\u001b[39;00m \u001b[38;5;129;01mnot\u001b[39;00m \u001b[38;5;28;01mNone\u001b[39;00m:\n\u001b[0;32m    507\u001b[0m         sample_weight \u001b[38;5;241m=\u001b[39m column_or_1d(sample_weight)\n",
      "File \u001b[1;32mc:\\Users\\smbm2\\AppData\\Local\\miniconda3\\envs\\ml-env\\Lib\\site-packages\\sklearn\\metrics\\_classification.py:86\u001b[0m, in \u001b[0;36m_check_targets\u001b[1;34m(y_true, y_pred)\u001b[0m\n\u001b[0;32m     84\u001b[0m check_consistent_length(y_true, y_pred)\n\u001b[0;32m     85\u001b[0m type_true \u001b[38;5;241m=\u001b[39m type_of_target(y_true, input_name\u001b[38;5;241m=\u001b[39m\u001b[38;5;124m\"\u001b[39m\u001b[38;5;124my_true\u001b[39m\u001b[38;5;124m\"\u001b[39m)\n\u001b[1;32m---> 86\u001b[0m type_pred \u001b[38;5;241m=\u001b[39m \u001b[43mtype_of_target\u001b[49m\u001b[43m(\u001b[49m\u001b[43my_pred\u001b[49m\u001b[43m,\u001b[49m\u001b[43m \u001b[49m\u001b[43minput_name\u001b[49m\u001b[38;5;241;43m=\u001b[39;49m\u001b[38;5;124;43m\"\u001b[39;49m\u001b[38;5;124;43my_pred\u001b[39;49m\u001b[38;5;124;43m\"\u001b[39;49m\u001b[43m)\u001b[49m\n\u001b[0;32m     88\u001b[0m y_type \u001b[38;5;241m=\u001b[39m {type_true, type_pred}\n\u001b[0;32m     89\u001b[0m \u001b[38;5;28;01mif\u001b[39;00m y_type \u001b[38;5;241m==\u001b[39m {\u001b[38;5;124m\"\u001b[39m\u001b[38;5;124mbinary\u001b[39m\u001b[38;5;124m\"\u001b[39m, \u001b[38;5;124m\"\u001b[39m\u001b[38;5;124mmulticlass\u001b[39m\u001b[38;5;124m\"\u001b[39m}:\n",
      "File \u001b[1;32mc:\\Users\\smbm2\\AppData\\Local\\miniconda3\\envs\\ml-env\\Lib\\site-packages\\sklearn\\utils\\multiclass.py:387\u001b[0m, in \u001b[0;36mtype_of_target\u001b[1;34m(y, input_name)\u001b[0m\n\u001b[0;32m    385\u001b[0m \u001b[38;5;66;03m# Check multiclass\u001b[39;00m\n\u001b[0;32m    386\u001b[0m first_row \u001b[38;5;241m=\u001b[39m y[\u001b[38;5;241m0\u001b[39m] \u001b[38;5;28;01mif\u001b[39;00m \u001b[38;5;129;01mnot\u001b[39;00m issparse(y) \u001b[38;5;28;01melse\u001b[39;00m y\u001b[38;5;241m.\u001b[39mgetrow(\u001b[38;5;241m0\u001b[39m)\u001b[38;5;241m.\u001b[39mdata\n\u001b[1;32m--> 387\u001b[0m \u001b[38;5;28;01mif\u001b[39;00m \u001b[43mxp\u001b[49m\u001b[38;5;241;43m.\u001b[39;49m\u001b[43munique_values\u001b[49m\u001b[43m(\u001b[49m\u001b[43my\u001b[49m\u001b[43m)\u001b[49m\u001b[38;5;241m.\u001b[39mshape[\u001b[38;5;241m0\u001b[39m] \u001b[38;5;241m>\u001b[39m \u001b[38;5;241m2\u001b[39m \u001b[38;5;129;01mor\u001b[39;00m (y\u001b[38;5;241m.\u001b[39mndim \u001b[38;5;241m==\u001b[39m \u001b[38;5;241m2\u001b[39m \u001b[38;5;129;01mand\u001b[39;00m \u001b[38;5;28mlen\u001b[39m(first_row) \u001b[38;5;241m>\u001b[39m \u001b[38;5;241m1\u001b[39m):\n\u001b[0;32m    388\u001b[0m     \u001b[38;5;66;03m# [1, 2, 3] or [[1., 2., 3]] or [[1, 2]]\u001b[39;00m\n\u001b[0;32m    389\u001b[0m     \u001b[38;5;28;01mreturn\u001b[39;00m \u001b[38;5;124m\"\u001b[39m\u001b[38;5;124mmulticlass\u001b[39m\u001b[38;5;124m\"\u001b[39m \u001b[38;5;241m+\u001b[39m suffix\n\u001b[0;32m    390\u001b[0m \u001b[38;5;28;01melse\u001b[39;00m:\n",
      "File \u001b[1;32mc:\\Users\\smbm2\\AppData\\Local\\miniconda3\\envs\\ml-env\\Lib\\site-packages\\sklearn\\utils\\_array_api.py:262\u001b[0m, in \u001b[0;36m_NumPyAPIWrapper.unique_values\u001b[1;34m(self, x)\u001b[0m\n\u001b[0;32m    261\u001b[0m \u001b[38;5;28;01mdef\u001b[39;00m \u001b[38;5;21munique_values\u001b[39m(\u001b[38;5;28mself\u001b[39m, x):\n\u001b[1;32m--> 262\u001b[0m     \u001b[38;5;28;01mreturn\u001b[39;00m \u001b[43mnumpy\u001b[49m\u001b[38;5;241;43m.\u001b[39;49m\u001b[43munique\u001b[49m\u001b[43m(\u001b[49m\u001b[43mx\u001b[49m\u001b[43m)\u001b[49m\n",
      "File \u001b[1;32mc:\\Users\\smbm2\\AppData\\Local\\miniconda3\\envs\\ml-env\\Lib\\site-packages\\numpy\\lib\\arraysetops.py:274\u001b[0m, in \u001b[0;36munique\u001b[1;34m(ar, return_index, return_inverse, return_counts, axis, equal_nan)\u001b[0m\n\u001b[0;32m    272\u001b[0m ar \u001b[38;5;241m=\u001b[39m np\u001b[38;5;241m.\u001b[39masanyarray(ar)\n\u001b[0;32m    273\u001b[0m \u001b[38;5;28;01mif\u001b[39;00m axis \u001b[38;5;129;01mis\u001b[39;00m \u001b[38;5;28;01mNone\u001b[39;00m:\n\u001b[1;32m--> 274\u001b[0m     ret \u001b[38;5;241m=\u001b[39m \u001b[43m_unique1d\u001b[49m\u001b[43m(\u001b[49m\u001b[43mar\u001b[49m\u001b[43m,\u001b[49m\u001b[43m \u001b[49m\u001b[43mreturn_index\u001b[49m\u001b[43m,\u001b[49m\u001b[43m \u001b[49m\u001b[43mreturn_inverse\u001b[49m\u001b[43m,\u001b[49m\u001b[43m \u001b[49m\u001b[43mreturn_counts\u001b[49m\u001b[43m,\u001b[49m\u001b[43m \u001b[49m\n\u001b[0;32m    275\u001b[0m \u001b[43m                    \u001b[49m\u001b[43mequal_nan\u001b[49m\u001b[38;5;241;43m=\u001b[39;49m\u001b[43mequal_nan\u001b[49m\u001b[43m)\u001b[49m\n\u001b[0;32m    276\u001b[0m     \u001b[38;5;28;01mreturn\u001b[39;00m _unpack_tuple(ret)\n\u001b[0;32m    278\u001b[0m \u001b[38;5;66;03m# axis was specified and not None\u001b[39;00m\n",
      "File \u001b[1;32mc:\\Users\\smbm2\\AppData\\Local\\miniconda3\\envs\\ml-env\\Lib\\site-packages\\numpy\\lib\\arraysetops.py:328\u001b[0m, in \u001b[0;36m_unique1d\u001b[1;34m(ar, return_index, return_inverse, return_counts, equal_nan)\u001b[0m\n\u001b[0;32m    323\u001b[0m \u001b[38;5;28;01mdef\u001b[39;00m \u001b[38;5;21m_unique1d\u001b[39m(ar, return_index\u001b[38;5;241m=\u001b[39m\u001b[38;5;28;01mFalse\u001b[39;00m, return_inverse\u001b[38;5;241m=\u001b[39m\u001b[38;5;28;01mFalse\u001b[39;00m,\n\u001b[0;32m    324\u001b[0m               return_counts\u001b[38;5;241m=\u001b[39m\u001b[38;5;28;01mFalse\u001b[39;00m, \u001b[38;5;241m*\u001b[39m, equal_nan\u001b[38;5;241m=\u001b[39m\u001b[38;5;28;01mTrue\u001b[39;00m):\n\u001b[0;32m    325\u001b[0m \u001b[38;5;250m    \u001b[39m\u001b[38;5;124;03m\"\"\"\u001b[39;00m\n\u001b[0;32m    326\u001b[0m \u001b[38;5;124;03m    Find the unique elements of an array, ignoring shape.\u001b[39;00m\n\u001b[0;32m    327\u001b[0m \u001b[38;5;124;03m    \"\"\"\u001b[39;00m\n\u001b[1;32m--> 328\u001b[0m     ar \u001b[38;5;241m=\u001b[39m np\u001b[38;5;241m.\u001b[39masanyarray(ar)\u001b[38;5;241m.\u001b[39mflatten()\n\u001b[0;32m    330\u001b[0m     optional_indices \u001b[38;5;241m=\u001b[39m return_index \u001b[38;5;129;01mor\u001b[39;00m return_inverse\n\u001b[0;32m    332\u001b[0m     \u001b[38;5;28;01mif\u001b[39;00m optional_indices:\n",
      "\u001b[1;31mKeyboardInterrupt\u001b[0m: "
     ]
    }
   ],
   "source": [
    "output_directory = './output.csv'\n",
    "run_experiment(DTEmlp4b, trails=5, output_directory=output_directory)"
   ]
  }
 ],
 "metadata": {
  "kernelspec": {
   "display_name": "vit",
   "language": "python",
   "name": "python3"
  },
  "language_info": {
   "codemirror_mode": {
    "name": "ipython",
    "version": 3
   },
   "file_extension": ".py",
   "mimetype": "text/x-python",
   "name": "python",
   "nbconvert_exporter": "python",
   "pygments_lexer": "ipython3",
   "version": "3.11.4"
  }
 },
 "nbformat": 4,
 "nbformat_minor": 2
}
